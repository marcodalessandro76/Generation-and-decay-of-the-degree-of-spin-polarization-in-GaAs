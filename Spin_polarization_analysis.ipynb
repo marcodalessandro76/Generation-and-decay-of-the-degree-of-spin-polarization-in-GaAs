{
 "cells": [
  {
   "cell_type": "code",
   "execution_count": 1,
   "metadata": {},
   "outputs": [],
   "source": [
    "import numpy as np\n",
    "import os\n",
    "import matplotlib.pyplot as plt\n",
    "from importlib import reload\n",
    "from mppi import InputFiles as I, Calculators as C, Datasets as D"
   ]
  },
  {
   "cell_type": "markdown",
   "metadata": {},
   "source": [
    "# Analysis of the spin polarization"
   ]
  },
  {
   "cell_type": "markdown",
   "metadata": {},
   "source": [
    "We perform the analysis of the spin polarization for the neq distribution using the ypp_rt post-processing data.\n",
    "\n",
    "We consider the various samplings of the k-points"
   ]
  },
  {
   "cell_type": "markdown",
   "metadata": {},
   "source": [
    "## k = 8x8x8"
   ]
  },
  {
   "cell_type": "code",
   "execution_count": 38,
   "metadata": {},
   "outputs": [],
   "source": [
    "data_dir = 'rt_k8/FixSymm/'\n",
    "last_time = '240.000'"
   ]
  },
  {
   "cell_type": "code",
   "execution_count": 39,
   "metadata": {},
   "outputs": [],
   "source": [
    "# circular polarization spanning a given frequencies range\n",
    "freq_range = [1.15,1.25,1.35,1.45,1.55,1.65,1.75,1.85]\n",
    "# linear polarization for a single frequency\n",
    "lin_freq = 1.55\n",
    "# reversed circular polarization for a single frequency\n",
    "reversed_circ_freq = 1.55"
   ]
  },
  {
   "cell_type": "markdown",
   "metadata": {},
   "source": [
    "We compute the total number of electrons in the conduction band, for a given frequency, (at the last simulation time) for each spin polarization"
   ]
  },
  {
   "cell_type": "code",
   "execution_count": 40,
   "metadata": {},
   "outputs": [
    {
     "name": "stdout",
     "output_type": "stream",
     "text": [
      "frequency =  1.85\n"
     ]
    }
   ],
   "source": [
    "f = freq_range[7]\n",
    "print('frequency = ',f)\n",
    "file_tot = data_dir+'/ypp_freq_%s-pol_circular/o-freq_%s-pol_circular.YPP-RT_occupations_DATA'%(f,f)\n",
    "file_up = data_dir+'/ypp_freq_%s-pol_circular/o-freq_%s-pol_circular.YPP-RT_occupations_up_DATA'%(f,f)\n",
    "file_dn = data_dir+'/ypp_freq_%s-pol_circular/o-freq_%s-pol_circular.YPP-RT_occupations_dn_DATA'%(f,f)\n",
    "data_tot = C.dict_parser(file_tot)\n",
    "data_up = C.dict_parser(file_up)\n",
    "data_dn = C.dict_parser(file_dn)"
   ]
  },
  {
   "cell_type": "code",
   "execution_count": 41,
   "metadata": {},
   "outputs": [],
   "source": [
    "energies = data_tot['E']\n",
    "carriers_up = data_up[last_time]\n",
    "carriers_dn = data_dn[last_time]\n",
    "carriers_tot = data_tot[last_time]"
   ]
  },
  {
   "cell_type": "code",
   "execution_count": 42,
   "metadata": {},
   "outputs": [
    {
     "data": {
      "text/plain": [
       "<matplotlib.collections.PathCollection at 0x7f7fd8400a58>"
      ]
     },
     "execution_count": 42,
     "metadata": {},
     "output_type": "execute_result"
    },
    {
     "data": {
      "image/png": "[encoded data removed]",
      "text/plain": [
       "<Figure size 432x288 with 1 Axes>"
      ]
     },
     "metadata": {
      "needs_background": "light"
     },
     "output_type": "display_data"
    }
   ],
   "source": [
    "plt.scatter(energies,carriers_up)\n",
    "plt.scatter(energies,carriers_dn)"
   ]
  },
  {
   "cell_type": "markdown",
   "metadata": {},
   "source": [
    "The total number of carriers in the conduction band is computed by integrating the carriers for energies > 0"
   ]
  },
  {
   "cell_type": "code",
   "execution_count": 43,
   "metadata": {},
   "outputs": [
    {
     "name": "stdout",
     "output_type": "stream",
     "text": [
      "2048 1.418\n"
     ]
    }
   ],
   "source": [
    "cond_thrs = 0\n",
    "for e in energies:\n",
    "    if e>0:\n",
    "        cond_thrs = energies.index(e)\n",
    "        break\n",
    "print(cond_thrs,energies[cond_thrs])"
   ]
  },
  {
   "cell_type": "code",
   "execution_count": 44,
   "metadata": {},
   "outputs": [
    {
     "name": "stdout",
     "output_type": "stream",
     "text": [
      "0.029930951794199908 0.01949398944019995 0.04942494123439986 0.04942834239999993\n",
      "spin polarization =  21.115339595122602\n"
     ]
    }
   ],
   "source": [
    "cond_up = sum(carriers_up[cond_thrs:])\n",
    "cond_dn = sum(carriers_dn[cond_thrs:])\n",
    "cond_tot = sum(carriers_tot[cond_thrs:])\n",
    "print(cond_up,cond_dn,cond_up+cond_dn,cond_tot)\n",
    "delta = (cond_up-cond_dn)/cond_tot*100\n",
    "print('spin polarization = ',delta)"
   ]
  },
  {
   "cell_type": "markdown",
   "metadata": {},
   "source": [
    "We compute the spin polarization for all the frequency range"
   ]
  },
  {
   "cell_type": "code",
   "execution_count": 45,
   "metadata": {
    "scrolled": false
   },
   "outputs": [
    {
     "data": {
      "image/png": "[encoded data removed]",
      "text/plain": [
       "<Figure size 432x288 with 1 Axes>"
      ]
     },
     "metadata": {
      "needs_background": "light"
     },
     "output_type": "display_data"
    },
    {
     "data": {
      "text/plain": [
       "<matplotlib.collections.PathCollection at 0x7f7fd90719b0>"
      ]
     },
     "execution_count": 45,
     "metadata": {},
     "output_type": "execute_result"
    },
    {
     "data": {
      "image/png": "[encoded data removed]",
      "text/plain": [
       "<Figure size 432x288 with 1 Axes>"
      ]
     },
     "metadata": {
      "needs_background": "light"
     },
     "output_type": "display_data"
    }
   ],
   "source": [
    "spin_pol = []\n",
    "total_cond = []\n",
    "for f in freq_range:\n",
    "    file_tot = data_dir+'/ypp_freq_%s-pol_circular/o-freq_%s-pol_circular.YPP-RT_occupations_DATA'%(f,f)\n",
    "    file_up = data_dir+'/ypp_freq_%s-pol_circular/o-freq_%s-pol_circular.YPP-RT_occupations_up_DATA'%(f,f)\n",
    "    file_dn = data_dir+'/ypp_freq_%s-pol_circular/o-freq_%s-pol_circular.YPP-RT_occupations_dn_DATA'%(f,f)\n",
    "    data_tot = C.dict_parser(file_tot)\n",
    "    data_up = C.dict_parser(file_up)\n",
    "    data_dn = C.dict_parser(file_dn)\n",
    "    energies = data_tot['E']\n",
    "    carriers_up = data_up[last_time]\n",
    "    carriers_dn = data_dn[last_time]\n",
    "    carriers_tot = data_tot[last_time]\n",
    "    cond_thrs = 0\n",
    "    for e in energies:\n",
    "        if e>0:\n",
    "            cond_thrs = energies.index(e)\n",
    "            break\n",
    "    cond_up = sum(carriers_up[cond_thrs:])\n",
    "    cond_dn = sum(carriers_dn[cond_thrs:])\n",
    "    cond_tot = sum(carriers_tot[cond_thrs:])\n",
    "    total_cond.append(cond_tot)\n",
    "    spin_pol.append((cond_up-cond_dn)/cond_tot*100)\n",
    "plt.scatter(freq_range,total_cond)\n",
    "plt.title('Total carriers in conduction band',size = 14)\n",
    "plt.show()\n",
    "plt.title('Spin polarization',size = 14)\n",
    "plt.scatter(freq_range,spin_pol)"
   ]
  },
  {
   "cell_type": "markdown",
   "metadata": {},
   "source": [
    "## k = 8x8x8 shift"
   ]
  },
  {
   "cell_type": "code",
   "execution_count": 26,
   "metadata": {},
   "outputs": [],
   "source": [
    "data_dir = 'rt_k8_shift/FixSymm/'\n",
    "last_time = '240.000'"
   ]
  },
  {
   "cell_type": "code",
   "execution_count": 27,
   "metadata": {},
   "outputs": [],
   "source": [
    "# circular polarization spanning a given frequencies range\n",
    "freq_range = [1.15,1.25,1.35,1.45,1.55,1.65,1.75,1.85]\n",
    "# linear polarization for a single frequency\n",
    "lin_freq = 1.55\n",
    "# reversed circular polarization for a single frequency\n",
    "reversed_circ_freq = 1.55"
   ]
  },
  {
   "cell_type": "markdown",
   "metadata": {},
   "source": [
    "We compute the total number of electrons in the conduction band, for a given frequency, (at the last simulation time) for each spin polarization"
   ]
  },
  {
   "cell_type": "code",
   "execution_count": 28,
   "metadata": {},
   "outputs": [
    {
     "name": "stdout",
     "output_type": "stream",
     "text": [
      "frequency =  1.85\n"
     ]
    }
   ],
   "source": [
    "f = freq_range[7]\n",
    "print('frequency = ',f)\n",
    "file_tot = data_dir+'/ypp_freq_%s-pol_circular/o-freq_%s-pol_circular.YPP-RT_occupations_DATA'%(f,f)\n",
    "file_up = data_dir+'/ypp_freq_%s-pol_circular/o-freq_%s-pol_circular.YPP-RT_occupations_up_DATA'%(f,f)\n",
    "file_dn = data_dir+'/ypp_freq_%s-pol_circular/o-freq_%s-pol_circular.YPP-RT_occupations_dn_DATA'%(f,f)\n",
    "data_tot = C.dict_parser(file_tot)\n",
    "data_up = C.dict_parser(file_up)\n",
    "data_dn = C.dict_parser(file_dn)"
   ]
  },
  {
   "cell_type": "code",
   "execution_count": 29,
   "metadata": {},
   "outputs": [],
   "source": [
    "energies = data_tot['E']\n",
    "carriers_up = data_up[last_time]\n",
    "carriers_dn = data_dn[last_time]\n",
    "carriers_tot = data_tot[last_time]"
   ]
  },
  {
   "cell_type": "code",
   "execution_count": 30,
   "metadata": {},
   "outputs": [
    {
     "data": {
      "text/plain": [
       "<matplotlib.collections.PathCollection at 0x7f7fd8e32dd8>"
      ]
     },
     "execution_count": 30,
     "metadata": {},
     "output_type": "execute_result"
    },
    {
     "data": {
      "image/png": "[encoded data removed]",
      "text/plain": [
       "<Figure size 432x288 with 1 Axes>"
      ]
     },
     "metadata": {
      "needs_background": "light"
     },
     "output_type": "display_data"
    }
   ],
   "source": [
    "plt.scatter(energies,carriers_up)\n",
    "plt.scatter(energies,carriers_dn)"
   ]
  },
  {
   "cell_type": "markdown",
   "metadata": {},
   "source": [
    "The total number of carriers in the conduction band is computed by integrating the carriers for energies > 0"
   ]
  },
  {
   "cell_type": "code",
   "execution_count": 31,
   "metadata": {},
   "outputs": [
    {
     "name": "stdout",
     "output_type": "stream",
     "text": [
      "8192 1.938\n"
     ]
    }
   ],
   "source": [
    "cond_thrs = 0\n",
    "for e in energies:\n",
    "    if e>0:\n",
    "        cond_thrs = energies.index(e)\n",
    "        break\n",
    "print(cond_thrs,energies[cond_thrs])"
   ]
  },
  {
   "cell_type": "code",
   "execution_count": 32,
   "metadata": {},
   "outputs": [
    {
     "name": "stdout",
     "output_type": "stream",
     "text": [
      "0.0309762544000002 0.03253215468000026 0.06350840908000047 0.0635055320000009\n",
      "spin polarization =  -2.450023220024414\n"
     ]
    }
   ],
   "source": [
    "cond_up = sum(carriers_up[cond_thrs:])\n",
    "cond_dn = sum(carriers_dn[cond_thrs:])\n",
    "cond_tot = sum(carriers_tot[cond_thrs:])\n",
    "print(cond_up,cond_dn,cond_up+cond_dn,cond_tot)\n",
    "delta = (cond_up-cond_dn)/cond_tot*100\n",
    "print('spin polarization = ',delta)"
   ]
  },
  {
   "cell_type": "markdown",
   "metadata": {},
   "source": [
    "We compute the spin polarization for all the frequency range"
   ]
  },
  {
   "cell_type": "code",
   "execution_count": 37,
   "metadata": {
    "scrolled": false
   },
   "outputs": [
    {
     "data": {
      "image/png": "[encoded data removed]",
      "text/plain": [
       "<Figure size 432x288 with 1 Axes>"
      ]
     },
     "metadata": {
      "needs_background": "light"
     },
     "output_type": "display_data"
    },
    {
     "data": {
      "text/plain": [
       "<matplotlib.collections.PathCollection at 0x7f7fd8d0acc0>"
      ]
     },
     "execution_count": 37,
     "metadata": {},
     "output_type": "execute_result"
    },
    {
     "data": {
      "image/png": "[encoded data removed]",
      "text/plain": [
       "<Figure size 432x288 with 1 Axes>"
      ]
     },
     "metadata": {
      "needs_background": "light"
     },
     "output_type": "display_data"
    }
   ],
   "source": [
    "spin_pol = []\n",
    "total_cond = []\n",
    "for f in freq_range:\n",
    "    file_tot = data_dir+'/ypp_freq_%s-pol_circular/o-freq_%s-pol_circular.YPP-RT_occupations_DATA'%(f,f)\n",
    "    file_up = data_dir+'/ypp_freq_%s-pol_circular/o-freq_%s-pol_circular.YPP-RT_occupations_up_DATA'%(f,f)\n",
    "    file_dn = data_dir+'/ypp_freq_%s-pol_circular/o-freq_%s-pol_circular.YPP-RT_occupations_dn_DATA'%(f,f)\n",
    "    data_tot = C.dict_parser(file_tot)\n",
    "    data_up = C.dict_parser(file_up)\n",
    "    data_dn = C.dict_parser(file_dn)\n",
    "    energies = data_tot['E']\n",
    "    carriers_up = data_up[last_time]\n",
    "    carriers_dn = data_dn[last_time]\n",
    "    carriers_tot = data_tot[last_time]\n",
    "    cond_thrs = 0\n",
    "    for e in energies:\n",
    "        if e>0:\n",
    "            cond_thrs = energies.index(e)\n",
    "            break\n",
    "    cond_up = sum(carriers_up[cond_thrs:])\n",
    "    cond_dn = sum(carriers_dn[cond_thrs:])\n",
    "    cond_tot = sum(carriers_tot[cond_thrs:])\n",
    "    total_cond.append(cond_tot)\n",
    "    spin_pol.append((cond_up-cond_dn)/cond_tot*100)\n",
    "plt.scatter(freq_range,total_cond)\n",
    "plt.title('Total carriers in conduction band',size = 14)\n",
    "plt.show()\n",
    "plt.title('Spin polarization',size = 14)\n",
    "plt.scatter(freq_range,spin_pol)"
   ]
  },
  {
   "cell_type": "markdown",
   "metadata": {},
   "source": [
    "## k = 10x10x10 shift"
   ]
  },
  {
   "cell_type": "code",
   "execution_count": 46,
   "metadata": {},
   "outputs": [],
   "source": [
    "data_dir = 'rt_k10_shift/FixSymm/'\n",
    "last_time = '240.000'"
   ]
  },
  {
   "cell_type": "code",
   "execution_count": 47,
   "metadata": {},
   "outputs": [],
   "source": [
    "# circular polarization spanning a given frequencies range\n",
    "freq_range = [1.15,1.25,1.35,1.45,1.55,1.65,1.75,1.85]\n",
    "# linear polarization for a single frequency\n",
    "lin_freq = 1.55\n",
    "# reversed circular polarization for a single frequency\n",
    "reversed_circ_freq = 1.55"
   ]
  },
  {
   "cell_type": "markdown",
   "metadata": {},
   "source": [
    "We compute the total number of electrons in the conduction band, for a given frequency, (at the last simulation time) for each spin polarization"
   ]
  },
  {
   "cell_type": "code",
   "execution_count": 53,
   "metadata": {},
   "outputs": [
    {
     "name": "stdout",
     "output_type": "stream",
     "text": [
      "frequency =  1.85\n"
     ]
    }
   ],
   "source": [
    "f = freq_range[7]\n",
    "print('frequency = ',f)\n",
    "file_tot = data_dir+'/ypp_freq_%s-pol_circular/o-freq_%s-pol_circular.YPP-RT_occupations_DATA'%(f,f)\n",
    "file_up = data_dir+'/ypp_freq_%s-pol_circular/o-freq_%s-pol_circular.YPP-RT_occupations_up_DATA'%(f,f)\n",
    "file_dn = data_dir+'/ypp_freq_%s-pol_circular/o-freq_%s-pol_circular.YPP-RT_occupations_dn_DATA'%(f,f)\n",
    "data_tot = C.dict_parser(file_tot)\n",
    "data_up = C.dict_parser(file_up)\n",
    "data_dn = C.dict_parser(file_dn)"
   ]
  },
  {
   "cell_type": "code",
   "execution_count": 54,
   "metadata": {},
   "outputs": [],
   "source": [
    "energies = data_tot['E']\n",
    "carriers_up = data_up[last_time]\n",
    "carriers_dn = data_dn[last_time]\n",
    "carriers_tot = data_tot[last_time]"
   ]
  },
  {
   "cell_type": "code",
   "execution_count": 55,
   "metadata": {},
   "outputs": [
    {
     "data": {
      "text/plain": [
       "<matplotlib.collections.PathCollection at 0x7f7fdb717278>"
      ]
     },
     "execution_count": 55,
     "metadata": {},
     "output_type": "execute_result"
    },
    {
     "data": {
      "image/png": "[encoded data removed]",
      "text/plain": [
       "<Figure size 432x288 with 1 Axes>"
      ]
     },
     "metadata": {
      "needs_background": "light"
     },
     "output_type": "display_data"
    }
   ],
   "source": [
    "plt.scatter(energies,carriers_up)\n",
    "plt.scatter(energies,carriers_dn)"
   ]
  },
  {
   "cell_type": "markdown",
   "metadata": {},
   "source": [
    "The total number of carriers in the conduction band is computed by integrating the carriers for energies > 0"
   ]
  },
  {
   "cell_type": "code",
   "execution_count": 56,
   "metadata": {},
   "outputs": [
    {
     "name": "stdout",
     "output_type": "stream",
     "text": [
      "16000 1.9\n"
     ]
    }
   ],
   "source": [
    "cond_thrs = 0\n",
    "for e in energies:\n",
    "    if e>0:\n",
    "        cond_thrs = energies.index(e)\n",
    "        break\n",
    "print(cond_thrs,energies[cond_thrs])"
   ]
  },
  {
   "cell_type": "code",
   "execution_count": 57,
   "metadata": {},
   "outputs": [
    {
     "name": "stdout",
     "output_type": "stream",
     "text": [
      "0.0022847337933999557 0.0012508106854000156 0.0035355444787999713 0.0035358767879999993\n",
      "spin polarization =  29.2409258011719\n"
     ]
    }
   ],
   "source": [
    "cond_up = sum(carriers_up[cond_thrs:])\n",
    "cond_dn = sum(carriers_dn[cond_thrs:])\n",
    "cond_tot = sum(carriers_tot[cond_thrs:])\n",
    "print(cond_up,cond_dn,cond_up+cond_dn,cond_tot)\n",
    "delta = (cond_up-cond_dn)/cond_tot*100\n",
    "print('spin polarization = ',delta)"
   ]
  },
  {
   "cell_type": "markdown",
   "metadata": {},
   "source": [
    "We compute the spin polarization for all the frequency range"
   ]
  },
  {
   "cell_type": "code",
   "execution_count": 58,
   "metadata": {
    "scrolled": true
   },
   "outputs": [
    {
     "data": {
      "image/png": "[encoded data removed]",
      "text/plain": [
       "<Figure size 432x288 with 1 Axes>"
      ]
     },
     "metadata": {
      "needs_background": "light"
     },
     "output_type": "display_data"
    },
    {
     "data": {
      "text/plain": [
       "<matplotlib.collections.PathCollection at 0x7f7fd66b3ac8>"
      ]
     },
     "execution_count": 58,
     "metadata": {},
     "output_type": "execute_result"
    },
    {
     "data": {
      "image/png": "[encoded data removed]",
      "text/plain": [
       "<Figure size 432x288 with 1 Axes>"
      ]
     },
     "metadata": {
      "needs_background": "light"
     },
     "output_type": "display_data"
    }
   ],
   "source": [
    "spin_pol = []\n",
    "total_cond = []\n",
    "for f in freq_range:\n",
    "    file_tot = data_dir+'/ypp_freq_%s-pol_circular/o-freq_%s-pol_circular.YPP-RT_occupations_DATA'%(f,f)\n",
    "    file_up = data_dir+'/ypp_freq_%s-pol_circular/o-freq_%s-pol_circular.YPP-RT_occupations_up_DATA'%(f,f)\n",
    "    file_dn = data_dir+'/ypp_freq_%s-pol_circular/o-freq_%s-pol_circular.YPP-RT_occupations_dn_DATA'%(f,f)\n",
    "    data_tot = C.dict_parser(file_tot)\n",
    "    data_up = C.dict_parser(file_up)\n",
    "    data_dn = C.dict_parser(file_dn)\n",
    "    energies = data_tot['E']\n",
    "    carriers_up = data_up[last_time]\n",
    "    carriers_dn = data_dn[last_time]\n",
    "    carriers_tot = data_tot[last_time]\n",
    "    cond_thrs = 0\n",
    "    for e in energies:\n",
    "        if e>0:\n",
    "            cond_thrs = energies.index(e)\n",
    "            break\n",
    "    cond_up = sum(carriers_up[cond_thrs:])\n",
    "    cond_dn = sum(carriers_dn[cond_thrs:])\n",
    "    cond_tot = sum(carriers_tot[cond_thrs:])\n",
    "    total_cond.append(cond_tot)\n",
    "    spin_pol.append((cond_up-cond_dn)/cond_tot*100)\n",
    "plt.scatter(freq_range,total_cond)\n",
    "plt.title('Total carriers in conduction band',size = 14)\n",
    "plt.show()\n",
    "plt.title('Spin polarization',size = 14)\n",
    "plt.scatter(freq_range,spin_pol)"
   ]
  },
  {
   "cell_type": "markdown",
   "metadata": {},
   "source": [
    "## k = 100 random (k range of 0.1 centred in Gamma)"
   ]
  },
  {
   "cell_type": "code",
   "execution_count": 59,
   "metadata": {},
   "outputs": [],
   "source": [
    "data_dir = 'rt_k100_random/FixSymm/'\n",
    "last_time = '240.000'"
   ]
  },
  {
   "cell_type": "code",
   "execution_count": 60,
   "metadata": {},
   "outputs": [],
   "source": [
    "# circular polarization spanning a given frequencies range\n",
    "freq_range = [1.15,1.25,1.35,1.45,1.55,1.65,1.75,1.85]\n",
    "# linear polarization for a single frequency\n",
    "lin_freq = 1.55\n",
    "# reversed circular polarization for a single frequency\n",
    "reversed_circ_freq = 1.55"
   ]
  },
  {
   "cell_type": "markdown",
   "metadata": {},
   "source": [
    "We compute the total number of electrons in the conduction band, for a given frequency, (at the last simulation time) for each spin polarization"
   ]
  },
  {
   "cell_type": "code",
   "execution_count": 62,
   "metadata": {},
   "outputs": [
    {
     "name": "stdout",
     "output_type": "stream",
     "text": [
      "frequency =  1.55\n"
     ]
    }
   ],
   "source": [
    "f = freq_range[4]\n",
    "print('frequency = ',f)\n",
    "file_tot = data_dir+'/ypp_freq_%s-pol_circular/o-freq_%s-pol_circular.YPP-RT_occupations_DATA'%(f,f)\n",
    "file_up = data_dir+'/ypp_freq_%s-pol_circular/o-freq_%s-pol_circular.YPP-RT_occupations_up_DATA'%(f,f)\n",
    "file_dn = data_dir+'/ypp_freq_%s-pol_circular/o-freq_%s-pol_circular.YPP-RT_occupations_dn_DATA'%(f,f)\n",
    "data_tot = C.dict_parser(file_tot)\n",
    "data_up = C.dict_parser(file_up)\n",
    "data_dn = C.dict_parser(file_dn)"
   ]
  },
  {
   "cell_type": "code",
   "execution_count": 63,
   "metadata": {},
   "outputs": [],
   "source": [
    "energies = data_tot['E']\n",
    "carriers_up = data_up[last_time]\n",
    "carriers_dn = data_dn[last_time]\n",
    "carriers_tot = data_tot[last_time]"
   ]
  },
  {
   "cell_type": "code",
   "execution_count": 65,
   "metadata": {},
   "outputs": [
    {
     "data": {
      "text/plain": [
       "<matplotlib.collections.PathCollection at 0x7f7fd7bcf7f0>"
      ]
     },
     "execution_count": 65,
     "metadata": {},
     "output_type": "execute_result"
    },
    {
     "data": {
      "image/png": "[encoded data removed]",
      "text/plain": [
       "<Figure size 432x288 with 1 Axes>"
      ]
     },
     "metadata": {
      "needs_background": "light"
     },
     "output_type": "display_data"
    }
   ],
   "source": [
    "plt.scatter(energies,carriers_up)\n",
    "plt.scatter(energies,0.01+np.array(carriers_dn))"
   ]
  },
  {
   "cell_type": "markdown",
   "metadata": {},
   "source": [
    "The total number of carriers in the conduction band is computed by integrating the carriers for energies > 0"
   ]
  },
  {
   "cell_type": "code",
   "execution_count": 66,
   "metadata": {},
   "outputs": [
    {
     "name": "stdout",
     "output_type": "stream",
     "text": [
      "19200 1.461\n"
     ]
    }
   ],
   "source": [
    "cond_thrs = 0\n",
    "for e in energies:\n",
    "    if e>0:\n",
    "        cond_thrs = energies.index(e)\n",
    "        break\n",
    "print(cond_thrs,energies[cond_thrs])"
   ]
  },
  {
   "cell_type": "code",
   "execution_count": 67,
   "metadata": {},
   "outputs": [
    {
     "name": "stdout",
     "output_type": "stream",
     "text": [
      "2.8241443450000103 2.841999352999996 5.666143698000006 5.666101370000002\n",
      "spin polarization =  -0.31511981226671054\n"
     ]
    }
   ],
   "source": [
    "cond_up = sum(carriers_up[cond_thrs:])\n",
    "cond_dn = sum(carriers_dn[cond_thrs:])\n",
    "cond_tot = sum(carriers_tot[cond_thrs:])\n",
    "print(cond_up,cond_dn,cond_up+cond_dn,cond_tot)\n",
    "delta = (cond_up-cond_dn)/cond_tot*100\n",
    "print('spin polarization = ',delta)"
   ]
  },
  {
   "cell_type": "markdown",
   "metadata": {},
   "source": [
    "We compute the spin polarization for all the frequency range"
   ]
  },
  {
   "cell_type": "code",
   "execution_count": 68,
   "metadata": {
    "scrolled": false
   },
   "outputs": [
    {
     "data": {
      "image/png": "[encoded data removed]",
      "text/plain": [
       "<Figure size 432x288 with 1 Axes>"
      ]
     },
     "metadata": {
      "needs_background": "light"
     },
     "output_type": "display_data"
    },
    {
     "data": {
      "text/plain": [
       "<matplotlib.collections.PathCollection at 0x7f7fd5790978>"
      ]
     },
     "execution_count": 68,
     "metadata": {},
     "output_type": "execute_result"
    },
    {
     "data": {
      "image/png": "[encoded data removed]",
      "text/plain": [
       "<Figure size 432x288 with 1 Axes>"
      ]
     },
     "metadata": {
      "needs_background": "light"
     },
     "output_type": "display_data"
    }
   ],
   "source": [
    "spin_pol = []\n",
    "total_cond = []\n",
    "for f in freq_range:\n",
    "    file_tot = data_dir+'/ypp_freq_%s-pol_circular/o-freq_%s-pol_circular.YPP-RT_occupations_DATA'%(f,f)\n",
    "    file_up = data_dir+'/ypp_freq_%s-pol_circular/o-freq_%s-pol_circular.YPP-RT_occupations_up_DATA'%(f,f)\n",
    "    file_dn = data_dir+'/ypp_freq_%s-pol_circular/o-freq_%s-pol_circular.YPP-RT_occupations_dn_DATA'%(f,f)\n",
    "    data_tot = C.dict_parser(file_tot)\n",
    "    data_up = C.dict_parser(file_up)\n",
    "    data_dn = C.dict_parser(file_dn)\n",
    "    energies = data_tot['E']\n",
    "    carriers_up = data_up[last_time]\n",
    "    carriers_dn = data_dn[last_time]\n",
    "    carriers_tot = data_tot[last_time]\n",
    "    cond_thrs = 0\n",
    "    for e in energies:\n",
    "        if e>0:\n",
    "            cond_thrs = energies.index(e)\n",
    "            break\n",
    "    cond_up = sum(carriers_up[cond_thrs:])\n",
    "    cond_dn = sum(carriers_dn[cond_thrs:])\n",
    "    cond_tot = sum(carriers_tot[cond_thrs:])\n",
    "    total_cond.append(cond_tot)\n",
    "    spin_pol.append((cond_up-cond_dn)/cond_tot*100)\n",
    "plt.scatter(freq_range,total_cond)\n",
    "plt.title('Total carriers in conduction band',size = 14)\n",
    "plt.show()\n",
    "plt.title('Spin polarization',size = 14)\n",
    "plt.scatter(freq_range,spin_pol)"
   ]
  },
  {
   "cell_type": "code",
   "execution_count": null,
   "metadata": {},
   "outputs": [],
   "source": []
  },
  {
   "cell_type": "code",
   "execution_count": null,
   "metadata": {},
   "outputs": [],
   "source": []
  }
 ],
 "metadata": {
  "kernelspec": {
   "display_name": "Python 3",
   "language": "python",
   "name": "python3"
  },
  "language_info": {
   "codemirror_mode": {
    "name": "ipython",
    "version": 3
   },
   "file_extension": ".py",
   "mimetype": "text/x-python",
   "name": "python",
   "nbconvert_exporter": "python",
   "pygments_lexer": "ipython3",
   "version": "3.5.3"
  }
 },
 "nbformat": 4,
 "nbformat_minor": 2
}
