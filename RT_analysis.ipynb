{
 "cells": [
  {
   "cell_type": "code",
   "execution_count": 1,
   "metadata": {},
   "outputs": [],
   "source": [
    "import numpy as np\n",
    "import os\n",
    "import matplotlib.pyplot as plt\n",
    "from importlib import reload\n",
    "from mppi import InputFiles as I, Calculators as C, Datasets as D"
   ]
  },
  {
   "cell_type": "code",
   "execution_count": 2,
   "metadata": {},
   "outputs": [],
   "source": [
    "omp = 1\n",
    "mpi_run = 'mpirun -np 8'"
   ]
  },
  {
   "cell_type": "markdown",
   "metadata": {},
   "source": [
    "## Construction of the FixSymm folder"
   ]
  },
  {
   "cell_type": "markdown",
   "metadata": {},
   "source": [
    "The first step of this procedure is represented by the construction of the Yambo base folder with the SAVE directory. \n",
    "\n",
    "We use the tools of Dataset to build the SAVE folder and choose the nscf/bnds_40-kpoints_8.save folder as source path."
   ]
  },
  {
   "cell_type": "code",
   "execution_count": 3,
   "metadata": {},
   "outputs": [],
   "source": [
    "y_save = D.Dataset(label='y_save',run_dir='yambo_rt',pre_processing='yambo')"
   ]
  },
  {
   "cell_type": "code",
   "execution_count": 4,
   "metadata": {},
   "outputs": [
    {
     "name": "stdout",
     "output_type": "stream",
     "text": [
      "Create folder yambo_rt\n",
      "execute :  cd nscf/bnds_40-kpoints_8.save;p2y -a 2\n",
      "execute :  cp -r nscf/bnds_40-kpoints_8.save/SAVE yambo_rt\n",
      "execute :  cd yambo_rt;OMP_NUM_THREADS=1 yambo\n"
     ]
    }
   ],
   "source": [
    "source = 'nscf/bnds_40-kpoints_8.save'\n",
    "y_save.pre_processing_function(source_dir=source)"
   ]
  },
  {
   "cell_type": "markdown",
   "metadata": {},
   "source": [
    "The creation of the FixSymm folder is managed as follows. We need to remove the # from the string #RmTimeRev, this procedure is actually performed by hands, but can be implemented as a python function."
   ]
  },
  {
   "cell_type": "code",
   "execution_count": 5,
   "metadata": {},
   "outputs": [
    {
     "name": "stdout",
     "output_type": "stream",
     "text": [
      "execute :  cd yambo_rt; ypp -y -F ypp.in\n",
      "fixsyms\n",
      "BField = 0.000000e+00 T\n",
      "Bpsi = 0.000000e+00 deg\n",
      "Btheta = 0.000000e+00 deg\n",
      "% Efield1\n",
      " 1.0 | 0.0 | 0.0 |   \n",
      "%\n",
      "% Efield2\n",
      " 0.0 | 1.0 | 0.0 |   \n",
      "%\n",
      "\n",
      "execute :  cd yambo_rt; ypp -y -F ypp.in\n"
     ]
    }
   ],
   "source": [
    "ypp_input = I.YppIn('ypp -y',folder=y_save.run_dir)\n",
    "\n",
    "input = ypp_input.getInput()\n",
    "input['Efield1'] = [1.0,0.0,0.0]\n",
    "input['Efield2'] = [0.0,1.0,0.0]\n",
    "print(input)\n",
    "ypp_input.write(y_save.run_dir+'/ypp.in')"
   ]
  },
  {
   "cell_type": "markdown",
   "metadata": {},
   "source": [
    "Build the FixSymme folder and run yambo_rt (without argument) to build the r_setup"
   ]
  },
  {
   "cell_type": "code",
   "execution_count": 6,
   "metadata": {},
   "outputs": [
    {
     "data": {
      "text/plain": [
       "0"
      ]
     },
     "execution_count": 6,
     "metadata": {},
     "output_type": "execute_result"
    }
   ],
   "source": [
    "string = 'cd %s; ypp -F ypp.in'%y_save.run_dir\n",
    "os.system(string)"
   ]
  },
  {
   "cell_type": "code",
   "execution_count": 7,
   "metadata": {},
   "outputs": [
    {
     "data": {
      "text/plain": [
       "0"
      ]
     },
     "execution_count": 7,
     "metadata": {},
     "output_type": "execute_result"
    }
   ],
   "source": [
    "fixSymmPath = y_save.run_dir+'/FixSymm'\n",
    "string = 'cd %s; yambo_rt'%fixSymmPath\n",
    "os.system(string)"
   ]
  },
  {
   "cell_type": "markdown",
   "metadata": {},
   "source": [
    "## Real Time Analysis"
   ]
  },
  {
   "cell_type": "markdown",
   "metadata": {},
   "source": [
    "Define the code that will run yambo_rt and the dataset for the rt computations. Note that no pre_processing is nedded for this dataset since the FixSymm folder that contains the rt SAVE is already built.\n",
    "\n",
    "We have performed some tests to set the parameters of the run, in particular : \n",
    "\n",
    "* the damping is needed, without damping the the dN does not follows the shape of the fluence of the field but show a gaussian like behavior.\n",
    "\n",
    "* A convergence test has been performed on the number of RTBands, the actual choice is [5,10], we have checked that increasing this interval produces only a small change in the dN at the end of the NETime"
   ]
  },
  {
   "cell_type": "code",
   "execution_count": 8,
   "metadata": {},
   "outputs": [
    {
     "name": "stdout",
     "output_type": "stream",
     "text": [
      "Initialize a Yambo calculator with command OMP_NUM_THREADS=1 mpirun -np 8 yambo_rt\n",
      "Suffix for post_processing :  carriers\n"
     ]
    }
   ],
   "source": [
    "code = C.YamboCalculator(omp=omp,mpi_run=mpi_run,executable='yambo_rt',suffix='carriers',skip=True)"
   ]
  },
  {
   "cell_type": "code",
   "execution_count": 9,
   "metadata": {},
   "outputs": [],
   "source": [
    "yambo_rt = D.Dataset(label='yambo_rt',run_dir='yambo_rt/FixSymm')"
   ]
  },
  {
   "cell_type": "markdown",
   "metadata": {},
   "source": [
    "We add various runs to the dataset. First of all we define the basic elements of the input file"
   ]
  },
  {
   "cell_type": "code",
   "execution_count": 10,
   "metadata": {},
   "outputs": [],
   "source": [
    "rt_input = I.YamboIn('yambo_rt -q p -v ip -V qp',folder=yambo_rt.run_dir)\n",
    "\n",
    "time_step = 10 #as\n",
    "field_int = 1000.0 #kWLm2\n",
    "field_width = 40 #fs\n",
    "sim_time = 6*field_width\n",
    "rt_bands = [5,10]\n",
    "\n",
    "rt_parameters = {\n",
    "     'Field1_Int'   : [field_int,'kWLm2'],\n",
    "     'Field1_Width' : [field_width,'fs'],\n",
    "     'Field1_kind'  : 'QSSIN',\n",
    "     'RTstep'       : [time_step,'as'],\n",
    "     'NETime'       : [sim_time,'fs'],\n",
    "     'RTBands'      : rt_bands,\n",
    "     'IOtime'       : [[1.0,5.0,1.0],'fs'], # Carriers - GF - output\n",
    "     'GfnQP_Wv'     : [0.05,0.00,0.00],     # Constant damping valence\n",
    "     'GfnQP_Wc'     : [0.05,0.00,0.00],     # Constant damping conduction\n",
    "     'GfnQP_E'      : [1.00, 1.00, 1.00],   # Scissor\n",
    "     'RT_CPU'       : \"%s.1.1.1\"%mpi_run[-1]\n",
    "}\n",
    "\n",
    "for k,v in rt_parameters.items():\n",
    "    rt_input[k] = v"
   ]
  },
  {
   "cell_type": "code",
   "execution_count": 11,
   "metadata": {},
   "outputs": [],
   "source": [
    "# circular polarization spanning a given frequencies range\n",
    "freq_range = [1.15,1.25,1.35,1.45,1.55,1.65,1.75,1.85]\n",
    "for f in freq_range:\n",
    "    pars = { 'Field1_Freq'  : [[f,f],'eV'],\n",
    "             'Field1_pol'   : 'circular',\n",
    "             # the two fields reproduce the field used for FixSymm\n",
    "             'Field1_Dir'   : [1.0,0.0,0.0],\n",
    "             'Field1_Dir_circ'   : [0.0,1.0,0.0]\n",
    "    }\n",
    "    for k,v in pars.items():\n",
    "        rt_input[k] = v\n",
    "    idd = {'pol' : 'circular','freq' : f}\n",
    "    yambo_rt.append_run(id=idd,calculator=code,input=rt_input)"
   ]
  },
  {
   "cell_type": "code",
   "execution_count": 12,
   "metadata": {},
   "outputs": [],
   "source": [
    "# linear polarization with freq = 1.55 eV\n",
    "freq = 1.55\n",
    "pars = {\n",
    "     'Field1_Freq'  : [[freq,freq],'eV'],\n",
    "     'Field1_pol'   : 'linear',\n",
    "     'Field1_Dir'   : [1.0,0.0,0.0]\n",
    "}\n",
    "for k,v in pars.items():\n",
    "    rt_input[k] = v\n",
    "idd = {'pol' : 'linear','freq' : freq}\n",
    "yambo_rt.append_run(id=idd,calculator=code,input=rt_input)"
   ]
  },
  {
   "cell_type": "code",
   "execution_count": 13,
   "metadata": {},
   "outputs": [],
   "source": [
    "# cicular polarization (reversed) with freq = 1.55 eV\n",
    "freq = 1.55\n",
    "pars = {\n",
    "     'Field1_Freq'  : [[freq,freq],'eV'],\n",
    "     'Field1_pol'   : 'circular',\n",
    "     'Field1_Dir'   : [0.0,1.0,0.0],\n",
    "     'Field1_Dir_circ'   : [1.0,0.0,0.0]\n",
    "}\n",
    "for k,v in pars.items():\n",
    "    rt_input[k] = v\n",
    "idd = {'pol' : 'reversed_circular','freq' : freq}\n",
    "yambo_rt.append_run(id=idd,calculator=code,input=rt_input)"
   ]
  },
  {
   "cell_type": "code",
   "execution_count": 14,
   "metadata": {},
   "outputs": [],
   "source": [
    "#print(yambo_rt.runs[2])"
   ]
  },
  {
   "cell_type": "code",
   "execution_count": 15,
   "metadata": {},
   "outputs": [
    {
     "name": "stdout",
     "output_type": "stream",
     "text": [
      "execute : cd yambo_rt/FixSymm ; OMP_NUM_THREADS=1 mpirun -np 8 yambo_rt -F freq_1.15-pol_circular.in -J freq_1.15-pol_circular -C freq_1.15-pol_circular\n",
      "parse file : yambo_rt/FixSymm/freq_1.15-pol_circular/o-freq_1.15-pol_circular.carriers\n",
      "execute : cd yambo_rt/FixSymm ; OMP_NUM_THREADS=1 mpirun -np 8 yambo_rt -F freq_1.25-pol_circular.in -J freq_1.25-pol_circular -C freq_1.25-pol_circular\n",
      "parse file : yambo_rt/FixSymm/freq_1.25-pol_circular/o-freq_1.25-pol_circular.carriers\n",
      "execute : cd yambo_rt/FixSymm ; OMP_NUM_THREADS=1 mpirun -np 8 yambo_rt -F freq_1.35-pol_circular.in -J freq_1.35-pol_circular -C freq_1.35-pol_circular\n",
      "parse file : yambo_rt/FixSymm/freq_1.35-pol_circular/o-freq_1.35-pol_circular.carriers\n",
      "execute : cd yambo_rt/FixSymm ; OMP_NUM_THREADS=1 mpirun -np 8 yambo_rt -F freq_1.45-pol_circular.in -J freq_1.45-pol_circular -C freq_1.45-pol_circular\n",
      "parse file : yambo_rt/FixSymm/freq_1.45-pol_circular/o-freq_1.45-pol_circular.carriers\n",
      "execute : cd yambo_rt/FixSymm ; OMP_NUM_THREADS=1 mpirun -np 8 yambo_rt -F freq_1.55-pol_circular.in -J freq_1.55-pol_circular -C freq_1.55-pol_circular\n",
      "parse file : yambo_rt/FixSymm/freq_1.55-pol_circular/o-freq_1.55-pol_circular.carriers\n",
      "execute : cd yambo_rt/FixSymm ; OMP_NUM_THREADS=1 mpirun -np 8 yambo_rt -F freq_1.65-pol_circular.in -J freq_1.65-pol_circular -C freq_1.65-pol_circular\n",
      "parse file : yambo_rt/FixSymm/freq_1.65-pol_circular/o-freq_1.65-pol_circular.carriers\n",
      "execute : cd yambo_rt/FixSymm ; OMP_NUM_THREADS=1 mpirun -np 8 yambo_rt -F freq_1.75-pol_circular.in -J freq_1.75-pol_circular -C freq_1.75-pol_circular\n",
      "parse file : yambo_rt/FixSymm/freq_1.75-pol_circular/o-freq_1.75-pol_circular.carriers\n",
      "execute : cd yambo_rt/FixSymm ; OMP_NUM_THREADS=1 mpirun -np 8 yambo_rt -F freq_1.85-pol_circular.in -J freq_1.85-pol_circular -C freq_1.85-pol_circular\n",
      "parse file : yambo_rt/FixSymm/freq_1.85-pol_circular/o-freq_1.85-pol_circular.carriers\n",
      "execute : cd yambo_rt/FixSymm ; OMP_NUM_THREADS=1 mpirun -np 8 yambo_rt -F freq_1.55-pol_linear.in -J freq_1.55-pol_linear -C freq_1.55-pol_linear\n",
      "parse file : yambo_rt/FixSymm/freq_1.55-pol_linear/o-freq_1.55-pol_linear.carriers\n",
      "execute : cd yambo_rt/FixSymm ; OMP_NUM_THREADS=1 mpirun -np 8 yambo_rt -F freq_1.55-pol_reversed_circular.in -J freq_1.55-pol_reversed_circular -C freq_1.55-pol_reversed_circular\n",
      "parse file : yambo_rt/FixSymm/freq_1.55-pol_reversed_circular/o-freq_1.55-pol_reversed_circular.carriers\n"
     ]
    }
   ],
   "source": [
    "yambo_rt.run()"
   ]
  },
  {
   "cell_type": "code",
   "execution_count": 16,
   "metadata": {},
   "outputs": [
    {
     "data": {
      "text/plain": [
       "[{'pol': 'circular', 'freq': 1.15},\n",
       " {'pol': 'circular', 'freq': 1.25},\n",
       " {'pol': 'circular', 'freq': 1.35},\n",
       " {'pol': 'circular', 'freq': 1.45},\n",
       " {'pol': 'circular', 'freq': 1.55},\n",
       " {'pol': 'circular', 'freq': 1.65},\n",
       " {'pol': 'circular', 'freq': 1.75},\n",
       " {'pol': 'circular', 'freq': 1.85},\n",
       " {'pol': 'linear', 'freq': 1.55},\n",
       " {'pol': 'reversed_circular', 'freq': 1.55}]"
      ]
     },
     "execution_count": 16,
     "metadata": {},
     "output_type": "execute_result"
    }
   ],
   "source": [
    "yambo_rt.ids"
   ]
  },
  {
   "cell_type": "code",
   "execution_count": 17,
   "metadata": {},
   "outputs": [],
   "source": [
    "res = yambo_rt.results[0]"
   ]
  },
  {
   "cell_type": "code",
   "execution_count": 18,
   "metadata": {},
   "outputs": [
    {
     "data": {
      "text/plain": [
       "[<matplotlib.lines.Line2D at 0x7fb41e9b1be0>]"
      ]
     },
     "execution_count": 18,
     "metadata": {},
     "output_type": "execute_result"
    },
    {
     "data": {
      "image/png": "[encoded data removed]",
      "text/plain": [
       "<Figure size 432x288 with 1 Axes>"
      ]
     },
     "metadata": {},
     "output_type": "display_data"
    }
   ],
   "source": [
    "plt.plot(res.time,res.dN_hole)\n",
    "plt.plot(res.time,res.dN_elec)"
   ]
  },
  {
   "cell_type": "markdown",
   "metadata": {},
   "source": [
    "We plot the dN_e at the last simulation time in function of the probe frequency"
   ]
  },
  {
   "cell_type": "code",
   "execution_count": 20,
   "metadata": {},
   "outputs": [
    {
     "data": {
      "text/plain": [
       "(0, 0.001)"
      ]
     },
     "execution_count": 20,
     "metadata": {},
     "output_type": "execute_result"
    },
    {
     "data": {
      "image/png": "[encoded data removed]",
      "text/plain": [
       "<Figure size 432x288 with 1 Axes>"
      ]
     },
     "metadata": {},
     "output_type": "display_data"
    }
   ],
   "source": [
    "for ind,f in enumerate(freq_range):\n",
    "    res = yambo_rt.results[ind]\n",
    "    plt.scatter(f,res.dN_elec[-1])\n",
    "plt.ylim((0,0.001))"
   ]
  },
  {
   "cell_type": "markdown",
   "metadata": {},
   "source": [
    "## ypp post-processing for the rt analysis"
   ]
  },
  {
   "cell_type": "markdown",
   "metadata": {},
   "source": [
    "Perform the ypp -n o e post-processing using the rt results as input"
   ]
  },
  {
   "cell_type": "code",
   "execution_count": 30,
   "metadata": {},
   "outputs": [
    {
     "name": "stdout",
     "output_type": "stream",
     "text": [
      "Initialize a Yambo calculator with command OMP_NUM_THREADS=1 mpirun -np 1 ypp_rt\n",
      "Suffix for post_processing :  YPP-RT_occupations_DATA\n"
     ]
    }
   ],
   "source": [
    "code = C.YamboCalculator(omp=1,mpi_run='mpirun -np 1',executable='ypp_rt',suffix='YPP-RT_occupations_DATA',skip=True)"
   ]
  },
  {
   "cell_type": "code",
   "execution_count": 31,
   "metadata": {},
   "outputs": [],
   "source": [
    "ypp_noe = D.Dataset(label='ypp_noe',run_dir='yambo_rt/FixSymm')"
   ]
  },
  {
   "cell_type": "code",
   "execution_count": 32,
   "metadata": {},
   "outputs": [
    {
     "name": "stdout",
     "output_type": "stream",
     "text": [
      "delete yambo_rt/FixSymm/ypp.in\n",
      "execute :  cd yambo_rt/FixSymm; ypp_rt -n o e -V qp -F ypp.in\n"
     ]
    }
   ],
   "source": [
    "ypp_input = I.YppIn('ypp_rt -n o e -V qp',folder=ypp_noe.run_dir)"
   ]
  },
  {
   "cell_type": "code",
   "execution_count": 33,
   "metadata": {},
   "outputs": [
    {
     "name": "stdout",
     "output_type": "stream",
     "text": [
      "RealTime\n",
      "RToccupations\n",
      "TimeStep = 20 fs\n",
      "% TimeRange\n",
      " -1.000000 | -1.000000 |  fs \n",
      "%\n",
      "% QPkrange\n",
      "  | 1 | 512 | 5 | 10 |  |   \n",
      "%\n",
      "% QPerange\n",
      "  | 1 | 512 | 0.0 | -1.000000 |  |   \n",
      "%\n",
      "\n"
     ]
    }
   ],
   "source": [
    "input = ypp_input.getInput()\n",
    "input['QPkrange'][0][3:5] = rt_bands\n",
    "input['TimeStep'][0] = 20\n",
    "print(input)"
   ]
  },
  {
   "cell_type": "markdown",
   "metadata": {},
   "source": [
    "Add the run the dataset. The names of the yambo_rt are given as jobname to the post-processing"
   ]
  },
  {
   "cell_type": "code",
   "execution_count": 34,
   "metadata": {},
   "outputs": [],
   "source": [
    "for name in yambo_rt.names: \n",
    "    idd = 'ypp_'+name\n",
    "    ypp_noe.append_run(id=idd,input=ypp_input,calculator=code,jobname=name)"
   ]
  },
  {
   "cell_type": "code",
   "execution_count": 35,
   "metadata": {},
   "outputs": [
    {
     "name": "stdout",
     "output_type": "stream",
     "text": [
      "execute :  cd yambo_rt/FixSymm; ypp_rt -n o e -V qp -F ypp_freq_1.15-pol_circular.in\n",
      "execute : cd yambo_rt/FixSymm ; OMP_NUM_THREADS=1 mpirun -np 1 ypp_rt -F ypp_freq_1.15-pol_circular.in -J freq_1.15-pol_circular -C ypp_freq_1.15-pol_circular\n",
      "parse file : yambo_rt/FixSymm/ypp_freq_1.15-pol_circular/o-freq_1.15-pol_circular.YPP-RT_occupations_DATA\n",
      "execute :  cd yambo_rt/FixSymm; ypp_rt -n o e -V qp -F ypp_freq_1.25-pol_circular.in\n",
      "execute : cd yambo_rt/FixSymm ; OMP_NUM_THREADS=1 mpirun -np 1 ypp_rt -F ypp_freq_1.25-pol_circular.in -J freq_1.25-pol_circular -C ypp_freq_1.25-pol_circular\n",
      "parse file : yambo_rt/FixSymm/ypp_freq_1.25-pol_circular/o-freq_1.25-pol_circular.YPP-RT_occupations_DATA\n",
      "execute :  cd yambo_rt/FixSymm; ypp_rt -n o e -V qp -F ypp_freq_1.35-pol_circular.in\n",
      "execute : cd yambo_rt/FixSymm ; OMP_NUM_THREADS=1 mpirun -np 1 ypp_rt -F ypp_freq_1.35-pol_circular.in -J freq_1.35-pol_circular -C ypp_freq_1.35-pol_circular\n",
      "parse file : yambo_rt/FixSymm/ypp_freq_1.35-pol_circular/o-freq_1.35-pol_circular.YPP-RT_occupations_DATA\n",
      "execute :  cd yambo_rt/FixSymm; ypp_rt -n o e -V qp -F ypp_freq_1.45-pol_circular.in\n",
      "execute : cd yambo_rt/FixSymm ; OMP_NUM_THREADS=1 mpirun -np 1 ypp_rt -F ypp_freq_1.45-pol_circular.in -J freq_1.45-pol_circular -C ypp_freq_1.45-pol_circular\n",
      "parse file : yambo_rt/FixSymm/ypp_freq_1.45-pol_circular/o-freq_1.45-pol_circular.YPP-RT_occupations_DATA\n",
      "execute :  cd yambo_rt/FixSymm; ypp_rt -n o e -V qp -F ypp_freq_1.55-pol_circular.in\n",
      "execute : cd yambo_rt/FixSymm ; OMP_NUM_THREADS=1 mpirun -np 1 ypp_rt -F ypp_freq_1.55-pol_circular.in -J freq_1.55-pol_circular -C ypp_freq_1.55-pol_circular\n",
      "parse file : yambo_rt/FixSymm/ypp_freq_1.55-pol_circular/o-freq_1.55-pol_circular.YPP-RT_occupations_DATA\n",
      "execute :  cd yambo_rt/FixSymm; ypp_rt -n o e -V qp -F ypp_freq_1.65-pol_circular.in\n",
      "execute : cd yambo_rt/FixSymm ; OMP_NUM_THREADS=1 mpirun -np 1 ypp_rt -F ypp_freq_1.65-pol_circular.in -J freq_1.65-pol_circular -C ypp_freq_1.65-pol_circular\n",
      "parse file : yambo_rt/FixSymm/ypp_freq_1.65-pol_circular/o-freq_1.65-pol_circular.YPP-RT_occupations_DATA\n",
      "execute :  cd yambo_rt/FixSymm; ypp_rt -n o e -V qp -F ypp_freq_1.75-pol_circular.in\n",
      "execute : cd yambo_rt/FixSymm ; OMP_NUM_THREADS=1 mpirun -np 1 ypp_rt -F ypp_freq_1.75-pol_circular.in -J freq_1.75-pol_circular -C ypp_freq_1.75-pol_circular\n",
      "parse file : yambo_rt/FixSymm/ypp_freq_1.75-pol_circular/o-freq_1.75-pol_circular.YPP-RT_occupations_DATA\n",
      "execute :  cd yambo_rt/FixSymm; ypp_rt -n o e -V qp -F ypp_freq_1.85-pol_circular.in\n",
      "execute : cd yambo_rt/FixSymm ; OMP_NUM_THREADS=1 mpirun -np 1 ypp_rt -F ypp_freq_1.85-pol_circular.in -J freq_1.85-pol_circular -C ypp_freq_1.85-pol_circular\n",
      "parse file : yambo_rt/FixSymm/ypp_freq_1.85-pol_circular/o-freq_1.85-pol_circular.YPP-RT_occupations_DATA\n",
      "execute :  cd yambo_rt/FixSymm; ypp_rt -n o e -V qp -F ypp_freq_1.55-pol_linear.in\n",
      "execute : cd yambo_rt/FixSymm ; OMP_NUM_THREADS=1 mpirun -np 1 ypp_rt -F ypp_freq_1.55-pol_linear.in -J freq_1.55-pol_linear -C ypp_freq_1.55-pol_linear\n",
      "parse file : yambo_rt/FixSymm/ypp_freq_1.55-pol_linear/o-freq_1.55-pol_linear.YPP-RT_occupations_DATA\n",
      "execute :  cd yambo_rt/FixSymm; ypp_rt -n o e -V qp -F ypp_freq_1.55-pol_reversed_circular.in\n",
      "execute : cd yambo_rt/FixSymm ; OMP_NUM_THREADS=1 mpirun -np 1 ypp_rt -F ypp_freq_1.55-pol_reversed_circular.in -J freq_1.55-pol_reversed_circular -C ypp_freq_1.55-pol_reversed_circular\n",
      "parse file : yambo_rt/FixSymm/ypp_freq_1.55-pol_reversed_circular/o-freq_1.55-pol_reversed_circular.YPP-RT_occupations_DATA\n"
     ]
    }
   ],
   "source": [
    "ypp_noe.run()"
   ]
  },
  {
   "cell_type": "code",
   "execution_count": 36,
   "metadata": {},
   "outputs": [
    {
     "data": {
      "text/plain": [
       "['ypp_freq_1.15-pol_circular',\n",
       " 'ypp_freq_1.25-pol_circular',\n",
       " 'ypp_freq_1.35-pol_circular',\n",
       " 'ypp_freq_1.45-pol_circular',\n",
       " 'ypp_freq_1.55-pol_circular',\n",
       " 'ypp_freq_1.65-pol_circular',\n",
       " 'ypp_freq_1.75-pol_circular',\n",
       " 'ypp_freq_1.85-pol_circular',\n",
       " 'ypp_freq_1.55-pol_linear',\n",
       " 'ypp_freq_1.55-pol_reversed_circular']"
      ]
     },
     "execution_count": 36,
     "metadata": {},
     "output_type": "execute_result"
    }
   ],
   "source": [
    "ypp_noe.ids"
   ]
  },
  {
   "cell_type": "markdown",
   "metadata": {},
   "source": [
    "Use the output file for showing the neq occupations"
   ]
  },
  {
   "cell_type": "code",
   "execution_count": 39,
   "metadata": {},
   "outputs": [
    {
     "data": {
      "text/plain": [
       "dict_keys(['E', '0.00000', '20.0000', '40.0000', '60.0000', '80.0000', '100.000', '120.000', '140.000', '160.000', '180.000', '200.000', '220.000', '240.000'])"
      ]
     },
     "execution_count": 39,
     "metadata": {},
     "output_type": "execute_result"
    }
   ],
   "source": [
    "res = ypp_noe.results[7].__dict__\n",
    "res.keys()"
   ]
  },
  {
   "cell_type": "code",
   "execution_count": 41,
   "metadata": {},
   "outputs": [],
   "source": [
    "last_time = '240.000'"
   ]
  },
  {
   "cell_type": "code",
   "execution_count": 42,
   "metadata": {},
   "outputs": [
    {
     "data": {
      "text/plain": [
       "<matplotlib.collections.PathCollection at 0x7fb434fdd4a8>"
      ]
     },
     "execution_count": 42,
     "metadata": {},
     "output_type": "execute_result"
    },
    {
     "data": {
      "image/png": "[encoded data removed]",
      "text/plain": [
       "<Figure size 432x288 with 1 Axes>"
      ]
     },
     "metadata": {},
     "output_type": "display_data"
    }
   ],
   "source": [
    "plt.scatter(res['E'],res[last_time])"
   ]
  },
  {
   "cell_type": "markdown",
   "metadata": {},
   "source": [
    "We can see, in function of the energy which is the energy gap associated to the maximum\n",
    "of the promotion of electrons from valence to conduction"
   ]
  },
  {
   "cell_type": "code",
   "execution_count": 43,
   "metadata": {},
   "outputs": [
    {
     "name": "stdout",
     "output_type": "stream",
     "text": [
      "1.15 1.418\n",
      "1.25 1.418\n",
      "1.35 1.418\n",
      "1.45 1.418\n",
      "1.55 1.418\n",
      "1.65 1.418\n",
      "1.75 1.418\n",
      "1.85 1.418\n"
     ]
    }
   ],
   "source": [
    "for ind,f in enumerate(freq_range):\n",
    "    res = ypp_noe.results[ind].__dict__\n",
    "    maxx = max(res[last_time])\n",
    "    minn = min(res[last_time])\n",
    "    ind_max = res[last_time].index(maxx)\n",
    "    ind_min = res[last_time].index(minn)\n",
    "    deltaEnergy = res['E'][ind_max] - res['E'][ind_min]\n",
    "    print(f,deltaEnergy)"
   ]
  },
  {
   "cell_type": "markdown",
   "metadata": {},
   "source": [
    "It coincides with the GaAs gap for all the frequencies of the pump. I belive that this pump has a large spread in energy and so all the values of freq_range have a non negligible contribution at the energy gap."
   ]
  },
  {
   "cell_type": "markdown",
   "metadata": {},
   "source": [
    "### Analysis of the spin polarization"
   ]
  },
  {
   "cell_type": "markdown",
   "metadata": {},
   "source": [
    "We analyze the spin polarization for the pump field with circular polarization"
   ]
  },
  {
   "cell_type": "code",
   "execution_count": 45,
   "metadata": {},
   "outputs": [
    {
     "name": "stdout",
     "output_type": "stream",
     "text": [
      "1.15 0.061 0.037\n",
      "1.25 0.120 0.073\n",
      "1.35 0.270 0.167\n",
      "1.45 0.331 0.207\n",
      "1.55 0.159 0.097\n",
      "1.65 0.076 0.047\n",
      "1.75 0.044 0.028\n",
      "1.85 0.030 0.019\n"
     ]
    },
    {
     "data": {
      "text/plain": [
       "[24.214112128043134,\n",
       " 24.584975723047183,\n",
       " 23.54733916217269,\n",
       " 22.963580159782186,\n",
       " 24.325013418143648,\n",
       " 24.164182891897923,\n",
       " 22.957635013110522,\n",
       " 21.11679264220513]"
      ]
     },
     "execution_count": 45,
     "metadata": {},
     "output_type": "execute_result"
    }
   ],
   "source": [
    "spin_pol = []\n",
    "for f in freq_range:\n",
    "    f_up = 'yambo_rt/FixSymm/ypp_freq_%s-pol_circular/o-freq_%s-pol_circular.YPP-RT_occupations_up_DATA'%(f,f)\n",
    "    f_dn = 'yambo_rt/FixSymm/ypp_freq_%s-pol_circular/o-freq_%s-pol_circular.YPP-RT_occupations_dn_DATA'%(f,f)\n",
    "    res_up = C.dict_parser(f_up)\n",
    "    res_dn = C.dict_parser(f_dn)\n",
    "    for ind,E in enumerate(res_up['E']):\n",
    "        if E > 1:\n",
    "            E_thresh = ind\n",
    "            break\n",
    "    tot_up = sum(res_up[last_time][E_thresh:])\n",
    "    tot_dn = sum(res_dn[last_time][E_thresh:])\n",
    "    print('%s %.3f %.3f'%(f,tot_up,tot_dn))\n",
    "    delta = (tot_up-tot_dn)/(tot_up+tot_dn)*100\n",
    "    spin_pol.append(delta)\n",
    "spin_pol"
   ]
  },
  {
   "cell_type": "markdown",
   "metadata": {},
   "source": [
    "As check we compute the spin polarization also for the linearly polarized pump"
   ]
  },
  {
   "cell_type": "code",
   "execution_count": 51,
   "metadata": {},
   "outputs": [
    {
     "data": {
      "text/plain": [
       "0.5000462992292953"
      ]
     },
     "execution_count": 51,
     "metadata": {},
     "output_type": "execute_result"
    }
   ],
   "source": [
    "f_up = 'yambo_rt/FixSymm/ypp_freq_1.55-pol_linear/o-freq_1.55-pol_linear.YPP-RT_occupations_up_DATA'\n",
    "f_dn = 'yambo_rt/FixSymm/ypp_freq_1.55-pol_linear/o-freq_1.55-pol_linear.YPP-RT_occupations_dn_DATA'\n",
    "res_up = C.dict_parser(f_up)\n",
    "res_dn = C.dict_parser(f_dn)\n",
    "for ind,E in enumerate(res_up['E']):\n",
    "    if E > 1:\n",
    "        E_thresh = ind\n",
    "        break\n",
    "tot_up = sum(res_up[last_time][E_thresh:])\n",
    "tot_dn = sum(res_dn[last_time][E_thresh:])\n",
    "delta = (tot_up-tot_dn)/(tot_up+tot_dn)*100\n",
    "delta"
   ]
  },
  {
   "cell_type": "markdown",
   "metadata": {},
   "source": [
    "And with the circular reversed polarization"
   ]
  },
  {
   "cell_type": "code",
   "execution_count": 50,
   "metadata": {},
   "outputs": [
    {
     "data": {
      "text/plain": [
       "-23.379785056818164"
      ]
     },
     "execution_count": 50,
     "metadata": {},
     "output_type": "execute_result"
    }
   ],
   "source": [
    "f_up = 'yambo_rt/FixSymm/ypp_freq_1.55-pol_reversed_circular/o-freq_1.55-pol_reversed_circular.YPP-RT_occupations_up_DATA'\n",
    "f_dn = 'yambo_rt/FixSymm/ypp_freq_1.55-pol_reversed_circular/o-freq_1.55-pol_reversed_circular.YPP-RT_occupations_dn_DATA'\n",
    "res_up = C.dict_parser(f_up)\n",
    "res_dn = C.dict_parser(f_dn)\n",
    "for ind,E in enumerate(res_up['E']):\n",
    "    if E > 1:\n",
    "        E_thresh = ind\n",
    "        break\n",
    "tot_up = sum(res_up[last_time][E_thresh:])\n",
    "tot_dn = sum(res_dn[last_time][E_thresh:])\n",
    "delta = (tot_up-tot_dn)/(tot_up+tot_dn)*100\n",
    "delta"
   ]
  },
  {
   "cell_type": "code",
   "execution_count": null,
   "metadata": {},
   "outputs": [],
   "source": []
  }
 ],
 "metadata": {
  "kernelspec": {
   "display_name": "Python 3",
   "language": "python",
   "name": "python3"
  },
  "language_info": {
   "codemirror_mode": {
    "name": "ipython",
    "version": 3
   },
   "file_extension": ".py",
   "mimetype": "text/x-python",
   "name": "python",
   "nbconvert_exporter": "python",
   "pygments_lexer": "ipython3",
   "version": "3.6.7"
  }
 },
 "nbformat": 4,
 "nbformat_minor": 2
}
