{
 "cells": [
  {
   "cell_type": "code",
   "execution_count": 4,
   "metadata": {},
   "outputs": [],
   "source": [
    "import numpy as np\n",
    "import os\n",
    "import matplotlib.pyplot as plt\n",
    "from importlib import reload\n",
    "from mppi import InputFiles as I, Calculators as C, Datasets as D"
   ]
  },
  {
   "cell_type": "markdown",
   "metadata": {},
   "source": [
    "# Analysis of the spin polarization"
   ]
  },
  {
   "cell_type": "markdown",
   "metadata": {},
   "source": [
    "We consider the analysis of the spin polarization based on the post processing of the .spin_magnetization output\n",
    "of the real time calculation. "
   ]
  },
  {
   "cell_type": "markdown",
   "metadata": {},
   "source": [
    "## k = Gamma - no commutator - pulse width 40 fs"
   ]
  },
  {
   "cell_type": "code",
   "execution_count": 26,
   "metadata": {},
   "outputs": [],
   "source": [
    "data_dir = 'rt_gamma_no-com/FixSymm'\n",
    "last_time = '240.000'"
   ]
  },
  {
   "cell_type": "code",
   "execution_count": 27,
   "metadata": {},
   "outputs": [],
   "source": [
    "# circular polarization spanning a given frequencies range\n",
    "freq = 1.55\n",
    "# linear polarization for a single frequency\n",
    "lin_freq = 1.55\n",
    "# reversed circular polarization for a single frequency\n",
    "reversed_circ_freq = 1.55"
   ]
  },
  {
   "cell_type": "code",
   "execution_count": 32,
   "metadata": {},
   "outputs": [
    {
     "name": "stdout",
     "output_type": "stream",
     "text": [
      "circular pol conduction mgn 49.62381423011008 49.62381423\n",
      "circular pol valence mgn 82.79241323003154 -82.79241323\n",
      "\n",
      "linear pol conduction mgn 3.439430152997861e-05 -1.810909822e-05\n",
      "linear pol valence mgn 9.717813870045586e-05 8.077631719e-05\n",
      "\n",
      "rev circular pol conduction mgn 49.62382020008809 -49.623820200000004\n",
      "rev circular pol valence mgn 82.79269340008443 82.79269339999999\n"
     ]
    }
   ],
   "source": [
    "mgn_file = data_dir+'/freq_%s-pol_circular/o-freq_%s-pol_circular.spin_magnetization'%(freq,freq)\n",
    "mgn = C.dict_parser(mgn_file)\n",
    "final_mgn = np.array([mgn['Mc_x'][-1],mgn['Mc_y'][-1],mgn['Mc_z'][-1]])\n",
    "print('circular pol conduction mgn',np.linalg.norm(final_mgn)*100,mgn['Mc_z'][-1]*100)\n",
    "final_mgn = np.array([mgn['Mv_x'][-1],mgn['Mv_y'][-1],mgn['Mv_z'][-1]])\n",
    "print('circular pol valence mgn',np.linalg.norm(final_mgn)*100,mgn['Mv_z'][-1]*100)\n",
    "print('')\n",
    "\n",
    "mgn_file = data_dir+'/freq_%s-pol_linear/o-freq_%s-pol_linear.spin_magnetization'%(lin_freq,lin_freq)\n",
    "mgn = C.dict_parser(mgn_file)\n",
    "final_mgn = np.array([mgn['Mc_x'][-1],mgn['Mc_y'][-1],mgn['Mc_z'][-1]])\n",
    "print('linear pol conduction mgn',np.linalg.norm(final_mgn)*100,mgn['Mc_z'][-1]*100)\n",
    "final_mgn = np.array([mgn['Mv_x'][-1],mgn['Mv_y'][-1],mgn['Mv_z'][-1]])\n",
    "print('linear pol valence mgn',np.linalg.norm(final_mgn)*100,mgn['Mv_z'][-1]*100)\n",
    "print('')\n",
    "\n",
    "mgn_file = data_dir+'/freq_%s-pol_reversed_circular/o-freq_%s-pol_reversed_circular.spin_magnetization'%(lin_freq,lin_freq)\n",
    "mgn = C.dict_parser(mgn_file)\n",
    "final_mgn = np.array([mgn['Mc_x'][-1],mgn['Mc_y'][-1],mgn['Mc_z'][-1]])\n",
    "print('rev circular pol conduction mgn',np.linalg.norm(final_mgn)*100,mgn['Mc_z'][-1]*100)\n",
    "final_mgn = np.array([mgn['Mv_x'][-1],mgn['Mv_y'][-1],mgn['Mv_z'][-1]])\n",
    "print('rev circular pol valence mgn',np.linalg.norm(final_mgn)*100,mgn['Mv_z'][-1]*100)"
   ]
  },
  {
   "cell_type": "markdown",
   "metadata": {},
   "source": [
    "Perform spin polarization analysis using ypp"
   ]
  },
  {
   "cell_type": "code",
   "execution_count": 6,
   "metadata": {},
   "outputs": [],
   "source": [
    "file_tot = data_dir+'/ypp_freq_%s-pol_circular/o-freq_%s-pol_circular.YPP-RT_occupations_DATA'%(freq,freq)\n",
    "file_up = data_dir+'/ypp_freq_%s-pol_circular/o-freq_%s-pol_circular.YPP-RT_occupations_up_DATA'%(freq,freq)\n",
    "file_dn = data_dir+'/ypp_freq_%s-pol_circular/o-freq_%s-pol_circular.YPP-RT_occupations_dn_DATA'%(freq,freq)\n",
    "data_tot = C.dict_parser(file_tot)\n",
    "data_up = C.dict_parser(file_up)\n",
    "data_dn = C.dict_parser(file_dn)"
   ]
  },
  {
   "cell_type": "code",
   "execution_count": 7,
   "metadata": {},
   "outputs": [],
   "source": [
    "energies = data_tot['E']\n",
    "carriers_up = data_up[last_time]\n",
    "carriers_dn = data_dn[last_time]\n",
    "carriers_tot = data_tot[last_time]"
   ]
  },
  {
   "cell_type": "code",
   "execution_count": 8,
   "metadata": {},
   "outputs": [
    {
     "data": {
      "text/plain": [
       "(-0.005, 0.005)"
      ]
     },
     "execution_count": 8,
     "metadata": {},
     "output_type": "execute_result"
    },
    {
     "data": {
      "image/png": "[encoded data removed]",
      "text/plain": [
       "<Figure size 432x288 with 1 Axes>"
      ]
     },
     "metadata": {
      "needs_background": "light"
     },
     "output_type": "display_data"
    }
   ],
   "source": [
    "plt.scatter(energies,carriers_up)\n",
    "plt.scatter(energies,carriers_dn)\n",
    "plt.ylim((-0.005,0.005))"
   ]
  },
  {
   "cell_type": "markdown",
   "metadata": {},
   "source": [
    "See how the spin polarization emerges at E=1.418"
   ]
  },
  {
   "cell_type": "code",
   "execution_count": 9,
   "metadata": {},
   "outputs": [
    {
     "name": "stdout",
     "output_type": "stream",
     "text": [
      "[0, 1, 2, 3] [4, 5]\n"
     ]
    }
   ],
   "source": [
    "val_indexes = []\n",
    "cond_indexes = []\n",
    "\n",
    "for ind,e in enumerate(energies):\n",
    "    if e == 0.0:\n",
    "        val_indexes.append(ind)\n",
    "\n",
    "for ind,e in enumerate(energies):\n",
    "    if e == 1.418:\n",
    "        cond_indexes.append(ind)\n",
    "\n",
    "print(val_indexes,cond_indexes)"
   ]
  },
  {
   "cell_type": "code",
   "execution_count": 10,
   "metadata": {},
   "outputs": [],
   "source": [
    "val_up  = [carriers_up[i] for i in val_indexes]\n",
    "val_dn  = [carriers_dn[i] for i in val_indexes]\n",
    "cond_up  = [carriers_up[i] for i in cond_indexes]\n",
    "cond_dn  = [carriers_dn[i] for i in cond_indexes]"
   ]
  },
  {
   "cell_type": "code",
   "execution_count": 11,
   "metadata": {},
   "outputs": [
    {
     "name": "stdout",
     "output_type": "stream",
     "text": [
      "Total carriers 0.0033493999999999998\n",
      "0.5851794351227099\n"
     ]
    }
   ],
   "source": [
    "sum_cond_up = sum(cond_up)\n",
    "sum_cond_dn = sum(cond_dn)\n",
    "print('Total carriers',sum_cond_up+sum_cond_dn)\n",
    "spin_pol_cond = (sum_cond_up-sum_cond_dn)/(sum_cond_up+sum_cond_dn)*100\n",
    "print(spin_pol_cond)"
   ]
  },
  {
   "cell_type": "markdown",
   "metadata": {},
   "source": [
    "Due to the degeneracy the spin polarization computed in this way is wrong."
   ]
  },
  {
   "cell_type": "markdown",
   "metadata": {},
   "source": [
    "## k = Gamma and close - no commutator - pulse width 40 fs"
   ]
  },
  {
   "cell_type": "code",
   "execution_count": 33,
   "metadata": {},
   "outputs": [],
   "source": [
    "data_dir = 'rt_gamma-and-close_no-com/FixSymm'\n",
    "last_time = '240.000'"
   ]
  },
  {
   "cell_type": "code",
   "execution_count": 34,
   "metadata": {},
   "outputs": [],
   "source": [
    "# circular polarization spanning a given frequencies range\n",
    "freq = 1.55\n",
    "# linear polarization for a single frequency\n",
    "lin_freq = 1.55\n",
    "# reversed circular polarization for a single frequency\n",
    "reversed_circ_freq = 1.55"
   ]
  },
  {
   "cell_type": "code",
   "execution_count": 35,
   "metadata": {},
   "outputs": [
    {
     "name": "stdout",
     "output_type": "stream",
     "text": [
      "circular pol conduction mgn 49.54552050021642 49.5455205\n",
      "circular pol valence mgn 78.2832086000367 -78.2832086\n",
      "\n",
      "linear pol conduction mgn 7.054417442210872e-05 -3.04228536e-05\n",
      "linear pol valence mgn 2.8428794655969838e-05 1.33380709e-05\n",
      "\n",
      "rev circular pol conduction mgn 49.54540730004109 -49.5454073\n",
      "rev circular pol valence mgn 78.28317880001035 78.2831788\n"
     ]
    }
   ],
   "source": [
    "mgn_file = data_dir+'/freq_%s-pol_circular/o-freq_%s-pol_circular.spin_magnetization'%(freq,freq)\n",
    "mgn = C.dict_parser(mgn_file)\n",
    "final_mgn = np.array([mgn['Mc_x'][-1],mgn['Mc_y'][-1],mgn['Mc_z'][-1]])\n",
    "print('circular pol conduction mgn',np.linalg.norm(final_mgn)*100,mgn['Mc_z'][-1]*100)\n",
    "final_mgn = np.array([mgn['Mv_x'][-1],mgn['Mv_y'][-1],mgn['Mv_z'][-1]])\n",
    "print('circular pol valence mgn',np.linalg.norm(final_mgn)*100,mgn['Mv_z'][-1]*100)\n",
    "print('')\n",
    "\n",
    "mgn_file = data_dir+'/freq_%s-pol_linear/o-freq_%s-pol_linear.spin_magnetization'%(lin_freq,lin_freq)\n",
    "mgn = C.dict_parser(mgn_file)\n",
    "final_mgn = np.array([mgn['Mc_x'][-1],mgn['Mc_y'][-1],mgn['Mc_z'][-1]])\n",
    "print('linear pol conduction mgn',np.linalg.norm(final_mgn)*100,mgn['Mc_z'][-1]*100)\n",
    "final_mgn = np.array([mgn['Mv_x'][-1],mgn['Mv_y'][-1],mgn['Mv_z'][-1]])\n",
    "print('linear pol valence mgn',np.linalg.norm(final_mgn)*100,mgn['Mv_z'][-1]*100)\n",
    "print('')\n",
    "\n",
    "mgn_file = data_dir+'/freq_%s-pol_reversed_circular/o-freq_%s-pol_reversed_circular.spin_magnetization'%(lin_freq,lin_freq)\n",
    "mgn = C.dict_parser(mgn_file)\n",
    "final_mgn = np.array([mgn['Mc_x'][-1],mgn['Mc_y'][-1],mgn['Mc_z'][-1]])\n",
    "print('rev circular pol conduction mgn',np.linalg.norm(final_mgn)*100,mgn['Mc_z'][-1]*100)\n",
    "final_mgn = np.array([mgn['Mv_x'][-1],mgn['Mv_y'][-1],mgn['Mv_z'][-1]])\n",
    "print('rev circular pol valence mgn',np.linalg.norm(final_mgn)*100,mgn['Mv_z'][-1]*100)"
   ]
  },
  {
   "cell_type": "markdown",
   "metadata": {},
   "source": [
    "Perform spin polarization analysis using ypp"
   ]
  },
  {
   "cell_type": "code",
   "execution_count": 19,
   "metadata": {},
   "outputs": [],
   "source": [
    "file_tot = data_dir+'/ypp_freq_%s-pol_circular/o-freq_%s-pol_circular.YPP-RT_occupations_DATA'%(freq,freq)\n",
    "file_up = data_dir+'/ypp_freq_%s-pol_circular/o-freq_%s-pol_circular.YPP-RT_occupations_up_DATA'%(freq,freq)\n",
    "file_dn = data_dir+'/ypp_freq_%s-pol_circular/o-freq_%s-pol_circular.YPP-RT_occupations_dn_DATA'%(freq,freq)\n",
    "data_tot = C.dict_parser(file_tot)\n",
    "data_up = C.dict_parser(file_up)\n",
    "data_dn = C.dict_parser(file_dn)"
   ]
  },
  {
   "cell_type": "code",
   "execution_count": 20,
   "metadata": {},
   "outputs": [],
   "source": [
    "energies = data_tot['E']\n",
    "carriers_up = data_up[last_time]\n",
    "carriers_dn = data_dn[last_time]\n",
    "carriers_tot = data_tot[last_time]"
   ]
  },
  {
   "cell_type": "code",
   "execution_count": 21,
   "metadata": {},
   "outputs": [
    {
     "data": {
      "text/plain": [
       "(-0.005, 0.005)"
      ]
     },
     "execution_count": 21,
     "metadata": {},
     "output_type": "execute_result"
    },
    {
     "data": {
      "image/png": "[encoded data removed]",
      "text/plain": [
       "<Figure size 432x288 with 1 Axes>"
      ]
     },
     "metadata": {
      "needs_background": "light"
     },
     "output_type": "display_data"
    }
   ],
   "source": [
    "plt.scatter(energies,carriers_up)\n",
    "plt.scatter(energies,carriers_dn)\n",
    "plt.ylim((-0.005,0.005))"
   ]
  },
  {
   "cell_type": "markdown",
   "metadata": {},
   "source": [
    "In this case we have two possible channels with energies 1.418 and 1.422"
   ]
  },
  {
   "cell_type": "code",
   "execution_count": 22,
   "metadata": {},
   "outputs": [
    {
     "name": "stdout",
     "output_type": "stream",
     "text": [
      "[24, 25, 26, 27] [28, 29, 30, 31, 32, 33, 34, 35, 36, 37, 38, 39, 40, 41]\n"
     ]
    }
   ],
   "source": [
    "val_indexes = []\n",
    "cond_indexes = []\n",
    "\n",
    "for ind,e in enumerate(energies):\n",
    "    if e == 0.0:\n",
    "        val_indexes.append(ind)\n",
    "\n",
    "for ind,e in enumerate(energies):\n",
    "    if e == 1.418 or e == 1.422:\n",
    "        cond_indexes.append(ind)\n",
    "\n",
    "print(val_indexes,cond_indexes)"
   ]
  },
  {
   "cell_type": "code",
   "execution_count": 23,
   "metadata": {},
   "outputs": [],
   "source": [
    "val_up  = [carriers_up[i] for i in val_indexes]\n",
    "val_dn  = [carriers_dn[i] for i in val_indexes]\n",
    "cond_up  = [carriers_up[i] for i in cond_indexes]\n",
    "cond_dn  = [carriers_dn[i] for i in cond_indexes]"
   ]
  },
  {
   "cell_type": "code",
   "execution_count": 24,
   "metadata": {},
   "outputs": [
    {
     "name": "stdout",
     "output_type": "stream",
     "text": [
      "Total carriers 0.023642\n",
      "14.153624904830375\n"
     ]
    }
   ],
   "source": [
    "sum_cond_up = sum(cond_up)\n",
    "sum_cond_dn = sum(cond_dn)\n",
    "print('Total carriers',sum_cond_up+sum_cond_dn)\n",
    "spin_pol_cond = (sum_cond_up-sum_cond_dn)/(sum_cond_up+sum_cond_dn)*100\n",
    "print(spin_pol_cond)"
   ]
  },
  {
   "cell_type": "markdown",
   "metadata": {},
   "source": [
    "## k = 100 random (k range of 0.1 centred in Gamma) - no commutator - pulse width 100 fs"
   ]
  },
  {
   "cell_type": "code",
   "execution_count": 5,
   "metadata": {},
   "outputs": [],
   "source": [
    "data_dir = 'rt_k100random_width100_no-com/FixSymm'\n",
    "last_time = '600.000'"
   ]
  },
  {
   "cell_type": "code",
   "execution_count": 6,
   "metadata": {},
   "outputs": [],
   "source": [
    "# circular polarization spanning a given frequencies range\n",
    "freq_range = [1.25,1.35,1.45,1.55,1.65,1.75,1.85]\n",
    "# linear polarization for a single frequency\n",
    "lin_freq = 1.55\n",
    "# reversed circular polarization for a single frequency\n",
    "reversed_circ_freq = 1.55"
   ]
  },
  {
   "cell_type": "code",
   "execution_count": 7,
   "metadata": {},
   "outputs": [],
   "source": [
    "magnetizations = []\n",
    "carriers = []\n",
    "for f in freq_range:\n",
    "    mgn_file = data_dir+'/freq_%s-pol_circular/o-freq_%s-pol_circular.spin_magnetization'%(f,f)\n",
    "    carriers_file = data_dir+'/freq_%s-pol_circular/o-freq_%s-pol_circular.carriers'%(f,f)\n",
    "    magnetizations.append(C.dict_parser(mgn_file))\n",
    "    carriers.append(C.dict_parser(carriers_file))"
   ]
  },
  {
   "cell_type": "code",
   "execution_count": 8,
   "metadata": {},
   "outputs": [],
   "source": [
    "cond_pol = []\n",
    "val_pol = []\n",
    "tot_cond = []\n",
    "for mgn,car in zip(magnetizations,carriers):\n",
    "    #final_mgn = np.array([mgn['Mc_x'][-1],mgn['Mc_y'][-1],mgn['Mc_z'][-1]])\n",
    "    cond_pol.append(100.*mgn['Mc_z'][-1])\n",
    "    val_pol.append(100.*mgn['Mv_z'][-1])\n",
    "    #spin_pol.append(100*np.linalg.norm(final_mgn))\n",
    "    tot_cond.append(car['dN_elec'][-1])"
   ]
  },
  {
   "cell_type": "code",
   "execution_count": 9,
   "metadata": {
    "scrolled": true
   },
   "outputs": [
    {
     "name": "stdout",
     "output_type": "stream",
     "text": [
      "[0.000371618458, 0.0007013920113, 0.001534310053, 0.002558642067, 0.003017660929, 0.002724160673, 0.001960246358]\n",
      "[30.944895700000004, 34.016785, 36.2955213, 32.9640299, 24.2076844, 14.50175643, 9.82553884]\n",
      "[-42.0297742, -43.9233571, -45.3017563, -44.384056300000005, -40.935817400000005, -36.88586056, -31.5013647]\n"
     ]
    }
   ],
   "source": [
    "print(tot_cond)\n",
    "print(cond_pol)\n",
    "print(val_pol)"
   ]
  },
  {
   "cell_type": "code",
   "execution_count": 10,
   "metadata": {},
   "outputs": [
    {
     "data": {
      "image/png": "[encoded data removed]",
      "text/plain": [
       "<Figure size 432x288 with 2 Axes>"
      ]
     },
     "metadata": {
      "needs_background": "light"
     },
     "output_type": "display_data"
    }
   ],
   "source": [
    "fig, ax1 = plt.subplots()\n",
    "\n",
    "color = 'tab:red'\n",
    "ax1.set_xlabel('pump energy (eV)',size=14)\n",
    "ax1.set_ylabel('conduction polarization (%)', color=color,size=14)\n",
    "ax1.plot(freq_range, cond_pol, color=color)\n",
    "ax1.scatter(freq_range, cond_pol, color=color)\n",
    "ax1.tick_params(axis='y', labelcolor=color)\n",
    "\n",
    "ax2 = ax1.twinx()  # instantiate a second axes that shares the same x-axis\n",
    "\n",
    "color = 'tab:blue'\n",
    "ax2.set_ylabel('Total carriers', color=color,size=14)  # we already handled the x-label with ax1\n",
    "ax2.plot(freq_range, tot_cond, color=color)\n",
    "ax2.scatter(freq_range, tot_cond, color=color)\n",
    "ax2.tick_params(axis='y', labelcolor=color)\n",
    "\n",
    "fig.tight_layout()  # otherwise the right y-label is slightly clipped\n",
    "plt.show()"
   ]
  },
  {
   "cell_type": "code",
   "execution_count": 11,
   "metadata": {},
   "outputs": [
    {
     "data": {
      "image/png": "[encoded data removed]",
      "text/plain": [
       "<Figure size 432x288 with 2 Axes>"
      ]
     },
     "metadata": {
      "needs_background": "light"
     },
     "output_type": "display_data"
    }
   ],
   "source": [
    "fig, ax1 = plt.subplots()\n",
    "\n",
    "color = 'tab:red'\n",
    "ax1.set_xlabel('pump energy (eV)',size=14)\n",
    "ax1.set_ylabel('valence polarization (%)', color=color,size=14)\n",
    "ax1.plot(freq_range, val_pol, color=color)\n",
    "ax1.scatter(freq_range, val_pol, color=color)\n",
    "ax1.tick_params(axis='y', labelcolor=color)\n",
    "\n",
    "ax2 = ax1.twinx()  # instantiate a second axes that shares the same x-axis\n",
    "\n",
    "color = 'tab:blue'\n",
    "ax2.set_ylabel('Total carriers', color=color,size=14)  # we already handled the x-label with ax1\n",
    "ax2.plot(freq_range, tot_cond, color=color)\n",
    "ax2.scatter(freq_range, tot_cond, color=color)\n",
    "ax2.tick_params(axis='y', labelcolor=color)\n",
    "\n",
    "fig.tight_layout()  # otherwise the right y-label is slightly clipped\n",
    "plt.show()"
   ]
  },
  {
   "cell_type": "code",
   "execution_count": null,
   "metadata": {},
   "outputs": [],
   "source": []
  },
  {
   "cell_type": "code",
   "execution_count": null,
   "metadata": {},
   "outputs": [],
   "source": []
  },
  {
   "cell_type": "code",
   "execution_count": null,
   "metadata": {},
   "outputs": [],
   "source": []
  },
  {
   "cell_type": "code",
   "execution_count": null,
   "metadata": {},
   "outputs": [],
   "source": []
  },
  {
   "cell_type": "code",
   "execution_count": null,
   "metadata": {},
   "outputs": [],
   "source": []
  },
  {
   "cell_type": "code",
   "execution_count": null,
   "metadata": {},
   "outputs": [],
   "source": [
    "#################################################################################################à"
   ]
  },
  {
   "cell_type": "markdown",
   "metadata": {},
   "source": [
    "## k = 8x8x8 - width = 40 fs"
   ]
  },
  {
   "cell_type": "code",
   "execution_count": 10,
   "metadata": {},
   "outputs": [],
   "source": [
    "data_dir = 'rt_k8_width40/FixSymm'\n",
    "last_time = '240.000'"
   ]
  },
  {
   "cell_type": "code",
   "execution_count": 11,
   "metadata": {},
   "outputs": [],
   "source": [
    "# circular polarization spanning a given frequencies range\n",
    "freq_range = [1.15,1.25,1.35,1.45,1.55,1.65,1.75,1.85]\n",
    "# linear polarization for a single frequency\n",
    "lin_freq = 1.55\n",
    "# reversed circular polarization for a single frequency\n",
    "reversed_circ_freq = 1.55"
   ]
  },
  {
   "cell_type": "markdown",
   "metadata": {},
   "source": [
    "We compute the total number of electrons in the conduction band, for a given frequency, (at the last simulation time) for each spin polarization"
   ]
  },
  {
   "cell_type": "code",
   "execution_count": 12,
   "metadata": {},
   "outputs": [
    {
     "name": "stdout",
     "output_type": "stream",
     "text": [
      "frequency =  1.55\n"
     ]
    }
   ],
   "source": [
    "f = freq_range[4]\n",
    "print('frequency = ',f)\n",
    "file_tot = data_dir+'/ypp_freq_%s-pol_circular/o-freq_%s-pol_circular.YPP-RT_occupations_DATA'%(f,f)\n",
    "file_up = data_dir+'/ypp_freq_%s-pol_circular/o-freq_%s-pol_circular.YPP-RT_occupations_up_DATA'%(f,f)\n",
    "file_dn = data_dir+'/ypp_freq_%s-pol_circular/o-freq_%s-pol_circular.YPP-RT_occupations_dn_DATA'%(f,f)\n",
    "data_tot = C.dict_parser(file_tot)\n",
    "data_up = C.dict_parser(file_up)\n",
    "data_dn = C.dict_parser(file_dn)"
   ]
  },
  {
   "cell_type": "code",
   "execution_count": 13,
   "metadata": {},
   "outputs": [],
   "source": [
    "energies = data_tot['E']\n",
    "carriers_up = data_up[last_time]\n",
    "carriers_dn = data_dn[last_time]\n",
    "carriers_tot = data_tot[last_time]"
   ]
  },
  {
   "cell_type": "code",
   "execution_count": 14,
   "metadata": {},
   "outputs": [
    {
     "data": {
      "text/plain": [
       "(-0.005, 0.005)"
      ]
     },
     "execution_count": 14,
     "metadata": {},
     "output_type": "execute_result"
    },
    {
     "data": {
      "image/png": "[encoded data removed]",
      "text/plain": [
       "<Figure size 432x288 with 1 Axes>"
      ]
     },
     "metadata": {
      "needs_background": "light"
     },
     "output_type": "display_data"
    }
   ],
   "source": [
    "plt.scatter(energies,carriers_up)\n",
    "plt.scatter(energies,carriers_dn)\n",
    "plt.ylim((-0.005,0.005))"
   ]
  },
  {
   "cell_type": "markdown",
   "metadata": {},
   "source": [
    "See how the spin polarization emerges at E=1.418"
   ]
  },
  {
   "cell_type": "code",
   "execution_count": 15,
   "metadata": {},
   "outputs": [
    {
     "name": "stdout",
     "output_type": "stream",
     "text": [
      "[2044, 2045, 2046, 2047] [2048, 2049]\n"
     ]
    }
   ],
   "source": [
    "val_indexes = []\n",
    "cond_indexes = []\n",
    "\n",
    "for ind,e in enumerate(energies):\n",
    "    if e == 0.0:\n",
    "        val_indexes.append(ind)\n",
    "\n",
    "for ind,e in enumerate(energies):\n",
    "    if e == 1.418:\n",
    "        cond_indexes.append(ind)\n",
    "\n",
    "print(val_indexes,cond_indexes)"
   ]
  },
  {
   "cell_type": "code",
   "execution_count": 16,
   "metadata": {},
   "outputs": [],
   "source": [
    "val_up  = [carriers_up[i] for i in val_indexes]\n",
    "val_dn  = [carriers_dn[i] for i in val_indexes]\n",
    "cond_up  = [carriers_up[i] for i in cond_indexes]\n",
    "cond_dn  = [carriers_dn[i] for i in cond_indexes]"
   ]
  },
  {
   "cell_type": "code",
   "execution_count": 17,
   "metadata": {},
   "outputs": [
    {
     "name": "stdout",
     "output_type": "stream",
     "text": [
      "Total carriers 0.004394830000000001\n",
      "40.48461487702596 22.89556926017795\n"
     ]
    }
   ],
   "source": [
    "sum_cond_up = sum(cond_up)\n",
    "sum_cond_dn = sum(cond_dn)\n",
    "print('Total carriers',sum_cond_up+sum_cond_dn)\n",
    "spin_pol_cond = (sum_cond_up-sum_cond_dn)/(sum_cond_up+sum_cond_dn)*100\n",
    "sum_val_up = sum(val_up)\n",
    "sum_val_dn = sum(val_dn)\n",
    "spin_pol_val = (sum_val_up-sum_val_dn)/(sum_val_up+sum_val_dn)*100\n",
    "print(spin_pol_cond,spin_pol_val)"
   ]
  },
  {
   "cell_type": "markdown",
   "metadata": {},
   "source": [
    "The total number of carriers in the conduction band is computed by integrating the carriers for energies > 0"
   ]
  },
  {
   "cell_type": "code",
   "execution_count": null,
   "metadata": {},
   "outputs": [],
   "source": [
    "cond_thrs = cond_indexes[0]"
   ]
  },
  {
   "cell_type": "markdown",
   "metadata": {},
   "source": [
    "and the associated spin polarization is"
   ]
  },
  {
   "cell_type": "code",
   "execution_count": 58,
   "metadata": {},
   "outputs": [
    {
     "name": "stdout",
     "output_type": "stream",
     "text": [
      "39.53066138564004 22.499684393721285\n"
     ]
    }
   ],
   "source": [
    "tot_cond_up = sum(carriers_up[cond_thrs:])\n",
    "tot_cond_dn = sum(carriers_dn[cond_thrs:])\n",
    "tot_spin_pol_cond = (tot_cond_up-tot_cond_dn)/(tot_cond_up+tot_cond_dn)*100\n",
    "tot_val_up = sum(carriers_up[0:cond_thrs])\n",
    "tot_val_dn = sum(carriers_dn[0:cond_thrs])\n",
    "tot_spin_pol_val = (tot_val_up-tot_val_dn)/(tot_val_up+tot_val_dn)*100\n",
    "print(tot_spin_pol_cond,tot_spin_pol_val)"
   ]
  }
 ],
 "metadata": {
  "kernelspec": {
   "display_name": "Python 3",
   "language": "python",
   "name": "python3"
  },
  "language_info": {
   "codemirror_mode": {
    "name": "ipython",
    "version": 3
   },
   "file_extension": ".py",
   "mimetype": "text/x-python",
   "name": "python",
   "nbconvert_exporter": "python",
   "pygments_lexer": "ipython3",
   "version": "3.5.3"
  }
 },
 "nbformat": 4,
 "nbformat_minor": 2
}
