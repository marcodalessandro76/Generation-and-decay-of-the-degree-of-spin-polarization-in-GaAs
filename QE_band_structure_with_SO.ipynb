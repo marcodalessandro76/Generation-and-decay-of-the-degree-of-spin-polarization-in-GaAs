{
 "cells": [
  {
   "cell_type": "code",
   "execution_count": 1,
   "metadata": {},
   "outputs": [],
   "source": [
    "import numpy as np\n",
    "import os\n",
    "import matplotlib.pyplot as plt\n",
    "from mppi import InputFiles as I, Calculators as C, Datasets as D"
   ]
  },
  {
   "cell_type": "code",
   "execution_count": 2,
   "metadata": {},
   "outputs": [],
   "source": [
    "omp = 2\n",
    "mpi_run = 'mpirun -np 16'"
   ]
  },
  {
   "cell_type": "markdown",
   "metadata": {},
   "source": [
    "# QE band structure with SO interaction"
   ]
  },
  {
   "cell_type": "markdown",
   "metadata": {},
   "source": [
    "The aim of this analysis is discuss the ground state property and the band structure of GaAs including the spin-orbit interaction. \n",
    "\n",
    "We use a full relativistic norm conserving (NC) psp based on LDA. With this choice Ga has 3 valence electrons and the minimum energy cutoff is 52 Ry, while As has 5 valence electrons and the suggested cutoff is 76 Ry."
   ]
  },
  {
   "cell_type": "markdown",
   "metadata": {},
   "source": [
    "## SCF calculation : convergence of the GS energy"
   ]
  },
  {
   "cell_type": "markdown",
   "metadata": {},
   "source": [
    "As usual we perform a convergence procedure based on the total energy of the GS to fix the converged value of the cut-off energy and of the number of kpoints for the GS density"
   ]
  },
  {
   "cell_type": "code",
   "execution_count": 3,
   "metadata": {},
   "outputs": [],
   "source": [
    "input = I.PwIn()\n",
    "Ga = [0.,0.,0.]\n",
    "As = [0.25,0.25,0.25]\n",
    "\n",
    "input.set_pseudo_dir('../pseudos')\n",
    "input.set_calculation('scf')\n",
    "\n",
    "input.set_occupations('fixed')\n",
    "input.system['ibrav'] = 2\n",
    "input.system['celldm(1)'] = 10.677\n",
    "input.system['noncolin'] = '.true.'\n",
    "input.system['lspinorb'] = '.true.'\n",
    "input.set_atoms_type(2)\n",
    "input.set_atoms_number(2)\n",
    "input.set_atoms_position(pos_type='crystal',pos_list=[['Ga',Ga],['As',As]])\n",
    "input.atypes = {'Ga': [69.72,'Ga_rel.pz-rrkj3.UPF'],\\\n",
    "                'As': [74.92,'As_rel.pz-rrkj3.UPF']}\n",
    "input.set_convergence_thr(1e-8)\n",
    "\n",
    "#print(input)"
   ]
  },
  {
   "cell_type": "code",
   "execution_count": 4,
   "metadata": {},
   "outputs": [
    {
     "name": "stdout",
     "output_type": "stream",
     "text": [
      "Initialize a qe calculator with command OMP_NUM_THREADS=2 mpirun -np 16 pw.x\n"
     ]
    }
   ],
   "source": [
    "code = C.QeCalculator(omp=omp,mpi_run=mpi_run,executable='pw.x',verbose=True,skip=True)"
   ]
  },
  {
   "cell_type": "code",
   "execution_count": 5,
   "metadata": {},
   "outputs": [],
   "source": [
    "gs_study = D.Dataset(label='gs_convergence',run_dir='gs_convergence',pre_processing='scf')"
   ]
  },
  {
   "cell_type": "code",
   "execution_count": 6,
   "metadata": {},
   "outputs": [],
   "source": [
    "kpoints = [4,5,6,7] \n",
    "ecut = [20,40,60,80,100] # in Ry"
   ]
  },
  {
   "cell_type": "code",
   "execution_count": 7,
   "metadata": {},
   "outputs": [],
   "source": [
    "for k in kpoints:\n",
    "    for e in ecut:\n",
    "        idd = {'k' : k, 'ecut' : e} \n",
    "        input.set_prefix(D.name_from_id(idd))\n",
    "        input.set_kpoints(ktype='automatic',kpoints=[k,k,k])\n",
    "        input.set_energy_cutoff(e)\n",
    "        gs_study.append_run(id=idd,calculator=code,input=input)"
   ]
  },
  {
   "cell_type": "code",
   "execution_count": 8,
   "metadata": {},
   "outputs": [
    {
     "name": "stdout",
     "output_type": "stream",
     "text": [
      "Folder gs_convergence already exists\n"
     ]
    }
   ],
   "source": [
    "gs_study.pre_processing_function()"
   ]
  },
  {
   "cell_type": "code",
   "execution_count": 9,
   "metadata": {
    "scrolled": true
   },
   "outputs": [
    {
     "name": "stdout",
     "output_type": "stream",
     "text": [
      "skip the computation for : ecut_20-k_4.in\n",
      "parse file : gs_convergence/ecut_20-k_4.save/data-file-schema.xml\n",
      "skip the computation for : ecut_40-k_4.in\n",
      "parse file : gs_convergence/ecut_40-k_4.save/data-file-schema.xml\n",
      "skip the computation for : ecut_60-k_4.in\n",
      "parse file : gs_convergence/ecut_60-k_4.save/data-file-schema.xml\n",
      "skip the computation for : ecut_80-k_4.in\n",
      "parse file : gs_convergence/ecut_80-k_4.save/data-file-schema.xml\n",
      "skip the computation for : ecut_100-k_4.in\n",
      "parse file : gs_convergence/ecut_100-k_4.save/data-file-schema.xml\n",
      "skip the computation for : ecut_20-k_5.in\n",
      "parse file : gs_convergence/ecut_20-k_5.save/data-file-schema.xml\n",
      "skip the computation for : ecut_40-k_5.in\n",
      "parse file : gs_convergence/ecut_40-k_5.save/data-file-schema.xml\n",
      "skip the computation for : ecut_60-k_5.in\n",
      "parse file : gs_convergence/ecut_60-k_5.save/data-file-schema.xml\n",
      "skip the computation for : ecut_80-k_5.in\n",
      "parse file : gs_convergence/ecut_80-k_5.save/data-file-schema.xml\n",
      "skip the computation for : ecut_100-k_5.in\n",
      "parse file : gs_convergence/ecut_100-k_5.save/data-file-schema.xml\n",
      "skip the computation for : ecut_20-k_6.in\n",
      "parse file : gs_convergence/ecut_20-k_6.save/data-file-schema.xml\n",
      "skip the computation for : ecut_40-k_6.in\n",
      "parse file : gs_convergence/ecut_40-k_6.save/data-file-schema.xml\n",
      "skip the computation for : ecut_60-k_6.in\n",
      "parse file : gs_convergence/ecut_60-k_6.save/data-file-schema.xml\n",
      "skip the computation for : ecut_80-k_6.in\n",
      "parse file : gs_convergence/ecut_80-k_6.save/data-file-schema.xml\n",
      "skip the computation for : ecut_100-k_6.in\n",
      "parse file : gs_convergence/ecut_100-k_6.save/data-file-schema.xml\n",
      "skip the computation for : ecut_20-k_7.in\n",
      "parse file : gs_convergence/ecut_20-k_7.save/data-file-schema.xml\n",
      "skip the computation for : ecut_40-k_7.in\n",
      "parse file : gs_convergence/ecut_40-k_7.save/data-file-schema.xml\n",
      "skip the computation for : ecut_60-k_7.in\n",
      "parse file : gs_convergence/ecut_60-k_7.save/data-file-schema.xml\n",
      "skip the computation for : ecut_80-k_7.in\n",
      "parse file : gs_convergence/ecut_80-k_7.save/data-file-schema.xml\n",
      "skip the computation for : ecut_100-k_7.in\n",
      "parse file : gs_convergence/ecut_100-k_7.save/data-file-schema.xml\n"
     ]
    }
   ],
   "source": [
    "gs_study.run(post_processing=True)"
   ]
  },
  {
   "cell_type": "code",
   "execution_count": 10,
   "metadata": {},
   "outputs": [
    {
     "data": {
      "image/png": "[encoded data removed]",
      "text/plain": [
       "<Figure size 432x288 with 1 Axes>"
      ]
     },
     "metadata": {
      "needs_background": "light"
     },
     "output_type": "display_data"
    }
   ],
   "source": [
    "# E_tot gives the energy in Hartree and it is rescaled in Ry\n",
    "for k in kpoints:\n",
    "    data=gs_study.fetch_results(id={'k': k},attribute='E_tot')\n",
    "    plt.plot(ecut,2*np.array(data),label='k='+str(k))\n",
    "plt.title(gs_study.label,size=14)\n",
    "plt.xlabel('cutoff energy (Ry)',size=12)\n",
    "plt.ylabel('gs energy (Ry)',size=12)\n",
    "plt.legend()\n",
    "plt.show()"
   ]
  },
  {
   "cell_type": "markdown",
   "metadata": {},
   "source": [
    "On this basis of this analysis we choose the converged parameters:"
   ]
  },
  {
   "cell_type": "code",
   "execution_count": 7,
   "metadata": {},
   "outputs": [],
   "source": [
    "k_conv = 6\n",
    "ecut_conv = 80"
   ]
  },
  {
   "cell_type": "markdown",
   "metadata": {},
   "source": [
    "## SCF without symmetry"
   ]
  },
  {
   "cell_type": "markdown",
   "metadata": {},
   "source": [
    "We perform one scf computation using the converged parameters but we remove the symmetry at the level of QE. This is useful to check if the ypp procedure for removing symmetries is correct"
   ]
  },
  {
   "cell_type": "code",
   "execution_count": 8,
   "metadata": {},
   "outputs": [
    {
     "name": "stdout",
     "output_type": "stream",
     "text": [
      "&control\n",
      "              prefix = 'ecut_80-k_6-sym_no'\n",
      "         calculation = 'scf'\n",
      "          pseudo_dir = '../pseudos'\n",
      "           verbosity = 'high'\n",
      "/&end\n",
      "&system\n",
      "           celldm(1) = 10.677\n",
      "               nosym = .true.\n",
      "                 nat = 2\n",
      "               noinv = .true.\n",
      "             ecutwfc = 80\n",
      "                ntyp = 2\n",
      "            lspinorb = .true.\n",
      "         occupations = 'fixed'\n",
      "            noncolin = .true.\n",
      "               ibrav = 2\n",
      "/&end\n",
      "&electrons\n",
      "            conv_thr = 1e-08\n",
      "/&end\n",
      "ATOMIC_SPECIES\n",
      "  As    74.92  As_rel.pz-rrkj3.UPF\n",
      "  Ga    69.72  Ga_rel.pz-rrkj3.UPF\n",
      "ATOMIC_POSITIONS { crystal }\n",
      " Ga   0.0000000000   0.0000000000   0.0000000000\n",
      " As   0.2500000000   0.2500000000   0.2500000000\n",
      "K_POINTS { automatic }\n",
      "  6  6  6  0  0  0\n",
      "\n"
     ]
    }
   ],
   "source": [
    "idd = {'k' : k_conv, 'ecut' : ecut_conv, 'sym' : 'no'} \n",
    "input.set_prefix(D.name_from_id(idd))\n",
    "input.set_kpoints(ktype='automatic',kpoints=[k_conv,k_conv,k_conv])\n",
    "input.set_energy_cutoff(ecut_conv)\n",
    "input.system['nosym'] = '.true.'\n",
    "input.system['noinv'] = '.true.'\n",
    "print(input)\n",
    "gs_study.append_run(id=idd,calculator=code,input=input)"
   ]
  },
  {
   "cell_type": "code",
   "execution_count": 9,
   "metadata": {},
   "outputs": [
    {
     "name": "stdout",
     "output_type": "stream",
     "text": [
      "execute : cd gs_convergence ; OMP_NUM_THREADS=2 mpirun -np 16 pw.x -inp ecut_80-k_6-sym_no.in > ecut_80-k_6-sym_no.log\n",
      "parse file : gs_convergence/ecut_80-k_6-sym_no.save/data-file-schema.xml\n"
     ]
    }
   ],
   "source": [
    "gs_study.run(post_processing=True)"
   ]
  },
  {
   "cell_type": "markdown",
   "metadata": {},
   "source": [
    "## NSCF calculation : computation of the band structure"
   ]
  },
  {
   "cell_type": "markdown",
   "metadata": {},
   "source": [
    "We compute the band structure of the GaAs with the aim to determine the feature of the X, Gamma and L valleys\n",
    "that are relevant for the subsequent pump and probe analysis."
   ]
  },
  {
   "cell_type": "markdown",
   "metadata": {},
   "source": [
    "Define a dictionary with the position of the high symmetry points of the GaAs lattice"
   ]
  },
  {
   "cell_type": "code",
   "execution_count": 13,
   "metadata": {},
   "outputs": [],
   "source": [
    "G = [0.,0.,0.]\n",
    "X = [1.,0.,0.]\n",
    "L = [0.5,0.5,0.5]\n",
    "W = [1.0,0.5,0.]\n",
    "#K = [0.75,0.75,0.]\n",
    "high_sym = {'X':X,'L':L,'G':G,'W':W}"
   ]
  },
  {
   "cell_type": "markdown",
   "metadata": {},
   "source": [
    "Bands are computed along the following path"
   ]
  },
  {
   "cell_type": "code",
   "execution_count": 14,
   "metadata": {},
   "outputs": [],
   "source": [
    "numBands = 12\n",
    "numStep = [30]\n",
    "klist = [L+numStep,G+numStep,X+numStep,W+[0]]"
   ]
  },
  {
   "cell_type": "code",
   "execution_count": 15,
   "metadata": {},
   "outputs": [
    {
     "name": "stdout",
     "output_type": "stream",
     "text": [
      "Initialize a qe calculator with command OMP_NUM_THREADS=2 mpirun -np 8 pw.x\n"
     ]
    }
   ],
   "source": [
    "code = C.QeCalculator(omp=omp,mpi_run=mpi_run,executable='pw.x',verbose=True,skip=True)"
   ]
  },
  {
   "cell_type": "code",
   "execution_count": 16,
   "metadata": {},
   "outputs": [],
   "source": [
    "bnds_study = D.Dataset(label='bands',run_dir='qe_bands',pre_processing='nscf')"
   ]
  },
  {
   "cell_type": "markdown",
   "metadata": {},
   "source": [
    "Append the chosen bands computations to the dataset. The idd, and consequently the prefix of this computation are chosen so that the scf.save folder with the converged kpoints and ecut parameters is used as input"
   ]
  },
  {
   "cell_type": "code",
   "execution_count": 17,
   "metadata": {},
   "outputs": [],
   "source": [
    "input.set_calculation('nscf')\n",
    "input.system['nbnd'] = numBands\n",
    "idd = {'nbnd' : numBands} \n",
    "input.set_prefix(D.name_from_id(idd))\n",
    "input.set_energy_cutoff(ecut_conv)\n",
    "input.set_kpoints(ktype='tpiba_b',klist=klist)\n",
    "\n",
    "bnds_study.append_run(id=idd,calculator=code,input=input)"
   ]
  },
  {
   "cell_type": "code",
   "execution_count": 18,
   "metadata": {},
   "outputs": [
    {
     "name": "stdout",
     "output_type": "stream",
     "text": [
      "Create folder qe_bands\n",
      "execute :  cp -r gs_convergence/ecut_80-k_6.save/ qe_bands/nbnd_12.save\n"
     ]
    }
   ],
   "source": [
    "bnds_study.pre_processing_function(source_dir='gs_convergence/ecut_80-k_6.save/')"
   ]
  },
  {
   "cell_type": "markdown",
   "metadata": {},
   "source": [
    "Run the dataset and extract the results of the (only) computation"
   ]
  },
  {
   "cell_type": "code",
   "execution_count": 19,
   "metadata": {},
   "outputs": [
    {
     "name": "stdout",
     "output_type": "stream",
     "text": [
      "execute : cd qe_bands ; OMP_NUM_THREADS=2 mpirun -np 8 pw.x -inp nbnd_12.in > nbnd_12.log\n",
      "parse file : qe_bands/nbnd_12.save/data-file-schema.xml\n"
     ]
    }
   ],
   "source": [
    "bnds_study.run(post_processing=True)"
   ]
  },
  {
   "cell_type": "markdown",
   "metadata": {},
   "source": [
    "Get the band structure"
   ]
  },
  {
   "cell_type": "code",
   "execution_count": 20,
   "metadata": {},
   "outputs": [
    {
     "name": "stderr",
     "output_type": "stream",
     "text": [
      "No handles with labels found to put in legend.\n"
     ]
    },
    {
     "data": {
      "image/png": "[encoded data removed]",
      "text/plain": [
       "<Figure size 432x288 with 1 Axes>"
      ]
     },
     "metadata": {
      "needs_background": "light"
     },
     "output_type": "display_data"
    }
   ],
   "source": [
    "results = bnds_study.results[0]\n",
    "bands = results.band_structure()"
   ]
  },
  {
   "cell_type": "markdown",
   "metadata": {},
   "source": [
    "Plot the relevant band and identify the position of the high symmetry points on the path.\n",
    "\n",
    "We use kpoints_cart.tolist() to add the position on the path to the high_sym dictionary"
   ]
  },
  {
   "cell_type": "code",
   "execution_count": 21,
   "metadata": {},
   "outputs": [],
   "source": [
    "k_values = bands[:,0] # position on the path\n",
    "kpoints_cart = results.kpt_cart # cartesian position for each value on the path\n",
    "positions = []\n",
    "labels = []\n",
    "for point in high_sym:\n",
    "    index = kpoints_cart.tolist().index(high_sym[point])\n",
    "    labels.append(point)\n",
    "    positions.append(k_values[index])"
   ]
  },
  {
   "cell_type": "markdown",
   "metadata": {},
   "source": [
    "There are 8 electrons, the first band is bands[;1] since bands[;0] gives the k-points on the path. \n",
    "The last occupied band for spin up (down) is 7 (8). \n",
    "The first empty band is for spin up (down) is 9 (10)"
   ]
  },
  {
   "cell_type": "code",
   "execution_count": 22,
   "metadata": {},
   "outputs": [
    {
     "data": {
      "image/png": "[encoded data removed]",
      "text/plain": [
       "<Figure size 432x288 with 1 Axes>"
      ]
     },
     "metadata": {
      "needs_background": "light"
     },
     "output_type": "display_data"
    }
   ],
   "source": [
    "plotted_bands_up = [3,5,7,9,11]\n",
    "plotted_bands_down = [4,6,8,10,12]\n",
    "for b in plotted_bands_up:\n",
    "    plt.plot(k_values,bands[:,b])\n",
    "\n",
    "for b in plotted_bands_down:\n",
    "    plt.plot(k_values,bands[:,b],ls='--')\n",
    "\n",
    "for pos in positions:\n",
    "    plt.axvline(pos,color='black',ls='--')\n",
    "\n",
    "ax = plt.gca() # grab the current axis\n",
    "ax.set_xticks(positions) # choose which x locations to have ticks\n",
    "ax.set_xticklabels(labels) # set the labels to display at those ticks\n",
    "plt.title('GaAs with SO',size = 14)\n",
    "plt.ylim((1,10))\n",
    "plt.show()"
   ]
  },
  {
   "cell_type": "code",
   "execution_count": 23,
   "metadata": {},
   "outputs": [
    {
     "name": "stdout",
     "output_type": "stream",
     "text": [
      "gap in G spin up : 0.418 spin down : 0.418\n",
      "gap in X spin up : 3.968 spin down : 3.968\n",
      "gap in L spin up : 1.941 spin down : 1.941\n",
      "gap in W spin up : 7.711 spin down : 7.849\n"
     ]
    }
   ],
   "source": [
    "for lb, pos in zip(labels,positions):\n",
    "    gap_up = bands[:,9][k_values.tolist().index(pos)]-bands[:,7][k_values.tolist().index(pos)]\n",
    "    gap_down = bands[:,10][k_values.tolist().index(pos)]-bands[:,8][k_values.tolist().index(pos)]\n",
    "    print('gap in',lb,'spin up : %.3f spin down : %.3f'%(gap_up,gap_down))"
   ]
  },
  {
   "cell_type": "markdown",
   "metadata": {},
   "source": [
    "There seems to be an asymmetry in the W point."
   ]
  },
  {
   "cell_type": "markdown",
   "metadata": {},
   "source": [
    "We plot the difference between the energies of the valence and conduction bands for spin up and down along the whole path"
   ]
  },
  {
   "cell_type": "code",
   "execution_count": 24,
   "metadata": {},
   "outputs": [
    {
     "data": {
      "text/plain": [
       "[Text(0, 0, 'G'), Text(0, 0, 'X'), Text(0, 0, 'L'), Text(0, 0, 'W')]"
      ]
     },
     "execution_count": 24,
     "metadata": {},
     "output_type": "execute_result"
    },
    {
     "data": {
      "image/png": "[encoded data removed]",
      "text/plain": [
       "<Figure size 432x288 with 1 Axes>"
      ]
     },
     "metadata": {
      "needs_background": "light"
     },
     "output_type": "display_data"
    }
   ],
   "source": [
    "plt.plot(k_values,abs(bands[:,7]-bands[:,8]),label='valence spin diff')\n",
    "plt.plot(k_values,abs(bands[:,9]-bands[:,10]),label='conductions spin diff')\n",
    "plt.legend()\n",
    "ax = plt.gca() # grab the current axis\n",
    "ax.set_xticks(positions) # choose which x locations to have ticks\n",
    "ax.set_xticklabels(labels) # set the labels to display at those ticks"
   ]
  },
  {
   "cell_type": "code",
   "execution_count": null,
   "metadata": {},
   "outputs": [],
   "source": []
  }
 ],
 "metadata": {
  "kernelspec": {
   "display_name": "Python 3",
   "language": "python",
   "name": "python3"
  },
  "language_info": {
   "codemirror_mode": {
    "name": "ipython",
    "version": 3
   },
   "file_extension": ".py",
   "mimetype": "text/x-python",
   "name": "python",
   "nbconvert_exporter": "python",
   "pygments_lexer": "ipython3",
   "version": "3.5.3"
  }
 },
 "nbformat": 4,
 "nbformat_minor": 2
}
