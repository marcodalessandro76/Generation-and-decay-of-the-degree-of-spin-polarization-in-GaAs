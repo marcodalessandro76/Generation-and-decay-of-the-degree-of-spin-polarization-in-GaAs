{
 "cells": [
  {
   "cell_type": "code",
   "execution_count": 1,
   "metadata": {},
   "outputs": [],
   "source": [
    "import numpy as np\n",
    "import os\n",
    "import matplotlib.pyplot as plt\n",
    "from mppi import InputFiles as I, Calculators as C, Datasets as D"
   ]
  },
  {
   "cell_type": "code",
   "execution_count": 2,
   "metadata": {},
   "outputs": [],
   "source": [
    "omp = 1\n",
    "mpi_run = 'mpirun -np 8'"
   ]
  },
  {
   "cell_type": "markdown",
   "metadata": {},
   "source": [
    "# Optical absorption spectrum in the IP approximantion"
   ]
  },
  {
   "cell_type": "code",
   "execution_count": 56,
   "metadata": {},
   "outputs": [
    {
     "name": "stdout",
     "output_type": "stream",
     "text": [
      "Initialize a Yambo calculator with command OMP_NUM_THREADS=1 mpirun -np 8 yambo\n",
      "Suffix for post_processing :  eps_q1_ip\n"
     ]
    }
   ],
   "source": [
    "code = C.YamboCalculator(omp=omp,mpi_run=mpi_run,executable='yambo',suffix='eps_q1_ip',skip=False)"
   ]
  },
  {
   "cell_type": "code",
   "execution_count": 57,
   "metadata": {},
   "outputs": [],
   "source": [
    "yambo = D.Dataset(label='optics',run_dir='abs_spectrum_ip',pre_processing='yambo')"
   ]
  },
  {
   "cell_type": "code",
   "execution_count": 58,
   "metadata": {},
   "outputs": [
    {
     "name": "stdout",
     "output_type": "stream",
     "text": [
      "SAVE folder already present in abs_spectrum_ip\n"
     ]
    }
   ],
   "source": [
    "source = 'nscf/bnds_40-kpoints_8.save'\n",
    "yambo.pre_processing_function(source_dir=source)"
   ]
  },
  {
   "cell_type": "code",
   "execution_count": 59,
   "metadata": {},
   "outputs": [],
   "source": [
    "yambo_in = I.YamboIn('yambo -o c',folder=yambo.run_dir)"
   ]
  },
  {
   "cell_type": "code",
   "execution_count": 60,
   "metadata": {},
   "outputs": [],
   "source": [
    "idd = 'asborption_ip'\n",
    "yambo_in['LongDrXd'] = [1.00,1.00,1.00] # electric field\n",
    "yambo_in['BndsRnXd'] = [1,10] # bands considered\n",
    "yambo_in['QpntsRXd'] = [1,1] # momentum transfer\n",
    "yambo_in['DmRngeXd'] = [[0.1,0.2],'eV'] # damping range\n",
    "yambo_in['EnRngeXd'] = [[0,8],'eV'] # energy range\n",
    "yambo_in['XfnQP_E'] = [1.00,1.00,1.00] # scissor\n",
    "yambo.append_run(id=idd,calculator=code,input=yambo_in)"
   ]
  },
  {
   "cell_type": "code",
   "execution_count": 61,
   "metadata": {},
   "outputs": [
    {
     "name": "stdout",
     "output_type": "stream",
     "text": [
      "chi\n",
      "optics\n",
      "X_Threads = 0.000000e+00 \n",
      "DIP_Threads = 0.000000e+00 \n",
      "NGsBlkXd = 1.000000 RL\n",
      "ETStpsXd = 100.000000 \n",
      "Chimod =       'IP'\n",
      "% QpntsRXd\n",
      " 1 | 1 |   \n",
      "%\n",
      "% BndsRnXd\n",
      " 1 | 10 |   \n",
      "%\n",
      "% EnRngeXd\n",
      " 0 | 8 |  eV \n",
      "%\n",
      "% DmRngeXd\n",
      " 0.1 | 0.2 |  eV \n",
      "%\n",
      "% LongDrXd\n",
      " 1.0 | 1.0 | 1.0 |   \n",
      "%\n",
      "% XfnQP_E\n",
      " 1.0 | 1.0 | 1.0 |   \n",
      "%\n",
      "\n"
     ]
    }
   ],
   "source": [
    "print(yambo_in)"
   ]
  },
  {
   "cell_type": "code",
   "execution_count": 62,
   "metadata": {},
   "outputs": [
    {
     "name": "stdout",
     "output_type": "stream",
     "text": [
      "delete folder : abs_spectrum_ip/asborption_ip\n",
      "execute : cd abs_spectrum_ip ; OMP_NUM_THREADS=1 mpirun -np 8 yambo -F asborption_ip.in -J asborption_ip -C asborption_ip\n",
      "parse file : abs_spectrum_ip/asborption_ip/o-asborption_ip.eps_q1_ip\n"
     ]
    }
   ],
   "source": [
    "yambo.run()"
   ]
  },
  {
   "cell_type": "code",
   "execution_count": 66,
   "metadata": {},
   "outputs": [
    {
     "data": {
      "text/plain": [
       "dict_keys(['E', 'Im', 'Re'])"
      ]
     },
     "execution_count": 66,
     "metadata": {},
     "output_type": "execute_result"
    }
   ],
   "source": [
    "res = yambo.results[0]\n",
    "res.getAttributes()"
   ]
  },
  {
   "cell_type": "code",
   "execution_count": 65,
   "metadata": {},
   "outputs": [
    {
     "data": {
      "image/png": "[encoded data removed]",
      "text/plain": [
       "<Figure size 432x288 with 1 Axes>"
      ]
     },
     "metadata": {},
     "output_type": "display_data"
    }
   ],
   "source": [
    "plt.plot(res.E,res.Im,label='im')\n",
    "#plt.plot(res.E,res.Re,label='re')\n",
    "plt.legend()\n",
    "plt.show()"
   ]
  },
  {
   "cell_type": "markdown",
   "metadata": {},
   "source": [
    "we find peaks at 1.4, 3 and 5 eV"
   ]
  },
  {
   "cell_type": "code",
   "execution_count": null,
   "metadata": {},
   "outputs": [],
   "source": []
  }
 ],
 "metadata": {
  "kernelspec": {
   "display_name": "Python 3",
   "language": "python",
   "name": "python3"
  },
  "language_info": {
   "codemirror_mode": {
    "name": "ipython",
    "version": 3
   },
   "file_extension": ".py",
   "mimetype": "text/x-python",
   "name": "python",
   "nbconvert_exporter": "python",
   "pygments_lexer": "ipython3",
   "version": "3.6.7"
  }
 },
 "nbformat": 4,
 "nbformat_minor": 2
}
