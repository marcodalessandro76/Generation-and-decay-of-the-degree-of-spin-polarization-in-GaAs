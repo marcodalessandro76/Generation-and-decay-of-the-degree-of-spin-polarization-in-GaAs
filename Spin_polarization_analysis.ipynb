{
 "cells": [
  {
   "cell_type": "code",
   "execution_count": 1,
   "metadata": {},
   "outputs": [],
   "source": [
    "import numpy as np\n",
    "import os\n",
    "import matplotlib.pyplot as plt\n",
    "from importlib import reload\n",
    "from mppi import InputFiles as I, Calculators as C, Datasets as D"
   ]
  },
  {
   "cell_type": "markdown",
   "metadata": {},
   "source": [
    "# Analysis of the spin polarization"
   ]
  },
  {
   "cell_type": "markdown",
   "metadata": {},
   "source": [
    "We perform the analysis of the spin polarization for the neq distribution using the ypp_rt post-processing data.\n",
    "\n",
    "We consider the various samplings of the k-points"
   ]
  },
  {
   "cell_type": "markdown",
   "metadata": {},
   "source": [
    "## k = 8x8x8"
   ]
  },
  {
   "cell_type": "code",
   "execution_count": 2,
   "metadata": {},
   "outputs": [],
   "source": [
    "data_dir = 'rt_k8/FixSymm'\n",
    "last_time = '240.000'"
   ]
  },
  {
   "cell_type": "code",
   "execution_count": 3,
   "metadata": {},
   "outputs": [],
   "source": [
    "# circular polarization spanning a given frequencies range\n",
    "freq_range = [1.15,1.25,1.35,1.45,1.55,1.65,1.75,1.85]\n",
    "# linear polarization for a single frequency\n",
    "lin_freq = 1.55\n",
    "# reversed circular polarization for a single frequency\n",
    "reversed_circ_freq = 1.55"
   ]
  },
  {
   "cell_type": "markdown",
   "metadata": {},
   "source": [
    "We compute the total number of electrons in the conduction band, for a given frequency, (at the last simulation time) for each spin polarization"
   ]
  },
  {
   "cell_type": "code",
   "execution_count": 4,
   "metadata": {},
   "outputs": [
    {
     "name": "stdout",
     "output_type": "stream",
     "text": [
      "frequency =  1.55\n"
     ]
    }
   ],
   "source": [
    "f = freq_range[4]\n",
    "print('frequency = ',f)\n",
    "file_tot = data_dir+'/ypp_freq_%s-pol_circular/o-freq_%s-pol_circular.YPP-RT_occupations_DATA'%(f,f)\n",
    "file_up = data_dir+'/ypp_freq_%s-pol_circular/o-freq_%s-pol_circular.YPP-RT_occupations_up_DATA'%(f,f)\n",
    "file_dn = data_dir+'/ypp_freq_%s-pol_circular/o-freq_%s-pol_circular.YPP-RT_occupations_dn_DATA'%(f,f)\n",
    "data_tot = C.dict_parser(file_tot)\n",
    "data_up = C.dict_parser(file_up)\n",
    "data_dn = C.dict_parser(file_dn)"
   ]
  },
  {
   "cell_type": "code",
   "execution_count": 5,
   "metadata": {},
   "outputs": [],
   "source": [
    "energies = data_tot['E']\n",
    "carriers_up = data_up[last_time]\n",
    "carriers_dn = data_dn[last_time]\n",
    "carriers_tot = data_tot[last_time]"
   ]
  },
  {
   "cell_type": "code",
   "execution_count": 6,
   "metadata": {},
   "outputs": [
    {
     "data": {
      "text/plain": [
       "<matplotlib.collections.PathCollection at 0x7f26d35d40b8>"
      ]
     },
     "execution_count": 6,
     "metadata": {},
     "output_type": "execute_result"
    },
    {
     "data": {
      "image/png": "[encoded data removed]",
      "text/plain": [
       "<Figure size 432x288 with 1 Axes>"
      ]
     },
     "metadata": {
      "needs_background": "light"
     },
     "output_type": "display_data"
    }
   ],
   "source": [
    "plt.scatter(energies,carriers_up)\n",
    "plt.scatter(energies,carriers_dn)"
   ]
  },
  {
   "cell_type": "markdown",
   "metadata": {},
   "source": [
    "See how the spin polarization emerges at E=1.418"
   ]
  },
  {
   "cell_type": "code",
   "execution_count": 7,
   "metadata": {},
   "outputs": [
    {
     "data": {
      "text/plain": [
       "[2048, 2049]"
      ]
     },
     "execution_count": 7,
     "metadata": {},
     "output_type": "execute_result"
    }
   ],
   "source": [
    "indexes = []\n",
    "for ind,e in enumerate(energies):\n",
    "    if e == 1.418:\n",
    "        indexes.append(ind)\n",
    "indexes"
   ]
  },
  {
   "cell_type": "code",
   "execution_count": 8,
   "metadata": {},
   "outputs": [
    {
     "data": {
      "text/plain": [
       "24.933665675002008"
      ]
     },
     "execution_count": 8,
     "metadata": {},
     "output_type": "execute_result"
    }
   ],
   "source": [
    "up_bin = sum(carriers_up[slice(indexes[0],indexes[-1]+1)])\n",
    "dn_bin = sum(carriers_dn[slice(indexes[0],indexes[-1]+1)])\n",
    "(up_bin-dn_bin)/(up_bin+dn_bin)*100"
   ]
  },
  {
   "cell_type": "markdown",
   "metadata": {},
   "source": [
    "It can be interesting to see how polarization is realized in the states that contribute to this energy gap"
   ]
  },
  {
   "cell_type": "code",
   "execution_count": 9,
   "metadata": {},
   "outputs": [],
   "source": [
    "up_bins = carriers_up[slice(indexes[0],indexes[-1]+1)]\n",
    "dn_bins = carriers_dn[slice(indexes[0],indexes[-1]+1)]"
   ]
  },
  {
   "cell_type": "code",
   "execution_count": 10,
   "metadata": {},
   "outputs": [
    {
     "name": "stdout",
     "output_type": "stream",
     "text": [
      "[0.01038, 0.145]\n",
      "[0.07263, 0.02073]\n",
      "-74.99096494398265\n",
      "74.98340674591203\n"
     ]
    }
   ],
   "source": [
    "print(up_bins)\n",
    "print(dn_bins)\n",
    "print((up_bins[0]-dn_bins[0])/(up_bins[0]+dn_bins[0])*100)\n",
    "print((up_bins[1]-dn_bins[1])/(up_bins[1]+dn_bins[1])*100)"
   ]
  },
  {
   "cell_type": "markdown",
   "metadata": {},
   "source": [
    "The total number of carriers in the conduction band is computed by integrating the carriers for energies > 0"
   ]
  },
  {
   "cell_type": "code",
   "execution_count": 11,
   "metadata": {},
   "outputs": [
    {
     "name": "stdout",
     "output_type": "stream",
     "text": [
      "2048 1.418\n"
     ]
    }
   ],
   "source": [
    "cond_thrs = 0\n",
    "for e in energies:\n",
    "    if e>0:\n",
    "        cond_thrs = energies.index(e)\n",
    "        break\n",
    "print(cond_thrs,energies[cond_thrs])"
   ]
  },
  {
   "cell_type": "code",
   "execution_count": 12,
   "metadata": {},
   "outputs": [
    {
     "name": "stdout",
     "output_type": "stream",
     "text": [
      "0.15911853276139945 0.09685334029399993 0.25597187305539937 0.255952032000002\n",
      "spin polarization =  24.32689906028917\n"
     ]
    }
   ],
   "source": [
    "cond_up = sum(carriers_up[cond_thrs:])\n",
    "cond_dn = sum(carriers_dn[cond_thrs:])\n",
    "cond_tot = sum(carriers_tot[cond_thrs:])\n",
    "print(cond_up,cond_dn,cond_up+cond_dn,cond_tot)\n",
    "delta = (cond_up-cond_dn)/cond_tot*100\n",
    "print('spin polarization = ',delta)"
   ]
  },
  {
   "cell_type": "markdown",
   "metadata": {},
   "source": [
    "We compute the spin polarization for all the frequency range"
   ]
  },
  {
   "cell_type": "code",
   "execution_count": 13,
   "metadata": {
    "scrolled": false
   },
   "outputs": [
    {
     "data": {
      "image/png": "[encoded data removed]",
      "text/plain": [
       "<Figure size 432x288 with 1 Axes>"
      ]
     },
     "metadata": {
      "needs_background": "light"
     },
     "output_type": "display_data"
    },
    {
     "data": {
      "text/plain": [
       "<matplotlib.collections.PathCollection at 0x7f26d101e710>"
      ]
     },
     "execution_count": 13,
     "metadata": {},
     "output_type": "execute_result"
    },
    {
     "data": {
      "image/png": "[encoded data removed]",
      "text/plain": [
       "<Figure size 432x288 with 1 Axes>"
      ]
     },
     "metadata": {
      "needs_background": "light"
     },
     "output_type": "display_data"
    }
   ],
   "source": [
    "spin_pol = []\n",
    "total_cond = []\n",
    "for f in freq_range:\n",
    "    file_tot = data_dir+'/ypp_freq_%s-pol_circular/o-freq_%s-pol_circular.YPP-RT_occupations_DATA'%(f,f)\n",
    "    file_up = data_dir+'/ypp_freq_%s-pol_circular/o-freq_%s-pol_circular.YPP-RT_occupations_up_DATA'%(f,f)\n",
    "    file_dn = data_dir+'/ypp_freq_%s-pol_circular/o-freq_%s-pol_circular.YPP-RT_occupations_dn_DATA'%(f,f)\n",
    "    data_tot = C.dict_parser(file_tot)\n",
    "    data_up = C.dict_parser(file_up)\n",
    "    data_dn = C.dict_parser(file_dn)\n",
    "    energies = data_tot['E']\n",
    "    carriers_up = data_up[last_time]\n",
    "    carriers_dn = data_dn[last_time]\n",
    "    carriers_tot = data_tot[last_time]\n",
    "    cond_thrs = 0\n",
    "    for e in energies:\n",
    "        if e>0:\n",
    "            cond_thrs = energies.index(e)\n",
    "            break\n",
    "    cond_up = sum(carriers_up[cond_thrs:])\n",
    "    cond_dn = sum(carriers_dn[cond_thrs:])\n",
    "    cond_tot = sum(carriers_tot[cond_thrs:])\n",
    "    total_cond.append(cond_tot)\n",
    "    spin_pol.append((cond_up-cond_dn)/cond_tot*100)\n",
    "plt.scatter(freq_range,total_cond)\n",
    "plt.title('Total carriers in conduction band',size = 14)\n",
    "plt.show()\n",
    "plt.title('Spin polarization',size = 14)\n",
    "plt.scatter(freq_range,spin_pol)"
   ]
  },
  {
   "cell_type": "markdown",
   "metadata": {},
   "source": [
    "## k = 8x8x8 shift"
   ]
  },
  {
   "cell_type": "code",
   "execution_count": 12,
   "metadata": {},
   "outputs": [],
   "source": [
    "data_dir = 'rt_k8_shift/FixSymm/'\n",
    "last_time = '240.000'"
   ]
  },
  {
   "cell_type": "code",
   "execution_count": 13,
   "metadata": {},
   "outputs": [],
   "source": [
    "# circular polarization spanning a given frequencies range\n",
    "freq_range = [1.15,1.25,1.35,1.45,1.55,1.65,1.75,1.85]\n",
    "# linear polarization for a single frequency\n",
    "lin_freq = 1.55\n",
    "# reversed circular polarization for a single frequency\n",
    "reversed_circ_freq = 1.55"
   ]
  },
  {
   "cell_type": "markdown",
   "metadata": {},
   "source": [
    "We compute the total number of electrons in the conduction band, for a given frequency, (at the last simulation time) for each spin polarization"
   ]
  },
  {
   "cell_type": "code",
   "execution_count": 14,
   "metadata": {},
   "outputs": [
    {
     "name": "stdout",
     "output_type": "stream",
     "text": [
      "frequency =  1.85\n"
     ]
    }
   ],
   "source": [
    "f = freq_range[7]\n",
    "print('frequency = ',f)\n",
    "file_tot = data_dir+'/ypp_freq_%s-pol_circular/o-freq_%s-pol_circular.YPP-RT_occupations_DATA'%(f,f)\n",
    "file_up = data_dir+'/ypp_freq_%s-pol_circular/o-freq_%s-pol_circular.YPP-RT_occupations_up_DATA'%(f,f)\n",
    "file_dn = data_dir+'/ypp_freq_%s-pol_circular/o-freq_%s-pol_circular.YPP-RT_occupations_dn_DATA'%(f,f)\n",
    "data_tot = C.dict_parser(file_tot)\n",
    "data_up = C.dict_parser(file_up)\n",
    "data_dn = C.dict_parser(file_dn)"
   ]
  },
  {
   "cell_type": "code",
   "execution_count": 15,
   "metadata": {},
   "outputs": [],
   "source": [
    "energies = data_tot['E']\n",
    "carriers_up = data_up[last_time]\n",
    "carriers_dn = data_dn[last_time]\n",
    "carriers_tot = data_tot[last_time]"
   ]
  },
  {
   "cell_type": "code",
   "execution_count": 16,
   "metadata": {},
   "outputs": [
    {
     "data": {
      "text/plain": [
       "<matplotlib.collections.PathCollection at 0x7fb242007400>"
      ]
     },
     "execution_count": 16,
     "metadata": {},
     "output_type": "execute_result"
    },
    {
     "data": {
      "image/png": "[encoded data removed]",
      "text/plain": [
       "<Figure size 432x288 with 1 Axes>"
      ]
     },
     "metadata": {
      "needs_background": "light"
     },
     "output_type": "display_data"
    }
   ],
   "source": [
    "plt.scatter(energies,carriers_up)\n",
    "plt.scatter(energies,carriers_dn)"
   ]
  },
  {
   "cell_type": "markdown",
   "metadata": {},
   "source": [
    "The total number of carriers in the conduction band is computed by integrating the carriers for energies > 0"
   ]
  },
  {
   "cell_type": "code",
   "execution_count": 17,
   "metadata": {},
   "outputs": [
    {
     "name": "stdout",
     "output_type": "stream",
     "text": [
      "8192 1.938\n"
     ]
    }
   ],
   "source": [
    "cond_thrs = 0\n",
    "for e in energies:\n",
    "    if e>0:\n",
    "        cond_thrs = energies.index(e)\n",
    "        break\n",
    "print(cond_thrs,energies[cond_thrs])"
   ]
  },
  {
   "cell_type": "code",
   "execution_count": 18,
   "metadata": {},
   "outputs": [
    {
     "name": "stdout",
     "output_type": "stream",
     "text": [
      "0.0309762544000002 0.03253215468000026 0.06350840908000047 0.0635055320000009\n",
      "spin polarization =  -2.450023220024414\n"
     ]
    }
   ],
   "source": [
    "cond_up = sum(carriers_up[cond_thrs:])\n",
    "cond_dn = sum(carriers_dn[cond_thrs:])\n",
    "cond_tot = sum(carriers_tot[cond_thrs:])\n",
    "print(cond_up,cond_dn,cond_up+cond_dn,cond_tot)\n",
    "delta = (cond_up-cond_dn)/cond_tot*100\n",
    "print('spin polarization = ',delta)"
   ]
  },
  {
   "cell_type": "markdown",
   "metadata": {},
   "source": [
    "We compute the spin polarization for all the frequency range"
   ]
  },
  {
   "cell_type": "code",
   "execution_count": 19,
   "metadata": {
    "scrolled": false
   },
   "outputs": [
    {
     "data": {
      "image/png": "[encoded data removed]",
      "text/plain": [
       "<Figure size 432x288 with 1 Axes>"
      ]
     },
     "metadata": {
      "needs_background": "light"
     },
     "output_type": "display_data"
    },
    {
     "data": {
      "text/plain": [
       "<matplotlib.collections.PathCollection at 0x7fb23f1418d0>"
      ]
     },
     "execution_count": 19,
     "metadata": {},
     "output_type": "execute_result"
    },
    {
     "data": {
      "image/png": "[encoded data removed]",
      "text/plain": [
       "<Figure size 432x288 with 1 Axes>"
      ]
     },
     "metadata": {
      "needs_background": "light"
     },
     "output_type": "display_data"
    }
   ],
   "source": [
    "spin_pol = []\n",
    "total_cond = []\n",
    "for f in freq_range:\n",
    "    file_tot = data_dir+'/ypp_freq_%s-pol_circular/o-freq_%s-pol_circular.YPP-RT_occupations_DATA'%(f,f)\n",
    "    file_up = data_dir+'/ypp_freq_%s-pol_circular/o-freq_%s-pol_circular.YPP-RT_occupations_up_DATA'%(f,f)\n",
    "    file_dn = data_dir+'/ypp_freq_%s-pol_circular/o-freq_%s-pol_circular.YPP-RT_occupations_dn_DATA'%(f,f)\n",
    "    data_tot = C.dict_parser(file_tot)\n",
    "    data_up = C.dict_parser(file_up)\n",
    "    data_dn = C.dict_parser(file_dn)\n",
    "    energies = data_tot['E']\n",
    "    carriers_up = data_up[last_time]\n",
    "    carriers_dn = data_dn[last_time]\n",
    "    carriers_tot = data_tot[last_time]\n",
    "    cond_thrs = 0\n",
    "    for e in energies:\n",
    "        if e>0:\n",
    "            cond_thrs = energies.index(e)\n",
    "            break\n",
    "    cond_up = sum(carriers_up[cond_thrs:])\n",
    "    cond_dn = sum(carriers_dn[cond_thrs:])\n",
    "    cond_tot = sum(carriers_tot[cond_thrs:])\n",
    "    total_cond.append(cond_tot)\n",
    "    spin_pol.append((cond_up-cond_dn)/cond_tot*100)\n",
    "plt.scatter(freq_range,total_cond)\n",
    "plt.title('Total carriers in conduction band',size = 14)\n",
    "plt.show()\n",
    "plt.title('Spin polarization',size = 14)\n",
    "plt.scatter(freq_range,spin_pol)"
   ]
  },
  {
   "cell_type": "markdown",
   "metadata": {},
   "source": [
    "## k = 10x10x10 shift"
   ]
  },
  {
   "cell_type": "code",
   "execution_count": 20,
   "metadata": {},
   "outputs": [],
   "source": [
    "data_dir = 'rt_k10_shift/FixSymm/'\n",
    "last_time = '240.000'"
   ]
  },
  {
   "cell_type": "code",
   "execution_count": 21,
   "metadata": {},
   "outputs": [],
   "source": [
    "# circular polarization spanning a given frequencies range\n",
    "freq_range = [1.15,1.25,1.35,1.45,1.55,1.65,1.75,1.85]\n",
    "# linear polarization for a single frequency\n",
    "lin_freq = 1.55\n",
    "# reversed circular polarization for a single frequency\n",
    "reversed_circ_freq = 1.55"
   ]
  },
  {
   "cell_type": "markdown",
   "metadata": {},
   "source": [
    "We compute the total number of electrons in the conduction band, for a given frequency, (at the last simulation time) for each spin polarization"
   ]
  },
  {
   "cell_type": "code",
   "execution_count": 22,
   "metadata": {},
   "outputs": [
    {
     "name": "stdout",
     "output_type": "stream",
     "text": [
      "frequency =  1.85\n"
     ]
    }
   ],
   "source": [
    "f = freq_range[7]\n",
    "print('frequency = ',f)\n",
    "file_tot = data_dir+'/ypp_freq_%s-pol_circular/o-freq_%s-pol_circular.YPP-RT_occupations_DATA'%(f,f)\n",
    "file_up = data_dir+'/ypp_freq_%s-pol_circular/o-freq_%s-pol_circular.YPP-RT_occupations_up_DATA'%(f,f)\n",
    "file_dn = data_dir+'/ypp_freq_%s-pol_circular/o-freq_%s-pol_circular.YPP-RT_occupations_dn_DATA'%(f,f)\n",
    "data_tot = C.dict_parser(file_tot)\n",
    "data_up = C.dict_parser(file_up)\n",
    "data_dn = C.dict_parser(file_dn)"
   ]
  },
  {
   "cell_type": "code",
   "execution_count": 23,
   "metadata": {},
   "outputs": [],
   "source": [
    "energies = data_tot['E']\n",
    "carriers_up = data_up[last_time]\n",
    "carriers_dn = data_dn[last_time]\n",
    "carriers_tot = data_tot[last_time]"
   ]
  },
  {
   "cell_type": "code",
   "execution_count": 24,
   "metadata": {},
   "outputs": [
    {
     "data": {
      "text/plain": [
       "<matplotlib.collections.PathCollection at 0x7fb23d5aa860>"
      ]
     },
     "execution_count": 24,
     "metadata": {},
     "output_type": "execute_result"
    },
    {
     "data": {
      "image/png": "[encoded data removed]",
      "text/plain": [
       "<Figure size 432x288 with 1 Axes>"
      ]
     },
     "metadata": {
      "needs_background": "light"
     },
     "output_type": "display_data"
    }
   ],
   "source": [
    "plt.scatter(energies,carriers_up)\n",
    "plt.scatter(energies,carriers_dn)"
   ]
  },
  {
   "cell_type": "markdown",
   "metadata": {},
   "source": [
    "The total number of carriers in the conduction band is computed by integrating the carriers for energies > 0"
   ]
  },
  {
   "cell_type": "code",
   "execution_count": 25,
   "metadata": {},
   "outputs": [
    {
     "name": "stdout",
     "output_type": "stream",
     "text": [
      "16000 1.9\n"
     ]
    }
   ],
   "source": [
    "cond_thrs = 0\n",
    "for e in energies:\n",
    "    if e>0:\n",
    "        cond_thrs = energies.index(e)\n",
    "        break\n",
    "print(cond_thrs,energies[cond_thrs])"
   ]
  },
  {
   "cell_type": "code",
   "execution_count": 26,
   "metadata": {},
   "outputs": [
    {
     "name": "stdout",
     "output_type": "stream",
     "text": [
      "0.0022847337933999557 0.0012508106854000156 0.0035355444787999713 0.0035358767879999993\n",
      "spin polarization =  29.2409258011719\n"
     ]
    }
   ],
   "source": [
    "cond_up = sum(carriers_up[cond_thrs:])\n",
    "cond_dn = sum(carriers_dn[cond_thrs:])\n",
    "cond_tot = sum(carriers_tot[cond_thrs:])\n",
    "print(cond_up,cond_dn,cond_up+cond_dn,cond_tot)\n",
    "delta = (cond_up-cond_dn)/cond_tot*100\n",
    "print('spin polarization = ',delta)"
   ]
  },
  {
   "cell_type": "markdown",
   "metadata": {},
   "source": [
    "We compute the spin polarization for all the frequency range"
   ]
  },
  {
   "cell_type": "code",
   "execution_count": 27,
   "metadata": {
    "scrolled": false
   },
   "outputs": [
    {
     "data": {
      "image/png": "[encoded data removed]",
      "text/plain": [
       "<Figure size 432x288 with 1 Axes>"
      ]
     },
     "metadata": {
      "needs_background": "light"
     },
     "output_type": "display_data"
    },
    {
     "data": {
      "text/plain": [
       "<matplotlib.collections.PathCollection at 0x7fb23cf63b70>"
      ]
     },
     "execution_count": 27,
     "metadata": {},
     "output_type": "execute_result"
    },
    {
     "data": {
      "image/png": "[encoded data removed]",
      "text/plain": [
       "<Figure size 432x288 with 1 Axes>"
      ]
     },
     "metadata": {
      "needs_background": "light"
     },
     "output_type": "display_data"
    }
   ],
   "source": [
    "spin_pol = []\n",
    "total_cond = []\n",
    "for f in freq_range:\n",
    "    file_tot = data_dir+'/ypp_freq_%s-pol_circular/o-freq_%s-pol_circular.YPP-RT_occupations_DATA'%(f,f)\n",
    "    file_up = data_dir+'/ypp_freq_%s-pol_circular/o-freq_%s-pol_circular.YPP-RT_occupations_up_DATA'%(f,f)\n",
    "    file_dn = data_dir+'/ypp_freq_%s-pol_circular/o-freq_%s-pol_circular.YPP-RT_occupations_dn_DATA'%(f,f)\n",
    "    data_tot = C.dict_parser(file_tot)\n",
    "    data_up = C.dict_parser(file_up)\n",
    "    data_dn = C.dict_parser(file_dn)\n",
    "    energies = data_tot['E']\n",
    "    carriers_up = data_up[last_time]\n",
    "    carriers_dn = data_dn[last_time]\n",
    "    carriers_tot = data_tot[last_time]\n",
    "    cond_thrs = 0\n",
    "    for e in energies:\n",
    "        if e>0:\n",
    "            cond_thrs = energies.index(e)\n",
    "            break\n",
    "    cond_up = sum(carriers_up[cond_thrs:])\n",
    "    cond_dn = sum(carriers_dn[cond_thrs:])\n",
    "    cond_tot = sum(carriers_tot[cond_thrs:])\n",
    "    total_cond.append(cond_tot)\n",
    "    spin_pol.append((cond_up-cond_dn)/cond_tot*100)\n",
    "plt.scatter(freq_range,total_cond)\n",
    "plt.title('Total carriers in conduction band',size = 14)\n",
    "plt.show()\n",
    "plt.title('Spin polarization',size = 14)\n",
    "plt.scatter(freq_range,spin_pol)"
   ]
  },
  {
   "cell_type": "markdown",
   "metadata": {},
   "source": [
    "## k = 100 random (k range of 0.1 centred in Gamma)"
   ]
  },
  {
   "cell_type": "code",
   "execution_count": 14,
   "metadata": {},
   "outputs": [],
   "source": [
    "data_dir = 'rt_k100_random/FixSymm'\n",
    "last_time = '240.000'"
   ]
  },
  {
   "cell_type": "code",
   "execution_count": 15,
   "metadata": {},
   "outputs": [],
   "source": [
    "# circular polarization spanning a given frequencies range\n",
    "freq_range = [1.15,1.25,1.35,1.45,1.55,1.65,1.75,1.85]\n",
    "# linear polarization for a single frequency\n",
    "lin_freq = 1.55\n",
    "# reversed circular polarization for a single frequency\n",
    "reversed_circ_freq = 1.55"
   ]
  },
  {
   "cell_type": "markdown",
   "metadata": {},
   "source": [
    "We compute the total number of electrons in the conduction band, for a given frequency, (at the last simulation time) for each spin polarization"
   ]
  },
  {
   "cell_type": "code",
   "execution_count": 16,
   "metadata": {},
   "outputs": [
    {
     "name": "stdout",
     "output_type": "stream",
     "text": [
      "frequency =  1.55\n"
     ]
    }
   ],
   "source": [
    "f = freq_range[4]\n",
    "print('frequency = ',f)\n",
    "file_tot = data_dir+'/ypp_freq_%s-pol_circular/o-freq_%s-pol_circular.YPP-RT_occupations_DATA'%(f,f)\n",
    "file_up = data_dir+'/ypp_freq_%s-pol_circular/o-freq_%s-pol_circular.YPP-RT_occupations_up_DATA'%(f,f)\n",
    "file_dn = data_dir+'/ypp_freq_%s-pol_circular/o-freq_%s-pol_circular.YPP-RT_occupations_dn_DATA'%(f,f)\n",
    "data_tot = C.dict_parser(file_tot)\n",
    "data_up = C.dict_parser(file_up)\n",
    "data_dn = C.dict_parser(file_dn)"
   ]
  },
  {
   "cell_type": "code",
   "execution_count": 17,
   "metadata": {},
   "outputs": [],
   "source": [
    "energies = data_tot['E']\n",
    "carriers_up = data_up[last_time]\n",
    "carriers_dn = data_dn[last_time]\n",
    "carriers_tot = data_tot[last_time]"
   ]
  },
  {
   "cell_type": "code",
   "execution_count": 18,
   "metadata": {},
   "outputs": [
    {
     "data": {
      "text/plain": [
       "<matplotlib.collections.PathCollection at 0x7f26d3273470>"
      ]
     },
     "execution_count": 18,
     "metadata": {},
     "output_type": "execute_result"
    },
    {
     "data": {
      "image/png": "[encoded data removed]",
      "text/plain": [
       "<Figure size 432x288 with 1 Axes>"
      ]
     },
     "metadata": {
      "needs_background": "light"
     },
     "output_type": "display_data"
    }
   ],
   "source": [
    "plt.scatter(energies,carriers_up)\n",
    "plt.scatter(energies,0.01+np.array(carriers_dn))"
   ]
  },
  {
   "cell_type": "markdown",
   "metadata": {},
   "source": [
    "The total number of carriers in the conduction band is computed by integrating the carriers for energies > 0"
   ]
  },
  {
   "cell_type": "code",
   "execution_count": 19,
   "metadata": {},
   "outputs": [
    {
     "name": "stdout",
     "output_type": "stream",
     "text": [
      "19200 1.461\n"
     ]
    }
   ],
   "source": [
    "cond_thrs = 0\n",
    "for e in energies:\n",
    "    if e>0:\n",
    "        cond_thrs = energies.index(e)\n",
    "        break\n",
    "print(cond_thrs,energies[cond_thrs])"
   ]
  },
  {
   "cell_type": "markdown",
   "metadata": {},
   "source": [
    "We identify the all the (positive) energy levels removing the degeneracies"
   ]
  },
  {
   "cell_type": "code",
   "execution_count": 20,
   "metadata": {},
   "outputs": [],
   "source": [
    "cond_energies = energies[cond_thrs:]\n",
    "cond_energies = sorted(list(set(cond_energies)))"
   ]
  },
  {
   "cell_type": "markdown",
   "metadata": {},
   "source": [
    "and compute the spin polarization for a given energy level"
   ]
  },
  {
   "cell_type": "code",
   "execution_count": 23,
   "metadata": {},
   "outputs": [
    {
     "name": "stdout",
     "output_type": "stream",
     "text": [
      "1.479 -10.435086418344659\n"
     ]
    }
   ],
   "source": [
    "eng_val = cond_energies[4]\n",
    "indexes = []\n",
    "for ind,e in enumerate(energies):\n",
    "    if e == eng_val:\n",
    "        indexes.append(ind)\n",
    "#print(len(indexes))\n",
    "#print(indexes)\n",
    "up_bin = sum(carriers_up[slice(indexes[0],indexes[-1]+1)])\n",
    "dn_bin = sum(carriers_dn[slice(indexes[0],indexes[-1]+1)])\n",
    "delta = (up_bin-dn_bin)/(up_bin+dn_bin)*100\n",
    "print(eng_val,delta)"
   ]
  },
  {
   "cell_type": "markdown",
   "metadata": {},
   "source": [
    "We investigate how the spin polarization for each energy level emerges. In other terms we compute the polarization\n",
    "of all the states that contribute to a given energy"
   ]
  },
  {
   "cell_type": "code",
   "execution_count": 24,
   "metadata": {},
   "outputs": [],
   "source": [
    "up_bins = carriers_up[slice(indexes[0],indexes[-1]+1)]\n",
    "dn_bins = carriers_dn[slice(indexes[0],indexes[-1]+1)]"
   ]
  },
  {
   "cell_type": "code",
   "execution_count": 26,
   "metadata": {
    "scrolled": false
   },
   "outputs": [
    {
     "name": "stdout",
     "output_type": "stream",
     "text": [
      "39.11016125898582\n",
      "-39.12023460410557\n",
      "87.84202265303527\n",
      "-87.84790740140784\n",
      "-87.84790740140784\n",
      "87.84202265303527\n",
      "-25.298484782703074\n",
      "-25.298484782703074\n",
      "25.339839665388634\n",
      "25.339839665388634\n",
      "39.11016125898582\n",
      "-39.08450704225352\n",
      "-39.08450704225352\n",
      "39.11016125898582\n",
      "-87.84790740140784\n",
      "87.84202265303527\n",
      "87.84202265303527\n",
      "-87.84790740140784\n",
      "-25.325464329109533\n",
      "-25.325464329109533\n",
      "25.339839665388634\n",
      "25.339839665388634\n",
      "-39.08450704225352\n",
      "39.11016125898582\n",
      "-39.08450704225352\n",
      "39.11016125898582\n",
      "-87.84790740140784\n",
      "87.84202265303527\n",
      "87.84202265303527\n",
      "-87.84790740140784\n",
      "25.339839665388634\n",
      "25.339839665388634\n",
      "-25.325464329109533\n",
      "-25.325464329109533\n",
      "-39.12023460410557\n",
      "39.11016125898582\n",
      "39.11016125898582\n",
      "-39.12023460410557\n",
      "87.84202265303527\n",
      "-87.84790740140784\n",
      "-87.84790740140784\n",
      "87.84202265303527\n",
      "25.339839665388634\n",
      "25.339839665388634\n",
      "-25.298484782703074\n",
      "-25.298484782703074\n",
      "39.11016125898582\n",
      "-39.12023460410557\n"
     ]
    },
    {
     "data": {
      "image/png": "[encoded data removed]",
      "text/plain": [
       "<Figure size 432x288 with 1 Axes>"
      ]
     },
     "metadata": {
      "needs_background": "light"
     },
     "output_type": "display_data"
    }
   ],
   "source": [
    "ind = 1\n",
    "for up,dn in zip(up_bins,dn_bins): \n",
    "     print((up-dn)/(up+dn)*100)\n",
    "     plt.scatter(ind,(up-dn)/(up+dn)*100)\n",
    "     ind+=1"
   ]
  },
  {
   "cell_type": "markdown",
   "metadata": {},
   "source": [
    "We plot the (integrated inside each level) polarization for all the energies"
   ]
  },
  {
   "cell_type": "code",
   "execution_count": 27,
   "metadata": {},
   "outputs": [],
   "source": [
    "spin_pol = []\n",
    "for eng_val in cond_energies:\n",
    "    indexes = []\n",
    "    for ind,e in enumerate(energies):\n",
    "        if e == eng_val:\n",
    "            indexes.append(ind)\n",
    "    #print(len(indexes))\n",
    "    up_bin = sum(carriers_up[slice(indexes[0],indexes[-1]+1)])\n",
    "    dn_bin = sum(carriers_dn[slice(indexes[0],indexes[-1]+1)])\n",
    "    spin_pol.append((up_bin-dn_bin)/(up_bin+dn_bin)*100)  \n"
   ]
  },
  {
   "cell_type": "code",
   "execution_count": 28,
   "metadata": {},
   "outputs": [
    {
     "data": {
      "text/plain": [
       "<matplotlib.collections.PathCollection at 0x7f26ceba9358>"
      ]
     },
     "execution_count": 28,
     "metadata": {},
     "output_type": "execute_result"
    },
    {
     "data": {
      "image/png": "[encoded data removed]",
      "text/plain": [
       "<Figure size 432x288 with 1 Axes>"
      ]
     },
     "metadata": {
      "needs_background": "light"
     },
     "output_type": "display_data"
    }
   ],
   "source": [
    "plt.scatter(cond_energies,spin_pol)"
   ]
  },
  {
   "cell_type": "code",
   "execution_count": null,
   "metadata": {},
   "outputs": [],
   "source": []
  },
  {
   "cell_type": "code",
   "execution_count": null,
   "metadata": {},
   "outputs": [],
   "source": []
  },
  {
   "cell_type": "code",
   "execution_count": null,
   "metadata": {},
   "outputs": [],
   "source": []
  },
  {
   "cell_type": "code",
   "execution_count": null,
   "metadata": {},
   "outputs": [],
   "source": [
    "#######################################################################"
   ]
  },
  {
   "cell_type": "markdown",
   "metadata": {},
   "source": [
    "The total number of carriers in the conduction band is computed by integrating the carriers for energies > 0"
   ]
  },
  {
   "cell_type": "code",
   "execution_count": 130,
   "metadata": {},
   "outputs": [
    {
     "name": "stdout",
     "output_type": "stream",
     "text": [
      "2.8241443450000103 2.841999352999996 5.666143698000006 5.666101370000002\n",
      "spin polarization =  -0.31511981226671054\n"
     ]
    }
   ],
   "source": [
    "cond_up = sum(carriers_up[cond_thrs:])\n",
    "cond_dn = sum(carriers_dn[cond_thrs:])\n",
    "cond_tot = sum(carriers_tot[cond_thrs:])\n",
    "print(cond_up,cond_dn,cond_up+cond_dn,cond_tot)\n",
    "delta = (cond_up-cond_dn)/cond_tot*100\n",
    "print('spin polarization = ',delta)"
   ]
  },
  {
   "cell_type": "markdown",
   "metadata": {},
   "source": [
    "We compute the spin polarization for all the frequency range"
   ]
  },
  {
   "cell_type": "code",
   "execution_count": 131,
   "metadata": {
    "scrolled": false
   },
   "outputs": [
    {
     "data": {
      "image/png": "[encoded data removed]",
      "text/plain": [
       "<Figure size 432x288 with 1 Axes>"
      ]
     },
     "metadata": {
      "needs_background": "light"
     },
     "output_type": "display_data"
    },
    {
     "data": {
      "text/plain": [
       "<matplotlib.collections.PathCollection at 0x7f87ea4e54a8>"
      ]
     },
     "execution_count": 131,
     "metadata": {},
     "output_type": "execute_result"
    },
    {
     "data": {
      "image/png": "[encoded data removed]",
      "text/plain": [
       "<Figure size 432x288 with 1 Axes>"
      ]
     },
     "metadata": {
      "needs_background": "light"
     },
     "output_type": "display_data"
    }
   ],
   "source": [
    "spin_pol = []\n",
    "total_cond = []\n",
    "for f in freq_range:\n",
    "    file_tot = data_dir+'/ypp_freq_%s-pol_circular/o-freq_%s-pol_circular.YPP-RT_occupations_DATA'%(f,f)\n",
    "    file_up = data_dir+'/ypp_freq_%s-pol_circular/o-freq_%s-pol_circular.YPP-RT_occupations_up_DATA'%(f,f)\n",
    "    file_dn = data_dir+'/ypp_freq_%s-pol_circular/o-freq_%s-pol_circular.YPP-RT_occupations_dn_DATA'%(f,f)\n",
    "    data_tot = C.dict_parser(file_tot)\n",
    "    data_up = C.dict_parser(file_up)\n",
    "    data_dn = C.dict_parser(file_dn)\n",
    "    energies = data_tot['E']\n",
    "    carriers_up = data_up[last_time]\n",
    "    carriers_dn = data_dn[last_time]\n",
    "    carriers_tot = data_tot[last_time]\n",
    "    cond_thrs = 0\n",
    "    for e in energies:\n",
    "        if e>0:\n",
    "            cond_thrs = energies.index(e)\n",
    "            break\n",
    "    cond_up = sum(carriers_up[cond_thrs:])\n",
    "    cond_dn = sum(carriers_dn[cond_thrs:])\n",
    "    cond_tot = sum(carriers_tot[cond_thrs:])\n",
    "    total_cond.append(cond_tot)\n",
    "    spin_pol.append((cond_up-cond_dn)/cond_tot*100)\n",
    "plt.scatter(freq_range,total_cond)\n",
    "plt.title('Total carriers in conduction band',size = 14)\n",
    "plt.show()\n",
    "plt.title('Spin polarization',size = 14)\n",
    "plt.scatter(freq_range,spin_pol)"
   ]
  },
  {
   "cell_type": "code",
   "execution_count": null,
   "metadata": {},
   "outputs": [],
   "source": []
  },
  {
   "cell_type": "code",
   "execution_count": null,
   "metadata": {},
   "outputs": [],
   "source": []
  },
  {
   "cell_type": "code",
   "execution_count": null,
   "metadata": {},
   "outputs": [],
   "source": []
  },
  {
   "cell_type": "code",
   "execution_count": null,
   "metadata": {},
   "outputs": [],
   "source": []
  }
 ],
 "metadata": {
  "kernelspec": {
   "display_name": "Python 3",
   "language": "python",
   "name": "python3"
  },
  "language_info": {
   "codemirror_mode": {
    "name": "ipython",
    "version": 3
   },
   "file_extension": ".py",
   "mimetype": "text/x-python",
   "name": "python",
   "nbconvert_exporter": "python",
   "pygments_lexer": "ipython3",
   "version": "3.5.3"
  }
 },
 "nbformat": 4,
 "nbformat_minor": 2
}
