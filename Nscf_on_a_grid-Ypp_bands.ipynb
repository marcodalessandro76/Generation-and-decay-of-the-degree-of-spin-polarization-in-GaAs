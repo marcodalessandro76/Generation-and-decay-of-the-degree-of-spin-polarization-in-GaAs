{
 "cells": [
  {
   "cell_type": "code",
   "execution_count": 1,
   "metadata": {},
   "outputs": [],
   "source": [
    "import numpy as np\n",
    "import os\n",
    "import matplotlib.pyplot as plt\n",
    "from mppi import InputFiles as I, Calculators as C, Datasets as D"
   ]
  },
  {
   "cell_type": "code",
   "execution_count": 2,
   "metadata": {},
   "outputs": [],
   "source": [
    "omp = 1\n",
    "mpi_run = 'mpirun -np 16'"
   ]
  },
  {
   "cell_type": "markdown",
   "metadata": {},
   "source": [
    "# Nscf on a grid - Ypp bands"
   ]
  },
  {
   "cell_type": "markdown",
   "metadata": {},
   "source": [
    "In this nb we perform (several) nscf computation on a regular grid and reproduce the ks bands using ypp. In this way we can perform a check on the dimension of the k grid that will be used in the subsequent yambo real time computations. \n",
    "\n",
    "This framework allows us also to use yambo scissor to open the ks band-gap.\n",
    "\n",
    "We also include the presence of a shift in the k-points sampling. We will then compare the ip absorption spectrum obtained with the various sampling the understand which sampling is needed to obtain reliable results in the RT analysis"
   ]
  },
  {
   "cell_type": "markdown",
   "metadata": {},
   "source": [
    "We define the basic elements of the input"
   ]
  },
  {
   "cell_type": "code",
   "execution_count": 3,
   "metadata": {},
   "outputs": [],
   "source": [
    "input = I.PwIn()\n",
    "Ga = [0.,0.,0.]\n",
    "As = [0.25,0.25,0.25]\n",
    "\n",
    "input.set_pseudo_dir('../pseudos')\n",
    "input.set_calculation('nscf')\n",
    "\n",
    "input.set_occupations('fixed')\n",
    "input.system['ibrav'] = 2\n",
    "input.system['celldm(1)'] = 10.677\n",
    "input.system['noncolin'] = '.true.'\n",
    "input.system['lspinorb'] = '.true.'\n",
    "input.set_atoms_type(2)\n",
    "input.set_atoms_number(2)\n",
    "input.set_atoms_position(pos_type='crystal',pos_list=[['Ga',Ga],['As',As]])\n",
    "input.atypes = {'Ga': [69.72,'Ga_rel.pz-rrkj3.UPF'],\\\n",
    "                'As': [74.92,'As_rel.pz-rrkj3.UPF']}\n",
    "input.set_convergence_thr(1e-8)"
   ]
  },
  {
   "cell_type": "markdown",
   "metadata": {},
   "source": [
    "On this basis of the gs_convergence analysis previously performed we choose the scf converged parameters:"
   ]
  },
  {
   "cell_type": "code",
   "execution_count": 4,
   "metadata": {},
   "outputs": [],
   "source": [
    "k_conv = 6\n",
    "ecut_conv = 80"
   ]
  },
  {
   "cell_type": "markdown",
   "metadata": {},
   "source": [
    "and we perform the nscf computations using a number of bands given by:"
   ]
  },
  {
   "cell_type": "code",
   "execution_count": 5,
   "metadata": {},
   "outputs": [],
   "source": [
    "numBands = 12 #40"
   ]
  },
  {
   "cell_type": "code",
   "execution_count": 6,
   "metadata": {},
   "outputs": [
    {
     "name": "stdout",
     "output_type": "stream",
     "text": [
      "Initialize a qe calculator with command OMP_NUM_THREADS=1 mpirun -np 16 pw.x\n"
     ]
    }
   ],
   "source": [
    "code = C.QeCalculator(omp=omp,mpi_run=mpi_run,executable='pw.x',verbose=True,skip=True)"
   ]
  },
  {
   "cell_type": "markdown",
   "metadata": {},
   "source": [
    "## Set for nscf computations on grids of various dimensions"
   ]
  },
  {
   "cell_type": "code",
   "execution_count": 7,
   "metadata": {},
   "outputs": [],
   "source": [
    "nscf_kvalues = [4,6,8,10,12,20]"
   ]
  },
  {
   "cell_type": "code",
   "execution_count": 8,
   "metadata": {},
   "outputs": [],
   "source": [
    "bnds_study = D.Dataset(label='nscf',run_dir='nscf',pre_processing='nscf')"
   ]
  },
  {
   "cell_type": "code",
   "execution_count": 9,
   "metadata": {},
   "outputs": [],
   "source": [
    "input.system['nbnd'] = numBands\n",
    "for k  in nscf_kvalues:\n",
    "    idd = {'bnds' : numBands, 'kpoints' : k} \n",
    "    input.set_prefix(D.name_from_id(idd))\n",
    "    input.set_energy_cutoff(ecut_conv)\n",
    "    input.set_kpoints(ktype='automatic',kpoints=[k,k,k])\n",
    "    bnds_study.append_run(id=idd,calculator=code,input=input)"
   ]
  },
  {
   "cell_type": "markdown",
   "metadata": {},
   "source": [
    "Apply the pre-processing"
   ]
  },
  {
   "cell_type": "code",
   "execution_count": 10,
   "metadata": {},
   "outputs": [],
   "source": [
    "source = 'gs_convergence/ecut_%s-k_%s.save'%(ecut_conv,k_conv)"
   ]
  },
  {
   "cell_type": "code",
   "execution_count": 11,
   "metadata": {
    "scrolled": true
   },
   "outputs": [
    {
     "name": "stdout",
     "output_type": "stream",
     "text": [
      "Folder nscf already exists\n",
      "nscf .save folder exsists. gs_convergence/ecut_80-k_6.save not copied\n",
      "nscf .save folder exsists. gs_convergence/ecut_80-k_6.save not copied\n",
      "nscf .save folder exsists. gs_convergence/ecut_80-k_6.save not copied\n",
      "nscf .save folder exsists. gs_convergence/ecut_80-k_6.save not copied\n",
      "nscf .save folder exsists. gs_convergence/ecut_80-k_6.save not copied\n",
      "nscf .save folder exsists. gs_convergence/ecut_80-k_6.save not copied\n"
     ]
    }
   ],
   "source": [
    "bnds_study.pre_processing_function(source_dir=source)"
   ]
  },
  {
   "cell_type": "code",
   "execution_count": 12,
   "metadata": {},
   "outputs": [
    {
     "name": "stdout",
     "output_type": "stream",
     "text": [
      "skip the computation for : bnds_40-kpoints_4.in\n",
      "parse file : nscf/bnds_40-kpoints_4.save/data-file-schema.xml\n",
      "skip the computation for : bnds_40-kpoints_6.in\n",
      "parse file : nscf/bnds_40-kpoints_6.save/data-file-schema.xml\n",
      "skip the computation for : bnds_40-kpoints_8.in\n",
      "parse file : nscf/bnds_40-kpoints_8.save/data-file-schema.xml\n",
      "skip the computation for : bnds_40-kpoints_10.in\n",
      "parse file : nscf/bnds_40-kpoints_10.save/data-file-schema.xml\n",
      "skip the computation for : bnds_40-kpoints_12.in\n",
      "parse file : nscf/bnds_40-kpoints_12.save/data-file-schema.xml\n",
      "skip the computation for : bnds_40-kpoints_20.in\n",
      "parse file : nscf/bnds_40-kpoints_20.save/data-file-schema.xml\n"
     ]
    }
   ],
   "source": [
    "bnds_study.run()"
   ]
  },
  {
   "cell_type": "markdown",
   "metadata": {},
   "source": [
    "### Energy gap for each k"
   ]
  },
  {
   "cell_type": "code",
   "execution_count": 28,
   "metadata": {},
   "outputs": [],
   "source": [
    "results = bnds_study.fetch_results(id={'kpoints' : 8})[0]\n",
    "bands = results.band_structure(plot=False)\n",
    "k_values = bands[:,0] # position on the path\n",
    "kpoints_cart = results.kpt_cart # cartesian position for each value on the path"
   ]
  },
  {
   "cell_type": "code",
   "execution_count": 29,
   "metadata": {},
   "outputs": [
    {
     "name": "stdout",
     "output_type": "stream",
     "text": [
      "[0. 0. 0.] 1.418006297103469\n",
      "[-0.125  0.125 -0.125] 2.7219525960929856\n",
      "[-0.25  0.25 -0.25] 2.9786929973100307\n",
      "[-0.375  0.375 -0.375] 2.9564558444492772\n",
      "[ 0.5 -0.5  0.5] 2.941062143750819\n"
     ]
    }
   ],
   "source": [
    "gap = 1.0+bands[:,9]-bands[:,7]\n",
    "for ind in range(len(k_values)):\n",
    "    if gap[ind] < 3.0: print(kpoints_cart[ind],gap[ind])"
   ]
  },
  {
   "cell_type": "markdown",
   "metadata": {},
   "source": [
    "### Setup for nscf computations on shifted grids"
   ]
  },
  {
   "cell_type": "code",
   "execution_count": 30,
   "metadata": {},
   "outputs": [],
   "source": [
    "nscf_kvalues = [8,10,12]\n",
    "s = [1,1,1]"
   ]
  },
  {
   "cell_type": "code",
   "execution_count": 31,
   "metadata": {},
   "outputs": [],
   "source": [
    "bnds_study = D.Dataset(label='nscf',run_dir='nscf',pre_processing='nscf')"
   ]
  },
  {
   "cell_type": "code",
   "execution_count": 32,
   "metadata": {},
   "outputs": [],
   "source": [
    "input.system['nbnd'] = numBands\n",
    "for k  in nscf_kvalues:\n",
    "    idd = {'bnds' : numBands, 'kpoints' : k, 'shift' : 1} \n",
    "    input.set_prefix(D.name_from_id(idd))\n",
    "    input.set_energy_cutoff(ecut_conv)\n",
    "    input.set_kpoints(ktype='automatic',kpoints=[k,k,k],shiftk=s)\n",
    "    bnds_study.append_run(id=idd,calculator=code,input=input)"
   ]
  },
  {
   "cell_type": "code",
   "execution_count": 33,
   "metadata": {},
   "outputs": [
    {
     "name": "stdout",
     "output_type": "stream",
     "text": [
      "Folder nscf already exists\n",
      "nscf .save folder exsists. gs_convergence/ecut_80-k_6.save not copied\n",
      "nscf .save folder exsists. gs_convergence/ecut_80-k_6.save not copied\n",
      "nscf .save folder exsists. gs_convergence/ecut_80-k_6.save not copied\n"
     ]
    }
   ],
   "source": [
    "source = 'gs_convergence/ecut_%s-k_%s.save'%(ecut_conv,k_conv)\n",
    "bnds_study.pre_processing_function(source_dir=source)"
   ]
  },
  {
   "cell_type": "code",
   "execution_count": 34,
   "metadata": {},
   "outputs": [
    {
     "name": "stdout",
     "output_type": "stream",
     "text": [
      "skip the computation for : bnds_40-kpoints_8-shift_1.in\n",
      "parse file : nscf/bnds_40-kpoints_8-shift_1.save/data-file-schema.xml\n",
      "skip the computation for : bnds_40-kpoints_10-shift_1.in\n",
      "parse file : nscf/bnds_40-kpoints_10-shift_1.save/data-file-schema.xml\n",
      "skip the computation for : bnds_40-kpoints_12-shift_1.in\n",
      "parse file : nscf/bnds_40-kpoints_12-shift_1.save/data-file-schema.xml\n"
     ]
    }
   ],
   "source": [
    "bnds_study.run()"
   ]
  },
  {
   "cell_type": "markdown",
   "metadata": {},
   "source": [
    "### Energy gap for each k"
   ]
  },
  {
   "cell_type": "code",
   "execution_count": 39,
   "metadata": {},
   "outputs": [],
   "source": [
    "results = bnds_study.fetch_results(id={'kpoints' : 12})[0]\n",
    "bands = results.band_structure(plot=False)\n",
    "k_values = bands[:,0] # position on the path\n",
    "kpoints_cart = results.kpt_cart # cartesian position for each value on the path"
   ]
  },
  {
   "cell_type": "code",
   "execution_count": 40,
   "metadata": {},
   "outputs": [
    {
     "name": "stdout",
     "output_type": "stream",
     "text": [
      "[-0.04166667  0.04166667  0.04166667] 1.8592888075624767\n",
      "[-0.125       0.125      -0.04166667] 2.6469310284565397\n",
      "[ 0.04166667 -0.04166667  0.125     ] 2.5094383193863594\n",
      "[-0.125  0.125  0.125] 2.7219525960920343\n",
      "[-0.20833333  0.20833333  0.20833333] 2.9614092776986647\n",
      "[-0.29166667  0.29166667  0.29166667] 2.9759930402493806\n",
      "[-0.375  0.375  0.375] 2.9564558444497906\n",
      "[-0.45833333  0.45833333  0.45833333] 2.9428648209594948\n"
     ]
    }
   ],
   "source": [
    "gap = 1.0+bands[:,9]-bands[:,7]\n",
    "for ind in range(len(k_values)):\n",
    "    if gap[ind] < 3.0: print(kpoints_cart[ind],gap[ind])"
   ]
  },
  {
   "cell_type": "markdown",
   "metadata": {},
   "source": [
    "### Setup the nscf on a random grids in the region close to Gamma"
   ]
  },
  {
   "cell_type": "code",
   "execution_count": 11,
   "metadata": {},
   "outputs": [],
   "source": [
    "import random as rand\n",
    "num_kpoints = 50 #100\n",
    "k_span = 5e-3 #0.1\n",
    "weight = 1."
   ]
  },
  {
   "cell_type": "code",
   "execution_count": 12,
   "metadata": {},
   "outputs": [],
   "source": [
    "klist = []\n",
    "for n in range(num_kpoints):\n",
    "    k_rand = [k_span*(rand.random()-0.5) for ind in range(3)] + [weight]\n",
    "    klist.append(k_rand)"
   ]
  },
  {
   "cell_type": "code",
   "execution_count": 13,
   "metadata": {},
   "outputs": [],
   "source": [
    "bnds_study = D.Dataset(label='nscf',run_dir='nscf',pre_processing='nscf')"
   ]
  },
  {
   "cell_type": "code",
   "execution_count": 14,
   "metadata": {},
   "outputs": [],
   "source": [
    "input.system['nbnd'] = numBands\n",
    "#idd = {'bnds' : numBands, 'kpoints' : num_kpoints, 'sampling' : 'random'} \n",
    "idd = {'bnds' : numBands, 'kpoints' : num_kpoints, 'sampling' : 'random-5em3-close-gamma'} \n",
    "input.set_prefix(D.name_from_id(idd))\n",
    "input.set_energy_cutoff(ecut_conv)\n",
    "input.set_kpoints(ktype='tpiba',klist=klist)\n",
    "bnds_study.append_run(id=idd,calculator=code,input=input)"
   ]
  },
  {
   "cell_type": "code",
   "execution_count": 15,
   "metadata": {},
   "outputs": [],
   "source": [
    "#print(random_study.runs[0])"
   ]
  },
  {
   "cell_type": "code",
   "execution_count": 16,
   "metadata": {},
   "outputs": [
    {
     "data": {
      "image/png": "[encoded data removed]",
      "text/plain": [
       "<Figure size 432x288 with 1 Axes>"
      ]
     },
     "metadata": {
      "needs_background": "light"
     },
     "output_type": "display_data"
    }
   ],
   "source": [
    "for ind,k in enumerate(klist):\n",
    "    plt.scatter(ind,k[0])"
   ]
  },
  {
   "cell_type": "markdown",
   "metadata": {},
   "source": [
    "Apply the pre-processing"
   ]
  },
  {
   "cell_type": "code",
   "execution_count": 17,
   "metadata": {},
   "outputs": [],
   "source": [
    "source = 'gs_convergence/ecut_%s-k_%s.save'%(ecut_conv,k_conv)"
   ]
  },
  {
   "cell_type": "code",
   "execution_count": 18,
   "metadata": {
    "scrolled": true
   },
   "outputs": [
    {
     "name": "stdout",
     "output_type": "stream",
     "text": [
      "Folder nscf already exists\n",
      "execute :  cp -r gs_convergence/ecut_80-k_6.save nscf/bnds_40-kpoints_50-sampling_random-5em3-close-gamma.save\n"
     ]
    }
   ],
   "source": [
    "bnds_study.pre_processing_function(source_dir=source)"
   ]
  },
  {
   "cell_type": "code",
   "execution_count": 19,
   "metadata": {},
   "outputs": [
    {
     "name": "stdout",
     "output_type": "stream",
     "text": [
      "execute : cd nscf ; OMP_NUM_THREADS=1 mpirun -np 16 pw.x -inp bnds_40-kpoints_50-sampling_random-5em3-close-gamma.in > bnds_40-kpoints_50-sampling_random-5em3-close-gamma.log\n",
      "parse file : nscf/bnds_40-kpoints_50-sampling_random-5em3-close-gamma.save/data-file-schema.xml\n"
     ]
    }
   ],
   "source": [
    "bnds_study.run()"
   ]
  },
  {
   "cell_type": "markdown",
   "metadata": {},
   "source": [
    "### Energy gap for each k"
   ]
  },
  {
   "cell_type": "code",
   "execution_count": 20,
   "metadata": {},
   "outputs": [],
   "source": [
    "results = bnds_study.fetch_results(id={'kpoints' : 50})[0]\n",
    "bands = results.band_structure(plot=False)\n",
    "k_values = bands[:,0] # position on the path\n",
    "kpoints_cart = results.kpt_cart # cartesian position for each value on the path"
   ]
  },
  {
   "cell_type": "code",
   "execution_count": 21,
   "metadata": {
    "scrolled": true
   },
   "outputs": [
    {
     "name": "stdout",
     "output_type": "stream",
     "text": [
      "[-0.00043585  0.00066804  0.00027985] 1.4181322289696254\n",
      "[ 0.00206838 -0.00233538 -0.00090596] 1.4198537273696683\n",
      "[-0.0011107  -0.00056497 -0.00084161] 1.4184029398516387\n",
      "[-0.00078606  0.00042758 -0.00159018] 1.4185983019262816\n",
      "[0.00126267 0.00122832 0.00136623] 1.4188724353778133\n",
      "[ 2.03114e-03  1.21175e-03 -5.74300e-05] 1.4190003780537026\n",
      "[ 1.37146e-03  2.11975e-03 -7.74700e-05] 1.4191366965626022\n",
      "[ 0.00069504 -0.00236401  0.00210745] 1.4198499768357982\n",
      "[-0.00087059  0.00191674  0.00249411] 1.4198746976912675\n",
      "[-0.00123817  0.00049185 -0.0021191 ] 1.4191158813559035\n",
      "[0.00133037 0.0010324  0.00088829] 1.4186398973704666\n",
      "[-1.84659e-03  2.49174e-03 -7.94700e-05] 1.4197042193513765\n",
      "[ 0.00149302 -0.00023491 -0.00180961] 1.4189862447987043\n",
      "[ 0.00115104 -0.00053915  0.00225847] 1.41919914857458\n",
      "[ 0.00118749 -0.00172117  0.00139777] 1.4191102980844343\n",
      "[0.00090424 0.00238871 0.00088095] 1.4193041347418944\n",
      "[-0.00091107 -0.00229876  0.00107278] 1.419291761606658\n",
      "[-0.00195775  0.00099967 -0.00225637] 1.4197422003099165\n",
      "[0.00193689 0.0017985  0.00065137] 1.4193063675035305\n",
      "[-0.00209497  0.00239845 -0.00173484] 1.4202935992427586\n",
      "[-0.00033021  0.00161271 -0.0009567 ] 1.4186491782168922\n",
      "[ 0.00122422 -0.00159254  0.00036582] 1.4187412420031666\n",
      "[ 0.00021847 -0.00010382  0.00158449] 1.418474875971171\n",
      "[-0.00114668  0.00240077  0.00181786] 1.4198227775199896\n",
      "[-0.00155211  0.00091625  0.00198823] 1.4192679102959493\n",
      "[-0.00145266 -0.0010683   0.00038937] 1.4186064096394881\n",
      "[ 0.00077855 -0.00107885  0.00173745] 1.4188487737877935\n",
      "[ 0.00056198  0.00221993 -0.00194036] 1.419588491705742\n",
      "[-0.00145244 -0.00078156 -0.00186589] 1.419094256075148\n",
      "[0.00081592 0.00085661 0.00041867] 1.4182824718160765\n",
      "[-1.35928e-03  6.32520e-04 -5.57900e-05] 1.4184093345892803\n",
      "[0.00159317 0.00196367 0.00187971] 1.419733792944279\n",
      "[ 0.00119106  0.00140951 -0.00230064] 1.419531644357276\n",
      "[-0.00066719 -0.00249217 -0.00245311] 1.4202274780338904\n",
      "[ 0.00168868 -0.00074096  0.00232609] 1.4195551994191034\n",
      "[-0.00145018  0.0011326  -0.00041948] 1.418633540982417\n",
      "[0.00112826 0.00122011 0.00045896] 1.4185283460767435\n",
      "[-0.00091629 -0.00062221  0.0020935 ] 1.4190044902419192\n",
      "[-0.00052446 -0.00013006 -0.0012207 ] 1.4183258749636671\n",
      "[ 0.00248722 -0.00141425  0.00163841] 1.4199069316297512\n",
      "[ 0.00058001 -0.00218068  0.00019072] 1.4189343309615365\n",
      "[ 0.00050213  0.0021597  -0.0004886 ] 1.4189363562101907\n",
      "[ 0.00223994 -0.00091816 -0.00144962] 1.419405678770147\n",
      "[-0.00077364  0.0017952   0.00017174] 1.41869633741167\n",
      "[-0.00201383 -0.00225056 -0.00117261] 1.4198389896529724\n",
      "[ 0.00058872  0.00156516 -0.00204319] 1.4192324821677884\n",
      "[0.00010452 0.00158518 0.00237497] 1.419450571427384\n",
      "[0.00032101 0.00091927 0.00137927] 1.418510354162005\n",
      "[-0.00045499 -0.00206021 -0.00120098] 1.419050557954539\n",
      "[ 0.00115949 -0.00070507 -0.00238088] 1.4193386554250598\n"
     ]
    }
   ],
   "source": [
    "gap = 1.0+bands[:,9]-bands[:,7]\n",
    "for ind in range(len(k_values)):\n",
    "    if gap[ind] < 2.0: print(kpoints_cart[ind],gap[ind])"
   ]
  },
  {
   "cell_type": "markdown",
   "metadata": {},
   "source": [
    "### Setup the nscf on a random grids centred on Gamma with gaps up to 2 eV"
   ]
  },
  {
   "cell_type": "code",
   "execution_count": 28,
   "metadata": {},
   "outputs": [],
   "source": [
    "import random as rand\n",
    "num_kpoints =  150\n",
    "k_span = 0.13\n",
    "weight = 1."
   ]
  },
  {
   "cell_type": "code",
   "execution_count": 29,
   "metadata": {},
   "outputs": [],
   "source": [
    "klist = []\n",
    "for n in range(num_kpoints):\n",
    "    k_rand = [k_span*(rand.random()-0.5) for ind in range(3)] + [weight]\n",
    "    klist.append(k_rand)"
   ]
  },
  {
   "cell_type": "code",
   "execution_count": 30,
   "metadata": {},
   "outputs": [],
   "source": [
    "bnds_study = D.Dataset(label='nscf',run_dir='nscf',pre_processing='nscf')"
   ]
  },
  {
   "cell_type": "code",
   "execution_count": 31,
   "metadata": {},
   "outputs": [],
   "source": [
    "input.system['nbnd'] = numBands\n",
    "idd = {'bnds' : numBands, 'kpoints' : num_kpoints, 'sampling' : 'random'}  \n",
    "input.set_prefix(D.name_from_id(idd))\n",
    "input.set_energy_cutoff(ecut_conv)\n",
    "#input.system['nosym'] = '.true.'\n",
    "#input.system['noinv'] = '.true.'\n",
    "input.set_kpoints(ktype='tpiba',klist=klist)\n",
    "bnds_study.append_run(id=idd,calculator=code,input=input)"
   ]
  },
  {
   "cell_type": "code",
   "execution_count": 32,
   "metadata": {},
   "outputs": [
    {
     "data": {
      "image/png": "[encoded data removed]",
      "text/plain": [
       "<Figure size 432x288 with 1 Axes>"
      ]
     },
     "metadata": {
      "needs_background": "light"
     },
     "output_type": "display_data"
    }
   ],
   "source": [
    "for ind,k in enumerate(klist):\n",
    "    plt.scatter(ind,k[0])"
   ]
  },
  {
   "cell_type": "markdown",
   "metadata": {},
   "source": [
    "Apply the pre-processing"
   ]
  },
  {
   "cell_type": "code",
   "execution_count": 33,
   "metadata": {},
   "outputs": [
    {
     "data": {
      "text/plain": [
       "'gs_convergence/ecut_80-k_6-sym_no.save'"
      ]
     },
     "execution_count": 33,
     "metadata": {},
     "output_type": "execute_result"
    }
   ],
   "source": [
    "source = 'gs_convergence/ecut_%s-k_%s-sym_no.save'%(ecut_conv,k_conv)\n",
    "source"
   ]
  },
  {
   "cell_type": "code",
   "execution_count": 34,
   "metadata": {
    "scrolled": true
   },
   "outputs": [
    {
     "name": "stdout",
     "output_type": "stream",
     "text": [
      "Folder nscf already exists\n",
      "execute :  cp -r gs_convergence/ecut_80-k_6-sym_no.save nscf/bnds_12-kpoints_150-sampling_random.save\n"
     ]
    }
   ],
   "source": [
    "bnds_study.pre_processing_function(source_dir=source)"
   ]
  },
  {
   "cell_type": "code",
   "execution_count": 35,
   "metadata": {},
   "outputs": [
    {
     "name": "stdout",
     "output_type": "stream",
     "text": [
      "execute : cd nscf ; OMP_NUM_THREADS=1 mpirun -np 16 pw.x -inp bnds_12-kpoints_150-sampling_random.in > bnds_12-kpoints_150-sampling_random.log\n",
      "parse file : nscf/bnds_12-kpoints_150-sampling_random.save/data-file-schema.xml\n"
     ]
    }
   ],
   "source": [
    "bnds_study.run()"
   ]
  },
  {
   "cell_type": "markdown",
   "metadata": {},
   "source": [
    "### Energy gap for each k"
   ]
  },
  {
   "cell_type": "code",
   "execution_count": 60,
   "metadata": {},
   "outputs": [],
   "source": [
    "#results = bnds_study.fetch_results(id={'kpoints' : 100})[0]\n",
    "results = bnds_study.fetch_results()[0]\n",
    "bands = results.band_structure(plot=False)\n",
    "k_values = bands[:,0] # position on the path\n",
    "kpoints_cart = results.kpt_cart # cartesian position for each value on the path"
   ]
  },
  {
   "cell_type": "code",
   "execution_count": 61,
   "metadata": {},
   "outputs": [
    {
     "data": {
      "text/plain": [
       "array([1.85115918, 1.84778191, 1.75894785, 1.70430656, 1.88456734,\n",
       "       1.83501719, 1.84305937, 1.87155421, 1.88705076, 1.71377937,\n",
       "       1.87499004, 1.43128257, 1.89191506, 1.9438967 , 1.81998636,\n",
       "       1.45742988, 1.67059273, 1.85287124, 1.83226549, 1.62449729,\n",
       "       1.97233354, 1.64470135, 1.95708406, 1.89142271, 1.77630833,\n",
       "       1.61702852, 1.9179153 , 2.06197891, 1.93204911, 1.95354708,\n",
       "       1.84534396, 1.7270251 , 1.78909987, 1.91879574, 1.47377259,\n",
       "       1.77553404, 1.82719414, 1.94143782, 1.73531835, 1.43474863,\n",
       "       1.59651871, 1.79365534, 1.90765801, 1.89007855, 1.52192209,\n",
       "       1.94133509, 1.81943407, 1.73741796, 1.79592959, 1.87051304,\n",
       "       1.5834936 , 1.42191771, 1.87099105, 1.7788672 , 1.88436077,\n",
       "       1.79026523, 1.81330833, 1.96435184, 1.83908923, 1.90737889,\n",
       "       1.63800838, 1.83556395, 1.95050882, 2.03665725, 1.78786589,\n",
       "       1.6816934 , 1.52619157, 1.89694705, 1.71112647, 1.72015727,\n",
       "       1.50976403, 1.93647989, 1.63367276, 1.84353298, 1.87507952,\n",
       "       1.93911279, 2.1075195 , 1.7908574 , 1.7277532 , 1.98384769,\n",
       "       1.82033843, 1.99873776, 2.00672484, 2.02117566, 1.88293365,\n",
       "       1.57727852, 1.88750027, 1.72596084, 1.78420314, 1.6357711 ,\n",
       "       2.00265834, 1.81891654, 1.84905442, 1.87701813, 1.63747367,\n",
       "       1.78158283, 1.50510476, 1.6174686 , 1.80389603, 1.76540434,\n",
       "       1.81085592, 1.87387508, 1.58958537, 1.80210117, 1.77258093,\n",
       "       2.01453992, 1.53216663, 1.68931375, 1.76202673, 1.86465373,\n",
       "       1.80413416, 1.44266799, 1.99206439, 1.89192575, 1.77084046,\n",
       "       1.7505371 , 1.83748475, 1.94998892, 1.87609328, 1.84357908,\n",
       "       1.98045945, 1.82738175, 1.65138274, 1.84353907, 1.9193283 ,\n",
       "       1.82356562, 1.78409695, 1.90661199, 1.58947902, 1.70994848,\n",
       "       2.00779637, 1.79862327, 1.6963222 , 1.5176401 , 1.70756401,\n",
       "       1.77800499, 1.9220223 , 1.82940447, 1.83287881, 1.87353142,\n",
       "       2.05575162, 1.68607254, 1.85251939, 1.56977495, 1.89718341,\n",
       "       1.56168037, 1.84427834, 1.71725826, 1.8777449 , 1.94941828])"
      ]
     },
     "execution_count": 61,
     "metadata": {},
     "output_type": "execute_result"
    }
   ],
   "source": [
    "gaps = 1.0+bands[:,9]-bands[:,7]\n",
    "gaps"
   ]
  },
  {
   "cell_type": "code",
   "execution_count": 65,
   "metadata": {},
   "outputs": [
    {
     "name": "stdout",
     "output_type": "stream",
     "text": [
      "0.030000000000000006\n"
     ]
    },
    {
     "data": {
      "text/plain": [
       "array([ 0.,  0.,  0.,  0.,  4.,  2.,  2.,  4.,  2.,  5.,  3.,  6.,  4.,\n",
       "        7.,  6., 10., 13., 16., 12., 21.,  7., 11.,  4.,  6.,  2.,  2.,\n",
       "        1.,  0.,  0.,  0.])"
      ]
     },
     "execution_count": 65,
     "metadata": {},
     "output_type": "execute_result"
    }
   ],
   "source": [
    "numpoints = 30\n",
    "emin = 1.3\n",
    "emax = 2.2\n",
    "bin_width = (emax-emin)/numpoints\n",
    "print(bin_width)\n",
    "energy_range = [emin+x*bin_width for x in range(numpoints)]\n",
    "dos = np.zeros(numpoints)\n",
    "for g in gaps:\n",
    "    dos[int((g-emin)/bin_width)] += 1.0\n",
    "dos"
   ]
  },
  {
   "cell_type": "code",
   "execution_count": 66,
   "metadata": {},
   "outputs": [
    {
     "data": {
      "text/plain": [
       "[<matplotlib.lines.Line2D at 0x7f8f6d15c160>]"
      ]
     },
     "execution_count": 66,
     "metadata": {},
     "output_type": "execute_result"
    },
    {
     "data": {
      "image/png": "[encoded data removed]",
      "text/plain": [
       "<Figure size 432x288 with 1 Axes>"
      ]
     },
     "metadata": {
      "needs_background": "light"
     },
     "output_type": "display_data"
    }
   ],
   "source": [
    "plt.plot(energy_range,dos)"
   ]
  },
  {
   "cell_type": "code",
   "execution_count": 64,
   "metadata": {
    "scrolled": true
   },
   "outputs": [
    {
     "name": "stdout",
     "output_type": "stream",
     "text": [
      "0 [-0.01909568  0.03777208  0.05502566] 1.8511591836770744\n",
      "1 [0.06066762 0.01480064 0.0222221 ] 1.847781913809028\n",
      "2 [ 0.04741021  0.01145945 -0.03103805] 1.7589478498562716\n",
      "3 [0.03366405 0.03716036 0.01273308] 1.7043065567809057\n",
      "4 [-0.05712486  0.04263179  0.0185776 ] 1.8845673405324561\n",
      "5 [ 0.04134045 -0.05180003 -0.01332695] 1.8350171858248405\n",
      "6 [-0.01956694  0.05822507 -0.02680406] 1.8430593740510997\n",
      "7 [ 0.01669198 -0.04416594  0.0546621 ] 1.8715542074325784\n",
      "8 [0.01207058 0.0518222  0.05170786] 1.8870507556213498\n",
      "9 [-0.00585116  0.04494343 -0.02490869] 1.7137793727427395\n",
      "10 [0.06231508 0.03111784 0.00612586] 1.8749900360917238\n",
      "11 [ 0.00607569  0.00113984 -0.00626221] 1.4312825701028986\n",
      "12 [-0.01849873  0.06020693 -0.03862937] 1.891915061595025\n",
      "13 [0.02210125 0.05111217 0.05953649] 1.9438966993806819\n",
      "14 [-0.01439241  0.04770005  0.04339578] 1.8199863604185804\n",
      "15 [0.00786647 0.0040167  0.012804  ] 1.4574298845715257\n",
      "16 [-0.0018721  -0.03542931 -0.03108502] 1.6705927262116287\n",
      "17 [0.01560078 0.06006372 0.02680185] 1.8528712399315008\n",
      "18 [-0.03669814  0.00718491 -0.05487619] 1.8322654912834624\n",
      "19 [-0.01677086  0.03427202 -0.01512561] 1.624497291628903\n",
      "20 [-0.04062968 -0.03876739 -0.06420709] 1.9723335379920526\n",
      "21 [-0.03167161  0.00580624 -0.02991596] 1.6447013542734323\n",
      "22 [-0.06434896  0.04611302 -0.02317388] 1.9570840634600328\n",
      "23 [ 0.02391723 -0.06204273 -0.03055367] 1.8914227072913654\n",
      "24 [-0.0241314  -0.05307991 -0.00092336] 1.7763083337960905\n",
      "25 [-0.02607404  0.0304934  -0.00318874] 1.617028519102\n",
      "26 [-0.06437692 -0.03785924  0.01491661] 1.9179152977923932\n",
      "27 [0.05090367 0.0626171  0.05653012] 2.0619789059801104\n",
      "28 [ 0.01842054 -0.05248581 -0.05743682] 1.932049107509429\n",
      "29 [-0.0248461  -0.05576374 -0.05639308] 1.9535470777907102\n",
      "30 [-0.0194106   0.04185513  0.05163694] 1.8453439572193604\n",
      "31 [-0.04906796 -0.01739275  0.00011276] 1.7270251009570927\n",
      "32 [ 0.04365088 -0.02882898 -0.03499588] 1.789099873947567\n",
      "33 [ 0.04214669 -0.02499228  0.06064653] 1.918795741422116\n",
      "34 [-0.0157292  -0.00472626 -0.0091037 ] 1.4737725931704624\n",
      "35 [ 0.00629582 -0.01929811  0.05398033] 1.7755340381982458\n",
      "36 [ 0.03750701 -0.05336572  0.01103019] 1.8271941402396692\n",
      "37 [0.01465062 0.05244927 0.05968623] 1.9414378223968711\n",
      "38 [-0.00153373 -0.05047529 -0.01494911] 1.7353183488299688\n",
      "39 [ 0.00456811 -0.00648285 -0.006032  ] 1.4347486337221156\n",
      "40 [-0.01552601 -0.02110732  0.0272692 ] 1.5965187054374441\n",
      "41 [ 0.05470181 -0.0253698  -0.00314457] 1.7936553378502262\n",
      "42 [-0.0170873   0.03660628 -0.06327655] 1.9076580084389043\n",
      "43 [ 0.05411342 -0.00683307  0.05050664] 1.890078546397751\n",
      "44 [ 0.00347689 -0.00940187 -0.02445375] 1.5219220903857202\n",
      "45 [-0.01929752  0.05778291 -0.05364171] 1.9413350872036155\n",
      "46 [ 0.05182546  0.03943571 -0.00421622] 1.819434069514303\n",
      "47 [-0.03819529 -0.03863716 -0.01321613] 1.7374179558064835\n",
      "48 [ 0.02464026 -0.03030176  0.04939552] 1.7959295914858666\n",
      "49 [ 0.06429609 -0.01132259  0.01737522] 1.87051303687542\n",
      "50 [-0.03270292  0.00565551 -0.0106332 ] 1.5834936006337745\n",
      "51 [0.00124998 0.0043761  0.0010246 ] 1.4219177103027585\n",
      "52 [-0.04792873 -0.04582907  0.03142213] 1.8709910522794848\n",
      "53 [-0.01391572  0.0449439  -0.03876327] 1.7788671991410316\n",
      "54 [ 0.01947127  0.05584028 -0.04432186] 1.884360770905542\n",
      "55 [ 0.05729662 -0.00595758 -0.00354841] 1.7902652311846214\n",
      "56 [-0.0594933   0.00439398  0.00923457] 1.813308334975848\n",
      "57 [ 0.03179928 -0.06324458  0.0455844 ] 1.9643518369088397\n",
      "58 [-0.01370672  0.03188995 -0.05706928] 1.8390892281313853\n",
      "59 [-0.03714793  0.05512039  0.0404389 ] 1.9073788870753683\n",
      "60 [ 0.02455214  0.02693728 -0.02391675] 1.6380083750619328\n",
      "61 [ 0.04469269 -0.0092345   0.05003577] 1.8355639502467573\n",
      "62 [0.0633922  0.03327552 0.0402818 ] 1.9505088190844484\n",
      "63 [ 0.05148922  0.06494722 -0.04577402] 2.036657253637828\n",
      "64 [-5.418670e-02  2.499313e-02 -4.790000e-05] 1.787865888914852\n",
      "65 [0.00254208 0.00376027 0.04565508] 1.6816934005382187\n",
      "66 [-0.00460485  0.0167756  -0.02135681] 1.5261915677140454\n",
      "67 [-0.0526757  -0.04107771  0.03765793] 1.8969470472049643\n",
      "68 [-0.03591732  0.03285131 -0.02086486] 1.711126472683624\n",
      "69 [-0.02690183  0.02920187 -0.0369375 ] 1.7201572680242414\n",
      "70 [ 0.00758115 -0.01604723 -0.01775294] 1.5097640329137176\n",
      "71 [ 0.06225745 -0.04346114  0.02565619] 1.9364798929214313\n",
      "72 [ 0.0119994  -0.03655074  0.01660624] 1.6336727591230256\n",
      "73 [-0.03816496  0.04813642 -0.03329949] 1.8435329849131374\n",
      "74 [-0.04029478  0.03425566  0.05146802] 1.8750795152408637\n",
      "75 [-0.04108163  0.0577873  -0.04093956] 1.9391127882192158\n",
      "76 [-0.05873475 -0.0623401   0.06045204] 2.1075194950579306\n",
      "77 [-0.01389978  0.0493658   0.03480176] 1.7908574005529685\n",
      "78 [-0.00748106  0.04022283 -0.03593616] 1.7277532033308445\n",
      "79 [ 0.06330268 -0.05345602 -0.02510603] 1.983847692226819\n",
      "80 [-0.01936873 -0.05108222  0.03691004] 1.8203384286583395\n",
      "81 [-5.873304e-02 -6.479828e-02 -1.387000e-05] 1.998737760804131\n",
      "82 [-0.06421789 -0.01218595 -0.06009854] 2.0067248437381453\n",
      "83 [ 0.05230475 -0.05631203  0.05274685] 2.0211756602235234\n",
      "84 [-0.04832995 -0.05381829  0.01413763] 1.8829336476383771\n",
      "85 [-0.00762004 -0.01394009  0.03054858] 1.5772785193170789\n",
      "86 [-0.011716    0.06159194 -0.03635785] 1.8875002732562756\n",
      "87 [-0.01770803  0.02784931 -0.04297397] 1.7259608448304142\n",
      "88 [ 0.05364949 -0.01175486 -0.02272023] 1.784203143551589\n",
      "89 [ 0.0156485  -0.03848694 -0.00089808] 1.635771095596387\n",
      "90 [-0.06454944 -0.035294    0.05105815] 2.0026583415440147\n",
      "91 [-0.03763364 -0.04701097 -0.02842837] 1.8189165428316345\n",
      "92 [ 0.02395435 -0.04046191  0.0517496 ] 1.84905442439113\n",
      "93 [ 0.04739336 -0.0060955  -0.05466295] 1.8770181329842943\n",
      "94 [ 0.00509991 -0.02494681  0.03437656] 1.637473666033486\n",
      "95 [-0.00559595  0.03519915 -0.04897462] 1.78158282606897\n",
      "96 [ 0.00768813 -0.0099583  -0.02059029] 1.5051047568528082\n",
      "97 [0.01057697 0.03725943 0.00413929] 1.6174686042791988\n",
      "98 [0.01151251 0.05676752 0.01904975] 1.8038960300730542\n",
      "99 [ 0.00362129  0.00589199 -0.05467022] 1.7654043361690857\n",
      "100 [0.03964797 0.05032187 0.00628746] 1.8108559186571025\n",
      "101 [-0.05191164 -0.04738594 -0.01946493] 1.873875081797781\n",
      "102 [-0.02898756 -0.00170011  0.02209075] 1.5895853705603482\n",
      "103 [0.00250647 0.05825948 0.01057835] 1.802101168192431\n",
      "104 [ 0.02773287 -0.05111534  0.0076358 ] 1.7725809282766765\n",
      "105 [0.05905565 0.03209884 0.06166134] 2.0145399212649897\n",
      "106 [-0.02096409  0.01476528 -0.01269328] 1.5321666259519215\n",
      "107 [-0.02850748  0.00241416 -0.0400758 ] 1.689313753119393\n",
      "108 [-0.04283617 -0.03573723 -0.01968823] 1.7620267258769724\n",
      "109 [ 0.00687572  0.06132319 -0.03029617] 1.864653727420281\n",
      "110 [ 0.00342923  0.01342236 -0.05816844] 1.804134163314516\n",
      "111 [ 0.00719195 -0.00423615  0.0088617 ] 1.4426679904718034\n",
      "112 [ 0.03719737 -0.04709276 -0.06452484] 1.9920643885659448\n",
      "113 [-0.01016606  0.06415337  0.03052737] 1.8919257459057404\n",
      "114 [-0.007243    0.04796925 -0.03409231] 1.7708404575844519\n",
      "115 [-0.04915234 -0.02566998  0.00748982] 1.7505370953937334\n",
      "116 [ 0.01467781 -0.04975086  0.044266  ] 1.8374847499848057\n",
      "117 [ 0.01476329  0.05330846 -0.06033821] 1.9499889173561868\n",
      "118 [ 0.06314364 -0.02782722 -0.00907734] 1.8760932808761819\n",
      "119 [ 0.06031156 -0.01934461 -0.01786556] 1.8435790762930102\n",
      "120 [-0.04857739 -0.0526992   0.05080882] 1.9804594477708841\n",
      "121 [ 0.01924655 -0.04305041  0.04791862] 1.8273817478740035\n",
      "122 [-0.03395153 -0.02833327  0.00697855] 1.6513827417569527\n",
      "123 [0.01411142 0.05729979 0.03258419] 1.8435390666756408\n",
      "124 [0.04831776 0.05703193 0.02457335] 1.919328297472629\n",
      "125 [-0.04851258 -0.04274613 -0.01570133] 1.823565621976475\n",
      "126 [-0.04252185 -0.03088629 -0.03361931] 1.7840969528222894\n",
      "127 [-0.05434842 -0.0197284  -0.05080486] 1.9066119872719671\n",
      "128 [-0.01558517  0.01301598  0.03026233] 1.5894790166048178\n",
      "129 [0.037514   0.0358089  0.00633934] 1.709948479720758\n",
      "130 [-0.06474472  0.05726492 -0.02319595] 2.0077963729602963\n",
      "131 [ 0.0238719   0.01762236 -0.05409129] 1.7986232708223069\n",
      "132 [-0.01234298 -0.04144677  0.02536048] 1.6963222005798757\n",
      "133 [ 0.0165923   0.00856497 -0.01860848] 1.5176400987273713\n",
      "134 [-0.01008932  0.04775871 -0.00748841] 1.7075640050225616\n",
      "135 [-0.03030641 -0.00813746  0.05071273] 1.778004989303212\n",
      "136 [ 0.06168397  0.03512491 -0.03315159] 1.9220223002442856\n",
      "137 [-0.01095037  0.05363043 -0.03759369] 1.8294044693453575\n",
      "138 [ 0.05252844  0.03519402 -0.02373229] 1.8328788051767742\n",
      "139 [-0.06431161 -0.01176399 -0.01930583] 1.8735314158227334\n",
      "140 [-0.05347064  0.06360777  0.05120718] 2.055751619936741\n",
      "141 [-0.00626944  0.03731778  0.03137993] 1.6860725364125662\n",
      "142 [ 0.00529358 -0.01471507 -0.06306345] 1.852519394716813\n",
      "143 [0.01531658 0.02942359 0.00426076] 1.5697749503316647\n",
      "144 [-0.01571618 -0.06400931 -0.03112539] 1.8971834094546995\n",
      "145 [-0.0006236   0.02231651 -0.02393917] 1.5616803670746116\n",
      "146 [-0.05259496 -0.00789695  0.04327844] 1.8442783396452276\n",
      "147 [0.03642305 0.02693549 0.02915694] 1.7172582628611632\n",
      "148 [ 0.04633793 -0.05312985 -0.02041604] 1.8777449021541512\n",
      "149 [-0.03473967 -0.0507099   0.05616511] 1.9494182768558996\n"
     ]
    }
   ],
   "source": [
    "for ind in range(len(k_values)):\n",
    "    print(ind,kpoints_cart[ind],gaps[ind])\n",
    "    #if gap[ind] < 3.0: print(kpoints_cart[ind],gap[ind])"
   ]
  },
  {
   "cell_type": "markdown",
   "metadata": {},
   "source": [
    "### Setup the nscf on a regular grids with dk that gives gaps up to 2eV"
   ]
  },
  {
   "cell_type": "code",
   "execution_count": 8,
   "metadata": {},
   "outputs": [
    {
     "name": "stdout",
     "output_type": "stream",
     "text": [
      "[-0.065 -0.039 -0.013  0.013  0.039  0.065]\n"
     ]
    }
   ],
   "source": [
    "kspan = 0.13\n",
    "num_kpoints = 6 #11\n",
    "weight = 1.\n",
    "linear_sampling = np.linspace(-kspan/2.,kspan/2.,num_kpoints)\n",
    "print(linear_sampling)"
   ]
  },
  {
   "cell_type": "code",
   "execution_count": 9,
   "metadata": {},
   "outputs": [],
   "source": [
    "klist = []\n",
    "for x in linear_sampling:\n",
    "    for y in linear_sampling:\n",
    "        for z in linear_sampling:\n",
    "            klist.append([x,y,z,weight])\n",
    "#klist"
   ]
  },
  {
   "cell_type": "code",
   "execution_count": 10,
   "metadata": {},
   "outputs": [],
   "source": [
    "bnds_study = D.Dataset(label='nscf',run_dir='nscf',pre_processing='nscf')"
   ]
  },
  {
   "cell_type": "code",
   "execution_count": 11,
   "metadata": {},
   "outputs": [],
   "source": [
    "input.system['nbnd'] = numBands\n",
    "idd = {'bnds' : numBands, 'kpoints' : num_kpoints, 'sampling' : 'regular-2eV-gaps'} \n",
    "input.set_prefix(D.name_from_id(idd))\n",
    "input.set_energy_cutoff(ecut_conv)\n",
    "input.set_kpoints(ktype='tpiba',klist=klist)\n",
    "bnds_study.append_run(id=idd,calculator=code,input=input)"
   ]
  },
  {
   "cell_type": "markdown",
   "metadata": {},
   "source": [
    "Apply the pre-processing"
   ]
  },
  {
   "cell_type": "code",
   "execution_count": 12,
   "metadata": {},
   "outputs": [],
   "source": [
    "source = 'gs_convergence/ecut_%s-k_%s.save'%(ecut_conv,k_conv)"
   ]
  },
  {
   "cell_type": "code",
   "execution_count": 13,
   "metadata": {
    "scrolled": true
   },
   "outputs": [
    {
     "name": "stdout",
     "output_type": "stream",
     "text": [
      "Folder nscf already exists\n",
      "execute :  cp -r gs_convergence/ecut_80-k_6.save nscf/bnds_12-kpoints_6-sampling_regular-2eV-gaps.save\n"
     ]
    }
   ],
   "source": [
    "bnds_study.pre_processing_function(source_dir=source)"
   ]
  },
  {
   "cell_type": "code",
   "execution_count": 14,
   "metadata": {},
   "outputs": [
    {
     "name": "stdout",
     "output_type": "stream",
     "text": [
      "execute : cd nscf ; OMP_NUM_THREADS=1 mpirun -np 16 pw.x -inp bnds_12-kpoints_6-sampling_regular-2eV-gaps.in > bnds_12-kpoints_6-sampling_regular-2eV-gaps.log\n",
      "parse file : nscf/bnds_12-kpoints_6-sampling_regular-2eV-gaps.save/data-file-schema.xml\n"
     ]
    }
   ],
   "source": [
    "bnds_study.run()"
   ]
  },
  {
   "cell_type": "markdown",
   "metadata": {},
   "source": [
    "### Energy gap for each k"
   ]
  },
  {
   "cell_type": "code",
   "execution_count": 15,
   "metadata": {},
   "outputs": [],
   "source": [
    "#results = bnds_study.fetch_results(id={'kpoints' : 100})[0]\n",
    "results = bnds_study.fetch_results()[0]\n",
    "bands = results.band_structure(plot=False)\n",
    "k_values = bands[:,0] # position on the path\n",
    "kpoints_cart = results.kpt_cart # cartesian position for each value on the path"
   ]
  },
  {
   "cell_type": "code",
   "execution_count": 19,
   "metadata": {},
   "outputs": [],
   "source": [
    "gaps = 1.0+bands[:,9]-bands[:,7]\n",
    "#gaps"
   ]
  },
  {
   "cell_type": "code",
   "execution_count": 20,
   "metadata": {},
   "outputs": [
    {
     "name": "stdout",
     "output_type": "stream",
     "text": [
      "0.030000000000000006\n"
     ]
    },
    {
     "data": {
      "text/plain": [
       "array([ 0.,  0.,  0.,  0.,  0.,  0.,  8.,  0.,  0.,  0.,  0., 24.,  0.,\n",
       "        0., 24.,  0.,  0.,  8.,  0., 24., 48.,  0., 24.,  0., 24., 24.,\n",
       "        0.,  0.,  8.,  0.])"
      ]
     },
     "execution_count": 20,
     "metadata": {},
     "output_type": "execute_result"
    }
   ],
   "source": [
    "numpoints = 30\n",
    "emin = 1.3\n",
    "emax = 2.2\n",
    "bin_width = (emax-emin)/numpoints\n",
    "print(bin_width)\n",
    "energy_range = [emin+x*bin_width for x in range(numpoints)]\n",
    "dos = np.zeros(numpoints)\n",
    "for g in gaps:\n",
    "    dos[int((g-emin)/bin_width)] += 1.0\n",
    "dos"
   ]
  },
  {
   "cell_type": "code",
   "execution_count": 21,
   "metadata": {},
   "outputs": [
    {
     "data": {
      "text/plain": [
       "[<matplotlib.lines.Line2D at 0x7f96cc110cf8>]"
      ]
     },
     "execution_count": 21,
     "metadata": {},
     "output_type": "execute_result"
    },
    {
     "data": {
      "image/png": "[encoded data removed]",
      "text/plain": [
       "<Figure size 432x288 with 1 Axes>"
      ]
     },
     "metadata": {
      "needs_background": "light"
     },
     "output_type": "display_data"
    }
   ],
   "source": [
    "plt.plot(energy_range,dos)"
   ]
  },
  {
   "cell_type": "code",
   "execution_count": 22,
   "metadata": {
    "scrolled": true
   },
   "outputs": [
    {
     "name": "stdout",
     "output_type": "stream",
     "text": [
      "0 [-0.065 -0.065 -0.065] 2.163655161863595\n",
      "1 [-0.065 -0.065 -0.039] 2.078228359898124\n",
      "2 [-0.065 -0.065 -0.013] 2.0386484168889423\n",
      "3 [-0.065 -0.065  0.013] 2.0386484168636683\n",
      "4 [-0.065 -0.065  0.039] 2.0782283598978557\n",
      "5 [-0.065 -0.065  0.065] 2.163655161860439\n",
      "6 [-0.065 -0.039 -0.065] 2.078228359897828\n",
      "7 [-0.065 -0.039 -0.039] 1.9735679639624353\n",
      "8 [-0.065 -0.039 -0.013] 1.924638534053357\n",
      "9 [-0.065 -0.039  0.013] 1.9246385340523355\n",
      "10 [-0.065 -0.039  0.039] 1.9735679639755022\n",
      "11 [-0.065 -0.039  0.065] 2.0782283598972837\n",
      "12 [-0.065 -0.013 -0.065] 2.038648416862542\n",
      "13 [-0.065 -0.013 -0.039] 1.9246385340459167\n",
      "14 [-0.065 -0.013 -0.013] 1.8738638227597937\n",
      "15 [-0.065 -0.013  0.013] 1.8738638228404536\n",
      "16 [-0.065 -0.013  0.039] 1.9246385340785954\n",
      "17 [-0.065 -0.013  0.065] 2.0386484168635706\n",
      "18 [-0.065  0.013 -0.065] 2.0386484168690293\n",
      "19 [-0.065  0.013 -0.039] 1.9246385340470509\n",
      "20 [-0.065  0.013 -0.013] 1.8738638227967561\n",
      "21 [-0.065  0.013  0.013] 1.8738638227627087\n",
      "22 [-0.065  0.013  0.039] 1.9246385340456804\n",
      "23 [-0.065  0.013  0.065] 2.038648416864155\n",
      "24 [-0.065  0.039 -0.065] 2.078228359897521\n",
      "25 [-0.065  0.039 -0.039] 1.9735679639801171\n",
      "26 [-0.065  0.039 -0.013] 1.9246385340539849\n",
      "27 [-0.065  0.039  0.013] 1.9246385341880474\n",
      "28 [-0.065  0.039  0.039] 1.9735679639632568\n",
      "29 [-0.065  0.039  0.065] 2.0782283599986595\n",
      "30 [-0.065  0.065 -0.065] 2.1636551618615254\n",
      "31 [-0.065  0.065 -0.039] 2.0782283599000486\n",
      "32 [-0.065  0.065 -0.013] 2.0386484168647305\n",
      "33 [-0.065  0.065  0.013] 2.0386484168618804\n",
      "34 [-0.065  0.065  0.039] 2.0782283598987075\n",
      "35 [-0.065  0.065  0.065] 2.163655161863157\n",
      "36 [-0.039 -0.065 -0.065] 2.07822835989856\n",
      "37 [-0.039 -0.065 -0.039] 1.9735679639651504\n",
      "38 [-0.039 -0.065 -0.013] 1.9246385340509455\n",
      "39 [-0.039 -0.065  0.013] 1.9246385340571956\n",
      "40 [-0.039 -0.065  0.039] 1.9735679639626271\n",
      "41 [-0.039 -0.065  0.065] 2.0782283598972704\n",
      "42 [-0.039 -0.039 -0.065] 1.9735679639623722\n",
      "43 [-0.039 -0.039 -0.039] 1.823191627697022\n",
      "44 [-0.039 -0.039 -0.013] 1.7435382358794858\n",
      "45 [-0.039 -0.039  0.013] 1.743538235985132\n",
      "46 [-0.039 -0.039  0.039] 1.8231916276956186\n",
      "47 [-0.039 -0.039  0.065] 1.9735679639671515\n",
      "48 [-0.039 -0.013 -0.065] 1.9246385340602714\n",
      "49 [-0.039 -0.013 -0.039] 1.7435382358801528\n",
      "50 [-0.039 -0.013 -0.013] 1.6460054511109634\n",
      "51 [-0.039 -0.013  0.013] 1.6460054511131057\n",
      "52 [-0.039 -0.013  0.039] 1.743538235880182\n",
      "53 [-0.039 -0.013  0.065] 1.9246385340716996\n",
      "54 [-0.039  0.013 -0.065] 1.9246385340461405\n",
      "55 [-0.039  0.013 -0.039] 1.7435382358848308\n",
      "56 [-0.039  0.013 -0.013] 1.6460054511052302\n",
      "57 [-0.039  0.013  0.013] 1.646005451128194\n",
      "58 [-0.039  0.013  0.039] 1.7435382358957119\n",
      "59 [-0.039  0.013  0.065] 1.924638534045867\n",
      "60 [-0.039  0.039 -0.065] 1.9735679639715489\n",
      "61 [-0.039  0.039 -0.039] 1.8231916277528768\n",
      "62 [-0.039  0.039 -0.013] 1.7435382358887122\n",
      "63 [-0.039  0.039  0.013] 1.7435382358760458\n",
      "64 [-0.039  0.039  0.039] 1.8231916277437197\n",
      "65 [-0.039  0.039  0.065] 1.9735679639669517\n",
      "66 [-0.039  0.065 -0.065] 2.078228359899099\n",
      "67 [-0.039  0.065 -0.039] 1.973567964005606\n",
      "68 [-0.039  0.065 -0.013] 1.924638534046121\n",
      "69 [-0.039  0.065  0.013] 1.9246385340736722\n",
      "70 [-0.039  0.065  0.039] 1.973567963966775\n",
      "71 [-0.039  0.065  0.065] 2.0782283598978095\n",
      "72 [-0.013 -0.065 -0.065] 2.0386484168627925\n",
      "73 [-0.013 -0.065 -0.039] 1.9246385340535523\n",
      "74 [-0.013 -0.065 -0.013] 1.8738638227855775\n",
      "75 [-0.013 -0.065  0.013] 1.8738638227619901\n",
      "76 [-0.013 -0.065  0.039] 1.9246385340455738\n",
      "77 [-0.013 -0.065  0.065] 2.0386484168631815\n",
      "78 [-0.013 -0.039 -0.065] 1.9246385340458847\n",
      "79 [-0.013 -0.039 -0.039] 1.7435382359044\n",
      "80 [-0.013 -0.039 -0.013] 1.6460054511210132\n",
      "81 [-0.013 -0.039  0.013] 1.64600545110323\n",
      "82 [-0.013 -0.039  0.039] 1.7435382358912683\n",
      "83 [-0.013 -0.039  0.065] 1.9246385340693726\n",
      "84 [-0.013 -0.013 -0.065] 1.8738638227782527\n",
      "85 [-0.013 -0.013 -0.039] 1.6460054511026776\n",
      "86 [-0.013 -0.013 -0.013] 1.4935574369308497\n",
      "87 [-0.013 -0.013  0.013] 1.4935574369186888\n",
      "88 [-0.013 -0.013  0.039] 1.6460054511001392\n",
      "89 [-0.013 -0.013  0.065] 1.8738638227631146\n",
      "90 [-0.013  0.013 -0.065] 1.8738638227619466\n",
      "91 [-0.013  0.013 -0.039] 1.646005451097854\n",
      "92 [-0.013  0.013 -0.013] 1.4935574369176114\n",
      "93 [-0.013  0.013  0.013] 1.4935574369177722\n",
      "94 [-0.013  0.013  0.039] 1.6460054511030862\n",
      "95 [-0.013  0.013  0.065] 1.8738638227828917\n",
      "96 [-0.013  0.039 -0.065] 1.9246385340476175\n",
      "97 [-0.013  0.039 -0.039] 1.7435382358962448\n",
      "98 [-0.013  0.039 -0.013] 1.64600545115875\n",
      "99 [-0.013  0.039  0.013] 1.6460054511243385\n",
      "100 [-0.013  0.039  0.039] 1.7435382359012497\n",
      "101 [-0.013  0.039  0.065] 1.9246385340757977\n",
      "102 [-0.013  0.065 -0.065] 2.038648416863663\n",
      "103 [-0.013  0.065 -0.039] 1.9246385340453127\n",
      "104 [-0.013  0.065 -0.013] 1.8738638227594846\n",
      "105 [-0.013  0.065  0.013] 1.8738638227600717\n",
      "106 [-0.013  0.065  0.039] 1.9246385340514491\n",
      "107 [-0.013  0.065  0.065] 2.0386484168629275\n",
      "108 [ 0.013 -0.065 -0.065] 2.0386484168672823\n",
      "109 [ 0.013 -0.065 -0.039] 1.924638534049337\n",
      "110 [ 0.013 -0.065 -0.013] 1.873863822769196\n",
      "111 [ 0.013 -0.065  0.013] 1.8738638227591844\n",
      "112 [ 0.013 -0.065  0.039] 1.9246385340459495\n",
      "113 [ 0.013 -0.065  0.065] 2.038648416862835\n",
      "114 [ 0.013 -0.039 -0.065] 1.9246385340455658\n",
      "115 [ 0.013 -0.039 -0.039] 1.7435382358877174\n",
      "116 [ 0.013 -0.039 -0.013] 1.6460054511382056\n",
      "117 [ 0.013 -0.039  0.013] 1.6460054511319546\n",
      "118 [ 0.013 -0.039  0.039] 1.7435382358946319\n",
      "119 [ 0.013 -0.039  0.065] 1.9246385340624368\n",
      "120 [ 0.013 -0.013 -0.065] 1.8738638227596933\n",
      "121 [ 0.013 -0.013 -0.039] 1.6460054511416455\n",
      "122 [ 0.013 -0.013 -0.013] 1.4935574369200388\n",
      "123 [ 0.013 -0.013  0.013] 1.4935574369158982\n",
      "124 [ 0.013 -0.013  0.039] 1.6460054510971567\n",
      "125 [ 0.013 -0.013  0.065] 1.8738638227729538\n",
      "126 [ 0.013  0.013 -0.065] 1.8738638227602156\n",
      "127 [ 0.013  0.013 -0.039] 1.646005451141571\n",
      "128 [ 0.013  0.013 -0.013] 1.4935574369151663\n",
      "129 [0.013 0.013 0.013] 1.4935574369164852\n",
      "130 [0.013 0.013 0.039] 1.6460054510992714\n",
      "131 [0.013 0.013 0.065] 1.8738638227603683\n",
      "132 [ 0.013  0.039 -0.065] 1.9246385340464442\n",
      "133 [ 0.013  0.039 -0.039] 1.7435382360201412\n",
      "134 [ 0.013  0.039 -0.013] 1.646005451188679\n",
      "135 [0.013 0.039 0.013] 1.6460054511113364\n",
      "136 [0.013 0.039 0.039] 1.7435382358808242\n",
      "137 [0.013 0.039 0.065] 1.9246385342420869\n",
      "138 [ 0.013  0.065 -0.065] 2.0386484168649233\n",
      "139 [ 0.013  0.065 -0.039] 1.9246385340526215\n",
      "140 [ 0.013  0.065 -0.013] 1.8738638227691684\n",
      "141 [0.013 0.065 0.013] 1.8738638227619093\n",
      "142 [0.013 0.065 0.039] 1.924638534047432\n",
      "143 [0.013 0.065 0.065] 2.038648416863075\n",
      "144 [ 0.039 -0.065 -0.065] 2.0782283599002502\n",
      "145 [ 0.039 -0.065 -0.039] 1.9735679639792245\n",
      "146 [ 0.039 -0.065 -0.013] 1.924638534046271\n",
      "147 [ 0.039 -0.065  0.013] 1.9246385340456218\n",
      "148 [ 0.039 -0.065  0.039] 1.9735679642718553\n",
      "149 [ 0.039 -0.065  0.065] 2.0782283598976123\n",
      "150 [ 0.039 -0.039 -0.065] 1.973567963971747\n",
      "151 [ 0.039 -0.039 -0.039] 1.8231916277391909\n",
      "152 [ 0.039 -0.039 -0.013] 1.7435382358904326\n",
      "153 [ 0.039 -0.039  0.013] 1.7435382359934959\n",
      "154 [ 0.039 -0.039  0.039] 1.8231916277407967\n",
      "155 [ 0.039 -0.039  0.065] 1.973567963962541\n",
      "156 [ 0.039 -0.013 -0.065] 1.9246385340468226\n",
      "157 [ 0.039 -0.013 -0.039] 1.7435382358948166\n",
      "158 [ 0.039 -0.013 -0.013] 1.6460054511450624\n",
      "159 [ 0.039 -0.013  0.013] 1.6460054511695557\n",
      "160 [ 0.039 -0.013  0.039] 1.7435382358948823\n",
      "161 [ 0.039 -0.013  0.065] 1.924638534089011\n",
      "162 [ 0.039  0.013 -0.065] 1.924638534179917\n",
      "163 [ 0.039  0.013 -0.039] 1.7435382358787272\n",
      "164 [ 0.039  0.013 -0.013] 1.6460054510993967\n",
      "165 [0.039 0.013 0.013] 1.6460054511103621\n",
      "166 [0.039 0.013 0.039] 1.7435382358983809\n",
      "167 [0.039 0.013 0.065] 1.924638534045421\n",
      "168 [ 0.039  0.039 -0.065] 1.9735679639794226\n",
      "169 [ 0.039  0.039 -0.039] 1.8231916276955147\n",
      "170 [ 0.039  0.039 -0.013] 1.7435382358839755\n",
      "171 [0.039 0.039 0.013] 1.7435382358766969\n",
      "172 [0.039 0.039 0.039] 1.823191627694304\n",
      "173 [0.039 0.039 0.065] 1.9735679640018455\n",
      "174 [ 0.039  0.065 -0.065] 2.0782283598999616\n",
      "175 [ 0.039  0.065 -0.039] 1.973567963963406\n",
      "176 [ 0.039  0.065 -0.013] 1.9246385340669345\n",
      "177 [0.039 0.065 0.013] 1.9246385340474301\n",
      "178 [0.039 0.065 0.039] 1.973567963962811\n",
      "179 [0.039 0.065 0.065] 2.0782283598985813\n",
      "180 [ 0.065 -0.065 -0.065] 2.1636551618602837\n",
      "181 [ 0.065 -0.065 -0.039] 2.078228359898022\n",
      "182 [ 0.065 -0.065 -0.013] 2.038648416863097\n",
      "183 [ 0.065 -0.065  0.013] 2.0386484168629586\n",
      "184 [ 0.065 -0.065  0.039] 2.0782283598990983\n",
      "185 [ 0.065 -0.065  0.065] 2.1636551618597597\n",
      "186 [ 0.065 -0.039 -0.065] 2.0782283598981444\n",
      "187 [ 0.065 -0.039 -0.039] 1.973567963990737\n",
      "188 [ 0.065 -0.039 -0.013] 1.9246385340453562\n",
      "189 [ 0.065 -0.039  0.013] 1.9246385340624181\n",
      "190 [ 0.065 -0.039  0.039] 1.9735679639628874\n",
      "191 [ 0.065 -0.039  0.065] 2.078228359900426\n",
      "192 [ 0.065 -0.013 -0.065] 2.0386484168629995\n",
      "193 [ 0.065 -0.013 -0.039] 1.9246385341399295\n",
      "194 [ 0.065 -0.013 -0.013] 1.8738638227601863\n",
      "195 [ 0.065 -0.013  0.013] 1.873863822766772\n",
      "196 [ 0.065 -0.013  0.039] 1.9246385340457488\n",
      "197 [ 0.065 -0.013  0.065] 2.03864841686436\n",
      "198 [ 0.065  0.013 -0.065] 2.0386484168639045\n",
      "199 [ 0.065  0.013 -0.039] 1.9246385340523142\n",
      "200 [ 0.065  0.013 -0.013] 1.8738638227610762\n",
      "201 [0.065 0.013 0.013] 1.8738638227601294\n",
      "202 [0.065 0.013 0.039] 1.9246385340456778\n",
      "203 [0.065 0.013 0.065] 2.0386484168633965\n",
      "204 [ 0.065  0.039 -0.065] 2.078228359897923\n",
      "205 [ 0.065  0.039 -0.039] 1.9735679639627532\n",
      "206 [ 0.065  0.039 -0.013] 1.9246385340496444\n",
      "207 [0.065 0.039 0.013] 1.9246385340531225\n",
      "208 [0.065 0.039 0.039] 1.973567963964217\n",
      "209 [0.065 0.039 0.065] 2.078228359897172\n",
      "210 [ 0.065  0.065 -0.065] 2.1636551618607553\n",
      "211 [ 0.065  0.065 -0.039] 2.0782283598979916\n",
      "212 [ 0.065  0.065 -0.013] 2.0386484168625527\n",
      "213 [0.065 0.065 0.013] 2.0386484168632384\n",
      "214 [0.065 0.065 0.039] 2.0782283599008347\n",
      "215 [0.065 0.065 0.065] 2.163655161859345\n"
     ]
    }
   ],
   "source": [
    "for ind in range(len(k_values)):\n",
    "    print(ind,kpoints_cart[ind],gaps[ind])\n",
    "    #if gap[ind] < 3.0: print(kpoints_cart[ind],gap[ind])"
   ]
  },
  {
   "cell_type": "markdown",
   "metadata": {},
   "source": [
    "### Setup the nscf on a regular grids in the region close to Gamma - without symmetries"
   ]
  },
  {
   "cell_type": "code",
   "execution_count": 7,
   "metadata": {},
   "outputs": [
    {
     "name": "stdout",
     "output_type": "stream",
     "text": [
      "[-0.05 -0.03 -0.01  0.01  0.03  0.05]\n"
     ]
    }
   ],
   "source": [
    "kmin = -0.05\n",
    "kmax = 0.05\n",
    "num_kpoints = 6\n",
    "weight = 1.\n",
    "linear_sampling = np.linspace(kmin,kmax,num_kpoints)\n",
    "print(linear_sampling)"
   ]
  },
  {
   "cell_type": "code",
   "execution_count": 8,
   "metadata": {},
   "outputs": [],
   "source": [
    "klist = []\n",
    "for x in linear_sampling:\n",
    "    for y in linear_sampling:\n",
    "        for z in linear_sampling:\n",
    "            klist.append([x,y,z,weight])\n",
    "#klist"
   ]
  },
  {
   "cell_type": "code",
   "execution_count": 9,
   "metadata": {},
   "outputs": [],
   "source": [
    "bnds_study = D.Dataset(label='nscf',run_dir='nscf',pre_processing='nscf')"
   ]
  },
  {
   "cell_type": "code",
   "execution_count": 10,
   "metadata": {},
   "outputs": [],
   "source": [
    "input.system['nbnd'] = numBands\n",
    "idd = {'bnds' : numBands, 'kpoints' : num_kpoints, 'sampling' : 'reg_grid_gamma', 'sym' : 'no'} \n",
    "input.set_prefix(D.name_from_id(idd))\n",
    "input.set_energy_cutoff(ecut_conv)\n",
    "input.system['nosym'] = '.true.'\n",
    "input.system['noinv'] = '.true.'\n",
    "input.set_kpoints(ktype='tpiba',klist=klist)\n",
    "bnds_study.append_run(id=idd,calculator=code,input=input)"
   ]
  },
  {
   "cell_type": "markdown",
   "metadata": {},
   "source": [
    "Apply the pre-processing"
   ]
  },
  {
   "cell_type": "code",
   "execution_count": 11,
   "metadata": {},
   "outputs": [
    {
     "data": {
      "text/plain": [
       "'gs_convergence/ecut_80-k_6-sym_no.save'"
      ]
     },
     "execution_count": 11,
     "metadata": {},
     "output_type": "execute_result"
    }
   ],
   "source": [
    "source = 'gs_convergence/ecut_%s-k_%s-sym_no.save'%(ecut_conv,k_conv)\n",
    "source"
   ]
  },
  {
   "cell_type": "code",
   "execution_count": 12,
   "metadata": {
    "scrolled": true
   },
   "outputs": [
    {
     "name": "stdout",
     "output_type": "stream",
     "text": [
      "Folder nscf already exists\n",
      "execute :  cp -r gs_convergence/ecut_80-k_6-sym_no.save nscf/bnds_40-kpoints_6-sampling_reg_grid_gamma-sym_no.save\n"
     ]
    }
   ],
   "source": [
    "bnds_study.pre_processing_function(source_dir=source)"
   ]
  },
  {
   "cell_type": "code",
   "execution_count": 13,
   "metadata": {},
   "outputs": [
    {
     "name": "stdout",
     "output_type": "stream",
     "text": [
      "execute : cd nscf ; OMP_NUM_THREADS=1 mpirun -np 16 pw.x -inp bnds_40-kpoints_6-sampling_reg_grid_gamma-sym_no.in > bnds_40-kpoints_6-sampling_reg_grid_gamma-sym_no.log\n",
      "parse file : nscf/bnds_40-kpoints_6-sampling_reg_grid_gamma-sym_no.save/data-file-schema.xml\n"
     ]
    }
   ],
   "source": [
    "bnds_study.run()"
   ]
  },
  {
   "cell_type": "markdown",
   "metadata": {},
   "source": [
    "### Energy gap for each k"
   ]
  },
  {
   "cell_type": "code",
   "execution_count": 14,
   "metadata": {},
   "outputs": [],
   "source": [
    "results = bnds_study.fetch_results(id={'kpoints' : 6})[0]\n",
    "bands = results.band_structure(plot=False)\n",
    "k_values = bands[:,0] # position on the path\n",
    "kpoints_cart = results.kpt_cart # cartesian position for each value on the path"
   ]
  },
  {
   "cell_type": "code",
   "execution_count": 15,
   "metadata": {},
   "outputs": [
    {
     "name": "stdout",
     "output_type": "stream",
     "text": [
      "[-0.05 -0.05 -0.05] 1.9710679572496073\n",
      "[-0.05 -0.05 -0.03] 1.8993406966939403\n",
      "[-0.05 -0.05 -0.01] 1.8649297079700258\n",
      "[-0.05 -0.05  0.01] 1.8649297019536206\n",
      "[-0.05 -0.05  0.03] 1.8993406901274978\n",
      "[-0.05 -0.05  0.05] 1.9710679729860878\n",
      "[-0.05 -0.03 -0.05] 1.8993408899624367\n",
      "[-0.05 -0.03 -0.03] 1.814611172676738\n",
      "[-0.05 -0.03 -0.01] 1.7731256076316635\n",
      "[-0.05 -0.03  0.01] 1.7731255732612725\n",
      "[-0.05 -0.03  0.03] 1.8146111032557837\n",
      "[-0.05 -0.03  0.05] 1.8993408063523214\n",
      "[-0.05 -0.01 -0.05] 1.8649299707835807\n",
      "[-0.05 -0.01 -0.03] 1.7731256736383383\n",
      "[-0.05 -0.01 -0.01] 1.7295123894772173\n",
      "[-0.05 -0.01  0.01] 1.7295123115908462\n",
      "[-0.05 -0.01  0.03] 1.7731255843424423\n",
      "[-0.05 -0.01  0.05] 1.864929886077923\n",
      "[-0.05  0.01 -0.05] 1.864929968705611\n",
      "[-0.05  0.01 -0.03] 1.7731257103479807\n",
      "[-0.05  0.01 -0.01] 1.7295124679640326\n",
      "[-0.05  0.01  0.01] 1.7295123863634787\n",
      "[-0.05  0.01  0.03] 1.7731256235840904\n",
      "[-0.05  0.01  0.05] 1.8649298977962818\n",
      "[-0.05  0.03 -0.05] 1.899340882088345\n",
      "[-0.05  0.03 -0.03] 1.8146112443596643\n",
      "[-0.05  0.03 -0.01] 1.7731257142952623\n",
      "[-0.05  0.03  0.01] 1.7731256821271435\n",
      "[-0.05  0.03  0.03] 1.814611185405309\n",
      "[-0.05  0.03  0.05] 1.8993408297912042\n",
      "[-0.05  0.05 -0.05] 1.9710679542905734\n",
      "[-0.05  0.05 -0.03] 1.8993407654522834\n",
      "[-0.05  0.05 -0.01] 1.8649298075045406\n",
      "[-0.05  0.05  0.01] 1.8649298152669704\n",
      "[-0.05  0.05  0.03] 1.899340790152129\n",
      "[-0.05  0.05  0.05] 1.9710679887131972\n",
      "[-0.03 -0.05 -0.05] 1.899340717524474\n",
      "[-0.03 -0.05 -0.03] 1.8146108638035852\n",
      "[-0.03 -0.05 -0.01] 1.7731251293744759\n",
      "[-0.03 -0.05  0.01] 1.773125113317266\n",
      "[-0.03 -0.05  0.03] 1.8146108322971344\n",
      "[-0.03 -0.05  0.05] 1.8993406526750984\n",
      "[-0.03 -0.03 -0.05] 1.8146111629396007\n",
      "[-0.03 -0.03 -0.03] 1.7017666362953268\n",
      "[-0.03 -0.03 -0.01] 1.6409262108880718\n",
      "[-0.03 -0.03  0.01] 1.6409261783738396\n",
      "[-0.03 -0.03  0.03] 1.7017665851620194\n",
      "[-0.03 -0.03  0.05] 1.81461103339411\n",
      "[-0.03 -0.01 -0.05] 1.7731255762060174\n",
      "[-0.03 -0.01 -0.03] 1.640926526652227\n",
      "[-0.03 -0.01 -0.01] 1.5686702313506808\n",
      "[-0.03 -0.01  0.01] 1.5686701264600078\n",
      "[-0.03 -0.01  0.03] 1.6409263694145695\n",
      "[-0.03 -0.01  0.05] 1.7731254573364836\n",
      "[-0.03  0.01 -0.05] 1.7731255401393788\n",
      "[-0.03  0.01 -0.03] 1.6409265251631906\n",
      "[-0.03  0.01 -0.01] 1.568670329803468\n",
      "[-0.03  0.01  0.01] 1.5686702340891836\n",
      "[-0.03  0.01  0.03] 1.640926415379643\n",
      "[-0.03  0.01  0.05] 1.773125482522853\n",
      "[-0.03  0.03 -0.05] 1.8146110873952388\n",
      "[-0.03  0.03 -0.03] 1.7017666463534988\n",
      "[-0.03  0.03 -0.01] 1.6409263355310717\n",
      "[-0.03  0.03  0.01] 1.6409263504523128\n",
      "[-0.03  0.03  0.03] 1.701766664543361\n",
      "[-0.03  0.03  0.05] 1.8146110885357984\n",
      "[-0.03  0.05 -0.05] 1.8993406514186484\n",
      "[-0.03  0.05 -0.03] 1.8146108755009944\n",
      "[-0.03  0.05 -0.01] 1.7731252075463644\n",
      "[-0.03  0.05  0.01] 1.7731252532404422\n",
      "[-0.03  0.05  0.03] 1.8146109745832915\n",
      "[-0.03  0.05  0.05] 1.8993407343963717\n",
      "[-0.01 -0.05 -0.05] 1.8649297345218638\n",
      "[-0.01 -0.05 -0.03] 1.7731251929275453\n",
      "[-0.01 -0.05 -0.01] 1.7295116696135056\n",
      "[-0.01 -0.05  0.01] 1.7295116312687435\n",
      "[-0.01 -0.05  0.03] 1.773125115189429\n",
      "[-0.01 -0.05  0.05] 1.8649296385576948\n",
      "[-0.01 -0.03 -0.05] 1.773125573315541\n",
      "[-0.01 -0.03 -0.03] 1.6409262447700081\n",
      "[-0.01 -0.03 -0.01] 1.5686697098873283\n",
      "[-0.01 -0.03  0.01] 1.5686696550539017\n",
      "[-0.01 -0.03  0.03] 1.6409261171123042\n",
      "[-0.01 -0.03  0.05] 1.7731254466884385\n",
      "[-0.01 -0.01 -0.05] 1.7295122598369366\n",
      "[-0.01 -0.01 -0.03] 1.5686701796686666\n",
      "[-0.01 -0.01 -0.01] 1.4653316980014273\n",
      "[-0.01 -0.01  0.01] 1.4653316075775331\n",
      "[-0.01 -0.01  0.03] 1.5686700012754464\n",
      "[-0.01 -0.01  0.05] 1.7295121238792488\n",
      "[-0.01  0.01 -0.05] 1.7295121948758574\n",
      "[-0.01  0.01 -0.03] 1.5686700955879802\n",
      "[-0.01  0.01 -0.01] 1.465331714503015\n",
      "[-0.01  0.01  0.01] 1.4653317176450704\n",
      "[-0.01  0.01  0.03] 1.5686700733465795\n",
      "[-0.01  0.01  0.05] 1.7295121711347816\n",
      "[-0.01  0.03 -0.05] 1.7731254746998282\n",
      "[-0.01  0.03 -0.03] 1.6409261481553878\n",
      "[-0.01  0.03 -0.01] 1.5686697349145655\n",
      "[-0.01  0.03  0.01] 1.56866983622984\n",
      "[-0.01  0.03  0.03] 1.6409262582191397\n",
      "[-0.01  0.03  0.05] 1.7731255348904584\n",
      "[-0.01  0.05 -0.05] 1.8649296425158308\n",
      "[-0.01  0.05 -0.03] 1.773125138017166\n",
      "[-0.01  0.05 -0.01] 1.7295116903943448\n",
      "[-0.01  0.05  0.01] 1.7295117644101419\n",
      "[-0.01  0.05  0.03] 1.7731252453252662\n",
      "[-0.01  0.05  0.05] 1.864929740222335\n",
      "[ 0.01 -0.05 -0.05] 1.8649297402188107\n",
      "[ 0.01 -0.05 -0.03] 1.7731252453242687\n",
      "[ 0.01 -0.05 -0.01] 1.7295117644110762\n",
      "[ 0.01 -0.05  0.01] 1.7295116903939833\n",
      "[ 0.01 -0.05  0.03] 1.7731251380179938\n",
      "[ 0.01 -0.05  0.05] 1.8649296425171586\n",
      "[ 0.01 -0.03 -0.05] 1.7731255348917179\n",
      "[ 0.01 -0.03 -0.03] 1.640926258218463\n",
      "[ 0.01 -0.03 -0.01] 1.5686698362306561\n",
      "[ 0.01 -0.03  0.01] 1.568669734913943\n",
      "[ 0.01 -0.03  0.03] 1.6409261481553647\n",
      "[ 0.01 -0.03  0.05] 1.773125474697002\n",
      "[ 0.01 -0.01 -0.05] 1.7295121711347647\n",
      "[ 0.01 -0.01 -0.03] 1.5686700733465022\n",
      "[ 0.01 -0.01 -0.01] 1.4653317176454266\n",
      "[ 0.01 -0.01  0.01] 1.4653317145035185\n",
      "[ 0.01 -0.01  0.03] 1.5686700955875166\n",
      "[ 0.01 -0.01  0.05] 1.7295121948761905\n",
      "[ 0.01  0.01 -0.05] 1.7295121238793936\n",
      "[ 0.01  0.01 -0.03] 1.5686700012743007\n",
      "[ 0.01  0.01 -0.01] 1.465331607577272\n",
      "[0.01 0.01 0.01] 1.4653316980004014\n",
      "[0.01 0.01 0.03] 1.5686701796696383\n",
      "[0.01 0.01 0.05] 1.7295122598370316\n",
      "[ 0.01  0.03 -0.05] 1.7731254466883177\n",
      "[ 0.01  0.03 -0.03] 1.6409261171121354\n",
      "[ 0.01  0.03 -0.01] 1.5686696550544426\n",
      "[0.01 0.03 0.01] 1.5686697098863434\n",
      "[0.01 0.03 0.03] 1.640926244769494\n",
      "[0.01 0.03 0.05] 1.7731255733131892\n",
      "[ 0.01  0.05 -0.05] 1.8649296385567782\n",
      "[ 0.01  0.05 -0.03] 1.77312511518908\n",
      "[ 0.01  0.05 -0.01] 1.7295116312687897\n",
      "[0.01 0.05 0.01] 1.7295116696137232\n",
      "[0.01 0.05 0.03] 1.7731251929281875\n",
      "[0.01 0.05 0.05] 1.8649297345199134\n",
      "[ 0.03 -0.05 -0.05] 1.8993407343971036\n",
      "[ 0.03 -0.05 -0.03] 1.8146109745832542\n",
      "[ 0.03 -0.05 -0.01] 1.773125253240985\n",
      "[ 0.03 -0.05  0.01] 1.7731252075463146\n",
      "[ 0.03 -0.05  0.03] 1.8146108755010086\n",
      "[ 0.03 -0.05  0.05] 1.8993406514172388\n",
      "[ 0.03 -0.03 -0.05] 1.8146110885355968\n",
      "[ 0.03 -0.03 -0.03] 1.701766664543804\n",
      "[ 0.03 -0.03 -0.01] 1.6409263504528084\n",
      "[ 0.03 -0.03  0.01] 1.6409263355302173\n",
      "[ 0.03 -0.03  0.03] 1.7017666463538497\n",
      "[ 0.03 -0.03  0.05] 1.8146110873952663\n",
      "[ 0.03 -0.01 -0.05] 1.7731254825231444\n",
      "[ 0.03 -0.01 -0.03] 1.640926415379787\n",
      "[ 0.03 -0.01 -0.01] 1.568670234088846\n",
      "[ 0.03 -0.01  0.01] 1.5686703298033837\n",
      "[ 0.03 -0.01  0.03] 1.6409265251628344\n",
      "[ 0.03 -0.01  0.05] 1.7731255401401924\n",
      "[ 0.03  0.01 -0.05] 1.7731254573360857\n",
      "[ 0.03  0.01 -0.03] 1.6409263694146192\n",
      "[ 0.03  0.01 -0.01] 1.568670126460554\n",
      "[0.03 0.01 0.01] 1.5686702313507492\n",
      "[0.03 0.01 0.03] 1.6409265266517492\n",
      "[0.03 0.01 0.05] 1.7731255762056284\n",
      "[ 0.03  0.03 -0.05] 1.8146110333933425\n",
      "[ 0.03  0.03 -0.03] 1.7017665851622894\n",
      "[ 0.03  0.03 -0.01] 1.640926178373026\n",
      "[0.03 0.03 0.01] 1.6409262108885878\n",
      "[0.03 0.03 0.03] 1.7017666362950132\n",
      "[0.03 0.03 0.05] 1.814611162940051\n",
      "[ 0.03  0.05 -0.05] 1.8993406526747254\n",
      "[ 0.03  0.05 -0.03] 1.814610832297264\n",
      "[ 0.03  0.05 -0.01] 1.7731251133169286\n",
      "[0.03 0.05 0.01] 1.773125129374849\n",
      "[0.03 0.05 0.03] 1.8146108638035408\n",
      "[0.03 0.05 0.05] 1.8993407175256003\n",
      "[ 0.05 -0.05 -0.05] 1.9710679887143305\n",
      "[ 0.05 -0.05 -0.03] 1.899340790152352\n",
      "[ 0.05 -0.05 -0.01] 1.86492981526703\n",
      "[ 0.05 -0.05  0.01] 1.8649298075048693\n",
      "[ 0.05 -0.05  0.03] 1.8993407654515266\n",
      "[ 0.05 -0.05  0.05] 1.9710679542902048\n",
      "[ 0.05 -0.03 -0.05] 1.8993408297894678\n",
      "[ 0.05 -0.03 -0.03] 1.814611185405277\n",
      "[ 0.05 -0.03 -0.01] 1.773125682125265\n",
      "[ 0.05 -0.03  0.01] 1.7731257142954746\n",
      "[ 0.05 -0.03  0.03] 1.814611244358094\n",
      "[ 0.05 -0.03  0.05] 1.8993408820883761\n",
      "[ 0.05 -0.01 -0.05] 1.8649298977962845\n",
      "[ 0.05 -0.01 -0.03] 1.7731256235815893\n",
      "[ 0.05 -0.01 -0.01] 1.7295123863634156\n",
      "[ 0.05 -0.01  0.01] 1.7295124679638176\n",
      "[ 0.05 -0.01  0.03] 1.773125710348186\n",
      "[ 0.05 -0.01  0.05] 1.864929968706032\n",
      "[ 0.05  0.01 -0.05] 1.8649298860775447\n",
      "[ 0.05  0.01 -0.03] 1.7731255843431635\n",
      "[ 0.05  0.01 -0.01] 1.729512311590235\n",
      "[0.05 0.01 0.01] 1.72951238947876\n",
      "[0.05 0.01 0.03] 1.7731256736380479\n",
      "[0.05 0.01 0.05] 1.8649299707834714\n",
      "[ 0.05  0.03 -0.05] 1.8993408063521802\n",
      "[ 0.05  0.03 -0.03] 1.8146111032554577\n",
      "[ 0.05  0.03 -0.01] 1.7731255732611881\n",
      "[0.05 0.03 0.01] 1.7731256076293782\n",
      "[0.05 0.03 0.03] 1.8146111726767895\n",
      "[0.05 0.03 0.05] 1.899340889962497\n",
      "[ 0.05  0.05 -0.05] 1.9710679729868303\n",
      "[ 0.05  0.05 -0.03] 1.8993406901300203\n",
      "[ 0.05  0.05 -0.01] 1.8649297019528852\n",
      "[0.05 0.05 0.01] 1.8649297079696883\n",
      "[0.05 0.05 0.03] 1.8993406966939377\n",
      "[0.05 0.05 0.05] 1.9710679572496455\n"
     ]
    }
   ],
   "source": [
    "gap = 1.0+bands[:,9]-bands[:,7]\n",
    "for ind in range(len(k_values)):\n",
    "    if gap[ind] < 2.0: print(kpoints_cart[ind],gap[ind])"
   ]
  },
  {
   "cell_type": "markdown",
   "metadata": {},
   "source": [
    "### Setup the nscf at Gamma and on three points close to Gamma"
   ]
  },
  {
   "cell_type": "code",
   "execution_count": 16,
   "metadata": {},
   "outputs": [],
   "source": [
    "kshift = 5e-3"
   ]
  },
  {
   "cell_type": "code",
   "execution_count": 17,
   "metadata": {},
   "outputs": [],
   "source": [
    "klist = []\n",
    "klist.append([0.0,0.0,0.0,1.0])\n",
    "klist.append([0.0,kshift,0.0,1.0])\n",
    "klist.append([0.0,0.0,kshift,1.0])"
   ]
  },
  {
   "cell_type": "code",
   "execution_count": 18,
   "metadata": {},
   "outputs": [
    {
     "data": {
      "text/plain": [
       "[[0.0, 0.0, 0.0, 1.0], [0.0, 0.005, 0.0, 1.0], [0.0, 0.0, 0.005, 1.0]]"
      ]
     },
     "execution_count": 18,
     "metadata": {},
     "output_type": "execute_result"
    }
   ],
   "source": [
    "klist"
   ]
  },
  {
   "cell_type": "code",
   "execution_count": 19,
   "metadata": {},
   "outputs": [],
   "source": [
    "bnds_study = D.Dataset(label='nscf',run_dir='nscf',pre_processing='nscf')"
   ]
  },
  {
   "cell_type": "code",
   "execution_count": 20,
   "metadata": {},
   "outputs": [],
   "source": [
    "input.system['nbnd'] = numBands\n",
    "idd = {'bnds' : numBands, 'sampling' : 'gamma_and_shifted_points'} \n",
    "input.set_prefix(D.name_from_id(idd))\n",
    "input.set_energy_cutoff(ecut_conv)\n",
    "input.set_kpoints(ktype='tpiba',klist=klist)\n",
    "bnds_study.append_run(id=idd,calculator=code,input=input)"
   ]
  },
  {
   "cell_type": "markdown",
   "metadata": {},
   "source": [
    "Apply the pre-processing"
   ]
  },
  {
   "cell_type": "code",
   "execution_count": 21,
   "metadata": {},
   "outputs": [],
   "source": [
    "source = 'gs_convergence/ecut_%s-k_%s.save'%(ecut_conv,k_conv)"
   ]
  },
  {
   "cell_type": "code",
   "execution_count": 22,
   "metadata": {
    "scrolled": true
   },
   "outputs": [
    {
     "name": "stdout",
     "output_type": "stream",
     "text": [
      "Folder nscf already exists\n",
      "execute :  cp -r gs_convergence/ecut_80-k_6.save nscf/bnds_40-sampling_gamma_and_shifted_points.save\n"
     ]
    }
   ],
   "source": [
    "bnds_study.pre_processing_function(source_dir=source)"
   ]
  },
  {
   "cell_type": "code",
   "execution_count": 23,
   "metadata": {},
   "outputs": [
    {
     "name": "stdout",
     "output_type": "stream",
     "text": [
      "execute : cd nscf ; OMP_NUM_THREADS=1 mpirun -np 16 pw.x -inp bnds_40-sampling_gamma_and_shifted_points.in > bnds_40-sampling_gamma_and_shifted_points.log\n",
      "parse file : nscf/bnds_40-sampling_gamma_and_shifted_points.save/data-file-schema.xml\n"
     ]
    }
   ],
   "source": [
    "bnds_study.run()"
   ]
  },
  {
   "cell_type": "markdown",
   "metadata": {},
   "source": [
    "### Energy gap for each k"
   ]
  },
  {
   "cell_type": "code",
   "execution_count": 74,
   "metadata": {},
   "outputs": [],
   "source": [
    "results = bnds_study.results[0]\n",
    "bands = results.band_structure(plot=False)\n",
    "k_values = bands[:,0] # position on the path\n",
    "kpoints_cart = results.kpt_cart # cartesian position for each value on the path"
   ]
  },
  {
   "cell_type": "code",
   "execution_count": 75,
   "metadata": {},
   "outputs": [
    {
     "name": "stdout",
     "output_type": "stream",
     "text": [
      "[0. 0. 0.] 1.4180062971034735\n",
      "[0.005 0.    0.   ] 1.4225473411340417\n",
      "[0.    0.005 0.   ] 1.422547341133571\n",
      "[0.    0.    0.005] 1.4225473411325806\n"
     ]
    }
   ],
   "source": [
    "gap = 1.0+bands[:,9]-bands[:,7]\n",
    "for ind in range(len(k_values)):\n",
    "    if gap[ind] < 2.0: print(kpoints_cart[ind],gap[ind])"
   ]
  },
  {
   "cell_type": "markdown",
   "metadata": {},
   "source": [
    "### Setup the nscf at Gamma"
   ]
  },
  {
   "cell_type": "code",
   "execution_count": 19,
   "metadata": {},
   "outputs": [],
   "source": [
    "klist = [[0.0,0.0,0.0,1.0]]"
   ]
  },
  {
   "cell_type": "code",
   "execution_count": 20,
   "metadata": {},
   "outputs": [],
   "source": [
    "bnds_study = D.Dataset(label='nscf',run_dir='nscf',pre_processing='nscf')"
   ]
  },
  {
   "cell_type": "code",
   "execution_count": 21,
   "metadata": {},
   "outputs": [],
   "source": [
    "input.system['nbnd'] = numBands\n",
    "idd = {'bnds' : numBands, 'sampling' : 'gamma'} \n",
    "input.set_prefix(D.name_from_id(idd))\n",
    "input.set_energy_cutoff(ecut_conv)\n",
    "input.set_kpoints(ktype='tpiba',klist=klist)\n",
    "bnds_study.append_run(id=idd,calculator=code,input=input)"
   ]
  },
  {
   "cell_type": "markdown",
   "metadata": {},
   "source": [
    "Apply the pre-processing"
   ]
  },
  {
   "cell_type": "code",
   "execution_count": 22,
   "metadata": {},
   "outputs": [],
   "source": [
    "source = 'gs_convergence/ecut_%s-k_%s.save'%(ecut_conv,k_conv)"
   ]
  },
  {
   "cell_type": "code",
   "execution_count": 23,
   "metadata": {
    "scrolled": true
   },
   "outputs": [
    {
     "name": "stdout",
     "output_type": "stream",
     "text": [
      "Folder nscf already exists\n",
      "nscf .save folder exsists. gs_convergence/ecut_80-k_6.save not copied\n"
     ]
    }
   ],
   "source": [
    "bnds_study.pre_processing_function(source_dir=source)"
   ]
  },
  {
   "cell_type": "code",
   "execution_count": 24,
   "metadata": {},
   "outputs": [
    {
     "name": "stdout",
     "output_type": "stream",
     "text": [
      "skip the computation for : bnds_40-sampling_gamma.in\n",
      "parse file : nscf/bnds_40-sampling_gamma.save/data-file-schema.xml\n"
     ]
    }
   ],
   "source": [
    "bnds_study.run()"
   ]
  },
  {
   "cell_type": "code",
   "execution_count": 25,
   "metadata": {},
   "outputs": [
    {
     "data": {
      "text/plain": [
       "array([[ 0.        , -7.97456854, -7.97456854,  3.962631  ,  3.962631  ,\n",
       "         4.46900601,  4.46900601,  4.66411357,  4.66411357,  5.89607037,\n",
       "         5.89607037,  8.3177581 ,  8.3177581 ,  8.64697022,  8.64697022,\n",
       "         8.73933492,  8.73933492, 11.98040068, 11.98040068, 14.32541004,\n",
       "        14.32541004, 15.01176001, 15.01176001, 16.63066325, 16.63066325,\n",
       "        16.65842098, 16.65842098, 16.93160227, 16.93160227, 18.96055112,\n",
       "        18.96055112, 22.49774435, 22.49774435, 29.53549598, 29.53549598,\n",
       "        29.72110488, 29.72110488, 30.27595252, 30.27595252, 31.63088592,\n",
       "        31.63088594]])"
      ]
     },
     "execution_count": 25,
     "metadata": {},
     "output_type": "execute_result"
    }
   ],
   "source": [
    "bands"
   ]
  },
  {
   "cell_type": "markdown",
   "metadata": {},
   "source": [
    "### Energy gap for each k"
   ]
  },
  {
   "cell_type": "code",
   "execution_count": 14,
   "metadata": {},
   "outputs": [],
   "source": [
    "results = bnds_study.results[0]\n",
    "bands = results.band_structure(plot=False)\n",
    "k_values = bands[:,0] # position on the path\n",
    "kpoints_cart = results.kpt_cart # cartesian position for each value on the path"
   ]
  },
  {
   "cell_type": "code",
   "execution_count": 15,
   "metadata": {},
   "outputs": [
    {
     "name": "stdout",
     "output_type": "stream",
     "text": [
      "[0. 0. 0.] 1.4180062971034735\n"
     ]
    }
   ],
   "source": [
    "gap = 1.0+bands[:,9]-bands[:,7]\n",
    "for ind in range(len(k_values)):\n",
    "    if gap[ind] < 2.0: print(kpoints_cart[ind],gap[ind])"
   ]
  },
  {
   "cell_type": "markdown",
   "metadata": {},
   "source": [
    "### Setup the nscf on a shell"
   ]
  },
  {
   "cell_type": "code",
   "execution_count": 7,
   "metadata": {},
   "outputs": [],
   "source": [
    "kshift = 0.1"
   ]
  },
  {
   "cell_type": "code",
   "execution_count": 8,
   "metadata": {},
   "outputs": [],
   "source": [
    "klist = []\n",
    "klist.append([0.0,kshift,0.0,1.0])\n",
    "#klist.append([0.0,0.0,kshift,1.0])"
   ]
  },
  {
   "cell_type": "code",
   "execution_count": 9,
   "metadata": {},
   "outputs": [
    {
     "data": {
      "text/plain": [
       "[[0.0, 0.1, 0.0, 1.0]]"
      ]
     },
     "execution_count": 9,
     "metadata": {},
     "output_type": "execute_result"
    }
   ],
   "source": [
    "klist"
   ]
  },
  {
   "cell_type": "code",
   "execution_count": 10,
   "metadata": {},
   "outputs": [],
   "source": [
    "bnds_study = D.Dataset(label='nscf',run_dir='nscf',pre_processing='nscf')"
   ]
  },
  {
   "cell_type": "code",
   "execution_count": 11,
   "metadata": {},
   "outputs": [],
   "source": [
    "input.system['nbnd'] = numBands\n",
    "idd = {'bnds' : numBands, 'sampling' : 'shell'} \n",
    "input.set_prefix(D.name_from_id(idd))\n",
    "input.set_energy_cutoff(ecut_conv)\n",
    "input.set_kpoints(ktype='tpiba',klist=klist)\n",
    "bnds_study.append_run(id=idd,calculator=code,input=input)"
   ]
  },
  {
   "cell_type": "markdown",
   "metadata": {},
   "source": [
    "Apply the pre-processing"
   ]
  },
  {
   "cell_type": "code",
   "execution_count": 12,
   "metadata": {},
   "outputs": [],
   "source": [
    "source = 'gs_convergence/ecut_%s-k_%s.save'%(ecut_conv,k_conv)"
   ]
  },
  {
   "cell_type": "code",
   "execution_count": 13,
   "metadata": {
    "scrolled": true
   },
   "outputs": [
    {
     "name": "stdout",
     "output_type": "stream",
     "text": [
      "Folder nscf already exists\n",
      "execute :  cp -r gs_convergence/ecut_80-k_6.save nscf/bnds_40-sampling_shell.save\n"
     ]
    }
   ],
   "source": [
    "bnds_study.pre_processing_function(source_dir=source)"
   ]
  },
  {
   "cell_type": "code",
   "execution_count": 15,
   "metadata": {},
   "outputs": [
    {
     "name": "stdout",
     "output_type": "stream",
     "text": [
      "execute : cd nscf ; OMP_NUM_THREADS=1 mpirun -np 16 pw.x -inp bnds_40-sampling_shell.in > bnds_40-sampling_shell.log\n",
      "parse file : nscf/bnds_40-sampling_shell.save/data-file-schema.xml\n"
     ]
    }
   ],
   "source": [
    "bnds_study.run()"
   ]
  },
  {
   "cell_type": "markdown",
   "metadata": {},
   "source": [
    "### Energy gap for each k"
   ]
  },
  {
   "cell_type": "code",
   "execution_count": 16,
   "metadata": {},
   "outputs": [],
   "source": [
    "results = bnds_study.results[0]\n",
    "bands = results.band_structure(plot=False)\n",
    "k_values = bands[:,0] # position on the path\n",
    "kpoints_cart = results.kpt_cart # cartesian position for each value on the path"
   ]
  },
  {
   "cell_type": "code",
   "execution_count": 17,
   "metadata": {},
   "outputs": [
    {
     "name": "stdout",
     "output_type": "stream",
     "text": [
      "[0.  0.1 0. ] 2.2319568009853823\n"
     ]
    }
   ],
   "source": [
    "gap = 1.0+bands[:,9]-bands[:,7]\n",
    "for ind in range(len(k_values)):\n",
    "    if gap[ind] < 4.0: print(kpoints_cart[ind],gap[ind])"
   ]
  },
  {
   "cell_type": "code",
   "execution_count": 18,
   "metadata": {},
   "outputs": [
    {
     "data": {
      "text/plain": [
       "array([[ 0.        , -7.97456854, -7.97456854,  3.962631  ,  3.962631  ,\n",
       "         4.46900601,  4.46900601,  4.66411357,  4.66411357,  5.89607037,\n",
       "         5.89607037,  8.3177581 ,  8.3177581 ,  8.64697022,  8.64697022,\n",
       "         8.73933492,  8.73933492, 11.98040068, 11.98040068, 14.32541004,\n",
       "        14.32541004, 15.01176001, 15.01176001, 16.63066325, 16.63066325,\n",
       "        16.65842098, 16.65842098, 16.93160227, 16.93160227, 18.96055112,\n",
       "        18.96055112, 22.49774435, 22.49774435, 29.53549598, 29.53549598,\n",
       "        29.72110488, 29.72110488, 30.27595252, 30.27595252, 31.63088592,\n",
       "        31.63088594]])"
      ]
     },
     "execution_count": 18,
     "metadata": {},
     "output_type": "execute_result"
    }
   ],
   "source": [
    "bands"
   ]
  },
  {
   "cell_type": "markdown",
   "metadata": {},
   "source": [
    "### Setup the nscf on a shell (no sym direction)"
   ]
  },
  {
   "cell_type": "code",
   "execution_count": 45,
   "metadata": {},
   "outputs": [
    {
     "name": "stdout",
     "output_type": "stream",
     "text": [
      "Initialize a qe calculator with command OMP_NUM_THREADS=1 mpirun -np 16 pw.x\n"
     ]
    }
   ],
   "source": [
    "code = C.QeCalculator(omp=omp,mpi_run=mpi_run,executable='pw.x',verbose=True,skip=False)"
   ]
  },
  {
   "cell_type": "code",
   "execution_count": 46,
   "metadata": {},
   "outputs": [],
   "source": [
    "kxshift = 0.1\n",
    "kyshift = 0.03"
   ]
  },
  {
   "cell_type": "code",
   "execution_count": 47,
   "metadata": {},
   "outputs": [
    {
     "data": {
      "text/plain": [
       "0.1044030650891055"
      ]
     },
     "execution_count": 47,
     "metadata": {},
     "output_type": "execute_result"
    }
   ],
   "source": [
    "np.sqrt(kxshift**2+kyshift**2)"
   ]
  },
  {
   "cell_type": "code",
   "execution_count": 48,
   "metadata": {},
   "outputs": [],
   "source": [
    "klist = []\n",
    "klist.append([kxshift,kyshift,0.0,1.0])\n",
    "#klist.append([0.0,0.0,kshift,1.0])"
   ]
  },
  {
   "cell_type": "code",
   "execution_count": 49,
   "metadata": {},
   "outputs": [
    {
     "data": {
      "text/plain": [
       "[[0.1, 0.03, 0.0, 1.0]]"
      ]
     },
     "execution_count": 49,
     "metadata": {},
     "output_type": "execute_result"
    }
   ],
   "source": [
    "klist"
   ]
  },
  {
   "cell_type": "code",
   "execution_count": 50,
   "metadata": {},
   "outputs": [],
   "source": [
    "bnds_study = D.Dataset(label='nscf',run_dir='nscf',pre_processing='nscf')"
   ]
  },
  {
   "cell_type": "code",
   "execution_count": 51,
   "metadata": {},
   "outputs": [],
   "source": [
    "input.system['nbnd'] = numBands\n",
    "idd = {'bnds' : numBands, 'sampling' : 'shell_no-sym'} \n",
    "input.set_prefix(D.name_from_id(idd))\n",
    "input.set_energy_cutoff(ecut_conv)\n",
    "input.set_kpoints(ktype='tpiba',klist=klist)\n",
    "bnds_study.append_run(id=idd,calculator=code,input=input)"
   ]
  },
  {
   "cell_type": "markdown",
   "metadata": {},
   "source": [
    "Apply the pre-processing"
   ]
  },
  {
   "cell_type": "code",
   "execution_count": 52,
   "metadata": {},
   "outputs": [],
   "source": [
    "source = 'gs_convergence/ecut_%s-k_%s.save'%(ecut_conv,k_conv)"
   ]
  },
  {
   "cell_type": "code",
   "execution_count": 53,
   "metadata": {
    "scrolled": true
   },
   "outputs": [
    {
     "name": "stdout",
     "output_type": "stream",
     "text": [
      "Folder nscf already exists\n",
      "nscf .save folder exsists. gs_convergence/ecut_80-k_6.save not copied\n"
     ]
    }
   ],
   "source": [
    "bnds_study.pre_processing_function(source_dir=source)"
   ]
  },
  {
   "cell_type": "code",
   "execution_count": 54,
   "metadata": {},
   "outputs": [
    {
     "name": "stdout",
     "output_type": "stream",
     "text": [
      "execute : cd nscf ; OMP_NUM_THREADS=1 mpirun -np 16 pw.x -inp bnds_40-sampling_shell_no-sym.in > bnds_40-sampling_shell_no-sym.log\n",
      "parse file : nscf/bnds_40-sampling_shell_no-sym.save/data-file-schema.xml\n"
     ]
    }
   ],
   "source": [
    "bnds_study.run()"
   ]
  },
  {
   "cell_type": "markdown",
   "metadata": {},
   "source": [
    "### Energy gap for each k"
   ]
  },
  {
   "cell_type": "code",
   "execution_count": 55,
   "metadata": {},
   "outputs": [],
   "source": [
    "results = bnds_study.results[0]\n",
    "bands = results.band_structure(plot=False)\n",
    "k_values = bands[:,0] # position on the path\n",
    "kpoints_cart = results.kpt_cart # cartesian position for each value on the path"
   ]
  },
  {
   "cell_type": "code",
   "execution_count": 56,
   "metadata": {},
   "outputs": [
    {
     "name": "stdout",
     "output_type": "stream",
     "text": [
      "[0.1  0.03 0.  ] 2.238540616260117\n"
     ]
    }
   ],
   "source": [
    "gap = 1.0+bands[:,9]-bands[:,7]\n",
    "for ind in range(len(k_values)):\n",
    "    if gap[ind] < 4.0: print(kpoints_cart[ind],gap[ind])"
   ]
  },
  {
   "cell_type": "code",
   "execution_count": 57,
   "metadata": {},
   "outputs": [
    {
     "data": {
      "text/plain": [
       "array([[ 0.        , -7.97131676, -7.97131205,  3.90294295,  3.91208574,\n",
       "         4.46049021,  4.47751654,  4.67180441,  4.67577873,  5.91034502,\n",
       "         5.91868934,  8.32997008,  8.33781933,  8.64408553,  8.65086349,\n",
       "         8.74214261,  8.74583918, 12.00132467, 12.00135015, 14.32435015,\n",
       "        14.32447383, 14.95811531, 14.95819082, 16.57286503, 16.57573732,\n",
       "        16.6532062 , 16.65628283, 17.0590196 , 17.05960959, 18.98477078,\n",
       "        18.98477803, 22.49859851, 22.49860555, 29.42543663, 29.46562954,\n",
       "        29.63163286, 29.6787281 , 30.25720729, 30.29322318, 31.45026758,\n",
       "        31.4784051 ]])"
      ]
     },
     "execution_count": 57,
     "metadata": {},
     "output_type": "execute_result"
    }
   ],
   "source": [
    "bands"
   ]
  },
  {
   "cell_type": "code",
   "execution_count": null,
   "metadata": {},
   "outputs": [],
   "source": []
  },
  {
   "cell_type": "code",
   "execution_count": null,
   "metadata": {},
   "outputs": [],
   "source": []
  },
  {
   "cell_type": "markdown",
   "metadata": {},
   "source": [
    "### Setup the nscf at Gamma"
   ]
  },
  {
   "cell_type": "code",
   "execution_count": 7,
   "metadata": {},
   "outputs": [],
   "source": [
    "klist = [[0.0,0.0,0.0,1.0]]"
   ]
  },
  {
   "cell_type": "code",
   "execution_count": 8,
   "metadata": {},
   "outputs": [],
   "source": [
    "bnds_study = D.Dataset(label='nscf',run_dir='nscf',pre_processing='nscf')"
   ]
  },
  {
   "cell_type": "code",
   "execution_count": 9,
   "metadata": {},
   "outputs": [],
   "source": [
    "input.system['nbnd'] = numBands\n",
    "idd = {'bnds' : numBands, 'sampling' : 'gamma'} \n",
    "input.set_prefix(D.name_from_id(idd))\n",
    "input.set_energy_cutoff(ecut_conv)\n",
    "input.set_kpoints(ktype='tpiba',klist=klist)\n",
    "bnds_study.append_run(id=idd,calculator=code,input=input)"
   ]
  },
  {
   "cell_type": "markdown",
   "metadata": {},
   "source": [
    "Apply the pre-processing"
   ]
  },
  {
   "cell_type": "code",
   "execution_count": 10,
   "metadata": {},
   "outputs": [],
   "source": [
    "source = 'gs_convergence/ecut_%s-k_%s.save'%(ecut_conv,k_conv)"
   ]
  },
  {
   "cell_type": "code",
   "execution_count": 12,
   "metadata": {
    "scrolled": true
   },
   "outputs": [
    {
     "name": "stdout",
     "output_type": "stream",
     "text": [
      "Folder nscf already exists\n",
      "execute :  cp -r gs_convergence/ecut_80-k_6.save nscf/bnds_40-sampling_gamma.save\n"
     ]
    }
   ],
   "source": [
    "bnds_study.pre_processing_function(source_dir=source)"
   ]
  },
  {
   "cell_type": "code",
   "execution_count": 13,
   "metadata": {},
   "outputs": [
    {
     "name": "stdout",
     "output_type": "stream",
     "text": [
      "execute : cd nscf ; OMP_NUM_THREADS=1 mpirun -np 16 pw.x -inp bnds_40-sampling_gamma.in > bnds_40-sampling_gamma.log\n",
      "parse file : nscf/bnds_40-sampling_gamma.save/data-file-schema.xml\n"
     ]
    }
   ],
   "source": [
    "bnds_study.run()"
   ]
  },
  {
   "cell_type": "markdown",
   "metadata": {},
   "source": [
    "### Energy gap for each k"
   ]
  },
  {
   "cell_type": "code",
   "execution_count": 14,
   "metadata": {},
   "outputs": [],
   "source": [
    "results = bnds_study.results[0]\n",
    "bands = results.band_structure(plot=False)\n",
    "k_values = bands[:,0] # position on the path\n",
    "kpoints_cart = results.kpt_cart # cartesian position for each value on the path"
   ]
  },
  {
   "cell_type": "code",
   "execution_count": 15,
   "metadata": {},
   "outputs": [
    {
     "name": "stdout",
     "output_type": "stream",
     "text": [
      "[0. 0. 0.] 1.4180062971034735\n"
     ]
    }
   ],
   "source": [
    "gap = 1.0+bands[:,9]-bands[:,7]\n",
    "for ind in range(len(k_values)):\n",
    "    if gap[ind] < 2.0: print(kpoints_cart[ind],gap[ind])"
   ]
  },
  {
   "cell_type": "markdown",
   "metadata": {},
   "source": [
    "## Ypp bands"
   ]
  },
  {
   "cell_type": "markdown",
   "metadata": {},
   "source": [
    "The band structure can be extracted from the nscf computation on a grid using ypp. \n",
    "\n",
    "For each choice of the nscf .save folder we have a different dataset (each of which will be composed by only one computation)"
   ]
  },
  {
   "cell_type": "code",
   "execution_count": 18,
   "metadata": {},
   "outputs": [
    {
     "name": "stdout",
     "output_type": "stream",
     "text": [
      "Initialize a Yambo calculator with command OMP_NUM_THREADS=1 mpirun -np 1 ypp\n",
      "Suffix for post_processing :  bands_interpolated\n"
     ]
    }
   ],
   "source": [
    "code = C.YamboCalculator(omp=1,mpi_run='mpirun -np 1',executable='ypp',suffix='bands_interpolated',skip=False)"
   ]
  },
  {
   "cell_type": "markdown",
   "metadata": {},
   "source": [
    "We organize the various datasets in a dictionary (is it possible to build a high hierarchy dataset?)"
   ]
  },
  {
   "cell_type": "code",
   "execution_count": 19,
   "metadata": {},
   "outputs": [
    {
     "name": "stdout",
     "output_type": "stream",
     "text": [
      "Create folder ypp_bands_k8\n",
      "execute :  cd nscf/bnds_40-kpoints_8.save;p2y -a 2\n",
      "execute :  cp -r nscf/bnds_40-kpoints_8.save/SAVE ypp_bands_k8\n",
      "execute :  cd ypp_bands_k8;OMP_NUM_THREADS=1 yambo\n",
      "Create folder ypp_bands_k10\n",
      "execute :  cd nscf/bnds_40-kpoints_10.save;p2y -a 2\n",
      "execute :  cp -r nscf/bnds_40-kpoints_10.save/SAVE ypp_bands_k10\n",
      "execute :  cd ypp_bands_k10;OMP_NUM_THREADS=1 yambo\n"
     ]
    }
   ],
   "source": [
    "nscf_kvalues = [4,6,8,10,12] # to set the values for the non shifted grids\n",
    "\n",
    "ypp = {}\n",
    "for k in nscf_kvalues:\n",
    "    string = 'ypp_bands_k%s'%k\n",
    "    study = D.Dataset(label=string,run_dir=string,pre_processing='yambo')\n",
    "    source = 'nscf/bnds_40-kpoints_%s.save'%k\n",
    "    study.pre_processing_function(source_dir=source)\n",
    "    ypp[k] = study"
   ]
  },
  {
   "cell_type": "markdown",
   "metadata": {},
   "source": [
    "We build the input file and append the run to each dataset. The parameters of the path are given as"
   ]
  },
  {
   "cell_type": "code",
   "execution_count": 20,
   "metadata": {},
   "outputs": [],
   "source": [
    "# in alat\n",
    "G = [0.,0.,0.]\n",
    "X = [1.,0.,0.]\n",
    "L = [0.5,0.5,0.5]\n",
    "W = [1.0,0.5,0.]\n",
    "path = [L,G,X,W]\n",
    "\n",
    "band_range = [1,12]\n",
    "bands_step = 50"
   ]
  },
  {
   "cell_type": "code",
   "execution_count": 21,
   "metadata": {},
   "outputs": [
    {
     "name": "stdout",
     "output_type": "stream",
     "text": [
      "execute :  cd ypp_bands_k8; ypp -s b -V all  -F ypp.in\n",
      "execute :  cd ypp_bands_k10; ypp -s b -V all  -F ypp.in\n"
     ]
    }
   ],
   "source": [
    "for k in ypp:\n",
    "    ypp_input = I.YppIn('ypp -s b -V all ',folder=ypp[k].run_dir)\n",
    "    input = ypp_input.getInput()\n",
    "    # scissor\n",
    "    input['GfnQP_E'] = [1.0,1.0,1.0]\n",
    "    # band structure\n",
    "    input['BANDS_steps'] = bands_step\n",
    "    input['BANDS_bands'] = band_range\n",
    "    input['BANDS_kpts'] = path\n",
    "    input['cooIn'] = 'alat'\n",
    "    input['cooOut'] = 'alat'\n",
    "    \n",
    "    idd = {'ypp_bands_k' : k}\n",
    "    ypp[k].append_run(id=idd,calculator=code,input=ypp_input)"
   ]
  },
  {
   "cell_type": "markdown",
   "metadata": {},
   "source": [
    "We can run all the datasets"
   ]
  },
  {
   "cell_type": "code",
   "execution_count": 22,
   "metadata": {},
   "outputs": [
    {
     "name": "stdout",
     "output_type": "stream",
     "text": [
      "execute :  cd ypp_bands_k8; ypp -s b -V all  -F ypp_bands_k_8.in\n",
      "execute : cd ypp_bands_k8 ; OMP_NUM_THREADS=1 mpirun -np 1 ypp -F ypp_bands_k_8.in -J ypp_bands_k_8 -C ypp_bands_k_8\n",
      "parse file : ypp_bands_k8/ypp_bands_k_8/o-ypp_bands_k_8.bands_interpolated\n",
      "execute :  cd ypp_bands_k10; ypp -s b -V all  -F ypp_bands_k_10.in\n",
      "execute : cd ypp_bands_k10 ; OMP_NUM_THREADS=1 mpirun -np 1 ypp -F ypp_bands_k_10.in -J ypp_bands_k_10 -C ypp_bands_k_10\n",
      "parse file : ypp_bands_k10/ypp_bands_k_10/o-ypp_bands_k_10.bands_interpolated\n"
     ]
    }
   ],
   "source": [
    "for k in ypp:\n",
    "    ypp[k].run()"
   ]
  },
  {
   "cell_type": "markdown",
   "metadata": {},
   "source": [
    "We compare the band structure obtained in the various datasets"
   ]
  },
  {
   "cell_type": "code",
   "execution_count": 23,
   "metadata": {},
   "outputs": [
    {
     "data": {
      "image/png": "[encoded data removed]",
      "text/plain": [
       "<Figure size 432x288 with 1 Axes>"
      ]
     },
     "metadata": {
      "needs_background": "light"
     },
     "output_type": "display_data"
    },
    {
     "data": {
      "image/png": "[encoded data removed]",
      "text/plain": [
       "<Figure size 432x288 with 1 Axes>"
      ]
     },
     "metadata": {
      "needs_background": "light"
     },
     "output_type": "display_data"
    }
   ],
   "source": [
    "for k,y in ypp.items():\n",
    "    kvalues = y.fetch_results(attribute='k')[0]\n",
    "    bands = []\n",
    "    for ind in range(1,13):\n",
    "        bands.append(y.fetch_results(attribute='b%s'%ind)[0])\n",
    "    for bnd in [3,5,7,9,11]:\n",
    "        plt.plot(kvalues,bands[bnd])\n",
    "    plt.title(y.label,size=14)\n",
    "    plt.ylim((-4,6))\n",
    "    plt.show()"
   ]
  },
  {
   "cell_type": "markdown",
   "metadata": {},
   "source": [
    "Comparing this plots we see that the band structure seems (quite) well converged at k=8"
   ]
  },
  {
   "cell_type": "markdown",
   "metadata": {},
   "source": [
    "We can identify the Gamma point on the path and compute the direct band gap for the various cases. The path is the same in all the computations so the identification of Gamma can be done only one time"
   ]
  },
  {
   "cell_type": "code",
   "execution_count": 26,
   "metadata": {},
   "outputs": [
    {
     "data": {
      "text/plain": [
       "43"
      ]
     },
     "execution_count": 26,
     "metadata": {},
     "output_type": "execute_result"
    }
   ],
   "source": [
    "kvalues = ypp[8].fetch_results(attribute='k')[0]\n",
    "for ind,k in enumerate(kvalues):\n",
    "    kx = ypp[8].fetch_results(attribute='k_x')[0][ind]\n",
    "    ky = ypp[8].fetch_results(attribute='k_y')[0][ind]\n",
    "    kz = ypp[8].fetch_results(attribute='k_z')[0][ind]\n",
    "    if kx == 0. and ky == 0. and kz == 0.:\n",
    "        gamma_position = ind\n",
    "gamma_position"
   ]
  },
  {
   "cell_type": "code",
   "execution_count": 27,
   "metadata": {},
   "outputs": [
    {
     "name": "stdout",
     "output_type": "stream",
     "text": [
      "Gap for k =  8  :  1.4181\n",
      "Gap for k =  10  :  1.4180\n"
     ]
    }
   ],
   "source": [
    "for k,y in ypp.items():\n",
    "    kvalues = y.fetch_results(attribute='k')[0]\n",
    "    bands = []\n",
    "    for ind in range(1,13):\n",
    "        bands.append(y.fetch_results(attribute='b%s'%ind)[0])\n",
    "    Delta = bands[8][gamma_position]-bands[7][gamma_position]\n",
    "    print('Gap for k = ',k,' : ','%.4f'%Delta)"
   ]
  }
 ],
 "metadata": {
  "kernelspec": {
   "display_name": "Python 3",
   "language": "python",
   "name": "python3"
  },
  "language_info": {
   "codemirror_mode": {
    "name": "ipython",
    "version": 3
   },
   "file_extension": ".py",
   "mimetype": "text/x-python",
   "name": "python",
   "nbconvert_exporter": "python",
   "pygments_lexer": "ipython3",
   "version": "3.5.3"
  }
 },
 "nbformat": 4,
 "nbformat_minor": 2
}
