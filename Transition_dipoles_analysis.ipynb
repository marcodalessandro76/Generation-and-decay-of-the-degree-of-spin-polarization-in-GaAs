{
 "cells": [
  {
   "cell_type": "code",
   "execution_count": 1,
   "metadata": {},
   "outputs": [],
   "source": [
    "import numpy as np\n",
    "import os\n",
    "import matplotlib.pyplot as plt\n",
    "from pylab import *\n",
    "from netCDF4 import Dataset\n",
    "#from mppi import InputFiles as I, Calculators as C, Datasets as D"
   ]
  },
  {
   "cell_type": "code",
   "execution_count": 2,
   "metadata": {},
   "outputs": [
    {
     "data": {
      "text/plain": [
       "<class 'netCDF4._netCDF4.Variable'>\n",
       "float32 DIP_iR_k_0001_spin_0001(D_0000000008, D_0000000002, D_0000000003, D_0000000002)\n",
       "unlimited dimensions: \n",
       "current shape = (8, 2, 3, 2)\n",
       "filling on, default _FillValue of 9.969209968386869e+36 used"
      ]
     },
     "execution_count": 2,
     "metadata": {},
     "output_type": "execute_result"
    }
   ],
   "source": [
    "#file = 'ip_spectrum_8/absorption_ip/ndb.dipoles_fragment_1'\n",
    "file = 'ip_spectrum_100_random/absorption_ip/ndb.dipoles_fragment_1'\n",
    "dip = Dataset(file)\n",
    "dip = dip.variables['DIP_iR_k_0001_spin_0001']\n",
    "dip"
   ]
  },
  {
   "cell_type": "markdown",
   "metadata": {},
   "source": [
    "The structure of data index is : \n",
    "\n",
    "[valence,conduction,(x,y,x),(real part, imaginary part)"
   ]
  },
  {
   "cell_type": "markdown",
   "metadata": {},
   "source": [
    "We recombine the real and imaginary parts in a complex structure"
   ]
  },
  {
   "cell_type": "code",
   "execution_count": 3,
   "metadata": {},
   "outputs": [],
   "source": [
    "data = dip[:,:,:,0] + 1j*dip[:,:,:,1]"
   ]
  },
  {
   "cell_type": "markdown",
   "metadata": {},
   "source": [
    "We are interested in writing the elements\n",
    "\n",
    "$$\n",
    "M(v,c) = |<v|(x+j*y)|c>|^2\n",
    "$$"
   ]
  },
  {
   "cell_type": "code",
   "execution_count": 4,
   "metadata": {},
   "outputs": [],
   "source": [
    "def M(data,v,c):\n",
    "    mx = data[v,c,0]\n",
    "    my = data[v,c,1]\n",
    "    return abs(mx+1j*my)**2  "
   ]
  },
  {
   "cell_type": "code",
   "execution_count": 5,
   "metadata": {},
   "outputs": [
    {
     "name": "stdout",
     "output_type": "stream",
     "text": [
      "4 0 101.09118956696621\n",
      "4 1 57.48640714354117\n",
      "5 0 165.71643445286338\n",
      "5 1 93.77202542343825\n",
      "6 0 397.4482055173616\n",
      "6 1 455.3729806953488\n",
      "7 0 14.776017973275605\n",
      "7 1 6.634391176509097\n"
     ]
    }
   ],
   "source": [
    "for v in [4,5,6,7]:\n",
    "    for c in [0,1]:\n",
    "        print(v,c,M(data,v,c))"
   ]
  },
  {
   "cell_type": "markdown",
   "metadata": {},
   "source": [
    "The bands for k close to gamma are NOT degenerate in spin...check!"
   ]
  },
  {
   "cell_type": "code",
   "execution_count": null,
   "metadata": {},
   "outputs": [],
   "source": []
  },
  {
   "cell_type": "code",
   "execution_count": null,
   "metadata": {},
   "outputs": [],
   "source": []
  },
  {
   "cell_type": "code",
   "execution_count": null,
   "metadata": {},
   "outputs": [],
   "source": []
  },
  {
   "cell_type": "code",
   "execution_count": null,
   "metadata": {},
   "outputs": [],
   "source": [
    "################################################################à"
   ]
  },
  {
   "cell_type": "code",
   "execution_count": 2,
   "metadata": {},
   "outputs": [],
   "source": [
    "DIP_P = dip_file.variables[\"DIP_P_k_0001_spin_0001\"][:,:,:,0]+1j*dip_file.variables[\"DIP_P_k_0001_spin_0001\"][:,:,:,1]\n",
    "DIP_R = dip_file.variables[\"DIP_iR_k_0001_spin_0001\"][:,:,:,0]+1j*dip_file.variables[\"DIP_iR_k_0001_spin_0001\"][:,:,:,1]\n"
   ]
  },
  {
   "cell_type": "code",
   "execution_count": 10,
   "metadata": {},
   "outputs": [],
   "source": [
    "file = 'ip_spectrum_8/absorption_ip/ndb.dipoles_fragment_1'\n",
    "dip_Gamma = Dataset(file)"
   ]
  },
  {
   "cell_type": "code",
   "execution_count": 11,
   "metadata": {},
   "outputs": [],
   "source": [
    "file = 'ip_spectrum_100_random/absorption_ip/ndb.dipoles_fragment_1'\n",
    "dip_kCloseGamma = Dataset(file)"
   ]
  },
  {
   "cell_type": "code",
   "execution_count": 20,
   "metadata": {},
   "outputs": [],
   "source": [
    "DIP_R = dip_kCloseGamma.variables[\"DIP_iR_k_0001_spin_0001\"][:,:,:,0]+1j*dip_kCloseGamma.variables[\"DIP_iR_k_0001_spin_0001\"][:,:,:,1]"
   ]
  },
  {
   "cell_type": "code",
   "execution_count": 43,
   "metadata": {},
   "outputs": [
    {
     "data": {
      "text/plain": [
       "masked_array(\n",
       "  data=[[ 0.8333727 -12.6728j   ,  8.832113   +0.6748076j,\n",
       "          0.04085479 +4.9243426j],\n",
       "        [ 5.299709   +6.849425j , -8.651448   +7.140117j ,\n",
       "         -2.5188105  -2.422079j ]],\n",
       "  mask=False,\n",
       "  fill_value=(1e+20+0j),\n",
       "  dtype=complex64)"
      ]
     },
     "execution_count": 43,
     "metadata": {},
     "output_type": "execute_result"
    }
   ],
   "source": [
    "DIP_R[7,:,:]"
   ]
  },
  {
   "cell_type": "code",
   "execution_count": 44,
   "metadata": {},
   "outputs": [
    {
     "data": {
      "text/plain": [
       "masked_array(data=[0.8333727 -12.6728j   , 8.832113   +0.6748076j,\n",
       "                   0.04085479 +4.9243426j],\n",
       "             mask=False,\n",
       "       fill_value=(1e+20+0j),\n",
       "            dtype=complex64)"
      ]
     },
     "execution_count": 44,
     "metadata": {},
     "output_type": "execute_result"
    }
   ],
   "source": [
    "DIP_R[7,0,:]"
   ]
  },
  {
   "cell_type": "code",
   "execution_count": null,
   "metadata": {},
   "outputs": [],
   "source": []
  },
  {
   "cell_type": "code",
   "execution_count": null,
   "metadata": {},
   "outputs": [],
   "source": []
  },
  {
   "cell_type": "code",
   "execution_count": null,
   "metadata": {},
   "outputs": [],
   "source": []
  },
  {
   "cell_type": "code",
   "execution_count": null,
   "metadata": {},
   "outputs": [],
   "source": []
  },
  {
   "cell_type": "code",
   "execution_count": null,
   "metadata": {},
   "outputs": [],
   "source": []
  },
  {
   "cell_type": "code",
   "execution_count": null,
   "metadata": {},
   "outputs": [],
   "source": []
  },
  {
   "cell_type": "code",
   "execution_count": null,
   "metadata": {},
   "outputs": [],
   "source": []
  },
  {
   "cell_type": "code",
   "execution_count": null,
   "metadata": {},
   "outputs": [],
   "source": []
  },
  {
   "cell_type": "code",
   "execution_count": null,
   "metadata": {},
   "outputs": [],
   "source": []
  },
  {
   "cell_type": "code",
   "execution_count": null,
   "metadata": {},
   "outputs": [],
   "source": []
  },
  {
   "cell_type": "code",
   "execution_count": 9,
   "metadata": {},
   "outputs": [
    {
     "data": {
      "text/plain": [
       "<class 'netCDF4._netCDF4.Variable'>\n",
       "float32 DIP_iR_k_0001_spin_0001(D_0000000008, D_0000000002, D_0000000003, D_0000000002)\n",
       "unlimited dimensions: \n",
       "current shape = (8, 2, 3, 2)\n",
       "filling on, default _FillValue of 9.969209968386869e+36 used"
      ]
     },
     "execution_count": 9,
     "metadata": {},
     "output_type": "execute_result"
    }
   ],
   "source": [
    "dip_kCloseGamma.variables['DIP_iR_k_0001_spin_0001']"
   ]
  },
  {
   "cell_type": "code",
   "execution_count": 16,
   "metadata": {},
   "outputs": [
    {
     "data": {
      "text/plain": [
       "masked_array(data=0.00388054,\n",
       "             mask=False,\n",
       "       fill_value=1e+20,\n",
       "            dtype=float32)"
      ]
     },
     "execution_count": 16,
     "metadata": {},
     "output_type": "execute_result"
    }
   ],
   "source": [
    "dip_kCloseGamma.variables['DIP_iR_k_0001_spin_0001'][0,0,1,0]"
   ]
  },
  {
   "cell_type": "code",
   "execution_count": 18,
   "metadata": {},
   "outputs": [],
   "source": [
    "DIP_R = dip_kCloseGamma.variables[\"DIP_iR_k_0001_spin_0001\"][:,:,:,0]+1j*dip_kCloseGamma.variables[\"DIP_iR_k_0001_spin_0001\"][:,:,:,1]"
   ]
  },
  {
   "cell_type": "code",
   "execution_count": null,
   "metadata": {},
   "outputs": [],
   "source": []
  }
 ],
 "metadata": {
  "kernelspec": {
   "display_name": "Python 3",
   "language": "python",
   "name": "python3"
  },
  "language_info": {
   "codemirror_mode": {
    "name": "ipython",
    "version": 3
   },
   "file_extension": ".py",
   "mimetype": "text/x-python",
   "name": "python",
   "nbconvert_exporter": "python",
   "pygments_lexer": "ipython3",
   "version": "3.5.3"
  }
 },
 "nbformat": 4,
 "nbformat_minor": 2
}
