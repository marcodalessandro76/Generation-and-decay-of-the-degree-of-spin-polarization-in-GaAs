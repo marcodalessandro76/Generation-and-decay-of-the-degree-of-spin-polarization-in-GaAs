{
 "cells": [
  {
   "cell_type": "code",
   "execution_count": 1,
   "metadata": {},
   "outputs": [],
   "source": [
    "import numpy as np\n",
    "import os\n",
    "import matplotlib.pyplot as plt\n",
    "from importlib import reload\n",
    "from mppi import InputFiles as I, Calculators as C, Datasets as D"
   ]
  },
  {
   "cell_type": "code",
   "execution_count": 2,
   "metadata": {},
   "outputs": [],
   "source": [
    "omp = 1\n",
    "mpi_run = 'mpirun -np 16'"
   ]
  },
  {
   "cell_type": "markdown",
   "metadata": {},
   "source": [
    "Choose the source and the  run_dir on the basis of the number of k-points and shift"
   ]
  },
  {
   "cell_type": "code",
   "execution_count": 3,
   "metadata": {},
   "outputs": [],
   "source": [
    "#source = 'nscf/bnds_40-kpoints_4.save'\n",
    "#source = 'nscf/bnds_40-kpoints_8.save'\n",
    "#source = 'nscf/bnds_40-kpoints_12.save'\n",
    "#source = 'nscf/bnds_40-kpoints_8-shift_1.save'\n",
    "#source = 'nscf/bnds_40-kpoints_10-shift_1.save'\n",
    "source = 'nscf/bnds_40-kpoints_100-sampling_random.save'\n",
    "#source = 'nscf/bnds_40-sampling_gamma.save'\n",
    "#source = 'nscf/bnds_40-sampling_gamma_and_shifted_points.save'\n",
    "#source = 'nscf/bnds_40-kpoints_50-sampling_random-5em3-close-gamma.save'\n",
    "\n",
    "#run_dir = 'rt_gamma'\n",
    "#run_dir = 'rt_gamma_no.com'\n",
    "#run_dir = 'rt_gamma-and-close'\n",
    "#run_dir = 'rt_gamma-and-close_no-com'\n",
    "run_dir = 'rt_k100random_width100_no-com'"
   ]
  },
  {
   "cell_type": "markdown",
   "metadata": {},
   "source": [
    "## Construction of the FixSymm folder"
   ]
  },
  {
   "cell_type": "markdown",
   "metadata": {},
   "source": [
    "The first step of this procedure is represented by the construction of the Yambo base folder with the SAVE directory. \n",
    "\n",
    "We use the tools of Dataset to build the SAVE folder and choose various folder as source path."
   ]
  },
  {
   "cell_type": "code",
   "execution_count": 4,
   "metadata": {},
   "outputs": [],
   "source": [
    "y_save = D.Dataset(label='y_save',run_dir=run_dir,pre_processing='yambo')"
   ]
  },
  {
   "cell_type": "code",
   "execution_count": 5,
   "metadata": {},
   "outputs": [
    {
     "name": "stdout",
     "output_type": "stream",
     "text": [
      "Create folder rt_k100random_width100_no-com\n",
      "execute :  cd nscf/bnds_40-kpoints_100-sampling_random.save;p2y -a 2\n",
      "execute :  cp -r nscf/bnds_40-kpoints_100-sampling_random.save/SAVE rt_k100random_width100_no-com\n",
      "execute :  cd rt_k100random_width100_no-com;OMP_NUM_THREADS=1 yambo\n"
     ]
    }
   ],
   "source": [
    "y_save.pre_processing_function(source_dir=source)"
   ]
  },
  {
   "cell_type": "raw",
   "metadata": {},
   "source": [
    "The creation of the FixSymm folder is managed as follows. We need to remove the # from the string #RmTimeRev, this procedure is actually performed by hands, but can be implemented as a python function."
   ]
  },
  {
   "cell_type": "code",
   "execution_count": 6,
   "metadata": {},
   "outputs": [
    {
     "name": "stdout",
     "output_type": "stream",
     "text": [
      "execute :  cd rt_k100random_width100_no-com; ypp -y -F ypp.in\n",
      "fixsyms\n",
      "Btheta = 0.000000e+00 deg\n",
      "Bpsi = 0.000000e+00 deg\n",
      "BField = 0.000000e+00 T\n",
      "% Efield1\n",
      " 1.0 | 0.0 | 0.0 |   \n",
      "%\n",
      "% Efield2\n",
      " 0.0 | 1.0 | 0.0 |   \n",
      "%\n",
      "\n",
      "execute :  cd rt_k100random_width100_no-com; ypp -y -F ypp.in\n"
     ]
    }
   ],
   "source": [
    "ypp_input = I.YppIn('ypp -y',folder=y_save.run_dir)\n",
    "\n",
    "input = ypp_input.getInput()\n",
    "input['Efield1'] = [1.0,0.0,0.0]\n",
    "input['Efield2'] = [0.0,1.0,0.0]\n",
    "print(input)\n",
    "ypp_input.write(y_save.run_dir+'/ypp.in')"
   ]
  },
  {
   "cell_type": "markdown",
   "metadata": {},
   "source": [
    "Build the FixSymm folder and run yambo_rt (without argument) to build the r_setup"
   ]
  },
  {
   "cell_type": "code",
   "execution_count": 7,
   "metadata": {},
   "outputs": [
    {
     "name": "stdout",
     "output_type": "stream",
     "text": [
      "cd rt_k100random_width100_no-com; ypp -F ypp.in\n"
     ]
    },
    {
     "data": {
      "text/plain": [
       "0"
      ]
     },
     "execution_count": 7,
     "metadata": {},
     "output_type": "execute_result"
    }
   ],
   "source": [
    "string = 'cd %s; ypp -F ypp.in'%y_save.run_dir\n",
    "print(string)\n",
    "os.system(string)"
   ]
  },
  {
   "cell_type": "code",
   "execution_count": 8,
   "metadata": {},
   "outputs": [
    {
     "name": "stdout",
     "output_type": "stream",
     "text": [
      "cd rt_k100random_width100_no-com/FixSymm; yambo_rt\n"
     ]
    },
    {
     "data": {
      "text/plain": [
       "0"
      ]
     },
     "execution_count": 8,
     "metadata": {},
     "output_type": "execute_result"
    }
   ],
   "source": [
    "fixSymmPath = y_save.run_dir+'/FixSymm'\n",
    "string = 'cd %s; yambo_rt'%fixSymmPath\n",
    "print(string)\n",
    "os.system(string)"
   ]
  },
  {
   "cell_type": "markdown",
   "metadata": {},
   "source": [
    "## Real Time Analysis"
   ]
  },
  {
   "cell_type": "markdown",
   "metadata": {},
   "source": [
    "Define the code that will run yambo_rt and the dataset for the rt computations. Note that no pre_processing is nedded for this dataset since the FixSymm folder that contains the rt SAVE is already built.\n",
    "\n",
    "We have performed some tests to set the parameters of the run, in particular : \n",
    "\n",
    "* the damping is needed, without damping the the dN does not follows the shape of the fluence of the field but show a gaussian like behavior.\n",
    "\n",
    "* A convergence test has been performed on the number of RTBands, the actual choice is [5,10], we have checked that increasing this interval produces only a small change in the dN at the end of the NETime"
   ]
  },
  {
   "cell_type": "code",
   "execution_count": 4,
   "metadata": {},
   "outputs": [
    {
     "name": "stdout",
     "output_type": "stream",
     "text": [
      "Initialize a Yambo calculator with command OMP_NUM_THREADS=1 mpirun -np 16 yambo_rt\n",
      "Suffix for post_processing :  carriers\n"
     ]
    }
   ],
   "source": [
    "code = C.YamboCalculator(omp=omp,mpi_run=mpi_run,executable='yambo_rt',suffix='carriers',skip=True)"
   ]
  },
  {
   "cell_type": "code",
   "execution_count": 5,
   "metadata": {},
   "outputs": [
    {
     "name": "stdout",
     "output_type": "stream",
     "text": [
      "rt_k100random_width100_no-com/FixSymm\n"
     ]
    }
   ],
   "source": [
    "run_dir_rt = os.path.join(run_dir,'FixSymm')\n",
    "print(run_dir_rt)"
   ]
  },
  {
   "cell_type": "code",
   "execution_count": 6,
   "metadata": {},
   "outputs": [],
   "source": [
    "yambo_rt = D.Dataset(label='yambo_rt',run_dir=run_dir_rt)"
   ]
  },
  {
   "cell_type": "markdown",
   "metadata": {},
   "source": [
    "Change name to the ns.kb_pp_pwscf database to remove the non local contribution"
   ]
  },
  {
   "cell_type": "code",
   "execution_count": 12,
   "metadata": {},
   "outputs": [
    {
     "name": "stdout",
     "output_type": "stream",
     "text": [
      "mv rt_k100random_width100_no-com/FixSymm/SAVE/ns.kb_pp_pwscf rt_k100random_width100_no-com/FixSymm/SAVE/ns.kb_pp_pwscf_hide\n"
     ]
    },
    {
     "data": {
      "text/plain": [
       "0"
      ]
     },
     "execution_count": 12,
     "metadata": {},
     "output_type": "execute_result"
    }
   ],
   "source": [
    "db = 'ns.kb_pp_pwscf'\n",
    "src = os.path.join(yambo_rt.run_dir,'SAVE',db)\n",
    "dst = os.path.join(yambo_rt.run_dir,'SAVE',db+'_hide')\n",
    "string = 'mv %s %s'%(src,dst)\n",
    "print(string)\n",
    "os.system(string)"
   ]
  },
  {
   "cell_type": "markdown",
   "metadata": {},
   "source": [
    "We add various runs to the dataset. First of all we define the basic elements of the input file"
   ]
  },
  {
   "cell_type": "code",
   "execution_count": 7,
   "metadata": {},
   "outputs": [],
   "source": [
    "rt_input = I.YamboIn('yambo_rt -n p -v ip -V qp',folder=yambo_rt.run_dir)\n",
    "\n",
    "time_step = 10 #as\n",
    "field_int = 1000.0 #kWLm2\n",
    "field_width = 100 #fs\n",
    "sim_time = 6*field_width\n",
    "rt_bands = [5,10]\n",
    "\n",
    "rt_parameters = {\n",
    "     'Field1_Int'   : [field_int,'kWLm2'],\n",
    "     'Field1_Width' : [field_width,'fs'],\n",
    "     'Field1_kind'  : 'QSSIN',\n",
    "     'RTstep'       : [time_step,'as'],\n",
    "     'NETime'       : [sim_time,'fs'],\n",
    "     'RTBands'      : rt_bands,\n",
    "     'IOtime'       : [[1.0,5.0,1.0],'fs'], # Carriers - GF - output\n",
    "     'GfnQP_Wv'     : [0.05,0.00,0.00],     # Constant damping valence\n",
    "     'GfnQP_Wc'     : [0.05,0.00,0.00],     # Constant damping conduction\n",
    "     'GfnQP_E'      : [1.00, 1.00, 1.00],   # Scissor\n",
    "     'RT_CPU'       : \"%s.1.1.1\"%mpi_run.lstrip('mpirun -np ')\n",
    "}\n",
    "\n",
    "for k,v in rt_parameters.items():\n",
    "    rt_input[k] = v"
   ]
  },
  {
   "cell_type": "code",
   "execution_count": 14,
   "metadata": {},
   "outputs": [],
   "source": [
    "#print(rt_input)"
   ]
  },
  {
   "cell_type": "code",
   "execution_count": 8,
   "metadata": {},
   "outputs": [],
   "source": [
    "# circular polarization spanning a given frequencies range\n",
    "freq_range = [1.25,1.35,1.45,1.55,1.65,1.75,1.85]\n",
    "#freq_range =  [1.55]\n",
    "for f in freq_range:\n",
    "    pars = { 'Field1_Freq'  : [[f,f],'eV'],\n",
    "             'Field1_pol'   : 'circular',\n",
    "             # the two fields reproduce the field used for FixSymm\n",
    "             'Field1_Dir'   : [1.0,0.0,0.0],\n",
    "             'Field1_Dir_circ'   : [0.0,1.0,0.0]\n",
    "    }\n",
    "    for k,v in pars.items():\n",
    "        rt_input[k] = v\n",
    "    idd = {'pol' : 'circular','freq' : f}\n",
    "    yambo_rt.append_run(id=idd,calculator=code,input=rt_input)"
   ]
  },
  {
   "cell_type": "code",
   "execution_count": 9,
   "metadata": {},
   "outputs": [],
   "source": [
    "# linear polarization with freq = 1.55 eV\n",
    "freq = 1.55\n",
    "pars = {\n",
    "     'Field1_Freq'  : [[freq,freq],'eV'],\n",
    "     'Field1_pol'   : 'linear',\n",
    "     'Field1_Dir'   : [1.0,0.0,0.0]\n",
    "}\n",
    "for k,v in pars.items():\n",
    "    rt_input[k] = v\n",
    "idd = {'pol' : 'linear','freq' : freq}\n",
    "yambo_rt.append_run(id=idd,calculator=code,input=rt_input)"
   ]
  },
  {
   "cell_type": "code",
   "execution_count": 10,
   "metadata": {},
   "outputs": [],
   "source": [
    "# circular polarization (reversed) with freq = 1.55 eV\n",
    "freq = 1.55\n",
    "pars = {\n",
    "     'Field1_Freq'  : [[freq,freq],'eV'],\n",
    "     'Field1_pol'   : 'circular',\n",
    "     'Field1_Dir'   : [0.0,1.0,0.0],\n",
    "     'Field1_Dir_circ'   : [1.0,0.0,0.0]\n",
    "}\n",
    "for k,v in pars.items():\n",
    "    rt_input[k] = v\n",
    "idd = {'pol' : 'reversed_circular','freq' : freq}\n",
    "yambo_rt.append_run(id=idd,calculator=code,input=rt_input)"
   ]
  },
  {
   "cell_type": "code",
   "execution_count": 82,
   "metadata": {},
   "outputs": [],
   "source": [
    "# circular polarization (rotated y-> z) with freq = 1.55 eV\n",
    "freq = 1.55\n",
    "pars = {\n",
    "     'Field1_Freq'  : [[freq,freq],'eV'],\n",
    "     'Field1_pol'   : 'circular',\n",
    "     'Field1_Dir'   : [1.0,0.0,0.0],\n",
    "     'Field1_Dir_circ'   : [0.0,0.0,1.0]\n",
    "}\n",
    "for k,v in pars.items():\n",
    "    rt_input[k] = v\n",
    "idd = {'pol' : 'rotated_circular','freq' : freq}\n",
    "yambo_rt.append_run(id=idd,calculator=code,input=rt_input)"
   ]
  },
  {
   "cell_type": "code",
   "execution_count": 28,
   "metadata": {},
   "outputs": [],
   "source": [
    "#print(yambo_rt.runs[0])"
   ]
  },
  {
   "cell_type": "code",
   "execution_count": 9,
   "metadata": {},
   "outputs": [
    {
     "name": "stdout",
     "output_type": "stream",
     "text": [
      "skip the computation for : freq_1.25-pol_circular.in\n",
      "parse file : rt_k100random_width100_no-com/FixSymm/freq_1.25-pol_circular/o-freq_1.25-pol_circular.carriers\n",
      "skip the computation for : freq_1.35-pol_circular.in\n",
      "parse file : rt_k100random_width100_no-com/FixSymm/freq_1.35-pol_circular/o-freq_1.35-pol_circular.carriers\n",
      "skip the computation for : freq_1.45-pol_circular.in\n",
      "parse file : rt_k100random_width100_no-com/FixSymm/freq_1.45-pol_circular/o-freq_1.45-pol_circular.carriers\n",
      "skip the computation for : freq_1.55-pol_circular.in\n",
      "parse file : rt_k100random_width100_no-com/FixSymm/freq_1.55-pol_circular/o-freq_1.55-pol_circular.carriers\n",
      "skip the computation for : freq_1.65-pol_circular.in\n",
      "parse file : rt_k100random_width100_no-com/FixSymm/freq_1.65-pol_circular/o-freq_1.65-pol_circular.carriers\n",
      "skip the computation for : freq_1.75-pol_circular.in\n",
      "parse file : rt_k100random_width100_no-com/FixSymm/freq_1.75-pol_circular/o-freq_1.75-pol_circular.carriers\n",
      "skip the computation for : freq_1.85-pol_circular.in\n",
      "parse file : rt_k100random_width100_no-com/FixSymm/freq_1.85-pol_circular/o-freq_1.85-pol_circular.carriers\n"
     ]
    }
   ],
   "source": [
    "yambo_rt.run()"
   ]
  },
  {
   "cell_type": "code",
   "execution_count": 10,
   "metadata": {},
   "outputs": [
    {
     "data": {
      "text/plain": [
       "[{'freq': 1.25, 'pol': 'circular'},\n",
       " {'freq': 1.35, 'pol': 'circular'},\n",
       " {'freq': 1.45, 'pol': 'circular'},\n",
       " {'freq': 1.55, 'pol': 'circular'},\n",
       " {'freq': 1.65, 'pol': 'circular'},\n",
       " {'freq': 1.75, 'pol': 'circular'},\n",
       " {'freq': 1.85, 'pol': 'circular'}]"
      ]
     },
     "execution_count": 10,
     "metadata": {},
     "output_type": "execute_result"
    }
   ],
   "source": [
    "yambo_rt.ids"
   ]
  },
  {
   "cell_type": "code",
   "execution_count": 11,
   "metadata": {},
   "outputs": [],
   "source": [
    "res = yambo_rt.results[0]"
   ]
  },
  {
   "cell_type": "code",
   "execution_count": 12,
   "metadata": {},
   "outputs": [
    {
     "data": {
      "text/plain": [
       "[<matplotlib.lines.Line2D at 0x7fa53d045a58>]"
      ]
     },
     "execution_count": 12,
     "metadata": {},
     "output_type": "execute_result"
    },
    {
     "data": {
      "image/png": "[encoded data removed]",
      "text/plain": [
       "<Figure size 432x288 with 1 Axes>"
      ]
     },
     "metadata": {
      "needs_background": "light"
     },
     "output_type": "display_data"
    }
   ],
   "source": [
    "plt.plot(res.time,res.dN_hole)\n",
    "plt.plot(res.time,res.dN_elec)"
   ]
  },
  {
   "cell_type": "markdown",
   "metadata": {},
   "source": [
    "We plot the dN_e at the last simulation time in function of the probe frequency"
   ]
  },
  {
   "cell_type": "code",
   "execution_count": 13,
   "metadata": {},
   "outputs": [
    {
     "data": {
      "text/plain": [
       "(0, 0.005)"
      ]
     },
     "execution_count": 13,
     "metadata": {},
     "output_type": "execute_result"
    },
    {
     "data": {
      "image/png": "[encoded data removed]",
      "text/plain": [
       "<Figure size 432x288 with 1 Axes>"
      ]
     },
     "metadata": {
      "needs_background": "light"
     },
     "output_type": "display_data"
    }
   ],
   "source": [
    "for ind,f in enumerate(freq_range):\n",
    "    res = yambo_rt.results[ind]\n",
    "    plt.scatter(f,res.dN_elec[-1])\n",
    "plt.ylim((0,5e-3))"
   ]
  },
  {
   "cell_type": "markdown",
   "metadata": {},
   "source": [
    "Plot the time dependence of the z component of the magnetization for each pump"
   ]
  },
  {
   "cell_type": "code",
   "execution_count": 14,
   "metadata": {},
   "outputs": [
    {
     "data": {
      "image/png": "[encoded data removed]",
      "text/plain": [
       "<Figure size 432x288 with 1 Axes>"
      ]
     },
     "metadata": {
      "needs_background": "light"
     },
     "output_type": "display_data"
    }
   ],
   "source": [
    "for radical in yambo_rt.names:\n",
    "    mgn_file = os.path.join(run_dir_rt,radical,'o-'+radical+'.spin_magnetization')\n",
    "    mgn = C.dict_parser(mgn_file)\n",
    "    plt.plot(mgn['T'],mgn['Mc_z'],label = radical)\n",
    "plt.legend(loc=(1.1,0.))\n",
    "plt.show()"
   ]
  },
  {
   "cell_type": "code",
   "execution_count": 28,
   "metadata": {},
   "outputs": [
    {
     "name": "stdout",
     "output_type": "stream",
     "text": [
      "freq_1.75-pol_circular\n"
     ]
    }
   ],
   "source": [
    "radical = yambo_rt.names[5]\n",
    "print(radical)\n",
    "mgn_file = os.path.join(run_dir_rt,radical,'o-'+radical+'.spin_magnetization')\n",
    "mgn = C.dict_parser(mgn_file)"
   ]
  },
  {
   "cell_type": "code",
   "execution_count": 29,
   "metadata": {},
   "outputs": [
    {
     "data": {
      "text/plain": [
       "<matplotlib.legend.Legend at 0x7fb13cd94358>"
      ]
     },
     "execution_count": 29,
     "metadata": {},
     "output_type": "execute_result"
    },
    {
     "data": {
      "image/png": "[encoded data removed]",
      "text/plain": [
       "<Figure size 432x288 with 1 Axes>"
      ]
     },
     "metadata": {
      "needs_background": "light"
     },
     "output_type": "display_data"
    }
   ],
   "source": [
    "plt.plot(mgn['T'],mgn['Mc_x'],label = 'x')\n",
    "plt.plot(mgn['T'],mgn['Mc_y'],label = 'y')\n",
    "plt.plot(mgn['T'],mgn['Mc_z'],label = 'z')\n",
    "plt.legend()"
   ]
  },
  {
   "cell_type": "code",
   "execution_count": 30,
   "metadata": {},
   "outputs": [
    {
     "name": "stdout",
     "output_type": "stream",
     "text": [
      "[4.28194113e-07 2.26145312e-06 1.45017564e-01]\n",
      "14.50175643\n"
     ]
    },
    {
     "data": {
      "text/plain": [
       "14.501756431826509"
      ]
     },
     "execution_count": 30,
     "metadata": {},
     "output_type": "execute_result"
    }
   ],
   "source": [
    "final_mgn = np.array([mgn['Mc_x'][-1],mgn['Mc_y'][-1],mgn['Mc_z'][-1]])\n",
    "print(final_mgn)\n",
    "print(mgn['Mc_z'][-1]*100)\n",
    "100.*np.linalg.norm(final_mgn)"
   ]
  },
  {
   "cell_type": "markdown",
   "metadata": {},
   "source": [
    "The time dependence of the spin polarization is strange...check!!!!"
   ]
  },
  {
   "cell_type": "markdown",
   "metadata": {},
   "source": [
    "## ypp post-processing for the rt bands and occupations"
   ]
  },
  {
   "cell_type": "code",
   "execution_count": 57,
   "metadata": {},
   "outputs": [
    {
     "name": "stdout",
     "output_type": "stream",
     "text": [
      "Initialize a Yambo calculator with command OMP_NUM_THREADS=1 mpirun -np 8 ypp_rt\n",
      "Suffix for post_processing :  YPP-RT_occupations_DATA\n"
     ]
    }
   ],
   "source": [
    "code = C.YamboCalculator(omp=1,mpi_run='mpirun -np 8',executable='ypp_rt',suffix='YPP-RT_occ_bands_iT1',skip=True)"
   ]
  },
  {
   "cell_type": "code",
   "execution_count": 58,
   "metadata": {},
   "outputs": [],
   "source": [
    "ypp_nob = D.Dataset(label='ypp_nob',run_dir=run_dir_rt)"
   ]
  },
  {
   "cell_type": "code",
   "execution_count": 59,
   "metadata": {},
   "outputs": [
    {
     "name": "stdout",
     "output_type": "stream",
     "text": [
      "delete rt_k100random_width100_no-com/FixSymm/ypp.in\n",
      "execute :  cd rt_k100random_width100_no-com/FixSymm; ypp_rt -n o b -V qp -F ypp.in\n"
     ]
    }
   ],
   "source": [
    "ypp_input = I.YppIn('ypp_rt -n o b -V qp',folder=ypp_nob.run_dir)"
   ]
  },
  {
   "cell_type": "code",
   "execution_count": 60,
   "metadata": {},
   "outputs": [],
   "source": [
    "# The random sampling is performed in a spherical region of diameter 0.1 around Gamma\n",
    "# in alat\n",
    "G = [0.,0.,0.]\n",
    "X_dir = [0.1,0.,0.]\n",
    "L_dir = [0.05,0.05,0.05] # in the direction of L but inside the sampled sphere\n",
    "#W = [1.0,0.5,0.]\n",
    "path = [L_dir,G,X_dir]\n",
    "\n",
    "#band_range = [5,10]\n",
    "bands_step = 50\n",
    "time_step = 100 #fs"
   ]
  },
  {
   "cell_type": "code",
   "execution_count": 61,
   "metadata": {},
   "outputs": [
    {
     "data": {
      "text/plain": [
       "0.08660254037844388"
      ]
     },
     "execution_count": 61,
     "metadata": {},
     "output_type": "execute_result"
    }
   ],
   "source": [
    "np.sqrt(3*0.05**2)"
   ]
  },
  {
   "cell_type": "code",
   "execution_count": 62,
   "metadata": {},
   "outputs": [
    {
     "name": "stdout",
     "output_type": "stream",
     "text": [
      "RealTime\n",
      "RToccupations\n",
      "RTfitbands\n",
      "OutputAlat = 10.677000 \n",
      "cooOut =     'alat'\n",
      "NelFac = 1.000000 \n",
      "% TimeRange\n",
      " 0.0 | 600 |  fs \n",
      "%\n",
      "TimeStep = 100 fs\n",
      "INTERP_mode =       'NN'\n",
      "% INTERP_Grid\n",
      " -1 | -1 | -1 |   \n",
      "%\n",
      "% BANDS_kpts\n",
      "0.05 | 0.05 | 0.05 |  \n",
      "0.0 | 0.0 | 0.0 |  \n",
      "0.1 | 0.0 | 0.0 |  \n",
      "%\n",
      "BANDS_steps = 50 \n",
      "cooIn =     'alat'\n",
      "CIRCUIT_E_DB_path =     'none'\n",
      "INTERP_Shell_Fac = 20.000000 \n",
      "\n"
     ]
    }
   ],
   "source": [
    "input = ypp_input.getInput()\n",
    "input['BANDS_steps'] = bands_step\n",
    "#input['BANDS_bands'] = band_range\n",
    "input['BANDS_kpts'] = path\n",
    "input['cooIn'] = 'alat'\n",
    "input['cooOut'] = 'alat'\n",
    "input['TimeStep'] = [time_step,'fs']\n",
    "input['TimeRange'] = [[0.,sim_time],'fs']\n",
    "\n",
    "print(input)"
   ]
  },
  {
   "cell_type": "code",
   "execution_count": 63,
   "metadata": {},
   "outputs": [
    {
     "data": {
      "text/plain": [
       "['freq_1.25-pol_circular',\n",
       " 'freq_1.35-pol_circular',\n",
       " 'freq_1.45-pol_circular',\n",
       " 'freq_1.55-pol_circular',\n",
       " 'freq_1.65-pol_circular',\n",
       " 'freq_1.75-pol_circular',\n",
       " 'freq_1.85-pol_circular']"
      ]
     },
     "execution_count": 63,
     "metadata": {},
     "output_type": "execute_result"
    }
   ],
   "source": [
    "yambo_rt.names"
   ]
  },
  {
   "cell_type": "code",
   "execution_count": 64,
   "metadata": {},
   "outputs": [],
   "source": [
    "for name in ['freq_1.55-pol_circular']: \n",
    "    idd = 'ypp_'+name\n",
    "    ypp_nob.append_run(id=idd,input=ypp_input,calculator=code,jobname=name)"
   ]
  },
  {
   "cell_type": "code",
   "execution_count": 65,
   "metadata": {},
   "outputs": [
    {
     "name": "stdout",
     "output_type": "stream",
     "text": [
      "execute :  cd rt_k100random_width100_no-com/FixSymm; ypp_rt -n o b -V qp -F ypp_freq_1.55-pol_circular.in\n",
      "execute : cd rt_k100random_width100_no-com/FixSymm ; OMP_NUM_THREADS=1 mpirun -np 8 ypp_rt -F ypp_freq_1.55-pol_circular.in -J freq_1.55-pol_circular -C ypp_freq_1.55-pol_circular\n",
      "file :  rt_k100random_width100_no-com/FixSymm/ypp_freq_1.55-pol_circular/o-freq_1.55-pol_circular.YPP-RT_occupations_DATA  not found. Parsing not performed\n"
     ]
    }
   ],
   "source": [
    "ypp_nob.run()"
   ]
  },
  {
   "cell_type": "code",
   "execution_count": null,
   "metadata": {},
   "outputs": [],
   "source": []
  },
  {
   "cell_type": "code",
   "execution_count": null,
   "metadata": {},
   "outputs": [],
   "source": []
  },
  {
   "cell_type": "markdown",
   "metadata": {},
   "source": [
    "## ypp post-processing for the rt analysis"
   ]
  },
  {
   "cell_type": "markdown",
   "metadata": {},
   "source": [
    "Perform the ypp -n o e post-processing using the rt results as input"
   ]
  },
  {
   "cell_type": "code",
   "execution_count": 27,
   "metadata": {},
   "outputs": [
    {
     "name": "stdout",
     "output_type": "stream",
     "text": [
      "Initialize a Yambo calculator with command OMP_NUM_THREADS=1 mpirun -np 1 ypp_rt\n",
      "Suffix for post_processing :  YPP-RT_occupations_DATA\n"
     ]
    }
   ],
   "source": [
    "code = C.YamboCalculator(omp=1,mpi_run='mpirun -np 1',executable='ypp_rt',suffix='YPP-RT_occupations_DATA',skip=True)"
   ]
  },
  {
   "cell_type": "code",
   "execution_count": 28,
   "metadata": {},
   "outputs": [],
   "source": [
    "ypp_noe = D.Dataset(label='ypp_noe',run_dir=run_dir_rt)"
   ]
  },
  {
   "cell_type": "code",
   "execution_count": 29,
   "metadata": {},
   "outputs": [
    {
     "name": "stdout",
     "output_type": "stream",
     "text": [
      "execute :  cd rt_gamma-and-close_no-com/FixSymm; ypp_rt -n o e -V qp -F ypp.in\n"
     ]
    }
   ],
   "source": [
    "ypp_input = I.YppIn('ypp_rt -n o e -V qp',folder=ypp_noe.run_dir)"
   ]
  },
  {
   "cell_type": "code",
   "execution_count": 30,
   "metadata": {},
   "outputs": [
    {
     "name": "stdout",
     "output_type": "stream",
     "text": [
      "RealTime\n",
      "RToccupations\n",
      "TimeStep = 100 fs\n",
      "% QPerange\n",
      " 1 | 7 | 0.0 | -1.000000 |   \n",
      "%\n",
      "% QPkrange\n",
      " 1 | 7 | 1 | 5 | 10 |   \n",
      "%\n",
      "% TimeRange\n",
      " -1.000000 | -1.000000 |  fs \n",
      "%\n",
      "\n"
     ]
    }
   ],
   "source": [
    "input = ypp_input.getInput()\n",
    "input['QPkrange'][0][3:5] = rt_bands\n",
    "input['TimeStep'][0] = 100 #20\n",
    "print(input)"
   ]
  },
  {
   "cell_type": "markdown",
   "metadata": {},
   "source": [
    "Add the run the dataset. The names of the yambo_rt are given as jobname to the post-processing"
   ]
  },
  {
   "cell_type": "code",
   "execution_count": 31,
   "metadata": {},
   "outputs": [],
   "source": [
    "for name in yambo_rt.names: \n",
    "    idd = 'ypp_'+name\n",
    "    ypp_noe.append_run(id=idd,input=ypp_input,calculator=code,jobname=name)"
   ]
  },
  {
   "cell_type": "code",
   "execution_count": 32,
   "metadata": {},
   "outputs": [
    {
     "name": "stdout",
     "output_type": "stream",
     "text": [
      "execute :  cd rt_gamma-and-close_no-com/FixSymm; ypp_rt -n o e -V qp -F ypp_freq_1.55-pol_circular.in\n",
      "execute : cd rt_gamma-and-close_no-com/FixSymm ; OMP_NUM_THREADS=1 mpirun -np 1 ypp_rt -F ypp_freq_1.55-pol_circular.in -J freq_1.55-pol_circular -C ypp_freq_1.55-pol_circular\n",
      "parse file : rt_gamma-and-close_no-com/FixSymm/ypp_freq_1.55-pol_circular/o-freq_1.55-pol_circular.YPP-RT_occupations_DATA\n",
      "execute :  cd rt_gamma-and-close_no-com/FixSymm; ypp_rt -n o e -V qp -F ypp_freq_1.55-pol_linear.in\n",
      "execute : cd rt_gamma-and-close_no-com/FixSymm ; OMP_NUM_THREADS=1 mpirun -np 1 ypp_rt -F ypp_freq_1.55-pol_linear.in -J freq_1.55-pol_linear -C ypp_freq_1.55-pol_linear\n",
      "parse file : rt_gamma-and-close_no-com/FixSymm/ypp_freq_1.55-pol_linear/o-freq_1.55-pol_linear.YPP-RT_occupations_DATA\n",
      "execute :  cd rt_gamma-and-close_no-com/FixSymm; ypp_rt -n o e -V qp -F ypp_freq_1.55-pol_reversed_circular.in\n",
      "execute : cd rt_gamma-and-close_no-com/FixSymm ; OMP_NUM_THREADS=1 mpirun -np 1 ypp_rt -F ypp_freq_1.55-pol_reversed_circular.in -J freq_1.55-pol_reversed_circular -C ypp_freq_1.55-pol_reversed_circular\n",
      "parse file : rt_gamma-and-close_no-com/FixSymm/ypp_freq_1.55-pol_reversed_circular/o-freq_1.55-pol_reversed_circular.YPP-RT_occupations_DATA\n"
     ]
    }
   ],
   "source": [
    "ypp_noe.run()"
   ]
  },
  {
   "cell_type": "code",
   "execution_count": 33,
   "metadata": {},
   "outputs": [
    {
     "data": {
      "text/plain": [
       "['ypp_freq_1.55-pol_circular',\n",
       " 'ypp_freq_1.55-pol_linear',\n",
       " 'ypp_freq_1.55-pol_reversed_circular']"
      ]
     },
     "execution_count": 33,
     "metadata": {},
     "output_type": "execute_result"
    }
   ],
   "source": [
    "ypp_noe.ids"
   ]
  },
  {
   "cell_type": "markdown",
   "metadata": {},
   "source": [
    "Use the output file for showing the neq occupations"
   ]
  },
  {
   "cell_type": "code",
   "execution_count": 32,
   "metadata": {},
   "outputs": [
    {
     "data": {
      "text/plain": [
       "dict_keys(['E', '240.000', '40.0000', '140.000'])"
      ]
     },
     "execution_count": 32,
     "metadata": {},
     "output_type": "execute_result"
    }
   ],
   "source": [
    "res = ypp_noe.results[0].__dict__\n",
    "res.keys()"
   ]
  },
  {
   "cell_type": "code",
   "execution_count": 76,
   "metadata": {},
   "outputs": [],
   "source": [
    "last_time = '240.000'"
   ]
  },
  {
   "cell_type": "code",
   "execution_count": 77,
   "metadata": {},
   "outputs": [
    {
     "data": {
      "text/plain": [
       "<matplotlib.collections.PathCollection at 0x7f6968708cf8>"
      ]
     },
     "execution_count": 77,
     "metadata": {},
     "output_type": "execute_result"
    },
    {
     "data": {
      "image/png": "[encoded data removed]",
      "text/plain": [
       "<Figure size 432x288 with 1 Axes>"
      ]
     },
     "metadata": {
      "needs_background": "light"
     },
     "output_type": "display_data"
    }
   ],
   "source": [
    "plt.scatter(res['E'],res[last_time])\n",
    "#plt.ylim(-5e-3,5e-3)"
   ]
  },
  {
   "cell_type": "code",
   "execution_count": null,
   "metadata": {},
   "outputs": [],
   "source": []
  }
 ],
 "metadata": {
  "kernelspec": {
   "display_name": "Python 3",
   "language": "python",
   "name": "python3"
  },
  "language_info": {
   "codemirror_mode": {
    "name": "ipython",
    "version": 3
   },
   "file_extension": ".py",
   "mimetype": "text/x-python",
   "name": "python",
   "nbconvert_exporter": "python",
   "pygments_lexer": "ipython3",
   "version": "3.5.3"
  }
 },
 "nbformat": 4,
 "nbformat_minor": 2
}
