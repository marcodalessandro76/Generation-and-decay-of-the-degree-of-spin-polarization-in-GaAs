{
 "cells": [
  {
   "cell_type": "code",
   "execution_count": 1,
   "metadata": {},
   "outputs": [],
   "source": [
    "# useful to autoreload the module without restarting the kernel\n",
    "%load_ext autoreload\n",
    "%autoreload 2"
   ]
  },
  {
   "cell_type": "code",
   "execution_count": 2,
   "metadata": {},
   "outputs": [],
   "source": [
    "from mppi import InputFiles as I, Calculators as C, Datasets as D, Utilities as U, Parsers as P\n",
    "import matplotlib.pyplot as plt\n",
    "import numpy as np"
   ]
  },
  {
   "cell_type": "code",
   "execution_count": 3,
   "metadata": {},
   "outputs": [],
   "source": [
    "omp = 1\n",
    "mpi_run = 'mpirun -np 16'"
   ]
  },
  {
   "cell_type": "code",
   "execution_count": 4,
   "metadata": {},
   "outputs": [
    {
     "name": "stdout",
     "output_type": "stream",
     "text": [
      "Initialize a parallel Yambo calculator with scheduler direct\n"
     ]
    }
   ],
   "source": [
    "code = C.YamboCalculator(omp=omp,mpi_run=mpi_run,executable='yambo',skip=True,verbose=True)\n",
    "#code.global_options()"
   ]
  },
  {
   "cell_type": "markdown",
   "metadata": {},
   "source": [
    "# Computation of the IP Absorption spectrum"
   ]
  },
  {
   "cell_type": "markdown",
   "metadata": {},
   "source": [
    "We compute the IP absorption spectrum using Yambo"
   ]
  },
  {
   "cell_type": "code",
   "execution_count": 5,
   "metadata": {},
   "outputs": [],
   "source": [
    "#source_dir = 'NSCF/bnds_16-kpoints_20.save'\n",
    "#run_dir = 'ABS_k20'\n",
    "\n",
    "#source_dir = 'NSCF/bnds_16-kpoints_100-sampling_random_close_Gamma.save'\n",
    "#run_dir = 'ABS_k100-random'\n",
    "\n",
    "source_dir = 'NSCF/bnds_16-kpoints_8.save'\n",
    "run_dir = 'ABS_k8'"
   ]
  },
  {
   "cell_type": "code",
   "execution_count": 6,
   "metadata": {},
   "outputs": [
    {
     "name": "stdout",
     "output_type": "stream",
     "text": [
      "Create folder ABS_k8\n",
      "Executing command: cd NSCF/bnds_16-kpoints_8.save; p2y -a 2\n",
      "Create a symlink of /home/marco/Data/RICERCA/DFT AND MANY BODY/OPTICAL ORIENTATION/Generation and decay of the degree of spin polarization in GaAs/NSCF/bnds_16-kpoints_8.save/SAVE in ABS_k8\n",
      "Executing command: cd ABS_k8;OMP_NUM_THREADS=1 yambo\n"
     ]
    }
   ],
   "source": [
    "#U.build_SAVE(source_dir,run_dir,command='p2y -nosym',make_link=True)\n",
    "U.build_SAVE(source_dir,run_dir,make_link=True)"
   ]
  },
  {
   "cell_type": "code",
   "execution_count": 53,
   "metadata": {},
   "outputs": [
    {
     "data": {
      "text/plain": [
       "{'args': 'yambo -o c',\n",
       " 'folder': 'ABS_k8',\n",
       " 'filename': 'yambo.in',\n",
       " 'arguments': ['chi', 'optics'],\n",
       " 'variables': {'DIP_Threads': [0.0, ''],\n",
       "  'X_Threads': [0.0, ''],\n",
       "  'ETStpsXd': [100.0, ''],\n",
       "  'Chimod': 'IP',\n",
       "  'QpntsRXd': [[1, 1], ''],\n",
       "  'BndsRnXd': [[5, 10], ''],\n",
       "  'EnRngeXd': [[0, 8], 'eV'],\n",
       "  'DmRngeXd': [[0.15, 0.15], 'eV'],\n",
       "  'LongDrXd': [[1.0, 1.0, 1.0], ''],\n",
       "  'XfnQP_E': [[0.5456, 1.0, 1.0], '']}}"
      ]
     },
     "execution_count": 53,
     "metadata": {},
     "output_type": "execute_result"
    }
   ],
   "source": [
    "inp = I.YamboInput('yambo -o c',folder=run_dir)\n",
    "inp['variables']['LongDrXd'] = [[1.00,1.00,1.00],''] # electric field\n",
    "inp['variables']['XfnQP_E'] = [[0.5456,1.00,1.00],''] # scissor\n",
    "inp['variables']['DmRngeXd'] = [[0.15,0.15],'eV'] # damping range\n",
    "inp['variables']['EnRngeXd'] = [[0,8],'eV'] # energy range\n",
    "inp['variables']['BndsRnXd'] = [[5,10],''] # bands used for transitions\n",
    "inp['variables']['QpntsRXd'] = [[1,1],''] # momentum transfer\n",
    "inp"
   ]
  },
  {
   "cell_type": "code",
   "execution_count": 55,
   "metadata": {},
   "outputs": [
    {
     "name": "stdout",
     "output_type": "stream",
     "text": [
      "delete folder: ABS_k8/ip_abs\n",
      "Executing command: cd ABS_k8; mpirun -np 16 yambo -F ip_abs.in -J ip_abs -C ip_abs\n",
      "run0_is_running:True  \n",
      "run0_is_running:True  \n",
      "Job completed\n"
     ]
    },
    {
     "data": {
      "text/plain": [
       "{'output': [['ABS_k8/ip_abs/o-ip_abs.eel_q1_ip',\n",
       "   'ABS_k8/ip_abs/o-ip_abs.eps_q1_ip']],\n",
       " 'dbs': ['ABS_k8/ip_abs']}"
      ]
     },
     "execution_count": 55,
     "metadata": {},
     "output_type": "execute_result"
    }
   ],
   "source": [
    "name = 'ip_abs'\n",
    "#name = 'hartree_abs'\n",
    "result = code.run(inputs=[inp],names=[name],run_dir=run_dir,skip=False)\n",
    "result"
   ]
  },
  {
   "cell_type": "code",
   "execution_count": 56,
   "metadata": {},
   "outputs": [],
   "source": [
    "data = P.YamboParser(result['output'][0])"
   ]
  },
  {
   "cell_type": "code",
   "execution_count": 57,
   "metadata": {},
   "outputs": [],
   "source": [
    "eps = data['eps_q1_ip']\n",
    "energy = eps['col0']\n",
    "eps_im = eps['col1']\n",
    "eps_re = eps['col2']"
   ]
  },
  {
   "cell_type": "code",
   "execution_count": 58,
   "metadata": {},
   "outputs": [
    {
     "data": {
      "text/plain": [
       "[<matplotlib.lines.Line2D at 0x7fb5d97f3128>]"
      ]
     },
     "execution_count": 58,
     "metadata": {},
     "output_type": "execute_result"
    },
    {
     "data": {
      "image/png": "[encoded data removed]",
      "text/plain": [
       "<Figure size 432x288 with 1 Axes>"
      ]
     },
     "metadata": {},
     "output_type": "display_data"
    }
   ],
   "source": [
    "plt.plot(energy,eps_im)"
   ]
  },
  {
   "cell_type": "markdown",
   "metadata": {},
   "source": [
    "We can compare the height of this peak with the corresponding one of the absorption spectrum computed\n",
    "on the whole BZ. To do so (using the same value of eta!!!) we have to normalize the peak with the ratio\n",
    "of the volume of the Kpump region w.r.t the one of full BZ.\n",
    "\n",
    "In units of 2pi/alat the volume of the BZ is 1/4. The one of the kpump is (0.05)^3"
   ]
  },
  {
   "cell_type": "code",
   "execution_count": 76,
   "metadata": {},
   "outputs": [
    {
     "data": {
      "text/plain": [
       "0.0005000000000000001"
      ]
     },
     "execution_count": 76,
     "metadata": {},
     "output_type": "execute_result"
    }
   ],
   "source": [
    "4*0.05**3"
   ]
  },
  {
   "cell_type": "code",
   "execution_count": 77,
   "metadata": {},
   "outputs": [
    {
     "data": {
      "text/plain": [
       "1.25"
      ]
     },
     "execution_count": 77,
     "metadata": {},
     "output_type": "execute_result"
    }
   ],
   "source": [
    "2500*0.0005"
   ]
  },
  {
   "cell_type": "markdown",
   "metadata": {},
   "source": [
    "The _true_ height of the peak is 1.25 and matches with the value obtained in the full BZ "
   ]
  },
  {
   "cell_type": "code",
   "execution_count": 79,
   "metadata": {},
   "outputs": [],
   "source": [
    "data_20 = P.YamboParser.from_path('ABS_k20/ip_abs')"
   ]
  },
  {
   "cell_type": "code",
   "execution_count": 80,
   "metadata": {},
   "outputs": [],
   "source": [
    "eps = data_20['eps_q1_ip']\n",
    "energy = eps['col0']\n",
    "eps_im = eps['col1']\n",
    "eps_re = eps['col2']"
   ]
  },
  {
   "cell_type": "code",
   "execution_count": 83,
   "metadata": {},
   "outputs": [
    {
     "data": {
      "text/plain": [
       "[<matplotlib.lines.Line2D at 0x7ff6556fd198>]"
      ]
     },
     "execution_count": 83,
     "metadata": {},
     "output_type": "execute_result"
    },
    {
     "data": {
      "image/png": "[encoded data removed]",
      "text/plain": [
       "<Figure size 432x288 with 1 Axes>"
      ]
     },
     "metadata": {
      "needs_background": "light"
     },
     "output_type": "display_data"
    }
   ],
   "source": [
    "plt.plot(energy,eps_im)\n",
    "#plt.xlim(0,2)\n",
    "#plt.ylim(0,5)"
   ]
  },
  {
   "cell_type": "markdown",
   "metadata": {},
   "source": [
    "## IP vs Hartree or ALDA"
   ]
  },
  {
   "cell_type": "code",
   "execution_count": 84,
   "metadata": {},
   "outputs": [
    {
     "data": {
      "text/plain": [
       "{'args': 'yambo -o c -k Hartree',\n",
       " 'folder': 'ABS_k8',\n",
       " 'filename': 'yambo.in',\n",
       " 'arguments': ['chi', 'optics'],\n",
       " 'variables': {'DIP_Threads': [0.0, ''],\n",
       "  'X_Threads': [0.0, ''],\n",
       "  'NGsBlkXd': [3.0, 'Ha'],\n",
       "  'ETStpsXd': [100.0, ''],\n",
       "  'Chimod': 'HARTREE',\n",
       "  'QpntsRXd': [[1, 1], ''],\n",
       "  'BndsRnXd': [[5, 10], ''],\n",
       "  'EnRngeXd': [[0, 8], 'eV'],\n",
       "  'DmRngeXd': [[0.15, 0.15], 'eV'],\n",
       "  'LongDrXd': [[1.0, 1.0, 1.0], ''],\n",
       "  'XfnQP_E': [[0.5456, 1.0, 1.0], '']}}"
      ]
     },
     "execution_count": 84,
     "metadata": {},
     "output_type": "execute_result"
    }
   ],
   "source": [
    "inp = I.YamboInput('yambo -o c -k Hartree',folder=run_dir)\n",
    "inp['variables']['LongDrXd'] = [[1.00,1.00,1.00],''] # electric field\n",
    "inp['variables']['XfnQP_E'] = [[0.5456,1.00,1.00],''] # scissor\n",
    "inp['variables']['DmRngeXd'] = [[0.15,0.15],'eV'] # damping range\n",
    "inp['variables']['EnRngeXd'] = [[0,8],'eV'] # energy range\n",
    "inp['variables']['BndsRnXd'] = [[5,10],''] # bands used for transitions\n",
    "inp['variables']['QpntsRXd'] = [[1,1],''] # momentum transfer\n",
    "inp['variables']['NGsBlkXd'] = [3.0,'Ha'] #  Number of G-vectors or energy cut off in the screening (response block size)\n",
    "inp"
   ]
  },
  {
   "cell_type": "code",
   "execution_count": 85,
   "metadata": {},
   "outputs": [
    {
     "name": "stdout",
     "output_type": "stream",
     "text": [
      "delete folder: ABS_k8/hartree_abs\n",
      "Executing command: cd ABS_k8; mpirun -np 16 yambo -F hartree_abs.in -J hartree_abs -C hartree_abs\n",
      "run0_is_running:True  \n",
      "run0_is_running:True  \n",
      "run0_is_running:True  \n",
      "Job completed\n"
     ]
    },
    {
     "data": {
      "text/plain": [
       "{'output': [['ABS_k8/hartree_abs/o-hartree_abs.eps_q1_inv_rpa_dyson',\n",
       "   'ABS_k8/hartree_abs/o-hartree_abs.eel_q1_inv_rpa_dyson']],\n",
       " 'dbs': ['ABS_k8/hartree_abs']}"
      ]
     },
     "execution_count": 85,
     "metadata": {},
     "output_type": "execute_result"
    }
   ],
   "source": [
    "name = 'hartree_abs'\n",
    "result = code.run(inputs=[inp],names=[name],run_dir=run_dir,skip=False)\n",
    "result"
   ]
  },
  {
   "cell_type": "code",
   "execution_count": 86,
   "metadata": {},
   "outputs": [],
   "source": [
    "data = P.YamboParser(result['output'][0])"
   ]
  },
  {
   "cell_type": "code",
   "execution_count": 87,
   "metadata": {},
   "outputs": [],
   "source": [
    "eps_hartree = data['eps_q1_inv_rpa_dyson']\n",
    "energy_hartree = eps['col0']\n",
    "eps_im_hartree = eps['col1']\n",
    "eps_re_hartree = eps['col2']"
   ]
  },
  {
   "cell_type": "code",
   "execution_count": 88,
   "metadata": {},
   "outputs": [
    {
     "data": {
      "text/plain": [
       "<matplotlib.legend.Legend at 0x7fb5d95de4e0>"
      ]
     },
     "execution_count": 88,
     "metadata": {},
     "output_type": "execute_result"
    },
    {
     "data": {
      "image/png": "[encoded data removed]",
      "text/plain": [
       "<Figure size 432x288 with 1 Axes>"
      ]
     },
     "metadata": {},
     "output_type": "display_data"
    }
   ],
   "source": [
    "plt.plot(energy,eps_im,label='ip')\n",
    "plt.plot(energy_hartree,eps_im_hartree,label='Hartree')\n",
    "plt.legend()"
   ]
  },
  {
   "cell_type": "code",
   "execution_count": 73,
   "metadata": {},
   "outputs": [
    {
     "data": {
      "text/plain": [
       "{'args': 'yambo -o c -k alda',\n",
       " 'folder': 'ABS_k8',\n",
       " 'filename': 'yambo.in',\n",
       " 'arguments': ['chi', 'optics'],\n",
       " 'variables': {'X_Threads': [0.0, ''],\n",
       "  'DIP_Threads': [0.0, ''],\n",
       "  'FxcGRLc': [1.0, 'RL'],\n",
       "  'NGsBlkXd': [1.0, 'RL'],\n",
       "  'ETStpsXd': [100.0, ''],\n",
       "  'Chimod': 'ALDA',\n",
       "  'QpntsRXd': [[1, 1], ''],\n",
       "  'BndsRnXd': [[5, 10], ''],\n",
       "  'EnRngeXd': [[0, 8], 'eV'],\n",
       "  'DmRngeXd': [[0.15, 0.15], 'eV'],\n",
       "  'LongDrXd': [[1.0, 1.0, 1.0], ''],\n",
       "  'XfnQP_E': [[0.5456, 1.0, 1.0], '']}}"
      ]
     },
     "execution_count": 73,
     "metadata": {},
     "output_type": "execute_result"
    }
   ],
   "source": [
    "inp = I.YamboInput('yambo -o c -k alda',folder=run_dir)\n",
    "inp['variables']['LongDrXd'] = [[1.00,1.00,1.00],''] # electric field\n",
    "inp['variables']['XfnQP_E'] = [[0.5456,1.00,1.00],''] # scissor\n",
    "inp['variables']['DmRngeXd'] = [[0.15,0.15],'eV'] # damping range\n",
    "inp['variables']['EnRngeXd'] = [[0,8],'eV'] # energy range\n",
    "inp['variables']['BndsRnXd'] = [[5,10],''] # bands used for transitions\n",
    "inp['variables']['QpntsRXd'] = [[1,1],''] # momentum transfer\n",
    "inp"
   ]
  },
  {
   "cell_type": "code",
   "execution_count": 77,
   "metadata": {},
   "outputs": [
    {
     "name": "stdout",
     "output_type": "stream",
     "text": [
      "Executing command: cd ABS_k8; mpirun -np 16 yambo -F alda_abs.in -J alda_abs -C alda_abs\n",
      "run0_is_running:True  \n",
      "Job completed\n"
     ]
    },
    {
     "data": {
      "text/plain": [
       "{'output': [[]], 'dbs': ['ABS_k8/alda_abs']}"
      ]
     },
     "execution_count": 77,
     "metadata": {},
     "output_type": "execute_result"
    }
   ],
   "source": [
    "name = 'alda_abs'\n",
    "result = code.run(inputs=[inp],names=[name],run_dir=run_dir,skip=False)\n",
    "result"
   ]
  },
  {
   "cell_type": "code",
   "execution_count": 75,
   "metadata": {},
   "outputs": [],
   "source": [
    "data = P.YamboParser(result['output'][0])"
   ]
  },
  {
   "cell_type": "code",
   "execution_count": 76,
   "metadata": {},
   "outputs": [
    {
     "ename": "KeyError",
     "evalue": "'eps_q1_inv_rpa_dyson'",
     "output_type": "error",
     "traceback": [
      "\u001b[0;31m---------------------------------------------------------------------------\u001b[0m",
      "\u001b[0;31mKeyError\u001b[0m                                  Traceback (most recent call last)",
      "\u001b[0;32m<ipython-input-76-8817b5c18da6>\u001b[0m in \u001b[0;36m<module>\u001b[0;34m()\u001b[0m\n\u001b[0;32m----> 1\u001b[0;31m \u001b[0meps_alda\u001b[0m \u001b[0;34m=\u001b[0m \u001b[0mdata\u001b[0m\u001b[0;34m[\u001b[0m\u001b[0;34m'eps_q1_inv_rpa_dyson'\u001b[0m\u001b[0;34m]\u001b[0m\u001b[0;34m\u001b[0m\u001b[0;34m\u001b[0m\u001b[0m\n\u001b[0m\u001b[1;32m      2\u001b[0m \u001b[0menergy_alda\u001b[0m \u001b[0;34m=\u001b[0m \u001b[0meps\u001b[0m\u001b[0;34m[\u001b[0m\u001b[0;34m'col0'\u001b[0m\u001b[0;34m]\u001b[0m\u001b[0;34m\u001b[0m\u001b[0;34m\u001b[0m\u001b[0m\n\u001b[1;32m      3\u001b[0m \u001b[0meps_im_alda\u001b[0m \u001b[0;34m=\u001b[0m \u001b[0meps\u001b[0m\u001b[0;34m[\u001b[0m\u001b[0;34m'col1'\u001b[0m\u001b[0;34m]\u001b[0m\u001b[0;34m\u001b[0m\u001b[0;34m\u001b[0m\u001b[0m\n\u001b[1;32m      4\u001b[0m \u001b[0meps_re_alda\u001b[0m \u001b[0;34m=\u001b[0m \u001b[0meps\u001b[0m\u001b[0;34m[\u001b[0m\u001b[0;34m'col2'\u001b[0m\u001b[0;34m]\u001b[0m\u001b[0;34m\u001b[0m\u001b[0;34m\u001b[0m\u001b[0m\n",
      "\u001b[0;31mKeyError\u001b[0m: 'eps_q1_inv_rpa_dyson'"
     ]
    }
   ],
   "source": [
    "eps_alda = data['eps_q1_inv_rpa_dyson']\n",
    "energy_alda = eps['col0']\n",
    "eps_im_alda = eps['col1']\n",
    "eps_re_alda = eps['col2']"
   ]
  },
  {
   "cell_type": "code",
   "execution_count": 71,
   "metadata": {},
   "outputs": [
    {
     "data": {
      "text/plain": [
       "<matplotlib.legend.Legend at 0x7fb5d96e75f8>"
      ]
     },
     "execution_count": 71,
     "metadata": {},
     "output_type": "execute_result"
    },
    {
     "data": {
      "image/png": "[encoded data removed]",
      "text/plain": [
       "<Figure size 432x288 with 1 Axes>"
      ]
     },
     "metadata": {},
     "output_type": "display_data"
    }
   ],
   "source": [
    "plt.plot(energy,eps_im,label='ip')\n",
    "plt.plot(energy_hartree,eps_im_hartree,label='Hartree')\n",
    "plt.plot(energy_alda,eps_im_alda,label='alda')\n",
    "plt.legend()"
   ]
  },
  {
   "cell_type": "code",
   "execution_count": null,
   "metadata": {},
   "outputs": [],
   "source": []
  },
  {
   "cell_type": "code",
   "execution_count": null,
   "metadata": {},
   "outputs": [],
   "source": []
  },
  {
   "cell_type": "code",
   "execution_count": null,
   "metadata": {},
   "outputs": [],
   "source": []
  },
  {
   "cell_type": "code",
   "execution_count": null,
   "metadata": {},
   "outputs": [],
   "source": []
  },
  {
   "cell_type": "code",
   "execution_count": null,
   "metadata": {},
   "outputs": [],
   "source": []
  },
  {
   "cell_type": "code",
   "execution_count": null,
   "metadata": {},
   "outputs": [],
   "source": []
  },
  {
   "cell_type": "code",
   "execution_count": null,
   "metadata": {},
   "outputs": [],
   "source": [
    "##########################################################################################à"
   ]
  },
  {
   "cell_type": "code",
   "execution_count": 38,
   "metadata": {},
   "outputs": [],
   "source": [
    "file_ip = 'ABS_k8/ip_abs/o-ip_abs.eps_q1_ip'\n",
    "file_hartree = 'ABS_k8/hartree_abs/o-hartree_abs.eps_q1_inv_rpa_dyson'"
   ]
  },
  {
   "cell_type": "code",
   "execution_count": 45,
   "metadata": {},
   "outputs": [],
   "source": [
    "data_ip = P.YamboParser([file_ip])['eps_q1_ip']\n",
    "data_hartree = P.YamboParser([file_hartree])['eps_q1_inv_rpa_dyson']"
   ]
  },
  {
   "cell_type": "code",
   "execution_count": 49,
   "metadata": {},
   "outputs": [],
   "source": [
    "eng_ip = data_ip['col0']\n",
    "eps_ip = data_ip['col1']\n",
    "eng_hartree = data_hartree['col0']\n",
    "eps_hartree = data_hartree['col1']"
   ]
  },
  {
   "cell_type": "code",
   "execution_count": 50,
   "metadata": {},
   "outputs": [
    {
     "data": {
      "text/plain": [
       "[<matplotlib.lines.Line2D at 0x7fb5d9868160>]"
      ]
     },
     "execution_count": 50,
     "metadata": {},
     "output_type": "execute_result"
    },
    {
     "data": {
      "image/png": "[encoded data removed]",
      "text/plain": [
       "<Figure size 432x288 with 1 Axes>"
      ]
     },
     "metadata": {},
     "output_type": "display_data"
    }
   ],
   "source": [
    "plt.plot(eng_ip,eps_ip)\n",
    "plt.plot(eng_hartree,eps_hartree)"
   ]
  },
  {
   "cell_type": "code",
   "execution_count": null,
   "metadata": {},
   "outputs": [],
   "source": []
  }
 ],
 "metadata": {
  "kernelspec": {
   "display_name": "Python 3",
   "language": "python",
   "name": "python3"
  },
  "language_info": {
   "codemirror_mode": {
    "name": "ipython",
    "version": 3
   },
   "file_extension": ".py",
   "mimetype": "text/x-python",
   "name": "python",
   "nbconvert_exporter": "python",
   "pygments_lexer": "ipython3",
   "version": "3.6.9"
  }
 },
 "nbformat": 4,
 "nbformat_minor": 4
}
