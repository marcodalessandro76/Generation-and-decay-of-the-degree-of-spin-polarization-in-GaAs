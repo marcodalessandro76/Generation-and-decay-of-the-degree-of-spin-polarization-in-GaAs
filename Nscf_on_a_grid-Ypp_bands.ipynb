{
 "cells": [
  {
   "cell_type": "code",
   "execution_count": 1,
   "metadata": {},
   "outputs": [],
   "source": [
    "import numpy as np\n",
    "import os\n",
    "import matplotlib.pyplot as plt\n",
    "from mppi import InputFiles as I, Calculators as C, Datasets as D"
   ]
  },
  {
   "cell_type": "code",
   "execution_count": 2,
   "metadata": {},
   "outputs": [],
   "source": [
    "omp = 1\n",
    "mpi_run = 'mpirun -np 16'"
   ]
  },
  {
   "cell_type": "markdown",
   "metadata": {},
   "source": [
    "# Nscf on a grid - Ypp bands"
   ]
  },
  {
   "cell_type": "markdown",
   "metadata": {},
   "source": [
    "In this nb we perform (several) nscf computation on a regular grid and reproduce the ks bands using ypp. In this way we can perform a check on the dimension of the k grid that will be used in the subsequent yambo real time computations. \n",
    "\n",
    "This framework allows us also to use yambo scissor to open the ks band-gap.\n",
    "\n",
    "We also include the presence of a shift in the k-points sampling. We will then compare the ip absorption spectrum obtained with the various sampling the understand which sampling is needed to obtain reliable results in the RT analysis"
   ]
  },
  {
   "cell_type": "markdown",
   "metadata": {},
   "source": [
    "We define the basic elements of the input"
   ]
  },
  {
   "cell_type": "code",
   "execution_count": 3,
   "metadata": {},
   "outputs": [],
   "source": [
    "input = I.PwIn()\n",
    "Ga = [0.,0.,0.]\n",
    "As = [0.25,0.25,0.25]\n",
    "\n",
    "input.set_pseudo_dir('../pseudos')\n",
    "input.set_calculation('nscf')\n",
    "\n",
    "input.set_occupations('fixed')\n",
    "input.system['ibrav'] = 2\n",
    "input.system['celldm(1)'] = 10.677\n",
    "input.system['noncolin'] = '.true'\n",
    "input.system['lspinorb'] = '.true'\n",
    "input.set_atoms_type(2)\n",
    "input.set_atoms_number(2)\n",
    "input.set_atoms_position(pos_type='crystal',pos_list=[['Ga',Ga],['As',As]])\n",
    "input.atypes = {'Ga': [69.72,'Ga_rel.pz-rrkj3.UPF'],\\\n",
    "                'As': [74.92,'As_rel.pz-rrkj3.UPF']}\n",
    "input.set_convergence_thr(1e-8)"
   ]
  },
  {
   "cell_type": "markdown",
   "metadata": {},
   "source": [
    "On this basis of the gs_convergence analysis previously performed we choose the scf converged parameters:"
   ]
  },
  {
   "cell_type": "code",
   "execution_count": 4,
   "metadata": {},
   "outputs": [],
   "source": [
    "k_conv = 6\n",
    "ecut_conv = 80"
   ]
  },
  {
   "cell_type": "markdown",
   "metadata": {},
   "source": [
    "and we perform the nscf computations using a number of bands given by:"
   ]
  },
  {
   "cell_type": "code",
   "execution_count": 5,
   "metadata": {},
   "outputs": [],
   "source": [
    "numBands = 40"
   ]
  },
  {
   "cell_type": "code",
   "execution_count": 6,
   "metadata": {},
   "outputs": [
    {
     "name": "stdout",
     "output_type": "stream",
     "text": [
      "Initialize a qe calculator with command OMP_NUM_THREADS=1 mpirun -np 16 pw.x\n"
     ]
    }
   ],
   "source": [
    "code = C.QeCalculator(omp=omp,mpi_run=mpi_run,executable='pw.x',verbose=True,skip=True)"
   ]
  },
  {
   "cell_type": "markdown",
   "metadata": {},
   "source": [
    "## Set for nscf computations on grids of various dimensions"
   ]
  },
  {
   "cell_type": "code",
   "execution_count": 7,
   "metadata": {},
   "outputs": [],
   "source": [
    "nscf_kvalues = [4,6,8,10,12,20]"
   ]
  },
  {
   "cell_type": "code",
   "execution_count": 8,
   "metadata": {},
   "outputs": [],
   "source": [
    "bnds_study = D.Dataset(label='nscf',run_dir='nscf',pre_processing='nscf')"
   ]
  },
  {
   "cell_type": "code",
   "execution_count": 9,
   "metadata": {},
   "outputs": [],
   "source": [
    "input.system['nbnd'] = numBands\n",
    "for k  in nscf_kvalues:\n",
    "    idd = {'bnds' : numBands, 'kpoints' : k} \n",
    "    input.set_prefix(D.name_from_id(idd))\n",
    "    input.set_energy_cutoff(ecut_conv)\n",
    "    input.set_kpoints(ktype='automatic',kpoints=[k,k,k])\n",
    "    bnds_study.append_run(id=idd,calculator=code,input=input)"
   ]
  },
  {
   "cell_type": "markdown",
   "metadata": {},
   "source": [
    "Apply the pre-processing"
   ]
  },
  {
   "cell_type": "code",
   "execution_count": 10,
   "metadata": {},
   "outputs": [],
   "source": [
    "source = 'gs_convergence/ecut_%s-k_%s.save'%(ecut_conv,k_conv)"
   ]
  },
  {
   "cell_type": "code",
   "execution_count": 11,
   "metadata": {
    "scrolled": true
   },
   "outputs": [
    {
     "name": "stdout",
     "output_type": "stream",
     "text": [
      "Folder nscf already exists\n",
      "nscf .save folder exsists. gs_convergence/ecut_80-k_6.save not copied\n",
      "nscf .save folder exsists. gs_convergence/ecut_80-k_6.save not copied\n",
      "nscf .save folder exsists. gs_convergence/ecut_80-k_6.save not copied\n",
      "nscf .save folder exsists. gs_convergence/ecut_80-k_6.save not copied\n",
      "nscf .save folder exsists. gs_convergence/ecut_80-k_6.save not copied\n",
      "nscf .save folder exsists. gs_convergence/ecut_80-k_6.save not copied\n"
     ]
    }
   ],
   "source": [
    "bnds_study.pre_processing_function(source_dir=source)"
   ]
  },
  {
   "cell_type": "code",
   "execution_count": 12,
   "metadata": {},
   "outputs": [
    {
     "name": "stdout",
     "output_type": "stream",
     "text": [
      "skip the computation for : bnds_40-kpoints_4.in\n",
      "parse file : nscf/bnds_40-kpoints_4.save/data-file-schema.xml\n",
      "skip the computation for : bnds_40-kpoints_6.in\n",
      "parse file : nscf/bnds_40-kpoints_6.save/data-file-schema.xml\n",
      "skip the computation for : bnds_40-kpoints_8.in\n",
      "parse file : nscf/bnds_40-kpoints_8.save/data-file-schema.xml\n",
      "skip the computation for : bnds_40-kpoints_10.in\n",
      "parse file : nscf/bnds_40-kpoints_10.save/data-file-schema.xml\n",
      "skip the computation for : bnds_40-kpoints_12.in\n",
      "parse file : nscf/bnds_40-kpoints_12.save/data-file-schema.xml\n",
      "skip the computation for : bnds_40-kpoints_20.in\n",
      "parse file : nscf/bnds_40-kpoints_20.save/data-file-schema.xml\n"
     ]
    }
   ],
   "source": [
    "bnds_study.run()"
   ]
  },
  {
   "cell_type": "markdown",
   "metadata": {},
   "source": [
    "### Energy gap for each k"
   ]
  },
  {
   "cell_type": "code",
   "execution_count": 28,
   "metadata": {},
   "outputs": [],
   "source": [
    "results = bnds_study.fetch_results(id={'kpoints' : 8})[0]\n",
    "bands = results.band_structure(plot=False)\n",
    "k_values = bands[:,0] # position on the path\n",
    "kpoints_cart = results.kpt_cart # cartesian position for each value on the path"
   ]
  },
  {
   "cell_type": "code",
   "execution_count": 29,
   "metadata": {},
   "outputs": [
    {
     "name": "stdout",
     "output_type": "stream",
     "text": [
      "[0. 0. 0.] 1.418006297103469\n",
      "[-0.125  0.125 -0.125] 2.7219525960929856\n",
      "[-0.25  0.25 -0.25] 2.9786929973100307\n",
      "[-0.375  0.375 -0.375] 2.9564558444492772\n",
      "[ 0.5 -0.5  0.5] 2.941062143750819\n"
     ]
    }
   ],
   "source": [
    "gap = 1.0+bands[:,9]-bands[:,7]\n",
    "for ind in range(len(k_values)):\n",
    "    if gap[ind] < 3.0: print(kpoints_cart[ind],gap[ind])"
   ]
  },
  {
   "cell_type": "markdown",
   "metadata": {},
   "source": [
    "### Setup for nscf computations on shifted grids"
   ]
  },
  {
   "cell_type": "code",
   "execution_count": 30,
   "metadata": {},
   "outputs": [],
   "source": [
    "nscf_kvalues = [8,10,12]\n",
    "s = [1,1,1]"
   ]
  },
  {
   "cell_type": "code",
   "execution_count": 31,
   "metadata": {},
   "outputs": [],
   "source": [
    "bnds_study = D.Dataset(label='nscf',run_dir='nscf',pre_processing='nscf')"
   ]
  },
  {
   "cell_type": "code",
   "execution_count": 32,
   "metadata": {},
   "outputs": [],
   "source": [
    "input.system['nbnd'] = numBands\n",
    "for k  in nscf_kvalues:\n",
    "    idd = {'bnds' : numBands, 'kpoints' : k, 'shift' : 1} \n",
    "    input.set_prefix(D.name_from_id(idd))\n",
    "    input.set_energy_cutoff(ecut_conv)\n",
    "    input.set_kpoints(ktype='automatic',kpoints=[k,k,k],shiftk=s)\n",
    "    bnds_study.append_run(id=idd,calculator=code,input=input)"
   ]
  },
  {
   "cell_type": "code",
   "execution_count": 33,
   "metadata": {},
   "outputs": [
    {
     "name": "stdout",
     "output_type": "stream",
     "text": [
      "Folder nscf already exists\n",
      "nscf .save folder exsists. gs_convergence/ecut_80-k_6.save not copied\n",
      "nscf .save folder exsists. gs_convergence/ecut_80-k_6.save not copied\n",
      "nscf .save folder exsists. gs_convergence/ecut_80-k_6.save not copied\n"
     ]
    }
   ],
   "source": [
    "source = 'gs_convergence/ecut_%s-k_%s.save'%(ecut_conv,k_conv)\n",
    "bnds_study.pre_processing_function(source_dir=source)"
   ]
  },
  {
   "cell_type": "code",
   "execution_count": 34,
   "metadata": {},
   "outputs": [
    {
     "name": "stdout",
     "output_type": "stream",
     "text": [
      "skip the computation for : bnds_40-kpoints_8-shift_1.in\n",
      "parse file : nscf/bnds_40-kpoints_8-shift_1.save/data-file-schema.xml\n",
      "skip the computation for : bnds_40-kpoints_10-shift_1.in\n",
      "parse file : nscf/bnds_40-kpoints_10-shift_1.save/data-file-schema.xml\n",
      "skip the computation for : bnds_40-kpoints_12-shift_1.in\n",
      "parse file : nscf/bnds_40-kpoints_12-shift_1.save/data-file-schema.xml\n"
     ]
    }
   ],
   "source": [
    "bnds_study.run()"
   ]
  },
  {
   "cell_type": "markdown",
   "metadata": {},
   "source": [
    "### Energy gap for each k"
   ]
  },
  {
   "cell_type": "code",
   "execution_count": 39,
   "metadata": {},
   "outputs": [],
   "source": [
    "results = bnds_study.fetch_results(id={'kpoints' : 12})[0]\n",
    "bands = results.band_structure(plot=False)\n",
    "k_values = bands[:,0] # position on the path\n",
    "kpoints_cart = results.kpt_cart # cartesian position for each value on the path"
   ]
  },
  {
   "cell_type": "code",
   "execution_count": 40,
   "metadata": {},
   "outputs": [
    {
     "name": "stdout",
     "output_type": "stream",
     "text": [
      "[-0.04166667  0.04166667  0.04166667] 1.8592888075624767\n",
      "[-0.125       0.125      -0.04166667] 2.6469310284565397\n",
      "[ 0.04166667 -0.04166667  0.125     ] 2.5094383193863594\n",
      "[-0.125  0.125  0.125] 2.7219525960920343\n",
      "[-0.20833333  0.20833333  0.20833333] 2.9614092776986647\n",
      "[-0.29166667  0.29166667  0.29166667] 2.9759930402493806\n",
      "[-0.375  0.375  0.375] 2.9564558444497906\n",
      "[-0.45833333  0.45833333  0.45833333] 2.9428648209594948\n"
     ]
    }
   ],
   "source": [
    "gap = 1.0+bands[:,9]-bands[:,7]\n",
    "for ind in range(len(k_values)):\n",
    "    if gap[ind] < 3.0: print(kpoints_cart[ind],gap[ind])"
   ]
  },
  {
   "cell_type": "markdown",
   "metadata": {},
   "source": [
    "### Setup the nscf on a random grids in the region close to Gamma"
   ]
  },
  {
   "cell_type": "code",
   "execution_count": 41,
   "metadata": {},
   "outputs": [],
   "source": [
    "import random as rand\n",
    "num_kpoints = 100\n",
    "k_span = 0.1\n",
    "weight = 1."
   ]
  },
  {
   "cell_type": "code",
   "execution_count": 42,
   "metadata": {},
   "outputs": [],
   "source": [
    "klist = []\n",
    "for n in range(num_kpoints):\n",
    "    k_rand = [k_span*(rand.random()-0.5) for ind in range(3)] + [weight]\n",
    "    klist.append(k_rand)"
   ]
  },
  {
   "cell_type": "code",
   "execution_count": 43,
   "metadata": {},
   "outputs": [],
   "source": [
    "bnds_study = D.Dataset(label='nscf',run_dir='nscf',pre_processing='nscf')"
   ]
  },
  {
   "cell_type": "code",
   "execution_count": 44,
   "metadata": {},
   "outputs": [],
   "source": [
    "input.system['nbnd'] = numBands\n",
    "idd = {'bnds' : numBands, 'kpoints' : num_kpoints, 'sampling' : 'random'} \n",
    "input.set_prefix(D.name_from_id(idd))\n",
    "input.set_energy_cutoff(ecut_conv)\n",
    "input.set_kpoints(ktype='tpiba',klist=klist)\n",
    "bnds_study.append_run(id=idd,calculator=code,input=input)"
   ]
  },
  {
   "cell_type": "code",
   "execution_count": 45,
   "metadata": {},
   "outputs": [],
   "source": [
    "#print(random_study.runs[0])"
   ]
  },
  {
   "cell_type": "code",
   "execution_count": 46,
   "metadata": {},
   "outputs": [
    {
     "data": {
      "image/png": "[encoded data removed]",
      "text/plain": [
       "<Figure size 432x288 with 1 Axes>"
      ]
     },
     "metadata": {
      "needs_background": "light"
     },
     "output_type": "display_data"
    }
   ],
   "source": [
    "for ind,k in enumerate(klist):\n",
    "    plt.scatter(ind,k[0])"
   ]
  },
  {
   "cell_type": "markdown",
   "metadata": {},
   "source": [
    "Apply the pre-processing"
   ]
  },
  {
   "cell_type": "code",
   "execution_count": 47,
   "metadata": {},
   "outputs": [],
   "source": [
    "source = 'gs_convergence/ecut_%s-k_%s.save'%(ecut_conv,k_conv)"
   ]
  },
  {
   "cell_type": "code",
   "execution_count": 48,
   "metadata": {
    "scrolled": true
   },
   "outputs": [
    {
     "name": "stdout",
     "output_type": "stream",
     "text": [
      "Folder nscf already exists\n",
      "nscf .save folder exsists. gs_convergence/ecut_80-k_6.save not copied\n"
     ]
    }
   ],
   "source": [
    "bnds_study.pre_processing_function(source_dir=source)"
   ]
  },
  {
   "cell_type": "code",
   "execution_count": 49,
   "metadata": {},
   "outputs": [
    {
     "name": "stdout",
     "output_type": "stream",
     "text": [
      "skip the computation for : bnds_40-kpoints_100-sampling_random.in\n",
      "parse file : nscf/bnds_40-kpoints_100-sampling_random.save/data-file-schema.xml\n"
     ]
    }
   ],
   "source": [
    "bnds_study.run()"
   ]
  },
  {
   "cell_type": "markdown",
   "metadata": {},
   "source": [
    "### Energy gap for each k"
   ]
  },
  {
   "cell_type": "code",
   "execution_count": 51,
   "metadata": {},
   "outputs": [],
   "source": [
    "results = bnds_study.fetch_results(id={'kpoints' : 100})[0]\n",
    "bands = results.band_structure(plot=False)\n",
    "k_values = bands[:,0] # position on the path\n",
    "kpoints_cart = results.kpt_cart # cartesian position for each value on the path"
   ]
  },
  {
   "cell_type": "code",
   "execution_count": 53,
   "metadata": {
    "scrolled": true
   },
   "outputs": [
    {
     "name": "stdout",
     "output_type": "stream",
     "text": [
      "[-0.01278642  0.00131419 -0.03692028] 1.6174884133908352\n",
      "[ 0.02646098 -0.00891092  0.01116283] 1.5452834230252854\n",
      "[-0.03430158  0.04715978 -0.03309002] 1.8218258972240413\n",
      "[ 0.02255488  0.01187188 -0.04076938] 1.6813611101770833\n",
      "[-0.02191683  0.03331801  0.02740873] 1.6752960998589552\n",
      "[ 0.0304125  -0.04032259 -0.04328747] 1.8162364496487422\n",
      "[-0.03792962 -0.02790043  0.04401596] 1.8010371099866722\n",
      "[ 0.0210096  -0.00859063  0.02189669] 1.5523056754385793\n",
      "[-0.0440291   0.02304338  0.00459638] 1.7001517321774529\n",
      "[ 0.00040031  0.01577874 -0.04296778] 1.672154516117339\n",
      "[ 0.00511147  0.04764649 -0.04687314] 1.83015758249274\n",
      "[-0.03891605  0.03763069 -0.0236825 ] 1.7589008190954036\n",
      "[ 0.03362864 -0.04604895 -0.01964433] 1.7733275645520505\n",
      "[-0.04239022  0.00691856 -0.00792973] 1.658416690933315\n",
      "[-0.00695673  0.00347221 -0.0184945 ] 1.4819702254537779\n",
      "[0.0098148  0.02907095 0.03164182] 1.644840869279764\n",
      "[-0.03646972 -0.01488511  0.04053202] 1.742009844001828\n",
      "[ 0.04518465 -0.025388   -0.02744162] 1.7594892122302506\n",
      "[ 0.03983713 -0.02005496 -0.00690885] 1.6607280694191973\n",
      "[-0.04653251 -0.00146953  0.00903025] 1.6928324019711685\n",
      "[-0.03891699  0.01214595  0.03961034] 1.7452689371993948\n",
      "[ 0.00918973  0.02350278 -0.00146269] 1.5144109480200036\n",
      "[-0.03245898  0.02744415 -0.0140443 ] 1.6493154246170656\n",
      "[-0.01006117  0.02251589  0.00450072] 1.5121109721713273\n",
      "[0.04014491 0.01154225 0.04611377] 1.7899416122309795\n",
      "[ 0.02420463 -0.03270172  0.03052639] 1.693636834391481\n",
      "[-0.00798451 -0.01219436 -0.04932086] 1.7242143025375638\n",
      "[0.01441872 0.03346837 0.00671818] 1.598110957069525\n",
      "[-0.02596822 -0.03167901  0.01021179] 1.6309219073159982\n",
      "[-0.02099403 -0.04290741 -0.03541865] 1.764034824793952\n",
      "[ 0.00189668 -0.008024   -0.01404976] 1.4612321190351754\n",
      "[-0.00978083 -0.01537788 -0.0378958 ] 1.63721812152136\n",
      "[ 0.04309647 -0.02023393 -0.04037671] 1.7874111846134477\n",
      "[ 0.02399375 -0.03037513  0.04626448] 1.7728886152560417\n",
      "[ 0.00758459 -0.03998929 -0.02300157] 1.6715875652838754\n",
      "[ 0.04108237 -0.01466872 -0.01965999] 1.6801284140941783\n",
      "[ 0.01806922 -0.04915166  0.04493323] 1.8423027449077924\n",
      "[ 0.03041976 -0.03493707  0.00453097] 1.6654394211605528\n",
      "[-0.01279154 -0.02847582  0.03949314] 1.695302186590438\n",
      "[-0.02341065 -0.00304835 -0.02856602] 1.5933023828861659\n",
      "[ 0.0165869  -0.00739435  0.03072904] 1.5854816314095874\n",
      "[0.0090149  0.01300528 0.03990137] 1.6470627268124423\n",
      "[-0.00052973  0.03464198  0.0142703 ] 1.602945962516646\n",
      "[-0.04639436  0.04591331 -0.04912687] 1.9331309623274064\n",
      "[ 0.00231141 -0.02091116  0.02072004] 1.5393008525580711\n",
      "[ 0.02586619 -0.01094367 -0.01706119] 1.5622812484527504\n",
      "[0.04091379 0.04302146 0.01725887] 1.7838025915675857\n",
      "[ 0.04156645 -0.04566193  0.00055288] 1.787760486372342\n",
      "[ 0.01613594 -0.00195989  0.03069599] 1.5795741432544057\n",
      "[0.02146241 0.04691179 0.01713817] 1.7341788784438172\n",
      "[-0.03537749  0.0284518  -0.00856243] 1.662492000971298\n",
      "[-0.0190171   0.03777695 -0.01055515] 1.646766873662334\n",
      "[ 0.02524673  0.03854322 -0.02765586] 1.717482362741337\n",
      "[ 0.00834151 -0.02234495 -0.02120299] 1.5549754352440592\n",
      "[ 0.04693625 -0.01217231  0.03183433] 1.7594174613130678\n",
      "[0.02699127 0.04887596 0.02931326] 1.795538484151705\n",
      "[-0.00776641 -0.02979883  0.00242608] 1.5553003399679692\n",
      "[-0.02930476  0.02775695 -0.04198476] 1.7530416442472552\n",
      "[ 0.03527946 -0.03997693 -0.03557556] 1.7961565334527645\n",
      "[0.00794552 0.01137456 0.01012563] 1.464648116238906\n",
      "[-0.01020346  0.02691927  0.00017459] 1.5385901680993683\n",
      "[0.0391107  0.03497138 0.04792442] 1.8521040570863132\n",
      "[ 0.01006382 -0.02951669 -0.03214739] 1.6503002739055868\n",
      "[ 0.01618391 -0.02715063  0.03812154] 1.687473861912891\n",
      "[ 0.03383117  0.04025686 -0.01092383] 1.7212794293246638\n",
      "[-0.00836609 -0.01825613 -0.04289446] 1.6812955820718418\n",
      "[-0.04077445 -0.00010992 -0.030461  ] 1.7020225272042735\n",
      "[-0.0355826   0.01019729 -0.01255213] 1.6143157438731581\n",
      "[-0.04755756 -0.01752164 -0.04812786] 1.8494572707022163\n",
      "[ 0.01709236 -0.03422564 -0.02160499] 1.6440027669268247\n",
      "[-0.04716107  0.04228833  0.048914  ] 1.9204186379775683\n",
      "[-0.04700724  0.00935238  0.031601  ] 1.7557769498123026\n",
      "[-0.04816815  0.02963111 -0.03649545] 1.8249163095246237\n",
      "[ 0.00593882 -0.0273566  -0.02993239] 1.6219624171219076\n",
      "[-0.03908076 -0.03668495  0.03106344] 1.7796280002132878\n",
      "[ 0.0246855  -0.00818265  0.02267706] 1.573458766680365\n",
      "[ 0.03682082 -0.04073388  0.01720728] 1.74932003294325\n",
      "[ 0.01869173 -0.01499256  0.04844406] 1.7361909273539844\n",
      "[-0.01997501  0.01768392  0.04318054] 1.7029559430374182\n",
      "[-0.01331376 -0.009859   -0.00186238] 1.4627581554825193\n",
      "[ 0.02112486  0.03796988 -0.01480244] 1.6620984955514624\n",
      "[-0.03832845  0.04771127 -0.02862544] 1.8266766927177933\n",
      "[-0.01208802  0.00197719 -0.03157336] 1.5756461992451554\n",
      "[ 0.00779298 -0.02175886  0.02056072] 1.548267905694571\n",
      "[-0.04393195  0.04433313  0.01782927] 1.8085705808719137\n",
      "[-0.03520723 -0.02407473 -0.03995414] 1.7539315084314762\n",
      "[-0.04123206  0.04773591 -0.01191453] 1.8060857094452185\n",
      "[ 0.03842466  0.01856726 -0.03879913] 1.7495492672358566\n",
      "[0.01375255 0.00280844 0.03749199] 1.6243347823503091\n",
      "[-0.02580353 -0.02978227  0.04551292] 1.7709099809118252\n",
      "[-0.01157191 -0.04268118  0.03995022] 1.7679261534926045\n",
      "[-0.02202543  0.02895412 -0.01380432] 1.605193616431757\n",
      "[-0.02670504  0.01351581 -0.04605926] 1.7365355005111427\n",
      "[-0.0287544   0.03355625  0.01651224] 1.6672337864965705\n",
      "[ 0.02596977  0.00922004 -0.01858039] 1.5650024086503622\n",
      "[-0.01371167  0.03450116  0.00230043] 1.601008365798867\n",
      "[-0.03275561 -0.00496039 -0.0104414 ] 1.582931460941853\n",
      "[-0.03718781  0.00535521  0.03784037] 1.718685678012493\n",
      "[ 0.00458923  0.00068269 -0.02916133] 1.5466884496170792\n",
      "[-0.04275342  0.04894534  0.01120569] 1.8206065006983838\n"
     ]
    }
   ],
   "source": [
    "gap = 1.0+bands[:,9]-bands[:,7]\n",
    "for ind in range(len(k_values)):\n",
    "    if gap[ind] < 2.0: print(kpoints_cart[ind],gap[ind])"
   ]
  },
  {
   "cell_type": "markdown",
   "metadata": {},
   "source": [
    "### Setup the nscf on a regular grids in the region close to Gamma"
   ]
  },
  {
   "cell_type": "code",
   "execution_count": 54,
   "metadata": {},
   "outputs": [
    {
     "name": "stdout",
     "output_type": "stream",
     "text": [
      "[-0.05 -0.04 -0.03 -0.02 -0.01  0.    0.01  0.02  0.03  0.04  0.05]\n"
     ]
    }
   ],
   "source": [
    "kmin = -0.05\n",
    "kmax = 0.05\n",
    "num_kpoints = 11\n",
    "weight = 1.\n",
    "linear_sampling = np.linspace(kmin,kmax,num_kpoints)\n",
    "print(linear_sampling)"
   ]
  },
  {
   "cell_type": "code",
   "execution_count": 55,
   "metadata": {},
   "outputs": [],
   "source": [
    "klist = []\n",
    "for x in linear_sampling:\n",
    "    for y in linear_sampling:\n",
    "        for z in linear_sampling:\n",
    "            klist.append([x,y,z,weight])\n",
    "#klist"
   ]
  },
  {
   "cell_type": "code",
   "execution_count": 56,
   "metadata": {},
   "outputs": [],
   "source": [
    "bnds_study = D.Dataset(label='nscf',run_dir='nscf',pre_processing='nscf')"
   ]
  },
  {
   "cell_type": "code",
   "execution_count": 57,
   "metadata": {},
   "outputs": [],
   "source": [
    "input.system['nbnd'] = numBands\n",
    "idd = {'bnds' : numBands, 'kpoints' : num_kpoints, 'sampling' : 'reg_grid'} \n",
    "input.set_prefix(D.name_from_id(idd))\n",
    "input.set_energy_cutoff(ecut_conv)\n",
    "input.set_kpoints(ktype='tpiba',klist=klist)\n",
    "bnds_study.append_run(id=idd,calculator=code,input=input)"
   ]
  },
  {
   "cell_type": "markdown",
   "metadata": {},
   "source": [
    "Apply the pre-processing"
   ]
  },
  {
   "cell_type": "code",
   "execution_count": 58,
   "metadata": {},
   "outputs": [],
   "source": [
    "source = 'gs_convergence/ecut_%s-k_%s.save'%(ecut_conv,k_conv)"
   ]
  },
  {
   "cell_type": "code",
   "execution_count": 59,
   "metadata": {
    "scrolled": true
   },
   "outputs": [
    {
     "name": "stdout",
     "output_type": "stream",
     "text": [
      "Folder nscf already exists\n",
      "nscf .save folder exsists. gs_convergence/ecut_80-k_6.save not copied\n"
     ]
    }
   ],
   "source": [
    "bnds_study.pre_processing_function(source_dir=source)"
   ]
  },
  {
   "cell_type": "code",
   "execution_count": 60,
   "metadata": {},
   "outputs": [
    {
     "name": "stdout",
     "output_type": "stream",
     "text": [
      "skip the computation for : bnds_40-kpoints_11-sampling_reg_grid.in\n",
      "parse file : nscf/bnds_40-kpoints_11-sampling_reg_grid.save/data-file-schema.xml\n"
     ]
    }
   ],
   "source": [
    "bnds_study.run()"
   ]
  },
  {
   "cell_type": "markdown",
   "metadata": {},
   "source": [
    "### Energy gap for each k"
   ]
  },
  {
   "cell_type": "code",
   "execution_count": 62,
   "metadata": {},
   "outputs": [],
   "source": [
    "results = bnds_study.fetch_results(id={'kpoints' : 11})[0]\n",
    "bands = results.band_structure(plot=False)\n",
    "k_values = bands[:,0] # position on the path\n",
    "kpoints_cart = results.kpt_cart # cartesian position for each value on the path"
   ]
  },
  {
   "cell_type": "code",
   "execution_count": 64,
   "metadata": {},
   "outputs": [
    {
     "name": "stdout",
     "output_type": "stream",
     "text": [
      "[-0.05 -0.05 -0.05] 1.9710532670489753\n",
      "[-0.05 -0.05 -0.04] 1.930393157694824\n",
      "[-0.05 -0.05 -0.03] 1.899325916076127\n",
      "[-0.05 -0.05 -0.02] 1.8776416115813541\n",
      "[-0.05 -0.05 -0.01] 1.8649149436734591\n",
      "[-0.05 -0.05  0.  ] 1.860730103277196\n",
      "[-0.05 -0.05  0.01] 1.8649149436737709\n",
      "[-0.05 -0.05  0.02] 1.8776416115824128\n",
      "[-0.05 -0.05  0.03] 1.8993259160761564\n",
      "[-0.05 -0.05  0.04] 1.9303931576944668\n",
      "[-0.05 -0.05  0.05] 1.9710532670481085\n",
      "[-0.05 -0.04 -0.05] 1.9303931576935378\n",
      "[-0.05 -0.04 -0.04] 1.8862903941801887\n",
      "[-0.05 -0.04 -0.03] 1.851719411038241\n",
      "[-0.05 -0.04 -0.02] 1.8273818879429493\n",
      "[-0.05 -0.04 -0.01] 1.8130884852963085\n",
      "[-0.05 -0.04  0.  ] 1.8083953437244835\n",
      "[-0.05 -0.04  0.01] 1.8130884852973104\n",
      "[-0.05 -0.04  0.02] 1.827381887943404\n",
      "[-0.05 -0.04  0.03] 1.8517194110383004\n",
      "[-0.05 -0.04  0.04] 1.8862903941801719\n",
      "[-0.05 -0.04  0.05] 1.9303931576940547\n",
      "[-0.05 -0.03 -0.05] 1.899325916076017\n",
      "[-0.05 -0.03 -0.04] 1.8517194110384185\n",
      "[-0.05 -0.03 -0.03] 1.814595910427971\n",
      "[-0.05 -0.03 -0.02] 1.788426100259099\n",
      "[-0.05 -0.03 -0.01] 1.7731101950697994\n",
      "[-0.05 -0.03  0.  ] 1.7681027535849347\n",
      "[-0.05 -0.03  0.01] 1.7731101950718209\n",
      "[-0.05 -0.03  0.02] 1.7884261002588007\n",
      "[-0.05 -0.03  0.03] 1.8145959104279354\n",
      "[-0.05 -0.03  0.04] 1.8517194110380801\n",
      "[-0.05 -0.03  0.05] 1.899325916075874\n",
      "[-0.05 -0.02 -0.05] 1.8776416115818613\n",
      "[-0.05 -0.02 -0.04] 1.8273818879433659\n",
      "[-0.05 -0.02 -0.03] 1.7884261002587083\n",
      "[-0.05 -0.02 -0.02] 1.7610577792997573\n",
      "[-0.05 -0.02 -0.01] 1.7453770894119671\n",
      "[-0.05 -0.02  0.  ] 1.7403295719470355\n",
      "[-0.05 -0.02  0.01] 1.7453770894121199\n",
      "[-0.05 -0.02  0.02] 1.7610577792998479\n",
      "[-0.05 -0.02  0.03] 1.7884261002590156\n",
      "[-0.05 -0.02  0.04] 1.8273818879447363\n",
      "[-0.05 -0.02  0.05] 1.8776416115831944\n",
      "[-0.05 -0.01 -0.05] 1.86491494367365\n",
      "[-0.05 -0.01 -0.04] 1.8130884852969755\n",
      "[-0.05 -0.01 -0.03] 1.7731101950720278\n",
      "[-0.05 -0.01 -0.02] 1.7453770894119804\n",
      "[-0.05 -0.01 -0.01] 1.7294966872036088\n",
      "[-0.05 -0.01  0.  ] 1.724696690112756\n",
      "[-0.05 -0.01  0.01] 1.7294966872034072\n",
      "[-0.05 -0.01  0.02] 1.7453770894125729\n",
      "[-0.05 -0.01  0.03] 1.7731101950716877\n",
      "[-0.05 -0.01  0.04] 1.8130884852963627\n",
      "[-0.05 -0.01  0.05] 1.8649149436734644\n",
      "[-0.05  0.   -0.05] 1.8607301032768397\n",
      "[-0.05  0.   -0.04] 1.8083953437251772\n",
      "[-0.05  0.   -0.03] 1.7681027535840252\n",
      "[-0.05  0.   -0.02] 1.7403295719472647\n",
      "[-0.05  0.   -0.01] 1.7246966901143326\n",
      "[-0.05  0.    0.  ] 1.7202073374420195\n",
      "[-0.05  0.    0.01] 1.724696690112733\n",
      "[-0.05  0.    0.02] 1.7403295719464316\n",
      "[-0.05  0.    0.03] 1.7681027535845484\n",
      "[-0.05  0.    0.04] 1.8083953437250413\n",
      "[-0.05  0.    0.05] 1.8607301032774597\n",
      "[-0.05  0.01 -0.05] 1.8649149436737948\n",
      "[-0.05  0.01 -0.04] 1.8130884852970377\n",
      "[-0.05  0.01 -0.03] 1.7731101950718324\n",
      "[-0.05  0.01 -0.02] 1.7453770894121572\n",
      "[-0.05  0.01 -0.01] 1.729496687203154\n",
      "[-0.05  0.01  0.  ] 1.7246966901128191\n",
      "[-0.05  0.01  0.01] 1.7294966872034552\n",
      "[-0.05  0.01  0.02] 1.7453770894119538\n",
      "[-0.05  0.01  0.03] 1.7731101950725643\n",
      "[-0.05  0.01  0.04] 1.8130884852972748\n",
      "[-0.05  0.01  0.05] 1.864914943673261\n",
      "[-0.05  0.02 -0.05] 1.8776416115815868\n",
      "[-0.05  0.02 -0.04] 1.8273818879433383\n",
      "[-0.05  0.02 -0.03] 1.7884261002591249\n",
      "[-0.05  0.02 -0.02] 1.7610577792995894\n",
      "[-0.05  0.02 -0.01] 1.7453770894132283\n",
      "[-0.05  0.02  0.  ] 1.740329571947158\n",
      "[-0.05  0.02  0.01] 1.7453770894112504\n",
      "[-0.05  0.02  0.02] 1.76105777930003\n",
      "[-0.05  0.02  0.03] 1.7884261002589446\n",
      "[-0.05  0.02  0.04] 1.8273818879434094\n",
      "[-0.05  0.02  0.05] 1.8776416115811374\n",
      "[-0.05  0.03 -0.05] 1.899325916076208\n",
      "[-0.05  0.03 -0.04] 1.8517194110380855\n",
      "[-0.05  0.03 -0.03] 1.8145959104281726\n",
      "[-0.05  0.03 -0.02] 1.7884261002590804\n",
      "[-0.05  0.03 -0.01] 1.7731101950723245\n",
      "[-0.05  0.03  0.  ] 1.7681027535845244\n",
      "[-0.05  0.03  0.01] 1.7731101950720927\n",
      "[-0.05  0.03  0.02] 1.7884261002590884\n",
      "[-0.05  0.03  0.03] 1.8145959104282454\n",
      "[-0.05  0.03  0.04] 1.851719411038263\n",
      "[-0.05  0.03  0.05] 1.899325916076001\n",
      "[-0.05  0.04 -0.05] 1.9303931576940174\n",
      "[-0.05  0.04 -0.04] 1.8862903941801576\n",
      "[-0.05  0.04 -0.03] 1.8517194110383137\n",
      "[-0.05  0.04 -0.02] 1.8273818879435861\n",
      "[-0.05  0.04 -0.01] 1.813088485296345\n",
      "[-0.05  0.04  0.  ] 1.8083953437256595\n",
      "[-0.05  0.04  0.01] 1.8130884852972615\n",
      "[-0.05  0.04  0.02] 1.8273818879432033\n",
      "[-0.05  0.04  0.03] 1.8517194110382489\n",
      "[-0.05  0.04  0.04] 1.8862903941801799\n",
      "[-0.05  0.04  0.05] 1.9303931576943771\n",
      "[-0.05  0.05 -0.05] 1.971053267048977\n",
      "[-0.05  0.05 -0.04] 1.9303931576944802\n",
      "[-0.05  0.05 -0.03] 1.8993259160758305\n",
      "[-0.05  0.05 -0.02] 1.8776416115802892\n",
      "[-0.05  0.05 -0.01] 1.8649149436741883\n",
      "[-0.05  0.05  0.  ] 1.860730103276782\n",
      "[-0.05  0.05  0.01] 1.8649149436728756\n",
      "[-0.05  0.05  0.02] 1.877641611582006\n",
      "[-0.05  0.05  0.03] 1.8993259160760312\n",
      "[-0.05  0.05  0.04] 1.9303931576942128\n",
      "[-0.05  0.05  0.05] 1.971053267048723\n",
      "[-0.04 -0.05 -0.05] 1.9303931576944144\n",
      "[-0.04 -0.05 -0.04] 1.8862903941806763\n",
      "[-0.04 -0.05 -0.03] 1.8517194110381858\n",
      "[-0.04 -0.05 -0.02] 1.8273818879437513\n",
      "[-0.04 -0.05 -0.01] 1.8130884852967197\n",
      "[-0.04 -0.05  0.  ] 1.8083953437250146\n",
      "[-0.04 -0.05  0.01] 1.8130884852966398\n",
      "[-0.04 -0.05  0.02] 1.827381887943421\n",
      "[-0.04 -0.05  0.03] 1.8517194110382276\n",
      "[-0.04 -0.05  0.04] 1.8862903941798308\n",
      "[-0.04 -0.05  0.05] 1.9303931576945912\n",
      "[-0.04 -0.04 -0.05] 1.8862903941801497\n",
      "[-0.04 -0.04 -0.04] 1.8367361807370264\n",
      "[-0.04 -0.04 -0.03] 1.7963356659058336\n",
      "[-0.04 -0.04 -0.02] 1.7677104234797332\n",
      "[-0.04 -0.04 -0.01] 1.750818754970135\n",
      "[-0.04 -0.04  0.  ] 1.7452656459828146\n",
      "[-0.04 -0.04  0.01] 1.7508187549710525\n",
      "[-0.04 -0.04  0.02] 1.767710423479845\n",
      "[-0.04 -0.04  0.03] 1.7963356659064562\n",
      "[-0.04 -0.04  0.04] 1.8367361807371578\n",
      "[-0.04 -0.04  0.05] 1.8862903941804783\n",
      "[-0.04 -0.03 -0.05] 1.8517194110382187\n",
      "[-0.04 -0.03 -0.04] 1.7963356659057679\n",
      "[-0.04 -0.03 -0.03] 1.752139389890318\n",
      "[-0.04 -0.03 -0.02] 1.7200717967113714\n",
      "[-0.04 -0.03 -0.01] 1.7010072112628967\n",
      "[-0.04 -0.03  0.  ] 1.6947411765250902\n",
      "[-0.04 -0.03  0.01] 1.7010072112624286\n",
      "[-0.04 -0.03  0.02] 1.7200717967119106\n",
      "[-0.04 -0.03  0.03] 1.752139389890945\n",
      "[-0.04 -0.03  0.04] 1.7963356659061631\n",
      "[-0.04 -0.03  0.05] 1.8517194110382489\n",
      "[-0.04 -0.02 -0.05] 1.8273818879433605\n",
      "[-0.04 -0.02 -0.04] 1.7677104234802226\n",
      "[-0.04 -0.02 -0.03] 1.720071796711344\n",
      "[-0.04 -0.02 -0.02] 1.6856634994986965\n",
      "[-0.04 -0.02 -0.01] 1.6652969215096185\n",
      "[-0.04 -0.02  0.  ] 1.6586497937210671\n",
      "[-0.04 -0.02  0.01] 1.6652969215099285\n",
      "[-0.04 -0.02  0.02] 1.6856634994976671\n",
      "[-0.04 -0.02  0.03] 1.7200717967120243\n",
      "[-0.04 -0.02  0.04] 1.7677104234802261\n",
      "[-0.04 -0.02  0.05] 1.8273818879418613\n",
      "[-0.04 -0.01 -0.05] 1.8130884852966105\n",
      "[-0.04 -0.01 -0.04] 1.7508187549702088\n",
      "[-0.04 -0.01 -0.03] 1.7010072112624854\n",
      "[-0.04 -0.01 -0.02] 1.6652969215098583\n",
      "[-0.04 -0.01 -0.01] 1.6443574565541876\n",
      "[-0.04 -0.01  0.  ] 1.6377783621487314\n",
      "[-0.04 -0.01  0.01] 1.6443574565552161\n",
      "[-0.04 -0.01  0.02] 1.665296921509814\n",
      "[-0.04 -0.01  0.03] 1.7010072112629073\n",
      "[-0.04 -0.01  0.04] 1.7508187549713599\n",
      "[-0.04 -0.01  0.05] 1.8130884852973086\n",
      "[-0.04  0.   -0.05] 1.8083953437251914\n",
      "[-0.04  0.   -0.04] 1.7452656459848823\n",
      "[-0.04  0.   -0.03] 1.6947411765267688\n",
      "[-0.04  0.   -0.02] 1.658649793721871\n",
      "[-0.04  0.   -0.01] 1.6377783621487438\n",
      "[-0.04  0.    0.  ] 1.631483618834956\n",
      "[-0.04  0.    0.01] 1.637778362148798\n",
      "[-0.04  0.    0.02] 1.6586497937212297\n",
      "[-0.04  0.    0.03] 1.6947411765267226\n",
      "[-0.04  0.    0.04] 1.745265645982431\n",
      "[-0.04  0.    0.05] 1.8083953437241158\n",
      "[-0.04  0.01 -0.05] 1.8130884852968832\n",
      "[-0.04  0.01 -0.04] 1.7508187549703553\n",
      "[-0.04  0.01 -0.03] 1.701007211262339\n",
      "[-0.04  0.01 -0.02] 1.6652969215095395\n",
      "[-0.04  0.01 -0.01] 1.6443574565550305\n",
      "[-0.04  0.01  0.  ] 1.6377783621482251\n",
      "[-0.04  0.01  0.01] 1.6443574565555776\n",
      "[-0.04  0.01  0.02] 1.6652969215098867\n",
      "[-0.04  0.01  0.03] 1.7010072112627048\n",
      "[-0.04  0.01  0.04] 1.7508187549702443\n",
      "[-0.04  0.01  0.05] 1.8130884852980333\n",
      "[-0.04  0.02 -0.05] 1.8273818879447123\n",
      "[-0.04  0.02 -0.04] 1.7677104234802856\n",
      "[-0.04  0.02 -0.03] 1.720071796711946\n",
      "[-0.04  0.02 -0.02] 1.6856634994977187\n",
      "[-0.04  0.02 -0.01] 1.665296921509909\n",
      "[-0.04  0.02  0.  ] 1.6586497937216356\n",
      "[-0.04  0.02  0.01] 1.6652969215101274\n",
      "[-0.04  0.02  0.02] 1.6856634994975428\n",
      "[-0.04  0.02  0.03] 1.7200717967119736\n",
      "[-0.04  0.02  0.04] 1.7677104234802252\n",
      "[-0.04  0.02  0.05] 1.8273818879442567\n",
      "[-0.04  0.03 -0.05] 1.8517194110381272\n",
      "[-0.04  0.03 -0.04] 1.7963356659059153\n",
      "[-0.04  0.03 -0.03] 1.7521393898902788\n",
      "[-0.04  0.03 -0.02] 1.7200717967120358\n",
      "[-0.04  0.03 -0.01] 1.7010072112638923\n",
      "[-0.04  0.03  0.  ] 1.6947411765267315\n",
      "[-0.04  0.03  0.01] 1.701007211262973\n",
      "[-0.04  0.03  0.02] 1.7200717967123564\n",
      "[-0.04  0.03  0.03] 1.7521393898900852\n",
      "[-0.04  0.03  0.04] 1.7963356659057972\n",
      "[-0.04  0.03  0.05] 1.8517194110381787\n",
      "[-0.04  0.04 -0.05] 1.8862903941800058\n",
      "[-0.04  0.04 -0.04] 1.8367361807371827\n",
      "[-0.04  0.04 -0.03] 1.796335665906187\n",
      "[-0.04  0.04 -0.02] 1.7677104234788752\n",
      "[-0.04  0.04 -0.01] 1.750818754970119\n",
      "[-0.04  0.04  0.  ] 1.7452656459824354\n",
      "[-0.04  0.04  0.01] 1.7508187549701786\n",
      "[-0.04  0.04  0.02] 1.7677104234794774\n",
      "[-0.04  0.04  0.03] 1.7963356659059668\n",
      "[-0.04  0.04  0.04] 1.836736180736902\n",
      "[-0.04  0.04  0.05] 1.8862903941804108\n",
      "[-0.04  0.05 -0.05] 1.9303931576943159\n",
      "[-0.04  0.05 -0.04] 1.886290394180607\n",
      "[-0.04  0.05 -0.03] 1.8517194110381805\n",
      "[-0.04  0.05 -0.02] 1.8273818879438855\n",
      "[-0.04  0.05 -0.01] 1.8130884852968316\n",
      "[-0.04  0.05  0.  ] 1.8083953437252331\n",
      "[-0.04  0.05  0.01] 1.8130884852961167\n",
      "[-0.04  0.05  0.02] 1.8273818879433659\n",
      "[-0.04  0.05  0.03] 1.8517194110384958\n",
      "[-0.04  0.05  0.04] 1.886290394180337\n",
      "[-0.04  0.05  0.05] 1.9303931576940663\n",
      "[-0.03 -0.05 -0.05] 1.8993259160760854\n",
      "[-0.03 -0.05 -0.04] 1.8517194110382373\n",
      "[-0.03 -0.05 -0.03] 1.8145959104279026\n",
      "[-0.03 -0.05 -0.02] 1.7884261002592874\n",
      "[-0.03 -0.05 -0.01] 1.7731101950716495\n",
      "[-0.03 -0.05  0.  ] 1.7681027535844391\n",
      "[-0.03 -0.05  0.01] 1.7731101950715136\n",
      "[-0.03 -0.05  0.02] 1.788426100259124\n",
      "[-0.03 -0.05  0.03] 1.8145959104277916\n",
      "[-0.03 -0.05  0.04] 1.8517194110382134\n",
      "[-0.03 -0.05  0.05] 1.8993259160761875\n",
      "[-0.03 -0.04 -0.05] 1.8517194110387463\n",
      "[-0.03 -0.04 -0.04] 1.7963356659058984\n",
      "[-0.03 -0.04 -0.03] 1.7521393898902726\n",
      "[-0.03 -0.04 -0.02] 1.720071796712471\n",
      "[-0.03 -0.04 -0.01] 1.7010072112629677\n",
      "[-0.03 -0.04  0.  ] 1.6947411765261133\n",
      "[-0.03 -0.04  0.01] 1.701007211263514\n",
      "[-0.03 -0.04  0.02] 1.720071796712097\n",
      "[-0.03 -0.04  0.03] 1.7521393898903534\n",
      "[-0.03 -0.04  0.04] 1.7963356659059615\n",
      "[-0.03 -0.04  0.05] 1.8517194110381148\n",
      "[-0.03 -0.03 -0.05] 1.8145959104279008\n",
      "[-0.03 -0.03 -0.04] 1.7521393898903215\n",
      "[-0.03 -0.03 -0.03] 1.7017506815154881\n",
      "[-0.03 -0.03 -0.02] 1.663734887041679\n",
      "[-0.03 -0.03 -0.01] 1.6409097571853728\n",
      "[-0.03 -0.03  0.  ] 1.6333771253275176\n",
      "[-0.03 -0.03  0.01] 1.6409097571856037\n",
      "[-0.03 -0.03  0.02] 1.6637348870421915\n",
      "[-0.03 -0.03  0.03] 1.7017506815165495\n",
      "[-0.03 -0.03  0.04] 1.752139389890555\n",
      "[-0.03 -0.03  0.05] 1.8145959104279683\n",
      "[-0.03 -0.02 -0.05] 1.7884261002595974\n",
      "[-0.03 -0.02 -0.04] 1.7200717967120225\n",
      "[-0.03 -0.02 -0.03] 1.6637348870407669\n",
      "[-0.03 -0.02 -0.02] 1.6216997440741885\n",
      "[-0.03 -0.02 -0.01] 1.5959447288152608\n",
      "[-0.03 -0.02  0.  ] 1.5874203852977091\n",
      "[-0.03 -0.02  0.01] 1.5959447288151685\n",
      "[-0.03 -0.02  0.02] 1.6216997440737435\n",
      "[-0.03 -0.02  0.03] 1.6637348870422457\n",
      "[-0.03 -0.02  0.04] 1.72007179671197\n",
      "[-0.03 -0.02  0.05] 1.7884261002587545\n",
      "[-0.03 -0.01 -0.05] 1.7731101950719514\n",
      "[-0.03 -0.01 -0.04] 1.7010072112619437\n",
      "[-0.03 -0.01 -0.03] 1.640909757185593\n",
      "[-0.03 -0.01 -0.02] 1.5959447288149375\n",
      "[-0.03 -0.01 -0.01] 1.5686524991926465\n",
      "[-0.03 -0.01  0.  ] 1.5598019193528918\n",
      "[-0.03 -0.01  0.01] 1.5686524991930275\n",
      "[-0.03 -0.01  0.02] 1.595944728815522\n",
      "[-0.03 -0.01  0.03] 1.6409097571855513\n",
      "[-0.03 -0.01  0.04] 1.7010072112629269\n",
      "[-0.03 -0.01  0.05] 1.7731101950721966\n",
      "[-0.03  0.   -0.05] 1.7681027535852074\n",
      "[-0.03  0.   -0.04] 1.694741176526347\n",
      "[-0.03  0.   -0.03] 1.633377125328031\n",
      "[-0.03  0.   -0.02] 1.5874203852975324\n",
      "[-0.03  0.   -0.01] 1.5598019193527017\n",
      "[-0.03  0.    0.  ] 1.551154168904029\n",
      "[-0.03  0.    0.01] 1.5598019193533377\n",
      "[-0.03  0.    0.02] 1.5874203852978308\n",
      "[-0.03  0.    0.03] 1.6333771253282867\n",
      "[-0.03  0.    0.04] 1.6947411765265707\n",
      "[-0.03  0.    0.05] 1.7681027535831708\n",
      "[-0.03  0.01 -0.05] 1.7731101950716557\n",
      "[-0.03  0.01 -0.04] 1.7010072112629624\n",
      "[-0.03  0.01 -0.03] 1.6409097571862565\n",
      "[-0.03  0.01 -0.02] 1.5959447288147874\n",
      "[-0.03  0.01 -0.01] 1.5686524991930595\n",
      "[-0.03  0.01  0.  ] 1.55980191935324\n",
      "[-0.03  0.01  0.01] 1.5686524991929298\n",
      "[-0.03  0.01  0.02] 1.5959447288149269\n",
      "[-0.03  0.01  0.03] 1.6409097571854616\n",
      "[-0.03  0.01  0.04] 1.7010072112629437\n",
      "[-0.03  0.01  0.05] 1.7731101950721255\n",
      "[-0.03  0.02 -0.05] 1.7884261002595734\n",
      "[-0.03  0.02 -0.04] 1.7200717967119585\n",
      "[-0.03  0.02 -0.03] 1.6637348870425308\n",
      "[-0.03  0.02 -0.02] 1.6216997440738519\n",
      "[-0.03  0.02 -0.01] 1.5959447288151276\n",
      "[-0.03  0.02  0.  ] 1.5874203852978042\n",
      "[-0.03  0.02  0.01] 1.595944728814839\n",
      "[-0.03  0.02  0.02] 1.6216997440737702\n",
      "[-0.03  0.02  0.03] 1.6637348870426338\n",
      "[-0.03  0.02  0.04] 1.720071796712058\n",
      "[-0.03  0.02  0.05] 1.7884261002588238\n",
      "[-0.03  0.03 -0.05] 1.814595910427876\n",
      "[-0.03  0.03 -0.04] 1.7521393898908384\n",
      "[-0.03  0.03 -0.03] 1.7017506815164127\n",
      "[-0.03  0.03 -0.02] 1.6637348870421613\n",
      "[-0.03  0.03 -0.01] 1.6409097571861828\n",
      "[-0.03  0.03  0.  ] 1.6333771253283658\n",
      "[-0.03  0.03  0.01] 1.6409097571857183\n",
      "[-0.03  0.03  0.02] 1.6637348870417448\n",
      "[-0.03  0.03  0.03] 1.7017506815159047\n",
      "[-0.03  0.03  0.04] 1.7521393898902486\n",
      "[-0.03  0.03  0.05] 1.8145959104278706\n",
      "[-0.03  0.04 -0.05] 1.8517194110382489\n",
      "[-0.03  0.04 -0.04] 1.796335665905997\n",
      "[-0.03  0.04 -0.03] 1.752139389890349\n",
      "[-0.03  0.04 -0.02] 1.720071796711978\n",
      "[-0.03  0.04 -0.01] 1.7010072112621373\n",
      "[-0.03  0.04  0.  ] 1.6947411765267253\n",
      "[-0.03  0.04  0.01] 1.7010072112625236\n",
      "[-0.03  0.04  0.02] 1.7200717967119807\n",
      "[-0.03  0.04  0.03] 1.7521393898900932\n",
      "[-0.03  0.04  0.04] 1.7963356659055876\n",
      "[-0.03  0.04  0.05] 1.8517194110381423\n",
      "[-0.03  0.05 -0.05] 1.899325916075541\n",
      "[-0.03  0.05 -0.04] 1.8517194110386814\n",
      "[-0.03  0.05 -0.03] 1.8145959104280633\n",
      "[-0.03  0.05 -0.02] 1.7884261002603266\n",
      "[-0.03  0.05 -0.01] 1.7731101950720927\n",
      "[-0.03  0.05  0.  ] 1.7681027535854659\n",
      "[-0.03  0.05  0.01] 1.7731101950715304\n",
      "[-0.03  0.05  0.02] 1.788426100260092\n",
      "[-0.03  0.05  0.03] 1.814595910428901\n",
      "[-0.03  0.05  0.04] 1.8517194110382675\n",
      "[-0.03  0.05  0.05] 1.8993259160759584\n",
      "[-0.02 -0.05 -0.05] 1.8776416115814776\n",
      "[-0.02 -0.05 -0.04] 1.827381887943278\n",
      "[-0.02 -0.05 -0.03] 1.7884261002590183\n",
      "[-0.02 -0.05 -0.02] 1.7610577792999234\n",
      "[-0.02 -0.05 -0.01] 1.7453770894119671\n",
      "[-0.02 -0.05  0.  ] 1.7403295719475471\n",
      "[-0.02 -0.05  0.01] 1.745377089412\n",
      "[-0.02 -0.05  0.02] 1.7610577792997981\n",
      "[-0.02 -0.05  0.03] 1.7884261002591444\n",
      "[-0.02 -0.05  0.04] 1.8273818879434964\n",
      "[-0.02 -0.05  0.05] 1.8776416115811596\n",
      "[-0.02 -0.04 -0.05] 1.8273818879443189\n",
      "[-0.02 -0.04 -0.04] 1.7677104234802776\n",
      "[-0.02 -0.04 -0.03] 1.7200717967119186\n",
      "[-0.02 -0.04 -0.02] 1.6856634994977453\n",
      "[-0.02 -0.04 -0.01] 1.665296921509868\n",
      "[-0.02 -0.04  0.  ] 1.6586497937223266\n",
      "[-0.02 -0.04  0.01] 1.6652969215090137\n",
      "[-0.02 -0.04  0.02] 1.6856634994958544\n",
      "[-0.02 -0.04  0.03] 1.7200717967119346\n",
      "[-0.02 -0.04  0.04] 1.7677104234802314\n",
      "[-0.02 -0.04  0.05] 1.8273818879433392\n",
      "[-0.02 -0.03 -0.05] 1.7884261002589632\n",
      "[-0.02 -0.03 -0.04] 1.720071796711622\n",
      "[-0.02 -0.03 -0.03] 1.6637348870415405\n",
      "[-0.02 -0.03 -0.02] 1.6216997440758085\n",
      "[-0.02 -0.03 -0.01] 1.5959447288141009\n",
      "[-0.02 -0.03  0.  ] 1.5874203852977473\n",
      "[-0.02 -0.03  0.01] 1.5959447288155246\n",
      "[-0.02 -0.03  0.02] 1.621699744074255\n",
      "[-0.02 -0.03  0.03] 1.6637348870428683\n",
      "[-0.02 -0.03  0.04] 1.7200717967117205\n",
      "[-0.02 -0.03  0.05] 1.7884261002591426\n",
      "[-0.02 -0.02 -0.05] 1.7610577792998745\n",
      "[-0.02 -0.02 -0.04] 1.6856634994977782\n",
      "[-0.02 -0.02 -0.03] 1.6216997440736831\n",
      "[-0.02 -0.02 -0.02] 1.5727162424108059\n",
      "[-0.02 -0.02 -0.01] 1.541442191814589\n",
      "[-0.02 -0.02  0.  ] 1.530999665172355\n",
      "[-0.02 -0.02  0.01] 1.541442191814454\n",
      "[-0.02 -0.02  0.02] 1.572716242410011\n",
      "[-0.02 -0.02  0.03] 1.6216997440738714\n",
      "[-0.02 -0.02  0.04] 1.6856634994988946\n",
      "[-0.02 -0.02  0.05] 1.7610577793000024\n",
      "[-0.02 -0.01 -0.05] 1.7453770894123561\n",
      "[-0.02 -0.01 -0.04] 1.66529692150847\n",
      "[-0.02 -0.01 -0.03] 1.5959447288150272\n",
      "[-0.02 -0.01 -0.02] 1.5414421918148093\n",
      "[-0.02 -0.01 -0.01] 1.5067302845641768\n",
      "[-0.02 -0.01  0.  ] 1.4950958965176842\n",
      "[-0.02 -0.01  0.01] 1.5067302845641146\n",
      "[-0.02 -0.01  0.02] 1.5414421918143697\n",
      "[-0.02 -0.01  0.03] 1.5959447288146809\n",
      "[-0.02 -0.01  0.04] 1.6652969215097002\n",
      "[-0.02 -0.01  0.05] 1.7453770894121439\n",
      "[-0.02  0.   -0.05] 1.740329571947349\n",
      "[-0.02  0.   -0.04] 1.6586497937226046\n",
      "[-0.02  0.   -0.03] 1.5874203852983788\n",
      "[-0.02  0.   -0.02] 1.530999665171672\n",
      "[-0.02  0.   -0.01] 1.4950958965180234\n",
      "[-0.02  0.    0.  ] 1.4834482031708172\n",
      "[-0.02  0.    0.01] 1.4950958965161165\n",
      "[-0.02  0.    0.02] 1.530999665171782\n",
      "[-0.02  0.    0.03] 1.5874203852962827\n",
      "[-0.02  0.    0.04] 1.6586497937215734\n",
      "[-0.02  0.    0.05] 1.7403295719471936\n",
      "[-0.02  0.01 -0.05] 1.7453770894123757\n",
      "[-0.02  0.01 -0.04] 1.6652969215098166\n",
      "[-0.02  0.01 -0.03] 1.595944728815982\n",
      "[-0.02  0.01 -0.02] 1.5414421918144834\n",
      "[-0.02  0.01 -0.01] 1.506730284565755\n",
      "[-0.02  0.01  0.  ] 1.49509589651751\n",
      "[-0.02  0.01  0.01] 1.5067302845642292\n",
      "[-0.02  0.01  0.02] 1.5414421918139718\n",
      "[-0.02  0.01  0.03] 1.5959447288156312\n",
      "[-0.02  0.01  0.04] 1.6652969215098876\n",
      "[-0.02  0.01  0.05] 1.7453770894119742\n",
      "[-0.02  0.02 -0.05] 1.7610577792995752\n",
      "[-0.02  0.02 -0.04] 1.685663499497477\n",
      "[-0.02  0.02 -0.03] 1.6216997440738794\n",
      "[-0.02  0.02 -0.02] 1.5727162424101389\n",
      "[-0.02  0.02 -0.01] 1.54144219181436\n",
      "[-0.02  0.02  0.  ] 1.5309996651692135\n",
      "[-0.02  0.02  0.01] 1.541442191814463\n",
      "[-0.02  0.02  0.02] 1.5727162424101175\n"
     ]
    },
    {
     "name": "stdout",
     "output_type": "stream",
     "text": [
      "[-0.02  0.02  0.03] 1.621699744073526\n",
      "[-0.02  0.02  0.04] 1.6856634994976831\n",
      "[-0.02  0.02  0.05] 1.761057779299649\n",
      "[-0.02  0.03 -0.05] 1.7884261002590973\n",
      "[-0.02  0.03 -0.04] 1.720071796711613\n",
      "[-0.02  0.03 -0.03] 1.6637348870422377\n",
      "[-0.02  0.03 -0.02] 1.6216997440739496\n",
      "[-0.02  0.03 -0.01] 1.5959447288145396\n",
      "[-0.02  0.03  0.  ] 1.5874203852974285\n",
      "[-0.02  0.03  0.01] 1.595944728815228\n",
      "[-0.02  0.03  0.02] 1.6216997440743093\n",
      "[-0.02  0.03  0.03] 1.6637348870424304\n",
      "[-0.02  0.03  0.04] 1.7200717967120323\n",
      "[-0.02  0.03  0.05] 1.7884261002590867\n",
      "[-0.02  0.04 -0.05] 1.8273818879432895\n",
      "[-0.02  0.04 -0.04] 1.7677104234802474\n",
      "[-0.02  0.04 -0.03] 1.7200717967122667\n",
      "[-0.02  0.04 -0.02] 1.6856634994984452\n",
      "[-0.02  0.04 -0.01] 1.6652969215099116\n",
      "[-0.02  0.04  0.  ] 1.6586497937216906\n",
      "[-0.02  0.04  0.01] 1.6652969215097704\n",
      "[-0.02  0.04  0.02] 1.6856634994982933\n",
      "[-0.02  0.04  0.03] 1.7200717967119896\n",
      "[-0.02  0.04  0.04] 1.7677104234802856\n",
      "[-0.02  0.04  0.05] 1.8273818879424484\n",
      "[-0.02  0.05 -0.05] 1.87764161158145\n",
      "[-0.02  0.05 -0.04] 1.827381887943801\n",
      "[-0.02  0.05 -0.03] 1.7884261002591488\n",
      "[-0.02  0.05 -0.02] 1.7610577792998585\n",
      "[-0.02  0.05 -0.01] 1.7453770894118925\n",
      "[-0.02  0.05  0.  ] 1.7403295719476848\n",
      "[-0.02  0.05  0.01] 1.7453770894110132\n",
      "[-0.02  0.05  0.02] 1.7610577793004705\n",
      "[-0.02  0.05  0.03] 1.7884261002594943\n",
      "[-0.02  0.05  0.04] 1.8273818879432433\n",
      "[-0.02  0.05  0.05] 1.877641611581442\n",
      "[-0.01 -0.05 -0.05] 1.8649149436742052\n",
      "[-0.01 -0.05 -0.04] 1.8130884852972882\n",
      "[-0.01 -0.05 -0.03] 1.7731101950721255\n",
      "[-0.01 -0.05 -0.02] 1.745377089412533\n",
      "[-0.01 -0.05 -0.01] 1.7294966872032411\n",
      "[-0.01 -0.05  0.  ] 1.7246966901128769\n",
      "[-0.01 -0.05  0.01] 1.7294966872032917\n",
      "[-0.01 -0.05  0.02] 1.7453770894119263\n",
      "[-0.01 -0.05  0.03] 1.7731101950721602\n",
      "[-0.01 -0.05  0.04] 1.8130884852965972\n",
      "[-0.01 -0.05  0.05] 1.8649149436732966\n",
      "[-0.01 -0.04 -0.05] 1.8130884852966513\n",
      "[-0.01 -0.04 -0.04] 1.7508187549701626\n",
      "[-0.01 -0.04 -0.03] 1.7010072112630379\n",
      "[-0.01 -0.04 -0.02] 1.665296921509781\n",
      "[-0.01 -0.04 -0.01] 1.6443574565550731\n",
      "[-0.01 -0.04  0.  ] 1.6377783621490298\n",
      "[-0.01 -0.04  0.01] 1.6443574565548582\n",
      "[-0.01 -0.04  0.02] 1.66529692150986\n",
      "[-0.01 -0.04  0.03] 1.7010072112627546\n",
      "[-0.01 -0.04  0.04] 1.7508187549704353\n",
      "[-0.01 -0.04  0.05] 1.813088485296391\n",
      "[-0.01 -0.03 -0.05] 1.7731101950727215\n",
      "[-0.01 -0.03 -0.04] 1.7010072112633479\n",
      "[-0.01 -0.03 -0.03] 1.6409097571850406\n",
      "[-0.01 -0.03 -0.02] 1.5959447288149011\n",
      "[-0.01 -0.03 -0.01] 1.5686524991932256\n",
      "[-0.01 -0.03  0.  ] 1.5598019193515995\n",
      "[-0.01 -0.03  0.01] 1.568652499193199\n",
      "[-0.01 -0.03  0.02] 1.5959447288143176\n",
      "[-0.01 -0.03  0.03] 1.640909757185593\n",
      "[-0.01 -0.03  0.04] 1.7010072112628967\n",
      "[-0.01 -0.03  0.05] 1.7731101950714176\n",
      "[-0.01 -0.02 -0.05] 1.7453770894116758\n",
      "[-0.01 -0.02 -0.04] 1.6652969215102713\n",
      "[-0.01 -0.02 -0.03] 1.5959447288149349\n",
      "[-0.01 -0.02 -0.02] 1.5414421918144372\n",
      "[-0.01 -0.02 -0.01] 1.5067302845633233\n",
      "[-0.01 -0.02  0.  ] 1.4950958965183876\n",
      "[-0.01 -0.02  0.01] 1.5067302845645063\n",
      "[-0.01 -0.02  0.02] 1.54144219181451\n",
      "[-0.01 -0.02  0.03] 1.5959447288147652\n",
      "[-0.01 -0.02  0.04] 1.6652969215107696\n",
      "[-0.01 -0.02  0.05] 1.745377089412032\n",
      "[-0.01 -0.01 -0.05] 1.7294966872033912\n",
      "[-0.01 -0.01 -0.04] 1.6443574565552286\n",
      "[-0.01 -0.01 -0.03] 1.5686524991937185\n",
      "[-0.01 -0.01 -0.02] 1.5067302845642185\n",
      "[-0.01 -0.01 -0.01] 1.4653117968285958\n",
      "[-0.01 -0.01  0.  ] 1.4508904087055061\n",
      "[-0.01 -0.01  0.01] 1.4653117968288\n",
      "[-0.01 -0.01  0.02] 1.5067302845641777\n",
      "[-0.01 -0.01  0.03] 1.568652499192603\n",
      "[-0.01 -0.01  0.04] 1.6443574565551042\n",
      "[-0.01 -0.01  0.05] 1.7294966872035955\n",
      "[-0.01  0.   -0.05] 1.7246966901127356\n",
      "[-0.01  0.   -0.04] 1.6377783621484285\n",
      "[-0.01  0.   -0.03] 1.5598019193529709\n",
      "[-0.01  0.   -0.02] 1.4950958965178254\n",
      "[-0.01  0.   -0.01] 1.4508904087055274\n",
      "[-0.01  0.    0.  ] 1.4357399023321822\n",
      "[-0.01  0.    0.01] 1.450890408706158\n",
      "[-0.01  0.    0.02] 1.4950958965168342\n",
      "[-0.01  0.    0.03] 1.5598019193527035\n",
      "[-0.01  0.    0.04] 1.6377783621485573\n",
      "[-0.01  0.    0.05] 1.7246966901124354\n",
      "[-0.01  0.01 -0.05] 1.7294966872037651\n",
      "[-0.01  0.01 -0.04] 1.644357456555106\n",
      "[-0.01  0.01 -0.03] 1.5686524991930169\n",
      "[-0.01  0.01 -0.02] 1.5067302845638268\n",
      "[-0.01  0.01 -0.01] 1.4653117968283604\n",
      "[-0.01  0.01  0.  ] 1.4508904087060994\n",
      "[-0.01  0.01  0.01] 1.465311796828776\n",
      "[-0.01  0.01  0.02] 1.5067302845653643\n",
      "[-0.01  0.01  0.03] 1.5686524991924964\n",
      "[-0.01  0.01  0.04] 1.6443574565550572\n",
      "[-0.01  0.01  0.05] 1.7294966872032687\n",
      "[-0.01  0.02 -0.05] 1.745377089413589\n",
      "[-0.01  0.02 -0.04] 1.6652969215097269\n",
      "[-0.01  0.02 -0.03] 1.5959447288142483\n",
      "[-0.01  0.02 -0.02] 1.541442191815193\n",
      "[-0.01  0.02 -0.01] 1.5067302845639627\n",
      "[-0.01  0.02  0.  ] 1.4950958965191194\n",
      "[-0.01  0.02  0.01] 1.5067302845637114\n",
      "[-0.01  0.02  0.02] 1.5414421918153698\n",
      "[-0.01  0.02  0.03] 1.5959447288149127\n",
      "[-0.01  0.02  0.04] 1.6652969215087277\n",
      "[-0.01  0.02  0.05] 1.7453770894115523\n",
      "[-0.01  0.03 -0.05] 1.7731101950721264\n",
      "[-0.01  0.03 -0.04] 1.7010072112629029\n",
      "[-0.01  0.03 -0.03] 1.6409097571850069\n",
      "[-0.01  0.03 -0.02] 1.5959447288149562\n",
      "[-0.01  0.03 -0.01] 1.5686524991934707\n",
      "[-0.01  0.03  0.  ] 1.559801919353177\n",
      "[-0.01  0.03  0.01] 1.5686524991931519\n",
      "[-0.01  0.03  0.02] 1.5959447288149455\n",
      "[-0.01  0.03  0.03] 1.6409097571848692\n",
      "[-0.01  0.03  0.04] 1.701007211262957\n",
      "[-0.01  0.03  0.05] 1.7731101950718315\n",
      "[-0.01  0.04 -0.05] 1.8130884852978353\n",
      "[-0.01  0.04 -0.04] 1.7508187549702061\n",
      "[-0.01  0.04 -0.03] 1.7010072112623362\n",
      "[-0.01  0.04 -0.02] 1.6652969215098148\n",
      "[-0.01  0.04 -0.01] 1.6443574565548236\n",
      "[-0.01  0.04  0.  ] 1.6377783621487065\n",
      "[-0.01  0.04  0.01] 1.6443574565553893\n",
      "[-0.01  0.04  0.02] 1.665296921509868\n",
      "[-0.01  0.04  0.03] 1.7010072112618104\n",
      "[-0.01  0.04  0.04] 1.7508187549708287\n",
      "[-0.01  0.04  0.05] 1.8130884852965838\n",
      "[-0.01  0.05 -0.05] 1.864914943673658\n",
      "[-0.01  0.05 -0.04] 1.8130884852970919\n",
      "[-0.01  0.05 -0.03] 1.7731101950708696\n",
      "[-0.01  0.05 -0.02] 1.7453770894119351\n",
      "[-0.01  0.05 -0.01] 1.7294966872033122\n",
      "[-0.01  0.05  0.  ] 1.72469669011267\n",
      "[-0.01  0.05  0.01] 1.7294966872035467\n",
      "[-0.01  0.05  0.02] 1.7453770894117815\n",
      "[-0.01  0.05  0.03] 1.7731101950712524\n",
      "[-0.01  0.05  0.04] 1.8130884852960065\n",
      "[-0.01  0.05  0.05] 1.864914943673802\n",
      "[ 0.   -0.05 -0.05] 1.8607301032773238\n",
      "[ 0.   -0.05 -0.04] 1.8083953437263878\n",
      "[ 0.   -0.05 -0.03] 1.768102753584401\n",
      "[ 0.   -0.05 -0.02] 1.7403295719467478\n",
      "[ 0.   -0.05 -0.01] 1.7246966901127623\n",
      "[ 0.   -0.05  0.  ] 1.7202073374420692\n",
      "[ 0.   -0.05  0.01] 1.724696690112193\n",
      "[ 0.   -0.05  0.02] 1.7403295719468757\n",
      "[ 0.   -0.05  0.03] 1.7681027535841913\n",
      "[ 0.   -0.05  0.04] 1.808395343724957\n",
      "[ 0.   -0.05  0.05] 1.8607301032767332\n",
      "[ 0.   -0.04 -0.05] 1.8083953437246736\n",
      "[ 0.   -0.04 -0.04] 1.745265645983367\n",
      "[ 0.   -0.04 -0.03] 1.6947411765262412\n",
      "[ 0.   -0.04 -0.02] 1.6586497937222102\n",
      "[ 0.   -0.04 -0.01] 1.6377783621487323\n",
      "[ 0.   -0.04  0.  ] 1.6314836188350048\n",
      "[ 0.   -0.04  0.01] 1.6377783621487003\n",
      "[ 0.   -0.04  0.02] 1.6586497937217963\n",
      "[ 0.   -0.04  0.03] 1.694741176526609\n",
      "[ 0.   -0.04  0.04] 1.7452656459814069\n",
      "[ 0.   -0.04  0.05] 1.8083953437251674\n",
      "[ 0.   -0.03 -0.05] 1.7681027535862546\n",
      "[ 0.   -0.03 -0.04] 1.6947411765268265\n",
      "[ 0.   -0.03 -0.03] 1.6333771253290843\n",
      "[ 0.   -0.03 -0.02] 1.587420385297829\n",
      "[ 0.   -0.03 -0.01] 1.559801919352636\n",
      "[ 0.   -0.03  0.  ] 1.5511541689043522\n",
      "[ 0.   -0.03  0.01] 1.5598019193527906\n",
      "[ 0.   -0.03  0.02] 1.587420385297464\n",
      "[ 0.   -0.03  0.03] 1.6333771253272902\n",
      "[ 0.   -0.03  0.04] 1.6947411765267821\n",
      "[ 0.   -0.03  0.05] 1.7681027535868497\n",
      "[ 0.   -0.02 -0.05] 1.7403295719471723\n",
      "[ 0.   -0.02 -0.04] 1.6586497937215485\n",
      "[ 0.   -0.02 -0.03] 1.587420385297766\n",
      "[ 0.   -0.02 -0.02] 1.5309996651710422\n",
      "[ 0.   -0.02 -0.01] 1.4950958965176513\n",
      "[ 0.   -0.02  0.  ] 1.4834482031701235\n",
      "[ 0.   -0.02  0.01] 1.4950958965159256\n",
      "[ 0.   -0.02  0.02] 1.5309996651716462\n",
      "[ 0.   -0.02  0.03] 1.587420385297638\n",
      "[ 0.   -0.02  0.04] 1.6586497937228737\n",
      "[ 0.   -0.02  0.05] 1.7403295719474192\n",
      "[ 0.   -0.01 -0.05] 1.7246966901127427\n",
      "[ 0.   -0.01 -0.04] 1.637778362148807\n",
      "[ 0.   -0.01 -0.03] 1.5598019193529922\n",
      "[ 0.   -0.01 -0.02] 1.4950958965175118\n",
      "[ 0.   -0.01 -0.01] 1.4508904087061296\n",
      "[ 0.   -0.01  0.  ] 1.4357399023311652\n",
      "[ 0.   -0.01  0.01] 1.4508904087061643\n",
      "[ 0.   -0.01  0.02] 1.4950958965183556\n",
      "[ 0.   -0.01  0.03] 1.5598019193533892\n",
      "[ 0.   -0.01  0.04] 1.6377783621501703\n",
      "[ 0.   -0.01  0.05] 1.724696690112272\n",
      "[ 0.    0.   -0.05] 1.7202073374417717\n",
      "[ 0.    0.   -0.04] 1.631483618834853\n",
      "[ 0.    0.   -0.03] 1.5511541689043336\n",
      "[ 0.    0.   -0.02] 1.4834482031697718\n",
      "[ 0.    0.   -0.01] 1.4357399023313233\n",
      "[0. 0. 0.] 1.4180062971035339\n",
      "[0.   0.   0.01] 1.4357399023310045\n",
      "[0.   0.   0.02] 1.4834482031714762\n",
      "[0.   0.   0.03] 1.551154168904307\n",
      "[0.   0.   0.04] 1.631483618834869\n",
      "[0.   0.   0.05] 1.7202073374419298\n",
      "[ 0.    0.01 -0.05] 1.7246966901128138\n",
      "[ 0.    0.01 -0.04] 1.63777836214922\n",
      "[ 0.    0.01 -0.03] 1.5598019193528696\n",
      "[ 0.    0.01 -0.02] 1.495095896518122\n",
      "[ 0.    0.01 -0.01] 1.4508904087061323\n",
      "[0.   0.01 0.  ] 1.4357399023310595\n",
      "[0.   0.01 0.01] 1.4508904087055114\n",
      "[0.   0.01 0.02] 1.4950958965177454\n",
      "[0.   0.01 0.03] 1.5598019193528208\n",
      "[0.   0.01 0.04] 1.637778362146567\n",
      "[0.   0.01 0.05] 1.724696690113296\n",
      "[ 0.    0.02 -0.05] 1.7403295719469671\n",
      "[ 0.    0.02 -0.04] 1.6586497937196114\n",
      "[ 0.    0.02 -0.03] 1.587420385297957\n",
      "[ 0.    0.02 -0.02] 1.530999665171609\n",
      "[ 0.    0.02 -0.01] 1.4950958965187224\n",
      "[0.   0.02 0.  ] 1.4834482031701555\n",
      "[0.   0.02 0.01] 1.4950958965171566\n",
      "[0.   0.02 0.02] 1.530999665171505\n",
      "[0.   0.02 0.03] 1.5874203852975928\n",
      "[0.   0.02 0.04] 1.6586497937213096\n",
      "[0.   0.02 0.05] 1.7403295719474166\n",
      "[ 0.    0.03 -0.05] 1.7681027535841185\n",
      "[ 0.    0.03 -0.04] 1.6947411765266631\n",
      "[ 0.    0.03 -0.03] 1.6333771253280336\n",
      "[ 0.    0.03 -0.02] 1.5874203852980466\n",
      "[ 0.    0.03 -0.01] 1.5598019193531227\n",
      "[0.   0.03 0.  ] 1.5511541689039303\n",
      "[0.   0.03 0.01] 1.5598019193523935\n",
      "[0.   0.03 0.02] 1.587420385297965\n",
      "[0.   0.03 0.03] 1.6333771253271196\n",
      "[0.   0.03 0.04] 1.6947411765273106\n",
      "[0.   0.03 0.05] 1.7681027535845049\n",
      "[ 0.    0.04 -0.05] 1.8083953437256595\n",
      "[ 0.    0.04 -0.04] 1.7452656459827631\n",
      "[ 0.    0.04 -0.03] 1.6947411765260503\n",
      "[ 0.    0.04 -0.02] 1.658649793721155\n",
      "[ 0.    0.04 -0.01] 1.6377783621482163\n",
      "[0.   0.04 0.  ] 1.6314836188348227\n",
      "[0.   0.04 0.01] 1.6377783621487332\n",
      "[0.   0.04 0.02] 1.6586497937225584\n",
      "[0.   0.04 0.03] 1.694741176527172\n",
      "[0.   0.04 0.04] 1.7452656459823626\n",
      "[0.   0.04 0.05] 1.8083953437264464\n",
      "[ 0.    0.05 -0.05] 1.860730103276703\n",
      "[ 0.    0.05 -0.04] 1.8083953437244817\n",
      "[ 0.    0.05 -0.03] 1.7681027535845262\n",
      "[ 0.    0.05 -0.02] 1.7403295719471181\n",
      "[ 0.    0.05 -0.01] 1.724696690112686\n",
      "[0.   0.05 0.  ] 1.7202073374420044\n",
      "[0.   0.05 0.01] 1.724696690112789\n",
      "[0.   0.05 0.02] 1.7403295719469654\n",
      "[0.   0.05 0.03] 1.7681027535847083\n",
      "[0.   0.05 0.04] 1.808395343724813\n",
      "[0.   0.05 0.05] 1.8607301032772963\n",
      "[ 0.01 -0.05 -0.05] 1.8649149436730275\n",
      "[ 0.01 -0.05 -0.04] 1.8130884852967064\n",
      "[ 0.01 -0.05 -0.03] 1.7731101950715322\n",
      "[ 0.01 -0.05 -0.02] 1.7453770894115177\n",
      "[ 0.01 -0.05 -0.01] 1.7294966872028743\n",
      "[ 0.01 -0.05  0.  ] 1.7246966901127676\n",
      "[ 0.01 -0.05  0.01] 1.7294966872032846\n",
      "[ 0.01 -0.05  0.02] 1.7453770894129415\n",
      "[ 0.01 -0.05  0.03] 1.77311019507248\n",
      "[ 0.01 -0.05  0.04] 1.8130884852970137\n",
      "[ 0.01 -0.05  0.05] 1.8649149436734787\n",
      "[ 0.01 -0.04 -0.05] 1.8130884852969782\n",
      "[ 0.01 -0.04 -0.04] 1.7508187549706742\n",
      "[ 0.01 -0.04 -0.03] 1.7010072112628674\n",
      "[ 0.01 -0.04 -0.02] 1.6652969215100022\n",
      "[ 0.01 -0.04 -0.01] 1.6443574565550954\n",
      "[ 0.01 -0.04  0.  ] 1.6377783621484037\n",
      "[ 0.01 -0.04  0.01] 1.644357456555106\n",
      "[ 0.01 -0.04  0.02] 1.6652969215099525\n",
      "[ 0.01 -0.04  0.03] 1.7010072112632155\n",
      "[ 0.01 -0.04  0.04] 1.7508187549702008\n",
      "[ 0.01 -0.04  0.05] 1.8130884852974463\n",
      "[ 0.01 -0.03 -0.05] 1.7731101950714478\n",
      "[ 0.01 -0.03 -0.04] 1.7010072112629944\n",
      "[ 0.01 -0.03 -0.03] 1.6409097571852094\n",
      "[ 0.01 -0.03 -0.02] 1.595944728814918\n",
      "[ 0.01 -0.03 -0.01] 1.5686524991925674\n",
      "[ 0.01 -0.03  0.  ] 1.5598019193523553\n",
      "[ 0.01 -0.03  0.01] 1.5686524991929698\n",
      "[ 0.01 -0.03  0.02] 1.595944728814823\n",
      "[ 0.01 -0.03  0.03] 1.640909757185593\n",
      "[ 0.01 -0.03  0.04] 1.7010072112631986\n",
      "[ 0.01 -0.03  0.05] 1.7731101950724177\n",
      "[ 0.01 -0.02 -0.05] 1.7453770894120897\n",
      "[ 0.01 -0.02 -0.04] 1.6652969215095483\n",
      "[ 0.01 -0.02 -0.03] 1.595944728815243\n",
      "[ 0.01 -0.02 -0.02] 1.5414421918147854\n",
      "[ 0.01 -0.02 -0.01] 1.5067302845639983\n",
      "[ 0.01 -0.02  0.  ] 1.4950958965174532\n",
      "[ 0.01 -0.02  0.01] 1.5067302845642594\n",
      "[ 0.01 -0.02  0.02] 1.5414421918152295\n",
      "[ 0.01 -0.02  0.03] 1.5959447288148807\n",
      "[ 0.01 -0.02  0.04] 1.6652969215105946\n",
      "[ 0.01 -0.02  0.05] 1.745377089412024\n",
      "[ 0.01 -0.01 -0.05] 1.7294966872033513\n",
      "[ 0.01 -0.01 -0.04] 1.6443574565550279\n",
      "[ 0.01 -0.01 -0.03] 1.568652499193016\n",
      "[ 0.01 -0.01 -0.02] 1.5067302845640764\n",
      "[ 0.01 -0.01 -0.01] 1.4653117968288027\n",
      "[ 0.01 -0.01  0.  ] 1.4508904087066767\n",
      "[ 0.01 -0.01  0.01] 1.4653117968287486\n",
      "[ 0.01 -0.01  0.02] 1.5067302845640143\n",
      "[ 0.01 -0.01  0.03] 1.568652499192778\n",
      "[ 0.01 -0.01  0.04] 1.6443574565551202\n",
      "[ 0.01 -0.01  0.05] 1.7294966872038904\n",
      "[ 0.01  0.   -0.05] 1.7246966901127898\n",
      "[ 0.01  0.   -0.04] 1.6377783621490734\n",
      "[ 0.01  0.   -0.03] 1.5598019193531387\n",
      "[ 0.01  0.   -0.02] 1.4950958965175394\n",
      "[ 0.01  0.   -0.01] 1.4508904087056589\n",
      "[0.01 0.   0.  ] 1.4357399023303516\n",
      "[0.01 0.   0.01] 1.4508904087063037\n",
      "[0.01 0.   0.02] 1.4950958965177028\n",
      "[0.01 0.   0.03] 1.559801919352843\n",
      "[0.01 0.   0.04] 1.6377783621486701\n",
      "[0.01 0.   0.05] 1.7246966901128982\n",
      "[ 0.01  0.01 -0.05] 1.7294966872034028\n",
      "[ 0.01  0.01 -0.04] 1.6443574565551664\n",
      "[ 0.01  0.01 -0.03] 1.5686524991927353\n",
      "[ 0.01  0.01 -0.02] 1.5067302845639077\n",
      "[ 0.01  0.01 -0.01] 1.4653117968286704\n",
      "[0.01 0.01 0.  ] 1.4508904087069245\n",
      "[0.01 0.01 0.01] 1.4653117968288818\n",
      "[0.01 0.01 0.02] 1.506730284563698\n",
      "[0.01 0.01 0.03] 1.5686524991929645\n",
      "[0.01 0.01 0.04] 1.6443574565580512\n",
      "[0.01 0.01 0.05] 1.7294966872039685\n",
      "[ 0.01  0.02 -0.05] 1.7453770894119565\n",
      "[ 0.01  0.02 -0.04] 1.6652969215104374\n",
      "[ 0.01  0.02 -0.03] 1.5959447288149482\n",
      "[ 0.01  0.02 -0.02] 1.54144219181459\n",
      "[ 0.01  0.02 -0.01] 1.5067302845637824\n",
      "[0.01 0.02 0.  ] 1.4950958965176016\n",
      "[0.01 0.02 0.01] 1.5067302845639707\n",
      "[0.01 0.02 0.02] 1.5414421918146175\n",
      "[0.01 0.02 0.03] 1.5959447288150779\n",
      "[0.01 0.02 0.04] 1.6652969215093405\n",
      "[0.01 0.02 0.05] 1.7453770894124654\n",
      "[ 0.01  0.03 -0.05] 1.7731101950712933\n",
      "[ 0.01  0.03 -0.04] 1.7010072112628851\n",
      "[ 0.01  0.03 -0.03] 1.6409097571854812\n",
      "[ 0.01  0.03 -0.02] 1.595944728815022\n",
      "[ 0.01  0.03 -0.01] 1.5686524991925834\n",
      "[0.01 0.03 0.  ] 1.559801919353049\n",
      "[0.01 0.03 0.01] 1.5686524991933046\n",
      "[0.01 0.03 0.02] 1.5959447288144855\n",
      "[0.01 0.03 0.03] 1.6409097571855327\n",
      "[0.01 0.03 0.04] 1.70100721126272\n",
      "[0.01 0.03 0.05] 1.7731101950726567\n",
      "[ 0.01  0.04 -0.05] 1.8130884852972509\n",
      "[ 0.01  0.04 -0.04] 1.750818754970413\n",
      "[ 0.01  0.04 -0.03] 1.7010072112629269\n",
      "[ 0.01  0.04 -0.02] 1.6652969215092144\n",
      "[ 0.01  0.04 -0.01] 1.6443574565551096\n",
      "[0.01 0.04 0.  ] 1.6377783621487287\n",
      "[0.01 0.04 0.01] 1.6443574565551167\n",
      "[0.01 0.04 0.02] 1.66529692150971\n",
      "[0.01 0.04 0.03] 1.7010072112630326\n",
      "[0.01 0.04 0.04] 1.7508187549706715\n",
      "[0.01 0.04 0.05] 1.8130884852972171\n",
      "[ 0.01  0.05 -0.05] 1.8649149436734476\n",
      "[ 0.01  0.05 -0.04] 1.8130884852968068\n",
      "[ 0.01  0.05 -0.03] 1.7731101950719435\n",
      "[ 0.01  0.05 -0.02] 1.745377089411999\n",
      "[ 0.01  0.05 -0.01] 1.729496687203297\n",
      "[0.01 0.05 0.  ] 1.724696690112414\n",
      "[0.01 0.05 0.01] 1.729496687203432\n",
      "[0.01 0.05 0.02] 1.7453770894118632\n",
      "[0.01 0.05 0.03] 1.7731101950719435\n",
      "[0.01 0.05 0.04] 1.8130884852977722\n",
      "[0.01 0.05 0.05] 1.864914943672428\n",
      "[ 0.02 -0.05 -0.05] 1.8776416115813284\n",
      "[ 0.02 -0.05 -0.04] 1.8273818879441714\n",
      "[ 0.02 -0.05 -0.03] 1.7884261002591213\n",
      "[ 0.02 -0.05 -0.02] 1.761057779299934\n",
      "[ 0.02 -0.05 -0.01] 1.745377089412358\n",
      "[ 0.02 -0.05  0.  ] 1.740329571946745\n",
      "[ 0.02 -0.05  0.01] 1.7453770894113116\n",
      "[ 0.02 -0.05  0.02] 1.7610577793002449\n",
      "[ 0.02 -0.05  0.03] 1.78842610025906\n",
      "[ 0.02 -0.05  0.04] 1.8273818879433232\n",
      "[ 0.02 -0.05  0.05] 1.8776416115812333\n",
      "[ 0.02 -0.04 -0.05] 1.8273818879433419\n",
      "[ 0.02 -0.04 -0.04] 1.76771042348049\n",
      "[ 0.02 -0.04 -0.03] 1.720071796711994\n",
      "[ 0.02 -0.04 -0.02] 1.6856634994975117\n",
      "[ 0.02 -0.04 -0.01] 1.6652969215084852\n",
      "[ 0.02 -0.04  0.  ] 1.6586497937212608\n",
      "[ 0.02 -0.04  0.01] 1.6652969215099338\n",
      "[ 0.02 -0.04  0.02] 1.685663499497422\n",
      "[ 0.02 -0.04  0.03] 1.7200717967120385\n",
      "[ 0.02 -0.04  0.04] 1.7677104234802261\n",
      "[ 0.02 -0.04  0.05] 1.8273818879432282\n",
      "[ 0.02 -0.03 -0.05] 1.7884261002584383\n",
      "[ 0.02 -0.03 -0.04] 1.7200717967117907\n",
      "[ 0.02 -0.03 -0.03] 1.663734887042204\n",
      "[ 0.02 -0.03 -0.02] 1.621699744073771\n",
      "[ 0.02 -0.03 -0.01] 1.5959447288152173\n",
      "[ 0.02 -0.03  0.  ] 1.5874203852994224\n",
      "[ 0.02 -0.03  0.01] 1.595944728814481\n",
      "[ 0.02 -0.03  0.02] 1.6216997440739043\n",
      "[ 0.02 -0.03  0.03] 1.6637348870422146\n",
      "[ 0.02 -0.03  0.04] 1.7200717967113146\n",
      "[ 0.02 -0.03  0.05] 1.7884261002584303\n",
      "[ 0.02 -0.02 -0.05] 1.761057779299783\n",
      "[ 0.02 -0.02 -0.04] 1.685663499497319\n",
      "[ 0.02 -0.02 -0.03] 1.6216997440749328\n",
      "[ 0.02 -0.02 -0.02] 1.572716242410138\n",
      "[ 0.02 -0.02 -0.01] 1.5414421918141015\n",
      "[ 0.02 -0.02  0.  ] 1.5309996651711382\n",
      "[ 0.02 -0.02  0.01] 1.5414421918128607\n",
      "[ 0.02 -0.02  0.02] 1.5727162424100811\n",
      "[ 0.02 -0.02  0.03] 1.6216997440738297\n",
      "[ 0.02 -0.02  0.04] 1.6856634994977\n",
      "[ 0.02 -0.02  0.05] 1.7610577792997608\n",
      "[ 0.02 -0.01 -0.05] 1.7453770894114609\n",
      "[ 0.02 -0.01 -0.04] 1.6652969215112563\n",
      "[ 0.02 -0.01 -0.03] 1.595944728814918\n",
      "[ 0.02 -0.01 -0.02] 1.541442191814932\n",
      "[ 0.02 -0.01 -0.01] 1.5067302845640036\n",
      "[ 0.02 -0.01  0.  ] 1.4950958965175039\n",
      "[ 0.02 -0.01  0.01] 1.506730284563628\n",
      "[ 0.02 -0.01  0.02] 1.5414421918133323\n",
      "[ 0.02 -0.01  0.03] 1.5959447288149757\n",
      "[ 0.02 -0.01  0.04] 1.6652969215100564\n",
      "[ 0.02 -0.01  0.05] 1.7453770894118517\n",
      "[ 0.02  0.   -0.05] 1.7403295719472531\n",
      "[ 0.02  0.   -0.04] 1.6586497937216498\n",
      "[ 0.02  0.   -0.03] 1.58742038529775\n",
      "[ 0.02  0.   -0.02] 1.530999665171736\n",
      "[ 0.02  0.   -0.01] 1.4950958965180616\n",
      "[0.02 0.   0.  ] 1.4834482031697833\n",
      "[0.02 0.   0.01] 1.4950958965183885\n",
      "[0.02 0.   0.02] 1.530999665172052\n",
      "[0.02 0.   0.03] 1.5874203852976976\n",
      "[0.02 0.   0.04] 1.6586497937213691\n",
      "[0.02 0.   0.05] 1.7403295719459848\n",
      "[ 0.02  0.01 -0.05] 1.745377089412016\n",
      "[ 0.02  0.01 -0.04] 1.6652969215099098\n",
      "[ 0.02  0.01 -0.03] 1.5959447288148239\n",
      "[ 0.02  0.01 -0.02] 1.5414421918138244\n",
      "[ 0.02  0.01 -0.01] 1.5067302845644281\n"
     ]
    },
    {
     "name": "stdout",
     "output_type": "stream",
     "text": [
      "[0.02 0.01 0.  ] 1.495095896517741\n",
      "[0.02 0.01 0.01] 1.5067302845642834\n",
      "[0.02 0.01 0.02] 1.5414421918142116\n",
      "[0.02 0.01 0.03] 1.5959447288149118\n",
      "[0.02 0.01 0.04] 1.6652969215099445\n",
      "[0.02 0.01 0.05] 1.7453770894124423\n",
      "[ 0.02  0.02 -0.05] 1.7610577792998612\n",
      "[ 0.02  0.02 -0.04] 1.68566349949758\n",
      "[ 0.02  0.02 -0.03] 1.621699744073629\n",
      "[ 0.02  0.02 -0.02] 1.57271624241013\n",
      "[ 0.02  0.02 -0.01] 1.5414421918152135\n",
      "[0.02 0.02 0.  ] 1.5309996651708992\n",
      "[0.02 0.02 0.01] 1.5414421918143608\n",
      "[0.02 0.02 0.02] 1.572716242410113\n",
      "[0.02 0.02 0.03] 1.6216997440736236\n",
      "[0.02 0.02 0.04] 1.6856634994976618\n",
      "[0.02 0.02 0.05] 1.7610577793001543\n",
      "[ 0.02  0.03 -0.05] 1.788426100259037\n",
      "[ 0.02  0.03 -0.04] 1.7200717967120331\n",
      "[ 0.02  0.03 -0.03] 1.66373488704249\n",
      "[ 0.02  0.03 -0.02] 1.6216997440730383\n",
      "[ 0.02  0.03 -0.01] 1.5959447288145183\n",
      "[0.02 0.03 0.  ] 1.587420385299355\n",
      "[0.02 0.03 0.01] 1.5959447288148505\n",
      "[0.02 0.03 0.02] 1.6216997440740073\n",
      "[0.02 0.03 0.03] 1.6637348870421667\n",
      "[0.02 0.03 0.04] 1.7200717967119674\n",
      "[0.02 0.03 0.05] 1.788426100259061\n",
      "[ 0.02  0.04 -0.05] 1.8273818879433597\n",
      "[ 0.02  0.04 -0.04] 1.7677104234802128\n",
      "[ 0.02  0.04 -0.03] 1.7200717967120358\n",
      "[ 0.02  0.04 -0.02] 1.685663499497628\n",
      "[ 0.02  0.04 -0.01] 1.6652969215101816\n",
      "[0.02 0.04 0.  ] 1.658649793721688\n",
      "[0.02 0.04 0.01] 1.6652969215098246\n",
      "[0.02 0.04 0.02] 1.6856634994976405\n",
      "[0.02 0.04 0.03] 1.7200717967119914\n",
      "[0.02 0.04 0.04] 1.7677104234808194\n",
      "[0.02 0.04 0.05] 1.8273818879438695\n",
      "[ 0.02  0.05 -0.05] 1.8776416115809313\n",
      "[ 0.02  0.05 -0.04] 1.8273818879440737\n",
      "[ 0.02  0.05 -0.03] 1.7884261002598185\n",
      "[ 0.02  0.05 -0.02] 1.761057779299306\n",
      "[ 0.02  0.05 -0.01] 1.7453770894119822\n",
      "[0.02 0.05 0.  ] 1.7403295719471794\n",
      "[0.02 0.05 0.01] 1.7453770894120275\n",
      "[0.02 0.05 0.02] 1.7610577792996898\n",
      "[0.02 0.05 0.03] 1.7884261002586\n",
      "[0.02 0.05 0.04] 1.8273818879433614\n",
      "[0.02 0.05 0.05] 1.877641611581467\n",
      "[ 0.03 -0.05 -0.05] 1.8993259160762488\n",
      "[ 0.03 -0.05 -0.04] 1.8517194110382649\n",
      "[ 0.03 -0.05 -0.03] 1.814595910427859\n",
      "[ 0.03 -0.05 -0.02] 1.78842610025906\n",
      "[ 0.03 -0.05 -0.01] 1.773110195071875\n",
      "[ 0.03 -0.05  0.  ] 1.768102753584591\n",
      "[ 0.03 -0.05  0.01] 1.7731101950715464\n",
      "[ 0.03 -0.05  0.02] 1.78842610025879\n",
      "[ 0.03 -0.05  0.03] 1.8145959104278102\n",
      "[ 0.03 -0.05  0.04] 1.8517194110389186\n",
      "[ 0.03 -0.05  0.05] 1.8993259160770162\n",
      "[ 0.03 -0.04 -0.05] 1.8517194110381912\n",
      "[ 0.03 -0.04 -0.04] 1.7963356659053469\n",
      "[ 0.03 -0.04 -0.03] 1.7521393898903197\n",
      "[ 0.03 -0.04 -0.02] 1.7200717967120323\n",
      "[ 0.03 -0.04 -0.01] 1.7010072112625299\n",
      "[ 0.03 -0.04  0.  ] 1.694741176526347\n",
      "[ 0.03 -0.04  0.01] 1.7010072112629189\n",
      "[ 0.03 -0.04  0.02] 1.7200717967116903\n",
      "[ 0.03 -0.04  0.03] 1.752139389890898\n",
      "[ 0.03 -0.04  0.04] 1.796335665906068\n",
      "[ 0.03 -0.04  0.05] 1.8517194110381832\n",
      "[ 0.03 -0.03 -0.05] 1.8145959104279825\n",
      "[ 0.03 -0.03 -0.04] 1.7521393898903082\n",
      "[ 0.03 -0.03 -0.03] 1.70175068151641\n",
      "[ 0.03 -0.03 -0.02] 1.6637348870440052\n",
      "[ 0.03 -0.03 -0.01] 1.6409097571855957\n",
      "[ 0.03 -0.03  0.  ] 1.633377125327824\n",
      "[ 0.03 -0.03  0.01] 1.6409097571851756\n",
      "[ 0.03 -0.03  0.02] 1.6637348870415352\n",
      "[ 0.03 -0.03  0.03] 1.7017506815161543\n",
      "[ 0.03 -0.03  0.04] 1.752139389889595\n",
      "[ 0.03 -0.03  0.05] 1.8145959104286353\n",
      "[ 0.03 -0.02 -0.05] 1.7884261002593442\n",
      "[ 0.03 -0.02 -0.04] 1.7200717967123804\n",
      "[ 0.03 -0.02 -0.03] 1.6637348870422102\n",
      "[ 0.03 -0.02 -0.02] 1.6216997440738439\n",
      "[ 0.03 -0.02 -0.01] 1.5959447288149482\n",
      "[ 0.03 -0.02  0.  ] 1.587420385297862\n",
      "[ 0.03 -0.02  0.01] 1.5959447288155086\n",
      "[ 0.03 -0.02  0.02] 1.6216997440736316\n",
      "[ 0.03 -0.02  0.03] 1.6637348870424002\n",
      "[ 0.03 -0.02  0.04] 1.7200717967113848\n",
      "[ 0.03 -0.02  0.05] 1.7884261002590964\n",
      "[ 0.03 -0.01 -0.05] 1.7731101950719106\n",
      "[ 0.03 -0.01 -0.04] 1.7010072112631773\n",
      "[ 0.03 -0.01 -0.03] 1.6409097571861482\n",
      "[ 0.03 -0.01 -0.02] 1.5959447288144162\n",
      "[ 0.03 -0.01 -0.01] 1.5686524991934707\n",
      "[ 0.03 -0.01  0.  ] 1.5598019193528092\n",
      "[ 0.03 -0.01  0.01] 1.5686524991934983\n",
      "[ 0.03 -0.01  0.02] 1.5959447288148745\n",
      "[ 0.03 -0.01  0.03] 1.6409097571855575\n",
      "[ 0.03 -0.01  0.04] 1.701007211263005\n",
      "[ 0.03 -0.01  0.05] 1.7731101950726513\n",
      "[ 0.03  0.   -0.05] 1.768102753584336\n",
      "[ 0.03  0.   -0.04] 1.6947411765266711\n",
      "[ 0.03  0.   -0.03] 1.6333771253282645\n",
      "[ 0.03  0.   -0.02] 1.5874203852980981\n",
      "[ 0.03  0.   -0.01] 1.5598019193528554\n",
      "[0.03 0.   0.  ] 1.551154168904337\n",
      "[0.03 0.   0.01] 1.5598019193528048\n",
      "[0.03 0.   0.02] 1.587420385297837\n",
      "[0.03 0.   0.03] 1.6333771253279519\n",
      "[0.03 0.   0.04] 1.6947411765261595\n",
      "[0.03 0.   0.05] 1.768102753584504\n",
      "[ 0.03  0.01 -0.05] 1.7731101950719736\n",
      "[ 0.03  0.01 -0.04] 1.7010072112625778\n",
      "[ 0.03  0.01 -0.03] 1.6409097571864901\n",
      "[ 0.03  0.01 -0.02] 1.5959447288151765\n",
      "[ 0.03  0.01 -0.01] 1.5686524991928694\n",
      "[0.03 0.01 0.  ] 1.5598019193535446\n",
      "[0.03 0.01 0.01] 1.5686524991930977\n",
      "[0.03 0.01 0.02] 1.5959447288145858\n",
      "[0.03 0.01 0.03] 1.640909757185434\n",
      "[0.03 0.01 0.04] 1.7010072112635637\n",
      "[0.03 0.01 0.05] 1.773110195072137\n",
      "[ 0.03  0.02 -0.05] 1.7884261002591266\n",
      "[ 0.03  0.02 -0.04] 1.7200717967119807\n",
      "[ 0.03  0.02 -0.03] 1.6637348870409419\n",
      "[ 0.03  0.02 -0.02] 1.6216997440739984\n",
      "[ 0.03  0.02 -0.01] 1.5959447288150548\n",
      "[0.03 0.02 0.  ] 1.5874203852977056\n",
      "[0.03 0.02 0.01] 1.5959447288145174\n",
      "[0.03 0.02 0.02] 1.6216997440735614\n",
      "[0.03 0.02 0.03] 1.6637348870422857\n",
      "[0.03 0.02 0.04] 1.7200717967115562\n",
      "[0.03 0.02 0.05] 1.7884261002590378\n",
      "[ 0.03  0.03 -0.05] 1.814595910428257\n",
      "[ 0.03  0.03 -0.04] 1.7521393898900417\n",
      "[ 0.03  0.03 -0.03] 1.7017506815163985\n",
      "[ 0.03  0.03 -0.02] 1.6637348870421507\n",
      "[ 0.03  0.03 -0.01] 1.640909757185609\n",
      "[0.03 0.03 0.  ] 1.6333771253279625\n",
      "[0.03 0.03 0.01] 1.6409097571853692\n",
      "[0.03 0.03 0.02] 1.6637348870426498\n",
      "[0.03 0.03 0.03] 1.701750681516664\n",
      "[0.03 0.03 0.04] 1.7521393898900515\n",
      "[0.03 0.03 0.05] 1.8145959104274434\n",
      "[ 0.03  0.04 -0.05] 1.8517194110381787\n",
      "[ 0.03  0.04 -0.04] 1.7963356659040723\n",
      "[ 0.03  0.04 -0.03] 1.7521393898895168\n",
      "[ 0.03  0.04 -0.02] 1.7200717967115562\n",
      "[ 0.03  0.04 -0.01] 1.7010072112629864\n",
      "[0.03 0.04 0.  ] 1.6947411765269322\n",
      "[0.03 0.04 0.01] 1.7010072112630032\n",
      "[0.03 0.04 0.02] 1.720071796712384\n",
      "[0.03 0.04 0.03] 1.7521393898903295\n",
      "[0.03 0.04 0.04] 1.7963356659059775\n",
      "[0.03 0.04 0.05] 1.8517194110382755\n",
      "[ 0.03  0.05 -0.05] 1.8993259160761102\n",
      "[ 0.03  0.05 -0.04] 1.8517194110382436\n",
      "[ 0.03  0.05 -0.03] 1.814595910427748\n",
      "[ 0.03  0.05 -0.02] 1.7884261002590351\n",
      "[ 0.03  0.05 -0.01] 1.7731101950716441\n",
      "[0.03 0.05 0.  ] 1.7681027535845857\n",
      "[0.03 0.05 0.01] 1.773110195070891\n",
      "[0.03 0.05 0.02] 1.78842610025883\n",
      "[0.03 0.05 0.03] 1.8145959104278901\n",
      "[0.03 0.05 0.04] 1.8517194110375792\n",
      "[0.03 0.05 0.05] 1.8993259160760534\n",
      "[ 0.04 -0.05 -0.05] 1.9303931576944366\n",
      "[ 0.04 -0.05 -0.04] 1.8862903941803832\n",
      "[ 0.04 -0.05 -0.03] 1.8517194110382027\n",
      "[ 0.04 -0.05 -0.02] 1.8273818879443757\n",
      "[ 0.04 -0.05 -0.01] 1.8130884852974978\n",
      "[ 0.04 -0.05  0.  ] 1.808395343724996\n",
      "[ 0.04 -0.05  0.01] 1.8130884852974605\n",
      "[ 0.04 -0.05  0.02] 1.827381887943445\n",
      "[ 0.04 -0.05  0.03] 1.85171941103839\n",
      "[ 0.04 -0.05  0.04] 1.88629039418033\n",
      "[ 0.04 -0.05  0.05] 1.930393157694322\n",
      "[ 0.04 -0.04 -0.05] 1.886290394180345\n",
      "[ 0.04 -0.04 -0.04] 1.8367361807371099\n",
      "[ 0.04 -0.04 -0.03] 1.7963356659060947\n",
      "[ 0.04 -0.04 -0.02] 1.767710423480234\n",
      "[ 0.04 -0.04 -0.01] 1.7508187549704557\n",
      "[ 0.04 -0.04  0.  ] 1.7452656459829399\n",
      "[ 0.04 -0.04  0.01] 1.7508187549709415\n",
      "[ 0.04 -0.04  0.02] 1.7677104234802226\n",
      "[ 0.04 -0.04  0.03] 1.796335665905218\n",
      "[ 0.04 -0.04  0.04] 1.8367361807369837\n",
      "[ 0.04 -0.04  0.05] 1.8862903941801576\n",
      "[ 0.04 -0.03 -0.05] 1.8517194110382569\n",
      "[ 0.04 -0.03 -0.04] 1.7963356659059562\n",
      "[ 0.04 -0.03 -0.03] 1.7521393898903268\n",
      "[ 0.04 -0.03 -0.02] 1.720071796712455\n",
      "[ 0.04 -0.03 -0.01] 1.7010072112639802\n",
      "[ 0.04 -0.03  0.  ] 1.6947411765266107\n",
      "[ 0.04 -0.03  0.01] 1.7010072112629624\n",
      "[ 0.04 -0.03  0.02] 1.720071796712002\n",
      "[ 0.04 -0.03  0.03] 1.7521393898902593\n",
      "[ 0.04 -0.03  0.04] 1.7963356659058771\n",
      "[ 0.04 -0.03  0.05] 1.851719411038153\n",
      "[ 0.04 -0.02 -0.05] 1.8273818879433854\n",
      "[ 0.04 -0.02 -0.04] 1.7677104234800813\n",
      "[ 0.04 -0.02 -0.03] 1.720071796711423\n",
      "[ 0.04 -0.02 -0.02] 1.6856634994984052\n",
      "[ 0.04 -0.02 -0.01] 1.665296921510448\n",
      "[ 0.04 -0.02  0.  ] 1.6586497937219358\n",
      "[ 0.04 -0.02  0.01] 1.665296921509822\n",
      "[ 0.04 -0.02  0.02] 1.6856634994983288\n",
      "[ 0.04 -0.02  0.03] 1.7200717967123342\n",
      "[ 0.04 -0.02  0.04] 1.767710423479513\n",
      "[ 0.04 -0.02  0.05] 1.8273818879441688\n",
      "[ 0.04 -0.01 -0.05] 1.8130884852968343\n",
      "[ 0.04 -0.01 -0.04] 1.7508187549690275\n",
      "[ 0.04 -0.01 -0.03] 1.7010072112627714\n",
      "[ 0.04 -0.01 -0.02] 1.665296921509798\n",
      "[ 0.04 -0.01 -0.01] 1.6443574565551966\n",
      "[ 0.04 -0.01  0.  ] 1.637778362148734\n",
      "[ 0.04 -0.01  0.01] 1.6443574565535721\n",
      "[ 0.04 -0.01  0.02] 1.6652969215103637\n",
      "[ 0.04 -0.01  0.03] 1.7010072112632235\n",
      "[ 0.04 -0.01  0.04] 1.750818754971026\n",
      "[ 0.04 -0.01  0.05] 1.813088485297957\n",
      "[ 0.04  0.   -0.05] 1.808395343725052\n",
      "[ 0.04  0.   -0.04] 1.7452656459830056\n",
      "[ 0.04  0.   -0.03] 1.694741176527013\n",
      "[ 0.04  0.   -0.02] 1.6586497937212688\n",
      "[ 0.04  0.   -0.01] 1.63777836214937\n",
      "[0.04 0.   0.  ] 1.6314836188348911\n",
      "[0.04 0.   0.01] 1.637778362150545\n",
      "[0.04 0.   0.02] 1.658649793721609\n",
      "[0.04 0.   0.03] 1.6947411765265192\n",
      "[0.04 0.   0.04] 1.7452656459832774\n",
      "[0.04 0.   0.05] 1.8083953437253033\n",
      "[ 0.04  0.01 -0.05] 1.8130884852969968\n",
      "[ 0.04  0.01 -0.04] 1.750818754969064\n",
      "[ 0.04  0.01 -0.03] 1.7010072112619987\n",
      "[ 0.04  0.01 -0.02] 1.6652969215097624\n",
      "[ 0.04  0.01 -0.01] 1.644357456554884\n",
      "[0.04 0.01 0.  ] 1.637778362149163\n",
      "[0.04 0.01 0.01] 1.6443574565553467\n",
      "[0.04 0.01 0.02] 1.6652969215098476\n",
      "[0.04 0.01 0.03] 1.701007211262053\n",
      "[0.04 0.01 0.04] 1.7508187549701866\n",
      "[0.04 0.01 0.05] 1.8130884852964444\n",
      "[ 0.04  0.02 -0.05] 1.8273818879434094\n",
      "[ 0.04  0.02 -0.04] 1.767710423480258\n",
      "[ 0.04  0.02 -0.03] 1.7200717967119674\n",
      "[ 0.04  0.02 -0.02] 1.6856634994975472\n",
      "[ 0.04  0.02 -0.01] 1.6652969215111586\n",
      "[0.04 0.02 0.  ] 1.6586497937216276\n",
      "[0.04 0.02 0.01] 1.665296921509884\n",
      "[0.04 0.02 0.02] 1.685663499497446\n",
      "[0.04 0.02 0.03] 1.720071796712161\n",
      "[0.04 0.02 0.04] 1.7677104234806036\n",
      "[0.04 0.02 0.05] 1.827381887942626\n",
      "[ 0.04  0.03 -0.05] 1.8517194110381148\n",
      "[ 0.04  0.03 -0.04] 1.796335665906108\n",
      "[ 0.04  0.03 -0.03] 1.752139389890469\n",
      "[ 0.04  0.03 -0.02] 1.720071796712416\n",
      "[ 0.04  0.03 -0.01] 1.7010072112626116\n",
      "[0.04 0.03 0.  ] 1.694741176526616\n",
      "[0.04 0.03 0.01] 1.7010072112629455\n",
      "[0.04 0.03 0.02] 1.7200717967122667\n",
      "[0.04 0.03 0.03] 1.7521393898903979\n",
      "[0.04 0.03 0.04] 1.7963356659060743\n",
      "[0.04 0.03 0.05] 1.8517194110382054\n",
      "[ 0.04  0.04 -0.05] 1.886290394180242\n",
      "[ 0.04  0.04 -0.04] 1.8367361807367848\n",
      "[ 0.04  0.04 -0.03] 1.7963356659058682\n",
      "[ 0.04  0.04 -0.02] 1.7677104234808354\n",
      "[ 0.04  0.04 -0.01] 1.750818754970446\n",
      "[0.04 0.04 0.  ] 1.7452656459830935\n",
      "[0.04 0.04 0.01] 1.7508187549701164\n",
      "[0.04 0.04 0.02] 1.7677104234802634\n",
      "[0.04 0.04 0.03] 1.7963356659059366\n",
      "[0.04 0.04 0.04] 1.8367361807367653\n",
      "[0.04 0.04 0.05] 1.886290394180259\n",
      "[ 0.04  0.05 -0.05] 1.930393157694657\n",
      "[ 0.04  0.05 -0.04] 1.8862903941802234\n",
      "[ 0.04  0.05 -0.03] 1.8517194110381645\n",
      "[ 0.04  0.05 -0.02] 1.8273818879436652\n",
      "[ 0.04  0.05 -0.01] 1.8130884852973397\n",
      "[0.04 0.05 0.  ] 1.8083953437244267\n",
      "[0.04 0.05 0.01] 1.8130884852959657\n",
      "[0.04 0.05 0.02] 1.8273818879435257\n",
      "[0.04 0.05 0.03] 1.8517194110382\n",
      "[0.04 0.05 0.04] 1.8862903941803104\n",
      "[0.04 0.05 0.05] 1.9303931576942466\n",
      "[ 0.05 -0.05 -0.05] 1.9710532670488874\n",
      "[ 0.05 -0.05 -0.04] 1.9303931576943487\n",
      "[ 0.05 -0.05 -0.03] 1.8993259160774238\n",
      "[ 0.05 -0.05 -0.02] 1.8776416115814554\n",
      "[ 0.05 -0.05 -0.01] 1.8649149436736279\n",
      "[ 0.05 -0.05  0.  ] 1.8607301032766133\n",
      "[ 0.05 -0.05  0.01] 1.8649149436739112\n",
      "[ 0.05 -0.05  0.02] 1.8776416115825363\n",
      "[ 0.05 -0.05  0.03] 1.8993259160761458\n",
      "[ 0.05 -0.05  0.04] 1.9303931576943194\n",
      "[ 0.05 -0.05  0.05] 1.9710532670490304\n",
      "[ 0.05 -0.04 -0.05] 1.9303931576946676\n",
      "[ 0.05 -0.04 -0.04] 1.8862903941801\n",
      "[ 0.05 -0.04 -0.03] 1.8517194110378057\n",
      "[ 0.05 -0.04 -0.02] 1.8273818879434014\n",
      "[ 0.05 -0.04 -0.01] 1.8130884852968991\n",
      "[ 0.05 -0.04  0.  ] 1.8083953437246816\n",
      "[ 0.05 -0.04  0.01] 1.8130884852966735\n",
      "[ 0.05 -0.04  0.02] 1.8273818879438037\n",
      "[ 0.05 -0.04  0.03] 1.8517194110385287\n",
      "[ 0.05 -0.04  0.04] 1.8862903941800617\n",
      "[ 0.05 -0.04  0.05] 1.9303931576941915\n",
      "[ 0.05 -0.03 -0.05] 1.899325916076113\n",
      "[ 0.05 -0.03 -0.04] 1.851719411038241\n",
      "[ 0.05 -0.03 -0.03] 1.8145959104283218\n",
      "[ 0.05 -0.03 -0.02] 1.788426100258877\n",
      "[ 0.05 -0.03 -0.01] 1.7731101950719674\n",
      "[ 0.05 -0.03  0.  ] 1.7681027535848362\n",
      "[ 0.05 -0.03  0.01] 1.7731101950726806\n",
      "[ 0.05 -0.03  0.02] 1.788426100259132\n",
      "[ 0.05 -0.03  0.03] 1.8145959104276912\n",
      "[ 0.05 -0.03  0.04] 1.8517194110384088\n",
      "[ 0.05 -0.03  0.05] 1.8993259160763634\n",
      "[ 0.05 -0.02 -0.05] 1.8776416115815042\n",
      "[ 0.05 -0.02 -0.04] 1.8273818879439734\n",
      "[ 0.05 -0.02 -0.03] 1.7884261002589446\n",
      "[ 0.05 -0.02 -0.02] 1.7610577792994828\n",
      "[ 0.05 -0.02 -0.01] 1.745377089411929\n",
      "[ 0.05 -0.02  0.  ] 1.740329571947048\n",
      "[ 0.05 -0.02  0.01] 1.7453770894127727\n",
      "[ 0.05 -0.02  0.02] 1.761057779299807\n",
      "[ 0.05 -0.02  0.03] 1.7884261002589312\n",
      "[ 0.05 -0.02  0.04] 1.8273818879433907\n",
      "[ 0.05 -0.02  0.05] 1.8776416115805663\n",
      "[ 0.05 -0.01 -0.05] 1.864914943673332\n",
      "[ 0.05 -0.01 -0.04] 1.8130884852972828\n",
      "[ 0.05 -0.01 -0.03] 1.773110195072774\n",
      "[ 0.05 -0.01 -0.02] 1.7453770894124236\n",
      "[ 0.05 -0.01 -0.01] 1.7294966872032713\n",
      "[ 0.05 -0.01  0.  ] 1.7246966901129124\n",
      "[ 0.05 -0.01  0.01] 1.7294966872033015\n",
      "[ 0.05 -0.01  0.02] 1.7453770894119636\n",
      "[ 0.05 -0.01  0.03] 1.773110195071201\n",
      "[ 0.05 -0.01  0.04] 1.8130884852972695\n",
      "[ 0.05 -0.01  0.05] 1.864914943672499\n",
      "[ 0.05  0.   -0.05] 1.860730103277568\n",
      "[ 0.05  0.   -0.04] 1.8083953437248699\n",
      "[ 0.05  0.   -0.03] 1.7681027535845972\n",
      "[ 0.05  0.   -0.02] 1.7403295719469547\n",
      "[ 0.05  0.   -0.01] 1.7246966901127845\n",
      "[0.05 0.   0.  ] 1.7202073374437896\n",
      "[0.05 0.   0.01] 1.7246966901127543\n",
      "[0.05 0.   0.02] 1.7403295719474912\n",
      "[0.05 0.   0.03] 1.7681027535847305\n",
      "[0.05 0.   0.04] 1.808395343725044\n",
      "[0.05 0.   0.05] 1.8607301032768202\n",
      "[ 0.05  0.01 -0.05] 1.864914943674047\n",
      "[ 0.05  0.01 -0.04] 1.8130884852957623\n",
      "[ 0.05  0.01 -0.03] 1.773110195071661\n",
      "[ 0.05  0.01 -0.02] 1.7453770894119858\n",
      "[ 0.05  0.01 -0.01] 1.729496687203678\n",
      "[0.05 0.01 0.  ] 1.7246966901121779\n",
      "[0.05 0.01 0.01] 1.72949668720337\n",
      "[0.05 0.01 0.02] 1.7453770894120808\n",
      "[0.05 0.01 0.03] 1.7731101950719061\n",
      "[0.05 0.01 0.04] 1.8130884852957188\n",
      "[0.05 0.01 0.05] 1.8649149436730976\n",
      "[ 0.05  0.02 -0.05] 1.8776416115815753\n",
      "[ 0.05  0.02 -0.04] 1.8273818879429085\n",
      "[ 0.05  0.02 -0.03] 1.7884261002591089\n",
      "[ 0.05  0.02 -0.02] 1.7610577793004243\n",
      "[ 0.05  0.02 -0.01] 1.7453770894111145\n",
      "[0.05 0.02 0.  ] 1.7403295719473206\n",
      "[0.05 0.02 0.01] 1.7453770894124343\n",
      "[0.05 0.02 0.02] 1.761057779299831\n",
      "[0.05 0.02 0.03] 1.7884261002583433\n",
      "[0.05 0.02 0.04] 1.8273818879433437\n",
      "[0.05 0.02 0.05] 1.8776416115817467\n",
      "[ 0.05  0.03 -0.05] 1.8993259160761404\n",
      "[ 0.05  0.03 -0.04] 1.8517194110390331\n",
      "[ 0.05  0.03 -0.03] 1.8145959104278564\n",
      "[ 0.05  0.03 -0.02] 1.7884261002591764\n",
      "[ 0.05  0.03 -0.01] 1.7731101950723112\n",
      "[0.05 0.03 0.  ] 1.7681027535844231\n",
      "[0.05 0.03 0.01] 1.773110195072186\n",
      "[0.05 0.03 0.02] 1.7884261002591\n",
      "[0.05 0.03 0.03] 1.814595910427859\n",
      "[0.05 0.03 0.04] 1.8517194110384558\n",
      "[0.05 0.03 0.05] 1.8993259160761538\n",
      "[ 0.05  0.04 -0.05] 1.9303931576940867\n",
      "[ 0.05  0.04 -0.04] 1.8862903941811453\n",
      "[ 0.05  0.04 -0.03] 1.8517194110382782\n",
      "[ 0.05  0.04 -0.02] 1.8273818879428125\n",
      "[ 0.05  0.04 -0.01] 1.8130884852976417\n",
      "[0.05 0.04 0.  ] 1.8083953437247482\n",
      "[0.05 0.04 0.01] 1.81308848529682\n",
      "[0.05 0.04 0.02] 1.8273818879431625\n",
      "[0.05 0.04 0.03] 1.8517194110381485\n",
      "[0.05 0.04 0.04] 1.8862903941803975\n",
      "[0.05 0.04 0.05] 1.9303931576941755\n",
      "[ 0.05  0.05 -0.05] 1.9710532670485197\n",
      "[ 0.05  0.05 -0.04] 1.930393157694338\n",
      "[ 0.05  0.05 -0.03] 1.8993259160761315\n",
      "[ 0.05  0.05 -0.02] 1.8776416115817227\n",
      "[ 0.05  0.05 -0.01] 1.8649149436735986\n",
      "[0.05 0.05 0.  ] 1.8607301032772936\n",
      "[0.05 0.05 0.01] 1.8649149436735497\n",
      "[0.05 0.05 0.02] 1.877641611581101\n",
      "[0.05 0.05 0.03] 1.8993259160763083\n",
      "[0.05 0.05 0.04] 1.9303931576941968\n",
      "[0.05 0.05 0.05] 1.9710532670477736\n"
     ]
    }
   ],
   "source": [
    "gap = 1.0+bands[:,9]-bands[:,7]\n",
    "for ind in range(len(k_values)):\n",
    "    if gap[ind] < 2.0: print(kpoints_cart[ind],gap[ind])"
   ]
  },
  {
   "cell_type": "markdown",
   "metadata": {},
   "source": [
    "### Setup the nscf at Gamma and on three points close to Gamma"
   ]
  },
  {
   "cell_type": "code",
   "execution_count": 65,
   "metadata": {},
   "outputs": [],
   "source": [
    "kshift = 5e-3"
   ]
  },
  {
   "cell_type": "code",
   "execution_count": 66,
   "metadata": {},
   "outputs": [],
   "source": [
    "klist = []\n",
    "klist.append([0.0,0.0,0.0,1.0])\n",
    "klist.append([0.0,kshift,0.0,1.0])\n",
    "klist.append([0.0,0.0,kshift,1.0])"
   ]
  },
  {
   "cell_type": "code",
   "execution_count": 67,
   "metadata": {},
   "outputs": [
    {
     "data": {
      "text/plain": [
       "[[0.0, 0.0, 0.0, 1.0], [0.0, 0.005, 0.0, 1.0], [0.0, 0.0, 0.005, 1.0]]"
      ]
     },
     "execution_count": 67,
     "metadata": {},
     "output_type": "execute_result"
    }
   ],
   "source": [
    "klist"
   ]
  },
  {
   "cell_type": "code",
   "execution_count": 68,
   "metadata": {},
   "outputs": [],
   "source": [
    "bnds_study = D.Dataset(label='nscf',run_dir='nscf',pre_processing='nscf')"
   ]
  },
  {
   "cell_type": "code",
   "execution_count": 70,
   "metadata": {},
   "outputs": [],
   "source": [
    "input.system['nbnd'] = numBands\n",
    "idd = {'bnds' : numBands, 'sampling' : 'gamma_and_shifted_points'} \n",
    "input.set_prefix(D.name_from_id(idd))\n",
    "input.set_energy_cutoff(ecut_conv)\n",
    "input.set_kpoints(ktype='tpiba',klist=klist)\n",
    "bnds_study.append_run(id=idd,calculator=code,input=input)"
   ]
  },
  {
   "cell_type": "markdown",
   "metadata": {},
   "source": [
    "Apply the pre-processing"
   ]
  },
  {
   "cell_type": "code",
   "execution_count": 71,
   "metadata": {},
   "outputs": [],
   "source": [
    "source = 'gs_convergence/ecut_%s-k_%s.save'%(ecut_conv,k_conv)"
   ]
  },
  {
   "cell_type": "code",
   "execution_count": 72,
   "metadata": {
    "scrolled": true
   },
   "outputs": [
    {
     "name": "stdout",
     "output_type": "stream",
     "text": [
      "Folder nscf already exists\n",
      "nscf .save folder exsists. gs_convergence/ecut_80-k_6.save not copied\n"
     ]
    }
   ],
   "source": [
    "bnds_study.pre_processing_function(source_dir=source)"
   ]
  },
  {
   "cell_type": "code",
   "execution_count": 73,
   "metadata": {},
   "outputs": [
    {
     "name": "stdout",
     "output_type": "stream",
     "text": [
      "skip the computation for : bnds_40-sampling_gamma_and_shifted_points.in\n",
      "parse file : nscf/bnds_40-sampling_gamma_and_shifted_points.save/data-file-schema.xml\n"
     ]
    }
   ],
   "source": [
    "bnds_study.run()"
   ]
  },
  {
   "cell_type": "markdown",
   "metadata": {},
   "source": [
    "### Energy gap for each k"
   ]
  },
  {
   "cell_type": "code",
   "execution_count": 74,
   "metadata": {},
   "outputs": [],
   "source": [
    "results = bnds_study.results[0]\n",
    "bands = results.band_structure(plot=False)\n",
    "k_values = bands[:,0] # position on the path\n",
    "kpoints_cart = results.kpt_cart # cartesian position for each value on the path"
   ]
  },
  {
   "cell_type": "code",
   "execution_count": 75,
   "metadata": {},
   "outputs": [
    {
     "name": "stdout",
     "output_type": "stream",
     "text": [
      "[0. 0. 0.] 1.4180062971034735\n",
      "[0.005 0.    0.   ] 1.4225473411340417\n",
      "[0.    0.005 0.   ] 1.422547341133571\n",
      "[0.    0.    0.005] 1.4225473411325806\n"
     ]
    }
   ],
   "source": [
    "gap = 1.0+bands[:,9]-bands[:,7]\n",
    "for ind in range(len(k_values)):\n",
    "    if gap[ind] < 2.0: print(kpoints_cart[ind],gap[ind])"
   ]
  },
  {
   "cell_type": "markdown",
   "metadata": {},
   "source": [
    "### Setup the nscf at Gamma"
   ]
  },
  {
   "cell_type": "code",
   "execution_count": 76,
   "metadata": {},
   "outputs": [],
   "source": [
    "klist = [[0.0,0.0,0.0,1.0]]"
   ]
  },
  {
   "cell_type": "code",
   "execution_count": 77,
   "metadata": {},
   "outputs": [],
   "source": [
    "bnds_study = D.Dataset(label='nscf',run_dir='nscf',pre_processing='nscf')"
   ]
  },
  {
   "cell_type": "code",
   "execution_count": 78,
   "metadata": {},
   "outputs": [],
   "source": [
    "input.system['nbnd'] = numBands\n",
    "idd = {'bnds' : numBands, 'sampling' : 'gamma'} \n",
    "input.set_prefix(D.name_from_id(idd))\n",
    "input.set_energy_cutoff(ecut_conv)\n",
    "input.set_kpoints(ktype='tpiba',klist=klist)\n",
    "bnds_study.append_run(id=idd,calculator=code,input=input)"
   ]
  },
  {
   "cell_type": "markdown",
   "metadata": {},
   "source": [
    "Apply the pre-processing"
   ]
  },
  {
   "cell_type": "code",
   "execution_count": 79,
   "metadata": {},
   "outputs": [],
   "source": [
    "source = 'gs_convergence/ecut_%s-k_%s.save'%(ecut_conv,k_conv)"
   ]
  },
  {
   "cell_type": "code",
   "execution_count": 80,
   "metadata": {
    "scrolled": true
   },
   "outputs": [
    {
     "name": "stdout",
     "output_type": "stream",
     "text": [
      "Folder nscf already exists\n",
      "nscf .save folder exsists. gs_convergence/ecut_80-k_6.save not copied\n"
     ]
    }
   ],
   "source": [
    "bnds_study.pre_processing_function(source_dir=source)"
   ]
  },
  {
   "cell_type": "code",
   "execution_count": 81,
   "metadata": {},
   "outputs": [
    {
     "name": "stdout",
     "output_type": "stream",
     "text": [
      "skip the computation for : bnds_40-sampling_gamma.in\n",
      "parse file : nscf/bnds_40-sampling_gamma.save/data-file-schema.xml\n"
     ]
    }
   ],
   "source": [
    "bnds_study.run()"
   ]
  },
  {
   "cell_type": "markdown",
   "metadata": {},
   "source": [
    "### Energy gap for each k"
   ]
  },
  {
   "cell_type": "code",
   "execution_count": 82,
   "metadata": {},
   "outputs": [],
   "source": [
    "results = bnds_study.results[0]\n",
    "bands = results.band_structure(plot=False)\n",
    "k_values = bands[:,0] # position on the path\n",
    "kpoints_cart = results.kpt_cart # cartesian position for each value on the path"
   ]
  },
  {
   "cell_type": "code",
   "execution_count": 83,
   "metadata": {},
   "outputs": [
    {
     "name": "stdout",
     "output_type": "stream",
     "text": [
      "[0. 0. 0.] 1.4180062971034735\n"
     ]
    }
   ],
   "source": [
    "gap = 1.0+bands[:,9]-bands[:,7]\n",
    "for ind in range(len(k_values)):\n",
    "    if gap[ind] < 2.0: print(kpoints_cart[ind],gap[ind])"
   ]
  },
  {
   "cell_type": "markdown",
   "metadata": {},
   "source": [
    "## Ypp bands"
   ]
  },
  {
   "cell_type": "markdown",
   "metadata": {},
   "source": [
    "The band structure can be extracted from the nscf computation on a grid using ypp. \n",
    "\n",
    "For each choice of the nscf .save folder we have a different dataset (each of which will be composed by only one computation)"
   ]
  },
  {
   "cell_type": "code",
   "execution_count": 18,
   "metadata": {},
   "outputs": [
    {
     "name": "stdout",
     "output_type": "stream",
     "text": [
      "Initialize a Yambo calculator with command OMP_NUM_THREADS=1 mpirun -np 1 ypp\n",
      "Suffix for post_processing :  bands_interpolated\n"
     ]
    }
   ],
   "source": [
    "code = C.YamboCalculator(omp=1,mpi_run='mpirun -np 1',executable='ypp',suffix='bands_interpolated',skip=False)"
   ]
  },
  {
   "cell_type": "markdown",
   "metadata": {},
   "source": [
    "We organize the various datasets in a dictionary (is it possible to build a high hierarchy dataset?)"
   ]
  },
  {
   "cell_type": "code",
   "execution_count": 19,
   "metadata": {},
   "outputs": [
    {
     "name": "stdout",
     "output_type": "stream",
     "text": [
      "Create folder ypp_bands_k8\n",
      "execute :  cd nscf/bnds_40-kpoints_8.save;p2y -a 2\n",
      "execute :  cp -r nscf/bnds_40-kpoints_8.save/SAVE ypp_bands_k8\n",
      "execute :  cd ypp_bands_k8;OMP_NUM_THREADS=1 yambo\n",
      "Create folder ypp_bands_k10\n",
      "execute :  cd nscf/bnds_40-kpoints_10.save;p2y -a 2\n",
      "execute :  cp -r nscf/bnds_40-kpoints_10.save/SAVE ypp_bands_k10\n",
      "execute :  cd ypp_bands_k10;OMP_NUM_THREADS=1 yambo\n"
     ]
    }
   ],
   "source": [
    "nscf_kvalues = [4,6,8,10,12] # to set the values for the non shifted grids\n",
    "\n",
    "ypp = {}\n",
    "for k in nscf_kvalues:\n",
    "    string = 'ypp_bands_k%s'%k\n",
    "    study = D.Dataset(label=string,run_dir=string,pre_processing='yambo')\n",
    "    source = 'nscf/bnds_40-kpoints_%s.save'%k\n",
    "    study.pre_processing_function(source_dir=source)\n",
    "    ypp[k] = study"
   ]
  },
  {
   "cell_type": "markdown",
   "metadata": {},
   "source": [
    "We build the input file and append the run to each dataset. The parameters of the path are given as"
   ]
  },
  {
   "cell_type": "code",
   "execution_count": 20,
   "metadata": {},
   "outputs": [],
   "source": [
    "# in alat\n",
    "G = [0.,0.,0.]\n",
    "X = [1.,0.,0.]\n",
    "L = [0.5,0.5,0.5]\n",
    "W = [1.0,0.5,0.]\n",
    "path = [L,G,X,W]\n",
    "\n",
    "band_range = [1,12]\n",
    "bands_step = 50"
   ]
  },
  {
   "cell_type": "code",
   "execution_count": 21,
   "metadata": {},
   "outputs": [
    {
     "name": "stdout",
     "output_type": "stream",
     "text": [
      "execute :  cd ypp_bands_k8; ypp -s b -V all  -F ypp.in\n",
      "execute :  cd ypp_bands_k10; ypp -s b -V all  -F ypp.in\n"
     ]
    }
   ],
   "source": [
    "for k in ypp:\n",
    "    ypp_input = I.YppIn('ypp -s b -V all ',folder=ypp[k].run_dir)\n",
    "    input = ypp_input.getInput()\n",
    "    # scissor\n",
    "    input['GfnQP_E'] = [1.0,1.0,1.0]\n",
    "    # band structure\n",
    "    input['BANDS_steps'] = bands_step\n",
    "    input['BANDS_bands'] = band_range\n",
    "    input['BANDS_kpts'] = path\n",
    "    input['cooIn'] = 'alat'\n",
    "    input['cooOut'] = 'alat'\n",
    "    \n",
    "    idd = {'ypp_bands_k' : k}\n",
    "    ypp[k].append_run(id=idd,calculator=code,input=ypp_input)"
   ]
  },
  {
   "cell_type": "markdown",
   "metadata": {},
   "source": [
    "We can run all the datasets"
   ]
  },
  {
   "cell_type": "code",
   "execution_count": 22,
   "metadata": {},
   "outputs": [
    {
     "name": "stdout",
     "output_type": "stream",
     "text": [
      "execute :  cd ypp_bands_k8; ypp -s b -V all  -F ypp_bands_k_8.in\n",
      "execute : cd ypp_bands_k8 ; OMP_NUM_THREADS=1 mpirun -np 1 ypp -F ypp_bands_k_8.in -J ypp_bands_k_8 -C ypp_bands_k_8\n",
      "parse file : ypp_bands_k8/ypp_bands_k_8/o-ypp_bands_k_8.bands_interpolated\n",
      "execute :  cd ypp_bands_k10; ypp -s b -V all  -F ypp_bands_k_10.in\n",
      "execute : cd ypp_bands_k10 ; OMP_NUM_THREADS=1 mpirun -np 1 ypp -F ypp_bands_k_10.in -J ypp_bands_k_10 -C ypp_bands_k_10\n",
      "parse file : ypp_bands_k10/ypp_bands_k_10/o-ypp_bands_k_10.bands_interpolated\n"
     ]
    }
   ],
   "source": [
    "for k in ypp:\n",
    "    ypp[k].run()"
   ]
  },
  {
   "cell_type": "markdown",
   "metadata": {},
   "source": [
    "We compare the band structure obtained in the various datasets"
   ]
  },
  {
   "cell_type": "code",
   "execution_count": 23,
   "metadata": {},
   "outputs": [
    {
     "data": {
      "image/png": "[encoded data removed]",
      "text/plain": [
       "<Figure size 432x288 with 1 Axes>"
      ]
     },
     "metadata": {
      "needs_background": "light"
     },
     "output_type": "display_data"
    },
    {
     "data": {
      "image/png": "[encoded data removed]",
      "text/plain": [
       "<Figure size 432x288 with 1 Axes>"
      ]
     },
     "metadata": {
      "needs_background": "light"
     },
     "output_type": "display_data"
    }
   ],
   "source": [
    "for k,y in ypp.items():\n",
    "    kvalues = y.fetch_results(attribute='k')[0]\n",
    "    bands = []\n",
    "    for ind in range(1,13):\n",
    "        bands.append(y.fetch_results(attribute='b%s'%ind)[0])\n",
    "    for bnd in [3,5,7,9,11]:\n",
    "        plt.plot(kvalues,bands[bnd])\n",
    "    plt.title(y.label,size=14)\n",
    "    plt.ylim((-4,6))\n",
    "    plt.show()"
   ]
  },
  {
   "cell_type": "markdown",
   "metadata": {},
   "source": [
    "Comparing this plots we see that the band structure seems (quite) well converged at k=8"
   ]
  },
  {
   "cell_type": "markdown",
   "metadata": {},
   "source": [
    "We can identify the Gamma point on the path and compute the direct band gap for the various cases. The path is the same in all the computations so the identification of Gamma can be done only one time"
   ]
  },
  {
   "cell_type": "code",
   "execution_count": 26,
   "metadata": {},
   "outputs": [
    {
     "data": {
      "text/plain": [
       "43"
      ]
     },
     "execution_count": 26,
     "metadata": {},
     "output_type": "execute_result"
    }
   ],
   "source": [
    "kvalues = ypp[8].fetch_results(attribute='k')[0]\n",
    "for ind,k in enumerate(kvalues):\n",
    "    kx = ypp[8].fetch_results(attribute='k_x')[0][ind]\n",
    "    ky = ypp[8].fetch_results(attribute='k_y')[0][ind]\n",
    "    kz = ypp[8].fetch_results(attribute='k_z')[0][ind]\n",
    "    if kx == 0. and ky == 0. and kz == 0.:\n",
    "        gamma_position = ind\n",
    "gamma_position"
   ]
  },
  {
   "cell_type": "code",
   "execution_count": 27,
   "metadata": {},
   "outputs": [
    {
     "name": "stdout",
     "output_type": "stream",
     "text": [
      "Gap for k =  8  :  1.4181\n",
      "Gap for k =  10  :  1.4180\n"
     ]
    }
   ],
   "source": [
    "for k,y in ypp.items():\n",
    "    kvalues = y.fetch_results(attribute='k')[0]\n",
    "    bands = []\n",
    "    for ind in range(1,13):\n",
    "        bands.append(y.fetch_results(attribute='b%s'%ind)[0])\n",
    "    Delta = bands[8][gamma_position]-bands[7][gamma_position]\n",
    "    print('Gap for k = ',k,' : ','%.4f'%Delta)"
   ]
  }
 ],
 "metadata": {
  "kernelspec": {
   "display_name": "Python 3",
   "language": "python",
   "name": "python3"
  },
  "language_info": {
   "codemirror_mode": {
    "name": "ipython",
    "version": 3
   },
   "file_extension": ".py",
   "mimetype": "text/x-python",
   "name": "python",
   "nbconvert_exporter": "python",
   "pygments_lexer": "ipython3",
   "version": "3.5.3"
  }
 },
 "nbformat": 4,
 "nbformat_minor": 2
}
