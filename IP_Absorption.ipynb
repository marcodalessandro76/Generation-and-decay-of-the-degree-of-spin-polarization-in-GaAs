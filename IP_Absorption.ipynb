{
 "cells": [
  {
   "cell_type": "code",
   "execution_count": 1,
   "metadata": {},
   "outputs": [],
   "source": [
    "# useful to autoreload the module without restarting the kernel\n",
    "%load_ext autoreload\n",
    "%autoreload 2"
   ]
  },
  {
   "cell_type": "code",
   "execution_count": 2,
   "metadata": {},
   "outputs": [],
   "source": [
    "from mppi import InputFiles as I, Calculators as C, Datasets as D, Utilities as U, Parsers as P\n",
    "import matplotlib.pyplot as plt\n",
    "import numpy as np"
   ]
  },
  {
   "cell_type": "code",
   "execution_count": 3,
   "metadata": {},
   "outputs": [],
   "source": [
    "omp = 1\n",
    "mpi_run = 'mpirun -np 16'"
   ]
  },
  {
   "cell_type": "code",
   "execution_count": 4,
   "metadata": {},
   "outputs": [
    {
     "name": "stdout",
     "output_type": "stream",
     "text": [
      "Initialize a parallel Yambo calculator with scheduler direct\n"
     ]
    }
   ],
   "source": [
    "code = C.YamboCalculator(omp=omp,mpi_run=mpi_run,executable='yambo',skip=True,verbose=True)\n",
    "#code.global_options()"
   ]
  },
  {
   "cell_type": "markdown",
   "metadata": {},
   "source": [
    "# Computation of the IP Absorption spectrum"
   ]
  },
  {
   "cell_type": "markdown",
   "metadata": {},
   "source": [
    "We compute the IP absorption spectrum using Yambo"
   ]
  },
  {
   "cell_type": "code",
   "execution_count": 25,
   "metadata": {},
   "outputs": [],
   "source": [
    "#source_dir = 'NSCF/bnds_16-kpoints_20.save'\n",
    "#run_dir = 'ABS_k20'\n",
    "\n",
    "source_dir = 'NSCF/bnds_16-kpoints_100-sampling_random_close_Gamma.save'\n",
    "run_dir = 'ABS_k100-random'\n"
   ]
  },
  {
   "cell_type": "code",
   "execution_count": 26,
   "metadata": {},
   "outputs": [
    {
     "name": "stdout",
     "output_type": "stream",
     "text": [
      "Create folder ABS_k100-random\n",
      "Executing command: cd NSCF/bnds_16-kpoints_100-sampling_random_close_Gamma.save; p2y -nosym\n",
      "Create a symlink of /data/dalessandro/work/TiSPiEGA-Project/NSCF/bnds_16-kpoints_100-sampling_random_close_Gamma.save/SAVE in ABS_k100-random\n",
      "Executing command: cd ABS_k100-random;OMP_NUM_THREADS=1 yambo\n"
     ]
    }
   ],
   "source": [
    "U.build_SAVE(source_dir,run_dir,command='p2y -nosym',make_link=True)"
   ]
  },
  {
   "cell_type": "code",
   "execution_count": 70,
   "metadata": {},
   "outputs": [
    {
     "data": {
      "text/plain": [
       "{'args': 'yambo -o c',\n",
       " 'arguments': ['chi', 'optics'],\n",
       " 'filename': 'yambo.in',\n",
       " 'folder': 'ABS_k100-random',\n",
       " 'variables': {'BndsRnXd': [[5, 10], ''],\n",
       "  'Chimod': 'IP',\n",
       "  'DIP_Threads': [0.0, ''],\n",
       "  'DmRngeXd': [[0.15, 0.15], 'eV'],\n",
       "  'ETStpsXd': [100.0, ''],\n",
       "  'EnRngeXd': [[0, 3], 'eV'],\n",
       "  'LongDrXd': [[1.0, 1.0, 1.0], ''],\n",
       "  'QpntsRXd': [[1, 1], ''],\n",
       "  'X_Threads': [0.0, ''],\n",
       "  'XfnQP_E': [[0.5456, 1.0, 1.0], '']}}"
      ]
     },
     "execution_count": 70,
     "metadata": {},
     "output_type": "execute_result"
    }
   ],
   "source": [
    "inp = I.YamboInput('yambo -o c',folder=run_dir)\n",
    "inp['variables']['LongDrXd'] = [[1.00,1.00,1.00],''] # electric field\n",
    "inp['variables']['XfnQP_E'] = [[0.5456,1.00,1.00],''] # scissor\n",
    "inp['variables']['DmRngeXd'] = [[0.15,0.15],'eV'] # damping range\n",
    "inp['variables']['EnRngeXd'] = [[0,3],'eV'] # energy range\n",
    "inp['variables']['BndsRnXd'] = [[5,10],''] # bands used for transitions\n",
    "inp['variables']['QpntsRXd'] = [[1,1],''] # momentum transfer\n",
    "inp"
   ]
  },
  {
   "cell_type": "code",
   "execution_count": 71,
   "metadata": {},
   "outputs": [],
   "source": [
    "#inp.write(run_dir,'lalla.in')"
   ]
  },
  {
   "cell_type": "code",
   "execution_count": 72,
   "metadata": {},
   "outputs": [
    {
     "name": "stdout",
     "output_type": "stream",
     "text": [
      "delete folder: ABS_k100-random/ip_abs\n",
      "Executing command: cd ABS_k100-random; mpirun -np 16 yambo -F ip_abs.in -J ip_abs -C ip_abs\n",
      "run0_is_running:True  \n",
      "Job completed\n"
     ]
    },
    {
     "data": {
      "text/plain": [
       "{'dbs': ['ABS_k100-random/ip_abs'],\n",
       " 'output': [['ABS_k100-random/ip_abs/o-ip_abs.eps_q1_ip',\n",
       "   'ABS_k100-random/ip_abs/o-ip_abs.eel_q1_ip']]}"
      ]
     },
     "execution_count": 72,
     "metadata": {},
     "output_type": "execute_result"
    }
   ],
   "source": [
    "name = 'ip_abs'\n",
    "result = code.run(inputs=[inp],names=[name],run_dir=run_dir,skip=False)\n",
    "result"
   ]
  },
  {
   "cell_type": "code",
   "execution_count": 73,
   "metadata": {},
   "outputs": [],
   "source": [
    "data = P.YamboParser(result['output'][0])"
   ]
  },
  {
   "cell_type": "code",
   "execution_count": 74,
   "metadata": {},
   "outputs": [],
   "source": [
    "eps = data['eps_q1_ip']\n",
    "energy = eps['col0']\n",
    "eps_im = eps['col1']\n",
    "eps_re = eps['col2']"
   ]
  },
  {
   "cell_type": "code",
   "execution_count": 75,
   "metadata": {},
   "outputs": [
    {
     "data": {
      "text/plain": [
       "[<matplotlib.lines.Line2D at 0x7ff65587eb38>]"
      ]
     },
     "execution_count": 75,
     "metadata": {},
     "output_type": "execute_result"
    },
    {
     "data": {
      "image/png": "[encoded data removed]",
      "text/plain": [
       "<Figure size 432x288 with 1 Axes>"
      ]
     },
     "metadata": {
      "needs_background": "light"
     },
     "output_type": "display_data"
    }
   ],
   "source": [
    "plt.plot(energy,eps_im)"
   ]
  },
  {
   "cell_type": "markdown",
   "metadata": {},
   "source": [
    "We can compare the height of this peak with the corresponding one of the absorption spectrum computed\n",
    "on the whole BZ. To do so (using the same value of eta!!!) we have to normalize the peak with the ratio\n",
    "of the volume of the Kpump region w.r.t the one of full BZ.\n",
    "\n",
    "In units of 2pi/alat the volume of the BZ is 1/4. The one of the kpump is (0.05)^3"
   ]
  },
  {
   "cell_type": "code",
   "execution_count": 76,
   "metadata": {},
   "outputs": [
    {
     "data": {
      "text/plain": [
       "0.0005000000000000001"
      ]
     },
     "execution_count": 76,
     "metadata": {},
     "output_type": "execute_result"
    }
   ],
   "source": [
    "4*0.05**3"
   ]
  },
  {
   "cell_type": "code",
   "execution_count": 77,
   "metadata": {},
   "outputs": [
    {
     "data": {
      "text/plain": [
       "1.25"
      ]
     },
     "execution_count": 77,
     "metadata": {},
     "output_type": "execute_result"
    }
   ],
   "source": [
    "2500*0.0005"
   ]
  },
  {
   "cell_type": "markdown",
   "metadata": {},
   "source": [
    "The _true_ height of the peak is 1.25 and matches with the value obtained in the full BZ "
   ]
  },
  {
   "cell_type": "code",
   "execution_count": 79,
   "metadata": {},
   "outputs": [],
   "source": [
    "data_20 = P.YamboParser.from_path('ABS_k20/ip_abs')"
   ]
  },
  {
   "cell_type": "code",
   "execution_count": 80,
   "metadata": {},
   "outputs": [],
   "source": [
    "eps = data_20['eps_q1_ip']\n",
    "energy = eps['col0']\n",
    "eps_im = eps['col1']\n",
    "eps_re = eps['col2']"
   ]
  },
  {
   "cell_type": "code",
   "execution_count": 83,
   "metadata": {},
   "outputs": [
    {
     "data": {
      "text/plain": [
       "[<matplotlib.lines.Line2D at 0x7ff6556fd198>]"
      ]
     },
     "execution_count": 83,
     "metadata": {},
     "output_type": "execute_result"
    },
    {
     "data": {
      "image/png": "[encoded data removed]",
      "text/plain": [
       "<Figure size 432x288 with 1 Axes>"
      ]
     },
     "metadata": {
      "needs_background": "light"
     },
     "output_type": "display_data"
    }
   ],
   "source": [
    "plt.plot(energy,eps_im)\n",
    "#plt.xlim(0,2)\n",
    "#plt.ylim(0,5)"
   ]
  },
  {
   "cell_type": "code",
   "execution_count": null,
   "metadata": {},
   "outputs": [],
   "source": []
  },
  {
   "cell_type": "code",
   "execution_count": null,
   "metadata": {},
   "outputs": [],
   "source": []
  }
 ],
 "metadata": {
  "kernelspec": {
   "display_name": "Python 3",
   "language": "python",
   "name": "python3"
  },
  "language_info": {
   "codemirror_mode": {
    "name": "ipython",
    "version": 3
   },
   "file_extension": ".py",
   "mimetype": "text/x-python",
   "name": "python",
   "nbconvert_exporter": "python",
   "pygments_lexer": "ipython3",
   "version": "3.5.3"
  }
 },
 "nbformat": 4,
 "nbformat_minor": 4
}
