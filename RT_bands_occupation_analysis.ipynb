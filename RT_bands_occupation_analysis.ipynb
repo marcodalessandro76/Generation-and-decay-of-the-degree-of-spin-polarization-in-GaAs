{
 "cells": [
  {
   "cell_type": "code",
   "execution_count": 1,
   "metadata": {},
   "outputs": [],
   "source": [
    "import numpy as np\n",
    "import os\n",
    "import matplotlib.pyplot as plt\n",
    "#from importlib import reload\n",
    "#from mppi import InputFiles as I, Calculators as C, Datasets as D"
   ]
  },
  {
   "cell_type": "code",
   "execution_count": 2,
   "metadata": {},
   "outputs": [],
   "source": [
    "data_dir = 'rt_k100random_width100_no-com/FixSymm/ypp_freq_1.55-pol_circular'"
   ]
  },
  {
   "cell_type": "code",
   "execution_count": 3,
   "metadata": {},
   "outputs": [],
   "source": [
    "file = os.path.join(data_dir,'o-freq_1.55-pol_circular.YPP-RT_occ_bands_iT6')"
   ]
  },
  {
   "cell_type": "code",
   "execution_count": 4,
   "metadata": {},
   "outputs": [],
   "source": [
    "def parserArrayFromFile(fname):\n",
    "    \"\"\"\"\n",
    "    Build a list that contains the lines of fname avoiding the ones that start\n",
    "    with #\n",
    "    \"\"\"\n",
    "    lines = []\n",
    "    with open(fname) as f:\n",
    "        for l in f:\n",
    "            if not l.startswith('#'):\n",
    "                lines.append(l)\n",
    "    #split each line in a list (of strings)\n",
    "    larray = [[] for i in range(len(lines))]\n",
    "    for ind,l in enumerate(lines):\n",
    "        larray[ind] = l.split()\n",
    "    #convert the string to double. If some elements is a string (it can happen in\n",
    "    #the 4.4 Yambo version in the output file of a bands calculation) remove it\n",
    "    for row in range(len(larray)):\n",
    "        for col in range(len(larray[row])):\n",
    "            try:\n",
    "                larray[row][col] = float(larray[row][col])\n",
    "            except ValueError:\n",
    "                del larray[row][col]\n",
    "    return larray"
   ]
  },
  {
   "cell_type": "code",
   "execution_count": 5,
   "metadata": {},
   "outputs": [],
   "source": [
    "data = parserArrayFromFile(file)"
   ]
  },
  {
   "cell_type": "markdown",
   "metadata": {},
   "source": [
    "I split the data when the first column (that contains the k-path) is zero"
   ]
  },
  {
   "cell_type": "code",
   "execution_count": 6,
   "metadata": {},
   "outputs": [],
   "source": [
    "split_points = []\n",
    "for ind,d in enumerate(data):\n",
    "    if d[0] == 0.:\n",
    "        split_points.append(ind)"
   ]
  },
  {
   "cell_type": "code",
   "execution_count": 7,
   "metadata": {},
   "outputs": [
    {
     "data": {
      "text/plain": [
       "[0, 94, 188, 282, 376, 470]"
      ]
     },
     "execution_count": 7,
     "metadata": {},
     "output_type": "execute_result"
    }
   ],
   "source": [
    "split_points"
   ]
  },
  {
   "cell_type": "code",
   "execution_count": 8,
   "metadata": {},
   "outputs": [],
   "source": [
    "data_split = []\n",
    "for ind in range(len(split_points)-1):\n",
    "    data_split.append(data[split_points[ind]:split_points[ind+1]])\n",
    "data_split.append(data[split_points[-1]:])"
   ]
  },
  {
   "cell_type": "code",
   "execution_count": 9,
   "metadata": {},
   "outputs": [],
   "source": [
    "results = {}"
   ]
  },
  {
   "cell_type": "code",
   "execution_count": 10,
   "metadata": {},
   "outputs": [],
   "source": [
    "results['k'] = [d[0] for d in data_split[0]]"
   ]
  },
  {
   "cell_type": "code",
   "execution_count": 11,
   "metadata": {},
   "outputs": [],
   "source": [
    "bnd_rad = 'bnd'\n",
    "occ_rad = 'occ'\n",
    "ind0 = 5\n",
    "for band,dd in enumerate(data_split): \n",
    "    key = bnd_rad+str(ind0+band)\n",
    "    results[key] = [val[1] for val in dd]\n",
    "    key = occ_rad+str(ind0+band)\n",
    "    results[key] = [val[2] for val in dd]"
   ]
  },
  {
   "cell_type": "code",
   "execution_count": 12,
   "metadata": {},
   "outputs": [
    {
     "data": {
      "text/plain": [
       "dict_keys(['occ8', 'occ7', 'bnd8', 'bnd5', 'bnd6', 'k', 'bnd9', 'bnd10', 'bnd7', 'occ6', 'occ10', 'occ9', 'occ5'])"
      ]
     },
     "execution_count": 12,
     "metadata": {},
     "output_type": "execute_result"
    }
   ],
   "source": [
    "results.keys()"
   ]
  },
  {
   "cell_type": "code",
   "execution_count": 40,
   "metadata": {},
   "outputs": [
    {
     "data": {
      "image/png": "[encoded data removed]",
      "text/plain": [
       "<Figure size 432x288 with 1 Axes>"
      ]
     },
     "metadata": {
      "needs_background": "light"
     },
     "output_type": "display_data"
    }
   ],
   "source": [
    "for ind in range(5,11):\n",
    "    plt.plot(results['k'],results['bnd'+str(ind)])"
   ]
  },
  {
   "cell_type": "code",
   "execution_count": 44,
   "metadata": {},
   "outputs": [
    {
     "data": {
      "image/png": "[encoded data removed]",
      "text/plain": [
       "<Figure size 432x288 with 1 Axes>"
      ]
     },
     "metadata": {
      "needs_background": "light"
     },
     "output_type": "display_data"
    }
   ],
   "source": [
    "for ind in range(5,11):\n",
    "    bnd_str = 'bnd'+str(ind)\n",
    "    occ_str = 'occ'+str(ind)\n",
    "    for k,e,occ in zip(results['k'],results[bnd_str],results[occ_str]):\n",
    "        xx = abs(int(occ*60))\n",
    "        color = 'blue' if occ < 0 else 'red'\n",
    "        plt.scatter(k,e,s=xx,c=color)"
   ]
  },
  {
   "cell_type": "code",
   "execution_count": null,
   "metadata": {},
   "outputs": [],
   "source": []
  },
  {
   "cell_type": "code",
   "execution_count": null,
   "metadata": {},
   "outputs": [],
   "source": []
  },
  {
   "cell_type": "code",
   "execution_count": null,
   "metadata": {},
   "outputs": [],
   "source": []
  }
 ],
 "metadata": {
  "kernelspec": {
   "display_name": "Python 3",
   "language": "python",
   "name": "python3"
  },
  "language_info": {
   "codemirror_mode": {
    "name": "ipython",
    "version": 3
   },
   "file_extension": ".py",
   "mimetype": "text/x-python",
   "name": "python",
   "nbconvert_exporter": "python",
   "pygments_lexer": "ipython3",
   "version": "3.5.3"
  }
 },
 "nbformat": 4,
 "nbformat_minor": 2
}
