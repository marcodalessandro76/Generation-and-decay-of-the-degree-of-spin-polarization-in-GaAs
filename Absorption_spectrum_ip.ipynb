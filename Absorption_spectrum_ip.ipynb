{
 "cells": [
  {
   "cell_type": "code",
   "execution_count": 1,
   "metadata": {},
   "outputs": [],
   "source": [
    "import numpy as np\n",
    "import os\n",
    "import matplotlib.pyplot as plt\n",
    "from mppi import InputFiles as I, Calculators as C, Datasets as D"
   ]
  },
  {
   "cell_type": "code",
   "execution_count": 2,
   "metadata": {},
   "outputs": [],
   "source": [
    "omp = 1\n",
    "mpi_run = 'mpirun -np 16'"
   ]
  },
  {
   "cell_type": "markdown",
   "metadata": {},
   "source": [
    "# Optical absorption spectrum in the IP approximation"
   ]
  },
  {
   "cell_type": "markdown",
   "metadata": {},
   "source": [
    "We compute the optical absorption spectrum og GaAs using yambo in the ip approximation with a scissor to reproduce the experimental band gap. We analyze the effects of different samplings in number of k-points (with and without shift). This analysis is analysis is a preliminary step to understand which sampling of k-points is needed to obtain reliable results in the RT study."
   ]
  },
  {
   "cell_type": "code",
   "execution_count": 12,
   "metadata": {},
   "outputs": [
    {
     "name": "stdout",
     "output_type": "stream",
     "text": [
      "Initialize a Yambo calculator with command OMP_NUM_THREADS=1 mpirun -np 16 yambo\n",
      "Suffix for post_processing :  eps_q1_ip\n"
     ]
    }
   ],
   "source": [
    "code = C.YamboCalculator(omp=omp,mpi_run=mpi_run,executable='yambo',suffix='eps_q1_ip',skip=True)"
   ]
  },
  {
   "cell_type": "markdown",
   "metadata": {},
   "source": [
    "### k=8 no shift"
   ]
  },
  {
   "cell_type": "code",
   "execution_count": 4,
   "metadata": {},
   "outputs": [],
   "source": [
    "ip_8 = D.Dataset(label='8',run_dir='ip_spectrum_8',pre_processing='yambo')"
   ]
  },
  {
   "cell_type": "code",
   "execution_count": 5,
   "metadata": {},
   "outputs": [
    {
     "name": "stdout",
     "output_type": "stream",
     "text": [
      "SAVE folder already present in ip_spectrum_8\n"
     ]
    }
   ],
   "source": [
    "source = 'nscf/bnds_40-kpoints_8.save'\n",
    "ip_8.pre_processing_function(source_dir=source)"
   ]
  },
  {
   "cell_type": "code",
   "execution_count": 6,
   "metadata": {},
   "outputs": [],
   "source": [
    "yambo_in = I.YamboIn('yambo -o c',folder=ip_8.run_dir)"
   ]
  },
  {
   "cell_type": "code",
   "execution_count": 7,
   "metadata": {},
   "outputs": [],
   "source": [
    "idd = 'absorption_ip'\n",
    "yambo_in['LongDrXd'] = [1.00,1.00,1.00] # electric field\n",
    "yambo_in['BndsRnXd'] = [1,10] # bands considered\n",
    "yambo_in['QpntsRXd'] = [1,1] # momentum transfer\n",
    "yambo_in['DmRngeXd'] = [[0.1,0.2],'eV'] # damping range\n",
    "yambo_in['EnRngeXd'] = [[0,8],'eV'] # energy range\n",
    "yambo_in['XfnQP_E'] = [1.00,1.00,1.00] # scissor\n",
    "ip_8.append_run(id=idd,calculator=code,input=yambo_in)"
   ]
  },
  {
   "cell_type": "code",
   "execution_count": 8,
   "metadata": {},
   "outputs": [],
   "source": [
    "#print(yambo_in)"
   ]
  },
  {
   "cell_type": "code",
   "execution_count": 9,
   "metadata": {},
   "outputs": [
    {
     "name": "stdout",
     "output_type": "stream",
     "text": [
      "skip the computation for : absorption_ip.in\n",
      "parse file : ip_spectrum_8/absorption_ip/o-absorption_ip.eps_q1_ip\n"
     ]
    }
   ],
   "source": [
    "ip_8.run()"
   ]
  },
  {
   "cell_type": "markdown",
   "metadata": {},
   "source": [
    "### k=10 no shift"
   ]
  },
  {
   "cell_type": "code",
   "execution_count": 10,
   "metadata": {},
   "outputs": [],
   "source": [
    "ip_10 = D.Dataset(label='10',run_dir='ip_spectrum_10',pre_processing='yambo')"
   ]
  },
  {
   "cell_type": "code",
   "execution_count": 11,
   "metadata": {},
   "outputs": [
    {
     "name": "stdout",
     "output_type": "stream",
     "text": [
      "SAVE folder already present in ip_spectrum_10\n"
     ]
    }
   ],
   "source": [
    "source = 'nscf/bnds_40-kpoints_10.save'\n",
    "ip_10.pre_processing_function(source_dir=source)"
   ]
  },
  {
   "cell_type": "code",
   "execution_count": 12,
   "metadata": {},
   "outputs": [],
   "source": [
    "yambo_in = I.YamboIn('yambo -o c',folder=ip_10.run_dir)"
   ]
  },
  {
   "cell_type": "code",
   "execution_count": 13,
   "metadata": {},
   "outputs": [],
   "source": [
    "idd = 'absorption_ip'\n",
    "yambo_in['LongDrXd'] = [1.00,1.00,1.00] # electric field\n",
    "yambo_in['BndsRnXd'] = [1,10] # bands considered\n",
    "yambo_in['QpntsRXd'] = [1,1] # momentum transfer\n",
    "yambo_in['DmRngeXd'] = [[0.1,0.2],'eV'] # damping range\n",
    "yambo_in['EnRngeXd'] = [[0,8],'eV'] # energy range\n",
    "yambo_in['XfnQP_E'] = [1.00,1.00,1.00] # scissor\n",
    "ip_10.append_run(id=idd,calculator=code,input=yambo_in)"
   ]
  },
  {
   "cell_type": "code",
   "execution_count": 14,
   "metadata": {},
   "outputs": [
    {
     "name": "stdout",
     "output_type": "stream",
     "text": [
      "skip the computation for : absorption_ip.in\n",
      "parse file : ip_spectrum_10/absorption_ip/o-absorption_ip.eps_q1_ip\n"
     ]
    }
   ],
   "source": [
    "ip_10.run()"
   ]
  },
  {
   "cell_type": "markdown",
   "metadata": {},
   "source": [
    "### k=20 no shift"
   ]
  },
  {
   "cell_type": "code",
   "execution_count": 15,
   "metadata": {},
   "outputs": [],
   "source": [
    "ip_20 = D.Dataset(label='20',run_dir='ip_spectrum_20',pre_processing='yambo')"
   ]
  },
  {
   "cell_type": "code",
   "execution_count": 16,
   "metadata": {},
   "outputs": [
    {
     "name": "stdout",
     "output_type": "stream",
     "text": [
      "SAVE folder already present in ip_spectrum_20\n"
     ]
    }
   ],
   "source": [
    "source = 'nscf/bnds_40-kpoints_20.save'\n",
    "ip_20.pre_processing_function(source_dir=source)"
   ]
  },
  {
   "cell_type": "code",
   "execution_count": 17,
   "metadata": {},
   "outputs": [],
   "source": [
    "yambo_in = I.YamboIn('yambo -o c',folder=ip_20.run_dir)"
   ]
  },
  {
   "cell_type": "code",
   "execution_count": 18,
   "metadata": {},
   "outputs": [],
   "source": [
    "idd = 'absorption_ip'\n",
    "yambo_in['LongDrXd'] = [1.00,1.00,1.00] # electric field\n",
    "yambo_in['BndsRnXd'] = [1,10] # bands considered\n",
    "yambo_in['QpntsRXd'] = [1,1] # momentum transfer\n",
    "yambo_in['DmRngeXd'] = [[0.1,0.2],'eV'] # damping range\n",
    "yambo_in['EnRngeXd'] = [[0,8],'eV'] # energy range\n",
    "yambo_in['XfnQP_E'] = [1.00,1.00,1.00] # scissor\n",
    "ip_20.append_run(id=idd,calculator=code,input=yambo_in)"
   ]
  },
  {
   "cell_type": "code",
   "execution_count": 19,
   "metadata": {},
   "outputs": [
    {
     "name": "stdout",
     "output_type": "stream",
     "text": [
      "skip the computation for : absorption_ip.in\n",
      "parse file : ip_spectrum_20/absorption_ip/o-absorption_ip.eps_q1_ip\n"
     ]
    }
   ],
   "source": [
    "ip_20.run()"
   ]
  },
  {
   "cell_type": "markdown",
   "metadata": {},
   "source": [
    "### k=8 shift"
   ]
  },
  {
   "cell_type": "code",
   "execution_count": 20,
   "metadata": {},
   "outputs": [],
   "source": [
    "ip_8_shift = D.Dataset(label='8_shift',run_dir='ip_spectrum_8_shift',pre_processing='yambo')"
   ]
  },
  {
   "cell_type": "code",
   "execution_count": 21,
   "metadata": {},
   "outputs": [
    {
     "name": "stdout",
     "output_type": "stream",
     "text": [
      "SAVE folder already present in ip_spectrum_8_shift\n"
     ]
    }
   ],
   "source": [
    "source = 'nscf/bnds_40-kpoints_8-shift_1.save'\n",
    "ip_8_shift.pre_processing_function(source_dir=source)"
   ]
  },
  {
   "cell_type": "code",
   "execution_count": 22,
   "metadata": {},
   "outputs": [],
   "source": [
    "yambo_in = I.YamboIn('yambo -o c',folder=ip_8_shift.run_dir)"
   ]
  },
  {
   "cell_type": "code",
   "execution_count": 23,
   "metadata": {},
   "outputs": [],
   "source": [
    "idd = 'absorption_ip'\n",
    "yambo_in['LongDrXd'] = [1.00,1.00,1.00] # electric field\n",
    "yambo_in['BndsRnXd'] = [1,10] # bands considered\n",
    "yambo_in['QpntsRXd'] = [1,1] # momentum transfer\n",
    "yambo_in['DmRngeXd'] = [[0.1,0.2],'eV'] # damping range\n",
    "yambo_in['EnRngeXd'] = [[0,8],'eV'] # energy range\n",
    "yambo_in['XfnQP_E'] = [1.00,1.00,1.00] # scissor\n",
    "ip_8_shift.append_run(id=idd,calculator=code,input=yambo_in)"
   ]
  },
  {
   "cell_type": "code",
   "execution_count": 24,
   "metadata": {},
   "outputs": [
    {
     "name": "stdout",
     "output_type": "stream",
     "text": [
      "skip the computation for : absorption_ip.in\n",
      "parse file : ip_spectrum_8_shift/absorption_ip/o-absorption_ip.eps_q1_ip\n"
     ]
    }
   ],
   "source": [
    "ip_8_shift.run()"
   ]
  },
  {
   "cell_type": "markdown",
   "metadata": {},
   "source": [
    "### k=10 shift"
   ]
  },
  {
   "cell_type": "code",
   "execution_count": 25,
   "metadata": {},
   "outputs": [],
   "source": [
    "ip_10_shift = D.Dataset(label='10_shift',run_dir='ip_spectrum_10_shift',pre_processing='yambo')"
   ]
  },
  {
   "cell_type": "code",
   "execution_count": 26,
   "metadata": {},
   "outputs": [
    {
     "name": "stdout",
     "output_type": "stream",
     "text": [
      "SAVE folder already present in ip_spectrum_10_shift\n"
     ]
    }
   ],
   "source": [
    "source = 'nscf/bnds_40-kpoints_10-shift_1.save'\n",
    "ip_10_shift.pre_processing_function(source_dir=source)"
   ]
  },
  {
   "cell_type": "code",
   "execution_count": 27,
   "metadata": {},
   "outputs": [],
   "source": [
    "yambo_in = I.YamboIn('yambo -o c',folder=ip_10_shift.run_dir)"
   ]
  },
  {
   "cell_type": "code",
   "execution_count": 28,
   "metadata": {},
   "outputs": [],
   "source": [
    "idd = 'absorption_ip'\n",
    "yambo_in['LongDrXd'] = [1.00,1.00,1.00] # electric field\n",
    "yambo_in['BndsRnXd'] = [1,10] # bands considered\n",
    "yambo_in['QpntsRXd'] = [1,1] # momentum transfer\n",
    "yambo_in['DmRngeXd'] = [[0.1,0.2],'eV'] # damping range\n",
    "yambo_in['EnRngeXd'] = [[0,8],'eV'] # energy range\n",
    "yambo_in['XfnQP_E'] = [1.00,1.00,1.00] # scissor\n",
    "ip_10_shift.append_run(id=idd,calculator=code,input=yambo_in)"
   ]
  },
  {
   "cell_type": "code",
   "execution_count": 29,
   "metadata": {},
   "outputs": [
    {
     "name": "stdout",
     "output_type": "stream",
     "text": [
      "skip the computation for : absorption_ip.in\n",
      "parse file : ip_spectrum_10_shift/absorption_ip/o-absorption_ip.eps_q1_ip\n"
     ]
    }
   ],
   "source": [
    "ip_10_shift.run()"
   ]
  },
  {
   "cell_type": "markdown",
   "metadata": {},
   "source": [
    "### k=12 shift"
   ]
  },
  {
   "cell_type": "code",
   "execution_count": 30,
   "metadata": {},
   "outputs": [],
   "source": [
    "ip_12_shift = D.Dataset(label='12_shift',run_dir='ip_spectrum_12_shift',pre_processing='yambo')"
   ]
  },
  {
   "cell_type": "code",
   "execution_count": 31,
   "metadata": {},
   "outputs": [
    {
     "name": "stdout",
     "output_type": "stream",
     "text": [
      "SAVE folder already present in ip_spectrum_12_shift\n"
     ]
    }
   ],
   "source": [
    "source = 'nscf/bnds_40-kpoints_12-shift_1.save'\n",
    "ip_12_shift.pre_processing_function(source_dir=source)"
   ]
  },
  {
   "cell_type": "code",
   "execution_count": 32,
   "metadata": {},
   "outputs": [],
   "source": [
    "yambo_in = I.YamboIn('yambo -o c',folder=ip_12_shift.run_dir)"
   ]
  },
  {
   "cell_type": "code",
   "execution_count": 33,
   "metadata": {},
   "outputs": [],
   "source": [
    "idd = 'absorption_ip'\n",
    "yambo_in['LongDrXd'] = [1.00,1.00,1.00] # electric field\n",
    "yambo_in['BndsRnXd'] = [1,10] # bands considered\n",
    "yambo_in['QpntsRXd'] = [1,1] # momentum transfer\n",
    "yambo_in['DmRngeXd'] = [[0.1,0.2],'eV'] # damping range\n",
    "yambo_in['EnRngeXd'] = [[0,8],'eV'] # energy range\n",
    "yambo_in['XfnQP_E'] = [1.00,1.00,1.00] # scissor\n",
    "ip_12_shift.append_run(id=idd,calculator=code,input=yambo_in)"
   ]
  },
  {
   "cell_type": "code",
   "execution_count": 34,
   "metadata": {},
   "outputs": [
    {
     "name": "stdout",
     "output_type": "stream",
     "text": [
      "skip the computation for : absorption_ip.in\n",
      "parse file : ip_spectrum_12_shift/absorption_ip/o-absorption_ip.eps_q1_ip\n"
     ]
    }
   ],
   "source": [
    "ip_12_shift.run()"
   ]
  },
  {
   "cell_type": "markdown",
   "metadata": {},
   "source": [
    "### Random sampling of 100 kpoints close to Gamma"
   ]
  },
  {
   "cell_type": "code",
   "execution_count": 35,
   "metadata": {},
   "outputs": [],
   "source": [
    "ip_100_random = D.Dataset(label='100_random',run_dir='ip_spectrum_100_random',pre_processing='yambo')"
   ]
  },
  {
   "cell_type": "code",
   "execution_count": 36,
   "metadata": {},
   "outputs": [
    {
     "name": "stdout",
     "output_type": "stream",
     "text": [
      "SAVE folder already present in ip_spectrum_100_random\n"
     ]
    }
   ],
   "source": [
    "source = 'nscf/bnds_40-kpoints_100-sampling_random.save'\n",
    "ip_100_random.pre_processing_function(source_dir=source)"
   ]
  },
  {
   "cell_type": "code",
   "execution_count": 37,
   "metadata": {},
   "outputs": [],
   "source": [
    "yambo_in = I.YamboIn('yambo -o c',folder=ip_100_random.run_dir)"
   ]
  },
  {
   "cell_type": "code",
   "execution_count": 38,
   "metadata": {},
   "outputs": [],
   "source": [
    "idd = 'absorption_ip'\n",
    "yambo_in['LongDrXd'] = [1.00,1.00,1.00] # electric field\n",
    "yambo_in['BndsRnXd'] = [1,10] # bands considered\n",
    "yambo_in['QpntsRXd'] = [1,1] # momentum transfer\n",
    "yambo_in['DmRngeXd'] = [[0.1,0.2],'eV'] # damping range\n",
    "yambo_in['EnRngeXd'] = [[0,8],'eV'] # energy range\n",
    "yambo_in['XfnQP_E'] = [1.00,1.00,1.00] # scissor\n",
    "ip_100_random.append_run(id=idd,calculator=code,input=yambo_in)"
   ]
  },
  {
   "cell_type": "code",
   "execution_count": 39,
   "metadata": {
    "scrolled": true
   },
   "outputs": [
    {
     "name": "stdout",
     "output_type": "stream",
     "text": [
      "skip the computation for : absorption_ip.in\n",
      "parse file : ip_spectrum_100_random/absorption_ip/o-absorption_ip.eps_q1_ip\n"
     ]
    }
   ],
   "source": [
    "ip_100_random.run()"
   ]
  },
  {
   "cell_type": "markdown",
   "metadata": {},
   "source": [
    "### 11x11x11 kpoints on a regular grid close to Gamma"
   ]
  },
  {
   "cell_type": "code",
   "execution_count": 40,
   "metadata": {},
   "outputs": [],
   "source": [
    "ip_11_regular = D.Dataset(label='100_random',run_dir='ip_spectrum_11_regular',pre_processing='yambo')"
   ]
  },
  {
   "cell_type": "code",
   "execution_count": 41,
   "metadata": {},
   "outputs": [
    {
     "name": "stdout",
     "output_type": "stream",
     "text": [
      "SAVE folder already present in ip_spectrum_11_regular\n"
     ]
    }
   ],
   "source": [
    "source = 'nscf/bnds_40-kpoints_11-sampling_reg_grid.save'\n",
    "ip_11_regular.pre_processing_function(source_dir=source)"
   ]
  },
  {
   "cell_type": "code",
   "execution_count": 42,
   "metadata": {},
   "outputs": [],
   "source": [
    "yambo_in = I.YamboIn('yambo -o c',folder=ip_11_regular.run_dir)"
   ]
  },
  {
   "cell_type": "code",
   "execution_count": 43,
   "metadata": {},
   "outputs": [],
   "source": [
    "idd = 'absorption_ip'\n",
    "yambo_in['LongDrXd'] = [1.00,1.00,1.00] # electric field\n",
    "yambo_in['BndsRnXd'] = [1,10] # bands considered\n",
    "yambo_in['QpntsRXd'] = [1,1] # momentum transfer\n",
    "yambo_in['DmRngeXd'] = [[0.1,0.2],'eV'] # damping range\n",
    "yambo_in['EnRngeXd'] = [[0,8],'eV'] # energy range\n",
    "yambo_in['XfnQP_E'] = [1.00,1.00,1.00] # scissor\n",
    "ip_11_regular.append_run(id=idd,calculator=code,input=yambo_in)"
   ]
  },
  {
   "cell_type": "code",
   "execution_count": 44,
   "metadata": {
    "scrolled": true
   },
   "outputs": [
    {
     "name": "stdout",
     "output_type": "stream",
     "text": [
      "skip the computation for : absorption_ip.in\n",
      "parse file : ip_spectrum_11_regular/absorption_ip/o-absorption_ip.eps_q1_ip\n"
     ]
    }
   ],
   "source": [
    "ip_11_regular.run()"
   ]
  },
  {
   "cell_type": "markdown",
   "metadata": {},
   "source": [
    "### Gamma and little shift close to gamma in the x,y,z directions"
   ]
  },
  {
   "cell_type": "code",
   "execution_count": 45,
   "metadata": {},
   "outputs": [],
   "source": [
    "ip_close = D.Dataset(label='gamma_close',run_dir='ip_spectrum_gamma-and-close',pre_processing='yambo')"
   ]
  },
  {
   "cell_type": "code",
   "execution_count": 46,
   "metadata": {},
   "outputs": [
    {
     "name": "stdout",
     "output_type": "stream",
     "text": [
      "SAVE folder already present in ip_spectrum_gamma-and-close\n"
     ]
    }
   ],
   "source": [
    "source = 'nscf/bnds_40-sampling_gamma_and_shifted_points.save'\n",
    "ip_close.pre_processing_function(source_dir=source)"
   ]
  },
  {
   "cell_type": "code",
   "execution_count": 47,
   "metadata": {},
   "outputs": [],
   "source": [
    "yambo_in = I.YamboIn('yambo -o c',folder=ip_close.run_dir)"
   ]
  },
  {
   "cell_type": "code",
   "execution_count": 48,
   "metadata": {},
   "outputs": [],
   "source": [
    "idd = 'absorption_ip'\n",
    "yambo_in['LongDrXd'] = [1.00,1.00,1.00] # electric field\n",
    "yambo_in['BndsRnXd'] = [1,10] # bands considered\n",
    "yambo_in['QpntsRXd'] = [1,1] # momentum transfer\n",
    "yambo_in['DmRngeXd'] = [[0.1,0.2],'eV'] # damping range\n",
    "yambo_in['EnRngeXd'] = [[0,8],'eV'] # energy range\n",
    "yambo_in['XfnQP_E'] = [1.00,1.00,1.00] # scissor\n",
    "ip_close.append_run(id=idd,calculator=code,input=yambo_in)"
   ]
  },
  {
   "cell_type": "code",
   "execution_count": 49,
   "metadata": {
    "scrolled": true
   },
   "outputs": [
    {
     "name": "stdout",
     "output_type": "stream",
     "text": [
      "skip the computation for : absorption_ip.in\n",
      "parse file : ip_spectrum_gamma-and-close/absorption_ip/o-absorption_ip.eps_q1_ip\n"
     ]
    }
   ],
   "source": [
    "ip_close.run()"
   ]
  },
  {
   "cell_type": "markdown",
   "metadata": {},
   "source": [
    "### Gamma and little shift close to gamma in the x,y,z directions WITHOUT COMMUTATOR"
   ]
  },
  {
   "cell_type": "code",
   "execution_count": 13,
   "metadata": {},
   "outputs": [],
   "source": [
    "ip_close_no_com = D.Dataset(label='gamma_close',run_dir='ip_spectrum_gamma-and-close_no-commutator',pre_processing='yambo')"
   ]
  },
  {
   "cell_type": "code",
   "execution_count": 14,
   "metadata": {},
   "outputs": [
    {
     "name": "stdout",
     "output_type": "stream",
     "text": [
      "SAVE folder already present in ip_spectrum_gamma-and-close_no-commutator\n"
     ]
    }
   ],
   "source": [
    "source = 'nscf/bnds_40-sampling_gamma_and_shifted_points.save'\n",
    "ip_close_no_com.pre_processing_function(source_dir=source)"
   ]
  },
  {
   "cell_type": "markdown",
   "metadata": {},
   "source": [
    "Change name to the database ns.kb_pp_pwscf"
   ]
  },
  {
   "cell_type": "code",
   "execution_count": 8,
   "metadata": {},
   "outputs": [
    {
     "name": "stdout",
     "output_type": "stream",
     "text": [
      "mv ip_spectrum_gamma-and-close_no-commutator/SAVE/ns.kb_pp_pwscf ip_spectrum_gamma-and-close_no-commutator/SAVE/ns.kb_pp_pwscf_hide\n"
     ]
    },
    {
     "data": {
      "text/plain": [
       "0"
      ]
     },
     "execution_count": 8,
     "metadata": {},
     "output_type": "execute_result"
    }
   ],
   "source": [
    "db = 'ns.kb_pp_pwscf'\n",
    "src = os.path.join(ip_close_no_com.run_dir,'SAVE',db)\n",
    "dst = os.path.join(ip_close_no_com.run_dir,'SAVE',db+'_hide')\n",
    "string = 'mv %s %s'%(src,dst)\n",
    "print(string)\n",
    "os.system(string)"
   ]
  },
  {
   "cell_type": "code",
   "execution_count": 15,
   "metadata": {},
   "outputs": [],
   "source": [
    "yambo_in = I.YamboIn('yambo -o c',folder=ip_close_no_com.run_dir)"
   ]
  },
  {
   "cell_type": "code",
   "execution_count": 16,
   "metadata": {},
   "outputs": [],
   "source": [
    "idd = 'absorption_ip'\n",
    "yambo_in['LongDrXd'] = [1.00,1.00,1.00] # electric field\n",
    "yambo_in['BndsRnXd'] = [1,10] # bands considered\n",
    "yambo_in['QpntsRXd'] = [1,1] # momentum transfer\n",
    "yambo_in['DmRngeXd'] = [[0.1,0.2],'eV'] # damping range\n",
    "yambo_in['EnRngeXd'] = [[0,8],'eV'] # energy range\n",
    "yambo_in['XfnQP_E'] = [1.00,1.00,1.00] # scissor\n",
    "ip_close_no_com.append_run(id=idd,calculator=code,input=yambo_in)"
   ]
  },
  {
   "cell_type": "code",
   "execution_count": 17,
   "metadata": {
    "scrolled": true
   },
   "outputs": [
    {
     "name": "stdout",
     "output_type": "stream",
     "text": [
      "execute : cd ip_spectrum_gamma-and-close_no-commutator ; OMP_NUM_THREADS=1 mpirun -np 16 yambo -F absorption_ip.in -J absorption_ip -C absorption_ip\n",
      "parse file : ip_spectrum_gamma-and-close_no-commutator/absorption_ip/o-absorption_ip.eps_q1_ip\n"
     ]
    }
   ],
   "source": [
    "ip_close_no_com.run()"
   ]
  },
  {
   "cell_type": "markdown",
   "metadata": {},
   "source": [
    "### k=8 without commutator"
   ]
  },
  {
   "cell_type": "code",
   "execution_count": 54,
   "metadata": {},
   "outputs": [],
   "source": [
    "ip_8_no_com = D.Dataset(label='k8_no_com',run_dir='ip_spectrum_8_no-commutator',pre_processing='yambo')"
   ]
  },
  {
   "cell_type": "code",
   "execution_count": 55,
   "metadata": {},
   "outputs": [
    {
     "name": "stdout",
     "output_type": "stream",
     "text": [
      "SAVE folder already present in ip_spectrum_8_no-commutator\n"
     ]
    }
   ],
   "source": [
    "source = 'nscf/bnds_40-kpoints_8.save/'\n",
    "ip_8_no_com.pre_processing_function(source_dir=source)"
   ]
  },
  {
   "cell_type": "markdown",
   "metadata": {},
   "source": [
    "Change name to the database ns.kb_pp_pwscf"
   ]
  },
  {
   "cell_type": "code",
   "execution_count": 62,
   "metadata": {},
   "outputs": [
    {
     "name": "stdout",
     "output_type": "stream",
     "text": [
      "mv ip_spectrum_8_no-commutator/SAVE/ns.kb_pp_pwscf ip_spectrum_8_no-commutator/SAVE/ns.kb_pp_pwscf_hide\n"
     ]
    },
    {
     "data": {
      "text/plain": [
       "0"
      ]
     },
     "execution_count": 62,
     "metadata": {},
     "output_type": "execute_result"
    }
   ],
   "source": [
    "db = 'ns.kb_pp_pwscf'\n",
    "src = os.path.join(ip_8_no_com.run_dir,'SAVE',db)\n",
    "dst = os.path.join(ip_8_no_com.run_dir,'SAVE',db+'_hide')\n",
    "string = 'mv %s %s'%(src,dst)\n",
    "print(string)\n",
    "os.system(string)"
   ]
  },
  {
   "cell_type": "code",
   "execution_count": 63,
   "metadata": {},
   "outputs": [],
   "source": [
    "yambo_in = I.YamboIn('yambo -o c',folder=ip_close.run_dir)"
   ]
  },
  {
   "cell_type": "code",
   "execution_count": 64,
   "metadata": {},
   "outputs": [],
   "source": [
    "idd = 'absorption_ip'\n",
    "yambo_in['LongDrXd'] = [1.00,1.00,1.00] # electric field\n",
    "yambo_in['BndsRnXd'] = [1,10] # bands considered\n",
    "yambo_in['QpntsRXd'] = [1,1] # momentum transfer\n",
    "yambo_in['DmRngeXd'] = [[0.1,0.2],'eV'] # damping range\n",
    "yambo_in['EnRngeXd'] = [[0,8],'eV'] # energy range\n",
    "yambo_in['XfnQP_E'] = [1.00,1.00,1.00] # scissor\n",
    "ip_8_no_com.append_run(id=idd,calculator=code,input=yambo_in)"
   ]
  },
  {
   "cell_type": "code",
   "execution_count": 65,
   "metadata": {
    "scrolled": true
   },
   "outputs": [
    {
     "name": "stdout",
     "output_type": "stream",
     "text": [
      "execute : cd ip_spectrum_8_no-commutator ; OMP_NUM_THREADS=1 mpirun -np 16 yambo -F absorption_ip.in -J absorption_ip -C absorption_ip\n",
      "parse file : ip_spectrum_8_no-commutator/absorption_ip/o-absorption_ip.eps_q1_ip\n"
     ]
    }
   ],
   "source": [
    "ip_8_no_com.run()"
   ]
  },
  {
   "cell_type": "markdown",
   "metadata": {},
   "source": [
    "### Analysis of the results"
   ]
  },
  {
   "cell_type": "code",
   "execution_count": 66,
   "metadata": {},
   "outputs": [],
   "source": [
    "res_8 = ip_8.results[0]\n",
    "res_10 = ip_10.results[0]\n",
    "res_20 = ip_20.results[0]\n",
    "res_8_shift = ip_8_shift.results[0]\n",
    "res_10_shift = ip_10_shift.results[0]\n",
    "res_12_shift = ip_12_shift.results[0]\n",
    "res_100_random = ip_100_random.results[0]\n",
    "res_11_regular = ip_11_regular.results[0]\n",
    "res_8_no_com = ip_8_no_com.results[0]"
   ]
  },
  {
   "cell_type": "code",
   "execution_count": 67,
   "metadata": {},
   "outputs": [
    {
     "data": {
      "image/png": "[encoded data removed]",
      "text/plain": [
       "<Figure size 432x288 with 1 Axes>"
      ]
     },
     "metadata": {
      "needs_background": "light"
     },
     "output_type": "display_data"
    }
   ],
   "source": [
    "plt.plot(res_8.E,res_8.Im,label='8')\n",
    "plt.plot(res_10.E,res_10.Im,label='10')\n",
    "plt.plot(res_20.E,res_20.Im,label='20')\n",
    "plt.plot(res_8_shift.E,res_8_shift.Im,label='8_shift')\n",
    "plt.plot(res_10_shift.E,res_10_shift.Im,label='10_shift')\n",
    "plt.plot(res_12_shift.E,res_12_shift.Im,label='12_shift')\n",
    "#plt.plot(res.E,res.Re,label='re')\n",
    "plt.legend()\n",
    "plt.show()"
   ]
  },
  {
   "cell_type": "markdown",
   "metadata": {},
   "source": [
    "we find peaks at 1.4, 3 and 5 eV. For the spectrum obtained with shifted samplings the heigth of the peak in gamma is much less strong and the spectrum are closer the experimental ones"
   ]
  },
  {
   "cell_type": "code",
   "execution_count": 68,
   "metadata": {},
   "outputs": [
    {
     "data": {
      "image/png": "[encoded data removed]",
      "text/plain": [
       "<Figure size 432x288 with 1 Axes>"
      ]
     },
     "metadata": {
      "needs_background": "light"
     },
     "output_type": "display_data"
    }
   ],
   "source": [
    "plt.plot(res_20.E,res_20.Im,label='20')\n",
    "#plt.plot(res_8_shift.E,res_8_shift.Im,label='8_shift')\n",
    "#plt.plot(res_10_shift.E,res_10_shift.Im,label='10_shift')\n",
    "plt.plot(res_12_shift.E,res_12_shift.Im,label='12_shift')\n",
    "plt.legend()\n",
    "plt.show()"
   ]
  },
  {
   "cell_type": "markdown",
   "metadata": {},
   "source": []
  },
  {
   "cell_type": "markdown",
   "metadata": {},
   "source": [
    "Show the spectrum associated to random and regular sampling close to Gamma"
   ]
  },
  {
   "cell_type": "code",
   "execution_count": 69,
   "metadata": {},
   "outputs": [
    {
     "data": {
      "image/png": "[encoded data removed]",
      "text/plain": [
       "<Figure size 432x288 with 1 Axes>"
      ]
     },
     "metadata": {
      "needs_background": "light"
     },
     "output_type": "display_data"
    }
   ],
   "source": [
    "plt.plot(res_100_random.E,np.array(res_100_random.Im),label='100_random')\n",
    "plt.plot(res_11_regular.E,np.array(res_11_regular.Im),label='11_regular')\n",
    "plt.legend()\n",
    "plt.show()"
   ]
  },
  {
   "cell_type": "markdown",
   "metadata": {},
   "source": [
    "Check the effects of the non local psp contributions"
   ]
  },
  {
   "cell_type": "code",
   "execution_count": 71,
   "metadata": {},
   "outputs": [
    {
     "data": {
      "image/png": "[encoded data removed]",
      "text/plain": [
       "<Figure size 432x288 with 1 Axes>"
      ]
     },
     "metadata": {
      "needs_background": "light"
     },
     "output_type": "display_data"
    }
   ],
   "source": [
    "plt.plot(res_8.E,res_8.Im,label='8')\n",
    "plt.plot(res_8_no_com.E,res_10.Im,label='8_no-com')\n",
    "plt.legend()\n",
    "plt.show()"
   ]
  },
  {
   "cell_type": "code",
   "execution_count": null,
   "metadata": {},
   "outputs": [],
   "source": []
  }
 ],
 "metadata": {
  "kernelspec": {
   "display_name": "Python 3",
   "language": "python",
   "name": "python3"
  },
  "language_info": {
   "codemirror_mode": {
    "name": "ipython",
    "version": 3
   },
   "file_extension": ".py",
   "mimetype": "text/x-python",
   "name": "python",
   "nbconvert_exporter": "python",
   "pygments_lexer": "ipython3",
   "version": "3.5.3"
  }
 },
 "nbformat": 4,
 "nbformat_minor": 2
}
