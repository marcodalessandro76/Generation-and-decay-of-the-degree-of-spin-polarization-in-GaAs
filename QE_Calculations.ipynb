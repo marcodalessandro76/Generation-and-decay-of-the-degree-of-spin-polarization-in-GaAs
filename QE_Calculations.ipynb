{
 "cells": [
  {
   "cell_type": "code",
   "execution_count": 1,
   "metadata": {},
   "outputs": [],
   "source": [
    "# useful to autoreload the module without restarting the kernel\n",
    "%load_ext autoreload\n",
    "%autoreload 2"
   ]
  },
  {
   "cell_type": "code",
   "execution_count": 2,
   "metadata": {},
   "outputs": [],
   "source": [
    "from mppi import InputFiles as I, Calculators as C, Datasets as D, Utilities as U, Parsers as P\n",
    "import matplotlib.pyplot as plt\n",
    "import numpy as np"
   ]
  },
  {
   "cell_type": "code",
   "execution_count": 3,
   "metadata": {},
   "outputs": [],
   "source": [
    "omp = 1\n",
    "mpi_run = 'mpirun -np 8'"
   ]
  },
  {
   "cell_type": "markdown",
   "metadata": {},
   "source": [
    "# DFT analysis of GaAs"
   ]
  },
  {
   "cell_type": "markdown",
   "metadata": {},
   "source": [
    "This notebook contains the analysis of the GaAs (with SO interaction) performed with QuantumESPRESSO. In particular\n",
    "\n",
    "* GS convergence for the energy cutoff, the number of kpoints and the equilibrium lattice constant\n",
    "* Plot of the band structure along a path and determination of the value of the scissor nedded to set the gap to 1.42 eV, that correspond\n",
    "   to the experimental value at 300 K.\n",
    "* NSCF computations performed on various kpoints samplings, needed for the subsequent RT analysis.\n",
    "* Analysis of the Dos\n",
    "* Analysis of the JDos"
   ]
  },
  {
   "cell_type": "markdown",
   "metadata": {},
   "source": [
    "## GS convergence analysis"
   ]
  },
  {
   "cell_type": "code",
   "execution_count": 7,
   "metadata": {},
   "outputs": [],
   "source": [
    "run_dir = 'GS_convergence'"
   ]
  },
  {
   "cell_type": "markdown",
   "metadata": {},
   "source": [
    "We define a basic input object"
   ]
  },
  {
   "cell_type": "code",
   "execution_count": 8,
   "metadata": {},
   "outputs": [
    {
     "data": {
      "text/plain": [
       "{'atomic_positions': {'type': 'alat',\n",
       "  'values': [['Ga', [0.0, 0.0, 0.0]], ['As', [0.25, 0.25, 0.25]]]},\n",
       " 'atomic_species': {'As': ['1.0', 'As_rel.pz-rrkj3.UPF'],\n",
       "  'Ga': ['1.0', 'Ga_rel.pz-rrkj3.UPF']},\n",
       " 'cell': {},\n",
       " 'cell_parameters': {},\n",
       " 'control': {'calculation': \"'scf'\",\n",
       "  'pseudo_dir': \"'../pseudos'\",\n",
       "  'verbosity': \"'high'\"},\n",
       " 'electrons': {'conv_thr': 1e-06, 'diago_full_acc': '.false.'},\n",
       " 'ions': {},\n",
       " 'kpoints': {},\n",
       " 'system': {'celldm(1)': 10.6,\n",
       "  'force_symmorphic': '.true.',\n",
       "  'ibrav': 2,\n",
       "  'lspinorb': '.true.',\n",
       "  'nat': '2',\n",
       "  'noncolin': '.true.',\n",
       "  'ntyp': '2',\n",
       "  'occupations': \"'fixed'\"}}"
      ]
     },
     "execution_count": 8,
     "metadata": {},
     "output_type": "execute_result"
    }
   ],
   "source": [
    "inp = I.PwInput()\n",
    "inp.set_scf(force_symmorphic=True,conv_thr=1e-6)\n",
    "inp.set_pseudo_dir(pseudo_dir='../pseudos')\n",
    "inp.set_lattice(2,celldm1=10.6) #first guess to the celldm1 to be checked later\n",
    "inp.set_occupations(occupations='fixed')\n",
    "inp.add_atom('Ga','Ga_rel.pz-rrkj3.UPF')\n",
    "inp.add_atom('As','As_rel.pz-rrkj3.UPF')\n",
    "inp.set_atoms_number(2)\n",
    "inp.set_spinorbit()\n",
    "inp.set_atomic_positions([['Ga',[0.,0.,0.]],['As',[0.25,0.25,0.25]]],type='alat')\n",
    "inp"
   ]
  },
  {
   "cell_type": "markdown",
   "metadata": {},
   "source": [
    "We perform a first seek_convergence procedure using the cutoff energy of the wave functions as free parameter.\n",
    "In this case we set the kpoints sampling on a grid 4,4,4"
   ]
  },
  {
   "cell_type": "code",
   "execution_count": 9,
   "metadata": {},
   "outputs": [],
   "source": [
    "kvalue = 4\n",
    "inp.set_kpoints(type='automatic',points=[kvalue,kvalue,kvalue])"
   ]
  },
  {
   "cell_type": "markdown",
   "metadata": {},
   "source": [
    "We start with the value of 80 as suggested in the specifications of the pseudos (minum allowed is 76 Ry for As)"
   ]
  },
  {
   "cell_type": "code",
   "execution_count": 10,
   "metadata": {},
   "outputs": [
    {
     "data": {
      "text/plain": [
       "[80, 90, 100]"
      ]
     },
     "execution_count": 10,
     "metadata": {},
     "output_type": "execute_result"
    }
   ],
   "source": [
    "ecut = [10*i for i in range(8,11)]\n",
    "ecut"
   ]
  },
  {
   "cell_type": "code",
   "execution_count": 11,
   "metadata": {},
   "outputs": [],
   "source": [
    "ecut_conv = D.Dataset(run_dir=run_dir)"
   ]
  },
  {
   "cell_type": "code",
   "execution_count": 12,
   "metadata": {},
   "outputs": [
    {
     "name": "stdout",
     "output_type": "stream",
     "text": [
      "Initialize a serial QuantumESPRESSO calculator with scheduler direct\n"
     ]
    }
   ],
   "source": [
    "code = C.QeCalculator(omp=omp,mpi_run=mpi_run,skip=True,multiTask=False)\n",
    "#code.global_options()"
   ]
  },
  {
   "cell_type": "code",
   "execution_count": 13,
   "metadata": {},
   "outputs": [],
   "source": [
    "for e in ecut:\n",
    "    idd = {'ecut' : e, 'k' : kvalue}\n",
    "    inp.set_prefix(D.name_from_id(idd))\n",
    "    inp.set_energy_cutoff(e)\n",
    "    ecut_conv.append_run(id=idd,input=inp,runner=code)"
   ]
  },
  {
   "cell_type": "markdown",
   "metadata": {},
   "source": [
    "We use a postProcessing function to extract the total energy from the results and run a seek_convergence"
   ]
  },
  {
   "cell_type": "code",
   "execution_count": 14,
   "metadata": {},
   "outputs": [],
   "source": [
    "ecut_conv.set_postprocessing_function(D.QE_get_energy)"
   ]
  },
  {
   "cell_type": "code",
   "execution_count": 15,
   "metadata": {},
   "outputs": [
    {
     "name": "stdout",
     "output_type": "stream",
     "text": [
      "Fetching results for id \" {'ecut': 80, 'k': 4} \"\n",
      "Create the sub-directory 'GS_convergence'\n",
      "Executing command: cd GS_convergence; mpirun -np 16 pw.x -inp ecut_80-k_4.in > ecut_80-k_4.log\n",
      "run0_is_running:True  \n",
      "run0_is_running:True  \n",
      "run0_is_running:True  \n",
      "Job completed\n",
      "Fetching results for id \" {'ecut': 90, 'k': 4} \"\n",
      "Executing command: cd GS_convergence; mpirun -np 16 pw.x -inp ecut_90-k_4.in > ecut_90-k_4.log\n",
      "run0_is_running:True  \n",
      "Job completed\n",
      "Convergence reached in Dataset \"Dataset\" for id \" {'ecut': 80, 'k': 4} \"\n"
     ]
    },
    {
     "data": {
      "text/plain": [
       "({'ecut': 80, 'k': 4}, -8.657253406394746)"
      ]
     },
     "execution_count": 15,
     "metadata": {},
     "output_type": "execute_result"
    }
   ],
   "source": [
    "ecut_conv.seek_convergence(rtol=1e-5)"
   ]
  },
  {
   "cell_type": "code",
   "execution_count": 16,
   "metadata": {},
   "outputs": [],
   "source": [
    "ecut_conv = 80"
   ]
  },
  {
   "cell_type": "markdown",
   "metadata": {},
   "source": [
    "The choice ecut = 80 guarantees a convergence of the gs with a rtol of 1e-5, that corresponds to 0.1 meV.\n",
    "\n",
    "We perform a second seek_converge on the value of k."
   ]
  },
  {
   "cell_type": "code",
   "execution_count": 17,
   "metadata": {},
   "outputs": [],
   "source": [
    "kvalue_conv = D.Dataset(run_dir=run_dir)"
   ]
  },
  {
   "cell_type": "code",
   "execution_count": 18,
   "metadata": {},
   "outputs": [],
   "source": [
    "inp.set_energy_cutoff(ecut_conv)"
   ]
  },
  {
   "cell_type": "code",
   "execution_count": 19,
   "metadata": {},
   "outputs": [],
   "source": [
    "kvalues = [4,5,6,7,8]"
   ]
  },
  {
   "cell_type": "code",
   "execution_count": 20,
   "metadata": {},
   "outputs": [],
   "source": [
    "for k in kvalues:\n",
    "    idd = {'ecut' : ecut_conv, 'k' : k}\n",
    "    inp.set_prefix(D.name_from_id(idd))\n",
    "    inp.set_kpoints(points=[k,k,k])\n",
    "    kvalue_conv.append_run(id=idd,input=inp,runner=code)"
   ]
  },
  {
   "cell_type": "code",
   "execution_count": 21,
   "metadata": {},
   "outputs": [],
   "source": [
    "kvalue_conv.set_postprocessing_function(D.QE_get_energy)"
   ]
  },
  {
   "cell_type": "code",
   "execution_count": 22,
   "metadata": {},
   "outputs": [
    {
     "name": "stdout",
     "output_type": "stream",
     "text": [
      "Fetching results for id \" {'ecut': 80, 'k': 4} \"\n",
      "Skip the computation for input ecut_80-k_4\n",
      "Job completed\n",
      "Fetching results for id \" {'ecut': 80, 'k': 5} \"\n",
      "Executing command: cd GS_convergence; mpirun -np 16 pw.x -inp ecut_80-k_5.in > ecut_80-k_5.log\n",
      "run0_is_running:True  \n",
      "Job completed\n",
      "Fetching results for id \" {'ecut': 80, 'k': 6} \"\n",
      "Executing command: cd GS_convergence; mpirun -np 16 pw.x -inp ecut_80-k_6.in > ecut_80-k_6.log\n",
      "run0_is_running:True  \n",
      "Job completed\n",
      "Fetching results for id \" {'ecut': 80, 'k': 7} \"\n",
      "Executing command: cd GS_convergence; mpirun -np 16 pw.x -inp ecut_80-k_7.in > ecut_80-k_7.log\n",
      "run0_is_running:True  \n",
      "run0_is_running:True  \n",
      "run0_is_running:True  \n",
      "Job completed\n",
      "Convergence reached in Dataset \"Dataset\" for id \" {'ecut': 80, 'k': 6} \"\n"
     ]
    },
    {
     "data": {
      "text/plain": [
       "({'ecut': 80, 'k': 6}, -8.663228888173155)"
      ]
     },
     "execution_count": 22,
     "metadata": {},
     "output_type": "execute_result"
    }
   ],
   "source": [
    "kvalue_conv.seek_convergence(rtol=1e-4)"
   ]
  },
  {
   "cell_type": "markdown",
   "metadata": {},
   "source": [
    "We choose k = 6 that guarantees convergence at the order of 1meV"
   ]
  },
  {
   "cell_type": "code",
   "execution_count": 23,
   "metadata": {},
   "outputs": [],
   "source": [
    "k_conv = 6"
   ]
  },
  {
   "cell_type": "markdown",
   "metadata": {},
   "source": [
    "Lastly, we seek for the equilibrium lattice constants"
   ]
  },
  {
   "cell_type": "code",
   "execution_count": 24,
   "metadata": {},
   "outputs": [],
   "source": [
    "lat_conv = D.Dataset(run_dir=run_dir)"
   ]
  },
  {
   "cell_type": "code",
   "execution_count": 25,
   "metadata": {},
   "outputs": [],
   "source": [
    "lat0 = 10.5\n",
    "scale = 5e-3\n",
    "deltas = [i for i in range(-3,3)]"
   ]
  },
  {
   "cell_type": "code",
   "execution_count": 26,
   "metadata": {},
   "outputs": [],
   "source": [
    "inp.set_energy_cutoff(ecut_conv)\n",
    "inp.set_kpoints(points=[k_conv,k_conv,k_conv])"
   ]
  },
  {
   "cell_type": "code",
   "execution_count": 27,
   "metadata": {},
   "outputs": [],
   "source": [
    "for delta in deltas:\n",
    "    idd = {'lat_delta' : delta}\n",
    "    inp.set_prefix(D.name_from_id(idd))\n",
    "    lat = lat0*(1+delta*scale)\n",
    "    inp.set_lattice(2,celldm1=lat)\n",
    "    lat_conv.append_run(id=idd,input=inp,runner=code)"
   ]
  },
  {
   "cell_type": "code",
   "execution_count": 28,
   "metadata": {},
   "outputs": [],
   "source": [
    "lat_conv.set_postprocessing_function(D.QE_get_energy)"
   ]
  },
  {
   "cell_type": "code",
   "execution_count": 29,
   "metadata": {},
   "outputs": [
    {
     "name": "stdout",
     "output_type": "stream",
     "text": [
      "Executing command: cd GS_convergence; mpirun -np 16 pw.x -inp lat_delta_-3.in > lat_delta_-3.log\n",
      "run0_is_running:True  \n",
      "Job completed\n",
      "Executing command: cd GS_convergence; mpirun -np 16 pw.x -inp lat_delta_-2.in > lat_delta_-2.log\n",
      "run0_is_running:True  \n",
      "Job completed\n",
      "Executing command: cd GS_convergence; mpirun -np 16 pw.x -inp lat_delta_-1.in > lat_delta_-1.log\n",
      "run0_is_running:True  \n",
      "Job completed\n",
      "Executing command: cd GS_convergence; mpirun -np 16 pw.x -inp lat_delta_0.in > lat_delta_0.log\n",
      "run0_is_running:True  \n",
      "run0_is_running:True  \n",
      "Job completed\n",
      "Executing command: cd GS_convergence; mpirun -np 16 pw.x -inp lat_delta_1.in > lat_delta_1.log\n",
      "run0_is_running:True  \n",
      "Job completed\n",
      "Executing command: cd GS_convergence; mpirun -np 16 pw.x -inp lat_delta_2.in > lat_delta_2.log\n",
      "run0_is_running:True  \n",
      "Job completed\n"
     ]
    }
   ],
   "source": [
    "results = lat_conv.run()"
   ]
  },
  {
   "cell_type": "markdown",
   "metadata": {},
   "source": [
    "We perform a quadratic fit of data"
   ]
  },
  {
   "cell_type": "code",
   "execution_count": 30,
   "metadata": {},
   "outputs": [
    {
     "data": {
      "text/plain": [
       "[<matplotlib.lines.Line2D at 0x7f0024ef0a90>]"
      ]
     },
     "execution_count": 30,
     "metadata": {},
     "output_type": "execute_result"
    },
    {
     "data": {
      "image/png": "[encoded data removed]",
      "text/plain": [
       "<Figure size 432x288 with 1 Axes>"
      ]
     },
     "metadata": {
      "needs_background": "light"
     },
     "output_type": "display_data"
    }
   ],
   "source": [
    "res = [results[i] for i in range(len(deltas))]\n",
    "coeffs = np.polyfit(deltas,res,2)\n",
    "values_fit = np.linspace(deltas[0],deltas[-1],30)\n",
    "res_fit = [coeffs[0]*x**2+coeffs[1]*x+coeffs[2] for x in values_fit]\n",
    "plt.plot(deltas,res)\n",
    "plt.plot(values_fit,res_fit)"
   ]
  },
  {
   "cell_type": "code",
   "execution_count": 31,
   "metadata": {},
   "outputs": [
    {
     "data": {
      "text/plain": [
       "10.475218003365393"
      ]
     },
     "execution_count": 31,
     "metadata": {},
     "output_type": "execute_result"
    }
   ],
   "source": [
    "delta_eq = -coeffs[1]/(2*coeffs[0])\n",
    "lat_eq = lat0*(1+delta_eq*scale)\n",
    "lat_eq"
   ]
  },
  {
   "cell_type": "markdown",
   "metadata": {},
   "source": [
    "This is the value of the equilibrium lattice constants. So to summarize"
   ]
  },
  {
   "cell_type": "code",
   "execution_count": 4,
   "metadata": {},
   "outputs": [],
   "source": [
    "ecut_conv = 80\n",
    "k_conv = 6\n",
    "lat_eq = 10.475"
   ]
  },
  {
   "cell_type": "markdown",
   "metadata": {},
   "source": [
    "We perform a last scf computation for the converged system, that will be used as starting point for the nscf ones"
   ]
  },
  {
   "cell_type": "code",
   "execution_count": 33,
   "metadata": {},
   "outputs": [],
   "source": [
    "inp.set_lattice(2,celldm1=lat_eq)\n",
    "prefix = 'gs_converged'\n",
    "inp.set_prefix(prefix)\n",
    "#inp"
   ]
  },
  {
   "cell_type": "code",
   "execution_count": 34,
   "metadata": {},
   "outputs": [
    {
     "name": "stdout",
     "output_type": "stream",
     "text": [
      "Executing command: cd GS_convergence; mpirun -np 16 pw.x -inp gs_converged.in > gs_converged.log\n",
      "run0_is_running:True  \n",
      "Job completed\n"
     ]
    },
    {
     "data": {
      "text/plain": [
       "{'output': ['GS_convergence/gs_converged.save/data-file-schema.xml']}"
      ]
     },
     "execution_count": 34,
     "metadata": {},
     "output_type": "execute_result"
    }
   ],
   "source": [
    "code.run(run_dir=run_dir,inputs=[inp],names=[prefix])"
   ]
  },
  {
   "cell_type": "markdown",
   "metadata": {},
   "source": [
    "# Analysis of the band structure"
   ]
  },
  {
   "cell_type": "code",
   "execution_count": 8,
   "metadata": {},
   "outputs": [],
   "source": [
    "run_dir = 'QE_bands'"
   ]
  },
  {
   "cell_type": "markdown",
   "metadata": {},
   "source": [
    "We compute the band structure along a path. We use the converged energy_cutoff and lattice parameters."
   ]
  },
  {
   "cell_type": "code",
   "execution_count": 18,
   "metadata": {},
   "outputs": [
    {
     "data": {
      "text/plain": [
       "[[0.5, 0.5, 0.5, 30],\n",
       " [0.0, 0.0, 0.0, 30],\n",
       " [0.0, 0.0, 1.0, 30],\n",
       " [0.0, 1.0, 1.0, 30],\n",
       " [0.0, 0.0, 0.0, 0]]"
      ]
     },
     "execution_count": 18,
     "metadata": {},
     "output_type": "execute_result"
    }
   ],
   "source": [
    "hsp = U.high_sym_fcc\n",
    "klist = U.build_kpath(hsp['L'],hsp['G'],hsp['X'],hsp['K'],hsp['G'],numstep=30)\n",
    "klist"
   ]
  },
  {
   "cell_type": "code",
   "execution_count": 19,
   "metadata": {},
   "outputs": [],
   "source": [
    "pref = 'bands' \n",
    "\n",
    "inp = I.PwInput()\n",
    "inp.set_bands(16,force_symmorphic=True,conv_thr=1e-6)\n",
    "inp.set_pseudo_dir(pseudo_dir='../pseudos')\n",
    "inp.set_lattice(2,celldm1=lat_eq)\n",
    "inp.set_occupations(occupations='fixed')\n",
    "inp.add_atom('Ga','Ga_rel.pz-rrkj3.UPF')\n",
    "inp.add_atom('As','As_rel.pz-rrkj3.UPF')\n",
    "inp.set_atoms_number(2)\n",
    "inp.set_spinorbit()\n",
    "inp.set_atomic_positions([['Ga',[0.,0.,0.]],['As',[0.25,0.25,0.25]]],type='alat')\n",
    "inp.set_energy_cutoff(ecut_conv)\n",
    "inp.set_kpoints(type='tpiba_b',klist=klist)\n",
    "inp.set_prefix(pref)\n",
    "#inp"
   ]
  },
  {
   "cell_type": "code",
   "execution_count": 20,
   "metadata": {},
   "outputs": [
    {
     "name": "stdout",
     "output_type": "stream",
     "text": [
      "Initialize a serial QuantumESPRESSO calculator with scheduler direct\n"
     ]
    }
   ],
   "source": [
    "code = C.QeCalculator(omp=omp,mpi_run=mpi_run,skip=True,multiTask=False)"
   ]
  },
  {
   "cell_type": "code",
   "execution_count": 21,
   "metadata": {},
   "outputs": [
    {
     "name": "stdout",
     "output_type": "stream",
     "text": [
      "The folder QE_bands/bands.save already exsists. Source folder GS_convergence/gs_converged.save not copied\n",
      "Skip the computation for input bands\n",
      "Job completed\n"
     ]
    }
   ],
   "source": [
    "result = code.run(run_dir=run_dir,inputs=[inp],names=[pref],source_dir='GS_convergence/gs_converged.save')"
   ]
  },
  {
   "cell_type": "code",
   "execution_count": 22,
   "metadata": {},
   "outputs": [
    {
     "name": "stdout",
     "output_type": "stream",
     "text": [
      "Apply a scissor of 0.5456147560258169 eV\n"
     ]
    }
   ],
   "source": [
    "bands = U.BandStructure.from_Pw(result['output'][0],hsp,set_gap=1.42)"
   ]
  },
  {
   "cell_type": "code",
   "execution_count": 23,
   "metadata": {},
   "outputs": [
    {
     "data": {
      "image/png": "[encoded data removed]",
      "text/plain": [
       "<Figure size 432x288 with 1 Axes>"
      ]
     },
     "metadata": {
      "needs_background": "light"
     },
     "output_type": "display_data"
    }
   ],
   "source": [
    "plt.title('GaAs bands')\n",
    "plt.ylim(-14,5)\n",
    "bands.plot(plt,selection=[i for i in range(0,11)])"
   ]
  },
  {
   "cell_type": "markdown",
   "metadata": {},
   "source": [
    "It is useful also to display the band structure evidencing the region around $\\Gamma$ that is sampled for the RT analysis"
   ]
  },
  {
   "cell_type": "code",
   "execution_count": 24,
   "metadata": {},
   "outputs": [
    {
     "data": {
      "text/plain": [
       "(['K', 'G', 'G', 'X', 'L'],\n",
       " [2.866025403784435,\n",
       "  0.8660254037844385,\n",
       "  4.28023896615753,\n",
       "  1.8660254037844377,\n",
       "  0.0])"
      ]
     },
     "execution_count": 24,
     "metadata": {},
     "output_type": "execute_result"
    }
   ],
   "source": [
    "hs_positions = bands.get_high_sym_positions()\n",
    "hs_positions"
   ]
  },
  {
   "cell_type": "code",
   "execution_count": 39,
   "metadata": {},
   "outputs": [
    {
     "data": {
      "text/plain": [
       "0.8660254037844385"
      ]
     },
     "execution_count": 39,
     "metadata": {},
     "output_type": "execute_result"
    }
   ],
   "source": [
    "kspan = 0.05 #in unit of 2pi/alat\n",
    "k0 = hs_positions[1][1]\n",
    "k0"
   ]
  },
  {
   "cell_type": "code",
   "execution_count": 56,
   "metadata": {},
   "outputs": [
    {
     "data": {
      "text/plain": [
       "(0.0, 1.864)"
      ]
     },
     "execution_count": 56,
     "metadata": {},
     "output_type": "execute_result"
    },
    {
     "data": {
      "image/png": "[encoded data removed]",
      "text/plain": [
       "<Figure size 432x288 with 1 Axes>"
      ]
     },
     "metadata": {
      "needs_background": "light"
     },
     "output_type": "display_data"
    }
   ],
   "source": [
    "bands.plot(plt,selection=[i for i in range(0,9)])\n",
    "ax = plt.axes()\n",
    "ax.axvspan(k0-kspan/2, k0+kspan/2, alpha=0.5, color='gray')\n",
    "plt.ylim(-3,3.2)\n",
    "plt.ylabel('bands structure (eV)',size=14)\n",
    "plt.hlines(0.,0.,2,linestyles='--')\n",
    "plt.xlim(0.,1.864)"
   ]
  },
  {
   "cell_type": "markdown",
   "metadata": {},
   "source": [
    "### Bands structure on $\\Gamma-K$ path in the Kpump region"
   ]
  },
  {
   "cell_type": "markdown",
   "metadata": {},
   "source": [
    "We compute the band structure close to $\\Gamma$ on the $\\Gamma-K$ path\n",
    "to show the spin splitting of conduction bands"
   ]
  },
  {
   "cell_type": "code",
   "execution_count": 5,
   "metadata": {},
   "outputs": [],
   "source": [
    "run_dir = 'QE_bands'"
   ]
  },
  {
   "cell_type": "code",
   "execution_count": 7,
   "metadata": {},
   "outputs": [
    {
     "data": {
      "text/plain": [
       "[[0.0, -0.025, -0.025, 30], [0.0, 0.0, 0.0, 30], [0.0, 0.025, 0.025, 0]]"
      ]
     },
     "execution_count": 7,
     "metadata": {},
     "output_type": "execute_result"
    }
   ],
   "source": [
    "hsp = U.high_sym_fcc\n",
    "kmax = 0.025\n",
    "klist = U.build_kpath([0.,-kmax,-kmax],hsp['G'],[0.,kmax,kmax],numstep=30)\n",
    "klist"
   ]
  },
  {
   "cell_type": "code",
   "execution_count": 8,
   "metadata": {},
   "outputs": [
    {
     "data": {
      "text/plain": [
       "{'control': {'calculation': \"'bands'\",\n",
       "  'verbosity': \"'high'\",\n",
       "  'pseudo_dir': \"'../pseudos'\",\n",
       "  'prefix': \"'bands_K-G-K'\"},\n",
       " 'system': {'nbnd': 16,\n",
       "  'force_symmorphic': '.true.',\n",
       "  'ibrav': 2,\n",
       "  'celldm(1)': 10.475,\n",
       "  'occupations': \"'fixed'\",\n",
       "  'ntyp': '2',\n",
       "  'nat': '2',\n",
       "  'lspinorb': '.true.',\n",
       "  'noncolin': '.true.',\n",
       "  'ecutwfc': 80},\n",
       " 'electrons': {'conv_thr': 1e-06, 'diago_full_acc': '.false.'},\n",
       " 'ions': {},\n",
       " 'cell': {},\n",
       " 'atomic_species': {'Ga': ['1.0', 'Ga_rel.pz-rrkj3.UPF'],\n",
       "  'As': ['1.0', 'As_rel.pz-rrkj3.UPF']},\n",
       " 'atomic_positions': {'type': 'alat',\n",
       "  'values': [['Ga', [0.0, 0.0, 0.0]], ['As', [0.25, 0.25, 0.25]]]},\n",
       " 'kpoints': {'type': 'tpiba_b',\n",
       "  'values': [[0.0, -0.025, -0.025, 30],\n",
       "   [0.0, 0.0, 0.0, 30],\n",
       "   [0.0, 0.025, 0.025, 0]]},\n",
       " 'cell_parameters': {}}"
      ]
     },
     "execution_count": 8,
     "metadata": {},
     "output_type": "execute_result"
    }
   ],
   "source": [
    "pref = 'bands_K-G-K' \n",
    "\n",
    "inp = I.PwInput()\n",
    "inp.set_bands(16,force_symmorphic=True,conv_thr=1e-6)\n",
    "inp.set_pseudo_dir(pseudo_dir='../pseudos')\n",
    "inp.set_lattice(2,celldm1=lat_eq)\n",
    "inp.set_occupations(occupations='fixed')\n",
    "inp.add_atom('Ga','Ga_rel.pz-rrkj3.UPF')\n",
    "inp.add_atom('As','As_rel.pz-rrkj3.UPF')\n",
    "inp.set_atoms_number(2)\n",
    "inp.set_spinorbit()\n",
    "inp.set_atomic_positions([['Ga',[0.,0.,0.]],['As',[0.25,0.25,0.25]]],type='alat')\n",
    "inp.set_energy_cutoff(ecut_conv)\n",
    "inp.set_kpoints(type='tpiba_b',klist=klist)\n",
    "inp.set_prefix(pref)\n",
    "inp"
   ]
  },
  {
   "cell_type": "code",
   "execution_count": 9,
   "metadata": {},
   "outputs": [
    {
     "name": "stdout",
     "output_type": "stream",
     "text": [
      "Initialize a serial QuantumESPRESSO calculator with scheduler direct\n"
     ]
    }
   ],
   "source": [
    "code = C.QeCalculator(omp=omp,mpi_run=mpi_run,skip=True,multiTask=False)"
   ]
  },
  {
   "cell_type": "code",
   "execution_count": 10,
   "metadata": {},
   "outputs": [
    {
     "name": "stdout",
     "output_type": "stream",
     "text": [
      "Copy source_dir GS_convergence/gs_converged.save in the QE_bands/bands_K-G-K.save\n",
      "Executing command: cd QE_bands; mpirun -np 8 pw.x -inp bands_K-G-K.in > bands_K-G-K.log\n",
      "run0_is_running:True  \n",
      "run0_is_running:True  \n",
      "run0_is_running:True  \n",
      "run0_is_running:True  \n",
      "run0_is_running:True  \n",
      "run0_is_running:True  \n",
      "run0_is_running:True  \n",
      "Job completed\n"
     ]
    }
   ],
   "source": [
    "result = code.run(run_dir=run_dir,inputs=[inp],names=[pref],source_dir='GS_convergence/gs_converged.save')"
   ]
  },
  {
   "cell_type": "code",
   "execution_count": 11,
   "metadata": {},
   "outputs": [
    {
     "name": "stdout",
     "output_type": "stream",
     "text": [
      "Apply a scissor of 0.5446695036141547 eV\n"
     ]
    }
   ],
   "source": [
    "bands = U.BandStructure.from_Pw(result['output'][0],hsp,set_gap=1.42)"
   ]
  },
  {
   "cell_type": "code",
   "execution_count": 13,
   "metadata": {},
   "outputs": [
    {
     "data": {
      "text/plain": [
       "Text(0,0.5,'bands structure (eV)')"
      ]
     },
     "execution_count": 13,
     "metadata": {},
     "output_type": "execute_result"
    },
    {
     "data": {
      "image/png": "[encoded data removed]",
      "text/plain": [
       "<Figure size 432x288 with 1 Axes>"
      ]
     },
     "metadata": {},
     "output_type": "display_data"
    }
   ],
   "source": [
    "bands.plot(plt,selection=[8,9])\n",
    "plt.ylim(1.4,1.55)\n",
    "plt.ylabel('bands structure (eV)',size=14)"
   ]
  },
  {
   "cell_type": "code",
   "execution_count": 24,
   "metadata": {},
   "outputs": [
    {
     "data": {
      "text/plain": [
       "(['G'], [0.035355339059327376])"
      ]
     },
     "execution_count": 24,
     "metadata": {},
     "output_type": "execute_result"
    }
   ],
   "source": [
    "hp = bands.get_high_sym_positions()\n",
    "hp"
   ]
  },
  {
   "cell_type": "code",
   "execution_count": 30,
   "metadata": {},
   "outputs": [
    {
     "data": {
      "text/plain": [
       "<matplotlib.legend.Legend at 0x7f1be84b1e48>"
      ]
     },
     "execution_count": 30,
     "metadata": {},
     "output_type": "execute_result"
    },
    {
     "data": {
      "image/png": "[encoded data removed]",
      "text/plain": [
       "<Figure size 432x288 with 1 Axes>"
      ]
     },
     "metadata": {},
     "output_type": "display_data"
    }
   ],
   "source": [
    "path = bands.get_path()\n",
    "b = bands.get_bands()\n",
    "plt.plot(path,b[8]-min(b[8]),label='b8')\n",
    "plt.plot(path,b[9]*(1+abs(path-hp[1][0]))-min(b[9]),label='b9_scaled',linestyle='--',linewidth=2)\n",
    "plt.ylim(0,0.2)\n",
    "plt.legend()"
   ]
  },
  {
   "cell_type": "markdown",
   "metadata": {},
   "source": [
    "## NSCF computation on various grids"
   ]
  },
  {
   "cell_type": "markdown",
   "metadata": {},
   "source": [
    "We perform nscf computations on grids of various dimensions and type. These computations will be the starting points for various\n",
    "RT analysis, to the effects of the kpoints sampling in the real-time reponse of the systems. \n",
    "\n",
    "All the computations share the same scf input. The common parameters are"
   ]
  },
  {
   "cell_type": "code",
   "execution_count": 20,
   "metadata": {},
   "outputs": [],
   "source": [
    "run_dir = 'NSCF'"
   ]
  },
  {
   "cell_type": "code",
   "execution_count": 21,
   "metadata": {},
   "outputs": [],
   "source": [
    "ecut_conv = 80\n",
    "k_conv = 6\n",
    "lat_eq = 10.475\n",
    "source_dir = 'GS_convergence/gs_converged.save'\n",
    "num_bands = 16"
   ]
  },
  {
   "cell_type": "code",
   "execution_count": 22,
   "metadata": {},
   "outputs": [
    {
     "name": "stdout",
     "output_type": "stream",
     "text": [
      "Initialize a serial QuantumESPRESSO calculator with scheduler direct\n"
     ]
    }
   ],
   "source": [
    "code = C.QeCalculator(omp=omp,mpi_run=mpi_run,skip=True,multiTask=False)"
   ]
  },
  {
   "cell_type": "markdown",
   "metadata": {},
   "source": [
    "The basic input file is given by"
   ]
  },
  {
   "cell_type": "code",
   "execution_count": 23,
   "metadata": {},
   "outputs": [],
   "source": [
    "inp = I.PwInput()\n",
    "inp.set_nscf(num_bands,force_symmorphic=True,conv_thr=1e-6)\n",
    "inp.set_pseudo_dir(pseudo_dir='../pseudos')\n",
    "inp.set_lattice(2,celldm1=lat_eq)\n",
    "inp.set_occupations(occupations='fixed')\n",
    "inp.add_atom('Ga','Ga_rel.pz-rrkj3.UPF')\n",
    "inp.add_atom('As','As_rel.pz-rrkj3.UPF')\n",
    "inp.set_atoms_number(2)\n",
    "inp.set_spinorbit()\n",
    "inp.set_atomic_positions([['Ga',[0.,0.,0.]],['As',[0.25,0.25,0.25]]],type='alat')\n",
    "inp.set_energy_cutoff(ecut_conv)\n",
    "#inp"
   ]
  },
  {
   "cell_type": "markdown",
   "metadata": {},
   "source": [
    "### Regular grid"
   ]
  },
  {
   "cell_type": "code",
   "execution_count": 52,
   "metadata": {},
   "outputs": [],
   "source": [
    "kpoints = 8"
   ]
  },
  {
   "cell_type": "code",
   "execution_count": 53,
   "metadata": {},
   "outputs": [],
   "source": [
    "idd = {'bnds' : num_bands, 'kpoints' : kpoints}\n",
    "pref = D.name_from_id(idd)\n",
    "inp.set_kpoints(type='automatic',points=[kpoints,kpoints,kpoints])\n",
    "inp.set_prefix(pref)\n",
    "#inp"
   ]
  },
  {
   "cell_type": "code",
   "execution_count": 54,
   "metadata": {},
   "outputs": [
    {
     "name": "stdout",
     "output_type": "stream",
     "text": [
      "Create the sub-directory 'NSCF'\n",
      "Copy source_dir GS_convergence/gs_converged.save in the NSCF/bnds_16-kpoints_8.save\n",
      "Executing command: cd NSCF; mpirun -np 16 pw.x -inp bnds_16-kpoints_8.in > bnds_16-kpoints_8.log\n",
      "run0_is_running:True  \n",
      "run0_is_running:True  \n",
      "Job completed\n"
     ]
    },
    {
     "data": {
      "text/plain": [
       "{'output': ['NSCF/bnds_16-kpoints_8.save/data-file-schema.xml']}"
      ]
     },
     "execution_count": 54,
     "metadata": {},
     "output_type": "execute_result"
    }
   ],
   "source": [
    "result_reg = code.run(run_dir=run_dir,inputs=[inp],names=[pref],source_dir=source_dir)\n",
    "result_reg"
   ]
  },
  {
   "cell_type": "markdown",
   "metadata": {},
   "source": [
    "### Gamma"
   ]
  },
  {
   "cell_type": "code",
   "execution_count": 8,
   "metadata": {},
   "outputs": [],
   "source": [
    "klist = [[0.0,0.0,0.0,1.0]]"
   ]
  },
  {
   "cell_type": "code",
   "execution_count": 9,
   "metadata": {},
   "outputs": [],
   "source": [
    "idd = {'bnds' : num_bands, 'sampling' : 'gamma'} \n",
    "pref = D.name_from_id(idd)\n",
    "inp.set_kpoints(type='tpiba',klist=klist)\n",
    "inp.set_prefix(pref)\n",
    "#inp"
   ]
  },
  {
   "cell_type": "code",
   "execution_count": 10,
   "metadata": {},
   "outputs": [
    {
     "name": "stdout",
     "output_type": "stream",
     "text": [
      "The folder NSCF/bnds_16-sampling_gamma.save already exsists. Source folder GS_convergence/gs_converged.save not copied\n",
      "Skip the computation for input bnds_16-sampling_gamma\n",
      "Job completed\n"
     ]
    },
    {
     "data": {
      "text/plain": [
       "{'output': ['NSCF/bnds_16-sampling_gamma.save/data-file-schema.xml']}"
      ]
     },
     "execution_count": 10,
     "metadata": {},
     "output_type": "execute_result"
    }
   ],
   "source": [
    "result_gamma = code.run(run_dir=run_dir,inputs=[inp],names=[pref],source_dir=source_dir)\n",
    "result_gamma"
   ]
  },
  {
   "cell_type": "code",
   "execution_count": 12,
   "metadata": {},
   "outputs": [
    {
     "name": "stdout",
     "output_type": "stream",
     "text": [
      "Parse file : NSCF/bnds_16-sampling_gamma.save/data-file-schema.xml\n"
     ]
    }
   ],
   "source": [
    "data = P.PwParser(result_gamma['output'][0])"
   ]
  },
  {
   "cell_type": "code",
   "execution_count": 13,
   "metadata": {},
   "outputs": [
    {
     "name": "stdout",
     "output_type": "stream",
     "text": [
      "Apply a scissor of 0.5456147497318283 eV\n"
     ]
    },
    {
     "data": {
      "text/plain": [
       "array([[-1.32283922e+01, -1.32283922e+01, -3.66966998e-01,\n",
       "        -3.66966996e-01, -5.68963898e-09, -4.91860508e-09,\n",
       "        -4.09544487e-09,  0.00000000e+00,  1.42000000e+00,\n",
       "         1.42000003e+00,  4.13945516e+00,  4.13945520e+00,\n",
       "         4.34833314e+00,  4.34833315e+00,  4.34833315e+00,\n",
       "         4.34833318e+00]])"
      ]
     },
     "execution_count": 13,
     "metadata": {},
     "output_type": "execute_result"
    }
   ],
   "source": [
    "data.get_evals(set_gap=1.42)"
   ]
  },
  {
   "cell_type": "markdown",
   "metadata": {},
   "source": [
    "The energy gap due to the light and heavy holes wrt the conduction bands is at 1.42 ev.\n",
    "Instead the contribution of the split-off bands is at"
   ]
  },
  {
   "cell_type": "code",
   "execution_count": 15,
   "metadata": {},
   "outputs": [
    {
     "data": {
      "text/plain": [
       "1.787"
      ]
     },
     "execution_count": 15,
     "metadata": {},
     "output_type": "execute_result"
    }
   ],
   "source": [
    "1.42+3.67e-1"
   ]
  },
  {
   "cell_type": "markdown",
   "metadata": {},
   "source": [
    "### Single kpoint close to $\\Gamma$"
   ]
  },
  {
   "cell_type": "markdown",
   "metadata": {},
   "source": [
    "We consider one kpoint close to $\\Gamma$ but outside the high symmetry directions of the lattice"
   ]
  },
  {
   "cell_type": "code",
   "execution_count": 35,
   "metadata": {},
   "outputs": [],
   "source": [
    "#klist = [[0.1,0.03,0.0,1.0]]\n",
    "klist = [[-0.0247738, 0.00762269, 0.02365302,1.0]] # correspond to the max cc' oscillation in Kpump region"
   ]
  },
  {
   "cell_type": "code",
   "execution_count": 36,
   "metadata": {},
   "outputs": [
    {
     "name": "stdout",
     "output_type": "stream",
     "text": [
      "bnds_16-sampling_1k-maxfreq\n"
     ]
    },
    {
     "data": {
      "text/plain": [
       "{'control': {'calculation': \"'nscf'\",\n",
       "  'verbosity': \"'high'\",\n",
       "  'pseudo_dir': \"'../pseudos'\",\n",
       "  'prefix': \"'bnds_16-sampling_1k-maxfreq'\"},\n",
       " 'system': {'nbnd': 16,\n",
       "  'force_symmorphic': '.true.',\n",
       "  'ibrav': 2,\n",
       "  'celldm(1)': 10.475,\n",
       "  'occupations': \"'fixed'\",\n",
       "  'ntyp': '2',\n",
       "  'nat': '2',\n",
       "  'lspinorb': '.true.',\n",
       "  'noncolin': '.true.',\n",
       "  'ecutwfc': 80},\n",
       " 'electrons': {'conv_thr': 1e-06, 'diago_full_acc': '.false.'},\n",
       " 'ions': {},\n",
       " 'cell': {},\n",
       " 'atomic_species': {'Ga': ['1.0', 'Ga_rel.pz-rrkj3.UPF'],\n",
       "  'As': ['1.0', 'As_rel.pz-rrkj3.UPF']},\n",
       " 'atomic_positions': {'type': 'alat',\n",
       "  'values': [['Ga', [0.0, 0.0, 0.0]], ['As', [0.25, 0.25, 0.25]]]},\n",
       " 'kpoints': {'type': 'tpiba',\n",
       "  'values': [[-0.0247738, 0.00762269, 0.02365302, 1.0]]},\n",
       " 'cell_parameters': {}}"
      ]
     },
     "execution_count": 36,
     "metadata": {},
     "output_type": "execute_result"
    }
   ],
   "source": [
    "idd = {'bnds' : num_bands, 'sampling' : '1k-maxfreq'}   # '1k-nosym' \n",
    "pref = D.name_from_id(idd)\n",
    "inp.set_kpoints(type='tpiba',klist=klist)\n",
    "inp.set_prefix(pref)\n",
    "print(pref)\n",
    "inp"
   ]
  },
  {
   "cell_type": "code",
   "execution_count": 37,
   "metadata": {},
   "outputs": [
    {
     "name": "stdout",
     "output_type": "stream",
     "text": [
      "The folder NSCF/bnds_16-sampling_1k-maxfreq.save already exsists. Source folder GS_convergence/gs_converged.save not copied\n",
      "Skip the computation for input bnds_16-sampling_1k-maxfreq\n",
      "Job completed\n"
     ]
    },
    {
     "data": {
      "text/plain": [
       "{'output': ['NSCF/bnds_16-sampling_1k-maxfreq.save/data-file-schema.xml']}"
      ]
     },
     "execution_count": 37,
     "metadata": {},
     "output_type": "execute_result"
    }
   ],
   "source": [
    "result_1knosym = code.run(run_dir=run_dir,inputs=[inp],names=[pref],source_dir=source_dir)\n",
    "result_1knosym"
   ]
  },
  {
   "cell_type": "code",
   "execution_count": 38,
   "metadata": {},
   "outputs": [
    {
     "name": "stdout",
     "output_type": "stream",
     "text": [
      "Parse file : NSCF/bnds_16-sampling_1k-maxfreq.save/data-file-schema.xml\n"
     ]
    }
   ],
   "source": [
    "data = P.PwParser(result_1knosym['output'][0])"
   ]
  },
  {
   "cell_type": "code",
   "execution_count": 39,
   "metadata": {},
   "outputs": [
    {
     "data": {
      "text/plain": [
       "array([[-1.32139873e+01, -1.32139870e+01, -4.03872533e-01,\n",
       "        -4.02231459e-01, -7.72276127e-02, -7.46322218e-02,\n",
       "        -1.78800007e-04,  0.00000000e+00,  9.86449750e-01,\n",
       "         9.87397860e-01,  3.61518177e+00,  3.61605092e+00,\n",
       "         3.81520705e+00,  3.81541055e+00,  3.82956710e+00,\n",
       "         3.83007812e+00]])"
      ]
     },
     "execution_count": 39,
     "metadata": {},
     "output_type": "execute_result"
    }
   ],
   "source": [
    "eigen = data.get_evals() # we cannot set_gap here because we do not know the gap value at this k point\n",
    "eigen"
   ]
  },
  {
   "cell_type": "markdown",
   "metadata": {},
   "source": [
    "There is energy difference in the spin up and spin down conduction bands"
   ]
  },
  {
   "cell_type": "code",
   "execution_count": 40,
   "metadata": {},
   "outputs": [
    {
     "data": {
      "text/plain": [
       "0.9481101093067323"
      ]
     },
     "execution_count": 40,
     "metadata": {},
     "output_type": "execute_result"
    }
   ],
   "source": [
    "1e3*(eigen[0][9]-eigen[0][8])"
   ]
  },
  {
   "cell_type": "markdown",
   "metadata": {},
   "source": [
    "The gaps associated to this kpoint are"
   ]
  },
  {
   "cell_type": "code",
   "execution_count": 41,
   "metadata": {},
   "outputs": [
    {
     "data": {
      "text/plain": [
       "1.5326132052789099"
      ]
     },
     "execution_count": 41,
     "metadata": {},
     "output_type": "execute_result"
    }
   ],
   "source": [
    "scissor = 0.5456 # we need to add the scissor at gamma\n",
    "g1 = eigen[0][8]+scissor-eigen[0][7]\n",
    "g2 = eigen[0][9]+scissor-eigen[0][7]\n",
    "g3 = eigen[0][8]+scissor-eigen[0][6]\n",
    "g4 = eigen[0][9]+scissor-eigen[0][6]\n",
    "gmean = (g1+g2+g3+g4)/4\n",
    "gmean"
   ]
  },
  {
   "cell_type": "markdown",
   "metadata": {},
   "source": [
    "### Random grid close to Gamma"
   ]
  },
  {
   "cell_type": "code",
   "execution_count": 9,
   "metadata": {},
   "outputs": [],
   "source": [
    "import random as rand\n",
    "num_kpoints =  100 #50\n",
    "k_span = 0.05\n",
    "weight = [1.]"
   ]
  },
  {
   "cell_type": "code",
   "execution_count": 10,
   "metadata": {},
   "outputs": [],
   "source": [
    "klist = []\n",
    "klist.append([0.,0.,0.]+weight) #we include Gamma\n",
    "for n in range(num_kpoints-1):\n",
    "    k_rand = [k_span*(rand.random()-0.5) for ind in range(3)] + weight\n",
    "    klist.append(k_rand)"
   ]
  },
  {
   "cell_type": "code",
   "execution_count": 11,
   "metadata": {},
   "outputs": [
    {
     "data": {
      "image/png": "[encoded data removed]",
      "text/plain": [
       "<Figure size 432x288 with 1 Axes>"
      ]
     },
     "metadata": {},
     "output_type": "display_data"
    }
   ],
   "source": [
    "for ind,k in enumerate(klist):\n",
    "    plt.scatter(ind,k[0])"
   ]
  },
  {
   "cell_type": "code",
   "execution_count": 12,
   "metadata": {},
   "outputs": [],
   "source": [
    "idd = {'bnds' : num_bands, 'kpoints' : num_kpoints, 'sampling' : 'random_close_Gamma'}  \n",
    "pref = D.name_from_id(idd)\n",
    "inp.set_kpoints(type='tpiba',klist=klist)\n",
    "inp.set_prefix(pref)\n",
    "#inp"
   ]
  },
  {
   "cell_type": "code",
   "execution_count": 13,
   "metadata": {},
   "outputs": [
    {
     "name": "stdout",
     "output_type": "stream",
     "text": [
      "The folder NSCF/bnds_16-kpoints_100-sampling_random_close_Gamma.save already exsists. Source folder GS_convergence/gs_converged.save not copied\n",
      "Skip the computation for input bnds_16-kpoints_100-sampling_random_close_Gamma\n",
      "Job completed\n"
     ]
    },
    {
     "data": {
      "text/plain": [
       "{'output': ['NSCF/bnds_16-kpoints_100-sampling_random_close_Gamma.save/data-file-schema.xml']}"
      ]
     },
     "execution_count": 13,
     "metadata": {},
     "output_type": "execute_result"
    }
   ],
   "source": [
    "result_random = code.run(run_dir=run_dir,inputs=[inp],names=[pref],source_dir=source_dir,skip=True)\n",
    "result_random"
   ]
  },
  {
   "cell_type": "markdown",
   "metadata": {},
   "source": [
    "### Random grid up to 2 eV"
   ]
  },
  {
   "cell_type": "code",
   "execution_count": 63,
   "metadata": {},
   "outputs": [],
   "source": [
    "import random as rand\n",
    "num_kpoints =  200 #100\n",
    "k_span = 0.13\n",
    "weight = [1.]"
   ]
  },
  {
   "cell_type": "code",
   "execution_count": 64,
   "metadata": {},
   "outputs": [],
   "source": [
    "klist = []\n",
    "klist.append([0.,0.,0.]+weight) #we include Gamma\n",
    "for n in range(num_kpoints-1):\n",
    "    k_rand = [k_span*(rand.random()-0.5) for ind in range(3)] + weight\n",
    "    klist.append(k_rand)"
   ]
  },
  {
   "cell_type": "code",
   "execution_count": 65,
   "metadata": {},
   "outputs": [
    {
     "data": {
      "image/png": "[encoded data removed]",
      "text/plain": [
       "<Figure size 432x288 with 1 Axes>"
      ]
     },
     "metadata": {
      "needs_background": "light"
     },
     "output_type": "display_data"
    }
   ],
   "source": [
    "for ind,k in enumerate(klist):\n",
    "    plt.scatter(ind,k[0])"
   ]
  },
  {
   "cell_type": "code",
   "execution_count": 66,
   "metadata": {},
   "outputs": [],
   "source": [
    "idd = {'bnds' : num_bands, 'kpoints' : num_kpoints, 'sampling' : 'random'}  \n",
    "pref = D.name_from_id(idd)\n",
    "inp.set_kpoints(type='tpiba',klist=klist)\n",
    "inp.set_prefix(pref)\n",
    "#inp"
   ]
  },
  {
   "cell_type": "code",
   "execution_count": 67,
   "metadata": {},
   "outputs": [
    {
     "name": "stdout",
     "output_type": "stream",
     "text": [
      "Copy source_dir GS_convergence/gs_converged.save in the NSCF/bnds_16-kpoints_200-sampling_random.save\n",
      "Executing command: cd NSCF; mpirun -np 16 pw.x -inp bnds_16-kpoints_200-sampling_random.in > bnds_16-kpoints_200-sampling_random.log\n",
      "run0_is_running:True  \n",
      "run0_is_running:True  \n",
      "run0_is_running:True  \n",
      "run0_is_running:True  \n",
      "run0_is_running:True  \n",
      "Job completed\n"
     ]
    },
    {
     "data": {
      "text/plain": [
       "{'output': ['NSCF/bnds_16-kpoints_200-sampling_random.save/data-file-schema.xml']}"
      ]
     },
     "execution_count": 67,
     "metadata": {},
     "output_type": "execute_result"
    }
   ],
   "source": [
    "result_random = code.run(run_dir=run_dir,inputs=[inp],names=[pref],source_dir=source_dir)\n",
    "result_random"
   ]
  },
  {
   "cell_type": "markdown",
   "metadata": {},
   "source": [
    "## Analysis of the Dos"
   ]
  },
  {
   "cell_type": "markdown",
   "metadata": {},
   "source": [
    "We can compare the Dos associated to the regular grid sampling with the one related to the random samplings."
   ]
  },
  {
   "cell_type": "code",
   "execution_count": 177,
   "metadata": {},
   "outputs": [
    {
     "name": "stdout",
     "output_type": "stream",
     "text": [
      "Apply a scissor of 0.5456147446580722 eV\n"
     ]
    }
   ],
   "source": [
    "dos = U.Dos.from_Pw('NSCF/bnds_16-kpoints_8.save/data-file-schema.xml',set_gap=1.42,eta=0.05,label='reg',minVal=-4,maxVal=4)"
   ]
  },
  {
   "cell_type": "code",
   "execution_count": 178,
   "metadata": {},
   "outputs": [
    {
     "name": "stdout",
     "output_type": "stream",
     "text": [
      "Apply a scissor of 0.5456147507640897 eV\n"
     ]
    }
   ],
   "source": [
    "dos.append_fromPw('NSCF/bnds_16-kpoints_100-sampling_random.save/data-file-schema.xml',label='rand100',set_gap=1.42,eta=0.01,minVal=-4.0,maxVal=4.0)"
   ]
  },
  {
   "cell_type": "code",
   "execution_count": 179,
   "metadata": {},
   "outputs": [
    {
     "name": "stdout",
     "output_type": "stream",
     "text": [
      "Apply a scissor of 0.5456147507648843 eV\n"
     ]
    }
   ],
   "source": [
    "dos.append_fromPw('NSCF/bnds_16-kpoints_200-sampling_random.save/data-file-schema.xml',label='rand200',set_gap=1.42,eta=0.01,minVal=-4.0,maxVal=4.0)"
   ]
  },
  {
   "cell_type": "code",
   "execution_count": 180,
   "metadata": {},
   "outputs": [
    {
     "name": "stdout",
     "output_type": "stream",
     "text": [
      "Apply a scissor of 0.5456147497318283 eV\n"
     ]
    }
   ],
   "source": [
    "dos.append_fromPw('NSCF/bnds_16-kpoints_50-sampling_random_close_Gamma.save/data-file-schema.xml',label='rand50',set_gap=1.42,eta=0.01,minVal=-4.0,maxVal=4.0)"
   ]
  },
  {
   "cell_type": "code",
   "execution_count": 181,
   "metadata": {},
   "outputs": [
    {
     "name": "stdout",
     "output_type": "stream",
     "text": [
      "Apply a scissor of 0.5456147497318283 eV\n"
     ]
    }
   ],
   "source": [
    "dos.append_fromPw('NSCF/bnds_16-kpoints_100-sampling_random_close_Gamma.save/data-file-schema.xml',label='rand100',set_gap=1.42,eta=0.01,minVal=-4.0,maxVal=4.0)"
   ]
  },
  {
   "cell_type": "markdown",
   "metadata": {},
   "source": [
    "We can compare all the dos"
   ]
  },
  {
   "cell_type": "code",
   "execution_count": 182,
   "metadata": {},
   "outputs": [
    {
     "data": {
      "text/plain": [
       "<matplotlib.legend.Legend at 0x7feff20814e0>"
      ]
     },
     "execution_count": 182,
     "metadata": {},
     "output_type": "execute_result"
    },
    {
     "data": {
      "image/png": "[encoded data removed]",
      "text/plain": [
       "<Figure size 432x288 with 1 Axes>"
      ]
     },
     "metadata": {
      "needs_background": "light"
     },
     "output_type": "display_data"
    }
   ],
   "source": [
    "%matplotlib inline\n",
    "dos.plot(plt,rescale=True)\n",
    "plt.legend(loc=(1.05,0))"
   ]
  },
  {
   "cell_type": "markdown",
   "metadata": {},
   "source": [
    "or only the ones associated to random grids"
   ]
  },
  {
   "cell_type": "code",
   "execution_count": 183,
   "metadata": {},
   "outputs": [
    {
     "data": {
      "text/plain": [
       "<matplotlib.legend.Legend at 0x7feff2079ac8>"
      ]
     },
     "execution_count": 183,
     "metadata": {},
     "output_type": "execute_result"
    },
    {
     "data": {
      "image/png": "[encoded data removed]",
      "text/plain": [
       "<Figure size 432x288 with 1 Axes>"
      ]
     },
     "metadata": {
      "needs_background": "light"
     },
     "output_type": "display_data"
    }
   ],
   "source": [
    "%matplotlib inline\n",
    "dos.plot(plt,rescale=False,include=[2,3,4])\n",
    "plt.legend(loc=(1.05,0))"
   ]
  },
  {
   "cell_type": "markdown",
   "metadata": {},
   "source": [
    "## Analysis of the JDos"
   ]
  },
  {
   "cell_type": "markdown",
   "metadata": {},
   "source": [
    "We analyze the JDos. We are interested in studying the JDos for both c->v and c->c' transitions. We check the convergence\n",
    "of the JDos as a test of the kpoints sampling. "
   ]
  },
  {
   "cell_type": "code",
   "execution_count": 25,
   "metadata": {},
   "outputs": [
    {
     "name": "stdout",
     "output_type": "stream",
     "text": [
      "Parse file : NSCF/bnds_16-kpoints_50-sampling_random_close_Gamma.save/data-file-schema.xml\n",
      "Parse file : NSCF/bnds_16-kpoints_100-sampling_random_close_Gamma.save/data-file-schema.xml\n"
     ]
    }
   ],
   "source": [
    "r_50 = P.PwParser('NSCF/bnds_16-kpoints_50-sampling_random_close_Gamma.save/data-file-schema.xml')\n",
    "r_100 = P.PwParser('NSCF/bnds_16-kpoints_100-sampling_random_close_Gamma.save/data-file-schema.xml')\n",
    "#r_200 = P.PwParser('NSCF/bnds_16-kpoints_200-sampling_random.save/data-file-schema.xml')"
   ]
  },
  {
   "cell_type": "code",
   "execution_count": 26,
   "metadata": {},
   "outputs": [],
   "source": [
    "weights_50 = r_50.weights\n",
    "weights_100 = r_100.weights\n",
    "#weights_200 = r_200.weights"
   ]
  },
  {
   "cell_type": "code",
   "execution_count": 27,
   "metadata": {},
   "outputs": [
    {
     "name": "stdout",
     "output_type": "stream",
     "text": [
      "Apply a scissor of 0.5456147497318283 eV\n",
      "Apply a scissor of 0.5456147497318283 eV\n"
     ]
    }
   ],
   "source": [
    "#transitions_50 = r_50.get_transitions(set_gap=1.42,initial=[2,3,4,5,6,7],final=[8,9])\n",
    "#transitions_100 = r_100.get_transitions(set_gap=1.42,initial=[2,3,4,5,6,7],final=[8,9])\n",
    "#transitions_200 = r_200.get_transitions(set_gap=1.42,initial=[2,3,4,5,6,7],final=[8,9])\n",
    "\n",
    "#without the split-off bands\n",
    "transitions_50 = r_50.get_transitions(set_gap=1.42,initial=[4,5,6,7],final=[8,9])\n",
    "transitions_100 = r_100.get_transitions(set_gap=1.42,initial=[4,5,6,7],final=[8,9])\n",
    "#transitions_200 = r_200.get_transitions(set_gap=1.42,initial=[4,5,6,7],final=[8,9])"
   ]
  },
  {
   "cell_type": "code",
   "execution_count": 30,
   "metadata": {},
   "outputs": [],
   "source": [
    "dos = U.Dos()\n",
    "dos.append_fromPwData(transitions_100,weights_100,minVal=0,maxVal=4,eta=0.004,label='$N_k$=100')\n",
    "dos.append_fromPwData(transitions_50,weights_50,minVal=0,maxVal=4,eta=0.004,label='$N_k$=50')\n",
    "#dos.append_fromPwData(transitions_200,weights_200,minVal=0,maxVal=4,eta=0.004,label=200)"
   ]
  },
  {
   "cell_type": "code",
   "execution_count": 31,
   "metadata": {},
   "outputs": [
    {
     "data": {
      "text/plain": [
       "<matplotlib.legend.Legend at 0x7f642ff24240>"
      ]
     },
     "execution_count": 31,
     "metadata": {},
     "output_type": "execute_result"
    },
    {
     "data": {
      "image/png": "[encoded data removed]",
      "text/plain": [
       "<Figure size 432x288 with 1 Axes>"
      ]
     },
     "metadata": {},
     "output_type": "display_data"
    }
   ],
   "source": [
    "dos.plot(plt,include=[0,1])\n",
    "plt.title('JDos cv')\n",
    "plt.xlim(1,3)\n",
    "plt.legend()"
   ]
  },
  {
   "cell_type": "code",
   "execution_count": 32,
   "metadata": {},
   "outputs": [],
   "source": [
    "dos.append(energies=np.array([1.5]),norm=8,eta=0.04,minVal=1,maxVal=3,label='Field spread',broad_kind=U.gaussian)"
   ]
  },
  {
   "cell_type": "code",
   "execution_count": 34,
   "metadata": {},
   "outputs": [
    {
     "data": {
      "text/plain": [
       "<matplotlib.legend.Legend at 0x7f642fd617f0>"
      ]
     },
     "execution_count": 34,
     "metadata": {},
     "output_type": "execute_result"
    },
    {
     "data": {
      "image/png": "[encoded data removed]",
      "text/plain": [
       "<Figure size 432x288 with 1 Axes>"
      ]
     },
     "metadata": {},
     "output_type": "display_data"
    }
   ],
   "source": [
    "dos.plot(plt,include=[0,2])\n",
    "#plt.title('JDos cv')\n",
    "plt.vlines(1.5,-2,100,linestyles='--')\n",
    "plt.yticks([])\n",
    "plt.xlabel('energy (eV)',size=14)\n",
    "plt.xlim(1.2,1.8)\n",
    "plt.ylim(0,90)\n",
    "plt.legend()"
   ]
  },
  {
   "cell_type": "markdown",
   "metadata": {},
   "source": [
    "Analyze the cc' transitions (in meV)"
   ]
  },
  {
   "cell_type": "code",
   "execution_count": 47,
   "metadata": {},
   "outputs": [
    {
     "name": "stdout",
     "output_type": "stream",
     "text": [
      "Apply a scissor of 0.5456147497318283 eV\n",
      "Apply a scissor of 0.5456147497318283 eV\n"
     ]
    }
   ],
   "source": [
    "transitions_50 = 1e3*r_50.get_transitions(set_gap=1.42,initial=[8,9],final=[8,9])\n",
    "transitions_100 = 1e3*r_100.get_transitions(set_gap=1.42,initial=[8,9],final=[8,9])\n",
    "#transitions_200 = 1e3*r_200.get_transitions(set_gap=1.42,initial=[8,9],final=[8,9])"
   ]
  },
  {
   "cell_type": "code",
   "execution_count": 48,
   "metadata": {},
   "outputs": [
    {
     "name": "stdout",
     "output_type": "stream",
     "text": [
      "[0.94913286]\n"
     ]
    },
    {
     "data": {
      "text/plain": [
       "31"
      ]
     },
     "execution_count": 48,
     "metadata": {},
     "output_type": "execute_result"
    }
   ],
   "source": [
    "print(max(transitions_100))\n",
    "np.argmax(transitions_100)"
   ]
  },
  {
   "cell_type": "code",
   "execution_count": 49,
   "metadata": {},
   "outputs": [
    {
     "data": {
      "text/plain": [
       "[-0.0247738, 0.00762269, 0.02365302]"
      ]
     },
     "execution_count": 49,
     "metadata": {},
     "output_type": "execute_result"
    }
   ],
   "source": [
    "r_100.kpoints[31]"
   ]
  },
  {
   "cell_type": "code",
   "execution_count": 36,
   "metadata": {},
   "outputs": [
    {
     "data": {
      "text/plain": [
       "array([0.68067265])"
      ]
     },
     "execution_count": 36,
     "metadata": {},
     "output_type": "execute_result"
    }
   ],
   "source": [
    "max(transitions_50)"
   ]
  },
  {
   "cell_type": "code",
   "execution_count": 191,
   "metadata": {},
   "outputs": [],
   "source": [
    "#transitions_50"
   ]
  },
  {
   "cell_type": "markdown",
   "metadata": {},
   "source": [
    "Plot the JDos"
   ]
  },
  {
   "cell_type": "code",
   "execution_count": 235,
   "metadata": {},
   "outputs": [],
   "source": [
    "dos = U.Dos()\n",
    "dos.append_fromPwData(transitions_50,weights_50,minVal=-5,maxVal=5,eta=0.05,label='$N_k$=50')\n",
    "dos.append_fromPwData(transitions_100,weights_100,minVal=-5,maxVal=5,eta=0.05,label='$N_k$=100')\n",
    "#dos.append_fromPwData(transitions_200,weights_200,minVal=-15,maxVal=25,eta=1,label='$N_k$=200')"
   ]
  },
  {
   "cell_type": "code",
   "execution_count": 236,
   "metadata": {},
   "outputs": [
    {
     "data": {
      "text/plain": [
       "<matplotlib.legend.Legend at 0x7f6a13e95e48>"
      ]
     },
     "execution_count": 236,
     "metadata": {},
     "output_type": "execute_result"
    },
    {
     "data": {
      "image/png": "[encoded data removed]",
      "text/plain": [
       "<Figure size 432x288 with 1 Axes>"
      ]
     },
     "metadata": {
      "needs_background": "light"
     },
     "output_type": "display_data"
    }
   ],
   "source": [
    "%matplotlib inline\n",
    "dos.plot(plt)\n",
    "#plt.title('JDos cc')\n",
    "plt.xlabel('energy (meV)',size=14)\n",
    "plt.xlim(-1,2)\n",
    "plt.yticks([])\n",
    "#plt.vlines(0.3,-0.1,0.4,linestyles='--')\n",
    "#plt.ylim(0,0.35)\n",
    "plt.legend()"
   ]
  },
  {
   "cell_type": "markdown",
   "metadata": {},
   "source": [
    "We compute the weighted average"
   ]
  },
  {
   "cell_type": "code",
   "execution_count": 241,
   "metadata": {},
   "outputs": [
    {
     "name": "stdout",
     "output_type": "stream",
     "text": [
      "0.31772410789623445\n"
     ]
    },
    {
     "data": {
      "text/plain": [
       "13.016537282561725"
      ]
     },
     "execution_count": 241,
     "metadata": {},
     "output_type": "execute_result"
    }
   ],
   "source": [
    "ind = 1\n",
    "eng = dos.dos[ind][0]\n",
    "dd = dos.dos[ind][1]\n",
    "wavg = 0.\n",
    "for e,d in zip(eng,dd):\n",
    "    wavg += e*d\n",
    "wavg = wavg/sum(dd)\n",
    "print(wavg)\n",
    "U.Planck_ev_ps/(1e-3*wavg)"
   ]
  },
  {
   "cell_type": "markdown",
   "metadata": {},
   "source": [
    "100 kpoints has T = 13.0 ps\n",
    "50 kpoints has T = 15.4"
   ]
  },
  {
   "cell_type": "code",
   "execution_count": null,
   "metadata": {},
   "outputs": [],
   "source": [
    "###################################################################################"
   ]
  },
  {
   "cell_type": "markdown",
   "metadata": {},
   "source": [
    "Find the position of the peak of the dos associated to 50 and 100 kpoints (sampling in the k region close to $\\Gamma$)"
   ]
  },
  {
   "cell_type": "code",
   "execution_count": 217,
   "metadata": {},
   "outputs": [
    {
     "data": {
      "text/plain": [
       "0.12999999999989065"
      ]
     },
     "execution_count": 217,
     "metadata": {},
     "output_type": "execute_result"
    }
   ],
   "source": [
    "ind = 1\n",
    "peak = max(dos.dos[ind][1])\n",
    "max_ind = np.where(dos.dos[ind][1] == peak)\n",
    "max_energy = dos.dos[ind][0][max_ind][0]\n",
    "max_energy"
   ]
  },
  {
   "cell_type": "markdown",
   "metadata": {},
   "source": [
    "The value of the maximum energy corresponds to a time period (in ps) of "
   ]
  },
  {
   "cell_type": "code",
   "execution_count": 218,
   "metadata": {},
   "outputs": [
    {
     "data": {
      "text/plain": [
       "31.81282843079599"
      ]
     },
     "execution_count": 218,
     "metadata": {},
     "output_type": "execute_result"
    }
   ],
   "source": [
    "U.Planck_ev_ps/(1e-3*max_energy)"
   ]
  },
  {
   "cell_type": "markdown",
   "metadata": {},
   "source": [
    "100 kpoints has T = 13.34 ps\n",
    "50 kpoints has T = 15.9"
   ]
  },
  {
   "cell_type": "code",
   "execution_count": null,
   "metadata": {},
   "outputs": [],
   "source": []
  },
  {
   "cell_type": "code",
   "execution_count": null,
   "metadata": {},
   "outputs": [],
   "source": []
  }
 ],
 "metadata": {
  "kernelspec": {
   "display_name": "Python 3",
   "language": "python",
   "name": "python3"
  },
  "language_info": {
   "codemirror_mode": {
    "name": "ipython",
    "version": 3
   },
   "file_extension": ".py",
   "mimetype": "text/x-python",
   "name": "python",
   "nbconvert_exporter": "python",
   "pygments_lexer": "ipython3",
   "version": "3.6.9"
  }
 },
 "nbformat": 4,
 "nbformat_minor": 4
}
