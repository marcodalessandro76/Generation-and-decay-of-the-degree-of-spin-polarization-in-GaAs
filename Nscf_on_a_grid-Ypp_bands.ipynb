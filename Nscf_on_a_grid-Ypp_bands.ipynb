{
 "cells": [
  {
   "cell_type": "code",
   "execution_count": 1,
   "metadata": {},
   "outputs": [],
   "source": [
    "import numpy as np\n",
    "import os\n",
    "import matplotlib.pyplot as plt\n",
    "from mppi import InputFiles as I, Calculators as C, Datasets as D"
   ]
  },
  {
   "cell_type": "code",
   "execution_count": 2,
   "metadata": {},
   "outputs": [],
   "source": [
    "omp = 1\n",
    "mpi_run = 'mpirun -np 16'"
   ]
  },
  {
   "cell_type": "markdown",
   "metadata": {},
   "source": [
    "# Nscf on a grid - Ypp bands"
   ]
  },
  {
   "cell_type": "markdown",
   "metadata": {},
   "source": [
    "In this nb we perform (several) nscf computation on a regular grid and reproduce the ks bands using ypp. In this way we can perform a check on the dimension of the k grid that will be used in the subsequent yambo real time computations. \n",
    "\n",
    "This framework allows us also to use yambo scissor to open the ks band-gap.\n",
    "\n",
    "We also include the presence of a shift in the k-points sampling. We will then compare the ip absorption spectrum obtained with the various sampling the understand which sampling is needed to obtain reliable results in the RT analysis"
   ]
  },
  {
   "cell_type": "markdown",
   "metadata": {},
   "source": [
    "## Nscf on a regular grid"
   ]
  },
  {
   "cell_type": "markdown",
   "metadata": {},
   "source": [
    "We define the basic elements of the input"
   ]
  },
  {
   "cell_type": "code",
   "execution_count": 3,
   "metadata": {},
   "outputs": [],
   "source": [
    "input = I.PwIn()\n",
    "Ga = [0.,0.,0.]\n",
    "As = [0.25,0.25,0.25]\n",
    "\n",
    "input.set_pseudo_dir('../pseudos')\n",
    "input.set_calculation('nscf')\n",
    "\n",
    "input.set_occupations('fixed')\n",
    "input.system['ibrav'] = 2\n",
    "input.system['celldm(1)'] = 10.677\n",
    "input.system['noncolin'] = '.true'\n",
    "input.system['lspinorb'] = '.true'\n",
    "input.set_atoms_type(2)\n",
    "input.set_atoms_number(2)\n",
    "input.set_atoms_position(pos_type='crystal',pos_list=[['Ga',Ga],['As',As]])\n",
    "input.atypes = {'Ga': [69.72,'Ga_rel.pz-rrkj3.UPF'],\\\n",
    "                'As': [74.92,'As_rel.pz-rrkj3.UPF']}\n",
    "input.set_convergence_thr(1e-8)"
   ]
  },
  {
   "cell_type": "markdown",
   "metadata": {},
   "source": [
    "On this basis of the gs_convergence analysis previously performed we choose the scf converged parameters:"
   ]
  },
  {
   "cell_type": "code",
   "execution_count": 4,
   "metadata": {},
   "outputs": [],
   "source": [
    "k_conv = 6\n",
    "ecut_conv = 80"
   ]
  },
  {
   "cell_type": "markdown",
   "metadata": {},
   "source": [
    "and we perform the nscf computations using a number of bands given by:"
   ]
  },
  {
   "cell_type": "code",
   "execution_count": 5,
   "metadata": {},
   "outputs": [],
   "source": [
    "numBands = 40"
   ]
  },
  {
   "cell_type": "code",
   "execution_count": 6,
   "metadata": {},
   "outputs": [
    {
     "name": "stdout",
     "output_type": "stream",
     "text": [
      "Initialize a qe calculator with command OMP_NUM_THREADS=1 mpirun -np 16 pw.x\n"
     ]
    }
   ],
   "source": [
    "code = C.QeCalculator(omp=omp,mpi_run=mpi_run,executable='pw.x',verbose=True,skip=True)"
   ]
  },
  {
   "cell_type": "markdown",
   "metadata": {},
   "source": [
    "We perform nscf computation on grids of various dimensions. The simulations are organized in a dataset"
   ]
  },
  {
   "cell_type": "code",
   "execution_count": 7,
   "metadata": {},
   "outputs": [],
   "source": [
    "nscf_kvalues = [4,6,8,10,12,20]"
   ]
  },
  {
   "cell_type": "code",
   "execution_count": 8,
   "metadata": {},
   "outputs": [],
   "source": [
    "bnds_study = D.Dataset(label='nscf',run_dir='nscf',pre_processing='nscf')"
   ]
  },
  {
   "cell_type": "code",
   "execution_count": 9,
   "metadata": {},
   "outputs": [],
   "source": [
    "input.system['nbnd'] = numBands\n",
    "for k  in nscf_kvalues:\n",
    "    idd = {'bnds' : numBands, 'kpoints' : k} \n",
    "    input.set_prefix(D.name_from_id(idd))\n",
    "    input.set_energy_cutoff(ecut_conv)\n",
    "    input.set_kpoints(ktype='automatic',kpoints=[k,k,k])\n",
    "    bnds_study.append_run(id=idd,calculator=code,input=input)"
   ]
  },
  {
   "cell_type": "markdown",
   "metadata": {},
   "source": [
    "Apply the pre-processing"
   ]
  },
  {
   "cell_type": "code",
   "execution_count": 10,
   "metadata": {},
   "outputs": [],
   "source": [
    "source = 'gs_convergence/ecut_%s-k_%s.save'%(ecut_conv,k_conv)"
   ]
  },
  {
   "cell_type": "code",
   "execution_count": 11,
   "metadata": {
    "scrolled": true
   },
   "outputs": [
    {
     "name": "stdout",
     "output_type": "stream",
     "text": [
      "Folder nscf already exists\n",
      "nscf .save folder exsists. gs_convergence/ecut_80-k_6.save not copied\n",
      "nscf .save folder exsists. gs_convergence/ecut_80-k_6.save not copied\n",
      "nscf .save folder exsists. gs_convergence/ecut_80-k_6.save not copied\n",
      "nscf .save folder exsists. gs_convergence/ecut_80-k_6.save not copied\n",
      "nscf .save folder exsists. gs_convergence/ecut_80-k_6.save not copied\n",
      "execute :  cp -r gs_convergence/ecut_80-k_6.save nscf/bnds_40-kpoints_20.save\n"
     ]
    }
   ],
   "source": [
    "bnds_study.pre_processing_function(source_dir=source)"
   ]
  },
  {
   "cell_type": "code",
   "execution_count": 12,
   "metadata": {},
   "outputs": [
    {
     "name": "stdout",
     "output_type": "stream",
     "text": [
      "skip the computation for : bnds_40-kpoints_4.in\n",
      "parse file : nscf/bnds_40-kpoints_4.save/data-file-schema.xml\n",
      "skip the computation for : bnds_40-kpoints_6.in\n",
      "parse file : nscf/bnds_40-kpoints_6.save/data-file-schema.xml\n",
      "skip the computation for : bnds_40-kpoints_8.in\n",
      "parse file : nscf/bnds_40-kpoints_8.save/data-file-schema.xml\n",
      "skip the computation for : bnds_40-kpoints_10.in\n",
      "parse file : nscf/bnds_40-kpoints_10.save/data-file-schema.xml\n",
      "skip the computation for : bnds_40-kpoints_12.in\n",
      "parse file : nscf/bnds_40-kpoints_12.save/data-file-schema.xml\n",
      "execute : cd nscf ; OMP_NUM_THREADS=1 mpirun -np 16 pw.x -inp bnds_40-kpoints_20.in > bnds_40-kpoints_20.log\n",
      "parse file : nscf/bnds_40-kpoints_20.save/data-file-schema.xml\n"
     ]
    }
   ],
   "source": [
    "bnds_study.run()"
   ]
  },
  {
   "cell_type": "markdown",
   "metadata": {},
   "source": [
    "We also perform some computations with shifted grids"
   ]
  },
  {
   "cell_type": "code",
   "execution_count": 13,
   "metadata": {},
   "outputs": [],
   "source": [
    "numBands = 40\n",
    "nscf_kvalues = [8,10,12]\n",
    "s = [1,1,1]"
   ]
  },
  {
   "cell_type": "code",
   "execution_count": 14,
   "metadata": {},
   "outputs": [],
   "source": [
    "shift = D.Dataset(label='nscf',run_dir='nscf',pre_processing='nscf')"
   ]
  },
  {
   "cell_type": "code",
   "execution_count": 15,
   "metadata": {},
   "outputs": [],
   "source": [
    "input.system['nbnd'] = numBands\n",
    "for k  in nscf_kvalues:\n",
    "    idd = {'bnds' : numBands, 'kpoints' : k, 'shift' : 1} \n",
    "    input.set_prefix(D.name_from_id(idd))\n",
    "    input.set_energy_cutoff(ecut_conv)\n",
    "    input.set_kpoints(ktype='automatic',kpoints=[k,k,k],shiftk=s)\n",
    "    shift.append_run(id=idd,calculator=code,input=input)"
   ]
  },
  {
   "cell_type": "code",
   "execution_count": 16,
   "metadata": {},
   "outputs": [
    {
     "name": "stdout",
     "output_type": "stream",
     "text": [
      "Folder nscf already exists\n",
      "nscf .save folder exsists. gs_convergence/ecut_80-k_6.save not copied\n",
      "nscf .save folder exsists. gs_convergence/ecut_80-k_6.save not copied\n",
      "nscf .save folder exsists. gs_convergence/ecut_80-k_6.save not copied\n"
     ]
    }
   ],
   "source": [
    "source = 'gs_convergence/ecut_%s-k_%s.save'%(ecut_conv,k_conv)\n",
    "shift.pre_processing_function(source_dir=source)"
   ]
  },
  {
   "cell_type": "code",
   "execution_count": 17,
   "metadata": {},
   "outputs": [
    {
     "name": "stdout",
     "output_type": "stream",
     "text": [
      "skip the computation for : bnds_40-kpoints_8-shift_1.in\n",
      "parse file : nscf/bnds_40-kpoints_8-shift_1.save/data-file-schema.xml\n",
      "skip the computation for : bnds_40-kpoints_10-shift_1.in\n",
      "parse file : nscf/bnds_40-kpoints_10-shift_1.save/data-file-schema.xml\n",
      "skip the computation for : bnds_40-kpoints_12-shift_1.in\n",
      "parse file : nscf/bnds_40-kpoints_12-shift_1.save/data-file-schema.xml\n"
     ]
    }
   ],
   "source": [
    "shift.run()"
   ]
  },
  {
   "cell_type": "markdown",
   "metadata": {},
   "source": [
    "Setup the nscf on a random grids in the region close to Gamma"
   ]
  },
  {
   "cell_type": "code",
   "execution_count": 18,
   "metadata": {},
   "outputs": [],
   "source": [
    "import random as rand\n",
    "numBands = 40\n",
    "num_kpoints = 100\n",
    "k_span = 0.1\n",
    "weight = 1."
   ]
  },
  {
   "cell_type": "code",
   "execution_count": 19,
   "metadata": {},
   "outputs": [],
   "source": [
    "klist = []\n",
    "for n in range(num_kpoints):\n",
    "    k_rand = [k_span*(rand.random()-0.5) for ind in range(3)] + [weight]\n",
    "    klist.append(k_rand)"
   ]
  },
  {
   "cell_type": "code",
   "execution_count": 20,
   "metadata": {},
   "outputs": [],
   "source": [
    "random_study = D.Dataset(label='nscf',run_dir='nscf',pre_processing='nscf')"
   ]
  },
  {
   "cell_type": "code",
   "execution_count": 21,
   "metadata": {},
   "outputs": [],
   "source": [
    "input.system['nbnd'] = numBands\n",
    "idd = {'bnds' : numBands, 'kpoints' : num_kpoints, 'sampling' : 'random'} \n",
    "input.set_prefix(D.name_from_id(idd))\n",
    "input.set_energy_cutoff(ecut_conv)\n",
    "input.set_kpoints(ktype='tpiba',klist=klist)\n",
    "random_study.append_run(id=idd,calculator=code,input=input)"
   ]
  },
  {
   "cell_type": "code",
   "execution_count": 23,
   "metadata": {},
   "outputs": [],
   "source": [
    "#print(random_study.runs[0])"
   ]
  },
  {
   "cell_type": "code",
   "execution_count": 24,
   "metadata": {},
   "outputs": [
    {
     "data": {
      "image/png": "[encoded data removed]",
      "text/plain": [
       "<Figure size 432x288 with 1 Axes>"
      ]
     },
     "metadata": {
      "needs_background": "light"
     },
     "output_type": "display_data"
    }
   ],
   "source": [
    "for ind,k in enumerate(klist):\n",
    "    plt.scatter(ind,k[0])"
   ]
  },
  {
   "cell_type": "markdown",
   "metadata": {},
   "source": [
    "Apply the pre-processing"
   ]
  },
  {
   "cell_type": "code",
   "execution_count": 25,
   "metadata": {},
   "outputs": [],
   "source": [
    "source = 'gs_convergence/ecut_%s-k_%s.save'%(ecut_conv,k_conv)"
   ]
  },
  {
   "cell_type": "code",
   "execution_count": 26,
   "metadata": {
    "scrolled": true
   },
   "outputs": [
    {
     "name": "stdout",
     "output_type": "stream",
     "text": [
      "Folder nscf already exists\n",
      "execute :  cp -r gs_convergence/ecut_80-k_6.save nscf/bnds_40-kpoints_100-sampling_random.save\n"
     ]
    }
   ],
   "source": [
    "random_study.pre_processing_function(source_dir=source)"
   ]
  },
  {
   "cell_type": "code",
   "execution_count": 27,
   "metadata": {},
   "outputs": [
    {
     "name": "stdout",
     "output_type": "stream",
     "text": [
      "execute : cd nscf ; OMP_NUM_THREADS=1 mpirun -np 16 pw.x -inp bnds_40-kpoints_100-sampling_random.in > bnds_40-kpoints_100-sampling_random.log\n",
      "parse file : nscf/bnds_40-kpoints_100-sampling_random.save/data-file-schema.xml\n"
     ]
    }
   ],
   "source": [
    "random_study.run()"
   ]
  },
  {
   "cell_type": "markdown",
   "metadata": {},
   "source": [
    "Setup the nscf on a regular grids in the region close to Gamma"
   ]
  },
  {
   "cell_type": "code",
   "execution_count": 16,
   "metadata": {},
   "outputs": [
    {
     "name": "stdout",
     "output_type": "stream",
     "text": [
      "[-0.05 -0.04 -0.03 -0.02 -0.01  0.    0.01  0.02  0.03  0.04  0.05]\n"
     ]
    }
   ],
   "source": [
    "kmin = -0.05\n",
    "kmax = 0.05\n",
    "num_kpoints = 11\n",
    "numBands = 40\n",
    "weight = 1.\n",
    "linear_sampling = np.linspace(kmin,kmax,num_kpoints)\n",
    "print(linear_sampling)"
   ]
  },
  {
   "cell_type": "code",
   "execution_count": 17,
   "metadata": {},
   "outputs": [],
   "source": [
    "klist = []\n",
    "for x in linear_sampling:\n",
    "    for y in linear_sampling:\n",
    "        for z in linear_sampling:\n",
    "            klist.append([x,y,z,weight])"
   ]
  },
  {
   "cell_type": "code",
   "execution_count": 18,
   "metadata": {},
   "outputs": [],
   "source": [
    "#klist"
   ]
  },
  {
   "cell_type": "code",
   "execution_count": 19,
   "metadata": {},
   "outputs": [],
   "source": [
    "regular = D.Dataset(label='nscf',run_dir='nscf',pre_processing='nscf')"
   ]
  },
  {
   "cell_type": "code",
   "execution_count": 20,
   "metadata": {},
   "outputs": [],
   "source": [
    "input.system['nbnd'] = numBands\n",
    "idd = {'bnds' : numBands, 'kpoints' : num_kpoints, 'sampling' : 'reg_grid'} \n",
    "input.set_prefix(D.name_from_id(idd))\n",
    "input.set_energy_cutoff(ecut_conv)\n",
    "input.set_kpoints(ktype='tpiba',klist=klist)\n",
    "regular.append_run(id=idd,calculator=code,input=input)"
   ]
  },
  {
   "cell_type": "markdown",
   "metadata": {},
   "source": [
    "Apply the pre-processing"
   ]
  },
  {
   "cell_type": "code",
   "execution_count": 21,
   "metadata": {},
   "outputs": [],
   "source": [
    "source = 'gs_convergence/ecut_%s-k_%s.save'%(ecut_conv,k_conv)"
   ]
  },
  {
   "cell_type": "code",
   "execution_count": 22,
   "metadata": {
    "scrolled": true
   },
   "outputs": [
    {
     "name": "stdout",
     "output_type": "stream",
     "text": [
      "Folder nscf already exists\n",
      "nscf .save folder exsists. gs_convergence/ecut_80-k_6.save not copied\n"
     ]
    }
   ],
   "source": [
    "regular.pre_processing_function(source_dir=source)"
   ]
  },
  {
   "cell_type": "code",
   "execution_count": 23,
   "metadata": {},
   "outputs": [
    {
     "name": "stdout",
     "output_type": "stream",
     "text": [
      "skip the computation for : bnds_40-kpoints_11-sampling_reg_grid.in\n",
      "parse file : nscf/bnds_40-kpoints_11-sampling_reg_grid.save/data-file-schema.xml\n"
     ]
    }
   ],
   "source": [
    "regular.run()"
   ]
  },
  {
   "cell_type": "markdown",
   "metadata": {},
   "source": [
    "## Energy gap for each k"
   ]
  },
  {
   "cell_type": "code",
   "execution_count": 20,
   "metadata": {},
   "outputs": [],
   "source": [
    "results = bnds_study.fetch_results(id={'kpoints' : 20})[0]\n",
    "bands = results.band_structure(plot=False)\n",
    "k_values = bands[:,0] # position on the path\n",
    "kpoints_cart = results.kpt_cart # cartesian position for each value on the path"
   ]
  },
  {
   "cell_type": "code",
   "execution_count": 21,
   "metadata": {},
   "outputs": [
    {
     "name": "stdout",
     "output_type": "stream",
     "text": [
      "[0. 0. 0.] 1.41800629710374\n",
      "[-0.05  0.05 -0.05] 1.9710532670491938\n"
     ]
    }
   ],
   "source": [
    "gap = 1.0+bands[:,9]-bands[:,7]\n",
    "for ind in range(len(k_values)):\n",
    "    if gap[ind] < 2.0: print(kpoints_cart[ind],gap[ind])"
   ]
  },
  {
   "cell_type": "code",
   "execution_count": 30,
   "metadata": {},
   "outputs": [],
   "source": [
    "results_shift = shift.fetch_results(id={'kpoints' : 8})[0]\n",
    "bands_shift = results_shift.band_structure(plot=False)\n",
    "k_values_shift = bands_shift[:,0] # position on the path\n",
    "kpoints_cart_shift = results_shift.kpt_cart # cartesian position for each value on the path"
   ]
  },
  {
   "cell_type": "code",
   "execution_count": 31,
   "metadata": {},
   "outputs": [
    {
     "name": "stdout",
     "output_type": "stream",
     "text": [
      "[-0.0625  0.0625  0.0625] 2.1325879471696867\n",
      "[-0.1875  0.1875  0.1875] 2.9370784378585446\n",
      "[-0.3125  0.3125  0.3125] 2.9716582089123897\n",
      "[-0.4375  0.4375  0.4375] 2.9450956434459306\n"
     ]
    }
   ],
   "source": [
    "gap = 1.0+bands_shift[:,9]-bands_shift[:,7]\n",
    "for ind in range(len(k_values_shift)):\n",
    "    if gap[ind] < 3.0: print(kpoints_cart_shift[ind],gap[ind])"
   ]
  },
  {
   "cell_type": "code",
   "execution_count": 32,
   "metadata": {},
   "outputs": [],
   "source": [
    "results_shift = shift.fetch_results(id={'kpoints' : 10})[0]\n",
    "bands_shift = results_shift.band_structure(plot=False)\n",
    "k_values_shift = bands_shift[:,0] # position on the path\n",
    "kpoints_cart_shift = results_shift.kpt_cart # cartesian position for each value on the path"
   ]
  },
  {
   "cell_type": "code",
   "execution_count": 33,
   "metadata": {},
   "outputs": [
    {
     "name": "stdout",
     "output_type": "stream",
     "text": [
      "[-0.05  0.05  0.05] 1.9710532670493324\n",
      "[-0.15  0.15 -0.05] 2.8355904635182974\n",
      "[ 0.05 -0.05  0.15] 2.7628082763269193\n",
      "[-0.15  0.15  0.15] 2.8425594096297697\n",
      "[-0.25  0.25  0.25] 2.978692997310417\n",
      "[-0.35  0.35  0.35] 2.9624473557927127\n",
      "[-0.45  0.45  0.45] 2.943655187656332\n"
     ]
    }
   ],
   "source": [
    "gap = 1.0+bands_shift[:,9]-bands_shift[:,7]\n",
    "for ind in range(len(k_values_shift)):\n",
    "    if gap[ind] < 3.0: print(kpoints_cart_shift[ind],gap[ind])"
   ]
  },
  {
   "cell_type": "code",
   "execution_count": 34,
   "metadata": {},
   "outputs": [],
   "source": [
    "results_shift = shift.fetch_results(id={'kpoints' : 12})[0]\n",
    "bands_shift = results_shift.band_structure(plot=False)\n",
    "k_values_shift = bands_shift[:,0] # position on the path\n",
    "kpoints_cart_shift = results_shift.kpt_cart # cartesian position for each value on the path"
   ]
  },
  {
   "cell_type": "code",
   "execution_count": 35,
   "metadata": {},
   "outputs": [
    {
     "name": "stdout",
     "output_type": "stream",
     "text": [
      "[-0.04166667  0.04166667  0.04166667] 1.8592888075624767\n",
      "[-0.125       0.125      -0.04166667] 2.6469310284565397\n",
      "[ 0.04166667 -0.04166667  0.125     ] 2.5094383193863594\n",
      "[-0.125  0.125  0.125] 2.7219525960920343\n",
      "[-0.20833333  0.20833333  0.20833333] 2.9614092776986647\n",
      "[-0.29166667  0.29166667  0.29166667] 2.9759930402493806\n",
      "[-0.375  0.375  0.375] 2.9564558444497906\n",
      "[-0.45833333  0.45833333  0.45833333] 2.9428648209594948\n"
     ]
    }
   ],
   "source": [
    "gap = 1.0+bands_shift[:,9]-bands_shift[:,7]\n",
    "for ind in range(len(k_values_shift)):\n",
    "    if gap[ind] < 3.0: print(kpoints_cart_shift[ind],gap[ind])"
   ]
  },
  {
   "cell_type": "markdown",
   "metadata": {},
   "source": [
    "This charts evidences that for each choice of kpoints (both shifted or not) there is actually only one k-point\n",
    "with a energy gap in the interesting range. In this way we cannot expect to sample different spin region with a scan of the frequency of the probe. We have to enrich the k sampling in order to capture all the points that gives an energy gap that can be excited in our frequency range.\n",
    "\n",
    "This can be done by performing a random sampling in a region of the BZ close to the Gamma point. Here we have performed random sampling in a cube of size 0.1 centred on Gamma. All the sampled points give rises to energy gap lower than 2 eV."
   ]
  },
  {
   "cell_type": "code",
   "execution_count": 36,
   "metadata": {},
   "outputs": [],
   "source": [
    "results_random = random_study.fetch_results(id={'kpoints' : 100})[0]\n",
    "bands_random = results_random.band_structure(plot=False)\n",
    "k_values_random = bands_random[:,0] # position on the path\n",
    "kpoints_cart_random = results_random.kpt_cart # cartesian position for each value on the path"
   ]
  },
  {
   "cell_type": "code",
   "execution_count": 39,
   "metadata": {
    "scrolled": true
   },
   "outputs": [
    {
     "name": "stdout",
     "output_type": "stream",
     "text": [
      "0 [-0.01278642  0.00131419 -0.03692028] 1.6174884133908352 1.6187159742076593 1.6172194531813773\n",
      "1 [ 0.02646098 -0.00891092  0.01116283] 1.5452834230252854 1.5461205318800193 1.5452364160705203\n",
      "2 [-0.03430158  0.04715978 -0.03309002] 1.8218258972240413 1.8241301799787486 1.8216675505819548\n",
      "3 [ 0.02255488  0.01187188 -0.04076938] 1.6813611101770833 1.683602298001281 1.6809516347278333\n",
      "4 [-0.02191683  0.03331801  0.02740873] 1.6752960998589552 1.6766075047316935 1.6752122172381938\n",
      "5 [ 0.0304125  -0.04032259 -0.04328747] 1.8162364496487422 1.8183716472925457 1.8160589255505988\n",
      "6 [-0.03792962 -0.02790043  0.04401596] 1.8010371099866722 1.8034411366313945 1.8007947862863505\n",
      "7 [ 0.0210096  -0.00859063  0.02189669] 1.5523056754385793 1.5533332026741649 1.5521973990694793\n",
      "8 [-0.0440291   0.02304338  0.00459638] 1.7001517321774529 1.7025874370621334 1.6994221799201599\n",
      "9 [ 0.00040031  0.01577874 -0.04296778] 1.672154516117339 1.6738456815331357 1.671689650843863\n",
      "10 [ 0.00511147  0.04764649 -0.04687314] 1.83015758249274 1.8351542432544719 1.8285262984972697\n",
      "11 [-0.03891605  0.03763069 -0.0236825 ] 1.7589008190954036 1.7612466154670177 1.7586421953753915\n",
      "12 [ 0.03362864 -0.04604895 -0.01964433] 1.7733275645520505 1.7764353505727932 1.7727709453321951\n",
      "13 [-0.04239022  0.00691856 -0.00792973] 1.658416690933315 1.6597327344182773 1.6583838937037676\n",
      "14 [-0.00695673  0.00347221 -0.0184945 ] 1.4819702254537779 1.482280175643429 1.4819428569408561\n",
      "15 [0.0098148  0.02907095 0.03164182] 1.644840869279764 1.6470215015103484 1.6444795902981877\n",
      "16 [-0.03646972 -0.01488511  0.04053202] 1.742009844001828 1.7451909061397597 1.741389610079902\n",
      "17 [ 0.04518465 -0.025388   -0.02744162] 1.7594892122302506 1.7620560008928257 1.759282041183253\n",
      "18 [ 0.03983713 -0.02005496 -0.00690885] 1.6607280694191973 1.662729099415416 1.6602662784128643\n",
      "19 [-0.04653251 -0.00146953  0.00903025] 1.6928324019711685 1.6939859513402915 1.6926311847810078\n",
      "20 [-0.03891699  0.01214595  0.03961034] 1.7452689371993948 1.748741478766184 1.7445042878080184\n",
      "21 [ 0.00918973  0.02350278 -0.00146269] 1.5144109480200036 1.51495049233964 1.5143293296348146\n",
      "22 [-0.03245898  0.02744415 -0.0140443 ] 1.6493154246170656 1.6511959597259667 1.649070725566002\n",
      "23 [-0.01006117  0.02251589  0.00450072] 1.5121109721713273 1.5126794294123709 1.5120453146680175\n",
      "24 [0.04014491 0.01154225 0.04611377] 1.7899416122309795 1.794037995717968 1.7888435311653916\n",
      "25 [ 0.02420463 -0.03270172  0.03052639] 1.693636834391481 1.6947666817171543 1.6935779983037103\n",
      "26 [-0.00798451 -0.01219436 -0.04932086] 1.7242143025375638 1.7261536219329932 1.72401275135634\n",
      "27 [0.01441872 0.03346837 0.00671818] 1.598110957069525 1.5994068301087871 1.5979110598131596\n",
      "28 [-0.02596822 -0.03167901  0.01021179] 1.6309219073159982 1.6328475755905831 1.6306198571168196\n",
      "29 [-0.02099403 -0.04290741 -0.03541865] 1.764034824793952 1.766872935557088 1.7636074689956729\n",
      "30 [ 0.00189668 -0.008024   -0.01404976] 1.4612321190351754 1.4614591727586186 1.4612061021020253\n",
      "31 [-0.00978083 -0.01537788 -0.0378958 ] 1.63721812152136 1.6388740705609353 1.6370199459255081\n",
      "32 [ 0.04309647 -0.02023393 -0.04037671] 1.7874111846134477 1.7907428670263936 1.7868329400340128\n",
      "33 [ 0.02399375 -0.03037513  0.04626448] 1.7728886152560417 1.775643297576722 1.7725771017881895\n",
      "34 [ 0.00758459 -0.03998929 -0.02300157] 1.6715875652838754 1.673835279753244 1.671052554301947\n",
      "35 [ 0.04108237 -0.01466872 -0.01965999] 1.6801284140941783 1.6822850624996635 1.6799001084770042\n",
      "36 [ 0.01806922 -0.04915166  0.04493323] 1.8423027449077924 1.8467373644402798 1.841220388808165\n",
      "37 [ 0.03041976 -0.03493707  0.00453097] 1.6654394211605528 1.6681169117283385 1.664848891796824\n",
      "38 [-0.01279154 -0.02847582  0.03949314] 1.695302186590438 1.697848840949594 1.6948131320304425\n",
      "39 [-0.02341065 -0.00304835 -0.02856602] 1.5933023828861659 1.5950415010145012 1.5929863406524793\n",
      "40 [ 0.0165869  -0.00739435  0.03072904] 1.5854816314095874 1.5867742672030367 1.5852817426156962\n",
      "41 [0.0090149  0.01300528 0.03990137] 1.6470627268124423 1.648687864844054 1.6469123889036341\n",
      "42 [-0.00052973  0.03464198  0.0142703 ] 1.602945962516646 1.60421524393269 1.6026585547621126\n",
      "43 [-0.04639436  0.04591331 -0.04912687] 1.9331309623274064 1.9338174020097503 1.9331186556809028\n",
      "44 [ 0.00231141 -0.02091116  0.02072004] 1.5393008525580711 1.5404211656346378 1.539141530072225\n",
      "45 [ 0.02586619 -0.01094367 -0.01706119] 1.5622812484527504 1.5632474259356774 1.5621936168477006\n",
      "46 [0.04091379 0.04302146 0.01725887] 1.7838025915675857 1.7874153580039076 1.7830723208370953\n",
      "47 [ 0.04156645 -0.04566193  0.00055288] 1.787760486372342 1.7921779885708187 1.7863810349131644\n",
      "48 [ 0.01613594 -0.00195989  0.03069599] 1.5795741432544057 1.5808446854842035 1.5793107246499822\n",
      "49 [0.02146241 0.04691179 0.01713817] 1.7341788784438172 1.7369268990958115 1.7338971356684691\n",
      "50 [-0.03537749  0.0284518  -0.00856243] 1.662492000971298 1.6649236917253365 1.6620084047095958\n",
      "51 [-0.0190171   0.03777695 -0.01055515] 1.646766873662334 1.6486099495052775 1.6464785750865518\n",
      "52 [ 0.02524673  0.03854322 -0.02765586] 1.717482362741337 1.719182765766618 1.7173760547491845\n",
      "53 [ 0.00834151 -0.02234495 -0.02120299] 1.5549754352440592 1.5560522535187697 1.5548568831282763\n",
      "54 [ 0.04693625 -0.01217231  0.03183433] 1.7594174613130678 1.7627529110445987 1.758534559095298\n",
      "55 [0.02699127 0.04887596 0.02931326] 1.795538484151705 1.7985184692635956 1.7952731888361768\n",
      "56 [-0.00776641 -0.02979883  0.00242608] 1.5553003399679692 1.5559451358188614 1.5552189393208966\n",
      "57 [-0.02930476  0.02775695 -0.04198476] 1.7530416442472552 1.7550393662370318 1.752910230980369\n",
      "58 [ 0.03527946 -0.03997693 -0.03557556] 1.7961565334527645 1.7969871276081042 1.7961349228267398\n",
      "59 [0.00794552 0.01137456 0.01012563] 1.464648116238906 1.464760611814338 1.4646450352181404\n",
      "60 [-0.01020346  0.02691927  0.00017459] 1.5385901680993683 1.539292816752492 1.5384689631102226\n",
      "61 [0.0391107  0.03497138 0.04792442] 1.8521040570863132 1.8542445801973244 1.8519580657629433\n",
      "62 [ 0.01006382 -0.02951669 -0.03214739] 1.6503002739055868 1.652540184175109 1.6499247828960062\n",
      "63 [ 0.01618391 -0.02715063  0.03812154] 1.687473861912891 1.6896660740482137 1.6871620826800289\n",
      "64 [ 0.03383117  0.04025686 -0.01092383] 1.7212794293246638 1.7244144058715847 1.7205847009045305\n",
      "65 [-0.00836609 -0.01825613 -0.04289446] 1.6812955820718418 1.6833417143746967 1.6808798046137765\n",
      "66 [-0.04077445 -0.00010992 -0.030461  ] 1.7020225272042735 1.7050667503687293 1.7011742322578005\n",
      "67 [-0.0355826   0.01019729 -0.01255213] 1.6143157438731581 1.615749430764006 1.6142311429285368\n",
      "68 [-0.04755756 -0.01752164 -0.04812786] 1.8494572707022163 1.854082103408758 1.8482928554508389\n",
      "69 [ 0.01709236 -0.03422564 -0.02160499] 1.6440027669268247 1.6455806341591241 1.6438733931019396\n",
      "70 [-0.04716107  0.04228833  0.048914  ] 1.9204186379775683 1.9217474664525795 1.9203670338735588\n",
      "71 [-0.04700724  0.00935238  0.031601  ] 1.7557769498123026 1.7591493645094864 1.754786281276302\n",
      "72 [-0.04816815  0.02963111 -0.03649545] 1.8249163095246237 1.8276306427578675 1.8246404108865173\n",
      "73 [ 0.00593882 -0.0273566  -0.02993239] 1.6219624171219076 1.6240338856822119 1.6215911696567789\n",
      "74 [-0.03908076 -0.03668495  0.03106344] 1.7796280002132878 1.780896158436554 1.7795681672396304\n",
      "75 [ 0.0246855  -0.00818265  0.02267706] 1.573458766680365 1.574779958113619 1.5732917153387795\n",
      "76 [ 0.03682082 -0.04073388  0.01720728] 1.74932003294325 1.7523872373682616 1.7487791874021799\n",
      "77 [ 0.01869173 -0.01499256  0.04844406] 1.7361909273539844 1.7389155468648383 1.7359416344110175\n",
      "78 [-0.01997501  0.01768392  0.04318054] 1.7029559430374182 1.7053599159936237 1.7027763113557777\n",
      "79 [-0.01331376 -0.009859   -0.00186238] 1.4627581554825193 1.4630264870491931 1.4627293383617799\n",
      "80 [ 0.02112486  0.03796988 -0.01480244] 1.6620984955514624 1.664045171406686 1.6618738163823945\n",
      "81 [-0.03832845  0.04771127 -0.02862544] 1.8266766927177933 1.8294866506347054 1.82635164855653\n",
      "82 [-0.01208802  0.00197719 -0.03157336] 1.5756461992451554 1.5766425862936773 1.5754553583824817\n",
      "83 [ 0.00779298 -0.02175886  0.02056072] 1.548267905694571 1.5492933577261487 1.5481547782899323\n",
      "84 [-0.04393195  0.04433313  0.01782927] 1.8085705808719137 1.8125215408049256 1.8077188440659784\n",
      "85 [-0.03520723 -0.02407473 -0.03995414] 1.7539315084314762 1.756146283066089 1.753701447062788\n",
      "86 [-0.04123206  0.04773591 -0.01191453] 1.8060857094452185 1.8103826462979953 1.8048872997881213\n",
      "87 [ 0.03842466  0.01856726 -0.03879913] 1.7495492672358566 1.7524776917174965 1.7490828971647856\n",
      "88 [0.01375255 0.00280844 0.03749199] 1.6243347823503091 1.6256799477202355 1.6240410984486582\n",
      "89 [-0.02580353 -0.02978227  0.04551292] 1.7709099809118252 1.7734827989862314 1.7706774447955107\n",
      "90 [-0.01157191 -0.04268118  0.03995022] 1.7679261534926045 1.7717551854797104 1.7669909883644275\n",
      "91 [-0.02202543  0.02895412 -0.01380432] 1.605193616431757 1.6064811640530792 1.6050686979018556\n",
      "92 [-0.02670504  0.01351581 -0.04605926] 1.7365355005111427 1.7393888960712385 1.7359092837728154\n",
      "93 [-0.0287544   0.03355625  0.01651224] 1.6672337864965705 1.6691177103044064 1.6670129759586585\n",
      "94 [ 0.02596977  0.00922004 -0.01858039] 1.5650024086503622 1.5661053728235634 1.5648734618717937\n",
      "95 [-0.01371167  0.03450116  0.00230043] 1.601008365798867 1.6022363101473722 1.6007473961917293\n",
      "96 [-0.03275561 -0.00496039 -0.0104414 ] 1.582931460941853 1.5839148701390302 1.582807470033102\n",
      "97 [-0.03718781  0.00535521  0.03784037] 1.718685678012493 1.7221150070251179 1.7178366231449624\n",
      "98 [ 0.00458923  0.00068269 -0.02916133] 1.5466884496170792 1.5470634649704555 1.5466539810398219\n",
      "99 [-0.04275342  0.04894534  0.01120569] 1.8206065006983838 1.825159720647279 1.8192639742050503\n"
     ]
    }
   ],
   "source": [
    "gap1 = 1.0+bands_random[:,9]-bands_random[:,7]\n",
    "gap2 = 1.0+bands_random[:,10]-bands_random[:,8]\n",
    "gap3 = 1.0+bands_random[:,9]-bands_random[:,8]\n",
    "\n",
    "for ind in range(len(k_values_random)):\n",
    "    if gap1[ind] < 2.0: print(ind, kpoints_cart_random[ind],gap[ind],gap2[ind],gap3[ind])"
   ]
  },
  {
   "cell_type": "markdown",
   "metadata": {},
   "source": [
    "So we expect that all these points contribute to the neq occupation in the presence of a pump in the frequency range in which we are interested in."
   ]
  },
  {
   "cell_type": "markdown",
   "metadata": {},
   "source": [
    "Check the results also for the regular grid close to Gamma"
   ]
  },
  {
   "cell_type": "code",
   "execution_count": 24,
   "metadata": {},
   "outputs": [],
   "source": [
    "results_regular = regular.fetch_results(id={'kpoints' : 11})[0]\n",
    "bands_regular = results_regular.band_structure(plot=False)\n",
    "k_values_regular = bands_regular[:,0] # position on the path\n",
    "kpoints_cart_regular = results_regular.kpt_cart # cartesian position for each value on the path"
   ]
  },
  {
   "cell_type": "code",
   "execution_count": 28,
   "metadata": {},
   "outputs": [
    {
     "name": "stdout",
     "output_type": "stream",
     "text": [
      "0 [-0.05 -0.05 -0.05] 1.9710532670489753 1.971053267049009 1.9710532670486955\n",
      "1 [-0.05 -0.05 -0.04] 1.930393157694824 1.9326016400619572 1.930238928615415\n",
      "2 [-0.05 -0.05 -0.03] 1.899325916076127 1.9031565014393053 1.898727144768455\n",
      "3 [-0.05 -0.05 -0.02] 1.8776416115813541 1.8824824150713102 1.8764347953706206\n",
      "4 [-0.05 -0.05 -0.01] 1.8649149436734591 1.8702569385115098 1.8631753270898983\n",
      "5 [-0.05 -0.05  0.  ] 1.860730103277196 1.8662153257230853 1.8587778784834246\n",
      "6 [-0.05 -0.05  0.01] 1.8649149436737709 1.8702569385112442 1.8631753270895848\n",
      "7 [-0.05 -0.05  0.02] 1.8776416115824128 1.8824824150712178 1.8764347953703568\n",
      "8 [-0.05 -0.05  0.03] 1.8993259160761564 1.9031565014392449 1.898727144768479\n",
      "9 [-0.05 -0.05  0.04] 1.9303931576944668 1.9326016400616393 1.930238928614501\n",
      "10 [-0.05 -0.05  0.05] 1.9710532670481085 1.971053267048851 1.9710532670476626\n",
      "11 [-0.05 -0.04 -0.05] 1.9303931576935378 1.9326016400623134 1.930238928613564\n",
      "12 [-0.05 -0.04 -0.04] 1.8862903941801887 1.8882793198669372 1.8861807105476318\n",
      "13 [-0.05 -0.04 -0.03] 1.851719411038241 1.8547583269778851 1.851350145830354\n",
      "14 [-0.05 -0.04 -0.02] 1.8273818879429493 1.8313038784356257 1.8265113960120667\n",
      "15 [-0.05 -0.04 -0.01] 1.8130884852963085 1.8174630759335173 1.811720241657425\n",
      "16 [-0.05 -0.04  0.  ] 1.8083953437244835 1.8128950144839662 1.8068171935909048\n",
      "17 [-0.05 -0.04  0.01] 1.8130884852973104 1.8174630759332668 1.811720241658021\n",
      "18 [-0.05 -0.04  0.02] 1.827381887943404 1.8313038784352873 1.8265113960121315\n",
      "19 [-0.05 -0.04  0.03] 1.8517194110383004 1.8547583269779526 1.8513501458307937\n",
      "20 [-0.05 -0.04  0.04] 1.8862903941801719 1.8882793198672632 1.8861807105477375\n",
      "21 [-0.05 -0.04  0.05] 1.9303931576940547 1.9326016400619332 1.9302389286146582\n",
      "22 [-0.05 -0.03 -0.05] 1.899325916076017 1.903156501439196 1.8987271447683698\n",
      "23 [-0.05 -0.03 -0.04] 1.8517194110384185 1.8547583269787449 1.8513501458306347\n",
      "24 [-0.05 -0.03 -0.03] 1.814595910427971 1.8176313282066996 1.8143389390539078\n",
      "25 [-0.05 -0.03 -0.02] 1.788426100259099 1.7917000658668059 1.78785989756439\n",
      "26 [-0.05 -0.03 -0.01] 1.7731101950697994 1.7764756032015336 1.7720576860098198\n",
      "27 [-0.05 -0.03  0.  ] 1.7681027535849347 1.7714741660920916 1.76682703800667\n",
      "28 [-0.05 -0.03  0.01] 1.7731101950718209 1.7764756032012095 1.7720576860118333\n",
      "29 [-0.05 -0.03  0.02] 1.7884261002588007 1.7917000658657551 1.7878598975639521\n",
      "30 [-0.05 -0.03  0.03] 1.8145959104279354 1.8176313282067484 1.814338939053867\n",
      "31 [-0.05 -0.03  0.04] 1.8517194110380801 1.8547583269776728 1.8513501458302883\n",
      "32 [-0.05 -0.03  0.05] 1.899325916075874 1.9031565014394358 1.8987271447686593\n",
      "33 [-0.05 -0.02 -0.05] 1.8776416115818613 1.882482415072289 1.8764347953709493\n",
      "34 [-0.05 -0.02 -0.04] 1.8273818879433659 1.8313038784352766 1.826511396012104\n",
      "35 [-0.05 -0.02 -0.03] 1.7884261002587083 1.791700065866582 1.787859897564461\n",
      "36 [-0.05 -0.02 -0.02] 1.7610577792997573 1.7641684149199852 1.760851264860185\n",
      "37 [-0.05 -0.02 -0.01] 1.7453770894119671 1.7479677604874837 1.7448071477140559\n",
      "38 [-0.05 -0.02  0.  ] 1.7403295719470355 1.7426590179617536 1.7395113508637827\n",
      "39 [-0.05 -0.02  0.01] 1.7453770894121199 1.747967760485917 1.744807147713888\n",
      "40 [-0.05 -0.02  0.02] 1.7610577792998479 1.7641684149200065 1.760851264860242\n",
      "41 [-0.05 -0.02  0.03] 1.7884261002590156 1.7917000658668085 1.7878598975643394\n",
      "42 [-0.05 -0.02  0.04] 1.8273818879447363 1.8313038784342242 1.8265113960121342\n",
      "43 [-0.05 -0.02  0.05] 1.8776416115831944 1.8824824150709372 1.876434795370784\n",
      "44 [-0.05 -0.01 -0.05] 1.86491494367365 1.8702569385112202 1.8631753270896958\n",
      "45 [-0.05 -0.01 -0.04] 1.8130884852969755 1.8174630759343264 1.8117202416582314\n",
      "46 [-0.05 -0.01 -0.03] 1.7731101950720278 1.7764756032010105 1.7720576860112267\n",
      "47 [-0.05 -0.01 -0.02] 1.7453770894119804 1.747967760487601 1.7448071477141243\n",
      "48 [-0.05 -0.01 -0.01] 1.7294966872036088 1.7315776227978361 1.7294858726846885\n",
      "49 [-0.05 -0.01  0.  ] 1.724696690112756 1.7260168917276264 1.7244261642151786\n",
      "50 [-0.05 -0.01  0.01] 1.7294966872034072 1.7315776227993425 1.7294858726852107\n",
      "51 [-0.05 -0.01  0.02] 1.7453770894125729 1.7479677604878807 1.7448071477140665\n",
      "52 [-0.05 -0.01  0.03] 1.7731101950716877 1.7764756032015665 1.7720576860121167\n",
      "53 [-0.05 -0.01  0.04] 1.8130884852963627 1.8174630759327686 1.8117202416572677\n",
      "54 [-0.05 -0.01  0.05] 1.8649149436734644 1.8702569385117584 1.8631753270897464\n",
      "55 [-0.05  0.   -0.05] 1.8607301032768397 1.8662153257240748 1.8587778784832238\n",
      "56 [-0.05  0.   -0.04] 1.8083953437251772 1.8128950144855667 1.8068171935917805\n",
      "57 [-0.05  0.   -0.03] 1.7681027535840252 1.771474166092431 1.7668270380069009\n",
      "58 [-0.05  0.   -0.02] 1.7403295719472647 1.7426590179619037 1.7395113508640438\n",
      "59 [-0.05  0.   -0.01] 1.7246966901143326 1.7260168917275944 1.7244261642171255\n",
      "60 [-0.05  0.    0.  ] 1.7202073374420195 1.7202073374421225 1.7202073374419946\n",
      "61 [-0.05  0.    0.01] 1.724696690112733 1.7260168917276264 1.7244261642151875\n",
      "62 [-0.05  0.    0.02] 1.7403295719464316 1.742659017961147 1.7395113508635047\n",
      "63 [-0.05  0.    0.03] 1.7681027535845484 1.7714741660922275 1.7668270380070537\n",
      "64 [-0.05  0.    0.04] 1.8083953437250413 1.8128950144867666 1.8068171935921482\n",
      "65 [-0.05  0.    0.05] 1.8607301032774597 1.8662153257232834 1.858777878483183\n",
      "66 [-0.05  0.01 -0.05] 1.8649149436737948 1.8702569385130232 1.8631753270904952\n",
      "67 [-0.05  0.01 -0.04] 1.8130884852970377 1.8174630759338433 1.8117202416582634\n",
      "68 [-0.05  0.01 -0.03] 1.7731101950718324 1.7764756032011366 1.7720576860122481\n",
      "69 [-0.05  0.01 -0.02] 1.7453770894121572 1.7479677604879305 1.7448071477145843\n",
      "70 [-0.05  0.01 -0.01] 1.729496687203154 1.731577622799068 1.7294858726851094\n",
      "71 [-0.05  0.01  0.  ] 1.7246966901128191 1.7260168917276495 1.7244261642152177\n",
      "72 [-0.05  0.01  0.01] 1.7294966872034552 1.7315776227992998 1.7294858726855376\n",
      "73 [-0.05  0.01  0.02] 1.7453770894119538 1.747967760487536 1.7448071477140887\n",
      "74 [-0.05  0.01  0.03] 1.7731101950725643 1.7764756032021163 1.7720576860125634\n",
      "75 [-0.05  0.01  0.04] 1.8130884852972748 1.8174630759338193 1.8117202416578495\n",
      "76 [-0.05  0.01  0.05] 1.864914943673261 1.8702569385122345 1.8631753270897198\n",
      "77 [-0.05  0.02 -0.05] 1.8776416115815868 1.8824824150729889 1.8764347953705993\n",
      "78 [-0.05  0.02 -0.04] 1.8273818879433383 1.8313038784352145 1.8265113960120853\n",
      "79 [-0.05  0.02 -0.03] 1.7884261002591249 1.7917000658668076 1.7878598975644175\n",
      "80 [-0.05  0.02 -0.02] 1.7610577792995894 1.7641684149200287 1.7608512648600003\n",
      "81 [-0.05  0.02 -0.01] 1.7453770894132283 1.7479677604872554 1.7448071477141047\n",
      "82 [-0.05  0.02  0.  ] 1.740329571947158 1.7426590179616372 1.7395113508638564\n",
      "83 [-0.05  0.02  0.01] 1.7453770894112504 1.7479677604873096 1.7448071477133347\n",
      "84 [-0.05  0.02  0.02] 1.76105777930003 1.7641684149204595 1.760851264860757\n",
      "85 [-0.05  0.02  0.03] 1.7884261002589446 1.7917000658659399 1.787859897563827\n",
      "86 [-0.05  0.02  0.04] 1.8273818879434094 1.8313038784353024 1.8265113960121102\n",
      "87 [-0.05  0.02  0.05] 1.8776416115811374 1.8824824150706867 1.8764347953701037\n",
      "88 [-0.05  0.03 -0.05] 1.899325916076208 1.903156501439125 1.8987271447684293\n",
      "89 [-0.05  0.03 -0.04] 1.8517194110380855 1.8547583269777999 1.851350145830141\n",
      "90 [-0.05  0.03 -0.03] 1.8145959104281726 1.8176313282069065 1.8143389390539193\n",
      "91 [-0.05  0.03 -0.02] 1.7884261002590804 1.791700065866805 1.7878598975643794\n",
      "92 [-0.05  0.03 -0.01] 1.7731101950723245 1.7764756032011988 1.7720576860116974\n",
      "93 [-0.05  0.03  0.  ] 1.7681027535845244 1.7714741660916289 1.766827038006463\n",
      "94 [-0.05  0.03  0.01] 1.7731101950720927 1.7764756032007138 1.7720576860117596\n",
      "95 [-0.05  0.03  0.02] 1.7884261002590884 1.7917000658668405 1.7878598975643767\n",
      "96 [-0.05  0.03  0.03] 1.8145959104282454 1.8176313282069305 1.814338939054248\n",
      "97 [-0.05  0.03  0.04] 1.851719411038263 1.8547583269779508 1.8513501458303487\n",
      "98 [-0.05  0.03  0.05] 1.899325916076001 1.9031565014391365 1.8987271447683352\n",
      "99 [-0.05  0.04 -0.05] 1.9303931576940174 1.9326016400626322 1.930238928614795\n",
      "100 [-0.05  0.04 -0.04] 1.8862903941801576 1.8882793198670322 1.8861807105478299\n",
      "101 [-0.05  0.04 -0.03] 1.8517194110383137 1.854758326978132 1.8513501458303807\n",
      "102 [-0.05  0.04 -0.02] 1.8273818879435861 1.83130387843602 1.8265113960121564\n",
      "103 [-0.05  0.04 -0.01] 1.813088485296345 1.8174630759331665 1.8117202416573113\n",
      "104 [-0.05  0.04  0.  ] 1.8083953437256595 1.812895014485961 1.8068171935928152\n",
      "105 [-0.05  0.04  0.01] 1.8130884852972615 1.8174630759347439 1.8117202416585245\n",
      "106 [-0.05  0.04  0.02] 1.8273818879432033 1.8313038784363602 1.8265113960126982\n",
      "107 [-0.05  0.04  0.03] 1.8517194110382489 1.8547583269779722 1.8513501458304598\n",
      "108 [-0.05  0.04  0.04] 1.8862903941801799 1.8882793198668146 1.886180710547615\n",
      "109 [-0.05  0.04  0.05] 1.9303931576943771 1.9326016400617911 1.930238928614667\n",
      "110 [-0.05  0.05 -0.05] 1.971053267048977 1.971053267048993 1.9710532670489034\n",
      "111 [-0.05  0.05 -0.04] 1.9303931576944802 1.9326016400626127 1.9302389286150445\n",
      "112 [-0.05  0.05 -0.03] 1.8993259160758305 1.90315650143926 1.8987271447681895\n",
      "113 [-0.05  0.05 -0.02] 1.8776416115802892 1.8824824150706698 1.8764347953695868\n",
      "114 [-0.05  0.05 -0.01] 1.8649149436741883 1.870256938512319 1.8631753270907074\n",
      "115 [-0.05  0.05  0.  ] 1.860730103276782 1.8662153257225196 1.8587778784825844\n",
      "116 [-0.05  0.05  0.01] 1.8649149436728756 1.8702569385103534 1.8631753270878857\n",
      "117 [-0.05  0.05  0.02] 1.877641611582006 1.8824824150702737 1.8764347953701561\n",
      "118 [-0.05  0.05  0.03] 1.8993259160760312 1.9031565014392564 1.8987271447683787\n",
      "119 [-0.05  0.05  0.04] 1.9303931576942128 1.932601640062205 1.9302389286147887\n",
      "120 [-0.05  0.05  0.05] 1.971053267048723 1.9710532670487995 1.9710532670484646\n",
      "121 [-0.04 -0.05 -0.05] 1.9303931576944144 1.9326016400629698 1.9302389286147967\n",
      "122 [-0.04 -0.05 -0.04] 1.8862903941806763 1.888279319867035 1.8861807105482562\n",
      "123 [-0.04 -0.05 -0.03] 1.8517194110381858 1.854758326977855 1.8513501458302581\n",
      "124 [-0.04 -0.05 -0.02] 1.8273818879437513 1.8313038784350457 1.8265113960122834\n",
      "125 [-0.04 -0.05 -0.01] 1.8130884852967197 1.8174630759329675 1.8117202416577465\n",
      "126 [-0.04 -0.05  0.  ] 1.8083953437250146 1.8128950144850169 1.8068171935916242\n",
      "127 [-0.04 -0.05  0.01] 1.8130884852966398 1.8174630759334471 1.8117202416578415\n",
      "128 [-0.04 -0.05  0.02] 1.827381887943421 1.8313038784345732 1.8265113960122523\n",
      "129 [-0.04 -0.05  0.03] 1.8517194110382276 1.8547583269778745 1.8513501458303843\n",
      "130 [-0.04 -0.05  0.04] 1.8862903941798308 1.8882793198670642 1.8861807105471158\n",
      "131 [-0.04 -0.05  0.05] 1.9303931576945912 1.9326016400617663 1.9302389286145951\n",
      "132 [-0.04 -0.04 -0.05] 1.8862903941801497 1.8882793198668164 1.8861807105477455\n",
      "133 [-0.04 -0.04 -0.04] 1.8367361807370264 1.8367361807375469 1.83673618073676\n",
      "134 [-0.04 -0.04 -0.03] 1.7963356659058336 1.7981431873569056 1.7962081264305647\n",
      "135 [-0.04 -0.04 -0.02] 1.7677104234797332 1.770753398664107 1.767227922596188\n",
      "136 [-0.04 -0.04 -0.01] 1.750818754970135 1.7545068037973532 1.7499265839892226\n",
      "137 [-0.04 -0.04  0.  ] 1.7452656459828146 1.7491388493881441 1.7441882187132745\n",
      "138 [-0.04 -0.04  0.01] 1.7508187549710525 1.7545068037983071 1.7499265839912699\n",
      "139 [-0.04 -0.04  0.02] 1.767710423479845 1.770753398663083 1.767227922595306\n",
      "140 [-0.04 -0.04  0.03] 1.7963356659064562 1.7981431873580291 1.7962081264311438\n",
      "141 [-0.04 -0.04  0.04] 1.8367361807371578 1.8367361807367093 1.8367361807362386\n",
      "142 [-0.04 -0.04  0.05] 1.8862903941804783 1.888279319866891 1.8861807105479143\n",
      "143 [-0.04 -0.03 -0.05] 1.8517194110382187 1.8547583269778762 1.8513501458302901\n",
      "144 [-0.04 -0.03 -0.04] 1.7963356659057679 1.7981431873566907 1.796208126430355\n",
      "145 [-0.04 -0.03 -0.03] 1.752139389890318 1.7536954372134304 1.7520595633514473\n",
      "146 [-0.04 -0.03 -0.02] 1.7200717967113714 1.7223604496062324 1.7197868035475965\n",
      "147 [-0.04 -0.03 -0.01] 1.7010072112628967 1.7038161479702554 1.7003762752012221\n",
      "148 [-0.04 -0.03  0.  ] 1.6947411765250902 1.6977010334059095 1.6939354726807698\n",
      "149 [-0.04 -0.03  0.01] 1.7010072112624286 1.7038161479698228 1.7003762752008083\n",
      "150 [-0.04 -0.03  0.02] 1.7200717967119106 1.7223604496076916 1.7197868035484811\n",
      "151 [-0.04 -0.03  0.03] 1.752139389890945 1.753695437213632 1.7520595633515565\n",
      "152 [-0.04 -0.03  0.04] 1.7963356659061631 1.7981431873572156 1.7962081264307983\n",
      "153 [-0.04 -0.03  0.05] 1.8517194110382489 1.854758326977925 1.8513501458303638\n",
      "154 [-0.04 -0.02 -0.05] 1.8273818879433605 1.8313038784352829 1.826511396012135\n",
      "155 [-0.04 -0.02 -0.04] 1.7677104234802226 1.770753398662686 1.7672279225958665\n",
      "156 [-0.04 -0.02 -0.03] 1.720071796711344 1.7223604496045075 1.7197868035478905\n",
      "157 [-0.04 -0.02 -0.02] 1.6856634994986965 1.6877721026831924 1.6855272617270396\n",
      "158 [-0.04 -0.02 -0.01] 1.6652969215096185 1.6673280353335365 1.6649222970528248\n",
      "159 [-0.04 -0.02  0.  ] 1.6586497937210671 1.6606263249534328 1.6580918051056015\n",
      "160 [-0.04 -0.02  0.01] 1.6652969215099285 1.6673280353336342 1.6649222970532058\n",
      "161 [-0.04 -0.02  0.02] 1.6856634994976671 1.6877721026831294 1.68552726172598\n",
      "162 [-0.04 -0.02  0.03] 1.7200717967120243 1.7223604496064286 1.7197868035483204\n",
      "163 [-0.04 -0.02  0.04] 1.7677104234802261 1.7707533986627544 1.767227922595957\n",
      "164 [-0.04 -0.02  0.05] 1.8273818879418613 1.8313038784347597 1.8265113960103925\n",
      "165 [-0.04 -0.01 -0.05] 1.8130884852966105 1.8174630759317267 1.811720241657139\n",
      "166 [-0.04 -0.01 -0.04] 1.7508187549702088 1.7545068037998819 1.7499265839910487\n",
      "167 [-0.04 -0.01 -0.03] 1.7010072112624854 1.7038161479706977 1.7003762752010525\n",
      "168 [-0.04 -0.01 -0.02] 1.6652969215098583 1.667328035333564 1.6649222970530788\n",
      "169 [-0.04 -0.01 -0.01] 1.6443574565541876 1.6459369042791314 1.644329623949771\n",
      "170 [-0.04 -0.01  0.  ] 1.6377783621487314 1.638846861035148 1.6375728205595728\n",
      "171 [-0.04 -0.01  0.01] 1.6443574565552161 1.6459369042789707 1.6443296239501954\n",
      "172 [-0.04 -0.01  0.02] 1.665296921509814 1.6673280353335969 1.6649222970531055\n",
      "173 [-0.04 -0.01  0.03] 1.7010072112629073 1.7038161479704197 1.7003762752010578\n",
      "174 [-0.04 -0.01  0.04] 1.7508187549713599 1.754506803799103 1.7499265839912015\n",
      "175 [-0.04 -0.01  0.05] 1.8130884852973086 1.81746307593333 1.8117202416580245\n",
      "176 [-0.04  0.   -0.05] 1.8083953437251914 1.8128950144859637 1.8068171935920612\n",
      "177 [-0.04  0.   -0.04] 1.7452656459848823 1.749138849387034 1.7441882187149913\n",
      "178 [-0.04  0.   -0.03] 1.6947411765267688 1.697701033406573 1.6939354726827531\n",
      "179 [-0.04  0.   -0.02] 1.658649793721871 1.6606263249548157 1.6580918051061948\n",
      "180 [-0.04  0.   -0.01] 1.6377783621487438 1.638846861035181 1.6375728205595559\n",
      "181 [-0.04  0.    0.  ] 1.631483618834956 1.631483618834924 1.6314836188347899\n",
      "182 [-0.04  0.    0.01] 1.637778362148798 1.638846861035848 1.6375728205594422\n",
      "183 [-0.04  0.    0.02] 1.6586497937212297 1.6606263249554658 1.6580918051059381\n",
      "184 [-0.04  0.    0.03] 1.6947411765267226 1.697701033405771 1.6939354726822966\n",
      "185 [-0.04  0.    0.04] 1.745265645982431 1.749138849387216 1.7441882187129316\n",
      "186 [-0.04  0.    0.05] 1.8083953437241158 1.8128950144851501 1.8068171935916393\n",
      "187 [-0.04  0.01 -0.05] 1.8130884852968832 1.8174630759322623 1.811720241657687\n",
      "188 [-0.04  0.01 -0.04] 1.7508187549703553 1.754506803798872 1.7499265839912503\n",
      "189 [-0.04  0.01 -0.03] 1.701007211262339 1.7038161479703575 1.7003762752011564\n",
      "190 [-0.04  0.01 -0.02] 1.6652969215095395 1.6673280353335036 1.6649222970529856\n",
      "191 [-0.04  0.01 -0.01] 1.6443574565550305 1.645936904278945 1.6443296239497505\n",
      "192 [-0.04  0.01  0.  ] 1.6377783621482251 1.6388468610348816 1.6375728205592246\n",
      "193 [-0.04  0.01  0.01] 1.6443574565555776 1.6459369042794627 1.64432962394977\n",
      "194 [-0.04  0.01  0.02] 1.6652969215098867 1.667328035333619 1.664922297053141\n",
      "195 [-0.04  0.01  0.03] 1.7010072112627048 1.7038161479698566 1.7003762752002043\n",
      "196 [-0.04  0.01  0.04] 1.7508187549702443 1.7545068037982956 1.7499265839908285\n",
      "197 [-0.04  0.01  0.05] 1.8130884852980333 1.8174630759337873 1.8117202416587448\n",
      "198 [-0.04  0.02 -0.05] 1.8273818879447123 1.8313038784353806 1.8265113960129753\n",
      "199 [-0.04  0.02 -0.04] 1.7677104234802856 1.7707533986627704 1.7672279225959642\n",
      "200 [-0.04  0.02 -0.03] 1.720071796711946 1.7223604496064455 1.7197868035483372\n",
      "201 [-0.04  0.02 -0.02] 1.6856634994977187 1.687772102683189 1.6855272617260155\n",
      "202 [-0.04  0.02 -0.01] 1.665296921509909 1.6673280353336049 1.6649222970531738\n",
      "203 [-0.04  0.02  0.  ] 1.6586497937216356 1.6606263249538333 1.6580918051054025\n",
      "204 [-0.04  0.02  0.01] 1.6652969215101274 1.6673280353343527 1.6649222970533613\n",
      "205 [-0.04  0.02  0.02] 1.6856634994975428 1.6877721026829322 1.6855272617258743\n",
      "206 [-0.04  0.02  0.03] 1.7200717967119736 1.7223604496063691 1.7197868035483372\n",
      "207 [-0.04  0.02  0.04] 1.7677104234802252 1.7707533986626167 1.7672279225958807\n",
      "208 [-0.04  0.02  0.05] 1.8273818879442567 1.831303878435361 1.826511396012875\n",
      "209 [-0.04  0.03 -0.05] 1.8517194110381272 1.8547583269777324 1.8513501458292678\n",
      "210 [-0.04  0.03 -0.04] 1.7963356659059153 1.7981431873566542 1.7962081264304501\n",
      "211 [-0.04  0.03 -0.03] 1.7521393898902788 1.7536954372133078 1.752059563351418\n",
      "212 [-0.04  0.03 -0.02] 1.7200717967120358 1.722360449605561 1.719786803548116\n",
      "213 [-0.04  0.03 -0.01] 1.7010072112638923 1.7038161479715201 1.7003762752030065\n",
      "214 [-0.04  0.03  0.  ] 1.6947411765267315 1.6977010334064868 1.6939354726827833\n",
      "215 [-0.04  0.03  0.01] 1.701007211262973 1.703816147970116 1.7003762752008305\n",
      "216 [-0.04  0.03  0.02] 1.7200717967123564 1.7223604496048965 1.7197868035476862\n",
      "217 [-0.04  0.03  0.03] 1.7521393898900852 1.7536954372132803 1.7520595633511649\n",
      "218 [-0.04  0.03  0.04] 1.7963356659057972 1.7981431873562306 1.796208126429935\n",
      "219 [-0.04  0.03  0.05] 1.8517194110381787 1.8547583269778505 1.8513501458302697\n",
      "220 [-0.04  0.04 -0.05] 1.8862903941800058 1.8882793198672472 1.8861807105481265\n",
      "221 [-0.04  0.04 -0.04] 1.8367361807371827 1.836736180737688 1.8367361807371552\n",
      "222 [-0.04  0.04 -0.03] 1.796335665906187 1.7981431873567137 1.7962081264306917\n",
      "223 [-0.04  0.04 -0.02] 1.7677104234788752 1.77075339866248 1.7672279225948788\n",
      "224 [-0.04  0.04 -0.01] 1.750818754970119 1.7545068037985896 1.7499265839906464\n",
      "225 [-0.04  0.04  0.  ] 1.7452656459824354 1.749138849385349 1.7441882187131759\n",
      "226 [-0.04  0.04  0.01] 1.7508187549701786 1.7545068037986953 1.7499265839912805\n",
      "227 [-0.04  0.04  0.02] 1.7677104234794774 1.7707533986614763 1.7672279225944765\n",
      "228 [-0.04  0.04  0.03] 1.7963356659059668 1.798143187356711 1.7962081264305345\n",
      "229 [-0.04  0.04  0.04] 1.836736180736902 1.8367361807368123 1.8367361807366276\n",
      "230 [-0.04  0.04  0.05] 1.8862903941804108 1.888279319867027 1.8861807105473911\n",
      "231 [-0.04  0.05 -0.05] 1.9303931576943159 1.932601640062341 1.9302389286148944\n",
      "232 [-0.04  0.05 -0.04] 1.886290394180607 1.888279319867105 1.8861807105480226\n",
      "233 [-0.04  0.05 -0.03] 1.8517194110381805 1.8547583269793808 1.8513501458308914\n",
      "234 [-0.04  0.05 -0.02] 1.8273818879438855 1.8313038784353806 1.8265113960132986\n",
      "235 [-0.04  0.05 -0.01] 1.8130884852968316 1.8174630759346249 1.811720241658283\n",
      "236 [-0.04  0.05  0.  ] 1.8083953437252331 1.8128950144854388 1.8068171935919537\n",
      "237 [-0.04  0.05  0.01] 1.8130884852961167 1.8174630759329675 1.8117202416572056\n",
      "238 [-0.04  0.05  0.02] 1.8273818879433659 1.8313038784344444 1.8265113960115356\n",
      "239 [-0.04  0.05  0.03] 1.8517194110384958 1.8547583269779766 1.8513501458306711\n",
      "240 [-0.04  0.05  0.04] 1.886290394180337 1.8882793198671983 1.8861807105477455\n",
      "241 [-0.04  0.05  0.05] 1.9303931576940663 1.9326016400621082 1.9302389286147257\n",
      "242 [-0.03 -0.05 -0.05] 1.8993259160760854 1.9031565014388976 1.8987271447685936\n",
      "243 [-0.03 -0.05 -0.04] 1.8517194110382373 1.8547583269778443 1.8513501458303265\n",
      "244 [-0.03 -0.05 -0.03] 1.8145959104279026 1.8176313282066126 1.814338939053859\n",
      "245 [-0.03 -0.05 -0.02] 1.7884261002592874 1.7917000658673583 1.7878598975644096\n",
      "246 [-0.03 -0.05 -0.01] 1.7731101950716495 1.7764756032009483 1.7720576860112942\n",
      "247 [-0.03 -0.05  0.  ] 1.7681027535844391 1.7714741660919016 1.7668270380066078\n",
      "248 [-0.03 -0.05  0.01] 1.7731101950715136 1.7764756032025657 1.7720576860122197\n",
      "249 [-0.03 -0.05  0.02] 1.788426100259124 1.791700065866805 1.7878598975644504\n",
      "250 [-0.03 -0.05  0.03] 1.8145959104277916 1.8176313282063212 1.8143389390537576\n",
      "251 [-0.03 -0.05  0.04] 1.8517194110382134 1.8547583269782244 1.8513501458304482\n",
      "252 [-0.03 -0.05  0.05] 1.8993259160761875 1.9031565014395007 1.89872714476848\n",
      "253 [-0.03 -0.04 -0.05] 1.8517194110387463 1.8547583269781516 1.8513501458308923\n",
      "254 [-0.03 -0.04 -0.04] 1.7963356659058984 1.7981431873559313 1.7962081264307574\n",
      "255 [-0.03 -0.04 -0.03] 1.7521393898902726 1.7536954372132891 1.75205956335141\n",
      "256 [-0.03 -0.04 -0.02] 1.720071796712471 1.722360449608102 1.7197868035491126\n",
      "257 [-0.03 -0.04 -0.01] 1.7010072112629677 1.7038161479704366 1.7003762752011102\n",
      "258 [-0.03 -0.04  0.  ] 1.6947411765261133 1.6977010334077596 1.6939354726825\n",
      "259 [-0.03 -0.04  0.01] 1.701007211263514 1.7038161479705405 1.7003762752015614\n",
      "260 [-0.03 -0.04  0.02] 1.720071796712097 1.7223604496063771 1.7197868035482928\n",
      "261 [-0.03 -0.04  0.03] 1.7521393898903534 1.753695437213433 1.7520595633514997\n",
      "262 [-0.03 -0.04  0.04] 1.7963356659059615 1.7981431873571365 1.7962081264306544\n",
      "263 [-0.03 -0.04  0.05] 1.8517194110381148 1.8547583269777954 1.8513501458301764\n",
      "264 [-0.03 -0.03 -0.05] 1.8145959104279008 1.8176313282066907 1.8143389390537852\n"
     ]
    },
    {
     "name": "stdout",
     "output_type": "stream",
     "text": [
      "265 [-0.03 -0.03 -0.04] 1.7521393898903215 1.753695437213194 1.7520595633515317\n",
      "266 [-0.03 -0.03 -0.03] 1.7017506815154881 1.7017506815159482 1.7017506815154233\n",
      "267 [-0.03 -0.03 -0.02] 1.663734887041679 1.6650809127472206 1.6636369144369327\n",
      "268 [-0.03 -0.03 -0.01] 1.6409097571853728 1.643032849994265 1.6405712655258409\n",
      "269 [-0.03 -0.03  0.  ] 1.6333771253275176 1.6357294337997512 1.6328976631744618\n",
      "270 [-0.03 -0.03  0.01] 1.6409097571856037 1.6430328499947748 1.6405712655267175\n",
      "271 [-0.03 -0.03  0.02] 1.6637348870421915 1.6650809127470207 1.6636369144374266\n",
      "272 [-0.03 -0.03  0.03] 1.7017506815165495 1.70175068151661 1.7017506815164545\n",
      "273 [-0.03 -0.03  0.04] 1.752139389890555 1.753695437213505 1.7520595633516356\n",
      "274 [-0.03 -0.03  0.05] 1.8145959104279683 1.8176313282066854 1.814338939053851\n",
      "275 [-0.03 -0.02 -0.05] 1.7884261002595974 1.7917000658665883 1.7878598975650792\n",
      "276 [-0.03 -0.02 -0.04] 1.7200717967120225 1.7223604496064233 1.7197868035483648\n",
      "277 [-0.03 -0.02 -0.03] 1.6637348870407669 1.6650809127476247 1.6636369144375047\n",
      "278 [-0.03 -0.02 -0.02] 1.6216997440741885 1.6227560191153048 1.6216511555523079\n",
      "279 [-0.03 -0.02 -0.01] 1.5959447288152608 1.597356764843286 1.5957528946365827\n",
      "280 [-0.03 -0.02  0.  ] 1.5874203852977091 1.5889749060193399 1.5871037281639078\n",
      "281 [-0.03 -0.02  0.01] 1.5959447288151685 1.5973567648438776 1.5957528946370623\n",
      "282 [-0.03 -0.02  0.02] 1.6216997440737435 1.6227560191149806 1.6216511555524438\n",
      "283 [-0.03 -0.02  0.03] 1.6637348870422457 1.6650809127469497 1.6636369144374612\n",
      "284 [-0.03 -0.02  0.04] 1.72007179671197 1.7223604496064038 1.7197868035483017\n",
      "285 [-0.03 -0.02  0.05] 1.7884261002587545 1.7917000658658644 1.7878598975642737\n",
      "286 [-0.03 -0.01 -0.05] 1.7731101950719514 1.7764756032018223 1.7720576860124568\n",
      "287 [-0.03 -0.01 -0.04] 1.7010072112619437 1.703816147970005 1.7003762751998286\n",
      "288 [-0.03 -0.01 -0.03] 1.640909757185593 1.6430328499958797 1.6405712655270364\n",
      "289 [-0.03 -0.01 -0.02] 1.5959447288149375 1.597356764844517 1.5957528946373962\n",
      "290 [-0.03 -0.01 -0.01] 1.5686524991926465 1.5696876422300292 1.5686213610266355\n",
      "291 [-0.03 -0.01  0.  ] 1.5598019193528918 1.5605848438004593 1.5596631798078038\n",
      "292 [-0.03 -0.01  0.01] 1.5686524991930275 1.5696876422298933 1.5686213610266462\n",
      "293 [-0.03 -0.01  0.02] 1.595944728815522 1.597356764844462 1.5957528946379433\n",
      "294 [-0.03 -0.01  0.03] 1.6409097571855513 1.643032849994527 1.6405712655263933\n",
      "295 [-0.03 -0.01  0.04] 1.7010072112629269 1.7038161479704206 1.7003762752010667\n",
      "296 [-0.03 -0.01  0.05] 1.7731101950721966 1.7764756032006268 1.772057686011986\n",
      "297 [-0.03  0.   -0.05] 1.7681027535852074 1.7714741660935012 1.7668270380078592\n",
      "298 [-0.03  0.   -0.04] 1.694741176526347 1.6977010334068368 1.693935472682636\n",
      "299 [-0.03  0.   -0.03] 1.633377125328031 1.6357294338016857 1.632897663175326\n",
      "300 [-0.03  0.   -0.02] 1.5874203852975324 1.5889749060193514 1.5871037281636964\n",
      "301 [-0.03  0.   -0.01] 1.5598019193527017 1.5605848438008634 1.559663179807539\n",
      "302 [-0.03  0.    0.  ] 1.551154168904029 1.55115416890429 1.5511541689040254\n",
      "303 [-0.03  0.    0.01] 1.5598019193533377 1.5605848438007994 1.559663179807953\n",
      "304 [-0.03  0.    0.02] 1.5874203852978308 1.5889749060194518 1.587103728164137\n",
      "305 [-0.03  0.    0.03] 1.6333771253282867 1.6357294338002522 1.6328976631748224\n",
      "306 [-0.03  0.    0.04] 1.6947411765265707 1.6977010334053846 1.6939354726823046\n",
      "307 [-0.03  0.    0.05] 1.7681027535831708 1.7714741660896731 1.7668270380054976\n",
      "308 [-0.03  0.01 -0.05] 1.7731101950716557 1.7764756032005753 1.7720576860115802\n",
      "309 [-0.03  0.01 -0.04] 1.7010072112629624 1.7038161479703913 1.7003762752010427\n",
      "310 [-0.03  0.01 -0.03] 1.6409097571862565 1.6430328499950173 1.6405712655273321\n",
      "311 [-0.03  0.01 -0.02] 1.5959447288147874 1.5973567648444726 1.5957528946372923\n",
      "312 [-0.03  0.01 -0.01] 1.5686524991930595 1.5696876422298036 1.5686213610266542\n",
      "313 [-0.03  0.01  0.  ] 1.55980191935324 1.560584843800573 1.5596631798079965\n",
      "314 [-0.03  0.01  0.01] 1.5686524991929298 1.5696876422298498 1.5686213610264614\n",
      "315 [-0.03  0.01  0.02] 1.5959447288149269 1.5973567648444558 1.595752894637375\n",
      "316 [-0.03  0.01  0.03] 1.6409097571854616 1.6430328499947393 1.6405712655266784\n",
      "317 [-0.03  0.01  0.04] 1.7010072112629437 1.7038161479702785 1.7003762752010418\n",
      "318 [-0.03  0.01  0.05] 1.7731101950721255 1.7764756032007254 1.7720576860116326\n",
      "319 [-0.03  0.02 -0.05] 1.7884261002595734 1.7917000658685414 1.7878598975649105\n",
      "320 [-0.03  0.02 -0.04] 1.7200717967119585 1.7223604496063682 1.7197868035482955\n",
      "321 [-0.03  0.02 -0.03] 1.6637348870425308 1.6650809127471637 1.6636369144377845\n",
      "322 [-0.03  0.02 -0.02] 1.6216997440738519 1.6227560191147683 1.6216511555522208\n",
      "323 [-0.03  0.02 -0.01] 1.5959447288151276 1.5973567648441822 1.595752894637255\n",
      "324 [-0.03  0.02  0.  ] 1.5874203852978042 1.5889749060196232 1.5871037281640303\n",
      "325 [-0.03  0.02  0.01] 1.595944728814839 1.5973567648446254 1.5957528946373882\n",
      "326 [-0.03  0.02  0.02] 1.6216997440737702 1.6227560191148767 1.6216511555521578\n",
      "327 [-0.03  0.02  0.03] 1.6637348870426338 1.6650809127476158 1.6636369144379612\n",
      "328 [-0.03  0.02  0.04] 1.720071796712058 1.7223604496062457 1.7197868035482475\n",
      "329 [-0.03  0.02  0.05] 1.7884261002588238 1.7917000658662854 1.7878598975643056\n",
      "330 [-0.03  0.03 -0.05] 1.814595910427876 1.8176313282067236 1.8143389390538394\n",
      "331 [-0.03  0.03 -0.04] 1.7521393898908384 1.7536954372144233 1.752059563352213\n",
      "332 [-0.03  0.03 -0.03] 1.7017506815164127 1.7017506815164518 1.7017506815163728\n",
      "333 [-0.03  0.03 -0.02] 1.6637348870421613 1.665080912746908 1.6636369144374337\n",
      "334 [-0.03  0.03 -0.01] 1.6409097571861828 1.6430328499948397 1.6405712655272398\n",
      "335 [-0.03  0.03  0.  ] 1.6333771253283658 1.6357294338005488 1.6328976631750676\n",
      "336 [-0.03  0.03  0.01] 1.6409097571857183 1.6430328499947038 1.6405712655267637\n",
      "337 [-0.03  0.03  0.02] 1.6637348870417448 1.665080912748051 1.663636914437352\n",
      "338 [-0.03  0.03  0.03] 1.7017506815159047 1.701750681516402 1.7017506815158256\n",
      "339 [-0.03  0.03  0.04] 1.7521393898902486 1.7536954372130014 1.7520595633514109\n",
      "340 [-0.03  0.03  0.05] 1.8145959104278706 1.8176313282066072 1.8143389390537585\n",
      "341 [-0.03  0.04 -0.05] 1.8517194110382489 1.854758326977839 1.8513501458302963\n",
      "342 [-0.03  0.04 -0.04] 1.796335665905997 1.7981431873576748 1.7962081264306429\n",
      "343 [-0.03  0.04 -0.03] 1.752139389890349 1.7536954372133486 1.7520595633514668\n",
      "344 [-0.03  0.04 -0.02] 1.720071796711978 1.7223604496060014 1.719786803548165\n",
      "345 [-0.03  0.04 -0.01] 1.7010072112621373 1.7038161479701595 1.7003762752003588\n",
      "346 [-0.03  0.04  0.  ] 1.6947411765267253 1.6977010334064158 1.6939354726828295\n",
      "347 [-0.03  0.04  0.01] 1.7010072112625236 1.7038161479690173 1.7003762751999156\n",
      "348 [-0.03  0.04  0.02] 1.7200717967119807 1.7223604496063407 1.719786803548348\n",
      "349 [-0.03  0.04  0.03] 1.7521393898900932 1.753695437214824 1.7520595633514668\n",
      "350 [-0.03  0.04  0.04] 1.7963356659055876 1.7981431873573328 1.7962081264302565\n",
      "351 [-0.03  0.04  0.05] 1.8517194110381423 1.8547583269770387 1.851350145830411\n",
      "352 [-0.03  0.05 -0.05] 1.899325916075541 1.9031565014391445 1.8987271447681824\n",
      "353 [-0.03  0.05 -0.04] 1.8517194110386814 1.85475832697791 1.8513501458307298\n",
      "354 [-0.03  0.05 -0.03] 1.8145959104280633 1.817631328206713 1.8143389390539921\n",
      "355 [-0.03  0.05 -0.02] 1.7884261002603266 1.7917000658674116 1.7878598975654922\n",
      "356 [-0.03  0.05 -0.01] 1.7731101950720927 1.7764756032016287 1.7720576860121486\n",
      "357 [-0.03  0.05  0.  ] 1.7681027535854659 1.7714741660925375 1.7668270380079925\n",
      "358 [-0.03  0.05  0.01] 1.7731101950715304 1.776475603200451 1.7720576860117117\n",
      "359 [-0.03  0.05  0.02] 1.788426100260092 1.7917000658673983 1.7878598975656228\n",
      "360 [-0.03  0.05  0.03] 1.814595910428901 1.8176313282066374 1.8143389390548794\n",
      "361 [-0.03  0.05  0.04] 1.8517194110382675 1.8547583269778727 1.8513501458303718\n",
      "362 [-0.03  0.05  0.05] 1.8993259160759584 1.9031565014385352 1.8987271447680714\n",
      "363 [-0.02 -0.05 -0.05] 1.8776416115814776 1.882482415070978 1.8764347953705034\n",
      "364 [-0.02 -0.05 -0.04] 1.827381887943278 1.8313038784349676 1.826511396011906\n",
      "365 [-0.02 -0.05 -0.03] 1.7884261002590183 1.7917000658667481 1.787859897564326\n",
      "366 [-0.02 -0.05 -0.02] 1.7610577792999234 1.764168414921496 1.7608512648602588\n",
      "367 [-0.02 -0.05 -0.01] 1.7453770894119671 1.7479677604875974 1.744807147714143\n",
      "368 [-0.02 -0.05  0.  ] 1.7403295719475471 1.7426590179641694 1.739511350864789\n",
      "369 [-0.02 -0.05  0.01] 1.745377089412 1.7479677604876178 1.7448071477141385\n",
      "370 [-0.02 -0.05  0.02] 1.7610577792997981 1.7641684149199124 1.760851264860202\n",
      "371 [-0.02 -0.05  0.03] 1.7884261002591444 1.7917000658670066 1.7878598975644513\n",
      "372 [-0.02 -0.05  0.04] 1.8273818879434964 1.8313038784352091 1.826511396012437\n",
      "373 [-0.02 -0.05  0.05] 1.8776416115811596 1.8824824150720083 1.8764347953701472\n",
      "374 [-0.02 -0.04 -0.05] 1.8273818879443189 1.8313038784353068 1.826511396012954\n",
      "375 [-0.02 -0.04 -0.04] 1.7677104234802776 1.7707533986627277 1.7672279225959135\n",
      "376 [-0.02 -0.04 -0.03] 1.7200717967119186 1.7223604496065263 1.7197868035480592\n",
      "377 [-0.02 -0.04 -0.02] 1.6856634994977453 1.6877721026826533 1.6855272617262385\n",
      "378 [-0.02 -0.04 -0.01] 1.665296921509868 1.6673280353335906 1.6649222970531437\n",
      "379 [-0.02 -0.04  0.  ] 1.6586497937223266 1.6606263249549595 1.6580918051057534\n",
      "380 [-0.02 -0.04  0.01] 1.6652969215090137 1.6673280353321696 1.6649222970518744\n",
      "381 [-0.02 -0.04  0.02] 1.6856634994958544 1.6877721026830885 1.6855272617246388\n",
      "382 [-0.02 -0.04  0.03] 1.7200717967119346 1.7223604496063336 1.7197868035482449\n",
      "383 [-0.02 -0.04  0.04] 1.7677104234802314 1.7707533986629853 1.7672279225961365\n",
      "384 [-0.02 -0.04  0.05] 1.8273818879433392 1.8313038784361 1.82651139601278\n",
      "385 [-0.02 -0.03 -0.05] 1.7884261002589632 1.7917000658670972 1.787859897564429\n",
      "386 [-0.02 -0.03 -0.04] 1.720071796711622 1.7223604496066791 1.7197868035483994\n",
      "387 [-0.02 -0.03 -0.03] 1.6637348870415405 1.6650809127465989 1.6636369144370535\n",
      "388 [-0.02 -0.03 -0.02] 1.6216997440758085 1.6227560191159194 1.6216511555548463\n",
      "389 [-0.02 -0.03 -0.01] 1.5959447288141009 1.5973567648443474 1.5957528946363668\n",
      "390 [-0.02 -0.03  0.  ] 1.5874203852977473 1.5889749060188727 1.5871037281632256\n",
      "391 [-0.02 -0.03  0.01] 1.5959447288155246 1.597356764844724 1.5957528946380029\n",
      "392 [-0.02 -0.03  0.02] 1.621699744074255 1.6227560191152133 1.6216511555527804\n",
      "393 [-0.02 -0.03  0.03] 1.6637348870428683 1.6650809127468182 1.6636369144375802\n",
      "394 [-0.02 -0.03  0.04] 1.7200717967117205 1.722360449606044 1.7197868035479065\n",
      "395 [-0.02 -0.03  0.05] 1.7884261002591426 1.7917000658667455 1.7878598975644744\n",
      "396 [-0.02 -0.02 -0.05] 1.7610577792998745 1.7641684149204293 1.760851264860686\n",
      "397 [-0.02 -0.02 -0.04] 1.6856634994977782 1.6877721026826231 1.6855272617256833\n",
      "398 [-0.02 -0.02 -0.03] 1.6216997440736831 1.6227560191147443 1.6216511555520574\n",
      "399 [-0.02 -0.02 -0.02] 1.5727162424108059 1.5727162424126853 1.572716242410781\n",
      "400 [-0.02 -0.02 -0.01] 1.541442191814589 1.5422330474704546 1.5413779297414143\n",
      "401 [-0.02 -0.02  0.  ] 1.530999665172355 1.5320383112083782 1.5308525206014627\n",
      "402 [-0.02 -0.02  0.01] 1.541442191814454 1.5422330474702566 1.5413779297410963\n",
      "403 [-0.02 -0.02  0.02] 1.572716242410011 1.5727162424101273 1.5727162424100074\n",
      "404 [-0.02 -0.02  0.03] 1.6216997440738714 1.6227560191148118 1.6216511555522946\n",
      "405 [-0.02 -0.02  0.04] 1.6856634994988946 1.687772102682242 1.6855272617266843\n",
      "406 [-0.02 -0.02  0.05] 1.7610577793000024 1.7641684149199373 1.7608512648599026\n",
      "407 [-0.02 -0.01 -0.05] 1.7453770894123561 1.7479677604875654 1.7448071477146465\n",
      "408 [-0.02 -0.01 -0.04] 1.66529692150847 1.6673280353324698 1.6649222970515032\n",
      "409 [-0.02 -0.01 -0.03] 1.5959447288150272 1.597356764844604 1.5957528946374024\n",
      "410 [-0.02 -0.01 -0.02] 1.5414421918148093 1.5422330474708605 1.541377929741449\n",
      "411 [-0.02 -0.01 -0.01] 1.5067302845641768 1.5072078737866654 1.5067130711171313\n",
      "412 [-0.02 -0.01  0.  ] 1.4950958965176842 1.4955711334501336 1.4950246585539073\n",
      "413 [-0.02 -0.01  0.01] 1.5067302845641146 1.5072078737896204 1.5067130711170176\n",
      "414 [-0.02 -0.01  0.02] 1.5414421918143697 1.5422330474703703 1.5413779297411914\n",
      "415 [-0.02 -0.01  0.03] 1.5959447288146809 1.5973567648444105 1.595752894637151\n",
      "416 [-0.02 -0.01  0.04] 1.6652969215097002 1.667328035333365 1.664922297052649\n",
      "417 [-0.02 -0.01  0.05] 1.7453770894121439 1.747967760487283 1.7448071477136757\n",
      "418 [-0.02  0.   -0.05] 1.740329571947349 1.7426590179620236 1.739511350864249\n",
      "419 [-0.02  0.   -0.04] 1.6586497937226046 1.6606263249547908 1.6580918051071665\n",
      "420 [-0.02  0.   -0.03] 1.5874203852983788 1.588974906019577 1.5871037281642\n",
      "421 [-0.02  0.   -0.02] 1.530999665171672 1.5320383112073088 1.530852520600293\n",
      "422 [-0.02  0.   -0.01] 1.4950958965180234 1.4955711334499977 1.4950246585534197\n",
      "423 [-0.02  0.    0.  ] 1.4834482031708172 1.483448203170295 1.4834482031702292\n",
      "424 [-0.02  0.    0.01] 1.4950958965161165 1.4955711334502606 1.4950246585522988\n",
      "425 [-0.02  0.    0.02] 1.530999665171782 1.532038311207418 1.5308525206002983\n",
      "426 [-0.02  0.    0.03] 1.5874203852962827 1.5889749060187937 1.587103728162428\n",
      "427 [-0.02  0.    0.04] 1.6586497937215734 1.6606263249544782 1.6580918051058324\n",
      "428 [-0.02  0.    0.05] 1.7403295719471936 1.7426590179611168 1.7395113508641415\n",
      "429 [-0.02  0.01 -0.05] 1.7453770894123757 1.747967760487552 1.744807147714476\n",
      "430 [-0.02  0.01 -0.04] 1.6652969215098166 1.6673280353335578 1.664922297053053\n",
      "431 [-0.02  0.01 -0.03] 1.595944728815982 1.5973567648446743 1.5957528946382888\n",
      "432 [-0.02  0.01 -0.02] 1.5414421918144834 1.5422330474702717 1.54137792974133\n",
      "433 [-0.02  0.01 -0.01] 1.506730284565755 1.5072078737871966 1.5067130711183996\n",
      "434 [-0.02  0.01  0.  ] 1.49509589651751 1.4955711334513078 1.4950246585541054\n",
      "435 [-0.02  0.01  0.01] 1.5067302845642292 1.5072078737869647 1.506713071116848\n",
      "436 [-0.02  0.01  0.02] 1.5414421918139718 1.5422330474694252 1.5413779297405101\n",
      "437 [-0.02  0.01  0.03] 1.5959447288156312 1.5973567648439504 1.595752894637367\n",
      "438 [-0.02  0.01  0.04] 1.6652969215098876 1.6673280353335995 1.664922297053125\n",
      "439 [-0.02  0.01  0.05] 1.7453770894119742 1.7479677604875743 1.7448071477140887\n",
      "440 [-0.02  0.02 -0.05] 1.7610577792995752 1.7641684149192889 1.760851264859192\n",
      "441 [-0.02  0.02 -0.04] 1.685663499497477 1.6877721026833283 1.6855272617262722\n",
      "442 [-0.02  0.02 -0.03] 1.6216997440738794 1.6227560191147408 1.6216511555522066\n",
      "443 [-0.02  0.02 -0.02] 1.5727162424101389 1.5727162424102339 1.5727162424101166\n",
      "444 [-0.02  0.02 -0.01] 1.54144219181436 1.5422330474707886 1.5413779297414356\n",
      "445 [-0.02  0.02  0.  ] 1.5309996651692135 1.532038311207323 1.5308525205981978\n",
      "446 [-0.02  0.02  0.01] 1.541442191814463 1.5422330474708819 1.5413779297411088\n",
      "447 [-0.02  0.02  0.02] 1.5727162424101175 1.5727162424100802 1.5727162424098307\n",
      "448 [-0.02  0.02  0.03] 1.621699744073526 1.622756019114437 1.6216511555517235\n",
      "449 [-0.02  0.02  0.04] 1.6856634994976831 1.6877721026832022 1.6855272617260288\n",
      "450 [-0.02  0.02  0.05] 1.761057779299649 1.7641684149200794 1.7608512648602126\n",
      "451 [-0.02  0.03 -0.05] 1.7884261002590973 1.7917000658667481 1.787859897564383\n",
      "452 [-0.02  0.03 -0.04] 1.720071796711613 1.7223604496061622 1.719786803548641\n",
      "453 [-0.02  0.03 -0.03] 1.6637348870422377 1.6650809127469568 1.6636369144374203\n",
      "454 [-0.02  0.03 -0.02] 1.6216997440739496 1.62275601911473 1.6216511555522857\n",
      "455 [-0.02  0.03 -0.01] 1.5959447288145396 1.597356764844128 1.595752894637073\n",
      "456 [-0.02  0.03  0.  ] 1.5874203852974285 1.588974906018791 1.5871037281633322\n",
      "457 [-0.02  0.03  0.01] 1.595944728815228 1.59735676484493 1.5957528946377746\n",
      "458 [-0.02  0.03  0.02] 1.6216997440743093 1.6227560191154184 1.6216511555520894\n",
      "459 [-0.02  0.03  0.03] 1.6637348870424304 1.6650809127469879 1.6636369144376602\n",
      "460 [-0.02  0.03  0.04] 1.7200717967120323 1.7223604496061453 1.7197868035484642\n",
      "461 [-0.02  0.03  0.05] 1.7884261002590867 1.791700065866789 1.78785989756435\n",
      "462 [-0.02  0.04 -0.05] 1.8273818879432895 1.8313038784345963 1.82651139601208\n",
      "463 [-0.02  0.04 -0.04] 1.7677104234802474 1.770753398662757 1.7672279225959375\n",
      "464 [-0.02  0.04 -0.03] 1.7200717967122667 1.7223604496069322 1.7197868035485673\n",
      "465 [-0.02  0.04 -0.02] 1.6856634994984452 1.6877721026836712 1.6855272617263477\n",
      "466 [-0.02  0.04 -0.01] 1.6652969215099116 1.6673280353334796 1.664922297053086\n",
      "467 [-0.02  0.04  0.  ] 1.6586497937216906 1.6606263249541948 1.658091805105144\n",
      "468 [-0.02  0.04  0.01] 1.6652969215097704 1.6673280353333375 1.6649222970531294\n",
      "469 [-0.02  0.04  0.02] 1.6856634994982933 1.687772102684142 1.6855272617271098\n",
      "470 [-0.02  0.04  0.03] 1.7200717967119896 1.722360449606363 1.719786803548324\n",
      "471 [-0.02  0.04  0.04] 1.7677104234802856 1.7707533986631878 1.7672279225959455\n",
      "472 [-0.02  0.04  0.05] 1.8273818879424484 1.8313038784347118 1.8265113960109476\n",
      "473 [-0.02  0.05 -0.05] 1.87764161158145 1.8824824150704282 1.876434795369736\n",
      "474 [-0.02  0.05 -0.04] 1.827381887943801 1.8313038784349036 1.8265113960120773\n",
      "475 [-0.02  0.05 -0.03] 1.7884261002591488 1.7917000658667623 1.7878598975644122\n",
      "476 [-0.02  0.05 -0.02] 1.7610577792998585 1.7641684149198493 1.76085126486021\n",
      "477 [-0.02  0.05 -0.01] 1.7453770894118925 1.747967760487481 1.7448071477140044\n",
      "478 [-0.02  0.05  0.  ] 1.7403295719476848 1.7426590179616888 1.7395113508641877\n",
      "479 [-0.02  0.05  0.01] 1.7453770894110132 1.7479677604880033 1.7448071477144742\n",
      "480 [-0.02  0.05  0.02] 1.7610577793004705 1.7641684149206176 1.7608512648609533\n",
      "481 [-0.02  0.05  0.03] 1.7884261002594943 1.79170006586767 1.7878598975652196\n",
      "482 [-0.02  0.05  0.04] 1.8273818879432433 1.8313038784355058 1.8265113960123633\n",
      "483 [-0.02  0.05  0.05] 1.877641611581442 1.8824824150704371 1.876434795370172\n",
      "484 [-0.01 -0.05 -0.05] 1.8649149436742052 1.8702569385131493 1.8631753270907545\n",
      "485 [-0.01 -0.05 -0.04] 1.8130884852972882 1.8174630759322499 1.8117202416583806\n",
      "486 [-0.01 -0.05 -0.03] 1.7731101950721255 1.7764756032015363 1.7720576860122446\n",
      "487 [-0.01 -0.05 -0.02] 1.745377089412533 1.747967760487601 1.7448071477140479\n",
      "488 [-0.01 -0.05 -0.01] 1.7294966872032411 1.7315776227993407 1.7294858726852027\n",
      "489 [-0.01 -0.05  0.  ] 1.7246966901128769 1.7260168917284737 1.724426164215422\n",
      "490 [-0.01 -0.05  0.01] 1.7294966872032917 1.731577622799196 1.7294858726851157\n",
      "491 [-0.01 -0.05  0.02] 1.7453770894119263 1.747967760487584 1.7448071477140612\n",
      "492 [-0.01 -0.05  0.03] 1.7731101950721602 1.7764756031994056 1.7720576860120696\n",
      "493 [-0.01 -0.05  0.04] 1.8130884852965972 1.8174630759333805 1.8117202416574711\n",
      "494 [-0.01 -0.05  0.05] 1.8649149436732966 1.870256938512262 1.863175327090131\n",
      "495 [-0.01 -0.04 -0.05] 1.8130884852966513 1.8174630759335582 1.8117202416576808\n",
      "496 [-0.01 -0.04 -0.04] 1.7508187549701626 1.7545068037990141 1.749926583991316\n",
      "497 [-0.01 -0.04 -0.03] 1.7010072112630379 1.703816147969702 1.7003762752005382\n",
      "498 [-0.01 -0.04 -0.02] 1.665296921509781 1.6673280353334068 1.6649222970529562\n",
      "499 [-0.01 -0.04 -0.01] 1.6443574565550731 1.645936904278889 1.6443296239494538\n",
      "500 [-0.01 -0.04  0.  ] 1.6377783621490298 1.6388468610349305 1.6375728205588898\n",
      "501 [-0.01 -0.04  0.01] 1.6443574565548582 1.6459369042770993 1.6443296239479563\n",
      "502 [-0.01 -0.04  0.02] 1.66529692150986 1.667328035333762 1.6649222970531152\n",
      "503 [-0.01 -0.04  0.03] 1.7010072112627546 1.703816147970099 1.7003762752007665\n",
      "504 [-0.01 -0.04  0.04] 1.7508187549704353 1.7545068037977734 1.7499265839906544\n",
      "505 [-0.01 -0.04  0.05] 1.813088485296391 1.817463075934178 1.8117202416587457\n",
      "506 [-0.01 -0.03 -0.05] 1.7731101950727215 1.7764756032029192 1.772057686013107\n",
      "507 [-0.01 -0.03 -0.04] 1.7010072112633479 1.703816147970282 1.700376275201556\n",
      "508 [-0.01 -0.03 -0.03] 1.6409097571850406 1.6430328499945048 1.640571265526285\n",
      "509 [-0.01 -0.03 -0.02] 1.5959447288149011 1.5973567648444202 1.5957528946373598\n",
      "510 [-0.01 -0.03 -0.01] 1.5686524991932256 1.569687642226489 1.5686213610260884\n",
      "511 [-0.01 -0.03  0.  ] 1.5598019193515995 1.5605848438002932 1.5596631798065603\n",
      "512 [-0.01 -0.03  0.01] 1.568652499193199 1.5696876422306145 1.5686213610271444\n",
      "513 [-0.01 -0.03  0.02] 1.5959447288143176 1.5973567648445712 1.5957528946372408\n",
      "514 [-0.01 -0.03  0.03] 1.640909757185593 1.6430328499947633 1.6405712655267228\n",
      "515 [-0.01 -0.03  0.04] 1.7010072112628967 1.7038161479705076 1.7003762752011236\n",
      "516 [-0.01 -0.03  0.05] 1.7731101950714176 1.7764756032011828 1.7720576860117818\n",
      "517 [-0.01 -0.02 -0.05] 1.7453770894116758 1.7479677604870574 1.7448071477134963\n",
      "518 [-0.01 -0.02 -0.04] 1.6652969215102713 1.6673280353344397 1.664922297053712\n",
      "519 [-0.01 -0.02 -0.03] 1.5959447288149349 1.5973567648444753 1.5957528946373767\n",
      "520 [-0.01 -0.02 -0.02] 1.5414421918144372 1.5422330474701624 1.5413779297408885\n",
      "521 [-0.01 -0.02 -0.01] 1.5067302845633233 1.5072078737870092 1.506713071117499\n",
      "522 [-0.01 -0.02  0.  ] 1.4950958965183876 1.4955711334504436 1.495024658554743\n",
      "523 [-0.01 -0.02  0.01] 1.5067302845645063 1.5072078737869266 1.5067130711174581\n",
      "524 [-0.01 -0.02  0.02] 1.54144219181451 1.5422330474704404 1.54137792974106\n",
      "525 [-0.01 -0.02  0.03] 1.5959447288147652 1.5973567648443314 1.5957528946372683\n",
      "526 [-0.01 -0.02  0.04] 1.6652969215107696 1.66732803533358 1.6649222970536606\n",
      "527 [-0.01 -0.02  0.05] 1.745377089412032 1.747967760487362 1.7448071477138578\n",
      "528 [-0.01 -0.01 -0.05] 1.7294966872033912 1.7315776227991524 1.729485872685208\n",
      "529 [-0.01 -0.01 -0.04] 1.6443574565552286 1.645936904278983 1.6443296239491714\n",
      "530 [-0.01 -0.01 -0.03] 1.5686524991937185 1.5696876422300692 1.568621361027299\n",
      "531 [-0.01 -0.01 -0.02] 1.5067302845642185 1.5072078737868804 1.506713071117316\n",
      "532 [-0.01 -0.01 -0.01] 1.4653117968285958 1.4653117968281988 1.4653117968278746\n",
      "533 [-0.01 -0.01  0.  ] 1.4508904087055061 1.4510806084682013 1.4508716470686576\n",
      "534 [-0.01 -0.01  0.01] 1.4653117968288 1.46531179682884 1.4653117968287592\n",
      "535 [-0.01 -0.01  0.02] 1.5067302845641777 1.5072078737860117 1.50671307111672\n",
      "536 [-0.01 -0.01  0.03] 1.568652499192603 1.5696876422295256 1.5686213610261373\n",
      "537 [-0.01 -0.01  0.04] 1.6443574565551042 1.6459369042789564 1.6443296239498268\n",
      "538 [-0.01 -0.01  0.05] 1.7294966872035955 1.7315776227999118 1.7294858726855047\n",
      "539 [-0.01  0.   -0.05] 1.7246966901127356 1.726016891727662 1.7244261642151546\n",
      "540 [-0.01  0.   -0.04] 1.6377783621484285 1.6388468610348932 1.6375728205593578\n",
      "541 [-0.01  0.   -0.03] 1.5598019193529709 1.5605848438004326 1.5596631798073766\n",
      "542 [-0.01  0.   -0.02] 1.4950958965178254 1.4955711334494683 1.4950246585533051\n",
      "543 [-0.01  0.   -0.01] 1.4508904087055274 1.4510806084681942 1.4508716470678742\n",
      "544 [-0.01  0.    0.  ] 1.4357399023321822 1.4357399023314699 1.4357399023311999\n",
      "545 [-0.01  0.    0.01] 1.450890408706158 1.4510806084679135 1.4508716470684888\n",
      "546 [-0.01  0.    0.02] 1.4950958965168342 1.4955711334494408 1.4950246585531959\n",
      "547 [-0.01  0.    0.03] 1.5598019193527035 1.5605848438000791 1.5596631798071368\n",
      "548 [-0.01  0.    0.04] 1.6377783621485573 1.638846861035102 1.6375728205593472\n",
      "549 [-0.01  0.    0.05] 1.7246966901124354 1.7260168917269842 1.7244261642148908\n",
      "550 [-0.01  0.01 -0.05] 1.7294966872037651 1.7315776227994792 1.7294858726856468\n",
      "551 [-0.01  0.01 -0.04] 1.644357456555106 1.6459369042789334 1.6443296239497718\n",
      "552 [-0.01  0.01 -0.03] 1.5686524991930169 1.5696876422297787 1.5686213610265378\n",
      "553 [-0.01  0.01 -0.02] 1.5067302845638268 1.5072078737869434 1.5067130711168897\n",
      "554 [-0.01  0.01 -0.01] 1.4653117968283604 1.4653117968286624 1.4653117968275575\n",
      "555 [-0.01  0.01  0.  ] 1.4508904087060994 1.4510806084678318 1.450871647068456\n",
      "556 [-0.01  0.01  0.01] 1.465311796828776 1.4653117968293259 1.4653117968286757\n",
      "557 [-0.01  0.01  0.02] 1.5067302845653643 1.5072078737864718 1.5067130711178605\n",
      "558 [-0.01  0.01  0.03] 1.5686524991924964 1.5696876422285841 1.5686213610259978\n",
      "559 [-0.01  0.01  0.04] 1.6443574565550572 1.6459369042788445 1.6443296239497078\n",
      "560 [-0.01  0.01  0.05] 1.7294966872032687 1.7315776227993425 1.7294858726851503\n",
      "561 [-0.01  0.02 -0.05] 1.745377089413589 1.747967760488124 1.744807147715445\n"
     ]
    },
    {
     "name": "stdout",
     "output_type": "stream",
     "text": [
      "562 [-0.01  0.02 -0.04] 1.6652969215097269 1.6673280353335205 1.664922297053094\n",
      "563 [-0.01  0.02 -0.03] 1.5959447288142483 1.5973567648444922 1.5957528946366963\n",
      "564 [-0.01  0.02 -0.02] 1.541442191815193 1.5422330474705355 1.541377929742012\n",
      "565 [-0.01  0.02 -0.01] 1.5067302845639627 1.5072078737866796 1.5067130711168781\n",
      "566 [-0.01  0.02  0.  ] 1.4950958965191194 1.4955711334505688 1.4950246585551366\n",
      "567 [-0.01  0.02  0.01] 1.5067302845637114 1.5072078737870873 1.5067130711165513\n",
      "568 [-0.01  0.02  0.02] 1.5414421918153698 1.5422330474707735 1.541377929743077\n",
      "569 [-0.01  0.02  0.03] 1.5959447288149127 1.597356764844581 1.5957528946373447\n",
      "570 [-0.01  0.02  0.04] 1.6652969215087277 1.667328035333207 1.6649222970522368\n",
      "571 [-0.01  0.02  0.05] 1.7453770894115523 1.747967760487497 1.7448071477138187\n",
      "572 [-0.01  0.03 -0.05] 1.7731101950721264 1.7764756032012663 1.7720576860119968\n",
      "573 [-0.01  0.03 -0.04] 1.7010072112629029 1.7038161479701541 1.7003762752006146\n",
      "574 [-0.01  0.03 -0.03] 1.6409097571850069 1.6430328499943068 1.64057126552688\n",
      "575 [-0.01  0.03 -0.02] 1.5959447288149562 1.597356764844327 1.5957528946371404\n",
      "576 [-0.01  0.03 -0.01] 1.5686524991934707 1.569687642230691 1.5686213610279633\n",
      "577 [-0.01  0.03  0.  ] 1.559801919353177 1.5605848438019505 1.5596631798077842\n",
      "578 [-0.01  0.03  0.01] 1.5686524991931519 1.5696876422301358 1.5686213610274269\n",
      "579 [-0.01  0.03  0.02] 1.5959447288149455 1.5973567648440516 1.5957528946368873\n",
      "580 [-0.01  0.03  0.03] 1.6409097571848692 1.6430328499945892 1.6405712655264262\n",
      "581 [-0.01  0.03  0.04] 1.701007211262957 1.7038161479704153 1.7003762752010774\n",
      "582 [-0.01  0.03  0.05] 1.7731101950718315 1.7764756032011944 1.7720576860118724\n",
      "583 [-0.01  0.04 -0.05] 1.8130884852978353 1.8174630759340076 1.811720241658585\n",
      "584 [-0.01  0.04 -0.04] 1.7508187549702061 1.7545068037986438 1.7499265839910354\n",
      "585 [-0.01  0.04 -0.03] 1.7010072112623362 1.7038161479698184 1.7003762752001599\n",
      "586 [-0.01  0.04 -0.02] 1.6652969215098148 1.6673280353336537 1.664922297053117\n",
      "587 [-0.01  0.04 -0.01] 1.6443574565548236 1.6459369042787682 1.644329623950238\n",
      "588 [-0.01  0.04  0.  ] 1.6377783621487065 1.6388468610351374 1.6375728205595133\n",
      "589 [-0.01  0.04  0.01] 1.6443574565553893 1.645936904279261 1.6443296239495746\n",
      "590 [-0.01  0.04  0.02] 1.665296921509868 1.6673280353339388 1.664922297053118\n",
      "591 [-0.01  0.04  0.03] 1.7010072112618104 1.7038161479698903 1.7003762752002478\n",
      "592 [-0.01  0.04  0.04] 1.7508187549708287 1.7545068037983143 1.7499265839907086\n",
      "593 [-0.01  0.04  0.05] 1.8130884852965838 1.817463075932415 1.811720241657877\n",
      "594 [-0.01  0.05 -0.05] 1.864914943673658 1.8702569385124495 1.8631753270901639\n",
      "595 [-0.01  0.05 -0.04] 1.8130884852970919 1.8174630759324115 1.8117202416568805\n",
      "596 [-0.01  0.05 -0.03] 1.7731101950708696 1.7764756032010274 1.7720576860109718\n",
      "597 [-0.01  0.05 -0.02] 1.7453770894119351 1.747967760487625 1.7448071477140976\n",
      "598 [-0.01  0.05 -0.01] 1.7294966872033122 1.7315776227992226 1.7294858726850473\n",
      "599 [-0.01  0.05  0.  ] 1.72469669011267 1.7260168917285785 1.7244261642154104\n",
      "600 [-0.01  0.05  0.01] 1.7294966872035467 1.7315776227984312 1.729485872685303\n",
      "601 [-0.01  0.05  0.02] 1.7453770894117815 1.7479677604871213 1.7448071477136065\n",
      "602 [-0.01  0.05  0.03] 1.7731101950712524 1.7764756032006197 1.7720576860108324\n",
      "603 [-0.01  0.05  0.04] 1.8130884852960065 1.817463075933353 1.8117202416574463\n",
      "604 [-0.01  0.05  0.05] 1.864914943673802 1.8702569385098533 1.8631753270892624\n",
      "605 [ 0.   -0.05 -0.05] 1.8607301032773238 1.8662153257243173 1.8587778784835907\n",
      "606 [ 0.   -0.05 -0.04] 1.8083953437263878 1.812895014486367 1.806817193593405\n",
      "607 [ 0.   -0.05 -0.03] 1.768102753584401 1.7714741660915712 1.7668270380071727\n",
      "608 [ 0.   -0.05 -0.02] 1.7403295719467478 1.7426590179621373 1.7395113508639959\n",
      "609 [ 0.   -0.05 -0.01] 1.7246966901127623 1.7260168917276513 1.724426164215144\n",
      "610 [ 0.   -0.05  0.  ] 1.7202073374420692 1.7202073374421616 1.7202073374420168\n",
      "611 [ 0.   -0.05  0.01] 1.724696690112193 1.7260168917277774 1.7244261642153562\n",
      "612 [ 0.   -0.05  0.02] 1.7403295719468757 1.7426590179605617 1.7395113508622542\n",
      "613 [ 0.   -0.05  0.03] 1.7681027535841913 1.7714741660926956 1.7668270380075022\n",
      "614 [ 0.   -0.05  0.04] 1.808395343724957 1.8128950144857274 1.8068171935913488\n",
      "615 [ 0.   -0.05  0.05] 1.8607301032767332 1.8662153257222602 1.8587778784826705\n",
      "616 [ 0.   -0.04 -0.05] 1.8083953437246736 1.8128950144849139 1.806817193591411\n",
      "617 [ 0.   -0.04 -0.04] 1.745265645983367 1.7491388493862585 1.7441882187133615\n",
      "618 [ 0.   -0.04 -0.03] 1.6947411765262412 1.6977010334073892 1.693935472682342\n",
      "619 [ 0.   -0.04 -0.02] 1.6586497937222102 1.660626324956306 1.658091805107473\n",
      "620 [ 0.   -0.04 -0.01] 1.6377783621487323 1.6388468610347502 1.6375728205595035\n",
      "621 [ 0.   -0.04  0.  ] 1.6314836188350048 1.6314836188351078 1.631483618834844\n",
      "622 [ 0.   -0.04  0.01] 1.6377783621487003 1.6388468610352627 1.6375728205594529\n",
      "623 [ 0.   -0.04  0.02] 1.6586497937217963 1.6606263249546602 1.6580918051049869\n",
      "624 [ 0.   -0.04  0.03] 1.694741176526609 1.6977010334063696 1.6939354726826092\n",
      "625 [ 0.   -0.04  0.04] 1.7452656459814069 1.7491388493867124 1.7441882187121553\n",
      "626 [ 0.   -0.04  0.05] 1.8083953437251674 1.8128950144855773 1.806817193592674\n",
      "627 [ 0.   -0.03 -0.05] 1.7681027535862546 1.7714741660931397 1.7668270380087625\n",
      "628 [ 0.   -0.03 -0.04] 1.6947411765268265 1.6977010334069131 1.6939354726831777\n",
      "629 [ 0.   -0.03 -0.03] 1.6333771253290843 1.6357294338003197 1.63289766317593\n",
      "630 [ 0.   -0.03 -0.02] 1.587420385297829 1.5889749060192395 1.587103728164724\n",
      "631 [ 0.   -0.03 -0.01] 1.559801919352636 1.5605848438003393 1.5596631798084042\n",
      "632 [ 0.   -0.03  0.  ] 1.5511541689043522 1.5511541689043398 1.551154168904315\n",
      "633 [ 0.   -0.03  0.01] 1.5598019193527906 1.560584843800405 1.5596631798077327\n",
      "634 [ 0.   -0.03  0.02] 1.587420385297464 1.5889749060208747 1.5871037281646565\n",
      "635 [ 0.   -0.03  0.03] 1.6333771253272902 1.6357294338000585 1.6328976631742078\n",
      "636 [ 0.   -0.03  0.04] 1.6947411765267821 1.697701033406747 1.6939354726836537\n",
      "637 [ 0.   -0.03  0.05] 1.7681027535868497 1.7714741660930713 1.7668270380098372\n",
      "638 [ 0.   -0.02 -0.05] 1.7403295719471723 1.7426590179615964 1.7395113508638458\n",
      "639 [ 0.   -0.02 -0.04] 1.6586497937215485 1.660626324954448 1.6580918051057179\n",
      "640 [ 0.   -0.02 -0.03] 1.587420385297766 1.588974906020053 1.5871037281644202\n",
      "641 [ 0.   -0.02 -0.02] 1.5309996651710422 1.5320383112068736 1.5308525205992094\n",
      "642 [ 0.   -0.02 -0.01] 1.4950958965176513 1.4955711334501522 1.4950246585538594\n",
      "643 [ 0.   -0.02  0.  ] 1.4834482031701235 1.4834482031700853 1.4834482031700764\n",
      "644 [ 0.   -0.02  0.01] 1.4950958965159256 1.4955711334497197 1.495024658552916\n",
      "645 [ 0.   -0.02  0.02] 1.5309996651716462 1.5320383112063087 1.5308525205995744\n",
      "646 [ 0.   -0.02  0.03] 1.587420385297638 1.5889749060198328 1.5871037281645943\n",
      "647 [ 0.   -0.02  0.04] 1.6586497937228737 1.660626324955115 1.6580918051067055\n",
      "648 [ 0.   -0.02  0.05] 1.7403295719474192 1.7426590179617891 1.7395113508634044\n",
      "649 [ 0.   -0.01 -0.05] 1.7246966901127427 1.7260168917276868 1.7244261642152336\n",
      "650 [ 0.   -0.01 -0.04] 1.637778362148807 1.638846861035451 1.637572820559722\n",
      "651 [ 0.   -0.01 -0.03] 1.5598019193529922 1.5605848438006715 1.5596631798076261\n",
      "652 [ 0.   -0.01 -0.02] 1.4950958965175118 1.4955711334500466 1.495024658553679\n",
      "653 [ 0.   -0.01 -0.01] 1.4508904087061296 1.4510806084678842 1.4508716470684755\n",
      "654 [ 0.   -0.01  0.  ] 1.4357399023311652 1.4357399023312336 1.435739902331079\n",
      "655 [ 0.   -0.01  0.01] 1.4508904087061643 1.4510806084680663 1.4508716470684595\n",
      "656 [ 0.   -0.01  0.02] 1.4950958965183556 1.4955711334510395 1.4950246585549252\n",
      "657 [ 0.   -0.01  0.03] 1.5598019193533892 1.5605848438005516 1.5596631798080836\n",
      "658 [ 0.   -0.01  0.04] 1.6377783621501703 1.6388468610357032 1.637572820560865\n",
      "659 [ 0.   -0.01  0.05] 1.724696690112272 1.7260168917279186 1.7244261642156555\n",
      "660 [ 0.    0.   -0.05] 1.7202073374417717 1.720207337441991 1.7202073374415923\n",
      "661 [ 0.    0.   -0.04] 1.631483618834853 1.6314836188348991 1.631483618834821\n",
      "662 [ 0.    0.   -0.03] 1.5511541689043336 1.551154168904353 1.5511541689042847\n",
      "663 [ 0.    0.   -0.02] 1.4834482031697718 1.4834482031697842 1.4834482031693534\n",
      "664 [ 0.    0.   -0.01] 1.4357399023313233 1.4357399023318838 1.4357399023312931\n",
      "665 [0. 0. 0.] 1.4180062971035339 1.4180062971035747 1.4180062971035063\n",
      "666 [0.   0.   0.01] 1.4357399023310045 1.435739902331247 1.4357399023301278\n",
      "667 [0.   0.   0.02] 1.4834482031714762 1.483448203170453 1.4834482031698109\n",
      "668 [0.   0.   0.03] 1.551154168904307 1.5511541689043122 1.5511541689043051\n",
      "669 [0.   0.   0.04] 1.631483618834869 1.6314836188339799 1.6314836188339656\n",
      "670 [0.   0.   0.05] 1.7202073374419298 1.7202073374420204 1.7202073374419005\n",
      "671 [ 0.    0.01 -0.05] 1.7246966901128138 1.7260168917278795 1.7244261642152496\n",
      "672 [ 0.    0.01 -0.04] 1.63777836214922 1.638846861035935 1.6375728205603073\n",
      "673 [ 0.    0.01 -0.03] 1.5598019193528696 1.560584843800532 1.5596631798078242\n",
      "674 [ 0.    0.01 -0.02] 1.495095896518122 1.4955711334502304 1.4950246585545113\n",
      "675 [ 0.    0.01 -0.01] 1.4508904087061323 1.4510806084679189 1.4508716470684249\n",
      "676 [0.   0.01 0.  ] 1.4357399023310595 1.4357399023310427 1.4357399023310213\n",
      "677 [0.   0.01 0.01] 1.4508904087055114 1.4510806084676613 1.4508716470679257\n",
      "678 [0.   0.01 0.02] 1.4950958965177454 1.4955711334482746 1.4950246585537386\n",
      "679 [0.   0.01 0.03] 1.5598019193528208 1.560584843799795 1.5596631798064342\n",
      "680 [0.   0.01 0.04] 1.637778362146567 1.6388468610346605 1.6375728205576427\n",
      "681 [0.   0.01 0.05] 1.724696690113296 1.726016891728225 1.7244261642148988\n",
      "682 [ 0.    0.02 -0.05] 1.7403295719469671 1.7426590179616444 1.7395113508639648\n",
      "683 [ 0.    0.02 -0.04] 1.6586497937196114 1.6606263249558548 1.6580918051059905\n",
      "684 [ 0.    0.02 -0.03] 1.587420385297957 1.588974906018099 1.5871037281640419\n",
      "685 [ 0.    0.02 -0.02] 1.530999665171609 1.5320383112073177 1.5308525206001349\n",
      "686 [ 0.    0.02 -0.01] 1.4950958965187224 1.4955711334503672 1.495024658555896\n",
      "687 [0.   0.02 0.  ] 1.4834482031701555 1.4834482031701723 1.4834482031701448\n",
      "688 [0.   0.02 0.01] 1.4950958965171566 1.49557113345048 1.4950246585539668\n",
      "689 [0.   0.02 0.02] 1.530999665171505 1.5320383112072076 1.5308525205999555\n",
      "690 [0.   0.02 0.03] 1.5874203852975928 1.5889749060197493 1.5871037281640348\n",
      "691 [0.   0.02 0.04] 1.6586497937213096 1.6606263249557465 1.658091805105741\n",
      "692 [0.   0.02 0.05] 1.7403295719474166 1.7426590179614685 1.7395113508641424\n",
      "693 [ 0.    0.03 -0.05] 1.7681027535841185 1.7714741660923226 1.766827038006343\n",
      "694 [ 0.    0.03 -0.04] 1.6947411765266631 1.697701033406255 1.693935472682579\n",
      "695 [ 0.    0.03 -0.03] 1.6333771253280336 1.6357294338001758 1.632897663175049\n",
      "696 [ 0.    0.03 -0.02] 1.5874203852980466 1.5889749060189455 1.5871037281640366\n",
      "697 [ 0.    0.03 -0.01] 1.5598019193531227 1.560584843800891 1.5596631798080942\n",
      "698 [0.   0.03 0.  ] 1.5511541689039303 1.551154168904315 1.5511541689035715\n",
      "699 [0.   0.03 0.01] 1.5598019193523935 1.5605848438000098 1.559663179807627\n",
      "700 [0.   0.03 0.02] 1.587420385297965 1.5889749060207468 1.587103728165399\n",
      "701 [0.   0.03 0.03] 1.6333771253271196 1.6357294338006252 1.6328976631747532\n",
      "702 [0.   0.03 0.04] 1.6947411765273106 1.6977010334066742 1.69393547268358\n",
      "703 [0.   0.03 0.05] 1.7681027535845049 1.7714741660921023 1.7668270380062587\n",
      "704 [ 0.    0.04 -0.05] 1.8083953437256595 1.8128950144851688 1.806817193591879\n",
      "705 [ 0.    0.04 -0.04] 1.7452656459827631 1.74913884938708 1.7441882187138917\n",
      "706 [ 0.    0.04 -0.03] 1.6947411765260503 1.6977010334063465 1.6939354726822575\n",
      "707 [ 0.    0.04 -0.02] 1.658649793721155 1.660626324955472 1.6580918051061682\n",
      "708 [ 0.    0.04 -0.01] 1.6377783621482163 1.6388468610309816 1.6375728205593791\n",
      "709 [0.   0.04 0.  ] 1.6314836188348227 1.6314836188349071 1.6314836188348147\n",
      "710 [0.   0.04 0.01] 1.6377783621487332 1.638846861035181 1.6375728205595417\n",
      "711 [0.   0.04 0.02] 1.6586497937225584 1.66062632495637 1.658091805106693\n",
      "712 [0.   0.04 0.03] 1.694741176527172 1.6977010334065081 1.6939354726829654\n",
      "713 [0.   0.04 0.04] 1.7452656459823626 1.7491388493861324 1.7441882187125906\n",
      "714 [0.   0.04 0.05] 1.8083953437264464 1.812895014487486 1.8068171935926145\n",
      "715 [ 0.    0.05 -0.05] 1.860730103276703 1.866215325723183 1.8587778784835773\n",
      "716 [ 0.    0.05 -0.04] 1.8083953437244817 1.8128950144855827 1.8068171935913053\n",
      "717 [ 0.    0.05 -0.03] 1.7681027535845262 1.7714741660922417 1.7668270380069506\n",
      "718 [ 0.    0.05 -0.02] 1.7403295719471181 1.7426590179615626 1.7395113508638023\n",
      "719 [ 0.    0.05 -0.01] 1.724696690112686 1.7260168917281389 1.724426164215516\n",
      "720 [0.   0.05 0.  ] 1.7202073374420044 1.7202073374420017 1.7202073374419884\n",
      "721 [0.   0.05 0.01] 1.724696690112789 1.7260168917276166 1.7244261642152043\n",
      "722 [0.   0.05 0.02] 1.7403295719469654 1.7426590179634287 1.7395113508634124\n",
      "723 [0.   0.05 0.03] 1.7681027535847083 1.7714741660927364 1.766827038007306\n",
      "724 [0.   0.05 0.04] 1.808395343724813 1.8128950144856537 1.8068171935913186\n",
      "725 [0.   0.05 0.05] 1.8607301032772963 1.866215325724239 1.8587778784838092\n",
      "726 [ 0.01 -0.05 -0.05] 1.8649149436730275 1.870256938512001 1.863175327089622\n",
      "727 [ 0.01 -0.05 -0.04] 1.8130884852967064 1.8174630759328094 1.8117202416573388\n",
      "728 [ 0.01 -0.05 -0.03] 1.7731101950715322 1.7764756032020754 1.77205768601232\n",
      "729 [ 0.01 -0.05 -0.02] 1.7453770894115177 1.747967760487299 1.744807147713514\n",
      "730 [ 0.01 -0.05 -0.01] 1.7294966872028743 1.731577622799259 1.7294858726847462\n",
      "731 [ 0.01 -0.05  0.  ] 1.7246966901127676 1.726016891727725 1.7244261642152363\n",
      "732 [ 0.01 -0.05  0.01] 1.7294966872032846 1.7315776227992723 1.7294858726851476\n",
      "733 [ 0.01 -0.05  0.02] 1.7453770894129415 1.7479677604880903 1.7448071477150062\n",
      "734 [ 0.01 -0.05  0.03] 1.77311019507248 1.7764756032019422 1.772057686012511\n",
      "735 [ 0.01 -0.05  0.04] 1.8130884852970137 1.817463075933337 1.811720241658013\n",
      "736 [ 0.01 -0.05  0.05] 1.8649149436734787 1.8702569385109253 1.863175327089695\n",
      "737 [ 0.01 -0.04 -0.05] 1.8130884852969782 1.8174630759331798 1.8117202416581684\n",
      "738 [ 0.01 -0.04 -0.04] 1.7508187549706742 1.7545068037986935 1.7499265839915772\n",
      "739 [ 0.01 -0.04 -0.03] 1.7010072112628674 1.7038161479711196 1.7003762752015863\n",
      "740 [ 0.01 -0.04 -0.02] 1.6652969215100022 1.6673280353346653 1.6649222970535682\n",
      "741 [ 0.01 -0.04 -0.01] 1.6443574565550954 1.6459369042790053 1.6443296239498109\n",
      "742 [ 0.01 -0.04  0.  ] 1.6377783621484037 1.6388468610340894 1.637572820559079\n",
      "743 [ 0.01 -0.04  0.01] 1.644357456555106 1.645936904278953 1.6443296239497531\n",
      "744 [ 0.01 -0.04  0.02] 1.6652969215099525 1.6673280353336377 1.6649222970532254\n",
      "745 [ 0.01 -0.04  0.03] 1.7010072112632155 1.7038161479715654 1.7003762752014282\n",
      "746 [ 0.01 -0.04  0.04] 1.7508187549702008 1.7545068037992273 1.7499265839909492\n",
      "747 [ 0.01 -0.04  0.05] 1.8130884852974463 1.8174630759341346 1.8117202416587208\n",
      "748 [ 0.01 -0.03 -0.05] 1.7731101950714478 1.7764756032005424 1.772057686010731\n",
      "749 [ 0.01 -0.03 -0.04] 1.7010072112629944 1.7038161479704854 1.7003762752011369\n",
      "750 [ 0.01 -0.03 -0.03] 1.6409097571852094 1.6430328499939746 1.6405712655258275\n",
      "751 [ 0.01 -0.03 -0.02] 1.595944728814918 1.5973567648443536 1.595752894637342\n",
      "752 [ 0.01 -0.03 -0.01] 1.5686524991925674 1.5696876422294004 1.5686213610255981\n",
      "753 [ 0.01 -0.03  0.  ] 1.5598019193523553 1.560584843799531 1.559663179806913\n",
      "754 [ 0.01 -0.03  0.01] 1.5686524991929698 1.5696876422297956 1.5686213610265343\n",
      "755 [ 0.01 -0.03  0.02] 1.595944728814823 1.5973567648438696 1.5957528946369637\n",
      "756 [ 0.01 -0.03  0.03] 1.640909757185593 1.6430328499949045 1.6405712655267228\n",
      "757 [ 0.01 -0.03  0.04] 1.7010072112631986 1.7038161479698246 1.7003762752014424\n",
      "758 [ 0.01 -0.03  0.05] 1.7731101950724177 1.7764756032015612 1.772057686012495\n",
      "759 [ 0.01 -0.02 -0.05] 1.7453770894120897 1.7479677604879802 1.7448071477142664\n",
      "760 [ 0.01 -0.02 -0.04] 1.6652969215095483 1.6673280353338633 1.6649222970531001\n",
      "761 [ 0.01 -0.02 -0.03] 1.595944728815243 1.5973567648446938 1.5957528946376094\n",
      "762 [ 0.01 -0.02 -0.02] 1.5414421918147854 1.542233047470492 1.5413779297416506\n",
      "763 [ 0.01 -0.02 -0.01] 1.5067302845639983 1.5072078737865926 1.506713071116767\n",
      "764 [ 0.01 -0.02  0.  ] 1.4950958965174532 1.4955711334494968 1.4950246585537394\n",
      "765 [ 0.01 -0.02  0.01] 1.5067302845642594 1.5072078737864345 1.5067130711166552\n",
      "766 [ 0.01 -0.02  0.02] 1.5414421918152295 1.5422330474700816 1.5413779297414312\n",
      "767 [ 0.01 -0.02  0.03] 1.5959447288148807 1.5973567648444016 1.5957528946373607\n",
      "768 [ 0.01 -0.02  0.04] 1.6652969215105946 1.6673280353356121 1.6649222970553383\n",
      "769 [ 0.01 -0.02  0.05] 1.745377089412024 1.747967760487949 1.7448071477136287\n",
      "770 [ 0.01 -0.01 -0.05] 1.7294966872033513 1.7315776227994304 1.729485872685217\n",
      "771 [ 0.01 -0.01 -0.04] 1.6443574565550279 1.6459369042790515 1.6443296239497345\n",
      "772 [ 0.01 -0.01 -0.03] 1.568652499193016 1.5696876422298827 1.5686213610266053\n",
      "773 [ 0.01 -0.01 -0.02] 1.5067302845640764 1.5072078737868884 1.5067130711169652\n",
      "774 [ 0.01 -0.01 -0.01] 1.4653117968288027 1.465311796828817 1.4653117968287894\n",
      "775 [ 0.01 -0.01  0.  ] 1.4508904087066767 1.4510806084679224 1.4508716470690555\n",
      "776 [ 0.01 -0.01  0.01] 1.4653117968287486 1.4653117968283356 1.4653117968283276\n",
      "777 [ 0.01 -0.01  0.02] 1.5067302845640143 1.5072078737870163 1.506713071117531\n",
      "778 [ 0.01 -0.01  0.03] 1.568652499192778 1.5696876422304236 1.5686213610270405\n",
      "779 [ 0.01 -0.01  0.04] 1.6443574565551202 1.6459369042789485 1.644329623949762\n",
      "780 [ 0.01 -0.01  0.05] 1.7294966872038904 1.7315776227995823 1.729485872685407\n",
      "781 [ 0.01  0.   -0.05] 1.7246966901127898 1.7260168917276273 1.7244261642152399\n",
      "782 [ 0.01  0.   -0.04] 1.6377783621490734 1.638846861036443 1.6375728205602194\n",
      "783 [ 0.01  0.   -0.03] 1.5598019193531387 1.5605848438005685 1.5596631798078766\n",
      "784 [ 0.01  0.   -0.02] 1.4950958965175394 1.4955711334499213 1.495024658553902\n",
      "785 [ 0.01  0.   -0.01] 1.4508904087056589 1.4510806084673833 1.4508716470674363\n",
      "786 [0.01 0.   0.  ] 1.4357399023303516 1.4357399023314974 1.4357399023295105\n",
      "787 [0.01 0.   0.01] 1.4508904087063037 1.4510806084676178 1.4508716470684302\n",
      "788 [0.01 0.   0.02] 1.4950958965177028 1.4955711334500794 1.4950246585538638\n",
      "789 [0.01 0.   0.03] 1.559801919352843 1.56058484379977 1.5596631798066598\n",
      "790 [0.01 0.   0.04] 1.6377783621486701 1.638846861035061 1.6375728205594609\n",
      "791 [0.01 0.   0.05] 1.7246966901128982 1.7260168917276077 1.7244261642151608\n",
      "792 [ 0.01  0.01 -0.05] 1.7294966872034028 1.7315776227994437 1.7294858726852542\n",
      "793 [ 0.01  0.01 -0.04] 1.6443574565551664 1.645936904278984 1.644329623949841\n",
      "794 [ 0.01  0.01 -0.03] 1.5686524991927353 1.5696876422295283 1.5686213610262838\n",
      "795 [ 0.01  0.01 -0.02] 1.5067302845639077 1.5072078737865455 1.506713071116704\n",
      "796 [ 0.01  0.01 -0.01] 1.4653117968286704 1.4653117968297389 1.4653117968286624\n",
      "797 [0.01 0.01 0.  ] 1.4508904087069245 1.4510806084692778 1.450871647068806\n",
      "798 [0.01 0.01 0.01] 1.4653117968288818 1.465311796830144 1.4653117968287948\n",
      "799 [0.01 0.01 0.02] 1.506730284563698 1.5072078737871086 1.506713071116753\n",
      "800 [0.01 0.01 0.03] 1.5686524991929645 1.5696876422295363 1.5686213610262483\n",
      "801 [0.01 0.01 0.04] 1.6443574565580512 1.6459369042784333 1.6443296239497593\n",
      "802 [0.01 0.01 0.05] 1.7294966872039685 1.7315776227988193 1.7294858726851698\n",
      "803 [ 0.01  0.02 -0.05] 1.7453770894119565 1.7479677604874375 1.7448071477140807\n",
      "804 [ 0.01  0.02 -0.04] 1.6652969215104374 1.6673280353344895 1.6649222970542619\n",
      "805 [ 0.01  0.02 -0.03] 1.5959447288149482 1.5973567648431048 1.5957528946369202\n",
      "806 [ 0.01  0.02 -0.02] 1.54144219181459 1.5422330474703756 1.5413779297412784\n",
      "807 [ 0.01  0.02 -0.01] 1.5067302845637824 1.507207873786375 1.5067130711160708\n",
      "808 [0.01 0.02 0.  ] 1.4950958965176016 1.4955711334500403 1.495024658553607\n",
      "809 [0.01 0.02 0.01] 1.5067302845639707 1.5072078737869834 1.5067130711171446\n",
      "810 [0.01 0.02 0.02] 1.5414421918146175 1.542233047470634 1.5413779297413193\n",
      "811 [0.01 0.02 0.03] 1.5959447288150779 1.5973567648446307 1.595752894637366\n",
      "812 [0.01 0.02 0.04] 1.6652969215093405 1.6673280353326634 1.6649222970522075\n",
      "813 [0.01 0.02 0.05] 1.7453770894124654 1.7479677604875494 1.744807147714261\n",
      "814 [ 0.01  0.03 -0.05] 1.7731101950712933 1.7764756032008888 1.7720576860113333\n",
      "815 [ 0.01  0.03 -0.04] 1.7010072112628851 1.7038161479703584 1.7003762752010259\n",
      "816 [ 0.01  0.03 -0.03] 1.6409097571854812 1.6430328499947855 1.6405712655266464\n",
      "817 [ 0.01  0.03 -0.02] 1.595944728815022 1.5973567648442666 1.5957528946375197\n",
      "818 [ 0.01  0.03 -0.01] 1.5686524991925834 1.5696876422294137 1.568621361026028\n",
      "819 [0.01 0.03 0.  ] 1.559801919353049 1.5605848438026406 1.559663179807675\n",
      "820 [0.01 0.03 0.01] 1.5686524991933046 1.5696876422304946 1.568621361026695\n",
      "821 [0.01 0.03 0.02] 1.5959447288144855 1.597356764845287 1.595752894637541\n",
      "822 [0.01 0.03 0.03] 1.6409097571855327 1.6430328499948184 1.6405712655266935\n",
      "823 [0.01 0.03 0.04] 1.70100721126272 1.7038161479694933 1.700376275201048\n",
      "824 [0.01 0.03 0.05] 1.7731101950726567 1.776475603201349 1.7720576860120678\n",
      "825 [ 0.01  0.04 -0.05] 1.8130884852972509 1.8174630759343628 1.8117202416588025\n",
      "826 [ 0.01  0.04 -0.04] 1.750818754970413 1.7545068038004015 1.7499265839913454\n",
      "827 [ 0.01  0.04 -0.03] 1.7010072112629269 1.7038161479703966 1.7003762752010427\n",
      "828 [ 0.01  0.04 -0.02] 1.6652969215092144 1.667328035333349 1.6649222970529252\n",
      "829 [ 0.01  0.04 -0.01] 1.6443574565551096 1.645936904278841 1.6443296239497371\n",
      "830 [0.01 0.04 0.  ] 1.6377783621487287 1.6388468610350886 1.6375728205595266\n",
      "831 [0.01 0.04 0.01] 1.6443574565551167 1.6459369042771383 1.6443296239495524\n",
      "832 [0.01 0.04 0.02] 1.66529692150971 1.6673280353335391 1.6649222970530309\n",
      "833 [0.01 0.04 0.03] 1.7010072112630326 1.7038161479703682 1.7003762752010338\n",
      "834 [0.01 0.04 0.04] 1.7508187549706715 1.7545068037970761 1.7499265839907272\n",
      "835 [0.01 0.04 0.05] 1.8130884852972171 1.8174630759329915 1.8117202416578877\n",
      "836 [ 0.01  0.05 -0.05] 1.8649149436734476 1.8702569385120462 1.8631753270900209\n",
      "837 [ 0.01  0.05 -0.04] 1.8130884852968068 1.8174630759333787 1.8117202416575235\n",
      "838 [ 0.01  0.05 -0.03] 1.7731101950719435 1.7764756032011197 1.7720576860119914\n",
      "839 [ 0.01  0.05 -0.02] 1.745377089411999 1.747967760487569 1.7448071477141083\n",
      "840 [ 0.01  0.05 -0.01] 1.729496687203297 1.731577622799258 1.7294858726851725\n",
      "841 [0.01 0.05 0.  ] 1.724696690112414 1.726016891727233 1.7244261642146954\n",
      "842 [0.01 0.05 0.01] 1.729496687203432 1.731577622799663 1.7294858726850277\n",
      "843 [0.01 0.05 0.02] 1.7453770894118632 1.7479677604885637 1.7448071477148641\n",
      "844 [0.01 0.05 0.03] 1.7731101950719435 1.7764756032017273 1.7720576860120518\n",
      "845 [0.01 0.05 0.04] 1.8130884852977722 1.817463075933599 1.8117202416585325\n",
      "846 [0.01 0.05 0.05] 1.864914943672428 1.8702569385111518 1.8631753270884817\n",
      "847 [ 0.02 -0.05 -0.05] 1.8776416115813284 1.8824824150705668 1.876434795369799\n",
      "848 [ 0.02 -0.05 -0.04] 1.8273818879441714 1.8313038784358868 1.8265113960133128\n",
      "849 [ 0.02 -0.05 -0.03] 1.7884261002591213 1.7917000658667481 1.78785989756435\n",
      "850 [ 0.02 -0.05 -0.02] 1.761057779299934 1.7641684149206576 1.7608512648607748\n",
      "851 [ 0.02 -0.05 -0.01] 1.745377089412358 1.7479677604876036 1.744807147714834\n",
      "852 [ 0.02 -0.05  0.  ] 1.740329571946745 1.7426590179617722 1.739511350863701\n",
      "853 [ 0.02 -0.05  0.01] 1.7453770894113116 1.747967760488014 1.74480714771469\n",
      "854 [ 0.02 -0.05  0.02] 1.7610577793002449 1.7641684149194958 1.760851264860376\n",
      "855 [ 0.02 -0.05  0.03] 1.78842610025906 1.7917000658667188 1.7878598975643563\n",
      "856 [ 0.02 -0.05  0.04] 1.8273818879433232 1.8313038784351772 1.8265113960120374\n",
      "857 [ 0.02 -0.05  0.05] 1.8776416115812333 1.8824824150706787 1.8764347953704172\n"
     ]
    },
    {
     "name": "stdout",
     "output_type": "stream",
     "text": [
      "858 [ 0.02 -0.04 -0.05] 1.8273818879433419 1.8313038784353726 1.8265113960123474\n",
      "859 [ 0.02 -0.04 -0.04] 1.76771042348049 1.7707533986627384 1.7672279225963425\n",
      "860 [ 0.02 -0.04 -0.03] 1.720071796711994 1.7223604496064366 1.7197868035483665\n",
      "861 [ 0.02 -0.04 -0.02] 1.6856634994975117 1.6877721026826844 1.6855272617256025\n",
      "862 [ 0.02 -0.04 -0.01] 1.6652969215084852 1.667328035332745 1.664922297052156\n",
      "863 [ 0.02 -0.04  0.  ] 1.6586497937212608 1.6606263249540865 1.6580918051051636\n",
      "864 [ 0.02 -0.04  0.01] 1.6652969215099338 1.667328035332491 1.6649222970525095\n",
      "865 [ 0.02 -0.04  0.02] 1.685663499497422 1.687772102683005 1.6855272617257384\n",
      "866 [ 0.02 -0.04  0.03] 1.7200717967120385 1.7223604496064988 1.719786803548348\n",
      "867 [ 0.02 -0.04  0.04] 1.7677104234802261 1.7707533986626398 1.7672279225958505\n",
      "868 [ 0.02 -0.04  0.05] 1.8273818879432282 1.831303878432788 1.8265113960106554\n",
      "869 [ 0.02 -0.03 -0.05] 1.7884261002584383 1.7917000658669586 1.7878598975637026\n",
      "870 [ 0.02 -0.03 -0.04] 1.7200717967117907 1.7223604496063878 1.7197868035480646\n",
      "871 [ 0.02 -0.03 -0.03] 1.663734887042204 1.66508091274698 1.6636369144373662\n",
      "872 [ 0.02 -0.03 -0.02] 1.621699744073771 1.6227560191146297 1.6216511555519926\n",
      "873 [ 0.02 -0.03 -0.01] 1.5959447288152173 1.597356764846098 1.5957528946378048\n",
      "874 [ 0.02 -0.03  0.  ] 1.5874203852994224 1.5889749060205371 1.5871037281658449\n",
      "875 [ 0.02 -0.03  0.01] 1.595944728814481 1.5973567648437514 1.5957528946370916\n",
      "876 [ 0.02 -0.03  0.02] 1.6216997440739043 1.622756019114771 1.6216511555522457\n",
      "877 [ 0.02 -0.03  0.03] 1.6637348870422146 1.6650809127469337 1.6636369144374115\n",
      "878 [ 0.02 -0.03  0.04] 1.7200717967113146 1.7223604496068043 1.7197868035485735\n",
      "879 [ 0.02 -0.03  0.05] 1.7884261002584303 1.791700065867154 1.7878598975646707\n",
      "880 [ 0.02 -0.02 -0.05] 1.761057779299783 1.764168414920043 1.7608512648602401\n",
      "881 [ 0.02 -0.02 -0.04] 1.685663499497319 1.6877721026842591 1.6855272617263068\n",
      "882 [ 0.02 -0.02 -0.03] 1.6216997440749328 1.6227560191152257 1.6216511555532094\n",
      "883 [ 0.02 -0.02 -0.02] 1.572716242410138 1.5727162424101335 1.5727162424101087\n",
      "884 [ 0.02 -0.02 -0.01] 1.5414421918141015 1.5422330474697343 1.5413779297412704\n",
      "885 [ 0.02 -0.02  0.  ] 1.5309996651711382 1.532038311207744 1.5308525206005816\n",
      "886 [ 0.02 -0.02  0.01] 1.5414421918128607 1.5422330474703205 1.5413779297401593\n",
      "887 [ 0.02 -0.02  0.02] 1.5727162424100811 1.5727162424101149 1.5727162424100793\n",
      "888 [ 0.02 -0.02  0.03] 1.6216997440738297 1.6227560191149424 1.6216511555522342\n",
      "889 [ 0.02 -0.02  0.04] 1.6856634994977 1.687772102683173 1.6855272617260564\n",
      "890 [ 0.02 -0.02  0.05] 1.7610577792997608 1.764168414919964 1.7608512648602401\n",
      "891 [ 0.02 -0.01 -0.05] 1.7453770894114609 1.747967760486822 1.7448071477136233\n",
      "892 [ 0.02 -0.01 -0.04] 1.6652969215112563 1.6673280353341378 1.6649222970543436\n",
      "893 [ 0.02 -0.01 -0.03] 1.595944728814918 1.597356764844215 1.5957528946374104\n",
      "894 [ 0.02 -0.01 -0.02] 1.541442191814932 1.542233047470397 1.541377929741623\n",
      "895 [ 0.02 -0.01 -0.01] 1.5067302845640036 1.507207873787288 1.5067130711164047\n",
      "896 [ 0.02 -0.01  0.  ] 1.4950958965175039 1.4955711334493254 1.4950246585528975\n",
      "897 [ 0.02 -0.01  0.01] 1.506730284563628 1.5072078737879009 1.506713071117181\n",
      "898 [ 0.02 -0.01  0.02] 1.5414421918133323 1.5422330474705248 1.5413779297407286\n",
      "899 [ 0.02 -0.01  0.03] 1.5959447288149757 1.5973567648461602 1.595752894637938\n",
      "900 [ 0.02 -0.01  0.04] 1.6652969215100564 1.6673280353336972 1.66492229705322\n",
      "901 [ 0.02 -0.01  0.05] 1.7453770894118517 1.7479677604885913 1.744807147714023\n",
      "902 [ 0.02  0.   -0.05] 1.7403295719472531 1.742659017962012 1.7395113508645528\n",
      "903 [ 0.02  0.   -0.04] 1.6586497937216498 1.6606263249544586 1.6580918051058404\n",
      "904 [ 0.02  0.   -0.03] 1.58742038529775 1.5889749060193052 1.587103728164001\n",
      "905 [ 0.02  0.   -0.02] 1.530999665171736 1.5320383112073817 1.5308525206002077\n",
      "906 [ 0.02  0.   -0.01] 1.4950958965180616 1.495571133449376 1.4950246585540183\n",
      "907 [0.02 0.   0.  ] 1.4834482031697833 1.4834482031701697 1.4834482031697558\n",
      "908 [0.02 0.   0.01] 1.4950958965183885 1.4955711334506283 1.4950246585549518\n",
      "909 [0.02 0.   0.02] 1.530999665172052 1.5320383112076437 1.5308525206007966\n",
      "910 [0.02 0.   0.03] 1.5874203852976976 1.5889749060193719 1.5871037281639397\n",
      "911 [0.02 0.   0.04] 1.6586497937213691 1.6606263249543778 1.658091805106137\n",
      "912 [0.02 0.   0.05] 1.7403295719459848 1.7426590179617856 1.7395113508630198\n",
      "913 [ 0.02  0.01 -0.05] 1.745377089412016 1.747967760487522 1.7448071477140887\n",
      "914 [ 0.02  0.01 -0.04] 1.6652969215099098 1.6673280353335613 1.6649222970531579\n",
      "915 [ 0.02  0.01 -0.03] 1.5959447288148239 1.597356764844461 1.5957528946373092\n",
      "916 [ 0.02  0.01 -0.02] 1.5414421918138244 1.5422330474708303 1.5413779297404915\n",
      "917 [ 0.02  0.01 -0.01] 1.5067302845644281 1.5072078737867178 1.506713071116895\n",
      "918 [0.02 0.01 0.  ] 1.495095896517741 1.4955711334500688 1.4950246585539402\n",
      "919 [0.02 0.01 0.01] 1.5067302845642834 1.5072078737871015 1.506713071117317\n",
      "920 [0.02 0.01 0.02] 1.5414421918142116 1.542233047470778 1.541377929741314\n",
      "921 [0.02 0.01 0.03] 1.5959447288149118 1.5973567648446476 1.5957528946372\n",
      "922 [0.02 0.01 0.04] 1.6652969215099445 1.6673280353335036 1.6649222970531596\n",
      "923 [0.02 0.01 0.05] 1.7453770894124423 1.7479677604878567 1.7448071477146438\n",
      "924 [ 0.02  0.02 -0.05] 1.7610577792998612 1.7641684149199728 1.7608512648602535\n",
      "925 [ 0.02  0.02 -0.04] 1.68566349949758 1.6877721026839039 1.6855272617259391\n",
      "926 [ 0.02  0.02 -0.03] 1.621699744073629 1.6227560191144637 1.62165115555187\n",
      "927 [ 0.02  0.02 -0.02] 1.57271624241013 1.5727162424101193 1.5727162424100758\n",
      "928 [ 0.02  0.02 -0.01] 1.5414421918152135 1.54223304747096 1.541377929742092\n",
      "929 [0.02 0.02 0.  ] 1.5309996651708992 1.5320383112069038 1.530852520599189\n",
      "930 [0.02 0.02 0.01] 1.5414421918143608 1.5422330474703925 1.541377929741131\n",
      "931 [0.02 0.02 0.02] 1.572716242410113 1.5727162424101566 1.5727162424100882\n",
      "932 [0.02 0.02 0.03] 1.6216997440736236 1.6227560191146777 1.6216511555521436\n",
      "933 [0.02 0.02 0.04] 1.6856634994976618 1.68777210268314 1.685527261726075\n",
      "934 [0.02 0.02 0.05] 1.7610577793001543 1.7641684149211745 1.7608512648612784\n",
      "935 [ 0.02  0.03 -0.05] 1.788426100259037 1.791700065866598 1.787859897564295\n",
      "936 [ 0.02  0.03 -0.04] 1.7200717967120331 1.7223604496063816 1.7197868035483612\n",
      "937 [ 0.02  0.03 -0.03] 1.66373488704249 1.6650809127473067 1.663636914437891\n",
      "938 [ 0.02  0.03 -0.02] 1.6216997440730383 1.622756019114016 1.621651155551202\n",
      "939 [ 0.02  0.03 -0.01] 1.5959447288145183 1.597356764844461 1.5957528946369957\n",
      "940 [0.02 0.03 0.  ] 1.587420385299355 1.5889749060200593 1.5871037281658325\n",
      "941 [0.02 0.03 0.01] 1.5959447288148505 1.5973567648442906 1.5957528946372008\n",
      "942 [0.02 0.03 0.02] 1.6216997440740073 1.6227560191148633 1.6216511555523265\n",
      "943 [0.02 0.03 0.03] 1.6637348870421667 1.6650809127469817 1.663636914437368\n",
      "944 [0.02 0.03 0.04] 1.7200717967119674 1.7223604496063771 1.719786803548332\n",
      "945 [0.02 0.03 0.05] 1.788426100259061 1.7917000658671398 1.7878598975646645\n",
      "946 [ 0.02  0.04 -0.05] 1.8273818879433597 1.8313038784351923 1.8265113960120605\n",
      "947 [ 0.02  0.04 -0.04] 1.7677104234802128 1.7707533986627304 1.7672279225959349\n",
      "948 [ 0.02  0.04 -0.03] 1.7200717967120358 1.7223604496063771 1.719786803548348\n",
      "949 [ 0.02  0.04 -0.02] 1.685663499497628 1.6877721026831836 1.6855272617259853\n",
      "950 [ 0.02  0.04 -0.01] 1.6652969215101816 1.6673280353329565 1.6649222970523327\n",
      "951 [0.02 0.04 0.  ] 1.658649793721688 1.6606263249544568 1.6580918051058653\n",
      "952 [0.02 0.04 0.01] 1.6652969215098246 1.6673280353338171 1.6649222970530673\n",
      "953 [0.02 0.04 0.02] 1.6856634994976405 1.6877721026836134 1.6855272617260075\n",
      "954 [0.02 0.04 0.03] 1.7200717967119914 1.7223604496063931 1.7197868035483417\n",
      "955 [0.02 0.04 0.04] 1.7677104234808194 1.7707533986632376 1.7672279225970202\n",
      "956 [0.02 0.04 0.05] 1.8273818879438695 1.8313038784349702 1.8265113960118171\n",
      "957 [ 0.02  0.05 -0.05] 1.8776416115809313 1.882482415070145 1.8764347953695566\n",
      "958 [ 0.02  0.05 -0.04] 1.8273818879440737 1.8313038784358957 1.8265113960126573\n",
      "959 [ 0.02  0.05 -0.03] 1.7884261002598185 1.791700065866734 1.7878598975643847\n",
      "960 [ 0.02  0.05 -0.02] 1.761057779299306 1.7641684149201105 1.7608512648597712\n",
      "961 [ 0.02  0.05 -0.01] 1.7453770894119822 1.747967760487544 1.7448071477141376\n",
      "962 [0.02 0.05 0.  ] 1.7403295719471794 1.7426590179616008 1.7395113508638804\n",
      "963 [0.02 0.05 0.01] 1.7453770894120275 1.7479677604881498 1.7448071477143232\n",
      "964 [0.02 0.05 0.02] 1.7610577792996898 1.7641684149199692 1.7608512648601744\n",
      "965 [0.02 0.05 0.03] 1.7884261002586 1.7917000658656326 1.7878598975633784\n",
      "966 [0.02 0.05 0.04] 1.8273818879433614 1.831303878435242 1.8265113960120454\n",
      "967 [0.02 0.05 0.05] 1.877641611581467 1.8824824150706654 1.8764347953700442\n",
      "968 [ 0.03 -0.05 -0.05] 1.8993259160762488 1.9031565014397183 1.8987271447685528\n",
      "969 [ 0.03 -0.05 -0.04] 1.8517194110382649 1.8547583269778682 1.8513501458303256\n",
      "970 [ 0.03 -0.05 -0.03] 1.814595910427859 1.8176313282066614 1.8143389390537878\n",
      "971 [ 0.03 -0.05 -0.02] 1.78842610025906 1.791700065866773 1.7878598975645277\n",
      "972 [ 0.03 -0.05 -0.01] 1.773110195071875 1.7764756032012317 1.7720576860119204\n",
      "973 [ 0.03 -0.05  0.  ] 1.768102753584591 1.771474166092152 1.7668270380067703\n",
      "974 [ 0.03 -0.05  0.01] 1.7731101950715464 1.7764756032006925 1.7720576860117516\n",
      "975 [ 0.03 -0.05  0.02] 1.78842610025879 1.7917000658666344 1.787859897564383\n",
      "976 [ 0.03 -0.05  0.03] 1.8145959104278102 1.817631328206664 1.814338939053826\n",
      "977 [ 0.03 -0.05  0.04] 1.8517194110389186 1.8547583269773114 1.851350145830171\n",
      "978 [ 0.03 -0.05  0.05] 1.8993259160770162 1.903156501439308 1.8987271447688112\n",
      "979 [ 0.03 -0.04 -0.05] 1.8517194110381912 1.8547583269778523 1.8513501458302688\n",
      "980 [ 0.03 -0.04 -0.04] 1.7963356659053469 1.7981431873565077 1.7962081264301757\n",
      "981 [ 0.03 -0.04 -0.03] 1.7521393898903197 1.753695437213417 1.7520595633514562\n",
      "982 [ 0.03 -0.04 -0.02] 1.7200717967120323 1.7223604496065317 1.7197868035484287\n",
      "983 [ 0.03 -0.04 -0.01] 1.7010072112625299 1.7038161479708966 1.7003762752001848\n",
      "984 [ 0.03 -0.04  0.  ] 1.694741176526347 1.6977010334058713 1.6939354726820133\n",
      "985 [ 0.03 -0.04  0.01] 1.7010072112629189 1.7038161479704312 1.7003762752010472\n",
      "986 [ 0.03 -0.04  0.02] 1.7200717967116903 1.7223604496061347 1.7197868035480566\n",
      "987 [ 0.03 -0.04  0.03] 1.752139389890898 1.753695437213338 1.7520595633518932\n",
      "988 [ 0.03 -0.04  0.04] 1.796335665906068 1.7981431873568283 1.796208126430562\n",
      "989 [ 0.03 -0.04  0.05] 1.8517194110381832 1.854758326977806 1.8513501458302226\n",
      "990 [ 0.03 -0.03 -0.05] 1.8145959104279825 1.8176313282065877 1.814338939053778\n",
      "991 [ 0.03 -0.03 -0.04] 1.7521393898903082 1.7536954372125768 1.75205956335137\n",
      "992 [ 0.03 -0.03 -0.03] 1.70175068151641 1.7017506815168195 1.7017506815163834\n",
      "993 [ 0.03 -0.03 -0.02] 1.6637348870440052 1.6650809127475021 1.6636369144394996\n",
      "994 [ 0.03 -0.03 -0.01] 1.6409097571855957 1.6430328499948157 1.6405712655267557\n",
      "995 [ 0.03 -0.03  0.  ] 1.633377125327824 1.635729433799436 1.6328976631742265\n",
      "996 [ 0.03 -0.03  0.01] 1.6409097571851756 1.6430328499944942 1.640571265526101\n",
      "997 [ 0.03 -0.03  0.02] 1.6637348870415352 1.6650809127468973 1.6636369144367205\n",
      "998 [ 0.03 -0.03  0.03] 1.7017506815161543 1.7017506815163674 1.7017506815161134\n",
      "999 [ 0.03 -0.03  0.04] 1.752139389889595 1.7536954372133247 1.7520595633508895\n",
      "1000 [ 0.03 -0.03  0.05] 1.8145959104286353 1.8176313282069252 1.8143389390548528\n",
      "1001 [ 0.03 -0.02 -0.05] 1.7884261002593442 1.7917000658660491 1.7878598975638376\n",
      "1002 [ 0.03 -0.02 -0.04] 1.7200717967123804 1.7223604496060423 1.7197868035482715\n",
      "1003 [ 0.03 -0.02 -0.03] 1.6637348870422102 1.66508091274701 1.6636369144374594\n",
      "1004 [ 0.03 -0.02 -0.02] 1.6216997440738439 1.622756019114684 1.6216511555522208\n",
      "1005 [ 0.03 -0.02 -0.01] 1.5959447288149482 1.597356764844462 1.5957528946374122\n",
      "1006 [ 0.03 -0.02  0.  ] 1.587420385297862 1.5889749060193985 1.5871037281644398\n",
      "1007 [ 0.03 -0.02  0.01] 1.5959447288155086 1.5973567648460216 1.5957528946383164\n",
      "1008 [ 0.03 -0.02  0.02] 1.6216997440736316 1.62275601911477 1.6216511555524873\n",
      "1009 [ 0.03 -0.02  0.03] 1.6637348870424002 1.6650809127469808 1.6636369144375553\n",
      "1010 [ 0.03 -0.02  0.04] 1.7200717967113848 1.7223604496061453 1.7197868035478576\n",
      "1011 [ 0.03 -0.02  0.05] 1.7884261002590964 1.7917000658668307 1.787859897564383\n",
      "1012 [ 0.03 -0.01 -0.05] 1.7731101950719106 1.776475603201411 1.7720576860119834\n",
      "1013 [ 0.03 -0.01 -0.04] 1.7010072112631773 1.7038161479705378 1.7003762752013962\n",
      "1014 [ 0.03 -0.01 -0.03] 1.6409097571861482 1.6430328499951337 1.6405712655271474\n",
      "1015 [ 0.03 -0.01 -0.02] 1.5959447288144162 1.59735676484428 1.5957528946372381\n",
      "1016 [ 0.03 -0.01 -0.01] 1.5686524991934707 1.5696876422303507 1.568621361027403\n",
      "1017 [ 0.03 -0.01  0.  ] 1.5598019193528092 1.5605848438006396 1.559663179807874\n",
      "1018 [ 0.03 -0.01  0.01] 1.5686524991934983 1.5696876422289252 1.5686213610260316\n",
      "1019 [ 0.03 -0.01  0.02] 1.5959447288148745 1.597356764843643 1.5957528946374397\n",
      "1020 [ 0.03 -0.01  0.03] 1.6409097571855575 1.6430328499947855 1.6405712655267282\n",
      "1021 [ 0.03 -0.01  0.04] 1.701007211263005 1.7038161479704312 1.7003762752011067\n",
      "1022 [ 0.03 -0.01  0.05] 1.7731101950726513 1.7764756032010638 1.7720576860126886\n",
      "1023 [ 0.03  0.   -0.05] 1.768102753584336 1.7714741660928919 1.7668270380065207\n",
      "1024 [ 0.03  0.   -0.04] 1.6947411765266711 1.6977010334062195 1.6939354726825897\n",
      "1025 [ 0.03  0.   -0.03] 1.6333771253282645 1.6357294338011714 1.6328976631750995\n",
      "1026 [ 0.03  0.   -0.02] 1.5874203852980981 1.588974906019466 1.5871037281641804\n",
      "1027 [ 0.03  0.   -0.01] 1.5598019193528554 1.5605848437990684 1.559663179807898\n",
      "1028 [0.03 0.   0.  ] 1.551154168904337 1.5511541689044206 1.5511541689043238\n",
      "1029 [0.03 0.   0.01] 1.5598019193528048 1.5605848438003527 1.5596631798077372\n",
      "1030 [0.03 0.   0.02] 1.587420385297837 1.588974906019767 1.5871037281641476\n",
      "1031 [0.03 0.   0.03] 1.6333771253279519 1.6357294338001562 1.6328976631749406\n",
      "1032 [0.03 0.   0.04] 1.6947411765261595 1.6977010334066769 1.6939354726827665\n",
      "1033 [0.03 0.   0.05] 1.768102753584504 1.771474166093003 1.7668270380073006\n",
      "1034 [ 0.03  0.01 -0.05] 1.7731101950719736 1.7764756032009892 1.7720576860117765\n",
      "1035 [ 0.03  0.01 -0.04] 1.7010072112625778 1.703816147970369 1.700376275200786\n",
      "1036 [ 0.03  0.01 -0.03] 1.6409097571864901 1.6430328499953992 1.6405712655277744\n",
      "1037 [ 0.03  0.01 -0.02] 1.5959447288151765 1.597356764844852 1.5957528946376334\n",
      "1038 [ 0.03  0.01 -0.01] 1.5686524991928694 1.5696876422297592 1.5686213610264526\n",
      "1039 [0.03 0.01 0.  ] 1.5598019193535446 1.5605848438010144 1.5596631798087852\n",
      "1040 [0.03 0.01 0.01] 1.5686524991930977 1.5696876422291695 1.5686213610266186\n",
      "1041 [0.03 0.01 0.02] 1.5959447288145858 1.5973567648440605 1.595752894636961\n",
      "1042 [0.03 0.01 0.03] 1.640909757185434 1.643032849994456 1.6405712655268934\n",
      "1043 [0.03 0.01 0.04] 1.7010072112635637 1.7038161479693406 1.7003762751997664\n",
      "1044 [0.03 0.01 0.05] 1.773110195072137 1.7764756032012974 1.7720576860119595\n",
      "1045 [ 0.03  0.02 -0.05] 1.7884261002591266 1.7917000658667295 1.787859897564366\n",
      "1046 [ 0.03  0.02 -0.04] 1.7200717967119807 1.7223604496063825 1.7197868035482964\n",
      "1047 [ 0.03  0.02 -0.03] 1.6637348870409419 1.6650809127469248 1.663636914436446\n",
      "1048 [ 0.03  0.02 -0.02] 1.6216997440739984 1.6227560191148465 1.6216511555524136\n",
      "1049 [ 0.03  0.02 -0.01] 1.5959447288150548 1.597356764844351 1.5957528946376094\n",
      "1050 [0.03 0.02 0.  ] 1.5874203852977056 1.5889749060194145 1.5871037281639655\n",
      "1051 [0.03 0.02 0.01] 1.5959447288145174 1.5973567648450855 1.595752894638041\n",
      "1052 [0.03 0.02 0.02] 1.6216997440735614 1.6227560191147363 1.6216511555519277\n",
      "1053 [0.03 0.02 0.03] 1.6637348870422857 1.665080912747154 1.6636369144375234\n",
      "1054 [0.03 0.02 0.04] 1.7200717967115562 1.7223604496059464 1.7197868035478434\n",
      "1055 [0.03 0.02 0.05] 1.7884261002590378 1.7917000658668192 1.787859897564358\n",
      "1056 [ 0.03  0.03 -0.05] 1.814595910428257 1.8176313282073027 1.8143389390542506\n",
      "1057 [ 0.03  0.03 -0.04] 1.7521393898900417 1.7536954372133717 1.7520595633511356\n",
      "1058 [ 0.03  0.03 -0.03] 1.7017506815163985 1.7017506815167733 1.7017506815163834\n",
      "1059 [ 0.03  0.03 -0.02] 1.6637348870421507 1.6650809127470065 1.6636369144374505\n",
      "1060 [ 0.03  0.03 -0.01] 1.640909757185609 1.6430328499951559 1.6405712655268205\n",
      "1061 [0.03 0.03 0.  ] 1.6333771253279625 1.6357294338001953 1.6328976631749406\n",
      "1062 [0.03 0.03 0.01] 1.6409097571853692 1.6430328499947038 1.6405712655265487\n",
      "1063 [0.03 0.03 0.02] 1.6637348870426498 1.6650809127471105 1.663636914437899\n",
      "1064 [0.03 0.03 0.03] 1.701750681516664 1.7017506815169412 1.701750681516386\n",
      "1065 [0.03 0.03 0.04] 1.7521393898900515 1.7536954372135884 1.7520595633517386\n",
      "1066 [0.03 0.03 0.05] 1.8145959104274434 1.8176313282063559 1.8143389390533775\n",
      "1067 [ 0.03  0.04 -0.05] 1.8517194110381787 1.854758326977847 1.8513501458302857\n",
      "1068 [ 0.03  0.04 -0.04] 1.7963356659040723 1.7981431873567146 1.7962081264285068\n",
      "1069 [ 0.03  0.04 -0.03] 1.7521393898895168 1.7536954372139446 1.7520595633511489\n",
      "1070 [ 0.03  0.04 -0.02] 1.7200717967115562 1.7223604496061586 1.7197868035482573\n",
      "1071 [ 0.03  0.04 -0.01] 1.7010072112629864 1.7038161479700449 1.7003762752016547\n",
      "1072 [0.03 0.04 0.  ] 1.6947411765269322 1.6977010334070304 1.6939354726841493\n",
      "1073 [0.03 0.04 0.01] 1.7010072112630032 1.7038161479704454 1.7003762752010942\n",
      "1074 [0.03 0.04 0.02] 1.720071796712384 1.72236044960629 1.7197868035483284\n",
      "1075 [0.03 0.04 0.03] 1.7521393898903295 1.7536954372132723 1.7520595633513825\n",
      "1076 [0.03 0.04 0.04] 1.7963356659059775 1.7981431873566143 1.7962081264305256\n",
      "1077 [0.03 0.04 0.05] 1.8517194110382755 1.8547583269779082 1.8513501458303665\n",
      "1078 [ 0.03  0.05 -0.05] 1.8993259160761102 1.9031565014393435 1.8987271447684524\n",
      "1079 [ 0.03  0.05 -0.04] 1.8517194110382436 1.8547583269776586 1.8513501458303754\n",
      "1080 [ 0.03  0.05 -0.03] 1.814595910427748 1.8176313282063878 1.8143389390537248\n",
      "1081 [ 0.03  0.05 -0.02] 1.7884261002590351 1.7917000658668112 1.7878598975643367\n",
      "1082 [ 0.03  0.05 -0.01] 1.7731101950716441 1.7764756032000832 1.772057686010852\n",
      "1083 [0.03 0.05 0.  ] 1.7681027535845857 1.771474166092374 1.7668270380071318\n",
      "1084 [0.03 0.05 0.01] 1.773110195070891 1.776475603201055 1.7720576860106663\n",
      "1085 [0.03 0.05 0.02] 1.78842610025883 1.7917000658671371 1.7878598975649886\n",
      "1086 [0.03 0.05 0.03] 1.8145959104278901 1.817631328206688 1.8143389390538616\n",
      "1087 [0.03 0.05 0.04] 1.8517194110375792 1.854758326977822 1.8513501458296835\n",
      "1088 [0.03 0.05 0.05] 1.8993259160760534 1.9031565014395913 1.8987271447686132\n",
      "1089 [ 0.04 -0.05 -0.05] 1.9303931576944366 1.9326016400623853 1.9302389286148767\n",
      "1090 [ 0.04 -0.05 -0.04] 1.8862903941803832 1.8882793198669559 1.8861807105478539\n",
      "1091 [ 0.04 -0.05 -0.03] 1.8517194110382027 1.8547583269776782 1.8513501458303647\n",
      "1092 [ 0.04 -0.05 -0.02] 1.8273818879443757 1.8313038784346185 1.8265113960117425\n",
      "1093 [ 0.04 -0.05 -0.01] 1.8130884852974978 1.817463075934108 1.8117202416585823\n",
      "1094 [ 0.04 -0.05  0.  ] 1.808395343724996 1.8128950144858607 1.8068171935918738\n",
      "1095 [ 0.04 -0.05  0.01] 1.8130884852974605 1.817463075933432 1.8117202416581737\n",
      "1096 [ 0.04 -0.05  0.02] 1.827381887943445 1.8313038784352607 1.8265113960121075\n",
      "1097 [ 0.04 -0.05  0.03] 1.85171941103839 1.854758326977966 1.8513501458306063\n",
      "1098 [ 0.04 -0.05  0.04] 1.88629039418033 1.8882793198669043 1.8861807105476505\n",
      "1099 [ 0.04 -0.05  0.05] 1.930393157694322 1.9326016400622867 1.9302389286149735\n",
      "1100 [ 0.04 -0.04 -0.05] 1.886290394180345 1.8882793198668635 1.8861807105476984\n",
      "1101 [ 0.04 -0.04 -0.04] 1.8367361807371099 1.8367361807366782 1.8367361807366382\n",
      "1102 [ 0.04 -0.04 -0.03] 1.7963356659060947 1.798143187357109 1.7962081264306544\n",
      "1103 [ 0.04 -0.04 -0.02] 1.767710423480234 1.770753398664226 1.7672279225965033\n",
      "1104 [ 0.04 -0.04 -0.01] 1.7508187549704557 1.7545068037991927 1.7499265839903106\n",
      "1105 [ 0.04 -0.04  0.  ] 1.7452656459829399 1.7491388493863722 1.7441882187131545\n",
      "1106 [ 0.04 -0.04  0.01] 1.7508187549709415 1.7545068037983063 1.7499265839912148\n",
      "1107 [ 0.04 -0.04  0.02] 1.7677104234802226 1.7707533986627277 1.7672279225959135\n",
      "1108 [ 0.04 -0.04  0.03] 1.796335665905218 1.79814318735672 1.7962081264297565\n",
      "1109 [ 0.04 -0.04  0.04] 1.8367361807369837 1.836736180736371 1.836736180736306\n",
      "1110 [ 0.04 -0.04  0.05] 1.8862903941801576 1.8882793198668502 1.886180710547607\n",
      "1111 [ 0.04 -0.03 -0.05] 1.8517194110382569 1.8547583269778167 1.8513501458303558\n",
      "1112 [ 0.04 -0.03 -0.04] 1.7963356659059562 1.7981431873567688 1.7962081264305727\n",
      "1113 [ 0.04 -0.03 -0.03] 1.7521393898903268 1.7536954372126745 1.7520595633514153\n",
      "1114 [ 0.04 -0.03 -0.02] 1.720071796712455 1.7223604496070184 1.7197868035487307\n",
      "1115 [ 0.04 -0.03 -0.01] 1.7010072112639802 1.7038161479705947 1.7003762752010605\n",
      "1116 [ 0.04 -0.03  0.  ] 1.6947411765266107 1.6977010334063554 1.6939354726826874\n",
      "1117 [ 0.04 -0.03  0.01] 1.7010072112629624 1.7038161479704126 1.700376275201081\n",
      "1118 [ 0.04 -0.03  0.02] 1.720071796712002 1.722360449606386 1.7197868035483506\n",
      "1119 [ 0.04 -0.03  0.03] 1.7521393898902593 1.7536954372133948 1.7520595633513905\n",
      "1120 [ 0.04 -0.03  0.04] 1.7963356659058771 1.7981431873570877 1.796208126430785\n",
      "1121 [ 0.04 -0.03  0.05] 1.851719411038153 1.8547583269777164 1.8513501458302315\n",
      "1122 [ 0.04 -0.02 -0.05] 1.8273818879433854 1.831303878435258 1.8265113960121075\n",
      "1123 [ 0.04 -0.02 -0.04] 1.7677104234800813 1.7707533986621886 1.7672279225952598\n",
      "1124 [ 0.04 -0.02 -0.03] 1.720071796711423 1.7223604496074625 1.7197868035484287\n",
      "1125 [ 0.04 -0.02 -0.02] 1.6856634994984052 1.6877721026828407 1.6855272617262687\n",
      "1126 [ 0.04 -0.02 -0.01] 1.665296921510448 1.6673280353334112 1.664922297052727\n",
      "1127 [ 0.04 -0.02  0.  ] 1.6586497937219358 1.6606263249536974 1.6580918051052755\n",
      "1128 [ 0.04 -0.02  0.01] 1.665296921509822 1.667328035333763 1.6649222970527129\n",
      "1129 [ 0.04 -0.02  0.02] 1.6856634994983288 1.6877721026828976 1.685527261725757\n",
      "1130 [ 0.04 -0.02  0.03] 1.7200717967123342 1.722360449606719 1.7197868035487467\n",
      "1131 [ 0.04 -0.02  0.04] 1.767710423479513 1.770753398662559 1.7672279225957697\n",
      "1132 [ 0.04 -0.02  0.05] 1.8273818879441688 1.8313038784356834 1.8265113960126218\n",
      "1133 [ 0.04 -0.01 -0.05] 1.8130884852968343 1.817463075932097 1.8117202416582208\n",
      "1134 [ 0.04 -0.01 -0.04] 1.7508187549690275 1.7545068037983276 1.7499265839905043\n",
      "1135 [ 0.04 -0.01 -0.03] 1.7010072112627714 1.7038161479698486 1.7003762752008837\n",
      "1136 [ 0.04 -0.01 -0.02] 1.665296921509798 1.667328035333 1.664922297052593\n",
      "1137 [ 0.04 -0.01 -0.01] 1.6443574565551966 1.6459369042789316 1.644329623949873\n",
      "1138 [ 0.04 -0.01  0.  ] 1.637778362148734 1.6388468610351046 1.6375728205594555\n",
      "1139 [ 0.04 -0.01  0.01] 1.6443574565535721 1.6459369042786491 1.6443296239488587\n",
      "1140 [ 0.04 -0.01  0.02] 1.6652969215103637 1.6673280353337434 1.6649222970535407\n",
      "1141 [ 0.04 -0.01  0.03] 1.7010072112632235 1.7038161479702847 1.700376275201064\n",
      "1142 [ 0.04 -0.01  0.04] 1.750818754971026 1.7545068037982956 1.7499265839916696\n",
      "1143 [ 0.04 -0.01  0.05] 1.813088485297957 1.8174630759348283 1.8117202416588398\n",
      "1144 [ 0.04  0.   -0.05] 1.808395343725052 1.8128950144857923 1.8068171935921917\n",
      "1145 [ 0.04  0.   -0.04] 1.7452656459830056 1.7491388493884816 1.744188218713563\n",
      "1146 [ 0.04  0.   -0.03] 1.694741176527013 1.6977010334057159 1.6939354726829077\n",
      "1147 [ 0.04  0.   -0.02] 1.6586497937212688 1.6606263249548192 1.6580918051057196\n",
      "1148 [ 0.04  0.   -0.01] 1.63777836214937 1.63884686103723 1.6375728205599591\n",
      "1149 [0.04 0.   0.  ] 1.6314836188348911 1.6314836188354294 1.6314836188347908\n",
      "1150 [0.04 0.   0.01] 1.637778362150545 1.638846861035935 1.6375728205605489\n",
      "1151 [0.04 0.   0.02] 1.658649793721609 1.6606263249544764 1.6580918051057978\n",
      "1152 [0.04 0.   0.03] 1.6947411765265192 1.6977010334065863 1.6939354726823668\n",
      "1153 [0.04 0.   0.04] 1.7452656459832774 1.7491388493875943 1.7441882187140498\n",
      "1154 [0.04 0.   0.05] 1.8083953437253033 1.8128950144860587 1.8068171935919173\n",
      "1155 [ 0.04  0.01 -0.05] 1.8130884852969968 1.8174630759331691 1.8117202416573903\n",
      "1156 [ 0.04  0.01 -0.04] 1.750818754969064 1.754506803797673 1.7499265839888913\n",
      "1157 [ 0.04  0.01 -0.03] 1.7010072112619987 1.703816147971847 1.700376275201462\n",
      "1158 [ 0.04  0.01 -0.02] 1.6652969215097624 1.667328035333533 1.6649222970530202\n",
      "1159 [ 0.04  0.01 -0.01] 1.644357456554884 1.6459369042787442 1.6443296239495773\n",
      "1160 [0.04 0.01 0.  ] 1.637778362149163 1.638846861035927 1.6375728205603641\n",
      "1161 [0.04 0.01 0.01] 1.6443574565553467 1.645936904279603 1.6443296239501102\n",
      "1162 [0.04 0.01 0.02] 1.6652969215098476 1.6673280353335445 1.66492229705307\n",
      "1163 [0.04 0.01 0.03] 1.701007211262053 1.7038161479704366 1.7003762752007505\n",
      "1164 [0.04 0.01 0.04] 1.7508187549701866 1.7545068037983471 1.7499265839907707\n",
      "1165 [0.04 0.01 0.05] 1.8130884852964444 1.8174630759322898 1.811720241657504\n",
      "1166 [ 0.04  0.02 -0.05] 1.8273818879434094 1.8313038784354543 1.826511396012478\n",
      "1167 [ 0.04  0.02 -0.04] 1.767710423480258 1.770753398662701 1.7672279225959162\n",
      "1168 [ 0.04  0.02 -0.03] 1.7200717967119674 1.7223604496064482 1.7197868035483665\n",
      "1169 [ 0.04  0.02 -0.02] 1.6856634994975472 1.6877721026829526 1.685527261725822\n",
      "1170 [ 0.04  0.02 -0.01] 1.6652969215111586 1.6673280353341156 1.6649222970543134\n",
      "1171 [0.04 0.02 0.  ] 1.6586497937216276 1.6606263249544755 1.6580918051057916\n",
      "1172 [0.04 0.02 0.01] 1.665296921509884 1.6673280353343642 1.6649222970537014\n",
      "1173 [0.04 0.02 0.02] 1.685663499497446 1.6877721026834474 1.6855272617256016\n",
      "1174 [0.04 0.02 0.03] 1.720071796712161 1.722360449606609 1.7197868035485167\n",
      "1175 [0.04 0.02 0.04] 1.7677104234806036 1.7707533986621744 1.7672279225959233\n",
      "1176 [0.04 0.02 0.05] 1.827381887942626 1.8313038784352793 1.82651139601189\n",
      "1177 [ 0.04  0.03 -0.05] 1.8517194110381148 1.8547583269784997 1.8513501458302688\n",
      "1178 [ 0.04  0.03 -0.04] 1.796335665906108 1.7981431873560911 1.7962081264298346\n",
      "1179 [ 0.04  0.03 -0.03] 1.752139389890469 1.753695437213401 1.7520595633514482\n",
      "1180 [ 0.04  0.03 -0.02] 1.720071796712416 1.722360449606727 1.7197868035487494\n",
      "1181 [ 0.04  0.03 -0.01] 1.7010072112626116 1.7038161479698193 1.7003762752004796\n",
      "1182 [0.04 0.03 0.  ] 1.694741176526616 1.6977010334088227 1.693935472683438\n",
      "1183 [0.04 0.03 0.01] 1.7010072112629455 1.7038161479704206 1.700376275201064\n",
      "1184 [0.04 0.03 0.02] 1.7200717967122667 1.7223604496063851 1.7197868035484154\n",
      "1185 [0.04 0.03 0.03] 1.7521393898903979 1.7536954372134304 1.752059563351546\n",
      "1186 [0.04 0.03 0.04] 1.7963356659060743 1.7981431873570548 1.796208126430705\n",
      "1187 [0.04 0.03 0.05] 1.8517194110382054 1.8547583269778665 1.8513501458303079\n",
      "1188 [ 0.04  0.04 -0.05] 1.886290394180242 1.888279319866978 1.8861807105476478\n",
      "1189 [ 0.04  0.04 -0.04] 1.8367361807367848 1.8367361807373594 1.836736180736657\n",
      "1190 [ 0.04  0.04 -0.03] 1.7963356659058682 1.7981431873566844 1.7962081264304004\n",
      "1191 [ 0.04  0.04 -0.02] 1.7677104234808354 1.770753398663481 1.7672279225964793\n",
      "1192 [ 0.04  0.04 -0.01] 1.750818754970446 1.7545068037998606 1.7499265839922744\n",
      "1193 [0.04 0.04 0.  ] 1.7452656459830935 1.7491388493869628 1.744188218713453\n",
      "1194 [0.04 0.04 0.01] 1.7508187549701164 1.7545068037980371 1.7499265839905922\n",
      "1195 [0.04 0.04 0.02] 1.7677104234802634 1.7707533986627926 1.7672279225958967\n",
      "1196 [0.04 0.04 0.03] 1.7963356659059366 1.7981431873572618 1.7962081264306002\n",
      "1197 [0.04 0.04 0.04] 1.8367361807367653 1.8367361807361293 1.8367361807361178\n",
      "1198 [0.04 0.04 0.05] 1.886290394180259 1.8882793198671433 1.8861807105477126\n",
      "1199 [ 0.04  0.05 -0.05] 1.930393157694657 1.9326016400620114 1.9302389286150303\n",
      "1200 [ 0.04  0.05 -0.04] 1.8862903941802234 1.8882793198656573 1.886180710547615\n",
      "1201 [ 0.04  0.05 -0.03] 1.8517194110381645 1.8547583269785353 1.8513501458306338\n",
      "1202 [ 0.04  0.05 -0.02] 1.8273818879436652 1.831303878434488 1.8265113960116661\n",
      "1203 [ 0.04  0.05 -0.01] 1.8130884852973397 1.8174630759323307 1.8117202416571638\n",
      "1204 [0.04 0.05 0.  ] 1.8083953437244267 1.8128950144841296 1.8068171935910433\n",
      "1205 [0.04 0.05 0.01] 1.8130884852959657 1.817463075933536 1.8117202416577278\n",
      "1206 [0.04 0.05 0.02] 1.8273818879435257 1.8313038784346238 1.826511396011342\n",
      "1207 [0.04 0.05 0.03] 1.8517194110382 1.8547583269778443 1.8513501458303212\n",
      "1208 [0.04 0.05 0.04] 1.8862903941803104 1.8882793198670242 1.8861807105477402\n",
      "1209 [0.04 0.05 0.05] 1.9303931576942466 1.9326016400617805 1.9302389286143296\n",
      "1210 [ 0.05 -0.05 -0.05] 1.9710532670488874 1.9710532670489895 1.9710532670484922\n",
      "1211 [ 0.05 -0.05 -0.04] 1.9303931576943487 1.9326016400623107 1.9302389286149513\n",
      "1212 [ 0.05 -0.05 -0.03] 1.8993259160774238 1.9031565014396916 1.8987271447701257\n",
      "1213 [ 0.05 -0.05 -0.02] 1.8776416115814554 1.8824824150704522 1.876434795370117\n",
      "1214 [ 0.05 -0.05 -0.01] 1.8649149436736279 1.870256938511326 1.863175327089575\n",
      "1215 [ 0.05 -0.05  0.  ] 1.8607301032766133 1.8662153257230445 1.858777878483191\n",
      "1216 [ 0.05 -0.05  0.01] 1.8649149436739112 1.8702569385142453 1.8631753270901177\n",
      "1217 [ 0.05 -0.05  0.02] 1.8776416115825363 1.882482415070939 1.8764347953706206\n",
      "1218 [ 0.05 -0.05  0.03] 1.8993259160761458 1.9031565014392164 1.898727144768464\n",
      "1219 [ 0.05 -0.05  0.04] 1.9303931576943194 1.9326016400628419 1.9302389286149628\n",
      "1220 [ 0.05 -0.05  0.05] 1.9710532670490304 1.97105326704905 1.9710532670490304\n",
      "1221 [ 0.05 -0.04 -0.05] 1.9303931576946676 1.9326016400618613 1.9302389286150934\n",
      "1222 [ 0.05 -0.04 -0.04] 1.8862903941801 1.8882793198668715 1.8861807105476984\n",
      "1223 [ 0.05 -0.04 -0.03] 1.8517194110378057 1.8547583269777945 1.851350145829902\n",
      "1224 [ 0.05 -0.04 -0.02] 1.8273818879434014 1.8313038784353335 1.826511396012167\n",
      "1225 [ 0.05 -0.04 -0.01] 1.8130884852968991 1.8174630759332508 1.8117202416579294\n",
      "1226 [ 0.05 -0.04  0.  ] 1.8083953437246816 1.8128950144851856 1.8068171935910247\n",
      "1227 [ 0.05 -0.04  0.01] 1.8130884852966735 1.817463075933115 1.811720241657719\n",
      "1228 [ 0.05 -0.04  0.02] 1.8273818879438037 1.8313038784349365 1.8265113960118242\n",
      "1229 [ 0.05 -0.04  0.03] 1.8517194110385287 1.8547583269778718 1.8513501458306036\n",
      "1230 [ 0.05 -0.04  0.04] 1.8862903941800617 1.8882793198668724 1.8861807105475412\n",
      "1231 [ 0.05 -0.04  0.05] 1.9303931576941915 1.9326016400623187 1.9302389286148047\n",
      "1232 [ 0.05 -0.03 -0.05] 1.899325916076113 1.9031565014391854 1.8987271447684062\n",
      "1233 [ 0.05 -0.03 -0.04] 1.851719411038241 1.8547583269778496 1.8513501458303292\n",
      "1234 [ 0.05 -0.03 -0.03] 1.8145959104283218 1.8176313282066747 1.814338939054272\n",
      "1235 [ 0.05 -0.03 -0.02] 1.788426100258877 1.7917000658670332 1.7878598975642355\n",
      "1236 [ 0.05 -0.03 -0.01] 1.7731101950719674 1.7764756032028393 1.7720576860120207\n",
      "1237 [ 0.05 -0.03  0.  ] 1.7681027535848362 1.771474166091303 1.7668270380068716\n",
      "1238 [ 0.05 -0.03  0.01] 1.7731101950726806 1.7764756032020692 1.7720576860128672\n",
      "1239 [ 0.05 -0.03  0.02] 1.788426100259132 1.7917000658667916 1.7878598975643953\n",
      "1240 [ 0.05 -0.03  0.03] 1.8145959104276912 1.8176313282065575 1.814338939053715\n",
      "1241 [ 0.05 -0.03  0.04] 1.8517194110384088 1.8547583269778416 1.8513501458304082\n",
      "1242 [ 0.05 -0.03  0.05] 1.8993259160763634 1.9031565014394909 1.898727144768749\n",
      "1243 [ 0.05 -0.02 -0.05] 1.8776416115815042 1.8824824150704718 1.876434795370117\n",
      "1244 [ 0.05 -0.02 -0.04] 1.8273818879439734 1.831303878435473 1.8265113960117594\n",
      "1245 [ 0.05 -0.02 -0.03] 1.7884261002589446 1.7917000658671451 1.787859897564494\n",
      "1246 [ 0.05 -0.02 -0.02] 1.7610577792994828 1.7641684149204426 1.7608512648606203\n",
      "1247 [ 0.05 -0.02 -0.01] 1.745377089411929 1.7479677604875743 1.7448071477140648\n",
      "1248 [ 0.05 -0.02  0.  ] 1.740329571947048 1.7426590179616284 1.7395113508638227\n",
      "1249 [ 0.05 -0.02  0.01] 1.7453770894127727 1.7479677604883737 1.7448071477147362\n",
      "1250 [ 0.05 -0.02  0.02] 1.761057779299807 1.7641684149187835 1.7608512648598618\n",
      "1251 [ 0.05 -0.02  0.03] 1.7884261002589312 1.7917000658666398 1.7878598975642932\n",
      "1252 [ 0.05 -0.02  0.04] 1.8273818879433907 1.83130387843525 1.8265113960121075\n",
      "1253 [ 0.05 -0.02  0.05] 1.8776416115805663 1.8824824150702648 1.8764347953691516\n",
      "1254 [ 0.05 -0.01 -0.05] 1.864914943673332 1.8702569385122585 1.8631753270896434\n",
      "1255 [ 0.05 -0.01 -0.04] 1.8130884852972828 1.8174630759332882 1.8117202416578584\n",
      "1256 [ 0.05 -0.01 -0.03] 1.773110195072774 1.7764756032019013 1.772057686013282\n",
      "1257 [ 0.05 -0.01 -0.02] 1.7453770894124236 1.7479677604862758 1.7448071477138738\n",
      "1258 [ 0.05 -0.01 -0.01] 1.7294966872032713 1.7315776227993451 1.7294858726851992\n",
      "1259 [ 0.05 -0.01  0.  ] 1.7246966901129124 1.7260168917275296 1.7244261642150711\n",
      "1260 [ 0.05 -0.01  0.01] 1.7294966872033015 1.731577622799259 1.729485872685184\n",
      "1261 [ 0.05 -0.01  0.02] 1.7453770894119636 1.7479677604880965 1.7448071477148535\n",
      "1262 [ 0.05 -0.01  0.03] 1.773110195071201 1.7764756032008018 1.7720576860115855\n",
      "1263 [ 0.05 -0.01  0.04] 1.8130884852972695 1.817463075933519 1.8117202416580351\n",
      "1264 [ 0.05 -0.01  0.05] 1.864914943672499 1.8702569385115 1.86317532708886\n",
      "1265 [ 0.05  0.   -0.05] 1.860730103277568 1.866215325722628 1.8587778784835285\n",
      "1266 [ 0.05  0.   -0.04] 1.8083953437248699 1.812895014485866 1.8068171935921153\n",
      "1267 [ 0.05  0.   -0.03] 1.7681027535845972 1.7714741660922062 1.766827038006947\n",
      "1268 [ 0.05  0.   -0.02] 1.7403295719469547 1.7426590179625814 1.7395113508643307\n",
      "1269 [ 0.05  0.   -0.01] 1.7246966901127845 1.7260168917277134 1.7244261642152852\n",
      "1270 [0.05 0.   0.  ] 1.7202073374437896 1.72020733744289 1.7202073374422566\n",
      "1271 [0.05 0.   0.01] 1.7246966901127543 1.7260168917276753 1.724426164215239\n",
      "1272 [0.05 0.   0.02] 1.7403295719474912 1.7426590179617811 1.7395113508642375\n",
      "1273 [0.05 0.   0.03] 1.7681027535847305 1.7714741660925428 1.7668270380069657\n",
      "1274 [0.05 0.   0.04] 1.808395343725044 1.8128950144852078 1.8068171935918516\n",
      "1275 [0.05 0.   0.05] 1.8607301032768202 1.8662153257231306 1.8587778784828641\n",
      "1276 [ 0.05  0.01 -0.05] 1.864914943674047 1.870256938512604 1.8631753270910112\n",
      "1277 [ 0.05  0.01 -0.04] 1.8130884852957623 1.817463075933964 1.811720241657663\n",
      "1278 [ 0.05  0.01 -0.03] 1.773110195071661 1.776475603201403 1.7720576860116406\n",
      "1279 [ 0.05  0.01 -0.02] 1.7453770894119858 1.7479677604876578 1.744807147714222\n",
      "1280 [ 0.05  0.01 -0.01] 1.729496687203678 1.7315776228003719 1.7294858726856361\n",
      "1281 [0.05 0.01 0.  ] 1.7246966901121779 1.7260168917278467 1.7244261642150622\n",
      "1282 [0.05 0.01 0.01] 1.72949668720337 1.731577622798671 1.729485872684994\n",
      "1283 [0.05 0.01 0.02] 1.7453770894120808 1.7479677604875956 1.7448071477141838\n",
      "1284 [0.05 0.01 0.03] 1.7731101950719061 1.7764756032017406 1.7720576860123813\n",
      "1285 [0.05 0.01 0.04] 1.8130884852957188 1.8174630759328734 1.8117202416572464\n"
     ]
    },
    {
     "name": "stdout",
     "output_type": "stream",
     "text": [
      "1286 [0.05 0.01 0.05] 1.8649149436730976 1.8702569385114485 1.8631753270893876\n",
      "1287 [ 0.05  0.02 -0.05] 1.8776416115815753 1.8824824150709052 1.8764347953707237\n",
      "1288 [ 0.05  0.02 -0.04] 1.8273818879429085 1.8313038784345537 1.8265113960115\n",
      "1289 [ 0.05  0.02 -0.03] 1.7884261002591089 1.7917000658667597 1.787859897564383\n",
      "1290 [ 0.05  0.02 -0.02] 1.7610577793004243 1.7641684149200296 1.7608512648602916\n",
      "1291 [ 0.05  0.02 -0.01] 1.7453770894111145 1.747967760487617 1.7448071477133213\n",
      "1292 [0.05 0.02 0.  ] 1.7403295719473206 1.742659017961441 1.7395113508644302\n",
      "1293 [0.05 0.02 0.01] 1.7453770894124343 1.7479677604888826 1.7448071477143658\n",
      "1294 [0.05 0.02 0.02] 1.761057779299831 1.764168414920002 1.7608512648602446\n",
      "1295 [0.05 0.02 0.03] 1.7884261002583433 1.791700065867107 1.7878598975642372\n",
      "1296 [0.05 0.02 0.04] 1.8273818879433437 1.8313038784352331 1.8265113960121262\n",
      "1297 [0.05 0.02 0.05] 1.8776416115817467 1.882482415070684 1.8764347953702964\n",
      "1298 [ 0.05  0.03 -0.05] 1.8993259160761404 1.903156501439172 1.8987271447684142\n",
      "1299 [ 0.05  0.03 -0.04] 1.8517194110390331 1.85475832697864 1.851350145830895\n",
      "1300 [ 0.05  0.03 -0.03] 1.8145959104278564 1.8176313282067014 1.8143389390538367\n",
      "1301 [ 0.05  0.03 -0.02] 1.7884261002591764 1.7917000658667348 1.7878598975643394\n",
      "1302 [ 0.05  0.03 -0.01] 1.7731101950723112 1.7764756032004865 1.7720576860115456\n",
      "1303 [0.05 0.03 0.  ] 1.7681027535844231 1.77147416609259 1.7668270380075102\n",
      "1304 [0.05 0.03 0.01] 1.773110195072186 1.776475603201054 1.7720576860127286\n",
      "1305 [0.05 0.03 0.02] 1.7884261002591 1.791700065866836 1.7878598975643962\n",
      "1306 [0.05 0.03 0.03] 1.814595910427859 1.8176313282067555 1.8143389390538935\n",
      "1307 [0.05 0.03 0.04] 1.8517194110384558 1.8547583269785024 1.8513501458305983\n",
      "1308 [0.05 0.03 0.05] 1.8993259160761538 1.9031565014392067 1.8987271447687109\n",
      "1309 [ 0.05  0.04 -0.05] 1.9303931576940867 1.9326016400619892 1.9302389286147141\n",
      "1310 [ 0.05  0.04 -0.04] 1.8862903941811453 1.8882793198673715 1.8861807105486967\n",
      "1311 [ 0.05  0.04 -0.03] 1.8517194110382782 1.854758326977847 1.8513501458302661\n",
      "1312 [ 0.05  0.04 -0.02] 1.8273818879428125 1.83130387843479 1.8265113960116626\n",
      "1313 [ 0.05  0.04 -0.01] 1.8130884852976417 1.8174630759341373 1.8117202416591747\n",
      "1314 [0.05 0.04 0.  ] 1.8083953437247482 1.8128950144849325 1.806817193591125\n",
      "1315 [0.05 0.04 0.01] 1.81308848529682 1.817463075933195 1.8117202416581861\n",
      "1316 [0.05 0.04 0.02] 1.8273818879431625 1.83130387843506 1.8265113960120294\n",
      "1317 [0.05 0.04 0.03] 1.8517194110381485 1.8547583269775476 1.8513501458301365\n",
      "1318 [0.05 0.04 0.04] 1.8862903941803975 1.8882793198669914 1.886180710547693\n",
      "1319 [0.05 0.04 0.05] 1.9303931576941755 1.9326016400621233 1.9302389286147186\n",
      "1320 [ 0.05  0.05 -0.05] 1.9710532670485197 1.9710532670483714 1.9710532670481573\n",
      "1321 [ 0.05  0.05 -0.04] 1.930393157694338 1.93260164006203 1.93023892861497\n",
      "1322 [ 0.05  0.05 -0.03] 1.8993259160761315 1.9031565014392537 1.8987271447684764\n",
      "1323 [ 0.05  0.05 -0.02] 1.8776416115817227 1.8824824150715909 1.8764347953703844\n",
      "1324 [ 0.05  0.05 -0.01] 1.8649149436735986 1.8702569385113916 1.863175327089328\n",
      "1325 [0.05 0.05 0.  ] 1.8607301032772936 1.8662153257233491 1.8587778784840152\n",
      "1326 [0.05 0.05 0.01] 1.8649149436735497 1.8702569385128873 1.8631753270903868\n",
      "1327 [0.05 0.05 0.02] 1.877641611581101 1.8824824150701867 1.8764347953696925\n",
      "1328 [0.05 0.05 0.03] 1.8993259160763083 1.9031565014390628 1.8987271447684275\n",
      "1329 [0.05 0.05 0.04] 1.9303931576941968 1.9326016400621508 1.9302389286147728\n",
      "1330 [0.05 0.05 0.05] 1.9710532670477736 1.9710532670489052 1.97105326704758\n"
     ]
    }
   ],
   "source": [
    "gap1 = 1.0+bands_regular[:,9]-bands_regular[:,7]\n",
    "gap2 = 1.0+bands_regular[:,10]-bands_regular[:,8]\n",
    "gap3 = 1.0+bands_regular[:,9]-bands_regular[:,8]\n",
    "\n",
    "for ind in range(len(k_values_regular)):\n",
    "    if gap1[ind] < 2.0: print(ind, kpoints_cart_regular[ind],gap1[ind],gap2[ind],gap3[ind])"
   ]
  },
  {
   "cell_type": "markdown",
   "metadata": {},
   "source": [
    "also in this case all the point contribute"
   ]
  },
  {
   "cell_type": "markdown",
   "metadata": {},
   "source": [
    "## Ypp bands"
   ]
  },
  {
   "cell_type": "markdown",
   "metadata": {},
   "source": [
    "The band structure can be extracted from the nscf computation on a grid using ypp. \n",
    "\n",
    "For each choice of the nscf .save folder we have a different dataset (each of which will be composed by only one computation)"
   ]
  },
  {
   "cell_type": "code",
   "execution_count": 18,
   "metadata": {},
   "outputs": [
    {
     "name": "stdout",
     "output_type": "stream",
     "text": [
      "Initialize a Yambo calculator with command OMP_NUM_THREADS=1 mpirun -np 1 ypp\n",
      "Suffix for post_processing :  bands_interpolated\n"
     ]
    }
   ],
   "source": [
    "code = C.YamboCalculator(omp=1,mpi_run='mpirun -np 1',executable='ypp',suffix='bands_interpolated',skip=False)"
   ]
  },
  {
   "cell_type": "markdown",
   "metadata": {},
   "source": [
    "We organize the various datasets in a dictionary (is it possible to build a high hierarchy dataset?)"
   ]
  },
  {
   "cell_type": "code",
   "execution_count": 19,
   "metadata": {},
   "outputs": [
    {
     "name": "stdout",
     "output_type": "stream",
     "text": [
      "Create folder ypp_bands_k8\n",
      "execute :  cd nscf/bnds_40-kpoints_8.save;p2y -a 2\n",
      "execute :  cp -r nscf/bnds_40-kpoints_8.save/SAVE ypp_bands_k8\n",
      "execute :  cd ypp_bands_k8;OMP_NUM_THREADS=1 yambo\n",
      "Create folder ypp_bands_k10\n",
      "execute :  cd nscf/bnds_40-kpoints_10.save;p2y -a 2\n",
      "execute :  cp -r nscf/bnds_40-kpoints_10.save/SAVE ypp_bands_k10\n",
      "execute :  cd ypp_bands_k10;OMP_NUM_THREADS=1 yambo\n"
     ]
    }
   ],
   "source": [
    "nscf_kvalues = [4,6,8,10,12] # to set the values for the non shifted grids\n",
    "\n",
    "ypp = {}\n",
    "for k in nscf_kvalues:\n",
    "    string = 'ypp_bands_k%s'%k\n",
    "    study = D.Dataset(label=string,run_dir=string,pre_processing='yambo')\n",
    "    source = 'nscf/bnds_40-kpoints_%s.save'%k\n",
    "    study.pre_processing_function(source_dir=source)\n",
    "    ypp[k] = study"
   ]
  },
  {
   "cell_type": "markdown",
   "metadata": {},
   "source": [
    "We build the input file and append the run to each dataset. The parameters of the path are given as"
   ]
  },
  {
   "cell_type": "code",
   "execution_count": 20,
   "metadata": {},
   "outputs": [],
   "source": [
    "# in alat\n",
    "G = [0.,0.,0.]\n",
    "X = [1.,0.,0.]\n",
    "L = [0.5,0.5,0.5]\n",
    "W = [1.0,0.5,0.]\n",
    "path = [L,G,X,W]\n",
    "\n",
    "band_range = [1,12]\n",
    "bands_step = 50"
   ]
  },
  {
   "cell_type": "code",
   "execution_count": 21,
   "metadata": {},
   "outputs": [
    {
     "name": "stdout",
     "output_type": "stream",
     "text": [
      "execute :  cd ypp_bands_k8; ypp -s b -V all  -F ypp.in\n",
      "execute :  cd ypp_bands_k10; ypp -s b -V all  -F ypp.in\n"
     ]
    }
   ],
   "source": [
    "for k in ypp:\n",
    "    ypp_input = I.YppIn('ypp -s b -V all ',folder=ypp[k].run_dir)\n",
    "    input = ypp_input.getInput()\n",
    "    # scissor\n",
    "    input['GfnQP_E'] = [1.0,1.0,1.0]\n",
    "    # band structure\n",
    "    input['BANDS_steps'] = bands_step\n",
    "    input['BANDS_bands'] = band_range\n",
    "    input['BANDS_kpts'] = path\n",
    "    input['cooIn'] = 'alat'\n",
    "    input['cooOut'] = 'alat'\n",
    "    \n",
    "    idd = {'ypp_bands_k' : k}\n",
    "    ypp[k].append_run(id=idd,calculator=code,input=ypp_input)"
   ]
  },
  {
   "cell_type": "markdown",
   "metadata": {},
   "source": [
    "We can run all the datasets"
   ]
  },
  {
   "cell_type": "code",
   "execution_count": 22,
   "metadata": {},
   "outputs": [
    {
     "name": "stdout",
     "output_type": "stream",
     "text": [
      "execute :  cd ypp_bands_k8; ypp -s b -V all  -F ypp_bands_k_8.in\n",
      "execute : cd ypp_bands_k8 ; OMP_NUM_THREADS=1 mpirun -np 1 ypp -F ypp_bands_k_8.in -J ypp_bands_k_8 -C ypp_bands_k_8\n",
      "parse file : ypp_bands_k8/ypp_bands_k_8/o-ypp_bands_k_8.bands_interpolated\n",
      "execute :  cd ypp_bands_k10; ypp -s b -V all  -F ypp_bands_k_10.in\n",
      "execute : cd ypp_bands_k10 ; OMP_NUM_THREADS=1 mpirun -np 1 ypp -F ypp_bands_k_10.in -J ypp_bands_k_10 -C ypp_bands_k_10\n",
      "parse file : ypp_bands_k10/ypp_bands_k_10/o-ypp_bands_k_10.bands_interpolated\n"
     ]
    }
   ],
   "source": [
    "for k in ypp:\n",
    "    ypp[k].run()"
   ]
  },
  {
   "cell_type": "markdown",
   "metadata": {},
   "source": [
    "We compare the band structure obtained in the various datasets"
   ]
  },
  {
   "cell_type": "code",
   "execution_count": 23,
   "metadata": {},
   "outputs": [
    {
     "data": {
      "image/png": "[encoded data removed]",
      "text/plain": [
       "<Figure size 432x288 with 1 Axes>"
      ]
     },
     "metadata": {
      "needs_background": "light"
     },
     "output_type": "display_data"
    },
    {
     "data": {
      "image/png": "[encoded data removed]",
      "text/plain": [
       "<Figure size 432x288 with 1 Axes>"
      ]
     },
     "metadata": {
      "needs_background": "light"
     },
     "output_type": "display_data"
    }
   ],
   "source": [
    "for k,y in ypp.items():\n",
    "    kvalues = y.fetch_results(attribute='k')[0]\n",
    "    bands = []\n",
    "    for ind in range(1,13):\n",
    "        bands.append(y.fetch_results(attribute='b%s'%ind)[0])\n",
    "    for bnd in [3,5,7,9,11]:\n",
    "        plt.plot(kvalues,bands[bnd])\n",
    "    plt.title(y.label,size=14)\n",
    "    plt.ylim((-4,6))\n",
    "    plt.show()"
   ]
  },
  {
   "cell_type": "markdown",
   "metadata": {},
   "source": [
    "Comparing this plots we see that the band structure seems (quite) well converged at k=8"
   ]
  },
  {
   "cell_type": "markdown",
   "metadata": {},
   "source": [
    "We can identify the Gamma point on the path and compute the direct band gap for the various cases. The path is the same in all the computations so the identification of Gamma can be done only one time"
   ]
  },
  {
   "cell_type": "code",
   "execution_count": 26,
   "metadata": {},
   "outputs": [
    {
     "data": {
      "text/plain": [
       "43"
      ]
     },
     "execution_count": 26,
     "metadata": {},
     "output_type": "execute_result"
    }
   ],
   "source": [
    "kvalues = ypp[8].fetch_results(attribute='k')[0]\n",
    "for ind,k in enumerate(kvalues):\n",
    "    kx = ypp[8].fetch_results(attribute='k_x')[0][ind]\n",
    "    ky = ypp[8].fetch_results(attribute='k_y')[0][ind]\n",
    "    kz = ypp[8].fetch_results(attribute='k_z')[0][ind]\n",
    "    if kx == 0. and ky == 0. and kz == 0.:\n",
    "        gamma_position = ind\n",
    "gamma_position"
   ]
  },
  {
   "cell_type": "code",
   "execution_count": 27,
   "metadata": {},
   "outputs": [
    {
     "name": "stdout",
     "output_type": "stream",
     "text": [
      "Gap for k =  8  :  1.4181\n",
      "Gap for k =  10  :  1.4180\n"
     ]
    }
   ],
   "source": [
    "for k,y in ypp.items():\n",
    "    kvalues = y.fetch_results(attribute='k')[0]\n",
    "    bands = []\n",
    "    for ind in range(1,13):\n",
    "        bands.append(y.fetch_results(attribute='b%s'%ind)[0])\n",
    "    Delta = bands[8][gamma_position]-bands[7][gamma_position]\n",
    "    print('Gap for k = ',k,' : ','%.4f'%Delta)"
   ]
  },
  {
   "cell_type": "markdown",
   "metadata": {},
   "source": [
    "We can also plot the quantities reported in other files, for instance"
   ]
  },
  {
   "cell_type": "code",
   "execution_count": 28,
   "metadata": {},
   "outputs": [],
   "source": [
    "fname = 'ypp_bands_k8/ypp_bands_k_8/o-ypp_bands_k_8.magnetization_y'"
   ]
  },
  {
   "cell_type": "code",
   "execution_count": 29,
   "metadata": {},
   "outputs": [],
   "source": [
    "res = C.dict_parser(fname)"
   ]
  },
  {
   "cell_type": "code",
   "execution_count": 30,
   "metadata": {},
   "outputs": [
    {
     "data": {
      "image/png": "[encoded data removed]",
      "text/plain": [
       "<Figure size 432x288 with 1 Axes>"
      ]
     },
     "metadata": {
      "needs_background": "light"
     },
     "output_type": "display_data"
    }
   ],
   "source": [
    "kvalues = res['k']\n",
    "bands = []\n",
    "for ind in range(1,13):\n",
    "    b = 'b%s'%ind\n",
    "    bands.append(res[b])\n",
    "for bnd in [7]:\n",
    "    plt.plot(kvalues,bands[bnd])\n",
    "\n",
    "plt.show()"
   ]
  },
  {
   "cell_type": "code",
   "execution_count": null,
   "metadata": {},
   "outputs": [],
   "source": []
  },
  {
   "cell_type": "code",
   "execution_count": null,
   "metadata": {},
   "outputs": [],
   "source": []
  }
 ],
 "metadata": {
  "kernelspec": {
   "display_name": "Python 3",
   "language": "python",
   "name": "python3"
  },
  "language_info": {
   "codemirror_mode": {
    "name": "ipython",
    "version": 3
   },
   "file_extension": ".py",
   "mimetype": "text/x-python",
   "name": "python",
   "nbconvert_exporter": "python",
   "pygments_lexer": "ipython3",
   "version": "3.5.3"
  }
 },
 "nbformat": 4,
 "nbformat_minor": 2
}
