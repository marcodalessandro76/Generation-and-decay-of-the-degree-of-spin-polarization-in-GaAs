{
 "cells": [
  {
   "cell_type": "code",
   "execution_count": 1,
   "metadata": {},
   "outputs": [],
   "source": [
    "# useful to autoreload the module without restarting the kernel\n",
    "%load_ext autoreload\n",
    "%autoreload 2"
   ]
  },
  {
   "cell_type": "code",
   "execution_count": 2,
   "metadata": {},
   "outputs": [],
   "source": [
    "from mppi import InputFiles as I, Calculators as C, Datasets as D, Utilities as U, Parsers as P\n",
    "import matplotlib.pyplot as plt\n",
    "import numpy as np\n",
    "import os"
   ]
  },
  {
   "cell_type": "code",
   "execution_count": 3,
   "metadata": {},
   "outputs": [],
   "source": [
    "omp = 1\n",
    "mpi_run = 'mpirun -np 8'"
   ]
  },
  {
   "cell_type": "markdown",
   "metadata": {},
   "source": [
    "# RT analysis of GaAs"
   ]
  },
  {
   "cell_type": "markdown",
   "metadata": {},
   "source": [
    "This notebook contains the RT analysis of the GaAs performed with Yambo. In particular\n",
    "\n",
    "* Construction of the RT SAVE folder using ypp\n",
    "* Definition of the Dataset with the RT computations"
   ]
  },
  {
   "cell_type": "markdown",
   "metadata": {},
   "source": [
    "We select the source_dir used to generate the base SAVE folder and the associated Yambo run_dir"
   ]
  },
  {
   "cell_type": "code",
   "execution_count": 4,
   "metadata": {},
   "outputs": [],
   "source": [
    "source_dir = 'NSCF/bnds_16-sampling_gamma.save'\n",
    "#source_dir = 'NSCF/bnds_16-sampling_1k-nosym.save'\n",
    "#source_dir = 'NSCF/bnds_16-sampling_1k-maxfreq.save'\n",
    "#source_dir = 'NSCF/bnds_16-kpoints_50-sampling_random_close_Gamma.save'\n",
    "#source_dir = 'NSCF/bnds_16-kpoints_100-sampling_random_close_Gamma.save'\n",
    "\n",
    "run_dir = 'RT_Gamma'\n",
    "#run_dir = 'RT_1k-nosym'\n",
    "#run_dir = 'RT_1k-maxfreq'\n",
    "#run_dir = 'RT_k50'\n",
    "#run_dir = 'RT_k100'"
   ]
  },
  {
   "cell_type": "markdown",
   "metadata": {},
   "source": [
    "## Construction of the FixSymm folder"
   ]
  },
  {
   "cell_type": "markdown",
   "metadata": {},
   "source": [
    "The first step of this procedure is represented by the construction of the Yambo run_dir with the SAVE directory. \n",
    "\n"
   ]
  },
  {
   "cell_type": "code",
   "execution_count": 5,
   "metadata": {},
   "outputs": [
    {
     "name": "stdout",
     "output_type": "stream",
     "text": [
      "Create folder RT_Gamma\n",
      "Executing command: cd NSCF/bnds_16-sampling_gamma.save; p2y -a 2\n",
      "Create a symlink of /data/dalessandro/work/TiSPiEGA-Project/NSCF/bnds_16-sampling_gamma.save/SAVE in RT_Gamma\n",
      "Executing command: cd RT_Gamma;OMP_NUM_THREADS=1 yambo\n"
     ]
    }
   ],
   "source": [
    "U.build_SAVE(source_dir,run_dir,make_link=True)"
   ]
  },
  {
   "cell_type": "markdown",
   "metadata": {},
   "source": [
    "Perform the fixSymm procedure to build the SAVE folder for the RT analysis"
   ]
  },
  {
   "cell_type": "code",
   "execution_count": 6,
   "metadata": {},
   "outputs": [],
   "source": [
    "fixSymm_inp = I.YamboInput('ypp -y',folder=run_dir)\n",
    "fixSymm_inp.removeTimeReversal()\n",
    "fixSymm_inp.set_ypp_extFields(Efield1=[1.,0.,0.],Efield2=[0.,1.,0.])\n",
    "#fixSymm_inp"
   ]
  },
  {
   "cell_type": "code",
   "execution_count": 7,
   "metadata": {},
   "outputs": [
    {
     "name": "stdout",
     "output_type": "stream",
     "text": [
      "Initialize a parallel Yambo calculator with scheduler direct\n"
     ]
    }
   ],
   "source": [
    "code = C.YamboCalculator(mpi_run='mpirun -np 1',executable='ypp',skip=False)"
   ]
  },
  {
   "cell_type": "code",
   "execution_count": 8,
   "metadata": {},
   "outputs": [
    {
     "name": "stdout",
     "output_type": "stream",
     "text": [
      "Executing command: cd RT_Gamma; mpirun -np 1 ypp -F FixSymm.in -J FixSymm -C FixSymm\n",
      "run0_is_running:True  \n",
      "Job completed\n"
     ]
    },
    {
     "data": {
      "text/plain": [
       "{'dbs': ['RT_Gamma/FixSymm'], 'output': [[]]}"
      ]
     },
     "execution_count": 8,
     "metadata": {},
     "output_type": "execute_result"
    }
   ],
   "source": [
    "code.run(inputs=[fixSymm_inp],names=['FixSymm'],run_dir=run_dir)"
   ]
  },
  {
   "cell_type": "markdown",
   "metadata": {},
   "source": [
    "Run yambo_rt in the FixSymm folder to build the r_setup"
   ]
  },
  {
   "cell_type": "code",
   "execution_count": 9,
   "metadata": {},
   "outputs": [
    {
     "data": {
      "text/plain": [
       "0"
      ]
     },
     "execution_count": 9,
     "metadata": {},
     "output_type": "execute_result"
    }
   ],
   "source": [
    "rt_run_dir = os.path.join(run_dir,'FixSymm')\n",
    "command = 'cd %s; yambo_rt'%rt_run_dir\n",
    "os.system(command)"
   ]
  },
  {
   "cell_type": "markdown",
   "metadata": {},
   "source": [
    "## RT calculations"
   ]
  },
  {
   "cell_type": "markdown",
   "metadata": {},
   "source": [
    "We build the input(s) and run the calculations for the RT analysis. \n",
    "\n",
    "First of all we identify the run_dir for RT analysis and (if needed) we change the name of the ns.kb_pp_pwscf database to non-local\n",
    "contributions of the psp"
   ]
  },
  {
   "cell_type": "code",
   "execution_count": 10,
   "metadata": {},
   "outputs": [
    {
     "data": {
      "text/plain": [
       "'RT_Gamma/FixSymm'"
      ]
     },
     "execution_count": 10,
     "metadata": {},
     "output_type": "execute_result"
    }
   ],
   "source": [
    "rt_run_dir = os.path.join(run_dir,'FixSymm')\n",
    "rt_run_dir"
   ]
  },
  {
   "cell_type": "code",
   "execution_count": 11,
   "metadata": {},
   "outputs": [
    {
     "name": "stdout",
     "output_type": "stream",
     "text": [
      "mv RT_Gamma/FixSymm/SAVE/ns.kb_pp_pwscf RT_Gamma/FixSymm/SAVE/ns.kb_pp_pwscf_hide\n"
     ]
    },
    {
     "data": {
      "text/plain": [
       "0"
      ]
     },
     "execution_count": 11,
     "metadata": {},
     "output_type": "execute_result"
    }
   ],
   "source": [
    "db = 'ns.kb_pp_pwscf'\n",
    "src = os.path.join(rt_run_dir,'SAVE',db)\n",
    "dst = os.path.join(rt_run_dir,'SAVE',db+'_hide')\n",
    "command = 'mv %s %s'%(src,dst)\n",
    "print(command)\n",
    "os.system(command)"
   ]
  },
  {
   "cell_type": "markdown",
   "metadata": {},
   "source": [
    "We define the basic elements of the input file"
   ]
  },
  {
   "cell_type": "code",
   "execution_count": 15,
   "metadata": {},
   "outputs": [],
   "source": [
    "#field parameters\n",
    "field_int = 1000.0 #kWLm2\n",
    "field_width = 100 #fs set the width of the FWHM \n",
    "field_pol = 'circular'\n",
    "field_freq = 1.55 #eV\n",
    "\n",
    "# system parameters\n",
    "bands = [3,10] # from the split-off bands (3,4) to the first conduction bands (9,10)\n",
    "scissor = 0.5467 # (eV) (taken from QE_Analysis it gives a direct gap of 1.42 eV)\n",
    "deph_val  = 0.002 # (eV) the sum of the dephasings is 1/10 of the field spread\n",
    "deph_cond = deph_val# eV \n",
    "\n",
    "# simulation parameters\n",
    "time_step = 10 #as\n",
    "sim_time = 6*field_width\n",
    "k_parallel = int(mpi_run.lstrip('mpirun -np '))"
   ]
  },
  {
   "cell_type": "code",
   "execution_count": 16,
   "metadata": {},
   "outputs": [
    {
     "data": {
      "text/plain": [
       "{'args': 'yambo_rt -n p -v ip -V rt',\n",
       " 'arguments': ['life', 'negf', 'DephCVonly'],\n",
       " 'filename': 'yambo.in',\n",
       " 'folder': 'RT_Gamma/FixSymm',\n",
       " 'variables': {'DBsIOoff': 'carriers obs',\n",
       "  'DephEThresh': [0.0002721, 'eV'],\n",
       "  'DephMatrix': [[1, 1, 1, '-1.00000'], ''],\n",
       "  'FFTGvecs': [3479.0, 'RL'],\n",
       "  'Field1_DFreq': [0.0, 'eV'],\n",
       "  'Field1_Dir': [[1.0, 0.0, 0.0], ''],\n",
       "  'Field1_Dir_circ': [[0.0, 1.0, 0.0], ''],\n",
       "  'Field1_FWHM': [100, 'fs'],\n",
       "  'Field1_Freq': [[1.55, 1.55], 'eV'],\n",
       "  'Field1_Int': [1000.0, 'kWLm2'],\n",
       "  'Field1_Tstart': [0.0, 'fs'],\n",
       "  'Field1_Width': [0.0, 'fs'],\n",
       "  'Field1_kind': 'QSSIN',\n",
       "  'Field1_pol': 'circular',\n",
       "  'GfnQP_E': [[0.5467, 1.0, 1.0], ''],\n",
       "  'GfnQP_Wc': [[0.002, 0.0, 0.0], ''],\n",
       "  'GfnQP_Wv': [[0.002, 0.0, 0.0], ''],\n",
       "  'GfnRT_N': [1.0, ''],\n",
       "  'GfnRTdb': 'none',\n",
       "  'GrKind': 'HS',\n",
       "  'HXC_Potential': 'IP',\n",
       "  'IOCachetime': [2.0, 'fs'],\n",
       "  'IOtime': [[1.0, 5.0, 1.0], 'fs'],\n",
       "  'Integrator': 'RK2',\n",
       "  'NETime': [600, 'fs'],\n",
       "  'PhLifeTime': [0.0, 'fs'],\n",
       "  'RADLifeTime': [0.0, 'fs'],\n",
       "  'RAD_prefactor': [1.0, ''],\n",
       "  'RTBands': [[3, 10], ''],\n",
       "  'RT_CPU': '8.1.1.1',\n",
       "  'RT_Threads': [0.0, ''],\n",
       "  'RTehEny': [[0.0, 0.0], 'eV'],\n",
       "  'RTstep': [10, 'as'],\n",
       "  'ScattTresh': [-1.0, 'eV'],\n",
       "  'dT_MAX': [-1.0, 'fs'],\n",
       "  'dTupdateJump': [0.0, 'fs'],\n",
       "  'dTupdateTime': [0.0, 'fs'],\n",
       "  'dTupdateTresh': [0.1, '']}}"
      ]
     },
     "execution_count": 16,
     "metadata": {},
     "output_type": "execute_result"
    }
   ],
   "source": [
    "rt_input = I.YamboInput('yambo_rt -n p -v ip -V rt',folder=rt_run_dir)\n",
    "rt_input.set_rt_field(int=field_int,width=field_width,polarization=field_pol,freq=field_freq)\n",
    "rt_input.set_rt_bands(bands=bands,scissor=scissor,damping_valence=deph_val,damping_conduction=deph_cond)\n",
    "rt_input.set_rt_simulationTimes(sim_time=sim_time,time_units='fs',time_step=time_step)\n",
    "rt_input.set_rt_cpu(k_parallel)\n",
    "\n",
    "rt_input['arguments'].append('DephCVonly') # enable the dephasing only for cv transitions\n",
    "rt_input['variables']['DBsIOoff']='carriers obs'  # do not write ndb.carriers and ndb.RT_observables on disk\n",
    "\n",
    "rt_input"
   ]
  },
  {
   "cell_type": "code",
   "execution_count": 17,
   "metadata": {},
   "outputs": [
    {
     "name": "stdout",
     "output_type": "stream",
     "text": [
      "Initialize a parallel Yambo calculator with scheduler direct\n"
     ]
    },
    {
     "data": {
      "text/plain": [
       "{'IO_time': 30,\n",
       " 'cpus_per_task': 4,\n",
       " 'executable': 'yambo_rt',\n",
       " 'mpi_run': 'mpirun -np 8',\n",
       " 'multiTask': True,\n",
       " 'ntasks': 3,\n",
       " 'omp': 1,\n",
       " 'scheduler': 'direct',\n",
       " 'skip': True,\n",
       " 'verbose': True}"
      ]
     },
     "execution_count": 17,
     "metadata": {},
     "output_type": "execute_result"
    }
   ],
   "source": [
    "code = C.YamboCalculator(omp=omp,mpi_run=mpi_run,executable='yambo_rt',skip=True,verbose=True,IO_time=30)\n",
    "code.global_options()"
   ]
  },
  {
   "cell_type": "markdown",
   "metadata": {},
   "source": [
    "Now we can perform various computations"
   ]
  },
  {
   "cell_type": "markdown",
   "metadata": {},
   "source": [
    "## Single computation. Analysis of the time dependence of the spin magnetization"
   ]
  },
  {
   "cell_type": "markdown",
   "metadata": {},
   "source": [
    "Eventually the basic parameters of the rt_input can be modified and then we perform a single computation.\n",
    "\n",
    "The relevant parameters used as input are stored in the name of the input (and in the folder that contains the output\n",
    "files and the database)"
   ]
  },
  {
   "cell_type": "markdown",
   "metadata": {},
   "source": [
    "### RT computation at $\\Gamma$"
   ]
  },
  {
   "cell_type": "markdown",
   "metadata": {},
   "source": [
    "We tune the frequency of the pump at the value of the direct gap at $\\Gamma$"
   ]
  },
  {
   "cell_type": "code",
   "execution_count": 18,
   "metadata": {},
   "outputs": [
    {
     "data": {
      "text/plain": [
       "{'args': 'yambo_rt -n p -v ip -V rt',\n",
       " 'arguments': ['life', 'negf', 'DephCVonly'],\n",
       " 'filename': 'yambo.in',\n",
       " 'folder': 'RT_Gamma/FixSymm',\n",
       " 'variables': {'DBsIOoff': 'carriers obs',\n",
       "  'DephEThresh': [0.0002721, 'eV'],\n",
       "  'DephMatrix': [[1, 1, 1, '-1.00000'], ''],\n",
       "  'FFTGvecs': [3479.0, 'RL'],\n",
       "  'Field1_DFreq': [0.0, 'eV'],\n",
       "  'Field1_Dir': [[1.0, 0.0, 0.0], ''],\n",
       "  'Field1_Dir_circ': [[0.0, 1.0, 0.0], ''],\n",
       "  'Field1_FWHM': [100, 'fs'],\n",
       "  'Field1_Freq': [[1.42, 1.42], 'eV'],\n",
       "  'Field1_Int': [1000.0, 'kWLm2'],\n",
       "  'Field1_Tstart': [0.0, 'fs'],\n",
       "  'Field1_Width': [0.0, 'fs'],\n",
       "  'Field1_kind': 'QSSIN',\n",
       "  'Field1_pol': 'circular',\n",
       "  'GfnQP_E': [[0.5467, 1.0, 1.0], ''],\n",
       "  'GfnQP_Wc': [[0.002, 0.0, 0.0], ''],\n",
       "  'GfnQP_Wv': [[0.002, 0.0, 0.0], ''],\n",
       "  'GfnRT_N': [1.0, ''],\n",
       "  'GfnRTdb': 'none',\n",
       "  'GrKind': 'HS',\n",
       "  'HXC_Potential': 'IP',\n",
       "  'IOCachetime': [2.0, 'fs'],\n",
       "  'IOtime': [[1.0, 5.0, 1.0], 'fs'],\n",
       "  'Integrator': 'RK2',\n",
       "  'NETime': [600, 'fs'],\n",
       "  'PhLifeTime': [0.0, 'fs'],\n",
       "  'RADLifeTime': [0.0, 'fs'],\n",
       "  'RAD_prefactor': [1.0, ''],\n",
       "  'RTBands': [[3, 10], ''],\n",
       "  'RT_CPU': '8.1.1.1',\n",
       "  'RT_Threads': [0.0, ''],\n",
       "  'RTehEny': [[0.0, 0.0], 'eV'],\n",
       "  'RTstep': [10, 'as'],\n",
       "  'ScattTresh': [-1.0, 'eV'],\n",
       "  'dT_MAX': [-1.0, 'fs'],\n",
       "  'dTupdateJump': [0.0, 'fs'],\n",
       "  'dTupdateTime': [0.0, 'fs'],\n",
       "  'dTupdateTresh': [0.1, '']}}"
      ]
     },
     "execution_count": 18,
     "metadata": {},
     "output_type": "execute_result"
    }
   ],
   "source": [
    "field_freq = 1.42\n",
    "rt_input.set_rt_field(int=field_int,width=field_width,polarization=field_pol,freq=field_freq)\n",
    "rt_input"
   ]
  },
  {
   "cell_type": "code",
   "execution_count": 19,
   "metadata": {},
   "outputs": [
    {
     "data": {
      "text/plain": [
       "'dephase_0.002-freq_1.42-int_1000.0-simTime_600'"
      ]
     },
     "execution_count": 19,
     "metadata": {},
     "output_type": "execute_result"
    }
   ],
   "source": [
    "idd = {'simTime':sim_time,'dephase':deph_val,'int':field_int,'freq':field_freq}\n",
    "name = D.name_from_id(idd)\n",
    "name"
   ]
  },
  {
   "cell_type": "code",
   "execution_count": 20,
   "metadata": {},
   "outputs": [
    {
     "name": "stdout",
     "output_type": "stream",
     "text": [
      "Executing command: cd RT_Gamma/FixSymm; mpirun -np 8 yambo_rt -F dephase_0.002-freq_1.42-int_1000.0-simTime_600.in -J dephase_0.002-freq_1.42-int_1000.0-simTime_600 -C dephase_0.002-freq_1.42-int_1000.0-simTime_600\n",
      "run0_is_running:True  \n",
      "Job completed\n"
     ]
    },
    {
     "data": {
      "text/plain": [
       "{'dbs': ['RT_Gamma/FixSymm/dephase_0.002-freq_1.42-int_1000.0-simTime_600'],\n",
       " 'output': [['RT_Gamma/FixSymm/dephase_0.002-freq_1.42-int_1000.0-simTime_600/o-dephase_0.002-freq_1.42-int_1000.0-simTime_600.external_field',\n",
       "   'RT_Gamma/FixSymm/dephase_0.002-freq_1.42-int_1000.0-simTime_600/o-dephase_0.002-freq_1.42-int_1000.0-simTime_600.polarization',\n",
       "   'RT_Gamma/FixSymm/dephase_0.002-freq_1.42-int_1000.0-simTime_600/o-dephase_0.002-freq_1.42-int_1000.0-simTime_600.spin_magnetization',\n",
       "   'RT_Gamma/FixSymm/dephase_0.002-freq_1.42-int_1000.0-simTime_600/o-dephase_0.002-freq_1.42-int_1000.0-simTime_600.current',\n",
       "   'RT_Gamma/FixSymm/dephase_0.002-freq_1.42-int_1000.0-simTime_600/o-dephase_0.002-freq_1.42-int_1000.0-simTime_600.orbt_magnetization',\n",
       "   'RT_Gamma/FixSymm/dephase_0.002-freq_1.42-int_1000.0-simTime_600/o-dephase_0.002-freq_1.42-int_1000.0-simTime_600.carriers']]}"
      ]
     },
     "execution_count": 20,
     "metadata": {},
     "output_type": "execute_result"
    }
   ],
   "source": [
    "result = code.run(inputs=[rt_input],names=[name],run_dir=rt_run_dir)\n",
    "result"
   ]
  },
  {
   "cell_type": "code",
   "execution_count": 21,
   "metadata": {},
   "outputs": [
    {
     "data": {
      "text/plain": [
       "dict_keys(['polarization', 'external_field', 'spin_magnetization', 'orbt_magnetization', 'current', 'carriers'])"
      ]
     },
     "execution_count": 21,
     "metadata": {},
     "output_type": "execute_result"
    }
   ],
   "source": [
    "data = P.YamboParser(result['output'][0])\n",
    "data.keys()"
   ]
  },
  {
   "cell_type": "code",
   "execution_count": 22,
   "metadata": {},
   "outputs": [],
   "source": [
    "field = data['external_field']\n",
    "carriers = data['carriers']\n",
    "spin = data['spin_magnetization']"
   ]
  },
  {
   "cell_type": "code",
   "execution_count": 23,
   "metadata": {},
   "outputs": [
    {
     "data": {
      "text/plain": [
       "[<matplotlib.lines.Line2D at 0x7f5f8cefa0f0>]"
      ]
     },
     "execution_count": 23,
     "metadata": {},
     "output_type": "execute_result"
    },
    {
     "data": {
      "image/png": "[encoded data removed]",
      "text/plain": [
       "<Figure size 432x288 with 1 Axes>"
      ]
     },
     "metadata": {
      "needs_background": "light"
     },
     "output_type": "display_data"
    }
   ],
   "source": [
    "plt.plot(carriers['time'],carriers['dne'])"
   ]
  },
  {
   "cell_type": "code",
   "execution_count": 24,
   "metadata": {},
   "outputs": [
    {
     "data": {
      "text/plain": [
       "[<matplotlib.lines.Line2D at 0x7f5f8ce57400>]"
      ]
     },
     "execution_count": 24,
     "metadata": {},
     "output_type": "execute_result"
    },
    {
     "data": {
      "image/png": "[encoded data removed]",
      "text/plain": [
       "<Figure size 432x288 with 1 Axes>"
      ]
     },
     "metadata": {
      "needs_background": "light"
     },
     "output_type": "display_data"
    }
   ],
   "source": [
    "plt.plot(field['time'],field['Intensity'])\n",
    "plt.plot(field['time'],10*field['Fluence'])"
   ]
  },
  {
   "cell_type": "code",
   "execution_count": 25,
   "metadata": {},
   "outputs": [
    {
     "data": {
      "image/png": "[encoded data removed]",
      "text/plain": [
       "<Figure size 432x288 with 1 Axes>"
      ]
     },
     "metadata": {
      "needs_background": "light"
     },
     "output_type": "display_data"
    },
    {
     "data": {
      "image/png": "[encoded data removed]",
      "text/plain": [
       "<Figure size 432x288 with 1 Axes>"
      ]
     },
     "metadata": {
      "needs_background": "light"
     },
     "output_type": "display_data"
    }
   ],
   "source": [
    "plt.plot(spin['time'],spin['Mc_z'])\n",
    "plt.hlines(0.5,-10,1100,linestyles='--')\n",
    "plt.xlim(-10,1000)\n",
    "plt.show()\n",
    "\n",
    "plt.plot(spin['time'],spin['Mv_z'])\n",
    "plt.hlines(-0.83,-10,1100,linestyles='--')\n",
    "plt.xlim(-10,1000)\n",
    "plt.show()\n"
   ]
  },
  {
   "cell_type": "code",
   "execution_count": 24,
   "metadata": {},
   "outputs": [
    {
     "data": {
      "text/plain": [
       "0.0"
      ]
     },
     "execution_count": 24,
     "metadata": {},
     "output_type": "execute_result"
    }
   ],
   "source": [
    "spin['Mc_z'][100]"
   ]
  },
  {
   "cell_type": "markdown",
   "metadata": {},
   "source": [
    "### RT computation for a single kpoint "
   ]
  },
  {
   "cell_type": "markdown",
   "metadata": {},
   "source": [
    "We analyze the case of a single kpoint close to $\\Gamma$ but outside the high symmetry directions\n",
    "\n",
    "We tune the frequency of the pump at the value average gap of this point. We also reduce the damping and increase\n",
    "the simulation time to be able to study the time dynamics of the signal"
   ]
  },
  {
   "cell_type": "code",
   "execution_count": 19,
   "metadata": {},
   "outputs": [],
   "source": [
    "#field_freq = 1.42\n",
    "#sim_time = 10000 \n",
    "\n",
    "#rt_input.set_rt_field(int=field_int,width=field_width,polarization=field_pol,freq=field_freq)\n",
    "#rt_input.set_rt_simulationTimes(sim_time=sim_time,time_units='fs',time_step=time_step)\n",
    "#rt_input"
   ]
  },
  {
   "cell_type": "code",
   "execution_count": 24,
   "metadata": {},
   "outputs": [
    {
     "data": {
      "text/plain": [
       "{'args': 'yambo_rt -n p -v ip -V rt',\n",
       " 'folder': 'RT_1k-nosym/FixSymm',\n",
       " 'filename': 'yambo.in',\n",
       " 'arguments': ['life', 'negf', 'DephCVonly', 'DephCVonly'],\n",
       " 'variables': {'RT_Threads': [0.0, ''],\n",
       "  'FFTGvecs': [1.0, 'RL'],\n",
       "  'GfnRT_N': [1.0, ''],\n",
       "  'dTupdateTime': [0.0, 'fs'],\n",
       "  'dTupdateJump': [0.0, 'fs'],\n",
       "  'dTupdateTresh': [0.1, ''],\n",
       "  'dT_MAX': [-1.0, 'fs'],\n",
       "  'ScattTresh': [-1.0, 'eV'],\n",
       "  'RADLifeTime': [0.0, 'fs'],\n",
       "  'RAD_prefactor': [1.0, ''],\n",
       "  'PhLifeTime': [0.0, 'fs'],\n",
       "  'DephEThresh': [0.272113834, 'eV'],\n",
       "  'RTstep': [20, 'as'],\n",
       "  'NETime': [4000, 'fs'],\n",
       "  'IOCachetime': [2.0, 'fs'],\n",
       "  'HXC_Potential': 'IP',\n",
       "  'GfnRTdb': 'none',\n",
       "  'Integrator': 'RK2',\n",
       "  'GrKind': 'HS',\n",
       "  'RTBands': [[3, 10], ''],\n",
       "  'RTehEny': [[0.0], 'eV'],\n",
       "  'IOtime': [[1.0, 5.0, 1.0], 'fs'],\n",
       "  'DephMatrix': [[1, 1, 1, '-1.00000000000000'], ''],\n",
       "  'Field1_Int': [1000.0, 'kWLm2'],\n",
       "  'Field1_FWHM': [100, 'fs'],\n",
       "  'Field1_Freq': [[2.15, 2.15], 'eV'],\n",
       "  'Field1_kind': 'QSSIN',\n",
       "  'Field1_pol': 'circular',\n",
       "  'Field1_Dir': [[1.0, 0.0, 0.0], ''],\n",
       "  'Field1_Dir_circ': [[0.0, 1.0, 0.0], ''],\n",
       "  'GfnQP_E': [[0.5467, 1.0, 1.0], ''],\n",
       "  'GfnQP_Wv': [[0.002, 0.0, 0.0], ''],\n",
       "  'GfnQP_Wc': [[0.002, 0.0, 0.0], ''],\n",
       "  'RT_CPU': '8.1.1.1',\n",
       "  'DBsIOoff': 'carriers obs'}}"
      ]
     },
     "execution_count": 24,
     "metadata": {},
     "output_type": "execute_result"
    }
   ],
   "source": [
    "bands = [3,10] # split-off bands are not relevant for this analysis\n",
    "field_freq = 2.15\n",
    "time_step = 20 #as\n",
    "sim_time = 4000 \n",
    "deph_val  = 0.002 #0.0001\n",
    "deph_cond = deph_val \n",
    "#field_width = 200 #fs\n",
    "\n",
    "rt_input.set_rt_field(int=field_int,width=field_width,polarization=field_pol,freq=field_freq)\n",
    "rt_input.set_rt_bands(bands=bands,scissor=scissor,damping_valence=deph_val,damping_conduction=deph_cond)\n",
    "rt_input.set_rt_simulationTimes(sim_time=sim_time,time_units='fs',time_step=time_step)\n",
    "\n",
    "#rt_input['variables']['DephEThresh'] = [1e-6,'eV'] # decrease the threshold for the dephase\n",
    "\n",
    "# we test the adapative RTstep options \n",
    "#rt_input['variables']['dTupdateTime'] = [1000,'fs']\n",
    "#rt_input['variables']['dTupdateJump'] = [10.0,'fs']\n",
    "#rt_input['variables']['dTupdateTresh'] = [0.1,'']\n",
    "#rt_input['variables']['dT_MAX'] = [100,'as']\n",
    "\n",
    "rt_input"
   ]
  },
  {
   "cell_type": "code",
   "execution_count": 25,
   "metadata": {},
   "outputs": [
    {
     "data": {
      "text/plain": [
       "'dephase_0.002-freq_2.15-int_1000.0-simTime_4000'"
      ]
     },
     "execution_count": 25,
     "metadata": {},
     "output_type": "execute_result"
    }
   ],
   "source": [
    "idd = {'simTime':sim_time,'dephase':deph_val,'int':field_int,'freq':field_freq}\n",
    "name = D.name_from_id(idd)\n",
    "name"
   ]
  },
  {
   "cell_type": "code",
   "execution_count": 26,
   "metadata": {},
   "outputs": [
    {
     "name": "stdout",
     "output_type": "stream",
     "text": [
      "Executing command: cd RT_1k-nosym/FixSymm; mpirun -np 8 yambo_rt -F dephase_0.002-freq_2.15-int_1000.0-simTime_4000.in -J dephase_0.002-freq_2.15-int_1000.0-simTime_4000 -C dephase_0.002-freq_2.15-int_1000.0-simTime_4000\n",
      "run0_is_running:True  \n",
      "run0_is_running:True  \n",
      "run0_is_running:True  \n",
      "run0_is_running:True  \n",
      "run0_is_running:True  \n",
      "run0_is_running:True  \n",
      "run0_is_running:True  \n",
      "run0_is_running:True  \n",
      "run0_is_running:True  \n",
      "run0_is_running:True  \n"
     ]
    },
    {
     "ename": "KeyboardInterrupt",
     "evalue": "",
     "output_type": "error",
     "traceback": [
      "\u001b[0;31m---------------------------------------------------------------------------\u001b[0m",
      "\u001b[0;31mKeyboardInterrupt\u001b[0m                         Traceback (most recent call last)",
      "\u001b[0;32m<ipython-input-26-99d6c3a6bf40>\u001b[0m in \u001b[0;36m<module>\u001b[0;34m()\u001b[0m\n\u001b[0;32m----> 1\u001b[0;31m \u001b[0mresult\u001b[0m \u001b[0;34m=\u001b[0m \u001b[0mcode\u001b[0m\u001b[0;34m.\u001b[0m\u001b[0mrun\u001b[0m\u001b[0;34m(\u001b[0m\u001b[0minputs\u001b[0m\u001b[0;34m=\u001b[0m\u001b[0;34m[\u001b[0m\u001b[0mrt_input\u001b[0m\u001b[0;34m]\u001b[0m\u001b[0;34m,\u001b[0m\u001b[0mnames\u001b[0m\u001b[0;34m=\u001b[0m\u001b[0;34m[\u001b[0m\u001b[0mname\u001b[0m\u001b[0;34m]\u001b[0m\u001b[0;34m,\u001b[0m\u001b[0mrun_dir\u001b[0m\u001b[0;34m=\u001b[0m\u001b[0mrt_run_dir\u001b[0m\u001b[0;34m)\u001b[0m\u001b[0;34m\u001b[0m\u001b[0;34m\u001b[0m\u001b[0m\n\u001b[0m\u001b[1;32m      2\u001b[0m \u001b[0mresult\u001b[0m\u001b[0;34m\u001b[0m\u001b[0;34m\u001b[0m\u001b[0m\n",
      "\u001b[0;32m~/Applications/MPPI/mppi/Calculators/Runner.py\u001b[0m in \u001b[0;36mrun\u001b[0;34m(self, **kwargs)\u001b[0m\n\u001b[1;32m    107\u001b[0m         \u001b[0mself\u001b[0m\u001b[0;34m.\u001b[0m\u001b[0m_run_options\u001b[0m\u001b[0;34m(\u001b[0m\u001b[0;34m**\u001b[0m\u001b[0mkwargs\u001b[0m\u001b[0;34m)\u001b[0m\u001b[0;34m\u001b[0m\u001b[0;34m\u001b[0m\u001b[0m\n\u001b[1;32m    108\u001b[0m         \u001b[0mrun_args\u001b[0m \u001b[0;34m=\u001b[0m \u001b[0mself\u001b[0m\u001b[0;34m.\u001b[0m\u001b[0mpre_processing\u001b[0m\u001b[0;34m(\u001b[0m\u001b[0;34m)\u001b[0m\u001b[0;34m\u001b[0m\u001b[0;34m\u001b[0m\u001b[0m\n\u001b[0;32m--> 109\u001b[0;31m         \u001b[0mrun_results\u001b[0m \u001b[0;34m=\u001b[0m \u001b[0mself\u001b[0m\u001b[0;34m.\u001b[0m\u001b[0mprocess_run\u001b[0m\u001b[0;34m(\u001b[0m\u001b[0;34m**\u001b[0m\u001b[0mrun_args\u001b[0m\u001b[0;34m)\u001b[0m\u001b[0;34m\u001b[0m\u001b[0;34m\u001b[0m\u001b[0m\n\u001b[0m\u001b[1;32m    110\u001b[0m         \u001b[0;31m#print('run_args',run_args,'run_results',run_results)\u001b[0m\u001b[0;34m\u001b[0m\u001b[0;34m\u001b[0m\u001b[0;34m\u001b[0m\u001b[0m\n\u001b[1;32m    111\u001b[0m         \u001b[0mf\u001b[0m\u001b[0;34m.\u001b[0m\u001b[0mdict_merge\u001b[0m\u001b[0;34m(\u001b[0m\u001b[0mdest\u001b[0m\u001b[0;34m=\u001b[0m\u001b[0mrun_args\u001b[0m\u001b[0;34m,\u001b[0m \u001b[0msrc\u001b[0m\u001b[0;34m=\u001b[0m\u001b[0mrun_results\u001b[0m\u001b[0;34m)\u001b[0m\u001b[0;34m\u001b[0m\u001b[0;34m\u001b[0m\u001b[0m\n",
      "\u001b[0;32m~/Applications/MPPI/mppi/Calculators/YamboCalculator.py\u001b[0m in \u001b[0;36mprocess_run\u001b[0;34m(self)\u001b[0m\n\u001b[1;32m    130\u001b[0m             \u001b[0mjob\u001b[0m \u001b[0;34m=\u001b[0m \u001b[0mself\u001b[0m\u001b[0;34m.\u001b[0m\u001b[0mbuild_run_script\u001b[0m\u001b[0;34m(\u001b[0m\u001b[0mnames\u001b[0m\u001b[0;34m,\u001b[0m\u001b[0mjobnames\u001b[0m\u001b[0;34m)\u001b[0m\u001b[0;34m\u001b[0m\u001b[0;34m\u001b[0m\u001b[0m\n\u001b[1;32m    131\u001b[0m             \u001b[0mself\u001b[0m\u001b[0;34m.\u001b[0m\u001b[0msubmit_job\u001b[0m\u001b[0;34m(\u001b[0m\u001b[0mjob\u001b[0m\u001b[0;34m)\u001b[0m\u001b[0;34m\u001b[0m\u001b[0;34m\u001b[0m\u001b[0m\n\u001b[0;32m--> 132\u001b[0;31m             \u001b[0mself\u001b[0m\u001b[0;34m.\u001b[0m\u001b[0mwait\u001b[0m\u001b[0;34m(\u001b[0m\u001b[0mjob\u001b[0m\u001b[0;34m)\u001b[0m\u001b[0;34m\u001b[0m\u001b[0;34m\u001b[0m\u001b[0m\n\u001b[0m\u001b[1;32m    133\u001b[0m         \u001b[0;32melse\u001b[0m\u001b[0;34m:\u001b[0m\u001b[0;34m\u001b[0m\u001b[0;34m\u001b[0m\u001b[0m\n\u001b[1;32m    134\u001b[0m             \u001b[0;32mfor\u001b[0m \u001b[0mname\u001b[0m\u001b[0;34m,\u001b[0m\u001b[0mjobname\u001b[0m \u001b[0;32min\u001b[0m \u001b[0mzip\u001b[0m\u001b[0;34m(\u001b[0m\u001b[0mnames\u001b[0m\u001b[0;34m,\u001b[0m\u001b[0mjobnames\u001b[0m\u001b[0;34m)\u001b[0m\u001b[0;34m:\u001b[0m\u001b[0;34m\u001b[0m\u001b[0;34m\u001b[0m\u001b[0m\n",
      "\u001b[0;32m~/Applications/MPPI/mppi/Calculators/YamboCalculator.py\u001b[0m in \u001b[0;36mwait\u001b[0;34m(self, job)\u001b[0m\n\u001b[1;32m    248\u001b[0m                     \u001b[0ms\u001b[0m\u001b[0;34m+=\u001b[0m\u001b[0;34m'run'\u001b[0m\u001b[0;34m+\u001b[0m\u001b[0mstr\u001b[0m\u001b[0;34m(\u001b[0m\u001b[0mind\u001b[0m\u001b[0;34m)\u001b[0m\u001b[0;34m+\u001b[0m\u001b[0;34m'_is_running:'\u001b[0m\u001b[0;34m+\u001b[0m\u001b[0mstr\u001b[0m\u001b[0;34m(\u001b[0m\u001b[0mrun\u001b[0m\u001b[0;34m.\u001b[0m\u001b[0mis_alive\u001b[0m\u001b[0;34m(\u001b[0m\u001b[0;34m)\u001b[0m\u001b[0;34m)\u001b[0m \u001b[0;34m+\u001b[0m \u001b[0;34m'  '\u001b[0m\u001b[0;34m\u001b[0m\u001b[0;34m\u001b[0m\u001b[0m\n\u001b[1;32m    249\u001b[0m                 \u001b[0mprint\u001b[0m\u001b[0;34m(\u001b[0m\u001b[0ms\u001b[0m\u001b[0;34m)\u001b[0m\u001b[0;34m\u001b[0m\u001b[0;34m\u001b[0m\u001b[0m\n\u001b[0;32m--> 250\u001b[0;31m             \u001b[0mtime\u001b[0m\u001b[0;34m.\u001b[0m\u001b[0msleep\u001b[0m\u001b[0;34m(\u001b[0m\u001b[0mIO_time\u001b[0m\u001b[0;34m)\u001b[0m\u001b[0;34m\u001b[0m\u001b[0;34m\u001b[0m\u001b[0m\n\u001b[0m\u001b[1;32m    251\u001b[0m         \u001b[0;32mif\u001b[0m \u001b[0mverbose\u001b[0m \u001b[0;34m:\u001b[0m \u001b[0mprint\u001b[0m\u001b[0;34m(\u001b[0m\u001b[0;34m'Job completed'\u001b[0m\u001b[0;34m)\u001b[0m\u001b[0;34m\u001b[0m\u001b[0;34m\u001b[0m\u001b[0m\n\u001b[1;32m    252\u001b[0m \u001b[0;34m\u001b[0m\u001b[0m\n",
      "\u001b[0;31mKeyboardInterrupt\u001b[0m: "
     ]
    }
   ],
   "source": [
    "result = code.run(inputs=[rt_input],names=[name],run_dir=rt_run_dir)\n",
    "result"
   ]
  },
  {
   "cell_type": "code",
   "execution_count": 23,
   "metadata": {},
   "outputs": [
    {
     "ename": "NameError",
     "evalue": "name 'result' is not defined",
     "output_type": "error",
     "traceback": [
      "\u001b[0;31m---------------------------------------------------------------------------\u001b[0m",
      "\u001b[0;31mNameError\u001b[0m                                 Traceback (most recent call last)",
      "\u001b[0;32m<ipython-input-23-d651003519ad>\u001b[0m in \u001b[0;36m<module>\u001b[0;34m()\u001b[0m\n\u001b[0;32m----> 1\u001b[0;31m \u001b[0mdata\u001b[0m \u001b[0;34m=\u001b[0m \u001b[0mP\u001b[0m\u001b[0;34m.\u001b[0m\u001b[0mYamboParser\u001b[0m\u001b[0;34m(\u001b[0m\u001b[0mresult\u001b[0m\u001b[0;34m[\u001b[0m\u001b[0;34m'output'\u001b[0m\u001b[0;34m]\u001b[0m\u001b[0;34m[\u001b[0m\u001b[0;36m0\u001b[0m\u001b[0;34m]\u001b[0m\u001b[0;34m)\u001b[0m\u001b[0;34m\u001b[0m\u001b[0;34m\u001b[0m\u001b[0m\n\u001b[0m\u001b[1;32m      2\u001b[0m \u001b[0mdata\u001b[0m\u001b[0;34m.\u001b[0m\u001b[0mkeys\u001b[0m\u001b[0;34m(\u001b[0m\u001b[0;34m)\u001b[0m\u001b[0;34m\u001b[0m\u001b[0;34m\u001b[0m\u001b[0m\n",
      "\u001b[0;31mNameError\u001b[0m: name 'result' is not defined"
     ]
    }
   ],
   "source": [
    "data = P.YamboParser(result['output'][0])\n",
    "data.keys()"
   ]
  },
  {
   "cell_type": "code",
   "execution_count": null,
   "metadata": {},
   "outputs": [],
   "source": [
    "field = data['external_field']\n",
    "carriers = data['carriers']\n",
    "spin = data['spin_magnetization']"
   ]
  },
  {
   "cell_type": "code",
   "execution_count": null,
   "metadata": {},
   "outputs": [],
   "source": [
    "plt.plot(carriers['time'],carriers['dne'])"
   ]
  },
  {
   "cell_type": "code",
   "execution_count": null,
   "metadata": {},
   "outputs": [],
   "source": [
    "plt.plot(spin['time'],spin['Mc_z'])\n",
    "plt.show()\n",
    "\n",
    "plt.plot(spin['time'],spin['Mv_z'])\n",
    "plt.show()"
   ]
  },
  {
   "cell_type": "markdown",
   "metadata": {},
   "source": [
    "We can measure the frequency of the oscillations"
   ]
  },
  {
   "cell_type": "code",
   "execution_count": null,
   "metadata": {},
   "outputs": [],
   "source": [
    "time = spin['time']\n",
    "mgn = spin['Mc_z']"
   ]
  },
  {
   "cell_type": "code",
   "execution_count": null,
   "metadata": {},
   "outputs": [],
   "source": [
    "from scipy.signal import argrelextrema"
   ]
  },
  {
   "cell_type": "code",
   "execution_count": null,
   "metadata": {},
   "outputs": [],
   "source": [
    "t_max = time[argrelextrema(mgn, np.greater)[0]]\n",
    "t_max"
   ]
  },
  {
   "cell_type": "code",
   "execution_count": null,
   "metadata": {},
   "outputs": [],
   "source": [
    "plt.plot(spin['time'],spin['Mc_z'])\n",
    "for t in t_max:\n",
    "    plt.vlines(t,-0.5,0.5,linestyles='--')\n",
    "plt.show()"
   ]
  },
  {
   "cell_type": "code",
   "execution_count": null,
   "metadata": {},
   "outputs": [],
   "source": [
    "deltaT = []\n",
    "for ind in range(len(t_max)-1):\n",
    "    deltaT.append(t_max[ind+1]-t_max[ind])\n",
    "deltaT"
   ]
  },
  {
   "cell_type": "code",
   "execution_count": null,
   "metadata": {},
   "outputs": [],
   "source": [
    "nu = 1./544\n",
    "e = U.Planck_ev_ps*1e6*nu # 1e6 convert in meV*fs\n",
    "e"
   ]
  },
  {
   "cell_type": "markdown",
   "metadata": {},
   "source": [
    "__The frequency after the transient exactly matches with the energy difference between c and c' conduction bands!__"
   ]
  },
  {
   "cell_type": "markdown",
   "metadata": {},
   "source": [
    "We can also measure the frequency of the oscillations for valence magnetization"
   ]
  },
  {
   "cell_type": "code",
   "execution_count": null,
   "metadata": {},
   "outputs": [],
   "source": [
    "time = spin['time']\n",
    "mgn = spin['Mv_z']"
   ]
  },
  {
   "cell_type": "code",
   "execution_count": null,
   "metadata": {},
   "outputs": [],
   "source": [
    "t_max = time[argrelextrema(mgn, np.greater)[0]]\n",
    "t_max"
   ]
  },
  {
   "cell_type": "code",
   "execution_count": null,
   "metadata": {},
   "outputs": [],
   "source": [
    "plt.plot(time,mgn)\n",
    "for t in t_max:\n",
    "    plt.vlines(t,-0.5,0.,linestyles='--')\n",
    "plt.show()"
   ]
  },
  {
   "cell_type": "code",
   "execution_count": null,
   "metadata": {},
   "outputs": [],
   "source": [
    "deltaT = []\n",
    "for ind in range(len(t_max)-1):\n",
    "    deltaT.append(t_max[ind+1]-t_max[ind])\n",
    "deltaT"
   ]
  },
  {
   "cell_type": "code",
   "execution_count": null,
   "metadata": {},
   "outputs": [],
   "source": [
    "nu = 1./1014\n",
    "e = U.Planck_ev_ps*1e6*nu # 1e6 convert in meV*fs\n",
    "e"
   ]
  },
  {
   "cell_type": "markdown",
   "metadata": {},
   "source": [
    "Which is its meaning?"
   ]
  },
  {
   "cell_type": "markdown",
   "metadata": {},
   "source": [
    "### RT computation for kpoints sampling close to $\\Gamma$."
   ]
  },
  {
   "cell_type": "markdown",
   "metadata": {},
   "source": [
    "We analyze the cases of 50 and 100 random kpoint sampled around to $\\Gamma$.\n",
    "\n",
    "We tune the frequency of the pump at the 1.5 where there is the maximum of the cv JDos."
   ]
  },
  {
   "cell_type": "code",
   "execution_count": 14,
   "metadata": {},
   "outputs": [
    {
     "data": {
      "text/plain": [
       "{'args': 'yambo_rt -n p -v ip -V rt',\n",
       " 'arguments': ['life', 'negf', 'DephCVonly'],\n",
       " 'filename': 'yambo.in',\n",
       " 'folder': 'RT_k100/FixSymm',\n",
       " 'variables': {'DBsIOoff': 'carriers obs',\n",
       "  'DephEThresh': [1e-06, 'eV'],\n",
       "  'DephMatrix': [[1, 1, 1, '-1.00000'], ''],\n",
       "  'FFTGvecs': [3479.0, 'RL'],\n",
       "  'Field1_DFreq': [0.0, 'eV'],\n",
       "  'Field1_Dir': [[1.0, 0.0, 0.0], ''],\n",
       "  'Field1_Dir_circ': [[0.0, 1.0, 0.0], ''],\n",
       "  'Field1_FWHM': [100, 'fs'],\n",
       "  'Field1_Freq': [[1.5, 1.5], 'eV'],\n",
       "  'Field1_Int': [1000.0, 'kWLm2'],\n",
       "  'Field1_Tstart': [0.0, 'fs'],\n",
       "  'Field1_Width': [0.0, 'fs'],\n",
       "  'Field1_kind': 'QSSIN',\n",
       "  'Field1_pol': 'circular',\n",
       "  'GfnQP_E': [[0.5467, 1.0, 1.0], ''],\n",
       "  'GfnQP_Wc': [[0.002, 0.0, 0.0], ''],\n",
       "  'GfnQP_Wv': [[0.002, 0.0, 0.0], ''],\n",
       "  'GfnRT_N': [1.0, ''],\n",
       "  'GfnRTdb': 'none',\n",
       "  'GrKind': 'HS',\n",
       "  'HXC_Potential': 'IP',\n",
       "  'IOCachetime': [2.0, 'fs'],\n",
       "  'IOtime': [[1.0, 5.0, 1.0], 'fs'],\n",
       "  'Integrator': 'RK2',\n",
       "  'NETime': [20000, 'fs'],\n",
       "  'PhLifeTime': [0.0, 'fs'],\n",
       "  'RADLifeTime': [0.0, 'fs'],\n",
       "  'RAD_prefactor': [1.0, ''],\n",
       "  'RTBands': [[5, 10], ''],\n",
       "  'RT_CPU': '32.1.1.1',\n",
       "  'RT_Threads': [0.0, ''],\n",
       "  'RTehEny': [[0.0, 0.0], 'eV'],\n",
       "  'RTstep': [20, 'as'],\n",
       "  'ScattTresh': [-1.0, 'eV'],\n",
       "  'dT_MAX': [100, 'as'],\n",
       "  'dTupdateJump': [10.0, 'fs'],\n",
       "  'dTupdateTime': [1000, 'fs'],\n",
       "  'dTupdateTresh': [0.1, '']}}"
      ]
     },
     "execution_count": 14,
     "metadata": {},
     "output_type": "execute_result"
    }
   ],
   "source": [
    "bands = [5,10] # split-off bands are not relevant for this analysis\n",
    "field_freq = 1.5\n",
    "time_step = 20 #as\n",
    "sim_time = 20000 #2000\n",
    "deph_val  = 0.002 #0.0001\n",
    "deph_cond = deph_val \n",
    "#field_width = 200 #fs\n",
    "\n",
    "rt_input.set_rt_field(int=field_int,width=field_width,polarization=field_pol,freq=field_freq)\n",
    "rt_input.set_rt_bands(bands=bands,scissor=scissor,damping_valence=deph_val,damping_conduction=deph_cond)\n",
    "rt_input.set_rt_simulationTimes(sim_time=sim_time,time_units='fs',time_step=time_step)\n",
    "\n",
    "#rt_input['arguments'].remove('DephCVonly') # enable the dephasing on all rho_ss'\n",
    "rt_input['variables']['DephEThresh'] = [1e-6,'eV'] # decrease the threshold for the dephase\n",
    "\n",
    "# we test the adapative RTstep options \n",
    "rt_input['variables']['dTupdateTime'] = [1000,'fs']\n",
    "rt_input['variables']['dTupdateJump'] = [10.0,'fs']\n",
    "rt_input['variables']['dTupdateTresh'] = [0.1,'']\n",
    "rt_input['variables']['dT_MAX'] = [100,'as']\n",
    "\n",
    "rt_input"
   ]
  },
  {
   "cell_type": "code",
   "execution_count": 17,
   "metadata": {},
   "outputs": [
    {
     "data": {
      "text/plain": [
       "'dephase_0.002-freq_1.5-int_1000.0-simTime_20000-thrs_1e-6'"
      ]
     },
     "execution_count": 17,
     "metadata": {},
     "output_type": "execute_result"
    }
   ],
   "source": [
    "idd = {'simTime':sim_time,'dephase':deph_val,'int':field_int,'freq':field_freq}\n",
    "name = D.name_from_id(idd)+'-thrs_1e-6'\n",
    "name"
   ]
  },
  {
   "cell_type": "code",
   "execution_count": 18,
   "metadata": {},
   "outputs": [
    {
     "name": "stdout",
     "output_type": "stream",
     "text": [
      "Skip the computation for input dephase_0.002-freq_1.5-int_1000.0-simTime_20000-thrs_1e-6\n",
      "Job completed\n"
     ]
    }
   ],
   "source": [
    "result = code.run(inputs=[rt_input],names=[name],run_dir=rt_run_dir)"
   ]
  },
  {
   "cell_type": "code",
   "execution_count": 19,
   "metadata": {},
   "outputs": [
    {
     "data": {
      "text/plain": [
       "dict_keys(['current', 'orbt_magnetization', 'polarization', 'spin_magnetization', 'carriers', 'external_field'])"
      ]
     },
     "execution_count": 19,
     "metadata": {},
     "output_type": "execute_result"
    }
   ],
   "source": [
    "data = P.YamboParser(result['output'][0])\n",
    "data.keys()"
   ]
  },
  {
   "cell_type": "code",
   "execution_count": 20,
   "metadata": {},
   "outputs": [],
   "source": [
    "field = data['external_field']\n",
    "carriers = data['carriers']\n",
    "spin = data['spin_magnetization']"
   ]
  },
  {
   "cell_type": "code",
   "execution_count": 21,
   "metadata": {},
   "outputs": [
    {
     "data": {
      "text/plain": [
       "[<matplotlib.lines.Line2D at 0x7f9a93ac35c0>]"
      ]
     },
     "execution_count": 21,
     "metadata": {},
     "output_type": "execute_result"
    },
    {
     "data": {
      "image/png": "[encoded data removed]",
      "text/plain": [
       "<Figure size 432x288 with 1 Axes>"
      ]
     },
     "metadata": {
      "needs_background": "light"
     },
     "output_type": "display_data"
    }
   ],
   "source": [
    "plt.plot(carriers['time'],carriers['dne'])"
   ]
  },
  {
   "cell_type": "code",
   "execution_count": 22,
   "metadata": {},
   "outputs": [
    {
     "data": {
      "image/png": "[encoded data removed]",
      "text/plain": [
       "<Figure size 432x288 with 1 Axes>"
      ]
     },
     "metadata": {
      "needs_background": "light"
     },
     "output_type": "display_data"
    },
    {
     "data": {
      "image/png": "[encoded data removed]",
      "text/plain": [
       "<Figure size 432x288 with 1 Axes>"
      ]
     },
     "metadata": {
      "needs_background": "light"
     },
     "output_type": "display_data"
    }
   ],
   "source": [
    "plt.plot(spin['time'],spin['Mc_z'])\n",
    "plt.show()\n",
    "\n",
    "plt.plot(spin['time'],spin['Mv_z'])\n",
    "plt.show()"
   ]
  },
  {
   "cell_type": "markdown",
   "metadata": {},
   "source": [
    "### RT computation for 100 random kpoints (in a k area with energies up to 2 eV)"
   ]
  },
  {
   "cell_type": "markdown",
   "metadata": {},
   "source": [
    "We analyze the case of a 100 random kpoints.\n",
    "\n",
    "We tune the frequency of the pump at the 1.55 where the absorption should be very high. We also reduce the damping and increase\n",
    "the simulation time to be able to study the time dynamics of the signal"
   ]
  },
  {
   "cell_type": "code",
   "execution_count": null,
   "metadata": {},
   "outputs": [],
   "source": [
    "field_freq = 1.55\n",
    "sim_time = 6000 \n",
    "\n",
    "rt_input.set_rt_field(int=field_int,width=field_width,polarization=field_pol,freq=field_freq)\n",
    "rt_input.set_rt_simulationTimes(sim_time=sim_time,time_units='fs',time_step=time_step)\n",
    "rt_input"
   ]
  },
  {
   "cell_type": "code",
   "execution_count": null,
   "metadata": {},
   "outputs": [],
   "source": [
    "idd = {'simTime':sim_time,'dephase':deph_val,'int':field_int,'freq':field_freq}\n",
    "name = D.name_from_id(idd)\n",
    "name"
   ]
  },
  {
   "cell_type": "code",
   "execution_count": null,
   "metadata": {},
   "outputs": [],
   "source": [
    "result = code.run(inputs=[rt_input],names=[name],run_dir=rt_run_dir)"
   ]
  },
  {
   "cell_type": "code",
   "execution_count": null,
   "metadata": {},
   "outputs": [],
   "source": [
    "data = P.YamboParser(result['output'][0])\n",
    "data.keys()"
   ]
  },
  {
   "cell_type": "code",
   "execution_count": null,
   "metadata": {},
   "outputs": [],
   "source": [
    "field = data['external_field']\n",
    "carriers = data['carriers']\n",
    "spin = data['spin_magnetization']"
   ]
  },
  {
   "cell_type": "code",
   "execution_count": null,
   "metadata": {},
   "outputs": [],
   "source": [
    "plt.plot(carriers['time'],carriers['dne'])"
   ]
  },
  {
   "cell_type": "code",
   "execution_count": null,
   "metadata": {},
   "outputs": [],
   "source": [
    "plt.plot(spin['time'],spin['Mc_z'])\n",
    "plt.show()\n",
    "\n",
    "plt.plot(spin['time'],spin['Mv_z'])\n",
    "plt.show()"
   ]
  },
  {
   "cell_type": "code",
   "execution_count": null,
   "metadata": {},
   "outputs": [],
   "source": [
    "time = spin['time']\n",
    "mgn = spin['Mc_z']"
   ]
  },
  {
   "cell_type": "code",
   "execution_count": null,
   "metadata": {},
   "outputs": [],
   "source": [
    "from scipy.signal import argrelextrema"
   ]
  },
  {
   "cell_type": "code",
   "execution_count": null,
   "metadata": {},
   "outputs": [],
   "source": [
    "t_max = time[argrelextrema(mgn, np.less)[0]]\n",
    "t_max"
   ]
  },
  {
   "cell_type": "code",
   "execution_count": null,
   "metadata": {},
   "outputs": [],
   "source": [
    "plt.plot(spin['time'],spin['Mc_z'])\n",
    "for t in t_max:\n",
    "    plt.vlines(t,-0.2,0.5,linestyles='--')\n",
    "plt.show()"
   ]
  },
  {
   "cell_type": "code",
   "execution_count": null,
   "metadata": {},
   "outputs": [],
   "source": [
    "deltaT = []\n",
    "for ind in range(len(t_max)-1):\n",
    "    deltaT.append(t_max[ind+1]-t_max[ind])\n",
    "deltaT"
   ]
  },
  {
   "cell_type": "code",
   "execution_count": null,
   "metadata": {},
   "outputs": [],
   "source": [
    "nu = 1./2726\n",
    "e = U.Planck_ev_ps*1e6*nu # 1e6 convert in meV*fs\n",
    "e"
   ]
  },
  {
   "cell_type": "code",
   "execution_count": null,
   "metadata": {},
   "outputs": [],
   "source": []
  },
  {
   "cell_type": "code",
   "execution_count": null,
   "metadata": {},
   "outputs": [],
   "source": []
  },
  {
   "cell_type": "code",
   "execution_count": null,
   "metadata": {},
   "outputs": [],
   "source": []
  }
 ],
 "metadata": {
  "kernelspec": {
   "display_name": "Python 3",
   "language": "python",
   "name": "python3"
  },
  "language_info": {
   "codemirror_mode": {
    "name": "ipython",
    "version": 3
   },
   "file_extension": ".py",
   "mimetype": "text/x-python",
   "name": "python",
   "nbconvert_exporter": "python",
   "pygments_lexer": "ipython3",
   "version": "3.5.3"
  }
 },
 "nbformat": 4,
 "nbformat_minor": 4
}
