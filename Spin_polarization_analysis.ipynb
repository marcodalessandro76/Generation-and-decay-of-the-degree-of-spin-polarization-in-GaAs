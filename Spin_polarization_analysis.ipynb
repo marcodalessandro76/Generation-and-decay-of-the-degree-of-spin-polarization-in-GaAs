{
 "cells": [
  {
   "cell_type": "code",
   "execution_count": 1,
   "metadata": {},
   "outputs": [],
   "source": [
    "import numpy as np\n",
    "import os\n",
    "import matplotlib.pyplot as plt\n",
    "from importlib import reload\n",
    "from mppi import InputFiles as I, Calculators as C, Datasets as D"
   ]
  },
  {
   "cell_type": "markdown",
   "metadata": {},
   "source": [
    "# Analysis of the spin polarization"
   ]
  },
  {
   "cell_type": "markdown",
   "metadata": {},
   "source": [
    "We perform the analysis of the spin polarization for the neq distribution using the ypp_rt post-processing data.\n",
    "\n",
    "We consider the various samplings of the k-points"
   ]
  },
  {
   "cell_type": "markdown",
   "metadata": {},
   "source": [
    "## k = 8x8x8 - width = 40 fs"
   ]
  },
  {
   "cell_type": "code",
   "execution_count": 2,
   "metadata": {},
   "outputs": [],
   "source": [
    "data_dir = 'rt_k8_width40/FixSymm'\n",
    "last_time = '240.000'"
   ]
  },
  {
   "cell_type": "code",
   "execution_count": 3,
   "metadata": {},
   "outputs": [],
   "source": [
    "# circular polarization spanning a given frequencies range\n",
    "freq_range = [1.15,1.25,1.35,1.45,1.55,1.65,1.75,1.85]\n",
    "# linear polarization for a single frequency\n",
    "lin_freq = 1.55\n",
    "# reversed circular polarization for a single frequency\n",
    "reversed_circ_freq = 1.55"
   ]
  },
  {
   "cell_type": "markdown",
   "metadata": {},
   "source": [
    "We compute the total number of electrons in the conduction band, for a given frequency, (at the last simulation time) for each spin polarization"
   ]
  },
  {
   "cell_type": "code",
   "execution_count": 4,
   "metadata": {},
   "outputs": [
    {
     "name": "stdout",
     "output_type": "stream",
     "text": [
      "frequency =  1.55\n"
     ]
    }
   ],
   "source": [
    "f = freq_range[4]\n",
    "print('frequency = ',f)\n",
    "file_tot = data_dir+'/ypp_freq_%s-pol_circular/o-freq_%s-pol_circular.YPP-RT_occupations_DATA'%(f,f)\n",
    "file_up = data_dir+'/ypp_freq_%s-pol_circular/o-freq_%s-pol_circular.YPP-RT_occupations_up_DATA'%(f,f)\n",
    "file_dn = data_dir+'/ypp_freq_%s-pol_circular/o-freq_%s-pol_circular.YPP-RT_occupations_dn_DATA'%(f,f)\n",
    "data_tot = C.dict_parser(file_tot)\n",
    "data_up = C.dict_parser(file_up)\n",
    "data_dn = C.dict_parser(file_dn)"
   ]
  },
  {
   "cell_type": "code",
   "execution_count": 5,
   "metadata": {},
   "outputs": [],
   "source": [
    "energies = data_tot['E']\n",
    "carriers_up = data_up[last_time]\n",
    "carriers_dn = data_dn[last_time]\n",
    "carriers_tot = data_tot[last_time]"
   ]
  },
  {
   "cell_type": "code",
   "execution_count": 6,
   "metadata": {},
   "outputs": [
    {
     "data": {
      "text/plain": [
       "(-0.005, 0.005)"
      ]
     },
     "execution_count": 6,
     "metadata": {},
     "output_type": "execute_result"
    },
    {
     "data": {
      "image/png": "[encoded data removed]",
      "text/plain": [
       "<Figure size 432x288 with 1 Axes>"
      ]
     },
     "metadata": {
      "needs_background": "light"
     },
     "output_type": "display_data"
    }
   ],
   "source": [
    "plt.scatter(energies,carriers_up)\n",
    "plt.scatter(energies,carriers_dn)\n",
    "plt.ylim((-0.005,0.005))"
   ]
  },
  {
   "cell_type": "markdown",
   "metadata": {},
   "source": [
    "See how the spin polarization emerges at E=1.418"
   ]
  },
  {
   "cell_type": "code",
   "execution_count": 7,
   "metadata": {},
   "outputs": [
    {
     "name": "stdout",
     "output_type": "stream",
     "text": [
      "[2044, 2045, 2046, 2047] [2048, 2049]\n"
     ]
    }
   ],
   "source": [
    "val_indexes = []\n",
    "cond_indexes = []\n",
    "\n",
    "for ind,e in enumerate(energies):\n",
    "    if e == 0.0:\n",
    "        val_indexes.append(ind)\n",
    "\n",
    "for ind,e in enumerate(energies):\n",
    "    if e == 1.418:\n",
    "        cond_indexes.append(ind)\n",
    "\n",
    "print(val_indexes,cond_indexes)"
   ]
  },
  {
   "cell_type": "code",
   "execution_count": 8,
   "metadata": {},
   "outputs": [],
   "source": [
    "val_up  = [carriers_up[i] for i in val_indexes]\n",
    "val_dn  = [carriers_dn[i] for i in val_indexes]\n",
    "cond_up  = [carriers_up[i] for i in cond_indexes]\n",
    "cond_dn  = [carriers_dn[i] for i in cond_indexes]"
   ]
  },
  {
   "cell_type": "code",
   "execution_count": 9,
   "metadata": {},
   "outputs": [
    {
     "name": "stdout",
     "output_type": "stream",
     "text": [
      "Total carriers 0.004394830000000001\n",
      "40.48461487702596 22.89556926017795\n"
     ]
    }
   ],
   "source": [
    "sum_cond_up = sum(cond_up)\n",
    "sum_cond_dn = sum(cond_dn)\n",
    "print('Total carriers',sum_cond_up+sum_cond_dn)\n",
    "spin_pol_cond = (sum_cond_up-sum_cond_dn)/(sum_cond_up+sum_cond_dn)*100\n",
    "sum_val_up = sum(val_up)\n",
    "sum_val_dn = sum(val_dn)\n",
    "spin_pol_val = (sum_val_up-sum_val_dn)/(sum_val_up+sum_val_dn)*100\n",
    "print(spin_pol_cond,spin_pol_val)"
   ]
  },
  {
   "cell_type": "markdown",
   "metadata": {},
   "source": [
    "The total number of carriers in the conduction band is computed by integrating the carriers for energies > 0"
   ]
  },
  {
   "cell_type": "code",
   "execution_count": null,
   "metadata": {},
   "outputs": [],
   "source": [
    "cond_thrs = cond_indexes[0]"
   ]
  },
  {
   "cell_type": "markdown",
   "metadata": {},
   "source": [
    "and the associated spin polarization is"
   ]
  },
  {
   "cell_type": "code",
   "execution_count": 58,
   "metadata": {},
   "outputs": [
    {
     "name": "stdout",
     "output_type": "stream",
     "text": [
      "39.53066138564004 22.499684393721285\n"
     ]
    }
   ],
   "source": [
    "tot_cond_up = sum(carriers_up[cond_thrs:])\n",
    "tot_cond_dn = sum(carriers_dn[cond_thrs:])\n",
    "tot_spin_pol_cond = (tot_cond_up-tot_cond_dn)/(tot_cond_up+tot_cond_dn)*100\n",
    "tot_val_up = sum(carriers_up[0:cond_thrs])\n",
    "tot_val_dn = sum(carriers_dn[0:cond_thrs])\n",
    "tot_spin_pol_val = (tot_val_up-tot_val_dn)/(tot_val_up+tot_val_dn)*100\n",
    "print(tot_spin_pol_cond,tot_spin_pol_val)"
   ]
  },
  {
   "cell_type": "markdown",
   "metadata": {},
   "source": [
    "We compute the (conduction) spin polarization for all the frequency range"
   ]
  },
  {
   "cell_type": "code",
   "execution_count": 60,
   "metadata": {
    "scrolled": true
   },
   "outputs": [
    {
     "data": {
      "image/png": "[encoded data removed]",
      "text/plain": [
       "<Figure size 432x288 with 1 Axes>"
      ]
     },
     "metadata": {
      "needs_background": "light"
     },
     "output_type": "display_data"
    },
    {
     "data": {
      "text/plain": [
       "<matplotlib.collections.PathCollection at 0x7f2e87143550>"
      ]
     },
     "execution_count": 60,
     "metadata": {},
     "output_type": "execute_result"
    },
    {
     "data": {
      "image/png": "[encoded data removed]",
      "text/plain": [
       "<Figure size 432x288 with 1 Axes>"
      ]
     },
     "metadata": {
      "needs_background": "light"
     },
     "output_type": "display_data"
    }
   ],
   "source": [
    "spin_pol = []\n",
    "total_cond = []\n",
    "for f in freq_range:\n",
    "    file_tot = data_dir+'/ypp_freq_%s-pol_circular/o-freq_%s-pol_circular.YPP-RT_occupations_DATA'%(f,f)\n",
    "    file_up = data_dir+'/ypp_freq_%s-pol_circular/o-freq_%s-pol_circular.YPP-RT_occupations_up_DATA'%(f,f)\n",
    "    file_dn = data_dir+'/ypp_freq_%s-pol_circular/o-freq_%s-pol_circular.YPP-RT_occupations_dn_DATA'%(f,f)\n",
    "    data_tot = C.dict_parser(file_tot)\n",
    "    data_up = C.dict_parser(file_up)\n",
    "    data_dn = C.dict_parser(file_dn)\n",
    "    energies = data_tot['E']\n",
    "    carriers_up = data_up[last_time]\n",
    "    carriers_dn = data_dn[last_time]\n",
    "    carriers_tot = data_tot[last_time]\n",
    "    cond_thrs = 0\n",
    "    for e in energies:\n",
    "        if e>0:\n",
    "            cond_thrs = energies.index(e)\n",
    "            break\n",
    "    tot_cond_up = sum(carriers_up[cond_thrs:])\n",
    "    tot_cond_dn = sum(carriers_dn[cond_thrs:])\n",
    "    cond_tot = sum(carriers_tot[cond_thrs:])\n",
    "    total_cond.append(cond_tot)\n",
    "    tot_spin_pol_cond = (tot_cond_up-tot_cond_dn)/(tot_cond_up+tot_cond_dn)*100\n",
    "    spin_pol.append(tot_spin_pol_cond)\n",
    "plt.scatter(freq_range,total_cond)\n",
    "plt.title('Total carriers in conduction band',size = 14)\n",
    "plt.show()\n",
    "plt.title('Spin polarization',size = 14)\n",
    "plt.scatter(freq_range,spin_pol)"
   ]
  },
  {
   "cell_type": "markdown",
   "metadata": {},
   "source": [
    "## k = 8x8x8 - width = 100 fs"
   ]
  },
  {
   "cell_type": "code",
   "execution_count": 18,
   "metadata": {},
   "outputs": [],
   "source": [
    "data_dir = 'rt_k8_width100/FixSymm'\n",
    "last_time = '600.000'"
   ]
  },
  {
   "cell_type": "code",
   "execution_count": 19,
   "metadata": {},
   "outputs": [],
   "source": [
    "# circular polarization spanning a given frequencies range\n",
    "freq_range = [1.15,1.25,1.35,1.45,1.55,1.65,1.75,1.85]\n",
    "# linear polarization for a single frequency\n",
    "lin_freq = 1.55\n",
    "# reversed circular polarization for a single frequency\n",
    "reversed_circ_freq = 1.55"
   ]
  },
  {
   "cell_type": "markdown",
   "metadata": {},
   "source": [
    "We compute the total number of electrons in the conduction band, for a given frequency, (at the last simulation time) for each spin polarization"
   ]
  },
  {
   "cell_type": "code",
   "execution_count": 20,
   "metadata": {},
   "outputs": [
    {
     "name": "stdout",
     "output_type": "stream",
     "text": [
      "frequency =  1.55\n"
     ]
    }
   ],
   "source": [
    "f = freq_range[4]\n",
    "print('frequency = ',f)\n",
    "file_tot = data_dir+'/ypp_freq_%s-pol_circular/o-freq_%s-pol_circular.YPP-RT_occupations_DATA'%(f,f)\n",
    "file_up = data_dir+'/ypp_freq_%s-pol_circular/o-freq_%s-pol_circular.YPP-RT_occupations_up_DATA'%(f,f)\n",
    "file_dn = data_dir+'/ypp_freq_%s-pol_circular/o-freq_%s-pol_circular.YPP-RT_occupations_dn_DATA'%(f,f)\n",
    "data_tot = C.dict_parser(file_tot)\n",
    "data_up = C.dict_parser(file_up)\n",
    "data_dn = C.dict_parser(file_dn)"
   ]
  },
  {
   "cell_type": "code",
   "execution_count": 21,
   "metadata": {},
   "outputs": [],
   "source": [
    "energies = data_tot['E']\n",
    "carriers_up = data_up[last_time]\n",
    "carriers_dn = data_dn[last_time]\n",
    "carriers_tot = data_tot[last_time]"
   ]
  },
  {
   "cell_type": "code",
   "execution_count": 22,
   "metadata": {},
   "outputs": [
    {
     "data": {
      "text/plain": [
       "(-0.01, 0.01)"
      ]
     },
     "execution_count": 22,
     "metadata": {},
     "output_type": "execute_result"
    },
    {
     "data": {
      "image/png": "[encoded data removed]",
      "text/plain": [
       "<Figure size 432x288 with 1 Axes>"
      ]
     },
     "metadata": {
      "needs_background": "light"
     },
     "output_type": "display_data"
    }
   ],
   "source": [
    "plt.scatter(energies,carriers_up)\n",
    "plt.scatter(energies,carriers_dn)\n",
    "plt.ylim((-0.01,0.01))"
   ]
  },
  {
   "cell_type": "markdown",
   "metadata": {},
   "source": [
    "See how the spin polarization emerges at E=1.418"
   ]
  },
  {
   "cell_type": "code",
   "execution_count": 23,
   "metadata": {},
   "outputs": [
    {
     "name": "stdout",
     "output_type": "stream",
     "text": [
      "[2044, 2045, 2046, 2047] [2048, 2049]\n"
     ]
    }
   ],
   "source": [
    "val_indexes = []\n",
    "cond_indexes = []\n",
    "\n",
    "for ind,e in enumerate(energies):\n",
    "    if e == 0.0:\n",
    "        val_indexes.append(ind)\n",
    "\n",
    "for ind,e in enumerate(energies):\n",
    "    if e == 1.418:\n",
    "        cond_indexes.append(ind)\n",
    "\n",
    "print(val_indexes,cond_indexes)"
   ]
  },
  {
   "cell_type": "code",
   "execution_count": 24,
   "metadata": {},
   "outputs": [],
   "source": [
    "val_up  = [carriers_up[i] for i in val_indexes]\n",
    "val_dn  = [carriers_dn[i] for i in val_indexes]\n",
    "cond_up  = [carriers_up[i] for i in cond_indexes]\n",
    "cond_dn  = [carriers_dn[i] for i in cond_indexes]"
   ]
  },
  {
   "cell_type": "code",
   "execution_count": 25,
   "metadata": {},
   "outputs": [
    {
     "name": "stdout",
     "output_type": "stream",
     "text": [
      "Total carriers 0.0108819\n",
      "40.41114143669764 22.858376749271805\n"
     ]
    }
   ],
   "source": [
    "sum_cond_up = sum(cond_up)\n",
    "sum_cond_dn = sum(cond_dn)\n",
    "print('Total carriers',sum_cond_up+sum_cond_dn)\n",
    "spin_pol_cond = (sum_cond_up-sum_cond_dn)/(sum_cond_up+sum_cond_dn)*100\n",
    "sum_val_up = sum(val_up)\n",
    "sum_val_dn = sum(val_dn)\n",
    "spin_pol_val = (sum_val_up-sum_val_dn)/(sum_val_up+sum_val_dn)*100\n",
    "print(spin_pol_cond,spin_pol_val)"
   ]
  },
  {
   "cell_type": "markdown",
   "metadata": {},
   "source": [
    "The total number of carriers in the conduction band is computed by integrating the carriers for energies > 0"
   ]
  },
  {
   "cell_type": "code",
   "execution_count": 72,
   "metadata": {},
   "outputs": [],
   "source": [
    "cond_thrs = cond_indexes[0]"
   ]
  },
  {
   "cell_type": "markdown",
   "metadata": {},
   "source": [
    "and the associated spin polarization is"
   ]
  },
  {
   "cell_type": "code",
   "execution_count": 73,
   "metadata": {},
   "outputs": [
    {
     "name": "stdout",
     "output_type": "stream",
     "text": [
      "39.450126575281246 22.460042246526204\n"
     ]
    }
   ],
   "source": [
    "tot_cond_up = sum(carriers_up[cond_thrs:])\n",
    "tot_cond_dn = sum(carriers_dn[cond_thrs:])\n",
    "tot_spin_pol_cond = (tot_cond_up-tot_cond_dn)/(tot_cond_up+tot_cond_dn)*100\n",
    "tot_val_up = sum(carriers_up[0:cond_thrs])\n",
    "tot_val_dn = sum(carriers_dn[0:cond_thrs])\n",
    "tot_spin_pol_val = (tot_val_up-tot_val_dn)/(tot_val_up+tot_val_dn)*100\n",
    "print(tot_spin_pol_cond,tot_spin_pol_val)"
   ]
  },
  {
   "cell_type": "markdown",
   "metadata": {},
   "source": [
    "We compute the (conduction) spin polarization for all the frequency range"
   ]
  },
  {
   "cell_type": "code",
   "execution_count": 74,
   "metadata": {
    "scrolled": false
   },
   "outputs": [
    {
     "data": {
      "image/png": "[encoded data removed]",
      "text/plain": [
       "<Figure size 432x288 with 1 Axes>"
      ]
     },
     "metadata": {
      "needs_background": "light"
     },
     "output_type": "display_data"
    },
    {
     "data": {
      "text/plain": [
       "<matplotlib.collections.PathCollection at 0x7f2e872c5278>"
      ]
     },
     "execution_count": 74,
     "metadata": {},
     "output_type": "execute_result"
    },
    {
     "data": {
      "image/png": "[encoded data removed]",
      "text/plain": [
       "<Figure size 432x288 with 1 Axes>"
      ]
     },
     "metadata": {
      "needs_background": "light"
     },
     "output_type": "display_data"
    }
   ],
   "source": [
    "spin_pol = []\n",
    "total_cond = []\n",
    "for f in freq_range:\n",
    "    file_tot = data_dir+'/ypp_freq_%s-pol_circular/o-freq_%s-pol_circular.YPP-RT_occupations_DATA'%(f,f)\n",
    "    file_up = data_dir+'/ypp_freq_%s-pol_circular/o-freq_%s-pol_circular.YPP-RT_occupations_up_DATA'%(f,f)\n",
    "    file_dn = data_dir+'/ypp_freq_%s-pol_circular/o-freq_%s-pol_circular.YPP-RT_occupations_dn_DATA'%(f,f)\n",
    "    data_tot = C.dict_parser(file_tot)\n",
    "    data_up = C.dict_parser(file_up)\n",
    "    data_dn = C.dict_parser(file_dn)\n",
    "    energies = data_tot['E']\n",
    "    carriers_up = data_up[last_time]\n",
    "    carriers_dn = data_dn[last_time]\n",
    "    carriers_tot = data_tot[last_time]\n",
    "    cond_thrs = 0\n",
    "    for e in energies:\n",
    "        if e>0:\n",
    "            cond_thrs = energies.index(e)\n",
    "            break\n",
    "    tot_cond_up = sum(carriers_up[cond_thrs:])\n",
    "    tot_cond_dn = sum(carriers_dn[cond_thrs:])\n",
    "    cond_tot = sum(carriers_tot[cond_thrs:])\n",
    "    total_cond.append(cond_tot)\n",
    "    tot_spin_pol_cond = (tot_cond_up-tot_cond_dn)/(tot_cond_up+tot_cond_dn)*100\n",
    "    spin_pol.append(tot_spin_pol_cond)\n",
    "plt.scatter(freq_range,total_cond)\n",
    "plt.title('Total carriers in conduction band',size = 14)\n",
    "plt.show()\n",
    "plt.title('Spin polarization',size = 14)\n",
    "plt.scatter(freq_range,spin_pol)"
   ]
  },
  {
   "cell_type": "markdown",
   "metadata": {},
   "source": [
    "## k = 8x8x8 - no commutator"
   ]
  },
  {
   "cell_type": "code",
   "execution_count": 10,
   "metadata": {},
   "outputs": [],
   "source": [
    "data_dir = 'rt_k8_no-commutator/FixSymm'\n",
    "last_time = '240.000'"
   ]
  },
  {
   "cell_type": "code",
   "execution_count": 11,
   "metadata": {},
   "outputs": [],
   "source": [
    "# circular polarization spanning a given frequencies range\n",
    "freq_range =[1.418,1.55]\n",
    "# linear polarization for a single frequency\n",
    "lin_freq = 1.55\n",
    "# reversed circular polarization for a single frequency\n",
    "reversed_circ_freq = 1.55"
   ]
  },
  {
   "cell_type": "markdown",
   "metadata": {},
   "source": [
    "We compute the total number of electrons in the conduction band, for a given frequency, (at the last simulation time) for each spin polarization"
   ]
  },
  {
   "cell_type": "code",
   "execution_count": 12,
   "metadata": {},
   "outputs": [
    {
     "name": "stdout",
     "output_type": "stream",
     "text": [
      "frequency =  1.55\n"
     ]
    }
   ],
   "source": [
    "f = freq_range[1]\n",
    "print('frequency = ',f)\n",
    "file_tot = data_dir+'/ypp_freq_%s-pol_circular/o-freq_%s-pol_circular.YPP-RT_occupations_DATA'%(f,f)\n",
    "file_up = data_dir+'/ypp_freq_%s-pol_circular/o-freq_%s-pol_circular.YPP-RT_occupations_up_DATA'%(f,f)\n",
    "file_dn = data_dir+'/ypp_freq_%s-pol_circular/o-freq_%s-pol_circular.YPP-RT_occupations_dn_DATA'%(f,f)\n",
    "data_tot = C.dict_parser(file_tot)\n",
    "data_up = C.dict_parser(file_up)\n",
    "data_dn = C.dict_parser(file_dn)"
   ]
  },
  {
   "cell_type": "code",
   "execution_count": 13,
   "metadata": {},
   "outputs": [],
   "source": [
    "energies = data_tot['E']\n",
    "carriers_up = data_up[last_time]\n",
    "carriers_dn = data_dn[last_time]\n",
    "carriers_tot = data_tot[last_time]"
   ]
  },
  {
   "cell_type": "code",
   "execution_count": 14,
   "metadata": {},
   "outputs": [
    {
     "data": {
      "text/plain": [
       "(-0.005, 0.005)"
      ]
     },
     "execution_count": 14,
     "metadata": {},
     "output_type": "execute_result"
    },
    {
     "data": {
      "image/png": "[encoded data removed]",
      "text/plain": [
       "<Figure size 432x288 with 1 Axes>"
      ]
     },
     "metadata": {
      "needs_background": "light"
     },
     "output_type": "display_data"
    }
   ],
   "source": [
    "plt.scatter(energies,carriers_up)\n",
    "plt.scatter(energies,carriers_dn)\n",
    "plt.ylim((-0.005,0.005))"
   ]
  },
  {
   "cell_type": "markdown",
   "metadata": {},
   "source": [
    "See how the spin polarization emerges at E=1.418"
   ]
  },
  {
   "cell_type": "code",
   "execution_count": 15,
   "metadata": {},
   "outputs": [
    {
     "name": "stdout",
     "output_type": "stream",
     "text": [
      "[2044, 2045, 2046, 2047] [2048, 2049]\n"
     ]
    }
   ],
   "source": [
    "val_indexes = []\n",
    "cond_indexes = []\n",
    "\n",
    "for ind,e in enumerate(energies):\n",
    "    if e == 0.0:\n",
    "        val_indexes.append(ind)\n",
    "\n",
    "for ind,e in enumerate(energies):\n",
    "    if e == 1.418:\n",
    "        cond_indexes.append(ind)\n",
    "\n",
    "print(val_indexes,cond_indexes)"
   ]
  },
  {
   "cell_type": "code",
   "execution_count": 16,
   "metadata": {},
   "outputs": [],
   "source": [
    "val_up  = [carriers_up[i] for i in val_indexes]\n",
    "val_dn  = [carriers_dn[i] for i in val_indexes]\n",
    "cond_up  = [carriers_up[i] for i in cond_indexes]\n",
    "cond_dn  = [carriers_dn[i] for i in cond_indexes]"
   ]
  },
  {
   "cell_type": "code",
   "execution_count": 17,
   "metadata": {},
   "outputs": [
    {
     "name": "stdout",
     "output_type": "stream",
     "text": [
      "Total carriers 0.0033511799999999996\n",
      "42.68944073430851 23.41390629662787\n"
     ]
    }
   ],
   "source": [
    "sum_cond_up = sum(cond_up)\n",
    "sum_cond_dn = sum(cond_dn)\n",
    "print('Total carriers',sum_cond_up+sum_cond_dn)\n",
    "spin_pol_cond = (sum_cond_up-sum_cond_dn)/(sum_cond_up+sum_cond_dn)*100\n",
    "sum_val_up = sum(val_up)\n",
    "sum_val_dn = sum(val_dn)\n",
    "spin_pol_val = (sum_val_up-sum_val_dn)/(sum_val_up+sum_val_dn)*100\n",
    "print(spin_pol_cond,spin_pol_val)"
   ]
  },
  {
   "cell_type": "markdown",
   "metadata": {},
   "source": [
    "## k = 4x4x4"
   ]
  },
  {
   "cell_type": "code",
   "execution_count": 18,
   "metadata": {},
   "outputs": [],
   "source": [
    "data_dir = 'rt_k4_width40/FixSymm'\n",
    "last_time = '240.000'"
   ]
  },
  {
   "cell_type": "code",
   "execution_count": 19,
   "metadata": {},
   "outputs": [],
   "source": [
    "# circular polarization spanning a given frequencies range\n",
    "freq_range =[1.418,1.55]\n",
    "# linear polarization for a single frequency\n",
    "lin_freq = 1.55\n",
    "# reversed circular polarization for a single frequency\n",
    "reversed_circ_freq = 1.55"
   ]
  },
  {
   "cell_type": "markdown",
   "metadata": {},
   "source": [
    "We compute the total number of electrons in the conduction band, for a given frequency, (at the last simulation time) for each spin polarization"
   ]
  },
  {
   "cell_type": "code",
   "execution_count": 20,
   "metadata": {},
   "outputs": [
    {
     "name": "stdout",
     "output_type": "stream",
     "text": [
      "frequency =  1.55\n"
     ]
    }
   ],
   "source": [
    "f = freq_range[1]\n",
    "print('frequency = ',f)\n",
    "file_tot = data_dir+'/ypp_freq_%s-pol_circular/o-freq_%s-pol_circular.YPP-RT_occupations_DATA'%(f,f)\n",
    "file_up = data_dir+'/ypp_freq_%s-pol_circular/o-freq_%s-pol_circular.YPP-RT_occupations_up_DATA'%(f,f)\n",
    "file_dn = data_dir+'/ypp_freq_%s-pol_circular/o-freq_%s-pol_circular.YPP-RT_occupations_dn_DATA'%(f,f)\n",
    "data_tot = C.dict_parser(file_tot)\n",
    "data_up = C.dict_parser(file_up)\n",
    "data_dn = C.dict_parser(file_dn)"
   ]
  },
  {
   "cell_type": "code",
   "execution_count": 21,
   "metadata": {},
   "outputs": [],
   "source": [
    "energies = data_tot['E']\n",
    "carriers_up = data_up[last_time]\n",
    "carriers_dn = data_dn[last_time]\n",
    "carriers_tot = data_tot[last_time]"
   ]
  },
  {
   "cell_type": "code",
   "execution_count": 22,
   "metadata": {},
   "outputs": [
    {
     "data": {
      "text/plain": [
       "<matplotlib.collections.PathCollection at 0x7fde9d824630>"
      ]
     },
     "execution_count": 22,
     "metadata": {},
     "output_type": "execute_result"
    },
    {
     "data": {
      "image/png": "[encoded data removed]",
      "text/plain": [
       "<Figure size 432x288 with 1 Axes>"
      ]
     },
     "metadata": {
      "needs_background": "light"
     },
     "output_type": "display_data"
    }
   ],
   "source": [
    "plt.scatter(energies,carriers_up)\n",
    "plt.scatter(energies,carriers_dn)\n",
    "#plt.ylim((-0.0005,0.0005))"
   ]
  },
  {
   "cell_type": "markdown",
   "metadata": {},
   "source": [
    "See how the spin polarization emerges at E=1.418"
   ]
  },
  {
   "cell_type": "code",
   "execution_count": 23,
   "metadata": {},
   "outputs": [
    {
     "name": "stdout",
     "output_type": "stream",
     "text": [
      "[252, 253, 254, 255] [256, 257]\n"
     ]
    }
   ],
   "source": [
    "val_indexes = []\n",
    "cond_indexes = []\n",
    "\n",
    "for ind,e in enumerate(energies):\n",
    "    if e == 0.0:\n",
    "        val_indexes.append(ind)\n",
    "\n",
    "for ind,e in enumerate(energies):\n",
    "    if e == 1.418:\n",
    "        cond_indexes.append(ind)\n",
    "\n",
    "print(val_indexes,cond_indexes)"
   ]
  },
  {
   "cell_type": "code",
   "execution_count": 24,
   "metadata": {},
   "outputs": [],
   "source": [
    "val_up  = [carriers_up[i] for i in val_indexes]\n",
    "val_dn  = [carriers_dn[i] for i in val_indexes]\n",
    "cond_up  = [carriers_up[i] for i in cond_indexes]\n",
    "cond_dn  = [carriers_dn[i] for i in cond_indexes]"
   ]
  },
  {
   "cell_type": "code",
   "execution_count": 26,
   "metadata": {},
   "outputs": [
    {
     "name": "stdout",
     "output_type": "stream",
     "text": [
      "Total carriers 0.0043956\n",
      "3.9039039039039047 14.877063351957345\n"
     ]
    }
   ],
   "source": [
    "sum_cond_up = sum(cond_up)\n",
    "sum_cond_dn = sum(cond_dn)\n",
    "print('Total carriers',sum_cond_up+sum_cond_dn)\n",
    "spin_pol_cond = (sum_cond_up-sum_cond_dn)/(sum_cond_up+sum_cond_dn)*100\n",
    "sum_val_up = sum(val_up)\n",
    "sum_val_dn = sum(val_dn)\n",
    "spin_pol_val = (sum_val_up-sum_val_dn)/(sum_val_up+sum_val_dn)*100\n",
    "print(spin_pol_cond,spin_pol_val)"
   ]
  },
  {
   "cell_type": "markdown",
   "metadata": {},
   "source": [
    "## k = 12x12x12"
   ]
  },
  {
   "cell_type": "code",
   "execution_count": 2,
   "metadata": {},
   "outputs": [],
   "source": [
    "data_dir = 'rt_k12_width40/FixSymm'\n",
    "last_time = '240.000'"
   ]
  },
  {
   "cell_type": "code",
   "execution_count": 3,
   "metadata": {},
   "outputs": [],
   "source": [
    "# circular polarization spanning a given frequencies range\n",
    "freq_range =[1.418,1.55]\n",
    "# linear polarization for a single frequency\n",
    "lin_freq = 1.55\n",
    "# reversed circular polarization for a single frequency\n",
    "reversed_circ_freq = 1.55"
   ]
  },
  {
   "cell_type": "markdown",
   "metadata": {},
   "source": [
    "We compute the total number of electrons in the conduction band, for a given frequency, (at the last simulation time) for each spin polarization"
   ]
  },
  {
   "cell_type": "code",
   "execution_count": 4,
   "metadata": {},
   "outputs": [
    {
     "name": "stdout",
     "output_type": "stream",
     "text": [
      "frequency =  1.55\n"
     ]
    }
   ],
   "source": [
    "f = freq_range[1]\n",
    "print('frequency = ',f)\n",
    "file_tot = data_dir+'/ypp_freq_%s-pol_circular/o-freq_%s-pol_circular.YPP-RT_occupations_DATA'%(f,f)\n",
    "file_up = data_dir+'/ypp_freq_%s-pol_circular/o-freq_%s-pol_circular.YPP-RT_occupations_up_DATA'%(f,f)\n",
    "file_dn = data_dir+'/ypp_freq_%s-pol_circular/o-freq_%s-pol_circular.YPP-RT_occupations_dn_DATA'%(f,f)\n",
    "data_tot = C.dict_parser(file_tot)\n",
    "data_up = C.dict_parser(file_up)\n",
    "data_dn = C.dict_parser(file_dn)"
   ]
  },
  {
   "cell_type": "code",
   "execution_count": 5,
   "metadata": {},
   "outputs": [],
   "source": [
    "energies = data_tot['E']\n",
    "carriers_up = data_up[last_time]\n",
    "carriers_dn = data_dn[last_time]\n",
    "carriers_tot = data_tot[last_time]"
   ]
  },
  {
   "cell_type": "code",
   "execution_count": 6,
   "metadata": {},
   "outputs": [
    {
     "data": {
      "text/plain": [
       "<matplotlib.collections.PathCollection at 0x7f878e59e278>"
      ]
     },
     "execution_count": 6,
     "metadata": {},
     "output_type": "execute_result"
    },
    {
     "data": {
      "image/png": "[encoded data removed]",
      "text/plain": [
       "<Figure size 432x288 with 1 Axes>"
      ]
     },
     "metadata": {
      "needs_background": "light"
     },
     "output_type": "display_data"
    }
   ],
   "source": [
    "plt.scatter(energies,carriers_up)\n",
    "plt.scatter(energies,carriers_dn)\n",
    "#plt.ylim((-0.0005,0.0005))"
   ]
  },
  {
   "cell_type": "markdown",
   "metadata": {},
   "source": [
    "See how the spin polarization emerges at E=1.418"
   ]
  },
  {
   "cell_type": "code",
   "execution_count": 7,
   "metadata": {},
   "outputs": [
    {
     "name": "stdout",
     "output_type": "stream",
     "text": [
      "[6908, 6909, 6910, 6911] [6912, 6913]\n"
     ]
    }
   ],
   "source": [
    "val_indexes = []\n",
    "cond_indexes = []\n",
    "\n",
    "for ind,e in enumerate(energies):\n",
    "    if e == 0.0:\n",
    "        val_indexes.append(ind)\n",
    "\n",
    "for ind,e in enumerate(energies):\n",
    "    if e == 1.418:\n",
    "        cond_indexes.append(ind)\n",
    "\n",
    "print(val_indexes,cond_indexes)"
   ]
  },
  {
   "cell_type": "code",
   "execution_count": 8,
   "metadata": {},
   "outputs": [],
   "source": [
    "val_up  = [carriers_up[i] for i in val_indexes]\n",
    "val_dn  = [carriers_dn[i] for i in val_indexes]\n",
    "cond_up  = [carriers_up[i] for i in cond_indexes]\n",
    "cond_dn  = [carriers_dn[i] for i in cond_indexes]"
   ]
  },
  {
   "cell_type": "code",
   "execution_count": 9,
   "metadata": {},
   "outputs": [
    {
     "name": "stdout",
     "output_type": "stream",
     "text": [
      "Total carriers 0.004396000000000001\n",
      "0.0 4.663330300272972\n"
     ]
    }
   ],
   "source": [
    "sum_cond_up = sum(cond_up)\n",
    "sum_cond_dn = sum(cond_dn)\n",
    "print('Total carriers',sum_cond_up+sum_cond_dn)\n",
    "spin_pol_cond = (sum_cond_up-sum_cond_dn)/(sum_cond_up+sum_cond_dn)*100\n",
    "sum_val_up = sum(val_up)\n",
    "sum_val_dn = sum(val_dn)\n",
    "spin_pol_val = (sum_val_up-sum_val_dn)/(sum_val_up+sum_val_dn)*100\n",
    "print(spin_pol_cond,spin_pol_val)"
   ]
  },
  {
   "cell_type": "markdown",
   "metadata": {},
   "source": [
    "## k = Gamma"
   ]
  },
  {
   "cell_type": "code",
   "execution_count": 50,
   "metadata": {},
   "outputs": [],
   "source": [
    "data_dir = 'rt_gamma_width40/FixSymm'\n",
    "last_time = '240.000'"
   ]
  },
  {
   "cell_type": "code",
   "execution_count": 51,
   "metadata": {},
   "outputs": [],
   "source": [
    "# circular polarization spanning a given frequencies range\n",
    "freq_range =[1.418,1.55]\n",
    "# linear polarization for a single frequency\n",
    "lin_freq = 1.55\n",
    "# reversed circular polarization for a single frequency\n",
    "reversed_circ_freq = 1.55"
   ]
  },
  {
   "cell_type": "markdown",
   "metadata": {},
   "source": [
    "We compute the total number of electrons in the conduction band, for a given frequency, (at the last simulation time) for each spin polarization"
   ]
  },
  {
   "cell_type": "code",
   "execution_count": 52,
   "metadata": {},
   "outputs": [
    {
     "name": "stdout",
     "output_type": "stream",
     "text": [
      "frequency =  1.55\n"
     ]
    }
   ],
   "source": [
    "f = freq_range[1]\n",
    "print('frequency = ',f)\n",
    "file_tot = data_dir+'/ypp_freq_%s-pol_circular/o-freq_%s-pol_circular.YPP-RT_occupations_DATA'%(f,f)\n",
    "file_up = data_dir+'/ypp_freq_%s-pol_circular/o-freq_%s-pol_circular.YPP-RT_occupations_up_DATA'%(f,f)\n",
    "file_dn = data_dir+'/ypp_freq_%s-pol_circular/o-freq_%s-pol_circular.YPP-RT_occupations_dn_DATA'%(f,f)\n",
    "data_tot = C.dict_parser(file_tot)\n",
    "data_up = C.dict_parser(file_up)\n",
    "data_dn = C.dict_parser(file_dn)"
   ]
  },
  {
   "cell_type": "code",
   "execution_count": 53,
   "metadata": {},
   "outputs": [],
   "source": [
    "energies = data_tot['E']\n",
    "carriers_up = data_up[last_time]\n",
    "carriers_dn = data_dn[last_time]\n",
    "carriers_tot = data_tot[last_time]"
   ]
  },
  {
   "cell_type": "code",
   "execution_count": 54,
   "metadata": {},
   "outputs": [
    {
     "data": {
      "text/plain": [
       "<matplotlib.collections.PathCollection at 0x7f878dfe24a8>"
      ]
     },
     "execution_count": 54,
     "metadata": {},
     "output_type": "execute_result"
    },
    {
     "data": {
      "image/png": "[encoded data removed]",
      "text/plain": [
       "<Figure size 432x288 with 1 Axes>"
      ]
     },
     "metadata": {
      "needs_background": "light"
     },
     "output_type": "display_data"
    }
   ],
   "source": [
    "plt.scatter(energies,carriers_up)\n",
    "plt.scatter(energies,carriers_dn)\n",
    "#plt.ylim((-0.0005,0.0005))"
   ]
  },
  {
   "cell_type": "markdown",
   "metadata": {},
   "source": [
    "See how the spin polarization emerges at E=1.418"
   ]
  },
  {
   "cell_type": "code",
   "execution_count": 55,
   "metadata": {},
   "outputs": [
    {
     "name": "stdout",
     "output_type": "stream",
     "text": [
      "[0, 1, 2, 3] [4, 5]\n"
     ]
    }
   ],
   "source": [
    "val_indexes = []\n",
    "cond_indexes = []\n",
    "\n",
    "for ind,e in enumerate(energies):\n",
    "    if e == 0.0:\n",
    "        val_indexes.append(ind)\n",
    "\n",
    "for ind,e in enumerate(energies):\n",
    "    if e == 1.418:\n",
    "        cond_indexes.append(ind)\n",
    "\n",
    "print(val_indexes,cond_indexes)"
   ]
  },
  {
   "cell_type": "code",
   "execution_count": 56,
   "metadata": {},
   "outputs": [],
   "source": [
    "val_up  = [carriers_up[i] for i in val_indexes]\n",
    "val_dn  = [carriers_dn[i] for i in val_indexes]\n",
    "cond_up  = [carriers_up[i] for i in cond_indexes]\n",
    "cond_dn  = [carriers_dn[i] for i in cond_indexes]"
   ]
  },
  {
   "cell_type": "code",
   "execution_count": 57,
   "metadata": {},
   "outputs": [
    {
     "name": "stdout",
     "output_type": "stream",
     "text": [
      "Total carriers 0.004395700000000001\n",
      "0.5391632731988123 28.66016536898581\n"
     ]
    }
   ],
   "source": [
    "sum_cond_up = sum(cond_up)\n",
    "sum_cond_dn = sum(cond_dn)\n",
    "print('Total carriers',sum_cond_up+sum_cond_dn)\n",
    "spin_pol_cond = (sum_cond_up-sum_cond_dn)/(sum_cond_up+sum_cond_dn)*100\n",
    "sum_val_up = sum(val_up)\n",
    "sum_val_dn = sum(val_dn)\n",
    "spin_pol_val = (sum_val_up-sum_val_dn)/(sum_val_up+sum_val_dn)*100\n",
    "print(spin_pol_cond,spin_pol_val)"
   ]
  },
  {
   "cell_type": "markdown",
   "metadata": {},
   "source": [
    "## k = Gamma - no commutator"
   ]
  },
  {
   "cell_type": "code",
   "execution_count": 58,
   "metadata": {},
   "outputs": [],
   "source": [
    "data_dir = 'rt_gamma_width40_no-commutator/FixSymm'\n",
    "last_time = '240.000'"
   ]
  },
  {
   "cell_type": "code",
   "execution_count": 59,
   "metadata": {},
   "outputs": [],
   "source": [
    "# circular polarization spanning a given frequencies range\n",
    "freq_range =[1.418,1.55]\n",
    "# linear polarization for a single frequency\n",
    "lin_freq = 1.55\n",
    "# reversed circular polarization for a single frequency\n",
    "reversed_circ_freq = 1.55"
   ]
  },
  {
   "cell_type": "markdown",
   "metadata": {},
   "source": [
    "We compute the total number of electrons in the conduction band, for a given frequency, (at the last simulation time) for each spin polarization"
   ]
  },
  {
   "cell_type": "code",
   "execution_count": 60,
   "metadata": {},
   "outputs": [
    {
     "name": "stdout",
     "output_type": "stream",
     "text": [
      "frequency =  1.55\n"
     ]
    }
   ],
   "source": [
    "f = freq_range[1]\n",
    "print('frequency = ',f)\n",
    "file_tot = data_dir+'/ypp_freq_%s-pol_circular/o-freq_%s-pol_circular.YPP-RT_occupations_DATA'%(f,f)\n",
    "file_up = data_dir+'/ypp_freq_%s-pol_circular/o-freq_%s-pol_circular.YPP-RT_occupations_up_DATA'%(f,f)\n",
    "file_dn = data_dir+'/ypp_freq_%s-pol_circular/o-freq_%s-pol_circular.YPP-RT_occupations_dn_DATA'%(f,f)\n",
    "data_tot = C.dict_parser(file_tot)\n",
    "data_up = C.dict_parser(file_up)\n",
    "data_dn = C.dict_parser(file_dn)"
   ]
  },
  {
   "cell_type": "code",
   "execution_count": 61,
   "metadata": {},
   "outputs": [],
   "source": [
    "energies = data_tot['E']\n",
    "carriers_up = data_up[last_time]\n",
    "carriers_dn = data_dn[last_time]\n",
    "carriers_tot = data_tot[last_time]"
   ]
  },
  {
   "cell_type": "code",
   "execution_count": 62,
   "metadata": {},
   "outputs": [
    {
     "data": {
      "text/plain": [
       "<matplotlib.collections.PathCollection at 0x7f878e3238d0>"
      ]
     },
     "execution_count": 62,
     "metadata": {},
     "output_type": "execute_result"
    },
    {
     "data": {
      "image/png": "[encoded data removed]",
      "text/plain": [
       "<Figure size 432x288 with 1 Axes>"
      ]
     },
     "metadata": {
      "needs_background": "light"
     },
     "output_type": "display_data"
    }
   ],
   "source": [
    "plt.scatter(energies,carriers_up)\n",
    "plt.scatter(energies,carriers_dn)\n",
    "#plt.ylim((-0.0005,0.0005))"
   ]
  },
  {
   "cell_type": "markdown",
   "metadata": {},
   "source": [
    "See how the spin polarization emerges at E=1.418"
   ]
  },
  {
   "cell_type": "code",
   "execution_count": 63,
   "metadata": {},
   "outputs": [
    {
     "name": "stdout",
     "output_type": "stream",
     "text": [
      "[0, 1, 2, 3] [4, 5]\n"
     ]
    }
   ],
   "source": [
    "val_indexes = []\n",
    "cond_indexes = []\n",
    "\n",
    "for ind,e in enumerate(energies):\n",
    "    if e == 0.0:\n",
    "        val_indexes.append(ind)\n",
    "\n",
    "for ind,e in enumerate(energies):\n",
    "    if e == 1.418:\n",
    "        cond_indexes.append(ind)\n",
    "\n",
    "print(val_indexes,cond_indexes)"
   ]
  },
  {
   "cell_type": "code",
   "execution_count": 64,
   "metadata": {},
   "outputs": [],
   "source": [
    "val_up  = [carriers_up[i] for i in val_indexes]\n",
    "val_dn  = [carriers_dn[i] for i in val_indexes]\n",
    "cond_up  = [carriers_up[i] for i in cond_indexes]\n",
    "cond_dn  = [carriers_dn[i] for i in cond_indexes]"
   ]
  },
  {
   "cell_type": "code",
   "execution_count": 65,
   "metadata": {},
   "outputs": [
    {
     "name": "stdout",
     "output_type": "stream",
     "text": [
      "Total carriers 0.0033513\n",
      "0.5818637543639777 29.129770627968597\n"
     ]
    }
   ],
   "source": [
    "sum_cond_up = sum(cond_up)\n",
    "sum_cond_dn = sum(cond_dn)\n",
    "print('Total carriers',sum_cond_up+sum_cond_dn)\n",
    "spin_pol_cond = (sum_cond_up-sum_cond_dn)/(sum_cond_up+sum_cond_dn)*100\n",
    "sum_val_up = sum(val_up)\n",
    "sum_val_dn = sum(val_dn)\n",
    "spin_pol_val = (sum_val_up-sum_val_dn)/(sum_val_up+sum_val_dn)*100\n",
    "print(spin_pol_cond,spin_pol_val)"
   ]
  },
  {
   "cell_type": "markdown",
   "metadata": {},
   "source": [
    "## Analysis of the magnetization"
   ]
  },
  {
   "cell_type": "code",
   "execution_count": 8,
   "metadata": {},
   "outputs": [],
   "source": [
    "data_gamma = 'rt_gamma_mcond/FixSymm/freq_1.55-pol_circular/o-freq_1.55-pol_circular.magnetization'\n",
    "data_k4 = 'rt_k4_mcond/FixSymm/freq_1.55-pol_circular/o-freq_1.55-pol_circular.magnetization'\n",
    "data_k8 = 'rt_k8_mcond/FixSymm/freq_1.55-pol_circular/o-freq_1.55-pol_circular.magnetization'\n",
    "data_k8_old = 'rt_k8_width40/FixSymm/freq_1.55-pol_circular/o-freq_1.55-pol_circular.magnetization'\n",
    "mgns = [C.dict_parser(data_gamma),C.dict_parser(data_k4),C.dict_parser(data_k8),C.dict_parser(data_k8_old)]"
   ]
  },
  {
   "cell_type": "code",
   "execution_count": 9,
   "metadata": {},
   "outputs": [
    {
     "data": {
      "image/png": "[encoded data removed]",
      "text/plain": [
       "<Figure size 432x288 with 1 Axes>"
      ]
     },
     "metadata": {
      "needs_background": "light"
     },
     "output_type": "display_data"
    },
    {
     "name": "stdout",
     "output_type": "stream",
     "text": [
      "0.00022443838103478647\n"
     ]
    },
    {
     "data": {
      "image/png": "[encoded data removed]",
      "text/plain": [
       "<Figure size 432x288 with 1 Axes>"
      ]
     },
     "metadata": {
      "needs_background": "light"
     },
     "output_type": "display_data"
    },
    {
     "name": "stdout",
     "output_type": "stream",
     "text": [
      "9.334815377918275e-06\n"
     ]
    },
    {
     "data": {
      "image/png": "[encoded data removed]",
      "text/plain": [
       "<Figure size 432x288 with 1 Axes>"
      ]
     },
     "metadata": {
      "needs_background": "light"
     },
     "output_type": "display_data"
    },
    {
     "name": "stdout",
     "output_type": "stream",
     "text": [
      "3.752392397394631e-06\n"
     ]
    },
    {
     "data": {
      "image/png": "[encoded data removed]",
      "text/plain": [
       "<Figure size 432x288 with 1 Axes>"
      ]
     },
     "metadata": {
      "needs_background": "light"
     },
     "output_type": "display_data"
    },
    {
     "name": "stdout",
     "output_type": "stream",
     "text": [
      "2.829935419668264e-06\n"
     ]
    }
   ],
   "source": [
    "for m in mgns:\n",
    "    plt.plot(m['T'],m['Ms_x'],label = 'x')\n",
    "    plt.plot(m['T'],m['Ms_y'],label = 'y')\n",
    "    plt.plot(m['T'],m['Ms_z'],label = 'z')\n",
    "    plt.legend()\n",
    "    plt.show()\n",
    "    print(np.linalg.norm(np.array([m['Ms_x'][-1],m['Ms_y'][-1],m['Ms_z'][-1]])))"
   ]
  },
  {
   "cell_type": "code",
   "execution_count": null,
   "metadata": {},
   "outputs": [],
   "source": []
  },
  {
   "cell_type": "code",
   "execution_count": null,
   "metadata": {},
   "outputs": [],
   "source": []
  },
  {
   "cell_type": "code",
   "execution_count": null,
   "metadata": {},
   "outputs": [],
   "source": []
  },
  {
   "cell_type": "code",
   "execution_count": null,
   "metadata": {},
   "outputs": [],
   "source": []
  },
  {
   "cell_type": "code",
   "execution_count": null,
   "metadata": {},
   "outputs": [],
   "source": []
  },
  {
   "cell_type": "code",
   "execution_count": null,
   "metadata": {},
   "outputs": [],
   "source": []
  },
  {
   "cell_type": "code",
   "execution_count": null,
   "metadata": {},
   "outputs": [],
   "source": []
  },
  {
   "cell_type": "code",
   "execution_count": null,
   "metadata": {},
   "outputs": [],
   "source": [
    "######################################################################"
   ]
  },
  {
   "cell_type": "markdown",
   "metadata": {},
   "source": [
    "## k = 100 random (k range of 0.1 centred in Gamma)"
   ]
  },
  {
   "cell_type": "code",
   "execution_count": 14,
   "metadata": {},
   "outputs": [],
   "source": [
    "data_dir = 'rt_k100_random/FixSymm'\n",
    "last_time = '240.000'"
   ]
  },
  {
   "cell_type": "code",
   "execution_count": 15,
   "metadata": {},
   "outputs": [],
   "source": [
    "# circular polarization spanning a given frequencies range\n",
    "freq_range = [1.15,1.25,1.35,1.45,1.55,1.65,1.75,1.85]\n",
    "# linear polarization for a single frequency\n",
    "lin_freq = 1.55\n",
    "# reversed circular polarization for a single frequency\n",
    "reversed_circ_freq = 1.55"
   ]
  },
  {
   "cell_type": "markdown",
   "metadata": {},
   "source": [
    "We compute the total number of electrons in the conduction band, for a given frequency, (at the last simulation time) for each spin polarization"
   ]
  },
  {
   "cell_type": "code",
   "execution_count": 16,
   "metadata": {},
   "outputs": [
    {
     "name": "stdout",
     "output_type": "stream",
     "text": [
      "frequency =  1.55\n"
     ]
    }
   ],
   "source": [
    "f = freq_range[4]\n",
    "print('frequency = ',f)\n",
    "file_tot = data_dir+'/ypp_freq_%s-pol_circular/o-freq_%s-pol_circular.YPP-RT_occupations_DATA'%(f,f)\n",
    "file_up = data_dir+'/ypp_freq_%s-pol_circular/o-freq_%s-pol_circular.YPP-RT_occupations_up_DATA'%(f,f)\n",
    "file_dn = data_dir+'/ypp_freq_%s-pol_circular/o-freq_%s-pol_circular.YPP-RT_occupations_dn_DATA'%(f,f)\n",
    "data_tot = C.dict_parser(file_tot)\n",
    "data_up = C.dict_parser(file_up)\n",
    "data_dn = C.dict_parser(file_dn)"
   ]
  },
  {
   "cell_type": "code",
   "execution_count": 17,
   "metadata": {},
   "outputs": [],
   "source": [
    "energies = data_tot['E']\n",
    "carriers_up = data_up[last_time]\n",
    "carriers_dn = data_dn[last_time]\n",
    "carriers_tot = data_tot[last_time]"
   ]
  },
  {
   "cell_type": "code",
   "execution_count": 18,
   "metadata": {},
   "outputs": [
    {
     "data": {
      "text/plain": [
       "<matplotlib.collections.PathCollection at 0x7f26d3273470>"
      ]
     },
     "execution_count": 18,
     "metadata": {},
     "output_type": "execute_result"
    },
    {
     "data": {
      "image/png": "[encoded data removed]",
      "text/plain": [
       "<Figure size 432x288 with 1 Axes>"
      ]
     },
     "metadata": {
      "needs_background": "light"
     },
     "output_type": "display_data"
    }
   ],
   "source": [
    "plt.scatter(energies,carriers_up)\n",
    "plt.scatter(energies,0.01+np.array(carriers_dn))"
   ]
  },
  {
   "cell_type": "markdown",
   "metadata": {},
   "source": [
    "The total number of carriers in the conduction band is computed by integrating the carriers for energies > 0"
   ]
  },
  {
   "cell_type": "code",
   "execution_count": 19,
   "metadata": {},
   "outputs": [
    {
     "name": "stdout",
     "output_type": "stream",
     "text": [
      "19200 1.461\n"
     ]
    }
   ],
   "source": [
    "cond_thrs = 0\n",
    "for e in energies:\n",
    "    if e>0:\n",
    "        cond_thrs = energies.index(e)\n",
    "        break\n",
    "print(cond_thrs,energies[cond_thrs])"
   ]
  },
  {
   "cell_type": "markdown",
   "metadata": {},
   "source": [
    "We identify the all the (positive) energy levels removing the degeneracies"
   ]
  },
  {
   "cell_type": "code",
   "execution_count": 20,
   "metadata": {},
   "outputs": [],
   "source": [
    "cond_energies = energies[cond_thrs:]\n",
    "cond_energies = sorted(list(set(cond_energies)))"
   ]
  },
  {
   "cell_type": "markdown",
   "metadata": {},
   "source": [
    "and compute the spin polarization for a given energy level"
   ]
  },
  {
   "cell_type": "code",
   "execution_count": 23,
   "metadata": {},
   "outputs": [
    {
     "name": "stdout",
     "output_type": "stream",
     "text": [
      "1.479 -10.435086418344659\n"
     ]
    }
   ],
   "source": [
    "eng_val = cond_energies[4]\n",
    "indexes = []\n",
    "for ind,e in enumerate(energies):\n",
    "    if e == eng_val:\n",
    "        indexes.append(ind)\n",
    "#print(len(indexes))\n",
    "#print(indexes)\n",
    "up_bin = sum(carriers_up[slice(indexes[0],indexes[-1]+1)])\n",
    "dn_bin = sum(carriers_dn[slice(indexes[0],indexes[-1]+1)])\n",
    "delta = (up_bin-dn_bin)/(up_bin+dn_bin)*100\n",
    "print(eng_val,delta)"
   ]
  },
  {
   "cell_type": "markdown",
   "metadata": {},
   "source": [
    "We investigate how the spin polarization for each energy level emerges. In other terms we compute the polarization\n",
    "of all the states that contribute to a given energy"
   ]
  },
  {
   "cell_type": "code",
   "execution_count": 24,
   "metadata": {},
   "outputs": [],
   "source": [
    "up_bins = carriers_up[slice(indexes[0],indexes[-1]+1)]\n",
    "dn_bins = carriers_dn[slice(indexes[0],indexes[-1]+1)]"
   ]
  },
  {
   "cell_type": "code",
   "execution_count": 26,
   "metadata": {
    "scrolled": false
   },
   "outputs": [
    {
     "name": "stdout",
     "output_type": "stream",
     "text": [
      "39.11016125898582\n",
      "-39.12023460410557\n",
      "87.84202265303527\n",
      "-87.84790740140784\n",
      "-87.84790740140784\n",
      "87.84202265303527\n",
      "-25.298484782703074\n",
      "-25.298484782703074\n",
      "25.339839665388634\n",
      "25.339839665388634\n",
      "39.11016125898582\n",
      "-39.08450704225352\n",
      "-39.08450704225352\n",
      "39.11016125898582\n",
      "-87.84790740140784\n",
      "87.84202265303527\n",
      "87.84202265303527\n",
      "-87.84790740140784\n",
      "-25.325464329109533\n",
      "-25.325464329109533\n",
      "25.339839665388634\n",
      "25.339839665388634\n",
      "-39.08450704225352\n",
      "39.11016125898582\n",
      "-39.08450704225352\n",
      "39.11016125898582\n",
      "-87.84790740140784\n",
      "87.84202265303527\n",
      "87.84202265303527\n",
      "-87.84790740140784\n",
      "25.339839665388634\n",
      "25.339839665388634\n",
      "-25.325464329109533\n",
      "-25.325464329109533\n",
      "-39.12023460410557\n",
      "39.11016125898582\n",
      "39.11016125898582\n",
      "-39.12023460410557\n",
      "87.84202265303527\n",
      "-87.84790740140784\n",
      "-87.84790740140784\n",
      "87.84202265303527\n",
      "25.339839665388634\n",
      "25.339839665388634\n",
      "-25.298484782703074\n",
      "-25.298484782703074\n",
      "39.11016125898582\n",
      "-39.12023460410557\n"
     ]
    },
    {
     "data": {
      "image/png": "[encoded data removed]",
      "text/plain": [
       "<Figure size 432x288 with 1 Axes>"
      ]
     },
     "metadata": {
      "needs_background": "light"
     },
     "output_type": "display_data"
    }
   ],
   "source": [
    "ind = 1\n",
    "for up,dn in zip(up_bins,dn_bins): \n",
    "     print((up-dn)/(up+dn)*100)\n",
    "     plt.scatter(ind,(up-dn)/(up+dn)*100)\n",
    "     ind+=1"
   ]
  },
  {
   "cell_type": "markdown",
   "metadata": {},
   "source": [
    "We plot the (integrated inside each level) polarization for all the energies"
   ]
  },
  {
   "cell_type": "code",
   "execution_count": 27,
   "metadata": {},
   "outputs": [],
   "source": [
    "spin_pol = []\n",
    "for eng_val in cond_energies:\n",
    "    indexes = []\n",
    "    for ind,e in enumerate(energies):\n",
    "        if e == eng_val:\n",
    "            indexes.append(ind)\n",
    "    #print(len(indexes))\n",
    "    up_bin = sum(carriers_up[slice(indexes[0],indexes[-1]+1)])\n",
    "    dn_bin = sum(carriers_dn[slice(indexes[0],indexes[-1]+1)])\n",
    "    spin_pol.append((up_bin-dn_bin)/(up_bin+dn_bin)*100)  \n"
   ]
  },
  {
   "cell_type": "code",
   "execution_count": 28,
   "metadata": {},
   "outputs": [
    {
     "data": {
      "text/plain": [
       "<matplotlib.collections.PathCollection at 0x7f26ceba9358>"
      ]
     },
     "execution_count": 28,
     "metadata": {},
     "output_type": "execute_result"
    },
    {
     "data": {
      "image/png": "[encoded data removed]",
      "text/plain": [
       "<Figure size 432x288 with 1 Axes>"
      ]
     },
     "metadata": {
      "needs_background": "light"
     },
     "output_type": "display_data"
    }
   ],
   "source": [
    "plt.scatter(cond_energies,spin_pol)"
   ]
  },
  {
   "cell_type": "markdown",
   "metadata": {},
   "source": [
    "## k = 8x8x8 - low intensity - no commutator"
   ]
  },
  {
   "cell_type": "code",
   "execution_count": 59,
   "metadata": {},
   "outputs": [],
   "source": [
    "data_dir = 'rt_k8_low-int_no-commutator/FixSymm'\n",
    "last_time = '240.000'"
   ]
  },
  {
   "cell_type": "code",
   "execution_count": 60,
   "metadata": {},
   "outputs": [],
   "source": [
    "# circular polarization spanning a given frequencies range\n",
    "freq_range =[1.418,1.55]\n",
    "# linear polarization for a single frequency\n",
    "lin_freq = 1.55\n",
    "# reversed circular polarization for a single frequency\n",
    "reversed_circ_freq = 1.55"
   ]
  },
  {
   "cell_type": "markdown",
   "metadata": {},
   "source": [
    "We compute the total number of electrons in the conduction band, for a given frequency, (at the last simulation time) for each spin polarization"
   ]
  },
  {
   "cell_type": "code",
   "execution_count": 68,
   "metadata": {},
   "outputs": [
    {
     "name": "stdout",
     "output_type": "stream",
     "text": [
      "frequency =  1.418\n"
     ]
    }
   ],
   "source": [
    "f = freq_range[0]\n",
    "print('frequency = ',f)\n",
    "file_tot = data_dir+'/ypp_freq_%s-pol_circular/o-freq_%s-pol_circular.YPP-RT_occupations_DATA'%(f,f)\n",
    "file_up = data_dir+'/ypp_freq_%s-pol_circular/o-freq_%s-pol_circular.YPP-RT_occupations_up_DATA'%(f,f)\n",
    "file_dn = data_dir+'/ypp_freq_%s-pol_circular/o-freq_%s-pol_circular.YPP-RT_occupations_dn_DATA'%(f,f)\n",
    "data_tot = C.dict_parser(file_tot)\n",
    "data_up = C.dict_parser(file_up)\n",
    "data_dn = C.dict_parser(file_dn)"
   ]
  },
  {
   "cell_type": "code",
   "execution_count": 69,
   "metadata": {},
   "outputs": [],
   "source": [
    "energies = data_tot['E']\n",
    "carriers_up = data_up[last_time]\n",
    "carriers_dn = data_dn[last_time]\n",
    "carriers_tot = data_tot[last_time]"
   ]
  },
  {
   "cell_type": "code",
   "execution_count": 70,
   "metadata": {},
   "outputs": [
    {
     "data": {
      "text/plain": [
       "(-0.0005, 0.0005)"
      ]
     },
     "execution_count": 70,
     "metadata": {},
     "output_type": "execute_result"
    },
    {
     "data": {
      "image/png": "[encoded data removed]",
      "text/plain": [
       "<Figure size 432x288 with 1 Axes>"
      ]
     },
     "metadata": {
      "needs_background": "light"
     },
     "output_type": "display_data"
    }
   ],
   "source": [
    "plt.scatter(energies,carriers_up)\n",
    "plt.scatter(energies,carriers_dn)\n",
    "plt.ylim((-0.0005,0.0005))"
   ]
  },
  {
   "cell_type": "markdown",
   "metadata": {},
   "source": [
    "See how the spin polarization emerges at E=1.418"
   ]
  },
  {
   "cell_type": "code",
   "execution_count": 71,
   "metadata": {},
   "outputs": [
    {
     "name": "stdout",
     "output_type": "stream",
     "text": [
      "[2044, 2045, 2046, 2047] [2048, 2049]\n"
     ]
    }
   ],
   "source": [
    "val_indexes = []\n",
    "cond_indexes = []\n",
    "\n",
    "for ind,e in enumerate(energies):\n",
    "    if e == 0.0:\n",
    "        val_indexes.append(ind)\n",
    "\n",
    "for ind,e in enumerate(energies):\n",
    "    if e == 1.418:\n",
    "        cond_indexes.append(ind)\n",
    "\n",
    "print(val_indexes,cond_indexes)"
   ]
  },
  {
   "cell_type": "code",
   "execution_count": 72,
   "metadata": {},
   "outputs": [],
   "source": [
    "val_up  = [carriers_up[i] for i in val_indexes]\n",
    "val_dn  = [carriers_dn[i] for i in val_indexes]\n",
    "cond_up  = [carriers_up[i] for i in cond_indexes]\n",
    "cond_dn  = [carriers_dn[i] for i in cond_indexes]"
   ]
  },
  {
   "cell_type": "code",
   "execution_count": 73,
   "metadata": {},
   "outputs": [
    {
     "name": "stdout",
     "output_type": "stream",
     "text": [
      "42.877179982533676 23.493351562327724\n"
     ]
    }
   ],
   "source": [
    "sum_cond_up = sum(cond_up)\n",
    "sum_cond_dn = sum(cond_dn)\n",
    "spin_pol_cond = (sum_cond_up-sum_cond_dn)/(sum_cond_up+sum_cond_dn)*100\n",
    "sum_val_up = sum(val_up)\n",
    "sum_val_dn = sum(val_dn)\n",
    "spin_pol_val = (sum_val_up-sum_val_dn)/(sum_val_up+sum_val_dn)*100\n",
    "print(spin_pol_cond,spin_pol_val)"
   ]
  }
 ],
 "metadata": {
  "kernelspec": {
   "display_name": "Python 3",
   "language": "python",
   "name": "python3"
  },
  "language_info": {
   "codemirror_mode": {
    "name": "ipython",
    "version": 3
   },
   "file_extension": ".py",
   "mimetype": "text/x-python",
   "name": "python",
   "nbconvert_exporter": "python",
   "pygments_lexer": "ipython3",
   "version": "3.5.3"
  }
 },
 "nbformat": 4,
 "nbformat_minor": 2
}
