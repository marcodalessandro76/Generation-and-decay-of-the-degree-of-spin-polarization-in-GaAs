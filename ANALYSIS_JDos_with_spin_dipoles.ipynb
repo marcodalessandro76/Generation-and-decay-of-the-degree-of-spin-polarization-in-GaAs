{
 "cells": [
  {
   "cell_type": "code",
   "execution_count": 3,
   "metadata": {},
   "outputs": [],
   "source": [
    "from netCDF4 import Dataset\n",
    "\n",
    "from mppi import InputFiles as I, Calculators as C, Datasets as D, Utilities as U, Parsers as P\n",
    "import matplotlib.pyplot as plt\n",
    "import numpy as np"
   ]
  },
  {
   "cell_type": "markdown",
   "metadata": {},
   "source": [
    "Analysis of the JDos including the spin dipoles. \n",
    "\n",
    "We use the results of 50 kpoints close to $\\Gamma$."
   ]
  },
  {
   "cell_type": "code",
   "execution_count": 4,
   "metadata": {},
   "outputs": [
    {
     "name": "stdout",
     "output_type": "stream",
     "text": [
      "Parse file : NSCF/bnds_16-kpoints_50-sampling_random_close_Gamma.save/data-file-schema.xml\n"
     ]
    }
   ],
   "source": [
    "data = P.PwParser('NSCF/bnds_16-kpoints_50-sampling_random_close_Gamma.save/data-file-schema.xml')"
   ]
  },
  {
   "cell_type": "code",
   "execution_count": 5,
   "metadata": {},
   "outputs": [],
   "source": [
    "def get_spin_dipoles(file):\n",
    "    from netCDF4 import Dataset as Ds\n",
    "    import numpy as np\n",
    "    db = Ds(file)\n",
    "    spin = np.array(db.variables['DIP_spin'][0])\n",
    "    return spin\n",
    "\n",
    "def get_spin_weight(spin,kpoint,band1,band2,component):\n",
    "    value = spin[kpoint][band1][band2][component]\n",
    "    return value[0]**2+value[1]**2"
   ]
  },
  {
   "cell_type": "code",
   "execution_count": 6,
   "metadata": {},
   "outputs": [],
   "source": [
    "spin = get_spin_dipoles('RT_k50/FixSymm/dephase_0.002-freq_1.5-int_1000.0-simTime_10000/ndb.dipoles')"
   ]
  },
  {
   "cell_type": "markdown",
   "metadata": {},
   "source": [
    "We build the cc' transitions (in meV)"
   ]
  },
  {
   "cell_type": "code",
   "execution_count": 7,
   "metadata": {},
   "outputs": [
    {
     "name": "stdout",
     "output_type": "stream",
     "text": [
      "Apply a scissor of 0.5456147497318283 eV\n"
     ]
    }
   ],
   "source": [
    "transitions = 1e3*data.get_transitions(set_gap=1.42,initial=[8,9],final=[8,9])"
   ]
  },
  {
   "cell_type": "code",
   "execution_count": 8,
   "metadata": {},
   "outputs": [],
   "source": [
    "weights = data.weights"
   ]
  },
  {
   "cell_type": "markdown",
   "metadata": {},
   "source": [
    "We substitute the weigths with the values of the dipoles matrix elements"
   ]
  },
  {
   "cell_type": "code",
   "execution_count": 9,
   "metadata": {},
   "outputs": [
    {
     "name": "stdout",
     "output_type": "stream",
     "text": [
      "37.664034048129025\n"
     ]
    }
   ],
   "source": [
    "weights_spin = []\n",
    "norm = 0.\n",
    "for k in range(len(transitions)):\n",
    "    value = get_spin_weight(spin,k,4,5,2)\n",
    "    weights_spin.append([value])\n",
    "    norm+=value\n",
    "print(norm)\n",
    "weights_spin = np.array(weights_spin)/norm"
   ]
  },
  {
   "cell_type": "code",
   "execution_count": 10,
   "metadata": {},
   "outputs": [
    {
     "data": {
      "text/plain": [
       "array([0.02190377])"
      ]
     },
     "execution_count": 10,
     "metadata": {},
     "output_type": "execute_result"
    }
   ],
   "source": [
    "weights_spin[0]"
   ]
  },
  {
   "cell_type": "code",
   "execution_count": 25,
   "metadata": {},
   "outputs": [],
   "source": [
    "dos = U.Dos()\n",
    "eta = 0.01\n",
    "dos.append_fromPwData(transitions,weights_spin,minVal=-4,maxVal=4,eta=eta,label='spin')\n",
    "dos.append_fromPwData(transitions,weights,minVal=-4,maxVal=4,eta=eta,label='original')"
   ]
  },
  {
   "cell_type": "code",
   "execution_count": 28,
   "metadata": {},
   "outputs": [
    {
     "data": {
      "text/plain": [
       "<matplotlib.legend.Legend at 0x7f469e949898>"
      ]
     },
     "execution_count": 28,
     "metadata": {},
     "output_type": "execute_result"
    },
    {
     "data": {
      "image/png": "[encoded data removed]",
      "text/plain": [
       "<Figure size 432x288 with 1 Axes>"
      ]
     },
     "metadata": {
      "needs_background": "light"
     },
     "output_type": "display_data"
    }
   ],
   "source": [
    "dos.plot(plt)\n",
    "plt.yticks([])\n",
    "plt.legend()"
   ]
  },
  {
   "cell_type": "code",
   "execution_count": null,
   "metadata": {},
   "outputs": [],
   "source": []
  },
  {
   "cell_type": "code",
   "execution_count": null,
   "metadata": {},
   "outputs": [],
   "source": []
  },
  {
   "cell_type": "code",
   "execution_count": null,
   "metadata": {},
   "outputs": [],
   "source": []
  },
  {
   "cell_type": "code",
   "execution_count": null,
   "metadata": {},
   "outputs": [],
   "source": []
  },
  {
   "cell_type": "code",
   "execution_count": null,
   "metadata": {},
   "outputs": [],
   "source": []
  },
  {
   "cell_type": "code",
   "execution_count": null,
   "metadata": {},
   "outputs": [],
   "source": []
  },
  {
   "cell_type": "code",
   "execution_count": null,
   "metadata": {},
   "outputs": [],
   "source": []
  },
  {
   "cell_type": "code",
   "execution_count": null,
   "metadata": {},
   "outputs": [],
   "source": []
  },
  {
   "cell_type": "code",
   "execution_count": null,
   "metadata": {},
   "outputs": [],
   "source": []
  },
  {
   "cell_type": "code",
   "execution_count": null,
   "metadata": {},
   "outputs": [],
   "source": []
  },
  {
   "cell_type": "code",
   "execution_count": null,
   "metadata": {},
   "outputs": [],
   "source": []
  },
  {
   "cell_type": "code",
   "execution_count": 26,
   "metadata": {},
   "outputs": [
    {
     "name": "stdout",
     "output_type": "stream",
     "text": [
      "0 0.8249843737385644\n",
      "1 0.829829394822116\n",
      "2 0.9945823594358749\n",
      "3 0.9982242037606943\n",
      "4 0.9843228806019876\n",
      "5 0.32574932841435883\n",
      "6 0.9831181188631667\n",
      "7 0.28185171791338604\n",
      "8 0.4383215618151055\n",
      "9 0.9528665073240621\n",
      "10 0.4664649769421026\n",
      "11 0.9973963412927128\n",
      "12 0.768886028214664\n",
      "13 0.7611999357876915\n",
      "14 0.8104570776633915\n",
      "15 0.9708042680373675\n",
      "16 0.9243076426073948\n",
      "17 0.9966559535789306\n",
      "18 0.8170618087389324\n",
      "19 0.9619514800736384\n",
      "20 0.7973016503119503\n",
      "21 0.9995826330176425\n",
      "22 0.8737579499214142\n",
      "23 0.8376061414193077\n",
      "24 0.998913293068361\n",
      "25 0.9116591618799763\n",
      "26 0.9975051166524032\n",
      "27 0.6737624543349339\n",
      "28 0.9915884301426892\n",
      "29 0.4952859798164144\n",
      "30 0.15472669885623508\n",
      "31 0.741590159429057\n",
      "32 0.864460666088015\n",
      "33 0.9862076778928117\n",
      "34 0.9654665237944486\n",
      "35 0.4573945691871646\n",
      "36 0.9834300145424669\n",
      "37 0.41977823846972323\n",
      "38 0.9962943387386181\n",
      "39 0.47769169810317874\n",
      "40 0.736424082749148\n",
      "41 0.5267899906141718\n",
      "42 0.8557683914036749\n",
      "43 0.24910168570565283\n",
      "44 0.8577266990590724\n",
      "45 0.46467672645881286\n",
      "46 0.6490145152657127\n",
      "47 0.6161372342526533\n",
      "48 0.3900383539789619\n",
      "49 0.6053170133482172\n"
     ]
    }
   ],
   "source": [
    "for k in range(50):\n",
    "    print(k,get_spin_weight(spin,k,4,5,2))"
   ]
  },
  {
   "cell_type": "code",
   "execution_count": 27,
   "metadata": {},
   "outputs": [
    {
     "name": "stdout",
     "output_type": "stream",
     "text": [
      "50 0.9945823594358748\n",
      "51 0.9945823594358745\n",
      "52 0.9945823594358751\n",
      "53 0.5967348527589483\n",
      "54 0.5967348527589478\n",
      "55 0.5967348527589481\n",
      "56 0.596734852758948\n",
      "57 0.4013389910305044\n",
      "58 0.4013389910305044\n",
      "59 0.4013389910305044\n",
      "60 0.40133899103050447\n",
      "61 0.9945823594358748\n",
      "62 0.9945823594358751\n",
      "63 0.9945823594358751\n",
      "64 0.9945823594358749\n",
      "65 0.5967348119082213\n",
      "66 0.5967348119082211\n",
      "67 0.5967348119082214\n",
      "68 0.5967348119082214\n",
      "69 0.4013389635560082\n",
      "70 0.4013389635560082\n",
      "71 0.4013389635560082\n",
      "72 0.4013389635560081\n",
      "73 0.9945823594358747\n",
      "74 0.9945823594358746\n",
      "75 0.9945823594358745\n",
      "76 0.9945823594358751\n",
      "77 0.5967348527589483\n",
      "78 0.5967348527589478\n",
      "79 0.5967348527589482\n",
      "80 0.596734852758948\n",
      "81 0.4013389910305044\n",
      "82 0.4013389910305044\n",
      "83 0.40133899103050436\n",
      "84 0.4013389910305044\n",
      "85 0.9945823594358748\n",
      "86 0.9945823594358754\n",
      "87 0.9945823594358749\n",
      "88 0.9945823594358749\n",
      "89 0.5967348119082213\n",
      "90 0.5967348119082211\n",
      "91 0.5967348119082213\n",
      "92 0.5967348119082214\n",
      "93 0.4013389635560082\n",
      "94 0.4013389635560081\n",
      "95 0.4013389635560082\n",
      "96 0.4013389635560082\n",
      "97 0.829829394822116\n",
      "98 0.9982242037606945\n",
      "99 0.9982242037606942\n"
     ]
    }
   ],
   "source": [
    "for k in range(50,100):\n",
    "    print(k,get_spin_weight(spin,k,4,5,2))"
   ]
  },
  {
   "cell_type": "code",
   "execution_count": null,
   "metadata": {},
   "outputs": [],
   "source": []
  },
  {
   "cell_type": "code",
   "execution_count": null,
   "metadata": {},
   "outputs": [],
   "source": []
  },
  {
   "cell_type": "code",
   "execution_count": null,
   "metadata": {},
   "outputs": [],
   "source": []
  },
  {
   "cell_type": "code",
   "execution_count": null,
   "metadata": {},
   "outputs": [],
   "source": []
  },
  {
   "cell_type": "code",
   "execution_count": null,
   "metadata": {},
   "outputs": [],
   "source": []
  },
  {
   "cell_type": "code",
   "execution_count": null,
   "metadata": {},
   "outputs": [],
   "source": []
  },
  {
   "cell_type": "code",
   "execution_count": null,
   "metadata": {},
   "outputs": [],
   "source": []
  },
  {
   "cell_type": "code",
   "execution_count": null,
   "metadata": {},
   "outputs": [],
   "source": []
  },
  {
   "cell_type": "code",
   "execution_count": null,
   "metadata": {},
   "outputs": [],
   "source": []
  },
  {
   "cell_type": "code",
   "execution_count": null,
   "metadata": {},
   "outputs": [],
   "source": [
    "#######################################################################################"
   ]
  },
  {
   "cell_type": "code",
   "execution_count": 2,
   "metadata": {},
   "outputs": [],
   "source": [
    "file = 'RT_k50/FixSymm/dephase_0.002-freq_1.5-int_1000.0-simTime_10000/ndb.dipoles'"
   ]
  },
  {
   "cell_type": "code",
   "execution_count": 3,
   "metadata": {},
   "outputs": [],
   "source": [
    "database = Dataset(file)"
   ]
  },
  {
   "cell_type": "code",
   "execution_count": 4,
   "metadata": {},
   "outputs": [
    {
     "data": {
      "text/plain": [
       "<class 'netCDF4._netCDF4.Dataset'>\n",
       "root group (NETCDF4 data model, file format HDF5):\n",
       "    dimensions(sizes): D_0000000003(3), D_0000000001(1), D_0000000002(2), D_0000000004(4), D_0000000011(11), D_0000000100(100), D_0000000006(6), D_0000002317(2317)\n",
       "    variables(dimensions): float64 \u001b[4mHEAD_VERSION\u001b[0m(D_0000000003), float64 \u001b[4mHEAD_REVISION\u001b[0m(D_0000000001), float64 \u001b[4mSERIAL_NUMBER\u001b[0m(D_0000000001), float64 \u001b[4mSPIN_VARS\u001b[0m(D_0000000002), float64 \u001b[4mHEAD_R_LATT\u001b[0m(D_0000000004), float64 \u001b[4mHEAD_WF\u001b[0m(D_0000000001), float64 \u001b[4mFRAGMENTED\u001b[0m(D_0000000001), float64 \u001b[4mTEMPERATURES\u001b[0m(D_0000000002), float64 \u001b[4mPARS\u001b[0m(D_0000000011), |S1 \u001b[4mAPPROACH\u001b[0m(D_0000000001,D_0000000100), |S1 \u001b[4mKINDS\u001b[0m(D_0000000001,D_0000000100), |S1 \u001b[4mWAVE_FUNC_XC\u001b[0m(D_0000000001,D_0000000100), float64 \u001b[4mDIP_iR\u001b[0m(D_0000000001,D_0000002317,D_0000000006,D_0000000006,D_0000000003,D_0000000002), float64 \u001b[4mDIP_P\u001b[0m(D_0000000001,D_0000002317,D_0000000006,D_0000000006,D_0000000003,D_0000000002), float64 \u001b[4mDIP_v\u001b[0m(D_0000000001,D_0000002317,D_0000000006,D_0000000006,D_0000000003,D_0000000002), float64 \u001b[4mDIP_itinerant\u001b[0m(D_0000000001,D_0000002317,D_0000000006,D_0000000006,D_0000000003,D_0000000002), float64 \u001b[4mDIP_orbital\u001b[0m(D_0000000001,D_0000002317,D_0000000006,D_0000000006,D_0000000003,D_0000000002), float64 \u001b[4mDIP_spin\u001b[0m(D_0000000001,D_0000002317,D_0000000006,D_0000000006,D_0000000003,D_0000000002), float64 \u001b[4mDIP_P_spinor\u001b[0m(D_0000002317,D_0000000006,D_0000000006,D_0000000002,D_0000000002,D_0000000003,D_0000000002), float64 \u001b[4mP_square\u001b[0m(D_0000000001,D_0000002317,D_0000000006,D_0000000006,D_0000000002)\n",
       "    groups: "
      ]
     },
     "execution_count": 4,
     "metadata": {},
     "output_type": "execute_result"
    }
   ],
   "source": [
    "database"
   ]
  },
  {
   "cell_type": "code",
   "execution_count": 26,
   "metadata": {},
   "outputs": [],
   "source": [
    "spin = np.array(database.variables['DIP_spin'][0])"
   ]
  },
  {
   "cell_type": "code",
   "execution_count": 28,
   "metadata": {},
   "outputs": [
    {
     "data": {
      "text/plain": [
       "2317"
      ]
     },
     "execution_count": 28,
     "metadata": {},
     "output_type": "execute_result"
    }
   ],
   "source": [
    "len(spin)"
   ]
  },
  {
   "cell_type": "markdown",
   "metadata": {},
   "source": [
    "First index runs over the kpoints"
   ]
  },
  {
   "cell_type": "code",
   "execution_count": 29,
   "metadata": {},
   "outputs": [],
   "source": [
    "spin0 = spin[0]"
   ]
  },
  {
   "cell_type": "code",
   "execution_count": 39,
   "metadata": {},
   "outputs": [
    {
     "data": {
      "text/plain": [
       "array([[-0.90824229,  0.        ],\n",
       "       [-0.00896178,  0.        ],\n",
       "       [ 0.41834869,  0.        ]])"
      ]
     },
     "execution_count": 39,
     "metadata": {},
     "output_type": "execute_result"
    }
   ],
   "source": [
    "spin0[4][4]"
   ]
  },
  {
   "cell_type": "markdown",
   "metadata": {},
   "source": [
    "Second and third indeces label the bands. Then the fourth gives the cartesian component of the spin operator (real and imaginary part)"
   ]
  },
  {
   "cell_type": "code",
   "execution_count": 50,
   "metadata": {},
   "outputs": [
    {
     "data": {
      "text/plain": [
       "0.9082905066111834"
      ]
     },
     "execution_count": 50,
     "metadata": {},
     "output_type": "execute_result"
    }
   ],
   "source": [
    "np.sqrt(1-0.41834**2)"
   ]
  },
  {
   "cell_type": "code",
   "execution_count": 35,
   "metadata": {},
   "outputs": [
    {
     "data": {
      "text/plain": [
       "array([0.32904217, 0.51040803])"
      ]
     },
     "execution_count": 35,
     "metadata": {},
     "output_type": "execute_result"
    }
   ],
   "source": [
    "spin0[1][0][2] "
   ]
  },
  {
   "cell_type": "code",
   "execution_count": 42,
   "metadata": {},
   "outputs": [],
   "source": [
    "def get_spin_dipoles(file):\n",
    "    from netCDF4 import Dataset as Ds\n",
    "    import numpy as np\n",
    "    db = Ds(file)\n",
    "    spin = np.array(db.variables['DIP_spin'][0])\n",
    "    return spin\n",
    "\n",
    "def get_spin_weight(spin,kpoint,band1,band2,component):\n",
    "    value = spin[kpoint][band1][band2][component]\n",
    "    return value[0]**2+value[1]**2\n",
    "    "
   ]
  },
  {
   "cell_type": "code",
   "execution_count": 43,
   "metadata": {},
   "outputs": [],
   "source": [
    "spin = get_spin_dipoles(file)"
   ]
  },
  {
   "cell_type": "code",
   "execution_count": 48,
   "metadata": {},
   "outputs": [
    {
     "data": {
      "text/plain": [
       "0.17501562442545757"
      ]
     },
     "execution_count": 48,
     "metadata": {},
     "output_type": "execute_result"
    }
   ],
   "source": [
    "get_spin_weight(spin,0,5,5,2)"
   ]
  },
  {
   "cell_type": "code",
   "execution_count": null,
   "metadata": {},
   "outputs": [],
   "source": []
  },
  {
   "cell_type": "code",
   "execution_count": null,
   "metadata": {},
   "outputs": [],
   "source": []
  },
  {
   "cell_type": "code",
   "execution_count": null,
   "metadata": {},
   "outputs": [],
   "source": []
  },
  {
   "cell_type": "code",
   "execution_count": null,
   "metadata": {},
   "outputs": [],
   "source": []
  },
  {
   "cell_type": "code",
   "execution_count": 9,
   "metadata": {},
   "outputs": [],
   "source": [
    "dipole = database.variables['DIP_iR']"
   ]
  },
  {
   "cell_type": "code",
   "execution_count": 10,
   "metadata": {},
   "outputs": [
    {
     "data": {
      "text/plain": [
       "<class 'netCDF4._netCDF4.Variable'>\n",
       "float64 DIP_iR(D_0000000001, D_0000002317, D_0000000006, D_0000000006, D_0000000003, D_0000000002)\n",
       "unlimited dimensions: \n",
       "current shape = (1, 2317, 6, 6, 3, 2)\n",
       "filling on, default _FillValue of 9.969209968386869e+36 used"
      ]
     },
     "execution_count": 10,
     "metadata": {},
     "output_type": "execute_result"
    }
   ],
   "source": [
    "dipole"
   ]
  },
  {
   "cell_type": "code",
   "execution_count": 11,
   "metadata": {},
   "outputs": [
    {
     "data": {
      "text/plain": [
       "(<class 'netCDF4._netCDF4.Dimension'>: name = 'D_0000000001', size = 1,\n",
       " <class 'netCDF4._netCDF4.Dimension'>: name = 'D_0000002317', size = 2317,\n",
       " <class 'netCDF4._netCDF4.Dimension'>: name = 'D_0000000006', size = 6,\n",
       " <class 'netCDF4._netCDF4.Dimension'>: name = 'D_0000000006', size = 6,\n",
       " <class 'netCDF4._netCDF4.Dimension'>: name = 'D_0000000003', size = 3,\n",
       " <class 'netCDF4._netCDF4.Dimension'>: name = 'D_0000000002', size = 2)"
      ]
     },
     "execution_count": 11,
     "metadata": {},
     "output_type": "execute_result"
    }
   ],
   "source": [
    "dipole.get_dims()"
   ]
  },
  {
   "cell_type": "code",
   "execution_count": 21,
   "metadata": {},
   "outputs": [
    {
     "data": {
      "text/plain": [
       "2317"
      ]
     },
     "execution_count": 21,
     "metadata": {},
     "output_type": "execute_result"
    }
   ],
   "source": [
    "len(spin[0])"
   ]
  },
  {
   "cell_type": "code",
   "execution_count": 18,
   "metadata": {},
   "outputs": [
    {
     "data": {
      "text/plain": [
       "masked_array(\n",
       "  data=[[[-3.91236287e-02,  0.00000000e+00],\n",
       "         [ 1.68119540e-01,  0.00000000e+00],\n",
       "         [-1.12339436e-01,  0.00000000e+00]],\n",
       "\n",
       "        [[ 5.08714499e-02, -1.81420595e-02],\n",
       "         [-1.00663449e-01,  1.47588337e-01],\n",
       "         [ 3.29042165e-01, -5.10408031e-01]],\n",
       "\n",
       "        [[ 5.43022930e-01,  3.97778898e-01],\n",
       "         [-3.67185945e-01,  1.83465705e-02],\n",
       "         [-1.34402208e-01,  1.09264423e-01]],\n",
       "\n",
       "        [[-1.82092737e-01, -2.09934544e-01],\n",
       "         [ 2.38428517e-02,  7.09869843e-01],\n",
       "         [-6.31110797e-02,  1.29113903e-01]],\n",
       "\n",
       "        [[ 4.69151450e-09,  1.18658471e-08],\n",
       "         [ 1.01686105e-09,  2.95734571e-09],\n",
       "         [-3.90542309e-08,  2.90878725e-08]],\n",
       "\n",
       "        [[-5.56002516e-08, -6.61255973e-08],\n",
       "         [-3.46689768e-08, -6.79876339e-08],\n",
       "         [ 7.68076240e-10,  1.85526928e-08]]],\n",
       "  mask=False,\n",
       "  fill_value=1e+20)"
      ]
     },
     "execution_count": 18,
     "metadata": {},
     "output_type": "execute_result"
    }
   ],
   "source": [
    "lenspin[0][0][:][0]"
   ]
  },
  {
   "cell_type": "code",
   "execution_count": null,
   "metadata": {},
   "outputs": [],
   "source": []
  },
  {
   "cell_type": "code",
   "execution_count": null,
   "metadata": {},
   "outputs": [],
   "source": []
  },
  {
   "cell_type": "code",
   "execution_count": null,
   "metadata": {},
   "outputs": [],
   "source": []
  },
  {
   "cell_type": "code",
   "execution_count": null,
   "metadata": {},
   "outputs": [],
   "source": []
  },
  {
   "cell_type": "code",
   "execution_count": null,
   "metadata": {},
   "outputs": [],
   "source": []
  }
 ],
 "metadata": {
  "kernelspec": {
   "display_name": "Python 3",
   "language": "python",
   "name": "python3"
  },
  "language_info": {
   "codemirror_mode": {
    "name": "ipython",
    "version": 3
   },
   "file_extension": ".py",
   "mimetype": "text/x-python",
   "name": "python",
   "nbconvert_exporter": "python",
   "pygments_lexer": "ipython3",
   "version": "3.5.3"
  }
 },
 "nbformat": 4,
 "nbformat_minor": 2
}
