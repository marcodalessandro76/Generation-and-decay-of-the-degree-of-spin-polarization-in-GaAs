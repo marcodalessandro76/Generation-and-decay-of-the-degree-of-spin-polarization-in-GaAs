{
 "cells": [
  {
   "cell_type": "code",
   "execution_count": 31,
   "metadata": {},
   "outputs": [],
   "source": [
    "import numpy as np\n",
    "import os\n",
    "import matplotlib.pyplot as plt\n",
    "from mppi import InputFiles as I, Calculators as C, Datasets as D"
   ]
  },
  {
   "cell_type": "code",
   "execution_count": 32,
   "metadata": {},
   "outputs": [],
   "source": [
    "omp = 1\n",
    "mpi_run = 'mpirun -np 8'"
   ]
  },
  {
   "cell_type": "markdown",
   "metadata": {},
   "source": [
    "# Nscf on a grid - Ypp bands"
   ]
  },
  {
   "cell_type": "markdown",
   "metadata": {},
   "source": [
    "In this nb we perform (several) nscf computation on a regular grid and reproduce the ks bands using ypp. In this way we can perform a check on the dimension of the k grid that will be used in the subsequent yambo real time computations. \n",
    "\n",
    "This framework allows us also to use yambo scissor to open the ks band-gap.\n",
    "\n",
    "We also include the presence of a shift in the k-points sampling. We will then compare the ip absorption spectrum obtained with the various sampling the understand which sampling is needed to obtain reliable results in the RT analysis"
   ]
  },
  {
   "cell_type": "markdown",
   "metadata": {},
   "source": [
    "## Nscf on a regular grid"
   ]
  },
  {
   "cell_type": "markdown",
   "metadata": {},
   "source": [
    "We define the basic elements of the input"
   ]
  },
  {
   "cell_type": "code",
   "execution_count": 33,
   "metadata": {},
   "outputs": [],
   "source": [
    "input = I.PwIn()\n",
    "Ga = [0.,0.,0.]\n",
    "As = [0.25,0.25,0.25]\n",
    "\n",
    "input.set_pseudo_dir('../pseudos')\n",
    "input.set_calculation('nscf')\n",
    "\n",
    "input.set_occupations('fixed')\n",
    "input.system['ibrav'] = 2\n",
    "input.system['celldm(1)'] = 10.677\n",
    "input.system['noncolin'] = '.true'\n",
    "input.system['lspinorb'] = '.true'\n",
    "input.set_atoms_type(2)\n",
    "input.set_atoms_number(2)\n",
    "input.set_atoms_position(pos_type='crystal',pos_list=[['Ga',Ga],['As',As]])\n",
    "input.atypes = {'Ga': [69.72,'Ga_rel.pz-rrkj3.UPF'],\\\n",
    "                'As': [74.92,'As_rel.pz-rrkj3.UPF']}\n",
    "input.set_convergence_thr(1e-8)"
   ]
  },
  {
   "cell_type": "markdown",
   "metadata": {},
   "source": [
    "On this basis of the gs_convergence analysis previously performed we choose the scf converged parameters:"
   ]
  },
  {
   "cell_type": "code",
   "execution_count": 34,
   "metadata": {},
   "outputs": [],
   "source": [
    "k_conv = 6\n",
    "ecut_conv = 80"
   ]
  },
  {
   "cell_type": "markdown",
   "metadata": {},
   "source": [
    "and we perform the nscf computations using a number of bands given by:"
   ]
  },
  {
   "cell_type": "code",
   "execution_count": 35,
   "metadata": {},
   "outputs": [],
   "source": [
    "numBands = 40"
   ]
  },
  {
   "cell_type": "code",
   "execution_count": 36,
   "metadata": {},
   "outputs": [
    {
     "name": "stdout",
     "output_type": "stream",
     "text": [
      "Initialize a qe calculator with command OMP_NUM_THREADS=1 mpirun -np 8 pw.x\n"
     ]
    }
   ],
   "source": [
    "code = C.QeCalculator(omp=omp,mpi_run=mpi_run,executable='pw.x',verbose=True,skip=True)"
   ]
  },
  {
   "cell_type": "markdown",
   "metadata": {},
   "source": [
    "We perform nscf computation on grids of various dimensions. The simulations are organized in a dataset"
   ]
  },
  {
   "cell_type": "code",
   "execution_count": 7,
   "metadata": {},
   "outputs": [],
   "source": [
    "nscf_kvalues = [4,6,8,10,12]"
   ]
  },
  {
   "cell_type": "code",
   "execution_count": 8,
   "metadata": {},
   "outputs": [],
   "source": [
    "bnds_study = D.Dataset(label='nscf',run_dir='nscf',pre_processing='nscf')"
   ]
  },
  {
   "cell_type": "code",
   "execution_count": 9,
   "metadata": {},
   "outputs": [],
   "source": [
    "input.system['nbnd'] = numBands\n",
    "for k  in nscf_kvalues:\n",
    "    idd = {'bnds' : numBands, 'kpoints' : k} \n",
    "    input.set_prefix(D.name_from_id(idd))\n",
    "    input.set_energy_cutoff(ecut_conv)\n",
    "    input.set_kpoints(ktype='automatic',kpoints=[k,k,k])\n",
    "    bnds_study.append_run(id=idd,calculator=code,input=input)"
   ]
  },
  {
   "cell_type": "markdown",
   "metadata": {},
   "source": [
    "Apply the pre-processing"
   ]
  },
  {
   "cell_type": "code",
   "execution_count": 10,
   "metadata": {},
   "outputs": [],
   "source": [
    "source = 'gs_convergence/ecut_%s-k_%s.save'%(ecut_conv,k_conv)"
   ]
  },
  {
   "cell_type": "code",
   "execution_count": 11,
   "metadata": {},
   "outputs": [
    {
     "name": "stdout",
     "output_type": "stream",
     "text": [
      "Create folder nscf\n",
      "execute :  cp -r gs_convergence/ecut_80-k_6.save nscf/bnds_40-kpoints_4.save\n",
      "execute :  cp -r gs_convergence/ecut_80-k_6.save nscf/bnds_40-kpoints_6.save\n",
      "execute :  cp -r gs_convergence/ecut_80-k_6.save nscf/bnds_40-kpoints_8.save\n",
      "execute :  cp -r gs_convergence/ecut_80-k_6.save nscf/bnds_40-kpoints_10.save\n",
      "execute :  cp -r gs_convergence/ecut_80-k_6.save nscf/bnds_40-kpoints_12.save\n"
     ]
    }
   ],
   "source": [
    "bnds_study.pre_processing_function(source_dir=source)"
   ]
  },
  {
   "cell_type": "code",
   "execution_count": 12,
   "metadata": {},
   "outputs": [
    {
     "name": "stdout",
     "output_type": "stream",
     "text": [
      "execute : cd nscf ; OMP_NUM_THREADS=1 mpirun -np 8 pw.x -inp bnds_40-kpoints_4.in > bnds_40-kpoints_4.log\n",
      "parse file : nscf/bnds_40-kpoints_4.save/data-file-schema.xml\n",
      "execute : cd nscf ; OMP_NUM_THREADS=1 mpirun -np 8 pw.x -inp bnds_40-kpoints_6.in > bnds_40-kpoints_6.log\n",
      "parse file : nscf/bnds_40-kpoints_6.save/data-file-schema.xml\n",
      "execute : cd nscf ; OMP_NUM_THREADS=1 mpirun -np 8 pw.x -inp bnds_40-kpoints_8.in > bnds_40-kpoints_8.log\n",
      "parse file : nscf/bnds_40-kpoints_8.save/data-file-schema.xml\n",
      "execute : cd nscf ; OMP_NUM_THREADS=1 mpirun -np 8 pw.x -inp bnds_40-kpoints_10.in > bnds_40-kpoints_10.log\n",
      "parse file : nscf/bnds_40-kpoints_10.save/data-file-schema.xml\n",
      "execute : cd nscf ; OMP_NUM_THREADS=1 mpirun -np 8 pw.x -inp bnds_40-kpoints_12.in > bnds_40-kpoints_12.log\n",
      "parse file : nscf/bnds_40-kpoints_12.save/data-file-schema.xml\n"
     ]
    }
   ],
   "source": [
    "bnds_study.run()"
   ]
  },
  {
   "cell_type": "markdown",
   "metadata": {},
   "source": [
    "We also perform some computations with shifted grids"
   ]
  },
  {
   "cell_type": "code",
   "execution_count": 37,
   "metadata": {},
   "outputs": [],
   "source": [
    "numBands = 40\n",
    "nscf_kvalues = [8,10,12]\n",
    "s = [1,1,1]"
   ]
  },
  {
   "cell_type": "code",
   "execution_count": 38,
   "metadata": {},
   "outputs": [],
   "source": [
    "shift = D.Dataset(label='nscf',run_dir='nscf',pre_processing='nscf')"
   ]
  },
  {
   "cell_type": "code",
   "execution_count": 39,
   "metadata": {},
   "outputs": [],
   "source": [
    "input.system['nbnd'] = numBands\n",
    "for k  in nscf_kvalues:\n",
    "    idd = {'bnds' : numBands, 'kpoints' : k, 'shift' : 1} \n",
    "    input.set_prefix(D.name_from_id(idd))\n",
    "    input.set_energy_cutoff(ecut_conv)\n",
    "    input.set_kpoints(ktype='automatic',kpoints=[k,k,k],shiftk=s)\n",
    "    shift.append_run(id=idd,calculator=code,input=input)"
   ]
  },
  {
   "cell_type": "code",
   "execution_count": 40,
   "metadata": {},
   "outputs": [
    {
     "name": "stdout",
     "output_type": "stream",
     "text": [
      "Folder nscf already exists\n",
      "nscf .save folder exsists. gs_convergence/ecut_80-k_6.save not copied\n",
      "nscf .save folder exsists. gs_convergence/ecut_80-k_6.save not copied\n",
      "execute :  cp -r gs_convergence/ecut_80-k_6.save nscf/bnds_40-kpoints_12-shift_1.save\n"
     ]
    }
   ],
   "source": [
    "source = 'gs_convergence/ecut_%s-k_%s.save'%(ecut_conv,k_conv)\n",
    "shift.pre_processing_function(source_dir=source)"
   ]
  },
  {
   "cell_type": "code",
   "execution_count": 41,
   "metadata": {},
   "outputs": [
    {
     "name": "stdout",
     "output_type": "stream",
     "text": [
      "skip the computation for : bnds_40-kpoints_8-shift_1.in\n",
      "parse file : nscf/bnds_40-kpoints_8-shift_1.save/data-file-schema.xml\n",
      "skip the computation for : bnds_40-kpoints_10-shift_1.in\n",
      "parse file : nscf/bnds_40-kpoints_10-shift_1.save/data-file-schema.xml\n",
      "execute : cd nscf ; OMP_NUM_THREADS=1 mpirun -np 8 pw.x -inp bnds_40-kpoints_12-shift_1.in > bnds_40-kpoints_12-shift_1.log\n",
      "parse file : nscf/bnds_40-kpoints_12-shift_1.save/data-file-schema.xml\n"
     ]
    }
   ],
   "source": [
    "shift.run()"
   ]
  },
  {
   "cell_type": "markdown",
   "metadata": {},
   "source": [
    "## Ypp bands"
   ]
  },
  {
   "cell_type": "markdown",
   "metadata": {},
   "source": [
    "The band structure can be extracted from the nscf computation on a grid using ypp. \n",
    "\n",
    "For each choice of the nscf .save folder we have a different dataset (each of which will be composed by only one computation)"
   ]
  },
  {
   "cell_type": "code",
   "execution_count": 18,
   "metadata": {},
   "outputs": [
    {
     "name": "stdout",
     "output_type": "stream",
     "text": [
      "Initialize a Yambo calculator with command OMP_NUM_THREADS=1 mpirun -np 1 ypp\n",
      "Suffix for post_processing :  bands_interpolated\n"
     ]
    }
   ],
   "source": [
    "code = C.YamboCalculator(omp=1,mpi_run='mpirun -np 1',executable='ypp',suffix='bands_interpolated',skip=False)"
   ]
  },
  {
   "cell_type": "markdown",
   "metadata": {},
   "source": [
    "We organize the various datasets in a dictionary (is it possible to build a high hierarchy dataset?)"
   ]
  },
  {
   "cell_type": "code",
   "execution_count": 19,
   "metadata": {},
   "outputs": [
    {
     "name": "stdout",
     "output_type": "stream",
     "text": [
      "Create folder ypp_bands_k8\n",
      "execute :  cd nscf/bnds_40-kpoints_8.save;p2y -a 2\n",
      "execute :  cp -r nscf/bnds_40-kpoints_8.save/SAVE ypp_bands_k8\n",
      "execute :  cd ypp_bands_k8;OMP_NUM_THREADS=1 yambo\n",
      "Create folder ypp_bands_k10\n",
      "execute :  cd nscf/bnds_40-kpoints_10.save;p2y -a 2\n",
      "execute :  cp -r nscf/bnds_40-kpoints_10.save/SAVE ypp_bands_k10\n",
      "execute :  cd ypp_bands_k10;OMP_NUM_THREADS=1 yambo\n"
     ]
    }
   ],
   "source": [
    "nscf_kvalues = [4,6,8,10,12] # to set the values for the non shifted grids\n",
    "\n",
    "ypp = {}\n",
    "for k in nscf_kvalues:\n",
    "    string = 'ypp_bands_k%s'%k\n",
    "    study = D.Dataset(label=string,run_dir=string,pre_processing='yambo')\n",
    "    source = 'nscf/bnds_40-kpoints_%s.save'%k\n",
    "    study.pre_processing_function(source_dir=source)\n",
    "    ypp[k] = study"
   ]
  },
  {
   "cell_type": "markdown",
   "metadata": {},
   "source": [
    "We build the input file and append the run to each dataset. The parameters of the path are given as"
   ]
  },
  {
   "cell_type": "code",
   "execution_count": 20,
   "metadata": {},
   "outputs": [],
   "source": [
    "# in alat\n",
    "G = [0.,0.,0.]\n",
    "X = [1.,0.,0.]\n",
    "L = [0.5,0.5,0.5]\n",
    "W = [1.0,0.5,0.]\n",
    "path = [L,G,X,W]\n",
    "\n",
    "band_range = [1,12]\n",
    "bands_step = 50"
   ]
  },
  {
   "cell_type": "code",
   "execution_count": 21,
   "metadata": {},
   "outputs": [
    {
     "name": "stdout",
     "output_type": "stream",
     "text": [
      "execute :  cd ypp_bands_k8; ypp -s b -V all  -F ypp.in\n",
      "execute :  cd ypp_bands_k10; ypp -s b -V all  -F ypp.in\n"
     ]
    }
   ],
   "source": [
    "for k in ypp:\n",
    "    ypp_input = I.YppIn('ypp -s b -V all ',folder=ypp[k].run_dir)\n",
    "    input = ypp_input.getInput()\n",
    "    # scissor\n",
    "    input['GfnQP_E'] = [1.0,1.0,1.0]\n",
    "    # band structure\n",
    "    input['BANDS_steps'] = bands_step\n",
    "    input['BANDS_bands'] = band_range\n",
    "    input['BANDS_kpts'] = path\n",
    "    input['cooIn'] = 'alat'\n",
    "    input['cooOut'] = 'alat'\n",
    "    \n",
    "    idd = {'ypp_bands_k' : k}\n",
    "    ypp[k].append_run(id=idd,calculator=code,input=ypp_input)"
   ]
  },
  {
   "cell_type": "markdown",
   "metadata": {},
   "source": [
    "We can run all the datasets"
   ]
  },
  {
   "cell_type": "code",
   "execution_count": 22,
   "metadata": {},
   "outputs": [
    {
     "name": "stdout",
     "output_type": "stream",
     "text": [
      "execute :  cd ypp_bands_k8; ypp -s b -V all  -F ypp_bands_k_8.in\n",
      "execute : cd ypp_bands_k8 ; OMP_NUM_THREADS=1 mpirun -np 1 ypp -F ypp_bands_k_8.in -J ypp_bands_k_8 -C ypp_bands_k_8\n",
      "parse file : ypp_bands_k8/ypp_bands_k_8/o-ypp_bands_k_8.bands_interpolated\n",
      "execute :  cd ypp_bands_k10; ypp -s b -V all  -F ypp_bands_k_10.in\n",
      "execute : cd ypp_bands_k10 ; OMP_NUM_THREADS=1 mpirun -np 1 ypp -F ypp_bands_k_10.in -J ypp_bands_k_10 -C ypp_bands_k_10\n",
      "parse file : ypp_bands_k10/ypp_bands_k_10/o-ypp_bands_k_10.bands_interpolated\n"
     ]
    }
   ],
   "source": [
    "for k in ypp:\n",
    "    ypp[k].run()"
   ]
  },
  {
   "cell_type": "markdown",
   "metadata": {},
   "source": [
    "We compare the band structure obtained in the various datasets"
   ]
  },
  {
   "cell_type": "code",
   "execution_count": 23,
   "metadata": {},
   "outputs": [
    {
     "data": {
      "image/png": "[encoded data removed]",
      "text/plain": [
       "<Figure size 432x288 with 1 Axes>"
      ]
     },
     "metadata": {
      "needs_background": "light"
     },
     "output_type": "display_data"
    },
    {
     "data": {
      "image/png": "[encoded data removed]",
      "text/plain": [
       "<Figure size 432x288 with 1 Axes>"
      ]
     },
     "metadata": {
      "needs_background": "light"
     },
     "output_type": "display_data"
    }
   ],
   "source": [
    "for k,y in ypp.items():\n",
    "    kvalues = y.fetch_results(attribute='k')[0]\n",
    "    bands = []\n",
    "    for ind in range(1,13):\n",
    "        bands.append(y.fetch_results(attribute='b%s'%ind)[0])\n",
    "    for bnd in [3,5,7,9,11]:\n",
    "        plt.plot(kvalues,bands[bnd])\n",
    "    plt.title(y.label,size=14)\n",
    "    plt.ylim((-4,6))\n",
    "    plt.show()"
   ]
  },
  {
   "cell_type": "markdown",
   "metadata": {},
   "source": [
    "Comparing this plots we see that the band structure seems (quite) well converged at k=8"
   ]
  },
  {
   "cell_type": "markdown",
   "metadata": {},
   "source": [
    "We can identify the Gamma point on the path and compute the direct band gap for the various cases. The path is the same in all the computations so the identification of Gamma can be done only one time"
   ]
  },
  {
   "cell_type": "code",
   "execution_count": 26,
   "metadata": {},
   "outputs": [
    {
     "data": {
      "text/plain": [
       "43"
      ]
     },
     "execution_count": 26,
     "metadata": {},
     "output_type": "execute_result"
    }
   ],
   "source": [
    "kvalues = ypp[8].fetch_results(attribute='k')[0]\n",
    "for ind,k in enumerate(kvalues):\n",
    "    kx = ypp[8].fetch_results(attribute='k_x')[0][ind]\n",
    "    ky = ypp[8].fetch_results(attribute='k_y')[0][ind]\n",
    "    kz = ypp[8].fetch_results(attribute='k_z')[0][ind]\n",
    "    if kx == 0. and ky == 0. and kz == 0.:\n",
    "        gamma_position = ind\n",
    "gamma_position"
   ]
  },
  {
   "cell_type": "code",
   "execution_count": 27,
   "metadata": {},
   "outputs": [
    {
     "name": "stdout",
     "output_type": "stream",
     "text": [
      "Gap for k =  8  :  1.4181\n",
      "Gap for k =  10  :  1.4180\n"
     ]
    }
   ],
   "source": [
    "for k,y in ypp.items():\n",
    "    kvalues = y.fetch_results(attribute='k')[0]\n",
    "    bands = []\n",
    "    for ind in range(1,13):\n",
    "        bands.append(y.fetch_results(attribute='b%s'%ind)[0])\n",
    "    Delta = bands[8][gamma_position]-bands[7][gamma_position]\n",
    "    print('Gap for k = ',k,' : ','%.4f'%Delta)"
   ]
  },
  {
   "cell_type": "markdown",
   "metadata": {},
   "source": [
    "We can also plot the quantities reported in other files, for instance"
   ]
  },
  {
   "cell_type": "code",
   "execution_count": 28,
   "metadata": {},
   "outputs": [],
   "source": [
    "fname = 'ypp_bands_k8/ypp_bands_k_8/o-ypp_bands_k_8.magnetization_y'"
   ]
  },
  {
   "cell_type": "code",
   "execution_count": 29,
   "metadata": {},
   "outputs": [],
   "source": [
    "res = C.dict_parser(fname)"
   ]
  },
  {
   "cell_type": "code",
   "execution_count": 30,
   "metadata": {},
   "outputs": [
    {
     "data": {
      "image/png": "[encoded data removed]",
      "text/plain": [
       "<Figure size 432x288 with 1 Axes>"
      ]
     },
     "metadata": {
      "needs_background": "light"
     },
     "output_type": "display_data"
    }
   ],
   "source": [
    "kvalues = res['k']\n",
    "bands = []\n",
    "for ind in range(1,13):\n",
    "    b = 'b%s'%ind\n",
    "    bands.append(res[b])\n",
    "for bnd in [7]:\n",
    "    plt.plot(kvalues,bands[bnd])\n",
    "\n",
    "plt.show()"
   ]
  },
  {
   "cell_type": "code",
   "execution_count": null,
   "metadata": {},
   "outputs": [],
   "source": []
  },
  {
   "cell_type": "code",
   "execution_count": null,
   "metadata": {},
   "outputs": [],
   "source": []
  }
 ],
 "metadata": {
  "kernelspec": {
   "display_name": "Python 3",
   "language": "python",
   "name": "python3"
  },
  "language_info": {
   "codemirror_mode": {
    "name": "ipython",
    "version": 3
   },
   "file_extension": ".py",
   "mimetype": "text/x-python",
   "name": "python",
   "nbconvert_exporter": "python",
   "pygments_lexer": "ipython3",
   "version": "3.5.3"
  }
 },
 "nbformat": 4,
 "nbformat_minor": 2
}
