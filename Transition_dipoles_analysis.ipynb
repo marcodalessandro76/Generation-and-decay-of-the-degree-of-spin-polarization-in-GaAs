{
 "cells": [
  {
   "cell_type": "code",
   "execution_count": 1,
   "metadata": {},
   "outputs": [],
   "source": [
    "import numpy as np\n",
    "import os\n",
    "import matplotlib.pyplot as plt\n",
    "from pylab import *\n",
    "from netCDF4 import Dataset\n",
    "#from mppi import InputFiles as I, Calculators as C, Datasets as D"
   ]
  },
  {
   "cell_type": "code",
   "execution_count": 52,
   "metadata": {},
   "outputs": [
    {
     "data": {
      "text/plain": [
       "<class 'netCDF4._netCDF4.Variable'>\n",
       "float32 DIP_iR_k_0004_spin_0001(D_0000000008, D_0000000002, D_0000000003, D_0000000002)\n",
       "unlimited dimensions: \n",
       "current shape = (8, 2, 3, 2)\n",
       "filling on, default _FillValue of 9.969209968386869e+36 used"
      ]
     },
     "execution_count": 52,
     "metadata": {},
     "output_type": "execute_result"
    }
   ],
   "source": [
    "#file = 'ip_spectrum_8/absorption_ip/ndb.dipoles_fragment_1'\n",
    "#file = 'ip_spectrum_100_random/absorption_ip/ndb.dipoles_fragment_1'\n",
    "#file = 'ip_spectrum_gamma-and-close/absorption_ip/ndb.dipoles_fragment_2'\n",
    "file = 'ip_spectrum_gamma-and-close_no-commutator/absorption_ip/ndb.dipoles_fragment_4'\n",
    "dip = Dataset(file)\n",
    "#dip = dip.variables['DIP_P_k_0001_spin_0001']\n",
    "dip = dip.variables['DIP_iR_k_0004_spin_0001']\n",
    "dip"
   ]
  },
  {
   "cell_type": "markdown",
   "metadata": {},
   "source": [
    "The structure of data index is : \n",
    "\n",
    "[valence,conduction,(x,y,x),(real part, imaginary part)"
   ]
  },
  {
   "cell_type": "markdown",
   "metadata": {},
   "source": [
    "We recombine the real and imaginary parts in a complex structure"
   ]
  },
  {
   "cell_type": "code",
   "execution_count": 53,
   "metadata": {},
   "outputs": [],
   "source": [
    "data = dip[:,:,:,0] + 1j*dip[:,:,:,1]"
   ]
  },
  {
   "cell_type": "markdown",
   "metadata": {},
   "source": [
    "We are interested in writing the elements\n",
    "\n",
    "$$\n",
    "M(v,c) = |<v|(x+j*y)|c>|^2\n",
    "$$"
   ]
  },
  {
   "cell_type": "code",
   "execution_count": 54,
   "metadata": {},
   "outputs": [],
   "source": [
    "def M(data,v,c):\n",
    "    mx = data[v,c,1]\n",
    "    my = data[v,c,0]\n",
    "    return abs(mx+1j*my)**2  "
   ]
  },
  {
   "cell_type": "code",
   "execution_count": 55,
   "metadata": {},
   "outputs": [
    {
     "name": "stdout",
     "output_type": "stream",
     "text": [
      "4 0 495.1828062338747\n",
      "4 1 55.53477249359766\n",
      "5 0 209.42419705425613\n",
      "5 1 25.670164417063948\n",
      "6 0 59.05529766387212\n",
      "6 1 501.15082277424153\n",
      "7 0 183.91473182996089\n",
      "7 1 1607.104835049193\n"
     ]
    }
   ],
   "source": [
    "for v in [4,5,6,7]:\n",
    "    for c in [0,1]:\n",
    "        print(v,c,M(data,v,c))"
   ]
  },
  {
   "cell_type": "markdown",
   "metadata": {},
   "source": [
    "The bands for k close to gamma are NOT degenerate in spin...check!"
   ]
  },
  {
   "cell_type": "code",
   "execution_count": 56,
   "metadata": {},
   "outputs": [],
   "source": [
    "val1 = M(data,4,0)+M(data,4,1)+M(data,5,0)+M(data,5,1)"
   ]
  },
  {
   "cell_type": "code",
   "execution_count": 57,
   "metadata": {},
   "outputs": [],
   "source": [
    "val2 = M(data,6,0)+M(data,6,1)+M(data,7,0)+M(data,7,1)"
   ]
  },
  {
   "cell_type": "code",
   "execution_count": 58,
   "metadata": {},
   "outputs": [
    {
     "name": "stdout",
     "output_type": "stream",
     "text": [
      "785.8119401987924 2351.2256873172673\n"
     ]
    }
   ],
   "source": [
    "print(val1,val2)"
   ]
  },
  {
   "cell_type": "code",
   "execution_count": 59,
   "metadata": {},
   "outputs": [
    {
     "data": {
      "text/plain": [
       "2.992097176230818"
      ]
     },
     "execution_count": 59,
     "metadata": {},
     "output_type": "execute_result"
    }
   ],
   "source": [
    "val2/val1"
   ]
  },
  {
   "cell_type": "code",
   "execution_count": 60,
   "metadata": {},
   "outputs": [
    {
     "data": {
      "text/plain": [
       "49.901019145823454"
      ]
     },
     "execution_count": 60,
     "metadata": {},
     "output_type": "execute_result"
    }
   ],
   "source": [
    "(val2-val1)/(val1+val2)*100"
   ]
  },
  {
   "cell_type": "markdown",
   "metadata": {},
   "source": [
    "-12.81008 -12.81008  -0.35665  -0.35665   0.00000   0.00000   0.00000   0.00000\n",
    "  E  0.418007  0.418007"
   ]
  },
  {
   "cell_type": "markdown",
   "metadata": {},
   "source": [
    "-12.81008 -12.81008  -0.35665  -0.35665   0.00000   0.00000   0.00000   0.00000\n",
    "  E  0.418007  0.418007"
   ]
  },
  {
   "cell_type": "code",
   "execution_count": null,
   "metadata": {},
   "outputs": [],
   "source": []
  },
  {
   "cell_type": "code",
   "execution_count": null,
   "metadata": {},
   "outputs": [],
   "source": []
  },
  {
   "cell_type": "code",
   "execution_count": null,
   "metadata": {},
   "outputs": [],
   "source": []
  },
  {
   "cell_type": "code",
   "execution_count": null,
   "metadata": {},
   "outputs": [],
   "source": []
  },
  {
   "cell_type": "code",
   "execution_count": null,
   "metadata": {},
   "outputs": [],
   "source": []
  },
  {
   "cell_type": "code",
   "execution_count": null,
   "metadata": {},
   "outputs": [],
   "source": [
    "################################################################à"
   ]
  }
 ],
 "metadata": {
  "kernelspec": {
   "display_name": "Python 3",
   "language": "python",
   "name": "python3"
  },
  "language_info": {
   "codemirror_mode": {
    "name": "ipython",
    "version": 3
   },
   "file_extension": ".py",
   "mimetype": "text/x-python",
   "name": "python",
   "nbconvert_exporter": "python",
   "pygments_lexer": "ipython3",
   "version": "3.5.3"
  }
 },
 "nbformat": 4,
 "nbformat_minor": 2
}
