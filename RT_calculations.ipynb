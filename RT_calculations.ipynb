{
 "cells": [
  {
   "cell_type": "code",
   "execution_count": 1,
   "metadata": {},
   "outputs": [],
   "source": [
    "import numpy as np\n",
    "import os\n",
    "import matplotlib.pyplot as plt\n",
    "from importlib import reload\n",
    "from mppi import InputFiles as I, Calculators as C, Datasets as D"
   ]
  },
  {
   "cell_type": "code",
   "execution_count": 2,
   "metadata": {},
   "outputs": [],
   "source": [
    "omp = 1\n",
    "mpi_run = 'mpirun -np 16'"
   ]
  },
  {
   "cell_type": "markdown",
   "metadata": {},
   "source": [
    "Choose the source and the  run_dir on the basis of the number of k-points and shift"
   ]
  },
  {
   "cell_type": "code",
   "execution_count": 3,
   "metadata": {},
   "outputs": [],
   "source": [
    "#source = 'nscf/bnds_40-kpoints_4.save'\n",
    "#source = 'nscf/bnds_40-kpoints_8.save'\n",
    "#source = 'nscf/bnds_40-kpoints_12.save'\n",
    "#source = 'nscf/bnds_40-kpoints_8-shift_1.save'\n",
    "#source = 'nscf/bnds_40-kpoints_10-shift_1.save'\n",
    "#source = 'nscf/bnds_40-kpoints_100-sampling_random.save'\n",
    "#source = 'nscf/bnds_40-kpoints_100-sampling_random-sym_no.save'\n",
    "#source = 'nscf/bnds_40-kpoints_6-sampling_reg_grid_gamma-sym_no.save'\n",
    "#source = 'nscf/bnds_40-kpoints_6-sampling_reg_grid_gamma.save'\n",
    "#source = 'nscf/bnds_40-sampling_gamma.save'\n",
    "#source = 'nscf/bnds_40-sampling_gamma_and_shifted_points.save'\n",
    "#source = 'nscf/bnds_40-kpoints_50-sampling_random-5em3-close-gamma.save'\n",
    "source = 'nscf/bnds_40-sampling_shell.save'\n",
    "\n",
    "#run_dir = 'rt_gamma'\n",
    "#run_dir = 'rt_gamma_no-com'\n",
    "#run_dir = 'rt_gamma-and-close'\n",
    "#run_dir = 'rt_gamma-and-close_no-com'\n",
    "#run_dir = 'rt_k100random_no-com'\n",
    "run_dir = 'rt_shell_no-com'\n",
    "#run_dir = 'rt_k100random_width100_no-com'\n",
    "#run_dir = 'rt_k100random_width100_no-com_no-sym'\n",
    "#run_dir = 'rt_k6-reg-close-gamma_width100_no-com_no-sym'\n",
    "#run_dir = 'rt_k6-reg-close-gamma_width100_no-com'"
   ]
  },
  {
   "cell_type": "markdown",
   "metadata": {},
   "source": [
    "## Construction of the FixSymm folder"
   ]
  },
  {
   "cell_type": "markdown",
   "metadata": {},
   "source": [
    "The first step of this procedure is represented by the construction of the Yambo base folder with the SAVE directory. \n",
    "\n",
    "We use the tools of Dataset to build the SAVE folder and choose various folder as source path."
   ]
  },
  {
   "cell_type": "code",
   "execution_count": 4,
   "metadata": {},
   "outputs": [],
   "source": [
    "y_save = D.Dataset(label='y_save',run_dir=run_dir,pre_processing='yambo')"
   ]
  },
  {
   "cell_type": "code",
   "execution_count": 5,
   "metadata": {},
   "outputs": [
    {
     "name": "stdout",
     "output_type": "stream",
     "text": [
      "Create folder rt_shell_no-com\n",
      "execute :  cd nscf/bnds_40-sampling_shell.save;p2y -a 2\n",
      "execute :  cp -r nscf/bnds_40-sampling_shell.save/SAVE rt_shell_no-com\n",
      "execute :  cd rt_shell_no-com;OMP_NUM_THREADS=1 yambo\n"
     ]
    }
   ],
   "source": [
    "y_save.pre_processing_function(source_dir=source)"
   ]
  },
  {
   "cell_type": "raw",
   "metadata": {},
   "source": [
    "The creation of the FixSymm folder is managed as follows. We need to remove the # from the string #RmTimeRev, this procedure is actually performed by hands, but can be implemented as a python function."
   ]
  },
  {
   "cell_type": "code",
   "execution_count": 6,
   "metadata": {},
   "outputs": [
    {
     "name": "stdout",
     "output_type": "stream",
     "text": [
      "execute :  cd rt_shell_no-com; ypp -y -F ypp.in\n",
      "fixsyms\n",
      "Bpsi = 0.000000e+00 deg\n",
      "BField = 0.000000e+00 T\n",
      "% Efield2\n",
      " 0.0 | 1.0 | 0.0 |   \n",
      "%\n",
      "% Efield1\n",
      " 1.0 | 0.0 | 0.0 |   \n",
      "%\n",
      "Btheta = 0.000000e+00 deg\n",
      "\n",
      "execute :  cd rt_shell_no-com; ypp -y -F ypp.in\n"
     ]
    }
   ],
   "source": [
    "ypp_input = I.YppIn('ypp -y',folder=y_save.run_dir)\n",
    "\n",
    "input = ypp_input.getInput()\n",
    "input['Efield1'] = [1.0,0.0,0.0]\n",
    "input['Efield2'] = [0.0,1.0,0.0]\n",
    "print(input)\n",
    "ypp_input.write(y_save.run_dir+'/ypp.in')"
   ]
  },
  {
   "cell_type": "markdown",
   "metadata": {},
   "source": [
    "Build the FixSymm folder and run yambo_rt (without argument) to build the r_setup"
   ]
  },
  {
   "cell_type": "code",
   "execution_count": 7,
   "metadata": {},
   "outputs": [
    {
     "name": "stdout",
     "output_type": "stream",
     "text": [
      "cd rt_shell_no-com; ypp -F ypp.in\n"
     ]
    },
    {
     "data": {
      "text/plain": [
       "0"
      ]
     },
     "execution_count": 7,
     "metadata": {},
     "output_type": "execute_result"
    }
   ],
   "source": [
    "string = 'cd %s; ypp -F ypp.in'%y_save.run_dir\n",
    "print(string)\n",
    "os.system(string)"
   ]
  },
  {
   "cell_type": "code",
   "execution_count": 8,
   "metadata": {},
   "outputs": [
    {
     "name": "stdout",
     "output_type": "stream",
     "text": [
      "cd rt_shell_no-com/FixSymm; yambo_rt\n"
     ]
    },
    {
     "data": {
      "text/plain": [
       "0"
      ]
     },
     "execution_count": 8,
     "metadata": {},
     "output_type": "execute_result"
    }
   ],
   "source": [
    "fixSymmPath = y_save.run_dir+'/FixSymm'\n",
    "string = 'cd %s; yambo_rt'%fixSymmPath\n",
    "print(string)\n",
    "os.system(string)"
   ]
  },
  {
   "cell_type": "markdown",
   "metadata": {},
   "source": [
    "## Real Time Analysis"
   ]
  },
  {
   "cell_type": "markdown",
   "metadata": {},
   "source": [
    "Define the code that will run yambo_rt and the dataset for the rt computations. Note that no pre_processing is nedded for this dataset since the FixSymm folder that contains the rt SAVE is already built.\n",
    "\n",
    "We have performed some tests to set the parameters of the run, in particular : \n",
    "\n",
    "* the damping is needed, without damping the the dN does not follows the shape of the fluence of the field but show a gaussian like behavior.\n",
    "\n",
    "* A convergence test has been performed on the number of RTBands, the actual choice is [5,10], we have checked that increasing this interval produces only a small change in the dN at the end of the NETime"
   ]
  },
  {
   "cell_type": "code",
   "execution_count": 18,
   "metadata": {},
   "outputs": [
    {
     "name": "stdout",
     "output_type": "stream",
     "text": [
      "Initialize a Yambo calculator with command OMP_NUM_THREADS=1 mpirun -np 16 yambo_rt\n",
      "Suffix for post_processing :  carriers\n"
     ]
    }
   ],
   "source": [
    "code = C.YamboCalculator(omp=omp,mpi_run=mpi_run,executable='yambo_rt',suffix='carriers',skip=True)"
   ]
  },
  {
   "cell_type": "code",
   "execution_count": 19,
   "metadata": {},
   "outputs": [
    {
     "name": "stdout",
     "output_type": "stream",
     "text": [
      "rt_shell_no-com/FixSymm\n"
     ]
    }
   ],
   "source": [
    "run_dir_rt = os.path.join(run_dir,'FixSymm')\n",
    "#run_dir_rt = run_dir # if the symmetries are removed at the QE level\n",
    "print(run_dir_rt)"
   ]
  },
  {
   "cell_type": "code",
   "execution_count": 20,
   "metadata": {},
   "outputs": [],
   "source": [
    "yambo_rt = D.Dataset(label='yambo_rt',run_dir=run_dir_rt)"
   ]
  },
  {
   "cell_type": "markdown",
   "metadata": {},
   "source": [
    "Change name to the ns.kb_pp_pwscf database to remove the non local contribution"
   ]
  },
  {
   "cell_type": "code",
   "execution_count": 12,
   "metadata": {},
   "outputs": [
    {
     "name": "stdout",
     "output_type": "stream",
     "text": [
      "mv rt_shell_no-com/FixSymm/SAVE/ns.kb_pp_pwscf rt_shell_no-com/FixSymm/SAVE/ns.kb_pp_pwscf_hide\n"
     ]
    },
    {
     "data": {
      "text/plain": [
       "0"
      ]
     },
     "execution_count": 12,
     "metadata": {},
     "output_type": "execute_result"
    }
   ],
   "source": [
    "db = 'ns.kb_pp_pwscf'\n",
    "src = os.path.join(yambo_rt.run_dir,'SAVE',db)\n",
    "dst = os.path.join(yambo_rt.run_dir,'SAVE',db+'_hide')\n",
    "string = 'mv %s %s'%(src,dst)\n",
    "print(string)\n",
    "os.system(string)"
   ]
  },
  {
   "cell_type": "markdown",
   "metadata": {},
   "source": [
    "We add various runs to the dataset. First of all we define the basic elements of the input file"
   ]
  },
  {
   "cell_type": "code",
   "execution_count": 21,
   "metadata": {},
   "outputs": [],
   "source": [
    "rt_input = I.YamboIn('yambo_rt -n p -v ip -V qp',folder=yambo_rt.run_dir)\n",
    "\n",
    "time_step = 10 #as\n",
    "field_int = 1000.0 #kWLm2\n",
    "field_width = 100 #fs\n",
    "sim_time = 6*field_width\n",
    "rt_bands = [5,10]\n",
    "\n",
    "rt_parameters = {\n",
    "     'Field1_Int'   : [field_int,'kWLm2'],\n",
    "     'Field1_Width' : [field_width,'fs'],\n",
    "     'Field1_kind'  : 'QSSIN',\n",
    "     'RTstep'       : [time_step,'as'],\n",
    "     'NETime'       : [sim_time,'fs'],\n",
    "     'RTBands'      : rt_bands,\n",
    "     'IOtime'       : [[1.0,5.0,1.0],'fs'], # Carriers - GF - output\n",
    "     'GfnQP_Wv'     : [0.05,0.00,0.00],     # Constant damping valence\n",
    "     'GfnQP_Wc'     : [0.05,0.00,0.00],     # Constant damping conduction\n",
    "     'GfnQP_E'      : [1.00, 1.00, 1.00],   # Scissor\n",
    "     'RT_CPU'       : \"%s.1.1.1\"%mpi_run.lstrip('mpirun -np ')\n",
    "}\n",
    "\n",
    "for k,v in rt_parameters.items():\n",
    "    rt_input[k] = v"
   ]
  },
  {
   "cell_type": "code",
   "execution_count": 14,
   "metadata": {},
   "outputs": [],
   "source": [
    "#print(rt_input)"
   ]
  },
  {
   "cell_type": "code",
   "execution_count": 8,
   "metadata": {},
   "outputs": [],
   "source": [
    "# circular polarization spanning a given frequencies range\n",
    "freq_range = [1.25,1.35,1.45,1.55,1.65,1.75,1.85]\n",
    "#freq_range =  [1.55]\n",
    "for f in freq_range:\n",
    "    pars = { 'Field1_Freq'  : [[f,f],'eV'],\n",
    "             'Field1_pol'   : 'circular',\n",
    "             # the two fields reproduce the field used for FixSymm\n",
    "             'Field1_Dir'   : [1.0,0.0,0.0],\n",
    "             'Field1_Dir_circ'   : [0.0,1.0,0.0]\n",
    "    }\n",
    "    for k,v in pars.items():\n",
    "        rt_input[k] = v\n",
    "    idd = {'pol' : 'circular','freq' : f}\n",
    "    yambo_rt.append_run(id=idd,calculator=code,input=rt_input)"
   ]
  },
  {
   "cell_type": "code",
   "execution_count": 9,
   "metadata": {},
   "outputs": [],
   "source": [
    "# linear polarization with freq = 1.55 eV\n",
    "freq = 1.55\n",
    "pars = {\n",
    "     'Field1_Freq'  : [[freq,freq],'eV'],\n",
    "     'Field1_pol'   : 'linear',\n",
    "     'Field1_Dir'   : [1.0,0.0,0.0]\n",
    "}\n",
    "for k,v in pars.items():\n",
    "    rt_input[k] = v\n",
    "idd = {'pol' : 'linear','freq' : freq}\n",
    "yambo_rt.append_run(id=idd,calculator=code,input=rt_input)"
   ]
  },
  {
   "cell_type": "code",
   "execution_count": 10,
   "metadata": {},
   "outputs": [],
   "source": [
    "# circular polarization (reversed) with freq = 1.55 eV\n",
    "freq = 1.55\n",
    "pars = {\n",
    "     'Field1_Freq'  : [[freq,freq],'eV'],\n",
    "     'Field1_pol'   : 'circular',\n",
    "     'Field1_Dir'   : [0.0,1.0,0.0],\n",
    "     'Field1_Dir_circ'   : [1.0,0.0,0.0]\n",
    "}\n",
    "for k,v in pars.items():\n",
    "    rt_input[k] = v\n",
    "idd = {'pol' : 'reversed_circular','freq' : freq}\n",
    "yambo_rt.append_run(id=idd,calculator=code,input=rt_input)"
   ]
  },
  {
   "cell_type": "code",
   "execution_count": 82,
   "metadata": {},
   "outputs": [],
   "source": [
    "# circular polarization (rotated y-> z) with freq = 1.55 eV\n",
    "freq = 1.55\n",
    "pars = {\n",
    "     'Field1_Freq'  : [[freq,freq],'eV'],\n",
    "     'Field1_pol'   : 'circular',\n",
    "     'Field1_Dir'   : [1.0,0.0,0.0],\n",
    "     'Field1_Dir_circ'   : [0.0,0.0,1.0]\n",
    "}\n",
    "for k,v in pars.items():\n",
    "    rt_input[k] = v\n",
    "idd = {'pol' : 'rotated_circular','freq' : freq}\n",
    "yambo_rt.append_run(id=idd,calculator=code,input=rt_input)"
   ]
  },
  {
   "cell_type": "code",
   "execution_count": 12,
   "metadata": {},
   "outputs": [],
   "source": [
    "# 1 pico simulation\n",
    "freq_range =  [1.55]\n",
    "for f in freq_range:\n",
    "    pars = { 'NETime'       : [1000,'fs'],\n",
    "             'Field1_Freq'  : [[f,f],'eV'],\n",
    "             'Field1_pol'   : 'circular',\n",
    "             # the two fields reproduce the field used for FixSymm\n",
    "             'Field1_Dir'   : [1.0,0.0,0.0],\n",
    "             'Field1_Dir_circ'   : [0.0,1.0,0.0]\n",
    "    }\n",
    "    for k,v in pars.items():\n",
    "        rt_input[k] = v\n",
    "    idd = {'pol' : 'circular','freq' : f, 'NETime' : 1000}\n",
    "    yambo_rt.append_run(id=idd,calculator=code,input=rt_input)"
   ]
  },
  {
   "cell_type": "code",
   "execution_count": 22,
   "metadata": {},
   "outputs": [],
   "source": [
    "# 1 pico simulation lower dephase thershold\n",
    "freq_range =  [1.55]\n",
    "for f in freq_range:\n",
    "    pars = { 'NETime'       : [1000,'fs'],\n",
    "             'Field1_Freq'  : [[f,f],'eV'],\n",
    "             'Field1_pol'   : 'circular',\n",
    "             # the two fields reproduce the field used for FixSymm\n",
    "             'Field1_Dir'   : [1.0,0.0,0.0],\n",
    "             'Field1_Dir_circ'   : [0.0,1.0,0.0]\n",
    "    }\n",
    "    for k,v in pars.items():\n",
    "        rt_input[k] = v\n",
    "    idd = {'pol' : 'circular','freq' : f, 'NETime' : 1000, 'thrs' : '1e-5'}\n",
    "    yambo_rt.append_run(id=idd,calculator=code,input=rt_input)"
   ]
  },
  {
   "cell_type": "code",
   "execution_count": 8,
   "metadata": {},
   "outputs": [],
   "source": [
    "# 2 pico simulation\n",
    "freq_range =  [1.55]\n",
    "for f in freq_range:\n",
    "    pars = { 'NETime'       : [2000,'fs'],\n",
    "             'Field1_Freq'  : [[f,f],'eV'],\n",
    "             'Field1_pol'   : 'circular',\n",
    "             # the two fields reproduce the field used for FixSymm\n",
    "             'Field1_Dir'   : [1.0,0.0,0.0],\n",
    "             'Field1_Dir_circ'   : [0.0,1.0,0.0]\n",
    "    }\n",
    "    for k,v in pars.items():\n",
    "        rt_input[k] = v\n",
    "    idd = {'pol' : 'circular','freq' : f, 'NETime' : 2000}\n",
    "    yambo_rt.append_run(id=idd,calculator=code,input=rt_input)"
   ]
  },
  {
   "cell_type": "code",
   "execution_count": 14,
   "metadata": {},
   "outputs": [],
   "source": [
    "# 10 pico simulation - low damping\n",
    "freq_range =  [1.55]\n",
    "for f in freq_range:\n",
    "    pars = { 'NETime'       : [10000,'fs'],\n",
    "             'Field1_Freq'  : [[f,f],'eV'],\n",
    "             'Field1_pol'   : 'circular',\n",
    "             # the two fields reproduce the field used for FixSymm\n",
    "             'Field1_Dir'   : [1.0,0.0,0.0],\n",
    "             'Field1_Dir_circ'   : [0.0,1.0,0.0],\n",
    "             'GfnQP_Wv'     : [0.001,0.00,0.00],     # Constant damping valence\n",
    "             'GfnQP_Wc'     : [0.001,0.00,0.00],     # Constant damping conduction\n",
    "    }\n",
    "    for k,v in pars.items():\n",
    "        rt_input[k] = v\n",
    "    idd = {'pol' : 'circular','freq' : f, 'NETime' : 10000, 'dephase' : '1e-3'}\n",
    "    yambo_rt.append_run(id=idd,calculator=code,input=rt_input)"
   ]
  },
  {
   "cell_type": "code",
   "execution_count": 16,
   "metadata": {},
   "outputs": [],
   "source": [
    "# 1 pico simulation intensity 2000\n",
    "freq_range =  [1.55]\n",
    "for f in freq_range:\n",
    "    pars = { 'Field1_Int'   : [2000.0,'kWLm2'],\n",
    "             'NETime'       : [1000,'fs'],\n",
    "             'Field1_Freq'  : [[f,f],'eV'],\n",
    "             'Field1_pol'   : 'circular',\n",
    "             # the two fields reproduce the field used for FixSymm\n",
    "             'Field1_Dir'   : [1.0,0.0,0.0],\n",
    "             'Field1_Dir_circ'   : [0.0,1.0,0.0]\n",
    "    }\n",
    "    for k,v in pars.items():\n",
    "        rt_input[k] = v\n",
    "    idd = {'pol' : 'circular','freq' : f, 'NETime' : 1000, 'int' : 2000}\n",
    "    yambo_rt.append_run(id=idd,calculator=code,input=rt_input)"
   ]
  },
  {
   "cell_type": "code",
   "execution_count": 23,
   "metadata": {},
   "outputs": [],
   "source": [
    "# 1 pico simulation intensity 100\n",
    "freq_range =  [1.55]\n",
    "for f in freq_range:\n",
    "    pars = { 'Field1_Int'   : [100.0,'kWLm2'],\n",
    "             'NETime'       : [1000,'fs'],\n",
    "             'Field1_Freq'  : [[f,f],'eV'],\n",
    "             'Field1_pol'   : 'circular',\n",
    "             # the two fields reproduce the field used for FixSymm\n",
    "             'Field1_Dir'   : [1.0,0.0,0.0],\n",
    "             'Field1_Dir_circ'   : [0.0,1.0,0.0]\n",
    "    }\n",
    "    for k,v in pars.items():\n",
    "        rt_input[k] = v\n",
    "    idd = {'pol' : 'circular','freq' : f, 'NETime' : 1000, 'int' : 100}\n",
    "    yambo_rt.append_run(id=idd,calculator=code,input=rt_input)"
   ]
  },
  {
   "cell_type": "code",
   "execution_count": 11,
   "metadata": {},
   "outputs": [],
   "source": [
    "# 1 pico simulation low dephase\n",
    "freq_range =  [1.55]\n",
    "for f in freq_range:\n",
    "    pars = { 'NETime'       : [1000,'fs'],\n",
    "             'Field1_Freq'  : [[f,f],'eV'],\n",
    "             'Field1_pol'   : 'circular',\n",
    "             # the two fields reproduce the field used for FixSymm\n",
    "             'Field1_Dir'   : [1.0,0.0,0.0],\n",
    "             'Field1_Dir_circ'   : [0.0,1.0,0.0],\n",
    "             'GfnQP_Wv'     : [0.01,0.00,0.00],     # Constant damping valence\n",
    "             'GfnQP_Wc'     : [0.01,0.00,0.00],     # Constant damping conduction\n",
    "    }\n",
    "    for k,v in pars.items():\n",
    "        rt_input[k] = v\n",
    "    idd = {'pol' : 'circular','freq' : f, 'NETime' : 1000, 'dephase' : 0.01}\n",
    "    yambo_rt.append_run(id=idd,calculator=code,input=rt_input)"
   ]
  },
  {
   "cell_type": "code",
   "execution_count": 23,
   "metadata": {},
   "outputs": [],
   "source": [
    "# 1 pico simulation velocity gauge\n",
    "freq_range =  [1.55]\n",
    "for f in freq_range:\n",
    "    pars = { 'Gauge'        : 'velocity',\n",
    "             'NETime'       : [1000,'fs'],\n",
    "             'Field1_Freq'  : [[f,f],'eV'],\n",
    "             'Field1_pol'   : 'circular',\n",
    "             # the two fields reproduce the field used for FixSymm\n",
    "             'Field1_Dir'   : [1.0,0.0,0.0],\n",
    "             'Field1_Dir_circ'   : [0.0,1.0,0.0],\n",
    "             'GfnQP_Wv'     : [0.05,0.00,0.00],     # Constant damping valence\n",
    "             'GfnQP_Wc'     : [0.05,0.00,0.00],     # Constant damping conduction\n",
    "    }\n",
    "    for k,v in pars.items():\n",
    "        rt_input[k] = v\n",
    "    idd = {'pol' : 'circular','freq' : f, 'NETime' : 1000, 'gauge' : 'velocity'}\n",
    "    yambo_rt.append_run(id=idd,calculator=code,input=rt_input)"
   ]
  },
  {
   "cell_type": "code",
   "execution_count": 23,
   "metadata": {},
   "outputs": [
    {
     "data": {
      "text/plain": [
       "['NETime_1000-freq_1.55-pol_circular-thrs_1e-5']"
      ]
     },
     "execution_count": 23,
     "metadata": {},
     "output_type": "execute_result"
    }
   ],
   "source": [
    "yambo_rt.names"
   ]
  },
  {
   "cell_type": "code",
   "execution_count": 24,
   "metadata": {},
   "outputs": [
    {
     "name": "stdout",
     "output_type": "stream",
     "text": [
      "negf\n",
      "GfnQP_Z = (1.000000,0.000000) \n",
      "GfnQP_N = 1.000000 \n",
      "% GfnQP_Wc\n",
      " 0.05 | 0.0 | 0.0 |   \n",
      "%\n",
      "% Field1_Dir\n",
      " 1.0 | 0.0 | 0.0 |   \n",
      "%\n",
      "Field1_Width = 100 fs\n",
      "GfnQP_Wv_dos = 0.000000e+00 eV\n",
      "HXC_Potential =       'IP'\n",
      "RT_CPU = '16.1.1.1'\n",
      "Field1_kind =    'QSSIN'\n",
      "RTstep = 10 as\n",
      "GfnQP_Wc_dos = 0.000000e+00 eV\n",
      "GfnQP_Wc_E = 0.000000e+00 eV\n",
      "Field1_Tstart = 0.000000e+00 fs\n",
      "% Field1_Freq\n",
      " 1.55 | 1.55 |  eV \n",
      "%\n",
      "Integrator =      'RK2'\n",
      "Field1_Int = 1000.000000 kWLm2\n",
      "% GfnQP_E\n",
      " 1.0 | 1.0 | 1.0 |   \n",
      "%\n",
      "GfnQPdb =     'none'\n",
      "NETime = 1000 fs\n",
      "% RTBands\n",
      " 5 | 10 |   \n",
      "%\n",
      "% GfnQP_Wv\n",
      " 0.05 | 0.0 | 0.0 |   \n",
      "%\n",
      "% Field1_Dir_circ\n",
      " 0.0 | 1.0 | 0.0 |   \n",
      "%\n",
      "Field1_pol = 'circular'\n",
      "RT_Threads = 0.000000e+00 \n",
      "% IOtime\n",
      " 1.0 | 5.0 | 1.0 |  fs \n",
      "%\n",
      "GfnQP_Wv_E = 0.000000e+00 eV\n",
      "\n"
     ]
    }
   ],
   "source": [
    "print(yambo_rt.runs[0])"
   ]
  },
  {
   "cell_type": "code",
   "execution_count": 25,
   "metadata": {},
   "outputs": [
    {
     "name": "stdout",
     "output_type": "stream",
     "text": [
      "execute : cd rt_shell_no-com/FixSymm ; OMP_NUM_THREADS=1 mpirun -np 16 yambo_rt -F NETime_1000-freq_1.55-pol_circular-thrs_1e-5.in -J NETime_1000-freq_1.55-pol_circular-thrs_1e-5 -C NETime_1000-freq_1.55-pol_circular-thrs_1e-5\n",
      "file :  rt_shell_no-com/FixSymm/NETime_1000-freq_1.55-pol_circular-thrs_1e-5/o-NETime_1000-freq_1.55-pol_circular-thrs_1e-5.carriers  not found. Parsing not performed\n"
     ]
    }
   ],
   "source": [
    "yambo_rt.run()"
   ]
  },
  {
   "cell_type": "code",
   "execution_count": 12,
   "metadata": {},
   "outputs": [
    {
     "data": {
      "text/plain": [
       "[{'NETime': 10000, 'dephase': '1e-3', 'freq': 1.55, 'pol': 'circular'}]"
      ]
     },
     "execution_count": 12,
     "metadata": {},
     "output_type": "execute_result"
    }
   ],
   "source": [
    "yambo_rt.ids"
   ]
  },
  {
   "cell_type": "code",
   "execution_count": 13,
   "metadata": {},
   "outputs": [
    {
     "data": {
      "image/png": "[encoded data removed]",
      "text/plain": [
       "<Figure size 432x288 with 1 Axes>"
      ]
     },
     "metadata": {
      "needs_background": "light"
     },
     "output_type": "display_data"
    }
   ],
   "source": [
    "for sim in yambo_rt.results.values():\n",
    "    plt.plot(sim.time,sim.dN_elec)    "
   ]
  },
  {
   "cell_type": "code",
   "execution_count": 14,
   "metadata": {},
   "outputs": [
    {
     "data": {
      "text/plain": [
       "[<matplotlib.lines.Line2D at 0x7fa2c0e06710>]"
      ]
     },
     "execution_count": 14,
     "metadata": {},
     "output_type": "execute_result"
    },
    {
     "data": {
      "image/png": "[encoded data removed]",
      "text/plain": [
       "<Figure size 432x288 with 1 Axes>"
      ]
     },
     "metadata": {
      "needs_background": "light"
     },
     "output_type": "display_data"
    }
   ],
   "source": [
    "res = yambo_rt.results[0]\n",
    "plt.plot(res.time,res.dN_hole)\n",
    "plt.plot(res.time,res.dN_elec)"
   ]
  },
  {
   "cell_type": "markdown",
   "metadata": {},
   "source": [
    "We plot the dN_e at the last simulation time in function of the probe frequency"
   ]
  },
  {
   "cell_type": "code",
   "execution_count": 36,
   "metadata": {},
   "outputs": [
    {
     "data": {
      "text/plain": [
       "(0, 0.005)"
      ]
     },
     "execution_count": 36,
     "metadata": {},
     "output_type": "execute_result"
    },
    {
     "data": {
      "image/png": "[encoded data removed]",
      "text/plain": [
       "<Figure size 432x288 with 1 Axes>"
      ]
     },
     "metadata": {
      "needs_background": "light"
     },
     "output_type": "display_data"
    }
   ],
   "source": [
    "for ind,f in enumerate(freq_range):\n",
    "    res = yambo_rt.results[ind]\n",
    "    plt.scatter(f,res.dN_elec[-1])\n",
    "plt.ylim((0,5e-3))"
   ]
  },
  {
   "cell_type": "markdown",
   "metadata": {},
   "source": [
    "Plot the time dependence of the z component of the magnetization for each pump"
   ]
  },
  {
   "cell_type": "code",
   "execution_count": 15,
   "metadata": {},
   "outputs": [
    {
     "data": {
      "image/png": "[encoded data removed]",
      "text/plain": [
       "<Figure size 432x288 with 1 Axes>"
      ]
     },
     "metadata": {
      "needs_background": "light"
     },
     "output_type": "display_data"
    }
   ],
   "source": [
    "for radical in yambo_rt.names:\n",
    "    mgn_file = os.path.join(run_dir_rt,radical,'o-'+radical+'.spin_magnetization')\n",
    "    mgn = C.dict_parser(mgn_file)\n",
    "    plt.plot(mgn['T'],mgn['Mc_z'],label = radical)\n",
    "plt.legend(loc=(1.1,0.))\n",
    "plt.show()"
   ]
  },
  {
   "cell_type": "code",
   "execution_count": 16,
   "metadata": {},
   "outputs": [
    {
     "name": "stdout",
     "output_type": "stream",
     "text": [
      "NETime_10000-dephase_1e-3-freq_1.55-pol_circular\n"
     ]
    }
   ],
   "source": [
    "radical = yambo_rt.names[0]\n",
    "print(radical)\n",
    "mgn_file = os.path.join(run_dir_rt,radical,'o-'+radical+'.spin_magnetization')\n",
    "mgn = C.dict_parser(mgn_file)"
   ]
  },
  {
   "cell_type": "code",
   "execution_count": 17,
   "metadata": {},
   "outputs": [
    {
     "data": {
      "text/plain": [
       "<matplotlib.legend.Legend at 0x7fa2c0e31be0>"
      ]
     },
     "execution_count": 17,
     "metadata": {},
     "output_type": "execute_result"
    },
    {
     "data": {
      "image/png": "[encoded data removed]",
      "text/plain": [
       "<Figure size 432x288 with 1 Axes>"
      ]
     },
     "metadata": {
      "needs_background": "light"
     },
     "output_type": "display_data"
    }
   ],
   "source": [
    "plt.plot(mgn['T'],mgn['Mc_x'],label = 'x')\n",
    "plt.plot(mgn['T'],mgn['Mc_y'],label = 'y')\n",
    "plt.plot(mgn['T'],mgn['Mc_z'],label = 'z')\n",
    "plt.legend()"
   ]
  },
  {
   "cell_type": "code",
   "execution_count": 26,
   "metadata": {},
   "outputs": [
    {
     "name": "stdout",
     "output_type": "stream",
     "text": [
      "[-3.44217870e-06  1.40353870e-06  4.95285183e-01]\n",
      "49.528518319999996\n"
     ]
    },
    {
     "data": {
      "text/plain": [
       "49.528518321395005"
      ]
     },
     "execution_count": 26,
     "metadata": {},
     "output_type": "execute_result"
    }
   ],
   "source": [
    "final_mgn = np.array([mgn['Mc_x'][-1],mgn['Mc_y'][-1],mgn['Mc_z'][-1]])\n",
    "print(final_mgn)\n",
    "print(mgn['Mc_z'][-1]*100)\n",
    "100.*np.linalg.norm(final_mgn)"
   ]
  },
  {
   "cell_type": "markdown",
   "metadata": {},
   "source": [
    "The time dependence of the spin polarization is strange...check!!!!"
   ]
  },
  {
   "cell_type": "markdown",
   "metadata": {},
   "source": [
    "Plot the polarization"
   ]
  },
  {
   "cell_type": "code",
   "execution_count": 29,
   "metadata": {},
   "outputs": [],
   "source": [
    "radical = yambo_rt.names[0]\n",
    "pol_file = os.path.join(run_dir_rt,radical,'o-'+radical+'.polarization')\n",
    "pol = C.dict_parser(pol_file)"
   ]
  },
  {
   "cell_type": "code",
   "execution_count": 30,
   "metadata": {},
   "outputs": [
    {
     "data": {
      "text/plain": [
       "dict_keys(['Pol_z', 'Pol_y', 'Pol_x', 'time'])"
      ]
     },
     "execution_count": 30,
     "metadata": {},
     "output_type": "execute_result"
    }
   ],
   "source": [
    "pol.keys()"
   ]
  },
  {
   "cell_type": "code",
   "execution_count": 31,
   "metadata": {},
   "outputs": [
    {
     "data": {
      "text/plain": [
       "[<matplotlib.lines.Line2D at 0x7f6a98b890f0>]"
      ]
     },
     "execution_count": 31,
     "metadata": {},
     "output_type": "execute_result"
    },
    {
     "data": {
      "image/png": "[encoded data removed]",
      "text/plain": [
       "<Figure size 432x288 with 1 Axes>"
      ]
     },
     "metadata": {
      "needs_background": "light"
     },
     "output_type": "display_data"
    }
   ],
   "source": [
    "plt.plot(pol['time'],pol['Pol_x'])"
   ]
  },
  {
   "cell_type": "markdown",
   "metadata": {},
   "source": [
    "## ypp post-processing for the rt bands and occupations"
   ]
  },
  {
   "cell_type": "code",
   "execution_count": 32,
   "metadata": {},
   "outputs": [
    {
     "name": "stdout",
     "output_type": "stream",
     "text": [
      "Initialize a Yambo calculator with command OMP_NUM_THREADS=1 mpirun -np 8 ypp_rt\n",
      "Suffix for post_processing :  YPP-RT_occ_bands_iT1\n"
     ]
    }
   ],
   "source": [
    "code = C.YamboCalculator(omp=1,mpi_run='mpirun -np 8',executable='ypp_rt',suffix='YPP-RT_occ_bands_iT1',skip=True)"
   ]
  },
  {
   "cell_type": "code",
   "execution_count": 33,
   "metadata": {},
   "outputs": [],
   "source": [
    "ypp_nob = D.Dataset(label='ypp_nob',run_dir=run_dir_rt)"
   ]
  },
  {
   "cell_type": "code",
   "execution_count": 34,
   "metadata": {},
   "outputs": [
    {
     "name": "stdout",
     "output_type": "stream",
     "text": [
      "delete rt_k100random_width100_no-com/FixSymm/ypp.in\n",
      "execute :  cd rt_k100random_width100_no-com/FixSymm; ypp_rt -n o b -V qp -F ypp.in\n"
     ]
    }
   ],
   "source": [
    "ypp_input = I.YppIn('ypp_rt -n o b -V qp',folder=ypp_nob.run_dir)"
   ]
  },
  {
   "cell_type": "code",
   "execution_count": 35,
   "metadata": {},
   "outputs": [],
   "source": [
    "# The random sampling is performed in a spherical region of diameter 0.1 around Gamma\n",
    "# in alat\n",
    "G = [0.,0.,0.]\n",
    "X_dir = [0.1,0.,0.]\n",
    "L_dir = [0.05,0.05,0.05] # in the direction of L but inside the sampled sphere\n",
    "#W = [1.0,0.5,0.]\n",
    "path = [L_dir,G,X_dir]\n",
    "\n",
    "#band_range = [5,10]\n",
    "bands_step = 50\n",
    "time_step = 100 #fs"
   ]
  },
  {
   "cell_type": "code",
   "execution_count": 36,
   "metadata": {},
   "outputs": [
    {
     "data": {
      "text/plain": [
       "0.08660254037844388"
      ]
     },
     "execution_count": 36,
     "metadata": {},
     "output_type": "execute_result"
    }
   ],
   "source": [
    "np.sqrt(3*0.05**2)"
   ]
  },
  {
   "cell_type": "code",
   "execution_count": 37,
   "metadata": {},
   "outputs": [
    {
     "name": "stdout",
     "output_type": "stream",
     "text": [
      "RealTime\n",
      "RToccupations\n",
      "RTfitbands\n",
      "OutputAlat = 10.677000 \n",
      "% BANDS_kpts\n",
      "0.05 | 0.05 | 0.05 |  \n",
      "0.0 | 0.0 | 0.0 |  \n",
      "0.1 | 0.0 | 0.0 |  \n",
      "%\n",
      "INTERP_Shell_Fac = 20.000000 \n",
      "cooIn =     'alat'\n",
      "CIRCUIT_E_DB_path =     'none'\n",
      "TimeStep = 100 fs\n",
      "NelFac = 1.000000 \n",
      "cooOut =     'alat'\n",
      "% TimeRange\n",
      " 0.0 | 1000.0 |  fs \n",
      "%\n",
      "BANDS_steps = 50 \n",
      "INTERP_mode =       'NN'\n",
      "% INTERP_Grid\n",
      " -1 | -1 | -1 |   \n",
      "%\n",
      "\n"
     ]
    }
   ],
   "source": [
    "input = ypp_input.getInput()\n",
    "input['BANDS_steps'] = bands_step\n",
    "#input['BANDS_bands'] = band_range\n",
    "input['BANDS_kpts'] = path\n",
    "input['cooIn'] = 'alat'\n",
    "input['cooOut'] = 'alat'\n",
    "input['TimeStep'] = [time_step,'fs']\n",
    "input['TimeRange'] = [[0.,1000.],'fs']\n",
    "\n",
    "print(input)"
   ]
  },
  {
   "cell_type": "code",
   "execution_count": 38,
   "metadata": {},
   "outputs": [
    {
     "data": {
      "text/plain": [
       "['NETime_1000-freq_1.55-pol_circular']"
      ]
     },
     "execution_count": 38,
     "metadata": {},
     "output_type": "execute_result"
    }
   ],
   "source": [
    "yambo_rt.names"
   ]
  },
  {
   "cell_type": "code",
   "execution_count": 39,
   "metadata": {},
   "outputs": [],
   "source": [
    "for name in yambo_rt.names: \n",
    "    idd = 'ypp_'+name\n",
    "    ypp_nob.append_run(id=idd,input=ypp_input,calculator=code,jobname=name)"
   ]
  },
  {
   "cell_type": "code",
   "execution_count": 40,
   "metadata": {},
   "outputs": [
    {
     "name": "stdout",
     "output_type": "stream",
     "text": [
      "execute :  cd rt_k100random_width100_no-com/FixSymm; ypp_rt -n o b -V qp -F ypp_NETime_1000-freq_1.55-pol_circular.in\n",
      "execute : cd rt_k100random_width100_no-com/FixSymm ; OMP_NUM_THREADS=1 mpirun -np 8 ypp_rt -F ypp_NETime_1000-freq_1.55-pol_circular.in -J NETime_1000-freq_1.55-pol_circular -C ypp_NETime_1000-freq_1.55-pol_circular\n",
      "parse file : rt_k100random_width100_no-com/FixSymm/ypp_NETime_1000-freq_1.55-pol_circular/o-NETime_1000-freq_1.55-pol_circular.YPP-RT_occ_bands_iT1\n"
     ]
    },
    {
     "ename": "TypeError",
     "evalue": "'in <string>' requires string as left operand, not NoneType",
     "output_type": "error",
     "traceback": [
      "\u001b[0;31m---------------------------------------------------------------------------\u001b[0m",
      "\u001b[0;31mTypeError\u001b[0m                                 Traceback (most recent call last)",
      "\u001b[0;32m<ipython-input-40-065e7633a225>\u001b[0m in \u001b[0;36m<module>\u001b[0;34m\u001b[0m\n\u001b[0;32m----> 1\u001b[0;31m \u001b[0mypp_nob\u001b[0m\u001b[0;34m.\u001b[0m\u001b[0mrun\u001b[0m\u001b[0;34m(\u001b[0m\u001b[0;34m)\u001b[0m\u001b[0;34m\u001b[0m\u001b[0m\n\u001b[0m",
      "\u001b[0;32m~/.local/lib/python3.5/site-packages/mppi-1.0-py3.5.egg/mppi/Datasets/Datasets.py\u001b[0m in \u001b[0;36mrun\u001b[0;34m(self, post_processing)\u001b[0m\n\u001b[1;32m    172\u001b[0m         \u001b[0mExecute\u001b[0m \u001b[0mprocess_run\u001b[0m\u001b[0;34m\u001b[0m\u001b[0m\n\u001b[1;32m    173\u001b[0m         \"\"\"\n\u001b[0;32m--> 174\u001b[0;31m         \u001b[0mself\u001b[0m\u001b[0;34m.\u001b[0m\u001b[0mprocess_run\u001b[0m\u001b[0;34m(\u001b[0m\u001b[0mpost_processing\u001b[0m\u001b[0;34m)\u001b[0m\u001b[0;34m\u001b[0m\u001b[0m\n\u001b[0m\u001b[1;32m    175\u001b[0m \u001b[0;34m\u001b[0m\u001b[0m\n\u001b[1;32m    176\u001b[0m     \u001b[0;32mdef\u001b[0m \u001b[0mfetch_results\u001b[0m\u001b[0;34m(\u001b[0m\u001b[0mself\u001b[0m\u001b[0;34m,\u001b[0m\u001b[0mid\u001b[0m\u001b[0;34m=\u001b[0m\u001b[0;32mNone\u001b[0m\u001b[0;34m,\u001b[0m\u001b[0mattribute\u001b[0m\u001b[0;34m=\u001b[0m\u001b[0;32mNone\u001b[0m\u001b[0;34m)\u001b[0m\u001b[0;34m:\u001b[0m\u001b[0;34m\u001b[0m\u001b[0m\n",
      "\u001b[0;32m~/.local/lib/python3.5/site-packages/mppi-1.0-py3.5.egg/mppi/Datasets/Datasets.py\u001b[0m in \u001b[0;36mprocess_run\u001b[0;34m(self, post_processing)\u001b[0m\n\u001b[1;32m    166\u001b[0m                 \u001b[0mname\u001b[0m\u001b[0;34m=\u001b[0m\u001b[0mself\u001b[0m\u001b[0;34m.\u001b[0m\u001b[0mnames\u001b[0m\u001b[0;34m[\u001b[0m\u001b[0mr\u001b[0m\u001b[0;34m]\u001b[0m\u001b[0;34m\u001b[0m\u001b[0m\n\u001b[1;32m    167\u001b[0m                 \u001b[0mjobname\u001b[0m\u001b[0;34m=\u001b[0m\u001b[0mself\u001b[0m\u001b[0;34m.\u001b[0m\u001b[0mjobnames\u001b[0m\u001b[0;34m[\u001b[0m\u001b[0mr\u001b[0m\u001b[0;34m]\u001b[0m\u001b[0;34m\u001b[0m\u001b[0m\n\u001b[0;32m--> 168\u001b[0;31m                 \u001b[0mself\u001b[0m\u001b[0;34m.\u001b[0m\u001b[0mresults\u001b[0m\u001b[0;34m[\u001b[0m\u001b[0mr\u001b[0m\u001b[0;34m]\u001b[0m \u001b[0;34m=\u001b[0m \u001b[0mcalc\u001b[0m\u001b[0;34m.\u001b[0m\u001b[0mrun\u001b[0m\u001b[0;34m(\u001b[0m\u001b[0minput\u001b[0m\u001b[0;34m=\u001b[0m\u001b[0minput\u001b[0m\u001b[0;34m,\u001b[0m\u001b[0mname\u001b[0m\u001b[0;34m=\u001b[0m\u001b[0mname\u001b[0m\u001b[0;34m,\u001b[0m\u001b[0mjobname\u001b[0m\u001b[0;34m=\u001b[0m\u001b[0mjobname\u001b[0m\u001b[0;34m,\u001b[0m\u001b[0mrun_dir\u001b[0m\u001b[0;34m=\u001b[0m\u001b[0mself\u001b[0m\u001b[0;34m.\u001b[0m\u001b[0mrun_dir\u001b[0m\u001b[0;34m,\u001b[0m\u001b[0mpost_processing\u001b[0m\u001b[0;34m=\u001b[0m\u001b[0mpost_processing\u001b[0m\u001b[0;34m)\u001b[0m\u001b[0;34m\u001b[0m\u001b[0m\n\u001b[0m\u001b[1;32m    169\u001b[0m \u001b[0;34m\u001b[0m\u001b[0m\n\u001b[1;32m    170\u001b[0m     \u001b[0;32mdef\u001b[0m \u001b[0mrun\u001b[0m\u001b[0;34m(\u001b[0m\u001b[0mself\u001b[0m\u001b[0;34m,\u001b[0m\u001b[0mpost_processing\u001b[0m\u001b[0;34m=\u001b[0m\u001b[0;32mTrue\u001b[0m\u001b[0;34m)\u001b[0m\u001b[0;34m:\u001b[0m\u001b[0;34m\u001b[0m\u001b[0m\n",
      "\u001b[0;32m~/.local/lib/python3.5/site-packages/mppi-1.0-py3.5.egg/mppi/Calculators/YamboCalculator.py\u001b[0m in \u001b[0;36mrun\u001b[0;34m(self, run_dir, input, name, jobname, post_processing)\u001b[0m\n\u001b[1;32m    151\u001b[0m         \u001b[0mresults\u001b[0m \u001b[0;34m=\u001b[0m \u001b[0;32mNone\u001b[0m\u001b[0;34m\u001b[0m\u001b[0m\n\u001b[1;32m    152\u001b[0m         \u001b[0;32mif\u001b[0m \u001b[0mpost_processing\u001b[0m\u001b[0;34m:\u001b[0m\u001b[0;34m\u001b[0m\u001b[0m\n\u001b[0;32m--> 153\u001b[0;31m             \u001b[0mresults\u001b[0m \u001b[0;34m=\u001b[0m \u001b[0mself\u001b[0m\u001b[0;34m.\u001b[0m\u001b[0mpost_processing\u001b[0m\u001b[0;34m(\u001b[0m\u001b[0mrun_dir\u001b[0m\u001b[0;34m=\u001b[0m\u001b[0mrun_dir\u001b[0m\u001b[0;34m,\u001b[0m\u001b[0mname\u001b[0m\u001b[0;34m=\u001b[0m\u001b[0mname\u001b[0m\u001b[0;34m,\u001b[0m\u001b[0mjobname\u001b[0m\u001b[0;34m=\u001b[0m\u001b[0mjobname\u001b[0m\u001b[0;34m)\u001b[0m\u001b[0;34m\u001b[0m\u001b[0m\n\u001b[0m\u001b[1;32m    154\u001b[0m         \u001b[0;32mreturn\u001b[0m \u001b[0mresults\u001b[0m\u001b[0;34m\u001b[0m\u001b[0m\n",
      "\u001b[0;32m~/.local/lib/python3.5/site-packages/mppi-1.0-py3.5.egg/mppi/Calculators/YamboCalculator.py\u001b[0m in \u001b[0;36mpost_processing\u001b[0;34m(self, **kwargs)\u001b[0m\n\u001b[1;32m    128\u001b[0m         \u001b[0;32mif\u001b[0m \u001b[0mos\u001b[0m\u001b[0;34m.\u001b[0m\u001b[0mpath\u001b[0m\u001b[0;34m.\u001b[0m\u001b[0misfile\u001b[0m\u001b[0;34m(\u001b[0m\u001b[0moutfile\u001b[0m\u001b[0;34m)\u001b[0m\u001b[0;34m:\u001b[0m\u001b[0;34m\u001b[0m\u001b[0m\n\u001b[1;32m    129\u001b[0m             \u001b[0;32mif\u001b[0m \u001b[0mself\u001b[0m\u001b[0;34m.\u001b[0m\u001b[0mverbose\u001b[0m \u001b[0;34m:\u001b[0m \u001b[0mprint\u001b[0m\u001b[0;34m(\u001b[0m\u001b[0;34m'parse file : '\u001b[0m\u001b[0;34m+\u001b[0m\u001b[0moutfile\u001b[0m\u001b[0;34m)\u001b[0m\u001b[0;34m\u001b[0m\u001b[0m\n\u001b[0;32m--> 130\u001b[0;31m             \u001b[0mresults_dic\u001b[0m \u001b[0;34m=\u001b[0m \u001b[0mdict_parser\u001b[0m\u001b[0;34m(\u001b[0m\u001b[0moutfile\u001b[0m\u001b[0;34m)\u001b[0m\u001b[0;34m\u001b[0m\u001b[0m\n\u001b[0m\u001b[1;32m    131\u001b[0m             \u001b[0mresults\u001b[0m \u001b[0;34m=\u001b[0m \u001b[0mAttributeDict\u001b[0m\u001b[0;34m(\u001b[0m\u001b[0;34m**\u001b[0m\u001b[0mresults_dic\u001b[0m\u001b[0;34m)\u001b[0m\u001b[0;34m\u001b[0m\u001b[0m\n\u001b[1;32m    132\u001b[0m         \u001b[0;32melse\u001b[0m\u001b[0;34m:\u001b[0m\u001b[0;34m\u001b[0m\u001b[0m\n",
      "\u001b[0;32m~/.local/lib/python3.5/site-packages/mppi-1.0-py3.5.egg/mppi/Calculators/YamboParser.py\u001b[0m in \u001b[0;36mdict_parser\u001b[0;34m(fname)\u001b[0m\n\u001b[1;32m     82\u001b[0m     \u001b[0mBuild\u001b[0m \u001b[0ma\u001b[0m \u001b[0mdictionary\u001b[0m \u001b[0;32mfrom\u001b[0m \u001b[0mthe\u001b[0m \u001b[0myambo\u001b[0m \u001b[0moutput\u001b[0m \u001b[0mfile\u001b[0m \u001b[0;32min\u001b[0m \u001b[0mthe\u001b[0m \u001b[0mform\u001b[0m \u001b[0mkey\u001b[0m\u001b[0;34m:\u001b[0m\u001b[0mvalue\u001b[0m\u001b[0;34m.\u001b[0m\u001b[0;34m\u001b[0m\u001b[0m\n\u001b[1;32m     83\u001b[0m     \"\"\"\n\u001b[0;32m---> 84\u001b[0;31m     \u001b[0mkeys\u001b[0m \u001b[0;34m=\u001b[0m \u001b[0m_build_keys\u001b[0m\u001b[0;34m(\u001b[0m\u001b[0mfname\u001b[0m\u001b[0;34m)\u001b[0m\u001b[0;34m\u001b[0m\u001b[0m\n\u001b[0m\u001b[1;32m     85\u001b[0m     \u001b[0mkeys\u001b[0m \u001b[0;34m=\u001b[0m \u001b[0m_clean_keys\u001b[0m\u001b[0;34m(\u001b[0m\u001b[0mkeys\u001b[0m\u001b[0;34m)\u001b[0m\u001b[0;34m\u001b[0m\u001b[0m\n\u001b[1;32m     86\u001b[0m     \u001b[0mlarray\u001b[0m \u001b[0;34m=\u001b[0m \u001b[0m_parserArrayFromFile\u001b[0m\u001b[0;34m(\u001b[0m\u001b[0mfname\u001b[0m\u001b[0;34m)\u001b[0m\u001b[0;34m\u001b[0m\u001b[0m\n",
      "\u001b[0;32m~/.local/lib/python3.5/site-packages/mppi-1.0-py3.5.egg/mppi/Calculators/YamboParser.py\u001b[0m in \u001b[0;36m_build_keys\u001b[0;34m(fname)\u001b[0m\n\u001b[1;32m     56\u001b[0m     \u001b[0;32mwith\u001b[0m \u001b[0mopen\u001b[0m\u001b[0;34m(\u001b[0m\u001b[0mfname\u001b[0m\u001b[0;34m)\u001b[0m \u001b[0;32mas\u001b[0m \u001b[0mf\u001b[0m\u001b[0;34m:\u001b[0m\u001b[0;34m\u001b[0m\u001b[0m\n\u001b[1;32m     57\u001b[0m         \u001b[0;32mfor\u001b[0m \u001b[0ml\u001b[0m \u001b[0;32min\u001b[0m \u001b[0mf\u001b[0m\u001b[0;34m:\u001b[0m\u001b[0;34m\u001b[0m\u001b[0m\n\u001b[0;32m---> 58\u001b[0;31m             \u001b[0;32mif\u001b[0m \u001b[0mhook_string\u001b[0m \u001b[0;32min\u001b[0m \u001b[0ml\u001b[0m \u001b[0;34m:\u001b[0m\u001b[0;34m\u001b[0m\u001b[0m\n\u001b[0m\u001b[1;32m     59\u001b[0m                 \u001b[0mline_keys\u001b[0m \u001b[0;34m=\u001b[0m \u001b[0ml\u001b[0m\u001b[0;34m\u001b[0m\u001b[0m\n\u001b[1;32m     60\u001b[0m                 \u001b[0;32mbreak\u001b[0m\u001b[0;34m\u001b[0m\u001b[0m\n",
      "\u001b[0;31mTypeError\u001b[0m: 'in <string>' requires string as left operand, not NoneType"
     ]
    }
   ],
   "source": [
    "ypp_nob.run()"
   ]
  },
  {
   "cell_type": "markdown",
   "metadata": {},
   "source": [
    "## ypp post-processing for the rt analysis"
   ]
  },
  {
   "cell_type": "markdown",
   "metadata": {},
   "source": [
    "Perform the ypp -n o e post-processing using the rt results as input"
   ]
  },
  {
   "cell_type": "code",
   "execution_count": 27,
   "metadata": {},
   "outputs": [
    {
     "name": "stdout",
     "output_type": "stream",
     "text": [
      "Initialize a Yambo calculator with command OMP_NUM_THREADS=1 mpirun -np 1 ypp_rt\n",
      "Suffix for post_processing :  YPP-RT_occupations_DATA\n"
     ]
    }
   ],
   "source": [
    "code = C.YamboCalculator(omp=1,mpi_run='mpirun -np 1',executable='ypp_rt',suffix='YPP-RT_occupations_DATA',skip=True)"
   ]
  },
  {
   "cell_type": "code",
   "execution_count": 28,
   "metadata": {},
   "outputs": [],
   "source": [
    "ypp_noe = D.Dataset(label='ypp_noe',run_dir=run_dir_rt)"
   ]
  },
  {
   "cell_type": "code",
   "execution_count": 29,
   "metadata": {},
   "outputs": [
    {
     "name": "stdout",
     "output_type": "stream",
     "text": [
      "execute :  cd rt_gamma-and-close_no-com/FixSymm; ypp_rt -n o e -V qp -F ypp.in\n"
     ]
    }
   ],
   "source": [
    "ypp_input = I.YppIn('ypp_rt -n o e -V qp',folder=ypp_noe.run_dir)"
   ]
  },
  {
   "cell_type": "code",
   "execution_count": 30,
   "metadata": {},
   "outputs": [
    {
     "name": "stdout",
     "output_type": "stream",
     "text": [
      "RealTime\n",
      "RToccupations\n",
      "TimeStep = 100 fs\n",
      "% QPerange\n",
      " 1 | 7 | 0.0 | -1.000000 |   \n",
      "%\n",
      "% QPkrange\n",
      " 1 | 7 | 1 | 5 | 10 |   \n",
      "%\n",
      "% TimeRange\n",
      " -1.000000 | -1.000000 |  fs \n",
      "%\n",
      "\n"
     ]
    }
   ],
   "source": [
    "input = ypp_input.getInput()\n",
    "input['QPkrange'][0][3:5] = rt_bands\n",
    "input['TimeStep'][0] = 100 #20\n",
    "print(input)"
   ]
  },
  {
   "cell_type": "markdown",
   "metadata": {},
   "source": [
    "Add the run the dataset. The names of the yambo_rt are given as jobname to the post-processing"
   ]
  },
  {
   "cell_type": "code",
   "execution_count": 31,
   "metadata": {},
   "outputs": [],
   "source": [
    "for name in yambo_rt.names: \n",
    "    idd = 'ypp_'+name\n",
    "    ypp_noe.append_run(id=idd,input=ypp_input,calculator=code,jobname=name)"
   ]
  },
  {
   "cell_type": "code",
   "execution_count": 32,
   "metadata": {},
   "outputs": [
    {
     "name": "stdout",
     "output_type": "stream",
     "text": [
      "execute :  cd rt_gamma-and-close_no-com/FixSymm; ypp_rt -n o e -V qp -F ypp_freq_1.55-pol_circular.in\n",
      "execute : cd rt_gamma-and-close_no-com/FixSymm ; OMP_NUM_THREADS=1 mpirun -np 1 ypp_rt -F ypp_freq_1.55-pol_circular.in -J freq_1.55-pol_circular -C ypp_freq_1.55-pol_circular\n",
      "parse file : rt_gamma-and-close_no-com/FixSymm/ypp_freq_1.55-pol_circular/o-freq_1.55-pol_circular.YPP-RT_occupations_DATA\n",
      "execute :  cd rt_gamma-and-close_no-com/FixSymm; ypp_rt -n o e -V qp -F ypp_freq_1.55-pol_linear.in\n",
      "execute : cd rt_gamma-and-close_no-com/FixSymm ; OMP_NUM_THREADS=1 mpirun -np 1 ypp_rt -F ypp_freq_1.55-pol_linear.in -J freq_1.55-pol_linear -C ypp_freq_1.55-pol_linear\n",
      "parse file : rt_gamma-and-close_no-com/FixSymm/ypp_freq_1.55-pol_linear/o-freq_1.55-pol_linear.YPP-RT_occupations_DATA\n",
      "execute :  cd rt_gamma-and-close_no-com/FixSymm; ypp_rt -n o e -V qp -F ypp_freq_1.55-pol_reversed_circular.in\n",
      "execute : cd rt_gamma-and-close_no-com/FixSymm ; OMP_NUM_THREADS=1 mpirun -np 1 ypp_rt -F ypp_freq_1.55-pol_reversed_circular.in -J freq_1.55-pol_reversed_circular -C ypp_freq_1.55-pol_reversed_circular\n",
      "parse file : rt_gamma-and-close_no-com/FixSymm/ypp_freq_1.55-pol_reversed_circular/o-freq_1.55-pol_reversed_circular.YPP-RT_occupations_DATA\n"
     ]
    }
   ],
   "source": [
    "ypp_noe.run()"
   ]
  },
  {
   "cell_type": "code",
   "execution_count": 33,
   "metadata": {},
   "outputs": [
    {
     "data": {
      "text/plain": [
       "['ypp_freq_1.55-pol_circular',\n",
       " 'ypp_freq_1.55-pol_linear',\n",
       " 'ypp_freq_1.55-pol_reversed_circular']"
      ]
     },
     "execution_count": 33,
     "metadata": {},
     "output_type": "execute_result"
    }
   ],
   "source": [
    "ypp_noe.ids"
   ]
  },
  {
   "cell_type": "markdown",
   "metadata": {},
   "source": [
    "Use the output file for showing the neq occupations"
   ]
  },
  {
   "cell_type": "code",
   "execution_count": 32,
   "metadata": {},
   "outputs": [
    {
     "data": {
      "text/plain": [
       "dict_keys(['E', '240.000', '40.0000', '140.000'])"
      ]
     },
     "execution_count": 32,
     "metadata": {},
     "output_type": "execute_result"
    }
   ],
   "source": [
    "res = ypp_noe.results[0].__dict__\n",
    "res.keys()"
   ]
  },
  {
   "cell_type": "code",
   "execution_count": 76,
   "metadata": {},
   "outputs": [],
   "source": [
    "last_time = '240.000'"
   ]
  },
  {
   "cell_type": "code",
   "execution_count": 77,
   "metadata": {},
   "outputs": [
    {
     "data": {
      "text/plain": [
       "<matplotlib.collections.PathCollection at 0x7f6968708cf8>"
      ]
     },
     "execution_count": 77,
     "metadata": {},
     "output_type": "execute_result"
    },
    {
     "data": {
      "image/png": "[encoded data removed]",
      "text/plain": [
       "<Figure size 432x288 with 1 Axes>"
      ]
     },
     "metadata": {
      "needs_background": "light"
     },
     "output_type": "display_data"
    }
   ],
   "source": [
    "plt.scatter(res['E'],res[last_time])\n",
    "#plt.ylim(-5e-3,5e-3)"
   ]
  },
  {
   "cell_type": "code",
   "execution_count": null,
   "metadata": {},
   "outputs": [],
   "source": []
  }
 ],
 "metadata": {
  "kernelspec": {
   "display_name": "Python 3",
   "language": "python",
   "name": "python3"
  },
  "language_info": {
   "codemirror_mode": {
    "name": "ipython",
    "version": 3
   },
   "file_extension": ".py",
   "mimetype": "text/x-python",
   "name": "python",
   "nbconvert_exporter": "python",
   "pygments_lexer": "ipython3",
   "version": "3.5.3"
  }
 },
 "nbformat": 4,
 "nbformat_minor": 2
}
